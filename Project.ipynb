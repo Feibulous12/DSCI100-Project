{
 "cells": [
  {
   "cell_type": "markdown",
   "metadata": {},
   "source": [
    "# DSCI 100: Group Project\n",
    "\n",
    "## Classification of Facebook Post Type Using Social Media Performance Metrics\n",
    "\n",
    "#### Introduction:\n",
    "\n",
    "The rapid advancement of technology has transformed the business world. Social media platforms have become the best place for businesses to advertise their brands by increasing customer engagement. \n",
    "Our report focuses on the most popular social network worldwide, Facebook, with over 2.7 billion monthly active users (Statista, 2021). \n",
    "\n",
    "The dataset *Facebook performance metrics* (Moro et al., 2016) contains data related to posts published throughout the year 2014 on a renowned cosmetics brand's Facebook page. Post information such as type (photo, status, link, or video), time posted (month, day of week, and hour), user engagement (comments, likes, and shares), impressions on each post (too many columns to list here), and whether the post was paid or unpaid is included in the dataset. \n",
    "\n",
    "This project uses all relevant columns from this dataset to determine the type of a brand's Facebook post. We determine which of these metrics are relevant in our cleaning and exploration of the data. We use our chosen predictors to build a prediction model using the K-nearest neighbour classification algorithm, implemented in the `tidymodels` framework, to predict the type of a post (photo, status, link, or video). \n",
    "\n",
    "## following paragraphs not edited/in the right place, just put here for safe keeping\n",
    "#### Methods:\n",
    "\n",
    "Our analysis will use the following input columns of the original dataset: type `page_likes`, `paid`, `reach`, `engaged_users`, `post_consumers`, `post_consumptions`, `reach_by_people_that_like_page`, and `people_liked_and_engaged`. We will also be using the generated columns `like_ratio`, `share_ratio`, and `engagement_ratio`.\n",
    "\n",
    "To visualize our results, we plan to use a confusion matrix. This will display how often our classification model labels a post correctly, and how often each label gets confused with another. We will also use bar charts to visualize relevant and intermediate results; e.g., we will create a bar chart with post type on the x-axis and interactions on the y-axis, filling out the bars with proportional values of the type of each interaction. As part of the tuning step of creating the model, we can create a line chart to show us the optimal K value. \n",
    "\n",
    "#### Expected outcomes and significance:\n",
    "\n",
    "This analysis hopes to define a relationship between type of post (i.e., photo, status, link, or video) and ratio of the corresponding post’s interaction type. It is expected that videos and photos, for example, may have higher percentages of interactions that are comments and/or likes when compared to a link or status.\n",
    "\n",
    "This classification application for labeling a post’s type could be helpful in identifying the types of reactions that a post might receive. It is possible that we find images get the most likes, while statuses get the most comments. Knowing how these metrics indicate the type could lead to better targeted ad campaigns that look for a certain type of user engagement.\n",
    "\n",
    "## end of part that is not edited\n"
   ]
  },
  {
   "cell_type": "markdown",
   "metadata": {},
   "source": [
    "#### Preliminary exploratory data analysis:\n",
    "\n",
    "We begin by loading the relevant libraries. We include `tidymodels` for the KNN classification algorithm, and `GGally` for the ggpairs plotting function. "
   ]
  },
  {
   "cell_type": "code",
   "execution_count": 226,
   "metadata": {},
   "outputs": [],
   "source": [
    "# Load libraries for preliminary data analysis:\n",
    "library(tidyverse)\n",
    "library(repr)\n",
    "library(tidymodels)\n",
    "library(GGally)"
   ]
  },
  {
   "cell_type": "markdown",
   "metadata": {},
   "source": [
    "The following cell loads the dataset into R; as the dataset on the web is contained in a zip folder, the .csv file was manually extracted and pushed to the working Github repository.\n",
    "\n",
    "The dataset is already in tidy format. The column headings were made more usable by removing spaces and shortening longer headings. We find that we have 6 NAs in our data set, so we use `na.omit` function to remove them. In addition, since we are working with `type`, `category`, `post month`, `post weekday`, `post hour`, and `paid` as categorical statistical variables, we convert them to factors using the function `as_factor`. "
   ]
  },
  {
   "cell_type": "code",
   "execution_count": 252,
   "metadata": {},
   "outputs": [
    {
     "name": "stderr",
     "output_type": "stream",
     "text": [
      "Using ',' as decimal and '.' as grouping mark. Use read_delim() for more control.\n",
      "\n"
     ]
    },
    {
     "data": {
      "text/html": [
       "6"
      ],
      "text/latex": [
       "6"
      ],
      "text/markdown": [
       "6"
      ],
      "text/plain": [
       "[1] 6"
      ]
     },
     "metadata": {},
     "output_type": "display_data"
    },
    {
     "data": {
      "text/html": [
       "<table>\n",
       "<caption>A spec_tbl_df: 500 × 19</caption>\n",
       "<thead>\n",
       "\t<tr><th scope=col>Page total likes</th><th scope=col>Type</th><th scope=col>Category</th><th scope=col>Post Month</th><th scope=col>Post Weekday</th><th scope=col>Post Hour</th><th scope=col>Paid</th><th scope=col>Lifetime Post Total Reach</th><th scope=col>Lifetime Post Total Impressions</th><th scope=col>Lifetime Engaged Users</th><th scope=col>Lifetime Post Consumers</th><th scope=col>Lifetime Post Consumptions</th><th scope=col>Lifetime Post Impressions by people who have liked your Page</th><th scope=col>Lifetime Post reach by people who like your Page</th><th scope=col>Lifetime People who have liked your Page and engaged with your post</th><th scope=col>comment</th><th scope=col>like</th><th scope=col>share</th><th scope=col>Total Interactions</th></tr>\n",
       "\t<tr><th scope=col>&lt;dbl&gt;</th><th scope=col>&lt;chr&gt;</th><th scope=col>&lt;dbl&gt;</th><th scope=col>&lt;dbl&gt;</th><th scope=col>&lt;dbl&gt;</th><th scope=col>&lt;dbl&gt;</th><th scope=col>&lt;dbl&gt;</th><th scope=col>&lt;dbl&gt;</th><th scope=col>&lt;dbl&gt;</th><th scope=col>&lt;dbl&gt;</th><th scope=col>&lt;dbl&gt;</th><th scope=col>&lt;dbl&gt;</th><th scope=col>&lt;dbl&gt;</th><th scope=col>&lt;dbl&gt;</th><th scope=col>&lt;dbl&gt;</th><th scope=col>&lt;dbl&gt;</th><th scope=col>&lt;dbl&gt;</th><th scope=col>&lt;dbl&gt;</th><th scope=col>&lt;dbl&gt;</th></tr>\n",
       "</thead>\n",
       "<tbody>\n",
       "\t<tr><td>139441</td><td>Photo </td><td>2</td><td>12</td><td>4</td><td> 3</td><td>0</td><td> 2752</td><td> 5091</td><td> 178</td><td> 109</td><td> 159</td><td> 3078</td><td> 1640</td><td> 119</td><td> 4</td><td>  79</td><td> 17</td><td> 100</td></tr>\n",
       "\t<tr><td>139441</td><td>Status</td><td>2</td><td>12</td><td>3</td><td>10</td><td>0</td><td>10460</td><td>19057</td><td>1457</td><td>1361</td><td>1674</td><td>11710</td><td> 6112</td><td>1108</td><td> 5</td><td> 130</td><td> 29</td><td> 164</td></tr>\n",
       "\t<tr><td>139441</td><td>Photo </td><td>3</td><td>12</td><td>3</td><td> 3</td><td>0</td><td> 2413</td><td> 4373</td><td> 177</td><td> 113</td><td> 154</td><td> 2812</td><td> 1503</td><td> 132</td><td> 0</td><td>  66</td><td> 14</td><td>  80</td></tr>\n",
       "\t<tr><td>139441</td><td>Photo </td><td>2</td><td>12</td><td>2</td><td>10</td><td>1</td><td>50128</td><td>87991</td><td>2211</td><td> 790</td><td>1119</td><td>61027</td><td>32048</td><td>1386</td><td>58</td><td>1572</td><td>147</td><td>1777</td></tr>\n",
       "\t<tr><td>139441</td><td>Photo </td><td>2</td><td>12</td><td>2</td><td> 3</td><td>0</td><td> 7244</td><td>13594</td><td> 671</td><td> 410</td><td> 580</td><td> 6228</td><td> 3200</td><td> 396</td><td>19</td><td> 325</td><td> 49</td><td> 393</td></tr>\n",
       "\t<tr><td>139441</td><td>Status</td><td>2</td><td>12</td><td>1</td><td> 9</td><td>0</td><td>10472</td><td>20849</td><td>1191</td><td>1073</td><td>1389</td><td>16034</td><td> 7852</td><td>1016</td><td> 1</td><td> 152</td><td> 33</td><td> 186</td></tr>\n",
       "\t<tr><td>139441</td><td>Photo </td><td>3</td><td>12</td><td>1</td><td> 3</td><td>1</td><td>11692</td><td>19479</td><td> 481</td><td> 265</td><td> 364</td><td>15432</td><td> 9328</td><td> 379</td><td> 3</td><td> 249</td><td> 27</td><td> 279</td></tr>\n",
       "\t<tr><td>139441</td><td>Photo </td><td>3</td><td>12</td><td>7</td><td> 9</td><td>1</td><td>13720</td><td>24137</td><td> 537</td><td> 232</td><td> 305</td><td>19728</td><td>11056</td><td> 422</td><td> 0</td><td> 325</td><td> 14</td><td> 339</td></tr>\n",
       "\t<tr><td>⋮</td><td>⋮</td><td>⋮</td><td>⋮</td><td>⋮</td><td>⋮</td><td>⋮</td><td>⋮</td><td>⋮</td><td>⋮</td><td>⋮</td><td>⋮</td><td>⋮</td><td>⋮</td><td>⋮</td><td>⋮</td><td>⋮</td><td>⋮</td><td>⋮</td></tr>\n",
       "\t<tr><td>85979</td><td>Link </td><td>1</td><td>1</td><td>5</td><td>11</td><td> 0</td><td>45920</td><td> 5808</td><td> 753</td><td> 655</td><td> 763</td><td>15766</td><td>10720</td><td>220</td><td> 0</td><td>128</td><td> 9</td><td>137</td></tr>\n",
       "\t<tr><td>85093</td><td>Photo</td><td>3</td><td>1</td><td>1</td><td> 2</td><td> 0</td><td> 8412</td><td>13960</td><td>1179</td><td>1111</td><td>1632</td><td> 8632</td><td> 5348</td><td>699</td><td>17</td><td>185</td><td>55</td><td>257</td></tr>\n",
       "\t<tr><td>85093</td><td>Photo</td><td>3</td><td>1</td><td>7</td><td>10</td><td> 0</td><td> 5400</td><td> 9218</td><td> 810</td><td> 756</td><td>1003</td><td> 5654</td><td> 3230</td><td>422</td><td>10</td><td>125</td><td>41</td><td>176</td></tr>\n",
       "\t<tr><td>85093</td><td>Photo</td><td>3</td><td>1</td><td>7</td><td> 2</td><td> 0</td><td> 4684</td><td> 7536</td><td> 733</td><td> 708</td><td> 985</td><td> 4750</td><td> 2876</td><td>392</td><td> 5</td><td> 53</td><td>26</td><td> 84</td></tr>\n",
       "\t<tr><td>81370</td><td>Photo</td><td>2</td><td>1</td><td>5</td><td> 8</td><td> 0</td><td> 3480</td><td> 6229</td><td> 537</td><td> 508</td><td> 687</td><td> 3961</td><td> 2104</td><td>301</td><td> 0</td><td> 53</td><td>22</td><td> 75</td></tr>\n",
       "\t<tr><td>81370</td><td>Photo</td><td>1</td><td>1</td><td>5</td><td> 2</td><td> 0</td><td> 3778</td><td> 7216</td><td> 625</td><td> 572</td><td> 795</td><td> 4742</td><td> 2388</td><td>363</td><td> 4</td><td> 93</td><td>18</td><td>115</td></tr>\n",
       "\t<tr><td>81370</td><td>Photo</td><td>3</td><td>1</td><td>4</td><td>11</td><td> 0</td><td> 4156</td><td> 7564</td><td> 626</td><td> 574</td><td> 832</td><td> 4534</td><td> 2452</td><td>370</td><td> 7</td><td> 91</td><td>38</td><td>136</td></tr>\n",
       "\t<tr><td>81370</td><td>Photo</td><td>2</td><td>1</td><td>4</td><td> 4</td><td>NA</td><td> 4188</td><td> 7292</td><td> 564</td><td> 524</td><td> 743</td><td> 3861</td><td> 2200</td><td>316</td><td> 0</td><td> 91</td><td>28</td><td>119</td></tr>\n",
       "</tbody>\n",
       "</table>\n"
      ],
      "text/latex": [
       "A spec\\_tbl\\_df: 500 × 19\n",
       "\\begin{tabular}{lllllllllllllllllll}\n",
       " Page total likes & Type & Category & Post Month & Post Weekday & Post Hour & Paid & Lifetime Post Total Reach & Lifetime Post Total Impressions & Lifetime Engaged Users & Lifetime Post Consumers & Lifetime Post Consumptions & Lifetime Post Impressions by people who have liked your Page & Lifetime Post reach by people who like your Page & Lifetime People who have liked your Page and engaged with your post & comment & like & share & Total Interactions\\\\\n",
       " <dbl> & <chr> & <dbl> & <dbl> & <dbl> & <dbl> & <dbl> & <dbl> & <dbl> & <dbl> & <dbl> & <dbl> & <dbl> & <dbl> & <dbl> & <dbl> & <dbl> & <dbl> & <dbl>\\\\\n",
       "\\hline\n",
       "\t 139441 & Photo  & 2 & 12 & 4 &  3 & 0 &  2752 &  5091 &  178 &  109 &  159 &  3078 &  1640 &  119 &  4 &   79 &  17 &  100\\\\\n",
       "\t 139441 & Status & 2 & 12 & 3 & 10 & 0 & 10460 & 19057 & 1457 & 1361 & 1674 & 11710 &  6112 & 1108 &  5 &  130 &  29 &  164\\\\\n",
       "\t 139441 & Photo  & 3 & 12 & 3 &  3 & 0 &  2413 &  4373 &  177 &  113 &  154 &  2812 &  1503 &  132 &  0 &   66 &  14 &   80\\\\\n",
       "\t 139441 & Photo  & 2 & 12 & 2 & 10 & 1 & 50128 & 87991 & 2211 &  790 & 1119 & 61027 & 32048 & 1386 & 58 & 1572 & 147 & 1777\\\\\n",
       "\t 139441 & Photo  & 2 & 12 & 2 &  3 & 0 &  7244 & 13594 &  671 &  410 &  580 &  6228 &  3200 &  396 & 19 &  325 &  49 &  393\\\\\n",
       "\t 139441 & Status & 2 & 12 & 1 &  9 & 0 & 10472 & 20849 & 1191 & 1073 & 1389 & 16034 &  7852 & 1016 &  1 &  152 &  33 &  186\\\\\n",
       "\t 139441 & Photo  & 3 & 12 & 1 &  3 & 1 & 11692 & 19479 &  481 &  265 &  364 & 15432 &  9328 &  379 &  3 &  249 &  27 &  279\\\\\n",
       "\t 139441 & Photo  & 3 & 12 & 7 &  9 & 1 & 13720 & 24137 &  537 &  232 &  305 & 19728 & 11056 &  422 &  0 &  325 &  14 &  339\\\\\n",
       "\t ⋮ & ⋮ & ⋮ & ⋮ & ⋮ & ⋮ & ⋮ & ⋮ & ⋮ & ⋮ & ⋮ & ⋮ & ⋮ & ⋮ & ⋮ & ⋮ & ⋮ & ⋮ & ⋮\\\\\n",
       "\t 85979 & Link  & 1 & 1 & 5 & 11 &  0 & 45920 &  5808 &  753 &  655 &  763 & 15766 & 10720 & 220 &  0 & 128 &  9 & 137\\\\\n",
       "\t 85093 & Photo & 3 & 1 & 1 &  2 &  0 &  8412 & 13960 & 1179 & 1111 & 1632 &  8632 &  5348 & 699 & 17 & 185 & 55 & 257\\\\\n",
       "\t 85093 & Photo & 3 & 1 & 7 & 10 &  0 &  5400 &  9218 &  810 &  756 & 1003 &  5654 &  3230 & 422 & 10 & 125 & 41 & 176\\\\\n",
       "\t 85093 & Photo & 3 & 1 & 7 &  2 &  0 &  4684 &  7536 &  733 &  708 &  985 &  4750 &  2876 & 392 &  5 &  53 & 26 &  84\\\\\n",
       "\t 81370 & Photo & 2 & 1 & 5 &  8 &  0 &  3480 &  6229 &  537 &  508 &  687 &  3961 &  2104 & 301 &  0 &  53 & 22 &  75\\\\\n",
       "\t 81370 & Photo & 1 & 1 & 5 &  2 &  0 &  3778 &  7216 &  625 &  572 &  795 &  4742 &  2388 & 363 &  4 &  93 & 18 & 115\\\\\n",
       "\t 81370 & Photo & 3 & 1 & 4 & 11 &  0 &  4156 &  7564 &  626 &  574 &  832 &  4534 &  2452 & 370 &  7 &  91 & 38 & 136\\\\\n",
       "\t 81370 & Photo & 2 & 1 & 4 &  4 & NA &  4188 &  7292 &  564 &  524 &  743 &  3861 &  2200 & 316 &  0 &  91 & 28 & 119\\\\\n",
       "\\end{tabular}\n"
      ],
      "text/markdown": [
       "\n",
       "A spec_tbl_df: 500 × 19\n",
       "\n",
       "| Page total likes &lt;dbl&gt; | Type &lt;chr&gt; | Category &lt;dbl&gt; | Post Month &lt;dbl&gt; | Post Weekday &lt;dbl&gt; | Post Hour &lt;dbl&gt; | Paid &lt;dbl&gt; | Lifetime Post Total Reach &lt;dbl&gt; | Lifetime Post Total Impressions &lt;dbl&gt; | Lifetime Engaged Users &lt;dbl&gt; | Lifetime Post Consumers &lt;dbl&gt; | Lifetime Post Consumptions &lt;dbl&gt; | Lifetime Post Impressions by people who have liked your Page &lt;dbl&gt; | Lifetime Post reach by people who like your Page &lt;dbl&gt; | Lifetime People who have liked your Page and engaged with your post &lt;dbl&gt; | comment &lt;dbl&gt; | like &lt;dbl&gt; | share &lt;dbl&gt; | Total Interactions &lt;dbl&gt; |\n",
       "|---|---|---|---|---|---|---|---|---|---|---|---|---|---|---|---|---|---|---|\n",
       "| 139441 | Photo  | 2 | 12 | 4 |  3 | 0 |  2752 |  5091 |  178 |  109 |  159 |  3078 |  1640 |  119 |  4 |   79 |  17 |  100 |\n",
       "| 139441 | Status | 2 | 12 | 3 | 10 | 0 | 10460 | 19057 | 1457 | 1361 | 1674 | 11710 |  6112 | 1108 |  5 |  130 |  29 |  164 |\n",
       "| 139441 | Photo  | 3 | 12 | 3 |  3 | 0 |  2413 |  4373 |  177 |  113 |  154 |  2812 |  1503 |  132 |  0 |   66 |  14 |   80 |\n",
       "| 139441 | Photo  | 2 | 12 | 2 | 10 | 1 | 50128 | 87991 | 2211 |  790 | 1119 | 61027 | 32048 | 1386 | 58 | 1572 | 147 | 1777 |\n",
       "| 139441 | Photo  | 2 | 12 | 2 |  3 | 0 |  7244 | 13594 |  671 |  410 |  580 |  6228 |  3200 |  396 | 19 |  325 |  49 |  393 |\n",
       "| 139441 | Status | 2 | 12 | 1 |  9 | 0 | 10472 | 20849 | 1191 | 1073 | 1389 | 16034 |  7852 | 1016 |  1 |  152 |  33 |  186 |\n",
       "| 139441 | Photo  | 3 | 12 | 1 |  3 | 1 | 11692 | 19479 |  481 |  265 |  364 | 15432 |  9328 |  379 |  3 |  249 |  27 |  279 |\n",
       "| 139441 | Photo  | 3 | 12 | 7 |  9 | 1 | 13720 | 24137 |  537 |  232 |  305 | 19728 | 11056 |  422 |  0 |  325 |  14 |  339 |\n",
       "| ⋮ | ⋮ | ⋮ | ⋮ | ⋮ | ⋮ | ⋮ | ⋮ | ⋮ | ⋮ | ⋮ | ⋮ | ⋮ | ⋮ | ⋮ | ⋮ | ⋮ | ⋮ | ⋮ |\n",
       "| 85979 | Link  | 1 | 1 | 5 | 11 |  0 | 45920 |  5808 |  753 |  655 |  763 | 15766 | 10720 | 220 |  0 | 128 |  9 | 137 |\n",
       "| 85093 | Photo | 3 | 1 | 1 |  2 |  0 |  8412 | 13960 | 1179 | 1111 | 1632 |  8632 |  5348 | 699 | 17 | 185 | 55 | 257 |\n",
       "| 85093 | Photo | 3 | 1 | 7 | 10 |  0 |  5400 |  9218 |  810 |  756 | 1003 |  5654 |  3230 | 422 | 10 | 125 | 41 | 176 |\n",
       "| 85093 | Photo | 3 | 1 | 7 |  2 |  0 |  4684 |  7536 |  733 |  708 |  985 |  4750 |  2876 | 392 |  5 |  53 | 26 |  84 |\n",
       "| 81370 | Photo | 2 | 1 | 5 |  8 |  0 |  3480 |  6229 |  537 |  508 |  687 |  3961 |  2104 | 301 |  0 |  53 | 22 |  75 |\n",
       "| 81370 | Photo | 1 | 1 | 5 |  2 |  0 |  3778 |  7216 |  625 |  572 |  795 |  4742 |  2388 | 363 |  4 |  93 | 18 | 115 |\n",
       "| 81370 | Photo | 3 | 1 | 4 | 11 |  0 |  4156 |  7564 |  626 |  574 |  832 |  4534 |  2452 | 370 |  7 |  91 | 38 | 136 |\n",
       "| 81370 | Photo | 2 | 1 | 4 |  4 | NA |  4188 |  7292 |  564 |  524 |  743 |  3861 |  2200 | 316 |  0 |  91 | 28 | 119 |\n",
       "\n"
      ],
      "text/plain": [
       "    Page total likes Type   Category Post Month Post Weekday Post Hour Paid\n",
       "1   139441           Photo  2        12         4             3        0   \n",
       "2   139441           Status 2        12         3            10        0   \n",
       "3   139441           Photo  3        12         3             3        0   \n",
       "4   139441           Photo  2        12         2            10        1   \n",
       "5   139441           Photo  2        12         2             3        0   \n",
       "6   139441           Status 2        12         1             9        0   \n",
       "7   139441           Photo  3        12         1             3        1   \n",
       "8   139441           Photo  3        12         7             9        1   \n",
       "⋮   ⋮                ⋮      ⋮        ⋮          ⋮            ⋮         ⋮   \n",
       "493 85979            Link   1        1          5            11         0  \n",
       "494 85093            Photo  3        1          1             2         0  \n",
       "495 85093            Photo  3        1          7            10         0  \n",
       "496 85093            Photo  3        1          7             2         0  \n",
       "497 81370            Photo  2        1          5             8         0  \n",
       "498 81370            Photo  1        1          5             2         0  \n",
       "499 81370            Photo  3        1          4            11         0  \n",
       "500 81370            Photo  2        1          4             4        NA  \n",
       "    Lifetime Post Total Reach Lifetime Post Total Impressions\n",
       "1    2752                      5091                          \n",
       "2   10460                     19057                          \n",
       "3    2413                      4373                          \n",
       "4   50128                     87991                          \n",
       "5    7244                     13594                          \n",
       "6   10472                     20849                          \n",
       "7   11692                     19479                          \n",
       "8   13720                     24137                          \n",
       "⋮   ⋮                         ⋮                              \n",
       "493 45920                      5808                          \n",
       "494  8412                     13960                          \n",
       "495  5400                      9218                          \n",
       "496  4684                      7536                          \n",
       "497  3480                      6229                          \n",
       "498  3778                      7216                          \n",
       "499  4156                      7564                          \n",
       "500  4188                      7292                          \n",
       "    Lifetime Engaged Users Lifetime Post Consumers Lifetime Post Consumptions\n",
       "1    178                    109                     159                      \n",
       "2   1457                   1361                    1674                      \n",
       "3    177                    113                     154                      \n",
       "4   2211                    790                    1119                      \n",
       "5    671                    410                     580                      \n",
       "6   1191                   1073                    1389                      \n",
       "7    481                    265                     364                      \n",
       "8    537                    232                     305                      \n",
       "⋮   ⋮                      ⋮                       ⋮                         \n",
       "493  753                    655                     763                      \n",
       "494 1179                   1111                    1632                      \n",
       "495  810                    756                    1003                      \n",
       "496  733                    708                     985                      \n",
       "497  537                    508                     687                      \n",
       "498  625                    572                     795                      \n",
       "499  626                    574                     832                      \n",
       "500  564                    524                     743                      \n",
       "    Lifetime Post Impressions by people who have liked your Page\n",
       "1    3078                                                       \n",
       "2   11710                                                       \n",
       "3    2812                                                       \n",
       "4   61027                                                       \n",
       "5    6228                                                       \n",
       "6   16034                                                       \n",
       "7   15432                                                       \n",
       "8   19728                                                       \n",
       "⋮   ⋮                                                           \n",
       "493 15766                                                       \n",
       "494  8632                                                       \n",
       "495  5654                                                       \n",
       "496  4750                                                       \n",
       "497  3961                                                       \n",
       "498  4742                                                       \n",
       "499  4534                                                       \n",
       "500  3861                                                       \n",
       "    Lifetime Post reach by people who like your Page\n",
       "1    1640                                           \n",
       "2    6112                                           \n",
       "3    1503                                           \n",
       "4   32048                                           \n",
       "5    3200                                           \n",
       "6    7852                                           \n",
       "7    9328                                           \n",
       "8   11056                                           \n",
       "⋮   ⋮                                               \n",
       "493 10720                                           \n",
       "494  5348                                           \n",
       "495  3230                                           \n",
       "496  2876                                           \n",
       "497  2104                                           \n",
       "498  2388                                           \n",
       "499  2452                                           \n",
       "500  2200                                           \n",
       "    Lifetime People who have liked your Page and engaged with your post comment\n",
       "1    119                                                                 4     \n",
       "2   1108                                                                 5     \n",
       "3    132                                                                 0     \n",
       "4   1386                                                                58     \n",
       "5    396                                                                19     \n",
       "6   1016                                                                 1     \n",
       "7    379                                                                 3     \n",
       "8    422                                                                 0     \n",
       "⋮   ⋮                                                                   ⋮      \n",
       "493 220                                                                  0     \n",
       "494 699                                                                 17     \n",
       "495 422                                                                 10     \n",
       "496 392                                                                  5     \n",
       "497 301                                                                  0     \n",
       "498 363                                                                  4     \n",
       "499 370                                                                  7     \n",
       "500 316                                                                  0     \n",
       "    like share Total Interactions\n",
       "1     79  17    100              \n",
       "2    130  29    164              \n",
       "3     66  14     80              \n",
       "4   1572 147   1777              \n",
       "5    325  49    393              \n",
       "6    152  33    186              \n",
       "7    249  27    279              \n",
       "8    325  14    339              \n",
       "⋮   ⋮    ⋮     ⋮                 \n",
       "493 128   9    137               \n",
       "494 185  55    257               \n",
       "495 125  41    176               \n",
       "496  53  26     84               \n",
       "497  53  22     75               \n",
       "498  93  18    115               \n",
       "499  91  38    136               \n",
       "500  91  28    119               "
      ]
     },
     "metadata": {},
     "output_type": "display_data"
    }
   ],
   "source": [
    "# displays first and last 8 rows of the dataset\n",
    "options(repr.matrix.max.rows = 16)\n",
    "# Set the seed\n",
    "set.seed(123)\n",
    "\n",
    "# Load the data in\n",
    "fb_data_raw <- read_csv2(\"https://gist.githubusercontent.com/KolCrooks/691e5890b6747b4777d6032f019b2c0f/raw/20629a5da3d5a7683e3071798876f3e4b204fbbb/fb_data.csv\",  col_types = cols())\n",
    "\n",
    "# NA Rows:\n",
    "sum(is.na(fb_data_raw))\n",
    "\n",
    "fb_data_raw"
   ]
  },
  {
   "cell_type": "code",
   "execution_count": 234,
   "metadata": {},
   "outputs": [
    {
     "data": {
      "text/html": [
       "<table>\n",
       "<caption>A tibble: 495 × 19</caption>\n",
       "<thead>\n",
       "\t<tr><th scope=col>page_likes</th><th scope=col>type</th><th scope=col>category</th><th scope=col>post_month</th><th scope=col>post_weekday</th><th scope=col>post_hour</th><th scope=col>paid</th><th scope=col>reach</th><th scope=col>impressions</th><th scope=col>engaged_users</th><th scope=col>post_consumers</th><th scope=col>post_consumptions</th><th scope=col>impressions_by_people_that_liked_page</th><th scope=col>reach_by_people_that_like_page</th><th scope=col>people_liked_and_engaged</th><th scope=col>comments</th><th scope=col>likes</th><th scope=col>shares</th><th scope=col>interactions</th></tr>\n",
       "\t<tr><th scope=col>&lt;dbl&gt;</th><th scope=col>&lt;fct&gt;</th><th scope=col>&lt;fct&gt;</th><th scope=col>&lt;fct&gt;</th><th scope=col>&lt;fct&gt;</th><th scope=col>&lt;fct&gt;</th><th scope=col>&lt;fct&gt;</th><th scope=col>&lt;dbl&gt;</th><th scope=col>&lt;dbl&gt;</th><th scope=col>&lt;dbl&gt;</th><th scope=col>&lt;dbl&gt;</th><th scope=col>&lt;dbl&gt;</th><th scope=col>&lt;dbl&gt;</th><th scope=col>&lt;dbl&gt;</th><th scope=col>&lt;dbl&gt;</th><th scope=col>&lt;dbl&gt;</th><th scope=col>&lt;dbl&gt;</th><th scope=col>&lt;dbl&gt;</th><th scope=col>&lt;dbl&gt;</th></tr>\n",
       "</thead>\n",
       "<tbody>\n",
       "\t<tr><td>139441</td><td>Photo </td><td>2</td><td>12</td><td>4</td><td>3 </td><td>0</td><td> 2752</td><td> 5091</td><td> 178</td><td> 109</td><td> 159</td><td> 3078</td><td> 1640</td><td> 119</td><td> 4</td><td>  79</td><td> 17</td><td> 100</td></tr>\n",
       "\t<tr><td>139441</td><td>Status</td><td>2</td><td>12</td><td>3</td><td>10</td><td>0</td><td>10460</td><td>19057</td><td>1457</td><td>1361</td><td>1674</td><td>11710</td><td> 6112</td><td>1108</td><td> 5</td><td> 130</td><td> 29</td><td> 164</td></tr>\n",
       "\t<tr><td>139441</td><td>Photo </td><td>3</td><td>12</td><td>3</td><td>3 </td><td>0</td><td> 2413</td><td> 4373</td><td> 177</td><td> 113</td><td> 154</td><td> 2812</td><td> 1503</td><td> 132</td><td> 0</td><td>  66</td><td> 14</td><td>  80</td></tr>\n",
       "\t<tr><td>139441</td><td>Photo </td><td>2</td><td>12</td><td>2</td><td>10</td><td>1</td><td>50128</td><td>87991</td><td>2211</td><td> 790</td><td>1119</td><td>61027</td><td>32048</td><td>1386</td><td>58</td><td>1572</td><td>147</td><td>1777</td></tr>\n",
       "\t<tr><td>139441</td><td>Photo </td><td>2</td><td>12</td><td>2</td><td>3 </td><td>0</td><td> 7244</td><td>13594</td><td> 671</td><td> 410</td><td> 580</td><td> 6228</td><td> 3200</td><td> 396</td><td>19</td><td> 325</td><td> 49</td><td> 393</td></tr>\n",
       "\t<tr><td>139441</td><td>Status</td><td>2</td><td>12</td><td>1</td><td>9 </td><td>0</td><td>10472</td><td>20849</td><td>1191</td><td>1073</td><td>1389</td><td>16034</td><td> 7852</td><td>1016</td><td> 1</td><td> 152</td><td> 33</td><td> 186</td></tr>\n",
       "\t<tr><td>139441</td><td>Photo </td><td>3</td><td>12</td><td>1</td><td>3 </td><td>1</td><td>11692</td><td>19479</td><td> 481</td><td> 265</td><td> 364</td><td>15432</td><td> 9328</td><td> 379</td><td> 3</td><td> 249</td><td> 27</td><td> 279</td></tr>\n",
       "\t<tr><td>139441</td><td>Photo </td><td>3</td><td>12</td><td>7</td><td>9 </td><td>1</td><td>13720</td><td>24137</td><td> 537</td><td> 232</td><td> 305</td><td>19728</td><td>11056</td><td> 422</td><td> 0</td><td> 325</td><td> 14</td><td> 339</td></tr>\n",
       "\t<tr><td>⋮</td><td>⋮</td><td>⋮</td><td>⋮</td><td>⋮</td><td>⋮</td><td>⋮</td><td>⋮</td><td>⋮</td><td>⋮</td><td>⋮</td><td>⋮</td><td>⋮</td><td>⋮</td><td>⋮</td><td>⋮</td><td>⋮</td><td>⋮</td><td>⋮</td></tr>\n",
       "\t<tr><td>85979</td><td>Photo</td><td>3</td><td>1</td><td>6</td><td>3 </td><td>1</td><td> 6184</td><td>10228</td><td> 956</td><td> 901</td><td>1140</td><td> 6085</td><td> 3502</td><td>437</td><td> 1</td><td>105</td><td>46</td><td>152</td></tr>\n",
       "\t<tr><td>85979</td><td>Link </td><td>1</td><td>1</td><td>5</td><td>11</td><td>0</td><td>45920</td><td> 5808</td><td> 753</td><td> 655</td><td> 763</td><td>15766</td><td>10720</td><td>220</td><td> 0</td><td>128</td><td> 9</td><td>137</td></tr>\n",
       "\t<tr><td>85093</td><td>Photo</td><td>3</td><td>1</td><td>1</td><td>2 </td><td>0</td><td> 8412</td><td>13960</td><td>1179</td><td>1111</td><td>1632</td><td> 8632</td><td> 5348</td><td>699</td><td>17</td><td>185</td><td>55</td><td>257</td></tr>\n",
       "\t<tr><td>85093</td><td>Photo</td><td>3</td><td>1</td><td>7</td><td>10</td><td>0</td><td> 5400</td><td> 9218</td><td> 810</td><td> 756</td><td>1003</td><td> 5654</td><td> 3230</td><td>422</td><td>10</td><td>125</td><td>41</td><td>176</td></tr>\n",
       "\t<tr><td>85093</td><td>Photo</td><td>3</td><td>1</td><td>7</td><td>2 </td><td>0</td><td> 4684</td><td> 7536</td><td> 733</td><td> 708</td><td> 985</td><td> 4750</td><td> 2876</td><td>392</td><td> 5</td><td> 53</td><td>26</td><td> 84</td></tr>\n",
       "\t<tr><td>81370</td><td>Photo</td><td>2</td><td>1</td><td>5</td><td>8 </td><td>0</td><td> 3480</td><td> 6229</td><td> 537</td><td> 508</td><td> 687</td><td> 3961</td><td> 2104</td><td>301</td><td> 0</td><td> 53</td><td>22</td><td> 75</td></tr>\n",
       "\t<tr><td>81370</td><td>Photo</td><td>1</td><td>1</td><td>5</td><td>2 </td><td>0</td><td> 3778</td><td> 7216</td><td> 625</td><td> 572</td><td> 795</td><td> 4742</td><td> 2388</td><td>363</td><td> 4</td><td> 93</td><td>18</td><td>115</td></tr>\n",
       "\t<tr><td>81370</td><td>Photo</td><td>3</td><td>1</td><td>4</td><td>11</td><td>0</td><td> 4156</td><td> 7564</td><td> 626</td><td> 574</td><td> 832</td><td> 4534</td><td> 2452</td><td>370</td><td> 7</td><td> 91</td><td>38</td><td>136</td></tr>\n",
       "</tbody>\n",
       "</table>\n"
      ],
      "text/latex": [
       "A tibble: 495 × 19\n",
       "\\begin{tabular}{lllllllllllllllllll}\n",
       " page\\_likes & type & category & post\\_month & post\\_weekday & post\\_hour & paid & reach & impressions & engaged\\_users & post\\_consumers & post\\_consumptions & impressions\\_by\\_people\\_that\\_liked\\_page & reach\\_by\\_people\\_that\\_like\\_page & people\\_liked\\_and\\_engaged & comments & likes & shares & interactions\\\\\n",
       " <dbl> & <fct> & <fct> & <fct> & <fct> & <fct> & <fct> & <dbl> & <dbl> & <dbl> & <dbl> & <dbl> & <dbl> & <dbl> & <dbl> & <dbl> & <dbl> & <dbl> & <dbl>\\\\\n",
       "\\hline\n",
       "\t 139441 & Photo  & 2 & 12 & 4 & 3  & 0 &  2752 &  5091 &  178 &  109 &  159 &  3078 &  1640 &  119 &  4 &   79 &  17 &  100\\\\\n",
       "\t 139441 & Status & 2 & 12 & 3 & 10 & 0 & 10460 & 19057 & 1457 & 1361 & 1674 & 11710 &  6112 & 1108 &  5 &  130 &  29 &  164\\\\\n",
       "\t 139441 & Photo  & 3 & 12 & 3 & 3  & 0 &  2413 &  4373 &  177 &  113 &  154 &  2812 &  1503 &  132 &  0 &   66 &  14 &   80\\\\\n",
       "\t 139441 & Photo  & 2 & 12 & 2 & 10 & 1 & 50128 & 87991 & 2211 &  790 & 1119 & 61027 & 32048 & 1386 & 58 & 1572 & 147 & 1777\\\\\n",
       "\t 139441 & Photo  & 2 & 12 & 2 & 3  & 0 &  7244 & 13594 &  671 &  410 &  580 &  6228 &  3200 &  396 & 19 &  325 &  49 &  393\\\\\n",
       "\t 139441 & Status & 2 & 12 & 1 & 9  & 0 & 10472 & 20849 & 1191 & 1073 & 1389 & 16034 &  7852 & 1016 &  1 &  152 &  33 &  186\\\\\n",
       "\t 139441 & Photo  & 3 & 12 & 1 & 3  & 1 & 11692 & 19479 &  481 &  265 &  364 & 15432 &  9328 &  379 &  3 &  249 &  27 &  279\\\\\n",
       "\t 139441 & Photo  & 3 & 12 & 7 & 9  & 1 & 13720 & 24137 &  537 &  232 &  305 & 19728 & 11056 &  422 &  0 &  325 &  14 &  339\\\\\n",
       "\t ⋮ & ⋮ & ⋮ & ⋮ & ⋮ & ⋮ & ⋮ & ⋮ & ⋮ & ⋮ & ⋮ & ⋮ & ⋮ & ⋮ & ⋮ & ⋮ & ⋮ & ⋮ & ⋮\\\\\n",
       "\t 85979 & Photo & 3 & 1 & 6 & 3  & 1 &  6184 & 10228 &  956 &  901 & 1140 &  6085 &  3502 & 437 &  1 & 105 & 46 & 152\\\\\n",
       "\t 85979 & Link  & 1 & 1 & 5 & 11 & 0 & 45920 &  5808 &  753 &  655 &  763 & 15766 & 10720 & 220 &  0 & 128 &  9 & 137\\\\\n",
       "\t 85093 & Photo & 3 & 1 & 1 & 2  & 0 &  8412 & 13960 & 1179 & 1111 & 1632 &  8632 &  5348 & 699 & 17 & 185 & 55 & 257\\\\\n",
       "\t 85093 & Photo & 3 & 1 & 7 & 10 & 0 &  5400 &  9218 &  810 &  756 & 1003 &  5654 &  3230 & 422 & 10 & 125 & 41 & 176\\\\\n",
       "\t 85093 & Photo & 3 & 1 & 7 & 2  & 0 &  4684 &  7536 &  733 &  708 &  985 &  4750 &  2876 & 392 &  5 &  53 & 26 &  84\\\\\n",
       "\t 81370 & Photo & 2 & 1 & 5 & 8  & 0 &  3480 &  6229 &  537 &  508 &  687 &  3961 &  2104 & 301 &  0 &  53 & 22 &  75\\\\\n",
       "\t 81370 & Photo & 1 & 1 & 5 & 2  & 0 &  3778 &  7216 &  625 &  572 &  795 &  4742 &  2388 & 363 &  4 &  93 & 18 & 115\\\\\n",
       "\t 81370 & Photo & 3 & 1 & 4 & 11 & 0 &  4156 &  7564 &  626 &  574 &  832 &  4534 &  2452 & 370 &  7 &  91 & 38 & 136\\\\\n",
       "\\end{tabular}\n"
      ],
      "text/markdown": [
       "\n",
       "A tibble: 495 × 19\n",
       "\n",
       "| page_likes &lt;dbl&gt; | type &lt;fct&gt; | category &lt;fct&gt; | post_month &lt;fct&gt; | post_weekday &lt;fct&gt; | post_hour &lt;fct&gt; | paid &lt;fct&gt; | reach &lt;dbl&gt; | impressions &lt;dbl&gt; | engaged_users &lt;dbl&gt; | post_consumers &lt;dbl&gt; | post_consumptions &lt;dbl&gt; | impressions_by_people_that_liked_page &lt;dbl&gt; | reach_by_people_that_like_page &lt;dbl&gt; | people_liked_and_engaged &lt;dbl&gt; | comments &lt;dbl&gt; | likes &lt;dbl&gt; | shares &lt;dbl&gt; | interactions &lt;dbl&gt; |\n",
       "|---|---|---|---|---|---|---|---|---|---|---|---|---|---|---|---|---|---|---|\n",
       "| 139441 | Photo  | 2 | 12 | 4 | 3  | 0 |  2752 |  5091 |  178 |  109 |  159 |  3078 |  1640 |  119 |  4 |   79 |  17 |  100 |\n",
       "| 139441 | Status | 2 | 12 | 3 | 10 | 0 | 10460 | 19057 | 1457 | 1361 | 1674 | 11710 |  6112 | 1108 |  5 |  130 |  29 |  164 |\n",
       "| 139441 | Photo  | 3 | 12 | 3 | 3  | 0 |  2413 |  4373 |  177 |  113 |  154 |  2812 |  1503 |  132 |  0 |   66 |  14 |   80 |\n",
       "| 139441 | Photo  | 2 | 12 | 2 | 10 | 1 | 50128 | 87991 | 2211 |  790 | 1119 | 61027 | 32048 | 1386 | 58 | 1572 | 147 | 1777 |\n",
       "| 139441 | Photo  | 2 | 12 | 2 | 3  | 0 |  7244 | 13594 |  671 |  410 |  580 |  6228 |  3200 |  396 | 19 |  325 |  49 |  393 |\n",
       "| 139441 | Status | 2 | 12 | 1 | 9  | 0 | 10472 | 20849 | 1191 | 1073 | 1389 | 16034 |  7852 | 1016 |  1 |  152 |  33 |  186 |\n",
       "| 139441 | Photo  | 3 | 12 | 1 | 3  | 1 | 11692 | 19479 |  481 |  265 |  364 | 15432 |  9328 |  379 |  3 |  249 |  27 |  279 |\n",
       "| 139441 | Photo  | 3 | 12 | 7 | 9  | 1 | 13720 | 24137 |  537 |  232 |  305 | 19728 | 11056 |  422 |  0 |  325 |  14 |  339 |\n",
       "| ⋮ | ⋮ | ⋮ | ⋮ | ⋮ | ⋮ | ⋮ | ⋮ | ⋮ | ⋮ | ⋮ | ⋮ | ⋮ | ⋮ | ⋮ | ⋮ | ⋮ | ⋮ | ⋮ |\n",
       "| 85979 | Photo | 3 | 1 | 6 | 3  | 1 |  6184 | 10228 |  956 |  901 | 1140 |  6085 |  3502 | 437 |  1 | 105 | 46 | 152 |\n",
       "| 85979 | Link  | 1 | 1 | 5 | 11 | 0 | 45920 |  5808 |  753 |  655 |  763 | 15766 | 10720 | 220 |  0 | 128 |  9 | 137 |\n",
       "| 85093 | Photo | 3 | 1 | 1 | 2  | 0 |  8412 | 13960 | 1179 | 1111 | 1632 |  8632 |  5348 | 699 | 17 | 185 | 55 | 257 |\n",
       "| 85093 | Photo | 3 | 1 | 7 | 10 | 0 |  5400 |  9218 |  810 |  756 | 1003 |  5654 |  3230 | 422 | 10 | 125 | 41 | 176 |\n",
       "| 85093 | Photo | 3 | 1 | 7 | 2  | 0 |  4684 |  7536 |  733 |  708 |  985 |  4750 |  2876 | 392 |  5 |  53 | 26 |  84 |\n",
       "| 81370 | Photo | 2 | 1 | 5 | 8  | 0 |  3480 |  6229 |  537 |  508 |  687 |  3961 |  2104 | 301 |  0 |  53 | 22 |  75 |\n",
       "| 81370 | Photo | 1 | 1 | 5 | 2  | 0 |  3778 |  7216 |  625 |  572 |  795 |  4742 |  2388 | 363 |  4 |  93 | 18 | 115 |\n",
       "| 81370 | Photo | 3 | 1 | 4 | 11 | 0 |  4156 |  7564 |  626 |  574 |  832 |  4534 |  2452 | 370 |  7 |  91 | 38 | 136 |\n",
       "\n"
      ],
      "text/plain": [
       "    page_likes type   category post_month post_weekday post_hour paid reach\n",
       "1   139441     Photo  2        12         4            3         0     2752\n",
       "2   139441     Status 2        12         3            10        0    10460\n",
       "3   139441     Photo  3        12         3            3         0     2413\n",
       "4   139441     Photo  2        12         2            10        1    50128\n",
       "5   139441     Photo  2        12         2            3         0     7244\n",
       "6   139441     Status 2        12         1            9         0    10472\n",
       "7   139441     Photo  3        12         1            3         1    11692\n",
       "8   139441     Photo  3        12         7            9         1    13720\n",
       "⋮   ⋮          ⋮      ⋮        ⋮          ⋮            ⋮         ⋮    ⋮    \n",
       "488 85979      Photo  3        1          6            3         1     6184\n",
       "489 85979      Link   1        1          5            11        0    45920\n",
       "490 85093      Photo  3        1          1            2         0     8412\n",
       "491 85093      Photo  3        1          7            10        0     5400\n",
       "492 85093      Photo  3        1          7            2         0     4684\n",
       "493 81370      Photo  2        1          5            8         0     3480\n",
       "494 81370      Photo  1        1          5            2         0     3778\n",
       "495 81370      Photo  3        1          4            11        0     4156\n",
       "    impressions engaged_users post_consumers post_consumptions\n",
       "1    5091        178           109            159             \n",
       "2   19057       1457          1361           1674             \n",
       "3    4373        177           113            154             \n",
       "4   87991       2211           790           1119             \n",
       "5   13594        671           410            580             \n",
       "6   20849       1191          1073           1389             \n",
       "7   19479        481           265            364             \n",
       "8   24137        537           232            305             \n",
       "⋮   ⋮           ⋮             ⋮              ⋮                \n",
       "488 10228        956           901           1140             \n",
       "489  5808        753           655            763             \n",
       "490 13960       1179          1111           1632             \n",
       "491  9218        810           756           1003             \n",
       "492  7536        733           708            985             \n",
       "493  6229        537           508            687             \n",
       "494  7216        625           572            795             \n",
       "495  7564        626           574            832             \n",
       "    impressions_by_people_that_liked_page reach_by_people_that_like_page\n",
       "1    3078                                  1640                         \n",
       "2   11710                                  6112                         \n",
       "3    2812                                  1503                         \n",
       "4   61027                                 32048                         \n",
       "5    6228                                  3200                         \n",
       "6   16034                                  7852                         \n",
       "7   15432                                  9328                         \n",
       "8   19728                                 11056                         \n",
       "⋮   ⋮                                     ⋮                             \n",
       "488  6085                                  3502                         \n",
       "489 15766                                 10720                         \n",
       "490  8632                                  5348                         \n",
       "491  5654                                  3230                         \n",
       "492  4750                                  2876                         \n",
       "493  3961                                  2104                         \n",
       "494  4742                                  2388                         \n",
       "495  4534                                  2452                         \n",
       "    people_liked_and_engaged comments likes shares interactions\n",
       "1    119                      4         79   17     100        \n",
       "2   1108                      5        130   29     164        \n",
       "3    132                      0         66   14      80        \n",
       "4   1386                     58       1572  147    1777        \n",
       "5    396                     19        325   49     393        \n",
       "6   1016                      1        152   33     186        \n",
       "7    379                      3        249   27     279        \n",
       "8    422                      0        325   14     339        \n",
       "⋮   ⋮                        ⋮        ⋮     ⋮      ⋮           \n",
       "488 437                       1       105   46     152         \n",
       "489 220                       0       128    9     137         \n",
       "490 699                      17       185   55     257         \n",
       "491 422                      10       125   41     176         \n",
       "492 392                       5        53   26      84         \n",
       "493 301                       0        53   22      75         \n",
       "494 363                       4        93   18     115         \n",
       "495 370                       7        91   38     136         "
      ]
     },
     "metadata": {},
     "output_type": "display_data"
    }
   ],
   "source": [
    "# Clean the data, change column names, and convert some columns to factors:\n",
    "fb_data_clean_cols <- fb_data_raw\n",
    "colnames(fb_data_clean_cols) <- c(\"page_likes\", \"type\", \"category\", \"post_month\", \"post_weekday\", \"post_hour\", \"paid\", \"reach\", \n",
    "      \"impressions\", \"engaged_users\", \"post_consumers\", \"post_consumptions\", \"impressions_by_people_that_liked_page\", \n",
    "      \"reach_by_people_that_like_page\", \"people_liked_and_engaged\", \"comments\", \"likes\", \"shares\", \"interactions\")\n",
    "fb_data_clean <- fb_data_clean_cols %>% \n",
    "        mutate(type = as_factor(type)) %>% \n",
    "        mutate(category = as_factor(category)) %>% \n",
    "        mutate(post_month = as_factor(post_month)) %>% \n",
    "        mutate(post_weekday = as_factor(post_weekday)) %>% \n",
    "        mutate(post_hour = as_factor(post_hour)) %>% \n",
    "        mutate(paid = as_factor(paid)) %>% \n",
    "        na.omit()\n",
    "\n",
    "fb_data_clean"
   ]
  },
  {
   "cell_type": "code",
   "execution_count": 235,
   "metadata": {},
   "outputs": [
    {
     "data": {
      "text/html": [
       "0"
      ],
      "text/latex": [
       "0"
      ],
      "text/markdown": [
       "0"
      ],
      "text/plain": [
       "[1] 0"
      ]
     },
     "metadata": {},
     "output_type": "display_data"
    }
   ],
   "source": [
    "# check that all NAs are removed\n",
    "# NA Rows:\n",
    "sum(is.na(fb_data_clean))"
   ]
  },
  {
   "cell_type": "markdown",
   "metadata": {},
   "source": [
    "Here, we split our data set into a training set, `fb_train`, and a testing set, `fb_test`, using the `initial_split` function. We do this so that we can train our KNN classifier using only the training set; then, to evaluate the accuracy of the classifier, we can use it to predict the posts' types (which we know) in the test set. In order to train a more accurate model while still having an accurate evaluation of its performance, we allocate 75% of our data for training and reserve 25% for testing. As we want to classify post type as our target variable, we pass `type` as the `strata` argument in `initial_split`. "
   ]
  },
  {
   "cell_type": "code",
   "execution_count": 236,
   "metadata": {},
   "outputs": [
    {
     "data": {
      "text/html": [
       "372"
      ],
      "text/latex": [
       "372"
      ],
      "text/markdown": [
       "372"
      ],
      "text/plain": [
       "[1] 372"
      ]
     },
     "metadata": {},
     "output_type": "display_data"
    },
    {
     "data": {
      "text/html": [
       "123"
      ],
      "text/latex": [
       "123"
      ],
      "text/markdown": [
       "123"
      ],
      "text/plain": [
       "[1] 123"
      ]
     },
     "metadata": {},
     "output_type": "display_data"
    }
   ],
   "source": [
    "# Split the data:\n",
    "fb_split <- initial_split(fb_data_clean, prop = 0.75, strata = type)\n",
    "fb_train <- training(fb_split)\n",
    "fb_test <- testing(fb_split)\n",
    "\n",
    "# ensure fb_train and fb_test contain 75% and 25% of data, respectively\n",
    "nrow(fb_train)\n",
    "nrow(fb_test)"
   ]
  },
  {
   "cell_type": "markdown",
   "metadata": {},
   "source": [
    "#### Selecting our predictors:\n",
    "\n",
    "To figure out which predictors to use, we use `ggpairs` to determine how well each column can predict post type. To do this we will compare each post type's box plot with that of the potential predictor.  Before using ggpairs, we want to take out the columns that we already know will not work; this will reduce clutter in the plot while allowing us to more accurately compare the remaing predictors.\n",
    "\n",
    "The columns we know we cannot use as predictors are those that are factors; these are the time-based columns `post_month`, `post_weekday`, and `post_hour`, and the columns `category` and `paid`. We perform these adjustments to both the training set and the testing set, to ensure that we do not end up with differing columns that will affect the results or interpretation of our model."
   ]
  },
  {
   "cell_type": "code",
   "execution_count": 240,
   "metadata": {},
   "outputs": [
    {
     "data": {
      "text/html": [
       "<style>\n",
       ".list-inline {list-style: none; margin:0; padding: 0}\n",
       ".list-inline>li {display: inline-block}\n",
       ".list-inline>li:not(:last-child)::after {content: \"\\00b7\"; padding: 0 .5ex}\n",
       "</style>\n",
       "<ol class=list-inline><li>'page_likes'</li><li>'type'</li><li>'category'</li><li>'post_month'</li><li>'post_weekday'</li><li>'post_hour'</li><li>'paid'</li><li>'reach'</li><li>'impressions'</li><li>'engaged_users'</li><li>'post_consumers'</li><li>'post_consumptions'</li><li>'impressions_by_people_that_liked_page'</li><li>'reach_by_people_that_like_page'</li><li>'people_liked_and_engaged'</li><li>'comments'</li><li>'likes'</li><li>'shares'</li><li>'interactions'</li></ol>\n"
      ],
      "text/latex": [
       "\\begin{enumerate*}\n",
       "\\item 'page\\_likes'\n",
       "\\item 'type'\n",
       "\\item 'category'\n",
       "\\item 'post\\_month'\n",
       "\\item 'post\\_weekday'\n",
       "\\item 'post\\_hour'\n",
       "\\item 'paid'\n",
       "\\item 'reach'\n",
       "\\item 'impressions'\n",
       "\\item 'engaged\\_users'\n",
       "\\item 'post\\_consumers'\n",
       "\\item 'post\\_consumptions'\n",
       "\\item 'impressions\\_by\\_people\\_that\\_liked\\_page'\n",
       "\\item 'reach\\_by\\_people\\_that\\_like\\_page'\n",
       "\\item 'people\\_liked\\_and\\_engaged'\n",
       "\\item 'comments'\n",
       "\\item 'likes'\n",
       "\\item 'shares'\n",
       "\\item 'interactions'\n",
       "\\end{enumerate*}\n"
      ],
      "text/markdown": [
       "1. 'page_likes'\n",
       "2. 'type'\n",
       "3. 'category'\n",
       "4. 'post_month'\n",
       "5. 'post_weekday'\n",
       "6. 'post_hour'\n",
       "7. 'paid'\n",
       "8. 'reach'\n",
       "9. 'impressions'\n",
       "10. 'engaged_users'\n",
       "11. 'post_consumers'\n",
       "12. 'post_consumptions'\n",
       "13. 'impressions_by_people_that_liked_page'\n",
       "14. 'reach_by_people_that_like_page'\n",
       "15. 'people_liked_and_engaged'\n",
       "16. 'comments'\n",
       "17. 'likes'\n",
       "18. 'shares'\n",
       "19. 'interactions'\n",
       "\n",
       "\n"
      ],
      "text/plain": [
       " [1] \"page_likes\"                           \n",
       " [2] \"type\"                                 \n",
       " [3] \"category\"                             \n",
       " [4] \"post_month\"                           \n",
       " [5] \"post_weekday\"                         \n",
       " [6] \"post_hour\"                            \n",
       " [7] \"paid\"                                 \n",
       " [8] \"reach\"                                \n",
       " [9] \"impressions\"                          \n",
       "[10] \"engaged_users\"                        \n",
       "[11] \"post_consumers\"                       \n",
       "[12] \"post_consumptions\"                    \n",
       "[13] \"impressions_by_people_that_liked_page\"\n",
       "[14] \"reach_by_people_that_like_page\"       \n",
       "[15] \"people_liked_and_engaged\"             \n",
       "[16] \"comments\"                             \n",
       "[17] \"likes\"                                \n",
       "[18] \"shares\"                               \n",
       "[19] \"interactions\"                         "
      ]
     },
     "metadata": {},
     "output_type": "display_data"
    },
    {
     "data": {
      "text/html": [
       "<style>\n",
       ".list-inline {list-style: none; margin:0; padding: 0}\n",
       ".list-inline>li {display: inline-block}\n",
       ".list-inline>li:not(:last-child)::after {content: \"\\00b7\"; padding: 0 .5ex}\n",
       "</style>\n",
       "<ol class=list-inline><li>'page_likes'</li><li>'type'</li><li>'category'</li><li>'post_month'</li><li>'post_weekday'</li><li>'post_hour'</li><li>'paid'</li><li>'reach'</li><li>'impressions'</li><li>'engaged_users'</li><li>'post_consumers'</li><li>'post_consumptions'</li><li>'impressions_by_people_that_liked_page'</li><li>'reach_by_people_that_like_page'</li><li>'people_liked_and_engaged'</li><li>'comments'</li><li>'likes'</li><li>'shares'</li><li>'interactions'</li></ol>\n"
      ],
      "text/latex": [
       "\\begin{enumerate*}\n",
       "\\item 'page\\_likes'\n",
       "\\item 'type'\n",
       "\\item 'category'\n",
       "\\item 'post\\_month'\n",
       "\\item 'post\\_weekday'\n",
       "\\item 'post\\_hour'\n",
       "\\item 'paid'\n",
       "\\item 'reach'\n",
       "\\item 'impressions'\n",
       "\\item 'engaged\\_users'\n",
       "\\item 'post\\_consumers'\n",
       "\\item 'post\\_consumptions'\n",
       "\\item 'impressions\\_by\\_people\\_that\\_liked\\_page'\n",
       "\\item 'reach\\_by\\_people\\_that\\_like\\_page'\n",
       "\\item 'people\\_liked\\_and\\_engaged'\n",
       "\\item 'comments'\n",
       "\\item 'likes'\n",
       "\\item 'shares'\n",
       "\\item 'interactions'\n",
       "\\end{enumerate*}\n"
      ],
      "text/markdown": [
       "1. 'page_likes'\n",
       "2. 'type'\n",
       "3. 'category'\n",
       "4. 'post_month'\n",
       "5. 'post_weekday'\n",
       "6. 'post_hour'\n",
       "7. 'paid'\n",
       "8. 'reach'\n",
       "9. 'impressions'\n",
       "10. 'engaged_users'\n",
       "11. 'post_consumers'\n",
       "12. 'post_consumptions'\n",
       "13. 'impressions_by_people_that_liked_page'\n",
       "14. 'reach_by_people_that_like_page'\n",
       "15. 'people_liked_and_engaged'\n",
       "16. 'comments'\n",
       "17. 'likes'\n",
       "18. 'shares'\n",
       "19. 'interactions'\n",
       "\n",
       "\n"
      ],
      "text/plain": [
       " [1] \"page_likes\"                           \n",
       " [2] \"type\"                                 \n",
       " [3] \"category\"                             \n",
       " [4] \"post_month\"                           \n",
       " [5] \"post_weekday\"                         \n",
       " [6] \"post_hour\"                            \n",
       " [7] \"paid\"                                 \n",
       " [8] \"reach\"                                \n",
       " [9] \"impressions\"                          \n",
       "[10] \"engaged_users\"                        \n",
       "[11] \"post_consumers\"                       \n",
       "[12] \"post_consumptions\"                    \n",
       "[13] \"impressions_by_people_that_liked_page\"\n",
       "[14] \"reach_by_people_that_like_page\"       \n",
       "[15] \"people_liked_and_engaged\"             \n",
       "[16] \"comments\"                             \n",
       "[17] \"likes\"                                \n",
       "[18] \"shares\"                               \n",
       "[19] \"interactions\"                         "
      ]
     },
     "metadata": {},
     "output_type": "display_data"
    }
   ],
   "source": [
    "# Columns before selection\n",
    "colnames(fb_train)\n",
    "\n",
    "colnames(fb_test)"
   ]
  },
  {
   "cell_type": "code",
   "execution_count": 241,
   "metadata": {},
   "outputs": [
    {
     "data": {
      "text/html": [
       "<style>\n",
       ".list-inline {list-style: none; margin:0; padding: 0}\n",
       ".list-inline>li {display: inline-block}\n",
       ".list-inline>li:not(:last-child)::after {content: \"\\00b7\"; padding: 0 .5ex}\n",
       "</style>\n",
       "<ol class=list-inline><li>'type'</li><li>'page_likes'</li><li>'reach'</li><li>'impressions'</li><li>'engaged_users'</li><li>'post_consumers'</li><li>'post_consumptions'</li><li>'impressions_by_people_that_liked_page'</li><li>'reach_by_people_that_like_page'</li><li>'people_liked_and_engaged'</li><li>'comments'</li><li>'likes'</li><li>'shares'</li><li>'interactions'</li></ol>\n"
      ],
      "text/latex": [
       "\\begin{enumerate*}\n",
       "\\item 'type'\n",
       "\\item 'page\\_likes'\n",
       "\\item 'reach'\n",
       "\\item 'impressions'\n",
       "\\item 'engaged\\_users'\n",
       "\\item 'post\\_consumers'\n",
       "\\item 'post\\_consumptions'\n",
       "\\item 'impressions\\_by\\_people\\_that\\_liked\\_page'\n",
       "\\item 'reach\\_by\\_people\\_that\\_like\\_page'\n",
       "\\item 'people\\_liked\\_and\\_engaged'\n",
       "\\item 'comments'\n",
       "\\item 'likes'\n",
       "\\item 'shares'\n",
       "\\item 'interactions'\n",
       "\\end{enumerate*}\n"
      ],
      "text/markdown": [
       "1. 'type'\n",
       "2. 'page_likes'\n",
       "3. 'reach'\n",
       "4. 'impressions'\n",
       "5. 'engaged_users'\n",
       "6. 'post_consumers'\n",
       "7. 'post_consumptions'\n",
       "8. 'impressions_by_people_that_liked_page'\n",
       "9. 'reach_by_people_that_like_page'\n",
       "10. 'people_liked_and_engaged'\n",
       "11. 'comments'\n",
       "12. 'likes'\n",
       "13. 'shares'\n",
       "14. 'interactions'\n",
       "\n",
       "\n"
      ],
      "text/plain": [
       " [1] \"type\"                                 \n",
       " [2] \"page_likes\"                           \n",
       " [3] \"reach\"                                \n",
       " [4] \"impressions\"                          \n",
       " [5] \"engaged_users\"                        \n",
       " [6] \"post_consumers\"                       \n",
       " [7] \"post_consumptions\"                    \n",
       " [8] \"impressions_by_people_that_liked_page\"\n",
       " [9] \"reach_by_people_that_like_page\"       \n",
       "[10] \"people_liked_and_engaged\"             \n",
       "[11] \"comments\"                             \n",
       "[12] \"likes\"                                \n",
       "[13] \"shares\"                               \n",
       "[14] \"interactions\"                         "
      ]
     },
     "metadata": {},
     "output_type": "display_data"
    },
    {
     "data": {
      "text/html": [
       "<style>\n",
       ".list-inline {list-style: none; margin:0; padding: 0}\n",
       ".list-inline>li {display: inline-block}\n",
       ".list-inline>li:not(:last-child)::after {content: \"\\00b7\"; padding: 0 .5ex}\n",
       "</style>\n",
       "<ol class=list-inline><li>'type'</li><li>'page_likes'</li><li>'reach'</li><li>'impressions'</li><li>'engaged_users'</li><li>'post_consumers'</li><li>'post_consumptions'</li><li>'impressions_by_people_that_liked_page'</li><li>'reach_by_people_that_like_page'</li><li>'people_liked_and_engaged'</li><li>'comments'</li><li>'likes'</li><li>'shares'</li><li>'interactions'</li></ol>\n"
      ],
      "text/latex": [
       "\\begin{enumerate*}\n",
       "\\item 'type'\n",
       "\\item 'page\\_likes'\n",
       "\\item 'reach'\n",
       "\\item 'impressions'\n",
       "\\item 'engaged\\_users'\n",
       "\\item 'post\\_consumers'\n",
       "\\item 'post\\_consumptions'\n",
       "\\item 'impressions\\_by\\_people\\_that\\_liked\\_page'\n",
       "\\item 'reach\\_by\\_people\\_that\\_like\\_page'\n",
       "\\item 'people\\_liked\\_and\\_engaged'\n",
       "\\item 'comments'\n",
       "\\item 'likes'\n",
       "\\item 'shares'\n",
       "\\item 'interactions'\n",
       "\\end{enumerate*}\n"
      ],
      "text/markdown": [
       "1. 'type'\n",
       "2. 'page_likes'\n",
       "3. 'reach'\n",
       "4. 'impressions'\n",
       "5. 'engaged_users'\n",
       "6. 'post_consumers'\n",
       "7. 'post_consumptions'\n",
       "8. 'impressions_by_people_that_liked_page'\n",
       "9. 'reach_by_people_that_like_page'\n",
       "10. 'people_liked_and_engaged'\n",
       "11. 'comments'\n",
       "12. 'likes'\n",
       "13. 'shares'\n",
       "14. 'interactions'\n",
       "\n",
       "\n"
      ],
      "text/plain": [
       " [1] \"type\"                                 \n",
       " [2] \"page_likes\"                           \n",
       " [3] \"reach\"                                \n",
       " [4] \"impressions\"                          \n",
       " [5] \"engaged_users\"                        \n",
       " [6] \"post_consumers\"                       \n",
       " [7] \"post_consumptions\"                    \n",
       " [8] \"impressions_by_people_that_liked_page\"\n",
       " [9] \"reach_by_people_that_like_page\"       \n",
       "[10] \"people_liked_and_engaged\"             \n",
       "[11] \"comments\"                             \n",
       "[12] \"likes\"                                \n",
       "[13] \"shares\"                               \n",
       "[14] \"interactions\"                         "
      ]
     },
     "metadata": {},
     "output_type": "display_data"
    }
   ],
   "source": [
    "fb_train_selected1 <- fb_train %>% \n",
    "            select(-post_month, -post_weekday, -post_hour, -category, -paid) %>%\n",
    "            select(type, page_likes, reach:interactions) # reorder the df so that type is first, so that we can display only that row\n",
    "\n",
    "fb_test_selected1 <- fb_test %>% \n",
    "            select(-post_month, -post_weekday, -post_hour, -category, -paid) %>%\n",
    "            select(type, page_likes, reach:interactions) # reorder the df so that type is first, so that we can display only that row\n",
    "\n",
    "# Columns after selection\n",
    "colnames(fb_train_selected1)\n",
    "colnames(fb_test_selected1)"
   ]
  },
  {
   "cell_type": "markdown",
   "metadata": {},
   "source": [
    "Here, we use the `ggpairs` function to generate box plots of each column variable, for each post type. To make the plots more readable, we do this in two separate plots (each with approximately half the columns in the training data set)."
   ]
  },
  {
   "cell_type": "code",
   "execution_count": 247,
   "metadata": {
    "tags": []
   },
   "outputs": [
    {
     "data": {
      "image/png": "[encoded data removed]",
      "text/plain": [
       "plot without title"
      ]
     },
     "metadata": {
      "image/png": {
       "height": 360,
       "width": 1800
      }
     },
     "output_type": "display_data"
    },
    {
     "data": {
      "image/png": "[encoded data removed]",
      "text/plain": [
       "plot without title"
      ]
     },
     "metadata": {
      "image/png": {
       "height": 360,
       "width": 1800
      }
     },
     "output_type": "display_data"
    }
   ],
   "source": [
    "options(repr.plot.height = 6, repr.plot.width = 30)\n",
    "fb_select_plot1_first <- fb_train_selected1 %>%\n",
    "    select(type:post_consumptions) %>% \n",
    "    ggpairs() +\n",
    "    ggtitle(\"Distribution of first half of columns for each type of post\") +\n",
    "    theme(text = element_text(size=18),\n",
    "            axis.text.x = element_text(angle = 90, hjust = 1))\n",
    "\n",
    "fb_select_plot1_second <- fb_train_selected1 %>%\n",
    "    select(type, impressions_by_people_that_liked_page:interactions) %>% \n",
    "    ggpairs() +\n",
    "    ggtitle(\"Distribution of second half of columns for each type of post\") +\n",
    "    theme(text = element_text(size=18),\n",
    "            axis.text.x = element_text(angle = 90, hjust = 1))\n",
    "\n",
    "# Select just the top row of each plot because it is the only thing that we are trying to compare\n",
    "fb_select_plot1_first$nrow <- 1\n",
    "fb_select_plot1_first$yAxisLabels <- fb_select_plot1_first$yAxisLabels[1]\n",
    "fb_select_plot1_first\n",
    "\n",
    "fb_select_plot1_second$nrow <- 1\n",
    "fb_select_plot1_second$yAxisLabels <- fb_select_plot1_second$yAxisLabels[1]\n",
    "fb_select_plot1_second"
   ]
  },
  {
   "cell_type": "markdown",
   "metadata": {
    "tags": []
   },
   "source": [
    "Looking at this plot, we can begin to analyze which predictors may or may not be good classifiers for our target variable. We want to avoid using predictors that have minimal variability within each type, and those which have a high level of overlap between all types.\n",
    "- we eliminate `page_likes` because this column measures the total likes of the facebook page at the time a post was published, and is not necessarily related to any specific post.\n",
    "- similarly, we eliminate `reach` as this column is simply the number of users for whom the post showed up on their facebook feed, and sheds no light on how the user may have interacted with the post. \n",
    "- we eliminate `impressions` because the difference of the boxes in the first three types look the same, meaning there is less variation in the data. While the boxplot for videos does look different from the rest, the many outliers of the boxplot of photos occupy similar space.\n",
    "- we will keep only one of `engaged_users`, `post_consumers`, and `post_consumptions`. This is because they all effectively measure the same variable, in a slightly different way: `engaged_users` is the number of *unique* users that clicked in a post; `post_consumers` is the number of people that clicked in a post; `post_consumptions` is the number of clicks in a post. We will keep `post_consumptions` as a predictor and eliminate the other two, as this variable is more indicative of post type; from the boxplot, it appears that with photos in particular, users may return to the post and continue interacting after the initial view. We want to include this data in our classifier, as it should help with predictions.\n",
    "- we eliminate `impressions_by_people_that_liked_page`, as each box plot is essentially a vertical line. \n",
    "\n",
    "The `comments`, `likes`, `shares`, and `interactions` boxplots appear to have similar low variability issues as `impressions`. We suspect that these columns should be useful as predictors, but the scale is such that it is hard to see any significant differences. Since the `interactions` column simply gives the total of all comments, likes, and shares on a post, we can convert each of these columns to a ratio of total interactions. This standardization of the data will allow a more meaningful comparison than their raw values, as the raw values are more a measure of popularity of the page, and are not themselves characteristic of the post type. This also allows us to eliminate the `interactions` column as a potential standalone predictor.\n",
    "\n",
    "Similar to the above thinking, we will add a column which we call the `engagement ratio`. As stated above, we gain nothing from comparing the `reach` of a post, as the appearance of a post on a user's facebook page does not indicate their interaction with it. We instead will calculate another ratio of `interactions` over `reach`; this gives the percentage of total reached users who actually *interacted* with a post (Moro et al., 2016).\n",
    "\n",
    "In the following column, we remove the eliminated columns and perform the changes suggested above. We again use the `na.omit` function to remove any missing values which may have been introduced by the mutations."
   ]
  },
  {
   "cell_type": "code",
   "execution_count": 300,
   "metadata": {},
   "outputs": [],
   "source": [
    "fb_train_selected2 <- fb_train_selected1 %>% \n",
    "            mutate(comment_ratio = comments / interactions) %>% \n",
    "            mutate(like_ratio = likes / interactions) %>% \n",
    "            mutate(share_ratio = shares / interactions) %>% \n",
    "            mutate(engagement_ratio = interactions / reach) %>%\n",
    "            select(-page_likes, -reach, -impressions, -engaged_users, -post_consumers, -impressions_by_people_that_liked_page) %>% \n",
    "            select(-comments, -likes, -shares, -interactions) %>% # We don't need these anymore because they have been scaled\n",
    "            na.omit()        \n",
    "\n",
    "fb_test_selected2 <- fb_test_selected1 %>% \n",
    "            mutate(comment_ratio = comments / interactions) %>% \n",
    "            mutate(like_ratio = likes / interactions) %>% \n",
    "            mutate(share_ratio = shares / interactions) %>% \n",
    "            mutate(engagement_ratio = interactions / reach) %>%\n",
    "            select(-page_likes, -reach, -impressions, -engaged_users, -post_consumers, -impressions_by_people_that_liked_page) %>% \n",
    "            select(-comments, -likes, -shares, -interactions) %>% \n",
    "            na.omit()"
   ]
  },
  {
   "cell_type": "markdown",
   "metadata": {},
   "source": [
    "We again use the ggpairs function to observe boxplots of the remaining and new potential predictors:"
   ]
  },
  {
   "cell_type": "code",
   "execution_count": 301,
   "metadata": {},
   "outputs": [
    {
     "data": {
      "image/png": "[encoded data removed]",
      "text/plain": [
       "plot without title"
      ]
     },
     "metadata": {
      "image/png": {
       "height": 360,
       "width": 1800
      }
     },
     "output_type": "display_data"
    },
    {
     "data": {
      "image/png": "[encoded data removed]",
      "text/plain": [
       "plot without title"
      ]
     },
     "metadata": {
      "image/png": {
       "height": 360,
       "width": 1800
      }
     },
     "output_type": "display_data"
    }
   ],
   "source": [
    "options(repr.plot.height = 6, repr.plot.width = 30)\n",
    "fb_select_plot2_first <- fb_train_selected2 %>%\n",
    "    select(type:people_liked_and_engaged) %>% \n",
    "    ggpairs() +\n",
    "    ggtitle(\"Distribution of first half of columns after first round of predictor elimination\") +\n",
    "    theme(text = element_text(size=18),\n",
    "        axis.text.x = element_text(angle = 90, hjust = 1))\n",
    "\n",
    "fb_select_plot2_second <- fb_train_selected2 %>% \n",
    "    select(type, comment_ratio:engagement_ratio) %>% \n",
    "    ggpairs() +\n",
    "    ggtitle(\"Distribution of second half of columns after first round of predictor elimination\") +\n",
    "    theme(text = element_text(size=18),\n",
    "        axis.text.x = element_text(angle = 90, hjust = 1))\n",
    "\n",
    "# Select just the top row of each plot, because it is the only thing that we are trying to compare\n",
    "fb_select_plot2_first$nrow <- 1\n",
    "fb_select_plot2_first$yAxisLabels <- fb_select_plot2_first$yAxisLabels[1]\n",
    "fb_select_plot2_first\n",
    "\n",
    "fb_select_plot2_second$nrow <- 1\n",
    "fb_select_plot2_second$yAxisLabels <- fb_select_plot2_second$yAxisLabels[1]\n",
    "fb_select_plot2_second"
   ]
  },
  {
   "cell_type": "markdown",
   "metadata": {},
   "source": [
    "As seen in the plots above, `comment_ratio`, `like_ratio`, and `share_ratio` look very different now. `comment_ratio` still does not appear that it would be a great predictor, as there is a lot of overlap between post types and not a lot of variability within post types. But, `like_ratio`, and `share_ratio` appear to be useful as the variance in and between each plot is higher."
   ]
  },
  {
   "cell_type": "code",
   "execution_count": 302,
   "metadata": {},
   "outputs": [],
   "source": [
    "fb_train_selected_final <- fb_train_selected2 %>% \n",
    "            select(-comment_ratio)\n",
    "\n",
    "fb_test_selected_final <- fb_test_selected2 %>% \n",
    "            select(-comment_ratio)"
   ]
  },
  {
   "cell_type": "markdown",
   "metadata": {},
   "source": [
    "Now, our training and testing data set contain the following 7 columns:"
   ]
  },
  {
   "cell_type": "code",
   "execution_count": 303,
   "metadata": {},
   "outputs": [
    {
     "data": {
      "text/html": [
       "<style>\n",
       ".list-inline {list-style: none; margin:0; padding: 0}\n",
       ".list-inline>li {display: inline-block}\n",
       ".list-inline>li:not(:last-child)::after {content: \"\\00b7\"; padding: 0 .5ex}\n",
       "</style>\n",
       "<ol class=list-inline><li>'type'</li><li>'post_consumptions'</li><li>'reach_by_people_that_like_page'</li><li>'people_liked_and_engaged'</li><li>'like_ratio'</li><li>'share_ratio'</li><li>'engagement_ratio'</li></ol>\n"
      ],
      "text/latex": [
       "\\begin{enumerate*}\n",
       "\\item 'type'\n",
       "\\item 'post\\_consumptions'\n",
       "\\item 'reach\\_by\\_people\\_that\\_like\\_page'\n",
       "\\item 'people\\_liked\\_and\\_engaged'\n",
       "\\item 'like\\_ratio'\n",
       "\\item 'share\\_ratio'\n",
       "\\item 'engagement\\_ratio'\n",
       "\\end{enumerate*}\n"
      ],
      "text/markdown": [
       "1. 'type'\n",
       "2. 'post_consumptions'\n",
       "3. 'reach_by_people_that_like_page'\n",
       "4. 'people_liked_and_engaged'\n",
       "5. 'like_ratio'\n",
       "6. 'share_ratio'\n",
       "7. 'engagement_ratio'\n",
       "\n",
       "\n"
      ],
      "text/plain": [
       "[1] \"type\"                           \"post_consumptions\"             \n",
       "[3] \"reach_by_people_that_like_page\" \"people_liked_and_engaged\"      \n",
       "[5] \"like_ratio\"                     \"share_ratio\"                   \n",
       "[7] \"engagement_ratio\"              "
      ]
     },
     "metadata": {},
     "output_type": "display_data"
    },
    {
     "data": {
      "text/html": [
       "<style>\n",
       ".list-inline {list-style: none; margin:0; padding: 0}\n",
       ".list-inline>li {display: inline-block}\n",
       ".list-inline>li:not(:last-child)::after {content: \"\\00b7\"; padding: 0 .5ex}\n",
       "</style>\n",
       "<ol class=list-inline><li>'type'</li><li>'post_consumptions'</li><li>'reach_by_people_that_like_page'</li><li>'people_liked_and_engaged'</li><li>'like_ratio'</li><li>'share_ratio'</li><li>'engagement_ratio'</li></ol>\n"
      ],
      "text/latex": [
       "\\begin{enumerate*}\n",
       "\\item 'type'\n",
       "\\item 'post\\_consumptions'\n",
       "\\item 'reach\\_by\\_people\\_that\\_like\\_page'\n",
       "\\item 'people\\_liked\\_and\\_engaged'\n",
       "\\item 'like\\_ratio'\n",
       "\\item 'share\\_ratio'\n",
       "\\item 'engagement\\_ratio'\n",
       "\\end{enumerate*}\n"
      ],
      "text/markdown": [
       "1. 'type'\n",
       "2. 'post_consumptions'\n",
       "3. 'reach_by_people_that_like_page'\n",
       "4. 'people_liked_and_engaged'\n",
       "5. 'like_ratio'\n",
       "6. 'share_ratio'\n",
       "7. 'engagement_ratio'\n",
       "\n",
       "\n"
      ],
      "text/plain": [
       "[1] \"type\"                           \"post_consumptions\"             \n",
       "[3] \"reach_by_people_that_like_page\" \"people_liked_and_engaged\"      \n",
       "[5] \"like_ratio\"                     \"share_ratio\"                   \n",
       "[7] \"engagement_ratio\"              "
      ]
     },
     "metadata": {},
     "output_type": "display_data"
    }
   ],
   "source": [
    "colnames(fb_train_selected_final)\n",
    "colnames(fb_test_selected_final)"
   ]
  },
  {
   "cell_type": "markdown",
   "metadata": {},
   "source": [
    "#### Creating the model:\n",
    "\n",
    "First, a table was constructed to gain a necessary summary of the training data. Table `summary_table1` groups posts by type and computes the total of each."
   ]
  },
  {
   "cell_type": "code",
   "execution_count": 312,
   "metadata": {},
   "outputs": [
    {
     "name": "stderr",
     "output_type": "stream",
     "text": [
      "`summarise()` ungrouping output (override with `.groups` argument)\n",
      "\n"
     ]
    },
    {
     "data": {
      "text/html": [
       "<table>\n",
       "<caption>A tibble: 4 × 2</caption>\n",
       "<thead>\n",
       "\t<tr><th scope=col>type</th><th scope=col>total_of_type</th></tr>\n",
       "\t<tr><th scope=col>&lt;fct&gt;</th><th scope=col>&lt;int&gt;</th></tr>\n",
       "</thead>\n",
       "<tbody>\n",
       "\t<tr><td>Photo </td><td>317</td></tr>\n",
       "\t<tr><td>Status</td><td> 28</td></tr>\n",
       "\t<tr><td>Link  </td><td> 17</td></tr>\n",
       "\t<tr><td>Video </td><td>  6</td></tr>\n",
       "</tbody>\n",
       "</table>\n"
      ],
      "text/latex": [
       "A tibble: 4 × 2\n",
       "\\begin{tabular}{ll}\n",
       " type & total\\_of\\_type\\\\\n",
       " <fct> & <int>\\\\\n",
       "\\hline\n",
       "\t Photo  & 317\\\\\n",
       "\t Status &  28\\\\\n",
       "\t Link   &  17\\\\\n",
       "\t Video  &   6\\\\\n",
       "\\end{tabular}\n"
      ],
      "text/markdown": [
       "\n",
       "A tibble: 4 × 2\n",
       "\n",
       "| type &lt;fct&gt; | total_of_type &lt;int&gt; |\n",
       "|---|---|\n",
       "| Photo  | 317 |\n",
       "| Status |  28 |\n",
       "| Link   |  17 |\n",
       "| Video  |   6 |\n",
       "\n"
      ],
      "text/plain": [
       "  type   total_of_type\n",
       "1 Photo  317          \n",
       "2 Status  28          \n",
       "3 Link    17          \n",
       "4 Video    6          "
      ]
     },
     "metadata": {},
     "output_type": "display_data"
    }
   ],
   "source": [
    "summary_table1 = fb_train_selected_final %>% \n",
    "    group_by(type) %>%\n",
    "    summarize(total_of_type = n())\n",
    "\n",
    "summary_table1"
   ]
  },
  {
   "cell_type": "markdown",
   "metadata": {},
   "source": [
    "Looking at the number of each type of post, it is clear that we have a *class imbalance* in our training data. This occurs when one categorical label is much more common than another or others. If we do not fix this imbalance, since there is a much higher number of photos in the data than any other post type, we are much more likely to choose neighbours that are photos when using the KNN classification algorithm. This does raise some concerns about how well our model will be able to predict type (namely, posts that are of type `video`, with few observations), but we will attempt to maximize the accuracy of our results. We use the method of *oversampling*, which replicates observations of the rarer classes multiple times, making the number of observations of each type equal. Oversampling can be implemented with the `step_upsample` function."
   ]
  },
  {
   "cell_type": "code",
   "execution_count": 313,
   "metadata": {},
   "outputs": [
    {
     "data": {
      "text/plain": [
       "Data Recipe\n",
       "\n",
       "Inputs:\n",
       "\n",
       "      role #variables\n",
       "   outcome          1\n",
       " predictor          6\n",
       "\n",
       "Training data contained 368 data points and no missing data.\n",
       "\n",
       "Operations:\n",
       "\n",
       "Up-sampling based on type [trained]"
      ]
     },
     "metadata": {},
     "output_type": "display_data"
    }
   ],
   "source": [
    "upsample_recipe <- recipe(type ~ ., data = fb_train_selected_final) %>% \n",
    "                    step_upsample(type, over_ratio = 1, skip = FALSE ) %>% \n",
    "                    prep()\n",
    "upsample_recipe\n",
    "\n",
    "fb_train_upsampled <- upsample_recipe %>% bake(fb_train_selected_final)"
   ]
  },
  {
   "cell_type": "markdown",
   "metadata": {},
   "source": [
    "We will now compare the number of each post type, to ensure the oversampling worked:"
   ]
  },
  {
   "cell_type": "code",
   "execution_count": 314,
   "metadata": {},
   "outputs": [
    {
     "name": "stderr",
     "output_type": "stream",
     "text": [
      "`summarise()` ungrouping output (override with `.groups` argument)\n",
      "\n"
     ]
    },
    {
     "data": {
      "text/html": [
       "<table>\n",
       "<caption>A tibble: 4 × 2</caption>\n",
       "<thead>\n",
       "\t<tr><th scope=col>type</th><th scope=col>total_of_type</th></tr>\n",
       "\t<tr><th scope=col>&lt;fct&gt;</th><th scope=col>&lt;int&gt;</th></tr>\n",
       "</thead>\n",
       "<tbody>\n",
       "\t<tr><td>Photo </td><td>317</td></tr>\n",
       "\t<tr><td>Status</td><td>317</td></tr>\n",
       "\t<tr><td>Link  </td><td>317</td></tr>\n",
       "\t<tr><td>Video </td><td>317</td></tr>\n",
       "</tbody>\n",
       "</table>\n"
      ],
      "text/latex": [
       "A tibble: 4 × 2\n",
       "\\begin{tabular}{ll}\n",
       " type & total\\_of\\_type\\\\\n",
       " <fct> & <int>\\\\\n",
       "\\hline\n",
       "\t Photo  & 317\\\\\n",
       "\t Status & 317\\\\\n",
       "\t Link   & 317\\\\\n",
       "\t Video  & 317\\\\\n",
       "\\end{tabular}\n"
      ],
      "text/markdown": [
       "\n",
       "A tibble: 4 × 2\n",
       "\n",
       "| type &lt;fct&gt; | total_of_type &lt;int&gt; |\n",
       "|---|---|\n",
       "| Photo  | 317 |\n",
       "| Status | 317 |\n",
       "| Link   | 317 |\n",
       "| Video  | 317 |\n",
       "\n"
      ],
      "text/plain": [
       "  type   total_of_type\n",
       "1 Photo  317          \n",
       "2 Status 317          \n",
       "3 Link   317          \n",
       "4 Video  317          "
      ]
     },
     "metadata": {},
     "output_type": "display_data"
    }
   ],
   "source": [
    "summary_table2 = fb_train_upsampled %>% \n",
    "    group_by(type) %>%\n",
    "    summarize(total_of_type = n())\n",
    "\n",
    "summary_table2"
   ]
  },
  {
   "cell_type": "markdown",
   "metadata": {},
   "source": [
    "Now that the class imbalance has been fixed, we can proceed with creating our classification model. In the following cell, we create the model recipe. We will attempt to predict `type` from all columns we have left in our data frame as predictors. We include a `step_scale` and `step_center` to center and scale the data as good practice, to ensure that no variable which may be on a larger scale than another will dominate the predictions. The `prep` functions is used to compute anything necessary to run the recipe, e.g., the data's column means and standard deviations."
   ]
  },
  {
   "cell_type": "code",
   "execution_count": 335,
   "metadata": {},
   "outputs": [
    {
     "data": {
      "text/plain": [
       "Data Recipe\n",
       "\n",
       "Inputs:\n",
       "\n",
       "      role #variables\n",
       "   outcome          1\n",
       " predictor          6\n",
       "\n",
       "Training data contained 1268 data points and no missing data.\n",
       "\n",
       "Operations:\n",
       "\n",
       "Scaling for 6 items [trained]\n",
       "Centering for 6 items [trained]"
      ]
     },
     "metadata": {},
     "output_type": "display_data"
    }
   ],
   "source": [
    "# Create the recipe\n",
    "fb_recipe <- recipe(type ~  ., data = fb_train_upsampled) %>%\n",
    "                step_scale(all_predictors()) %>% \n",
    "                step_center(all_predictors()) %>% \n",
    "                prep()\n",
    "                \n",
    "fb_recipe"
   ]
  },
  {
   "cell_type": "markdown",
   "metadata": {},
   "source": [
    "We use the `bake` function to apply the recipe, so we can ensure that our changes have been applied and we are using the desired columns:"
   ]
  },
  {
   "cell_type": "code",
   "execution_count": 336,
   "metadata": {},
   "outputs": [
    {
     "data": {
      "text/html": [
       "<table>\n",
       "<caption>A tibble: 1268 × 7</caption>\n",
       "<thead>\n",
       "\t<tr><th scope=col>post_consumptions</th><th scope=col>reach_by_people_that_like_page</th><th scope=col>people_liked_and_engaged</th><th scope=col>like_ratio</th><th scope=col>share_ratio</th><th scope=col>engagement_ratio</th><th scope=col>type</th></tr>\n",
       "\t<tr><th scope=col>&lt;dbl&gt;</th><th scope=col>&lt;dbl&gt;</th><th scope=col>&lt;dbl&gt;</th><th scope=col>&lt;dbl&gt;</th><th scope=col>&lt;dbl&gt;</th><th scope=col>&lt;dbl&gt;</th><th scope=col>&lt;fct&gt;</th></tr>\n",
       "</thead>\n",
       "<tbody>\n",
       "\t<tr><td>-0.7825912</td><td>-1.01795068</td><td>-0.8449712</td><td>-0.03193900</td><td> 0.1414097</td><td>1.7605306</td><td>Photo</td></tr>\n",
       "\t<tr><td>-0.7848921</td><td>-1.03370862</td><td>-0.8308420</td><td> 0.36451342</td><td> 0.2183287</td><td>1.5045998</td><td>Photo</td></tr>\n",
       "\t<tr><td>-0.5888515</td><td>-0.83851723</td><td>-0.5439103</td><td> 0.38685080</td><td>-0.5557541</td><td>3.2007546</td><td>Photo</td></tr>\n",
       "\t<tr><td>-0.7154035</td><td> 0.06509125</td><td>-0.5156519</td><td> 1.87898506</td><td>-1.8385163</td><td>0.8256493</td><td>Photo</td></tr>\n",
       "\t<tr><td>-0.7407139</td><td>-0.93927601</td><td>-0.7580222</td><td> 0.03347166</td><td> 0.3429157</td><td>1.2712672</td><td>Photo</td></tr>\n",
       "\t<tr><td>-0.7890338</td><td>-0.95652923</td><td>-0.7949755</td><td> 0.42328669</td><td> 0.1385071</td><td>1.5775932</td><td>Photo</td></tr>\n",
       "\t<tr><td>-0.7945561</td><td>-0.96826142</td><td>-0.8091047</td><td> 0.82195852</td><td>-0.4029399</td><td>1.7760041</td><td>Photo</td></tr>\n",
       "\t<tr><td>-0.7784495</td><td>-0.98608974</td><td>-0.7754120</td><td> 1.22895855</td><td>-1.4617435</td><td>3.6332284</td><td>Photo</td></tr>\n",
       "\t<tr><td>⋮</td><td>⋮</td><td>⋮</td><td>⋮</td><td>⋮</td><td>⋮</td><td>⋮</td></tr>\n",
       "\t<tr><td> 0.2169401</td><td> 0.9650190</td><td>-0.01243463</td><td> 0.2666875</td><td>-0.1243104</td><td>-0.7219639</td><td>Video</td></tr>\n",
       "\t<tr><td> 2.5160460</td><td> 0.2794912</td><td> 1.43635287</td><td>-0.2565446</td><td> 0.3847670</td><td> 0.3425824</td><td>Video</td></tr>\n",
       "\t<tr><td> 2.5160460</td><td> 0.2794912</td><td> 1.43635287</td><td>-0.2565446</td><td> 0.3847670</td><td> 0.3425824</td><td>Video</td></tr>\n",
       "\t<tr><td> 0.2169401</td><td> 0.9650190</td><td>-0.01243463</td><td> 0.2666875</td><td>-0.1243104</td><td>-0.7219639</td><td>Video</td></tr>\n",
       "\t<tr><td>-0.6077192</td><td>-0.1060607</td><td>-0.57977677</td><td> 0.1093015</td><td> 0.1850921</td><td>-0.7640800</td><td>Video</td></tr>\n",
       "\t<tr><td> 2.5160460</td><td> 0.2794912</td><td> 1.43635287</td><td>-0.2565446</td><td> 0.3847670</td><td> 0.3425824</td><td>Video</td></tr>\n",
       "\t<tr><td>-0.5488150</td><td> 0.1460664</td><td>-0.48848034</td><td> 0.8563529</td><td>-0.7195429</td><td>-0.4840840</td><td>Video</td></tr>\n",
       "\t<tr><td>-0.5488150</td><td> 0.1460664</td><td>-0.48848034</td><td> 0.8563529</td><td>-0.7195429</td><td>-0.4840840</td><td>Video</td></tr>\n",
       "</tbody>\n",
       "</table>\n"
      ],
      "text/latex": [
       "A tibble: 1268 × 7\n",
       "\\begin{tabular}{lllllll}\n",
       " post\\_consumptions & reach\\_by\\_people\\_that\\_like\\_page & people\\_liked\\_and\\_engaged & like\\_ratio & share\\_ratio & engagement\\_ratio & type\\\\\n",
       " <dbl> & <dbl> & <dbl> & <dbl> & <dbl> & <dbl> & <fct>\\\\\n",
       "\\hline\n",
       "\t -0.7825912 & -1.01795068 & -0.8449712 & -0.03193900 &  0.1414097 & 1.7605306 & Photo\\\\\n",
       "\t -0.7848921 & -1.03370862 & -0.8308420 &  0.36451342 &  0.2183287 & 1.5045998 & Photo\\\\\n",
       "\t -0.5888515 & -0.83851723 & -0.5439103 &  0.38685080 & -0.5557541 & 3.2007546 & Photo\\\\\n",
       "\t -0.7154035 &  0.06509125 & -0.5156519 &  1.87898506 & -1.8385163 & 0.8256493 & Photo\\\\\n",
       "\t -0.7407139 & -0.93927601 & -0.7580222 &  0.03347166 &  0.3429157 & 1.2712672 & Photo\\\\\n",
       "\t -0.7890338 & -0.95652923 & -0.7949755 &  0.42328669 &  0.1385071 & 1.5775932 & Photo\\\\\n",
       "\t -0.7945561 & -0.96826142 & -0.8091047 &  0.82195852 & -0.4029399 & 1.7760041 & Photo\\\\\n",
       "\t -0.7784495 & -0.98608974 & -0.7754120 &  1.22895855 & -1.4617435 & 3.6332284 & Photo\\\\\n",
       "\t ⋮ & ⋮ & ⋮ & ⋮ & ⋮ & ⋮ & ⋮\\\\\n",
       "\t  0.2169401 &  0.9650190 & -0.01243463 &  0.2666875 & -0.1243104 & -0.7219639 & Video\\\\\n",
       "\t  2.5160460 &  0.2794912 &  1.43635287 & -0.2565446 &  0.3847670 &  0.3425824 & Video\\\\\n",
       "\t  2.5160460 &  0.2794912 &  1.43635287 & -0.2565446 &  0.3847670 &  0.3425824 & Video\\\\\n",
       "\t  0.2169401 &  0.9650190 & -0.01243463 &  0.2666875 & -0.1243104 & -0.7219639 & Video\\\\\n",
       "\t -0.6077192 & -0.1060607 & -0.57977677 &  0.1093015 &  0.1850921 & -0.7640800 & Video\\\\\n",
       "\t  2.5160460 &  0.2794912 &  1.43635287 & -0.2565446 &  0.3847670 &  0.3425824 & Video\\\\\n",
       "\t -0.5488150 &  0.1460664 & -0.48848034 &  0.8563529 & -0.7195429 & -0.4840840 & Video\\\\\n",
       "\t -0.5488150 &  0.1460664 & -0.48848034 &  0.8563529 & -0.7195429 & -0.4840840 & Video\\\\\n",
       "\\end{tabular}\n"
      ],
      "text/markdown": [
       "\n",
       "A tibble: 1268 × 7\n",
       "\n",
       "| post_consumptions &lt;dbl&gt; | reach_by_people_that_like_page &lt;dbl&gt; | people_liked_and_engaged &lt;dbl&gt; | like_ratio &lt;dbl&gt; | share_ratio &lt;dbl&gt; | engagement_ratio &lt;dbl&gt; | type &lt;fct&gt; |\n",
       "|---|---|---|---|---|---|---|\n",
       "| -0.7825912 | -1.01795068 | -0.8449712 | -0.03193900 |  0.1414097 | 1.7605306 | Photo |\n",
       "| -0.7848921 | -1.03370862 | -0.8308420 |  0.36451342 |  0.2183287 | 1.5045998 | Photo |\n",
       "| -0.5888515 | -0.83851723 | -0.5439103 |  0.38685080 | -0.5557541 | 3.2007546 | Photo |\n",
       "| -0.7154035 |  0.06509125 | -0.5156519 |  1.87898506 | -1.8385163 | 0.8256493 | Photo |\n",
       "| -0.7407139 | -0.93927601 | -0.7580222 |  0.03347166 |  0.3429157 | 1.2712672 | Photo |\n",
       "| -0.7890338 | -0.95652923 | -0.7949755 |  0.42328669 |  0.1385071 | 1.5775932 | Photo |\n",
       "| -0.7945561 | -0.96826142 | -0.8091047 |  0.82195852 | -0.4029399 | 1.7760041 | Photo |\n",
       "| -0.7784495 | -0.98608974 | -0.7754120 |  1.22895855 | -1.4617435 | 3.6332284 | Photo |\n",
       "| ⋮ | ⋮ | ⋮ | ⋮ | ⋮ | ⋮ | ⋮ |\n",
       "|  0.2169401 |  0.9650190 | -0.01243463 |  0.2666875 | -0.1243104 | -0.7219639 | Video |\n",
       "|  2.5160460 |  0.2794912 |  1.43635287 | -0.2565446 |  0.3847670 |  0.3425824 | Video |\n",
       "|  2.5160460 |  0.2794912 |  1.43635287 | -0.2565446 |  0.3847670 |  0.3425824 | Video |\n",
       "|  0.2169401 |  0.9650190 | -0.01243463 |  0.2666875 | -0.1243104 | -0.7219639 | Video |\n",
       "| -0.6077192 | -0.1060607 | -0.57977677 |  0.1093015 |  0.1850921 | -0.7640800 | Video |\n",
       "|  2.5160460 |  0.2794912 |  1.43635287 | -0.2565446 |  0.3847670 |  0.3425824 | Video |\n",
       "| -0.5488150 |  0.1460664 | -0.48848034 |  0.8563529 | -0.7195429 | -0.4840840 | Video |\n",
       "| -0.5488150 |  0.1460664 | -0.48848034 |  0.8563529 | -0.7195429 | -0.4840840 | Video |\n",
       "\n"
      ],
      "text/plain": [
       "     post_consumptions reach_by_people_that_like_page people_liked_and_engaged\n",
       "1    -0.7825912        -1.01795068                    -0.8449712              \n",
       "2    -0.7848921        -1.03370862                    -0.8308420              \n",
       "3    -0.5888515        -0.83851723                    -0.5439103              \n",
       "4    -0.7154035         0.06509125                    -0.5156519              \n",
       "5    -0.7407139        -0.93927601                    -0.7580222              \n",
       "6    -0.7890338        -0.95652923                    -0.7949755              \n",
       "7    -0.7945561        -0.96826142                    -0.8091047              \n",
       "8    -0.7784495        -0.98608974                    -0.7754120              \n",
       "⋮    ⋮                 ⋮                              ⋮                       \n",
       "1261  0.2169401         0.9650190                     -0.01243463             \n",
       "1262  2.5160460         0.2794912                      1.43635287             \n",
       "1263  2.5160460         0.2794912                      1.43635287             \n",
       "1264  0.2169401         0.9650190                     -0.01243463             \n",
       "1265 -0.6077192        -0.1060607                     -0.57977677             \n",
       "1266  2.5160460         0.2794912                      1.43635287             \n",
       "1267 -0.5488150         0.1460664                     -0.48848034             \n",
       "1268 -0.5488150         0.1460664                     -0.48848034             \n",
       "     like_ratio  share_ratio engagement_ratio type \n",
       "1    -0.03193900  0.1414097  1.7605306        Photo\n",
       "2     0.36451342  0.2183287  1.5045998        Photo\n",
       "3     0.38685080 -0.5557541  3.2007546        Photo\n",
       "4     1.87898506 -1.8385163  0.8256493        Photo\n",
       "5     0.03347166  0.3429157  1.2712672        Photo\n",
       "6     0.42328669  0.1385071  1.5775932        Photo\n",
       "7     0.82195852 -0.4029399  1.7760041        Photo\n",
       "8     1.22895855 -1.4617435  3.6332284        Photo\n",
       "⋮    ⋮           ⋮           ⋮                ⋮    \n",
       "1261  0.2666875  -0.1243104  -0.7219639       Video\n",
       "1262 -0.2565446   0.3847670   0.3425824       Video\n",
       "1263 -0.2565446   0.3847670   0.3425824       Video\n",
       "1264  0.2666875  -0.1243104  -0.7219639       Video\n",
       "1265  0.1093015   0.1850921  -0.7640800       Video\n",
       "1266 -0.2565446   0.3847670   0.3425824       Video\n",
       "1267  0.8563529  -0.7195429  -0.4840840       Video\n",
       "1268  0.8563529  -0.7195429  -0.4840840       Video"
      ]
     },
     "metadata": {},
     "output_type": "display_data"
    }
   ],
   "source": [
    "baked_fb <- bake(fb_recipe, fb_train_upsampled)\n",
    "baked_fb"
   ]
  },
  {
   "cell_type": "markdown",
   "metadata": {},
   "source": [
    "We use the `knn_spec` function to create our *model specification*. We specify the `neighbours` parameter as `tune()`, a `tidymodels` function which will choose the value of K that gives the highest accuracy. The other parameters are typical of the KNN classification algorithm.  "
   ]
  },
  {
   "cell_type": "code",
   "execution_count": 338,
   "metadata": {},
   "outputs": [],
   "source": [
    "# Create the tune spec\n",
    "knn_spec_tune <- nearest_neighbor(weight_func = \"rectangular\", neighbors = tune()) %>% \n",
    "            set_engine(\"kknn\") %>% \n",
    "            set_mode(\"classification\")"
   ]
  },
  {
   "cell_type": "markdown",
   "metadata": {},
   "source": [
    "Since we are attempting to tune our model for highest accuracy, we use *cross-validation*. This method comes from the idea that by further splitting our overall training data into a sub-training set and a \"validation\" set, we can train and evaluate a classifier on this training data, and choose the parameter that gives the best accuracy on our validation set. Building on this, we can use cross-validation to perform multiple different training/validation set splits. We do this using the `vfold_cv` function from `tidymodels`; this method splits our overall training data up in different ways, trains and evaluates a classifier for each split, and chooses the best value of K based on the all of the different results. This is useful because if we split the data only once, the choice of best parameter value will be influenced by whatever data is \"lucky\" enough to end up in the validation set. \n",
    "\n",
    "We pass in the `baked_fb` data set from above, and instruct the model to use 10 \"folds\". Generally, a higher number of folds will yield a more accurate parameter value, but the computation will take longer. We choose 10 as this is the upper bound on typical values for `v`."
   ]
  },
  {
   "cell_type": "code",
   "execution_count": 340,
   "metadata": {},
   "outputs": [],
   "source": [
    "# Create vfolds with v\n",
    "fb_vfold <- vfold_cv(baked_fb, v = 10, strata = type)"
   ]
  },
  {
   "cell_type": "markdown",
   "metadata": {},
   "source": [
    "We combine the recipe and model specification into a workflow using the following code. The `tune_grid` function is used to fit the model for each value in a range; we have given it a sequence of possible parameter values from 1 to 10. We use the `collect_metrics` function to aggregate the mean and standard error across the folds. "
   ]
  },
  {
   "cell_type": "code",
   "execution_count": 344,
   "metadata": {},
   "outputs": [
    {
     "data": {
      "text/html": [
       "<table>\n",
       "<caption>A tibble: 20 × 7</caption>\n",
       "<thead>\n",
       "\t<tr><th scope=col>neighbors</th><th scope=col>.metric</th><th scope=col>.estimator</th><th scope=col>mean</th><th scope=col>n</th><th scope=col>std_err</th><th scope=col>.config</th></tr>\n",
       "\t<tr><th scope=col>&lt;int&gt;</th><th scope=col>&lt;chr&gt;</th><th scope=col>&lt;chr&gt;</th><th scope=col>&lt;dbl&gt;</th><th scope=col>&lt;int&gt;</th><th scope=col>&lt;dbl&gt;</th><th scope=col>&lt;chr&gt;</th></tr>\n",
       "</thead>\n",
       "<tbody>\n",
       "\t<tr><td>1</td><td>accuracy</td><td>multiclass</td><td>0.9913558</td><td>10</td><td>0.002956476</td><td>Model01</td></tr>\n",
       "\t<tr><td>1</td><td>roc_auc </td><td>hand_till </td><td>0.9942372</td><td>10</td><td>0.001970984</td><td>Model01</td></tr>\n",
       "\t<tr><td>2</td><td>accuracy</td><td>multiclass</td><td>0.9913558</td><td>10</td><td>0.002956476</td><td>Model02</td></tr>\n",
       "\t<tr><td>2</td><td>roc_auc </td><td>hand_till </td><td>0.9942372</td><td>10</td><td>0.001970984</td><td>Model02</td></tr>\n",
       "\t<tr><td>3</td><td>accuracy</td><td>multiclass</td><td>0.9764113</td><td>10</td><td>0.003268489</td><td>Model03</td></tr>\n",
       "\t<tr><td>3</td><td>roc_auc </td><td>hand_till </td><td>0.9942372</td><td>10</td><td>0.001970984</td><td>Model03</td></tr>\n",
       "\t<tr><td>4</td><td>accuracy</td><td>multiclass</td><td>0.9764113</td><td>10</td><td>0.003268489</td><td>Model04</td></tr>\n",
       "\t<tr><td>4</td><td>roc_auc </td><td>hand_till </td><td>0.9942372</td><td>10</td><td>0.001970984</td><td>Model04</td></tr>\n",
       "\t<tr><td>⋮</td><td>⋮</td><td>⋮</td><td>⋮</td><td>⋮</td><td>⋮</td><td>⋮</td></tr>\n",
       "\t<tr><td> 7</td><td>accuracy</td><td>multiclass</td><td>0.9558216</td><td>10</td><td>0.005150160</td><td>Model07</td></tr>\n",
       "\t<tr><td> 7</td><td>roc_auc </td><td>hand_till </td><td>0.9940642</td><td>10</td><td>0.001997227</td><td>Model07</td></tr>\n",
       "\t<tr><td> 8</td><td>accuracy</td><td>multiclass</td><td>0.9558216</td><td>10</td><td>0.005150160</td><td>Model08</td></tr>\n",
       "\t<tr><td> 8</td><td>roc_auc </td><td>hand_till </td><td>0.9937556</td><td>10</td><td>0.001989682</td><td>Model08</td></tr>\n",
       "\t<tr><td> 9</td><td>accuracy</td><td>multiclass</td><td>0.9463458</td><td>10</td><td>0.004426765</td><td>Model09</td></tr>\n",
       "\t<tr><td> 9</td><td>roc_auc </td><td>hand_till </td><td>0.9937229</td><td>10</td><td>0.001893582</td><td>Model09</td></tr>\n",
       "\t<tr><td>10</td><td>accuracy</td><td>multiclass</td><td>0.9463458</td><td>10</td><td>0.004426765</td><td>Model10</td></tr>\n",
       "\t<tr><td>10</td><td>roc_auc </td><td>hand_till </td><td>0.9933198</td><td>10</td><td>0.001836849</td><td>Model10</td></tr>\n",
       "</tbody>\n",
       "</table>\n"
      ],
      "text/latex": [
       "A tibble: 20 × 7\n",
       "\\begin{tabular}{lllllll}\n",
       " neighbors & .metric & .estimator & mean & n & std\\_err & .config\\\\\n",
       " <int> & <chr> & <chr> & <dbl> & <int> & <dbl> & <chr>\\\\\n",
       "\\hline\n",
       "\t 1 & accuracy & multiclass & 0.9913558 & 10 & 0.002956476 & Model01\\\\\n",
       "\t 1 & roc\\_auc  & hand\\_till  & 0.9942372 & 10 & 0.001970984 & Model01\\\\\n",
       "\t 2 & accuracy & multiclass & 0.9913558 & 10 & 0.002956476 & Model02\\\\\n",
       "\t 2 & roc\\_auc  & hand\\_till  & 0.9942372 & 10 & 0.001970984 & Model02\\\\\n",
       "\t 3 & accuracy & multiclass & 0.9764113 & 10 & 0.003268489 & Model03\\\\\n",
       "\t 3 & roc\\_auc  & hand\\_till  & 0.9942372 & 10 & 0.001970984 & Model03\\\\\n",
       "\t 4 & accuracy & multiclass & 0.9764113 & 10 & 0.003268489 & Model04\\\\\n",
       "\t 4 & roc\\_auc  & hand\\_till  & 0.9942372 & 10 & 0.001970984 & Model04\\\\\n",
       "\t ⋮ & ⋮ & ⋮ & ⋮ & ⋮ & ⋮ & ⋮\\\\\n",
       "\t  7 & accuracy & multiclass & 0.9558216 & 10 & 0.005150160 & Model07\\\\\n",
       "\t  7 & roc\\_auc  & hand\\_till  & 0.9940642 & 10 & 0.001997227 & Model07\\\\\n",
       "\t  8 & accuracy & multiclass & 0.9558216 & 10 & 0.005150160 & Model08\\\\\n",
       "\t  8 & roc\\_auc  & hand\\_till  & 0.9937556 & 10 & 0.001989682 & Model08\\\\\n",
       "\t  9 & accuracy & multiclass & 0.9463458 & 10 & 0.004426765 & Model09\\\\\n",
       "\t  9 & roc\\_auc  & hand\\_till  & 0.9937229 & 10 & 0.001893582 & Model09\\\\\n",
       "\t 10 & accuracy & multiclass & 0.9463458 & 10 & 0.004426765 & Model10\\\\\n",
       "\t 10 & roc\\_auc  & hand\\_till  & 0.9933198 & 10 & 0.001836849 & Model10\\\\\n",
       "\\end{tabular}\n"
      ],
      "text/markdown": [
       "\n",
       "A tibble: 20 × 7\n",
       "\n",
       "| neighbors &lt;int&gt; | .metric &lt;chr&gt; | .estimator &lt;chr&gt; | mean &lt;dbl&gt; | n &lt;int&gt; | std_err &lt;dbl&gt; | .config &lt;chr&gt; |\n",
       "|---|---|---|---|---|---|---|\n",
       "| 1 | accuracy | multiclass | 0.9913558 | 10 | 0.002956476 | Model01 |\n",
       "| 1 | roc_auc  | hand_till  | 0.9942372 | 10 | 0.001970984 | Model01 |\n",
       "| 2 | accuracy | multiclass | 0.9913558 | 10 | 0.002956476 | Model02 |\n",
       "| 2 | roc_auc  | hand_till  | 0.9942372 | 10 | 0.001970984 | Model02 |\n",
       "| 3 | accuracy | multiclass | 0.9764113 | 10 | 0.003268489 | Model03 |\n",
       "| 3 | roc_auc  | hand_till  | 0.9942372 | 10 | 0.001970984 | Model03 |\n",
       "| 4 | accuracy | multiclass | 0.9764113 | 10 | 0.003268489 | Model04 |\n",
       "| 4 | roc_auc  | hand_till  | 0.9942372 | 10 | 0.001970984 | Model04 |\n",
       "| ⋮ | ⋮ | ⋮ | ⋮ | ⋮ | ⋮ | ⋮ |\n",
       "|  7 | accuracy | multiclass | 0.9558216 | 10 | 0.005150160 | Model07 |\n",
       "|  7 | roc_auc  | hand_till  | 0.9940642 | 10 | 0.001997227 | Model07 |\n",
       "|  8 | accuracy | multiclass | 0.9558216 | 10 | 0.005150160 | Model08 |\n",
       "|  8 | roc_auc  | hand_till  | 0.9937556 | 10 | 0.001989682 | Model08 |\n",
       "|  9 | accuracy | multiclass | 0.9463458 | 10 | 0.004426765 | Model09 |\n",
       "|  9 | roc_auc  | hand_till  | 0.9937229 | 10 | 0.001893582 | Model09 |\n",
       "| 10 | accuracy | multiclass | 0.9463458 | 10 | 0.004426765 | Model10 |\n",
       "| 10 | roc_auc  | hand_till  | 0.9933198 | 10 | 0.001836849 | Model10 |\n",
       "\n"
      ],
      "text/plain": [
       "   neighbors .metric  .estimator mean      n  std_err     .config\n",
       "1  1         accuracy multiclass 0.9913558 10 0.002956476 Model01\n",
       "2  1         roc_auc  hand_till  0.9942372 10 0.001970984 Model01\n",
       "3  2         accuracy multiclass 0.9913558 10 0.002956476 Model02\n",
       "4  2         roc_auc  hand_till  0.9942372 10 0.001970984 Model02\n",
       "5  3         accuracy multiclass 0.9764113 10 0.003268489 Model03\n",
       "6  3         roc_auc  hand_till  0.9942372 10 0.001970984 Model03\n",
       "7  4         accuracy multiclass 0.9764113 10 0.003268489 Model04\n",
       "8  4         roc_auc  hand_till  0.9942372 10 0.001970984 Model04\n",
       "⋮  ⋮         ⋮        ⋮          ⋮         ⋮  ⋮           ⋮      \n",
       "13  7        accuracy multiclass 0.9558216 10 0.005150160 Model07\n",
       "14  7        roc_auc  hand_till  0.9940642 10 0.001997227 Model07\n",
       "15  8        accuracy multiclass 0.9558216 10 0.005150160 Model08\n",
       "16  8        roc_auc  hand_till  0.9937556 10 0.001989682 Model08\n",
       "17  9        accuracy multiclass 0.9463458 10 0.004426765 Model09\n",
       "18  9        roc_auc  hand_till  0.9937229 10 0.001893582 Model09\n",
       "19 10        accuracy multiclass 0.9463458 10 0.004426765 Model10\n",
       "20 10        roc_auc  hand_till  0.9933198 10 0.001836849 Model10"
      ]
     },
     "metadata": {},
     "output_type": "display_data"
    }
   ],
   "source": [
    "gridvals = tibble(neighbors = 1:10)\n",
    "\n",
    "fb_fit <- workflow() %>% \n",
    "        add_recipe(fb_recipe) %>% \n",
    "        add_model(knn_spec_tune) %>% \n",
    "        tune_grid(resamples = fb_vfold, grid = gridvals) %>% \n",
    "        collect_metrics()\n",
    "\n",
    "fb_fit"
   ]
  },
  {
   "cell_type": "markdown",
   "metadata": {},
   "source": [
    "By filtering for accuracy and taking the mean from each parameter value, we create a plot of accuracy vs. value of K:"
   ]
  },
  {
   "cell_type": "code",
   "execution_count": 351,
   "metadata": {},
   "outputs": [
    {
     "data": {
      "image/png": "[encoded data removed]",
      "text/plain": [
       "plot without title"
      ]
     },
     "metadata": {
      "image/png": {
       "height": 360,
       "width": 1800
      }
     },
     "output_type": "display_data"
    }
   ],
   "source": [
    "fb_filtered <- fb_fit %>% filter(.metric == \"accuracy\")\n",
    "\n",
    "fb_filtered %>% ggplot(aes(x = neighbors, y = mean)) +\n",
    "            geom_point() +\n",
    "            geom_line() +\n",
    "            ggtitle(\"Mean accuracy vs. K\") +\n",
    "            theme(text = element_text(size=18)) +\n",
    "            scale_x_continuous(breaks = 1:10)"
   ]
  },
  {
   "cell_type": "markdown",
   "metadata": {},
   "source": [
    "From this plot, we see that $K = 2$ is the value of K which yields the highest accuracy. We create a new model specification, this time using the chosen parameter value as the `neighbours` argument. We again combine the previous steps into a workflow, but this time we use the `fit` function instead of `tune_grid` to fit the model to our training data."
   ]
  },
  {
   "cell_type": "code",
   "execution_count": 346,
   "metadata": {},
   "outputs": [
    {
     "data": {
      "text/plain": [
       "══ Workflow [trained] ══════════════════════════════════════════════════════════\n",
       "\u001b[3mPreprocessor:\u001b[23m Recipe\n",
       "\u001b[3mModel:\u001b[23m nearest_neighbor()\n",
       "\n",
       "── Preprocessor ────────────────────────────────────────────────────────────────\n",
       "2 Recipe Steps\n",
       "\n",
       "● step_scale()\n",
       "● step_center()\n",
       "\n",
       "── Model ───────────────────────────────────────────────────────────────────────\n",
       "\n",
       "Call:\n",
       "kknn::train.kknn(formula = ..y ~ ., data = data, ks = ~2, kernel = ~\"rectangular\")\n",
       "\n",
       "Type of response variable: nominal\n",
       "Minimal misclassification: 0.008675079\n",
       "Best kernel: rectangular\n",
       "Best k: 2"
      ]
     },
     "metadata": {},
     "output_type": "display_data"
    }
   ],
   "source": [
    "knn_spec <- nearest_neighbor(weight_func = \"rectangular\", neighbors = 2) %>%\n",
    "  set_engine(\"kknn\") %>%\n",
    "  set_mode(\"classification\")\n",
    "\n",
    "knn_fit <- workflow() %>%\n",
    "  add_recipe(fb_recipe) %>%\n",
    "  add_model(knn_spec) %>%\n",
    "  fit(data = baked_fb)\n",
    "knn_fit"
   ]
  },
  {
   "cell_type": "markdown",
   "metadata": {},
   "source": [
    "Finally, we use the `predict` function to apply our classification model to our testing set! We use `bind_cols` to append the predicted columns to our testing data set, and in the following cell, we obtain the metrics of our predictions compared to our actual posts' types. "
   ]
  },
  {
   "cell_type": "code",
   "execution_count": 356,
   "metadata": {},
   "outputs": [
    {
     "data": {
      "text/html": [
       "<table>\n",
       "<caption>A tibble: 122 × 8</caption>\n",
       "<thead>\n",
       "\t<tr><th scope=col>.pred_class</th><th scope=col>type</th><th scope=col>post_consumptions</th><th scope=col>reach_by_people_that_like_page</th><th scope=col>people_liked_and_engaged</th><th scope=col>like_ratio</th><th scope=col>share_ratio</th><th scope=col>engagement_ratio</th></tr>\n",
       "\t<tr><th scope=col>&lt;fct&gt;</th><th scope=col>&lt;fct&gt;</th><th scope=col>&lt;dbl&gt;</th><th scope=col>&lt;dbl&gt;</th><th scope=col>&lt;dbl&gt;</th><th scope=col>&lt;dbl&gt;</th><th scope=col>&lt;dbl&gt;</th><th scope=col>&lt;dbl&gt;</th></tr>\n",
       "</thead>\n",
       "<tbody>\n",
       "\t<tr><td>Photo</td><td>Photo </td><td>1119</td><td>32048</td><td>1386</td><td>0.8846370</td><td>0.08272369</td><td>0.035449250</td></tr>\n",
       "\t<tr><td>Photo</td><td>Photo </td><td> 364</td><td> 9328</td><td> 379</td><td>0.8924731</td><td>0.09677419</td><td>0.023862470</td></tr>\n",
       "\t<tr><td>Photo</td><td>Photo </td><td> 143</td><td> 1621</td><td> 143</td><td>0.7500000</td><td>0.25000000</td><td>0.035255233</td></tr>\n",
       "\t<tr><td>Photo</td><td>Status</td><td>1489</td><td> 5244</td><td> 995</td><td>0.8181818</td><td>0.15702479</td><td>0.014255419</td></tr>\n",
       "\t<tr><td>Photo</td><td>Status</td><td>1711</td><td> 5372</td><td>1200</td><td>0.8301887</td><td>0.16981132</td><td>0.012795751</td></tr>\n",
       "\t<tr><td>Photo</td><td>Status</td><td>3420</td><td> 9824</td><td>1779</td><td>0.8340081</td><td>0.14574899</td><td>0.025265957</td></tr>\n",
       "\t<tr><td>Photo</td><td>Video </td><td>1728</td><td>14112</td><td> 559</td><td>0.8218391</td><td>0.07471264</td><td>0.004805568</td></tr>\n",
       "\t<tr><td>Photo</td><td>Photo </td><td> 345</td><td> 2422</td><td> 268</td><td>0.7598039</td><td>0.23039216</td><td>0.038636364</td></tr>\n",
       "\t<tr><td>⋮</td><td>⋮</td><td>⋮</td><td>⋮</td><td>⋮</td><td>⋮</td><td>⋮</td><td>⋮</td></tr>\n",
       "\t<tr><td>Photo</td><td>Photo</td><td>1326</td><td>3578</td><td>441</td><td>0.7914110</td><td>0.19631902</td><td>0.03081285</td></tr>\n",
       "\t<tr><td>Photo</td><td>Photo</td><td>1441</td><td>4280</td><td>583</td><td>0.7529412</td><td>0.22352941</td><td>0.02621838</td></tr>\n",
       "\t<tr><td>Photo</td><td>Photo</td><td>1020</td><td>4232</td><td>466</td><td>0.7540984</td><td>0.24590164</td><td>0.01164122</td></tr>\n",
       "\t<tr><td>Photo</td><td>Photo</td><td>1452</td><td>3546</td><td>420</td><td>0.7738095</td><td>0.22619048</td><td>0.01459854</td></tr>\n",
       "\t<tr><td>Photo</td><td>Link </td><td> 581</td><td>8176</td><td>167</td><td>0.9439252</td><td>0.04672897</td><td>0.00270202</td></tr>\n",
       "\t<tr><td>Photo</td><td>Photo</td><td>1427</td><td>3788</td><td>487</td><td>0.6614173</td><td>0.28346457</td><td>0.02097094</td></tr>\n",
       "\t<tr><td>Photo</td><td>Photo</td><td>1348</td><td>3068</td><td>437</td><td>0.7592593</td><td>0.22222222</td><td>0.02142857</td></tr>\n",
       "\t<tr><td>Photo</td><td>Photo</td><td> 832</td><td>2452</td><td>370</td><td>0.6691176</td><td>0.27941176</td><td>0.03272377</td></tr>\n",
       "</tbody>\n",
       "</table>\n"
      ],
      "text/latex": [
       "A tibble: 122 × 8\n",
       "\\begin{tabular}{llllllll}\n",
       " .pred\\_class & type & post\\_consumptions & reach\\_by\\_people\\_that\\_like\\_page & people\\_liked\\_and\\_engaged & like\\_ratio & share\\_ratio & engagement\\_ratio\\\\\n",
       " <fct> & <fct> & <dbl> & <dbl> & <dbl> & <dbl> & <dbl> & <dbl>\\\\\n",
       "\\hline\n",
       "\t Photo & Photo  & 1119 & 32048 & 1386 & 0.8846370 & 0.08272369 & 0.035449250\\\\\n",
       "\t Photo & Photo  &  364 &  9328 &  379 & 0.8924731 & 0.09677419 & 0.023862470\\\\\n",
       "\t Photo & Photo  &  143 &  1621 &  143 & 0.7500000 & 0.25000000 & 0.035255233\\\\\n",
       "\t Photo & Status & 1489 &  5244 &  995 & 0.8181818 & 0.15702479 & 0.014255419\\\\\n",
       "\t Photo & Status & 1711 &  5372 & 1200 & 0.8301887 & 0.16981132 & 0.012795751\\\\\n",
       "\t Photo & Status & 3420 &  9824 & 1779 & 0.8340081 & 0.14574899 & 0.025265957\\\\\n",
       "\t Photo & Video  & 1728 & 14112 &  559 & 0.8218391 & 0.07471264 & 0.004805568\\\\\n",
       "\t Photo & Photo  &  345 &  2422 &  268 & 0.7598039 & 0.23039216 & 0.038636364\\\\\n",
       "\t ⋮ & ⋮ & ⋮ & ⋮ & ⋮ & ⋮ & ⋮ & ⋮\\\\\n",
       "\t Photo & Photo & 1326 & 3578 & 441 & 0.7914110 & 0.19631902 & 0.03081285\\\\\n",
       "\t Photo & Photo & 1441 & 4280 & 583 & 0.7529412 & 0.22352941 & 0.02621838\\\\\n",
       "\t Photo & Photo & 1020 & 4232 & 466 & 0.7540984 & 0.24590164 & 0.01164122\\\\\n",
       "\t Photo & Photo & 1452 & 3546 & 420 & 0.7738095 & 0.22619048 & 0.01459854\\\\\n",
       "\t Photo & Link  &  581 & 8176 & 167 & 0.9439252 & 0.04672897 & 0.00270202\\\\\n",
       "\t Photo & Photo & 1427 & 3788 & 487 & 0.6614173 & 0.28346457 & 0.02097094\\\\\n",
       "\t Photo & Photo & 1348 & 3068 & 437 & 0.7592593 & 0.22222222 & 0.02142857\\\\\n",
       "\t Photo & Photo &  832 & 2452 & 370 & 0.6691176 & 0.27941176 & 0.03272377\\\\\n",
       "\\end{tabular}\n"
      ],
      "text/markdown": [
       "\n",
       "A tibble: 122 × 8\n",
       "\n",
       "| .pred_class &lt;fct&gt; | type &lt;fct&gt; | post_consumptions &lt;dbl&gt; | reach_by_people_that_like_page &lt;dbl&gt; | people_liked_and_engaged &lt;dbl&gt; | like_ratio &lt;dbl&gt; | share_ratio &lt;dbl&gt; | engagement_ratio &lt;dbl&gt; |\n",
       "|---|---|---|---|---|---|---|---|\n",
       "| Photo | Photo  | 1119 | 32048 | 1386 | 0.8846370 | 0.08272369 | 0.035449250 |\n",
       "| Photo | Photo  |  364 |  9328 |  379 | 0.8924731 | 0.09677419 | 0.023862470 |\n",
       "| Photo | Photo  |  143 |  1621 |  143 | 0.7500000 | 0.25000000 | 0.035255233 |\n",
       "| Photo | Status | 1489 |  5244 |  995 | 0.8181818 | 0.15702479 | 0.014255419 |\n",
       "| Photo | Status | 1711 |  5372 | 1200 | 0.8301887 | 0.16981132 | 0.012795751 |\n",
       "| Photo | Status | 3420 |  9824 | 1779 | 0.8340081 | 0.14574899 | 0.025265957 |\n",
       "| Photo | Video  | 1728 | 14112 |  559 | 0.8218391 | 0.07471264 | 0.004805568 |\n",
       "| Photo | Photo  |  345 |  2422 |  268 | 0.7598039 | 0.23039216 | 0.038636364 |\n",
       "| ⋮ | ⋮ | ⋮ | ⋮ | ⋮ | ⋮ | ⋮ | ⋮ |\n",
       "| Photo | Photo | 1326 | 3578 | 441 | 0.7914110 | 0.19631902 | 0.03081285 |\n",
       "| Photo | Photo | 1441 | 4280 | 583 | 0.7529412 | 0.22352941 | 0.02621838 |\n",
       "| Photo | Photo | 1020 | 4232 | 466 | 0.7540984 | 0.24590164 | 0.01164122 |\n",
       "| Photo | Photo | 1452 | 3546 | 420 | 0.7738095 | 0.22619048 | 0.01459854 |\n",
       "| Photo | Link  |  581 | 8176 | 167 | 0.9439252 | 0.04672897 | 0.00270202 |\n",
       "| Photo | Photo | 1427 | 3788 | 487 | 0.6614173 | 0.28346457 | 0.02097094 |\n",
       "| Photo | Photo | 1348 | 3068 | 437 | 0.7592593 | 0.22222222 | 0.02142857 |\n",
       "| Photo | Photo |  832 | 2452 | 370 | 0.6691176 | 0.27941176 | 0.03272377 |\n",
       "\n"
      ],
      "text/plain": [
       "    .pred_class type   post_consumptions reach_by_people_that_like_page\n",
       "1   Photo       Photo  1119              32048                         \n",
       "2   Photo       Photo   364               9328                         \n",
       "3   Photo       Photo   143               1621                         \n",
       "4   Photo       Status 1489               5244                         \n",
       "5   Photo       Status 1711               5372                         \n",
       "6   Photo       Status 3420               9824                         \n",
       "7   Photo       Video  1728              14112                         \n",
       "8   Photo       Photo   345               2422                         \n",
       "⋮   ⋮           ⋮      ⋮                 ⋮                             \n",
       "115 Photo       Photo  1326              3578                          \n",
       "116 Photo       Photo  1441              4280                          \n",
       "117 Photo       Photo  1020              4232                          \n",
       "118 Photo       Photo  1452              3546                          \n",
       "119 Photo       Link    581              8176                          \n",
       "120 Photo       Photo  1427              3788                          \n",
       "121 Photo       Photo  1348              3068                          \n",
       "122 Photo       Photo   832              2452                          \n",
       "    people_liked_and_engaged like_ratio share_ratio engagement_ratio\n",
       "1   1386                     0.8846370  0.08272369  0.035449250     \n",
       "2    379                     0.8924731  0.09677419  0.023862470     \n",
       "3    143                     0.7500000  0.25000000  0.035255233     \n",
       "4    995                     0.8181818  0.15702479  0.014255419     \n",
       "5   1200                     0.8301887  0.16981132  0.012795751     \n",
       "6   1779                     0.8340081  0.14574899  0.025265957     \n",
       "7    559                     0.8218391  0.07471264  0.004805568     \n",
       "8    268                     0.7598039  0.23039216  0.038636364     \n",
       "⋮   ⋮                        ⋮          ⋮           ⋮               \n",
       "115 441                      0.7914110  0.19631902  0.03081285      \n",
       "116 583                      0.7529412  0.22352941  0.02621838      \n",
       "117 466                      0.7540984  0.24590164  0.01164122      \n",
       "118 420                      0.7738095  0.22619048  0.01459854      \n",
       "119 167                      0.9439252  0.04672897  0.00270202      \n",
       "120 487                      0.6614173  0.28346457  0.02097094      \n",
       "121 437                      0.7592593  0.22222222  0.02142857      \n",
       "122 370                      0.6691176  0.27941176  0.03272377      "
      ]
     },
     "metadata": {},
     "output_type": "display_data"
    }
   ],
   "source": [
    "fb_predictions <- predict(knn_fit, fb_test_selected_final) %>%\n",
    "  bind_cols(fb_test_selected_final)\n",
    "fb_predictions"
   ]
  },
  {
   "cell_type": "code",
   "execution_count": 357,
   "metadata": {},
   "outputs": [
    {
     "data": {
      "text/html": [
       "<table>\n",
       "<caption>A tibble: 2 × 3</caption>\n",
       "<thead>\n",
       "\t<tr><th scope=col>.metric</th><th scope=col>.estimator</th><th scope=col>.estimate</th></tr>\n",
       "\t<tr><th scope=col>&lt;chr&gt;</th><th scope=col>&lt;chr&gt;</th><th scope=col>&lt;dbl&gt;</th></tr>\n",
       "</thead>\n",
       "<tbody>\n",
       "\t<tr><td>accuracy</td><td>multiclass</td><td>0.8114754</td></tr>\n",
       "\t<tr><td>kap     </td><td>multiclass</td><td>0.0000000</td></tr>\n",
       "</tbody>\n",
       "</table>\n"
      ],
      "text/latex": [
       "A tibble: 2 × 3\n",
       "\\begin{tabular}{lll}\n",
       " .metric & .estimator & .estimate\\\\\n",
       " <chr> & <chr> & <dbl>\\\\\n",
       "\\hline\n",
       "\t accuracy & multiclass & 0.8114754\\\\\n",
       "\t kap      & multiclass & 0.0000000\\\\\n",
       "\\end{tabular}\n"
      ],
      "text/markdown": [
       "\n",
       "A tibble: 2 × 3\n",
       "\n",
       "| .metric &lt;chr&gt; | .estimator &lt;chr&gt; | .estimate &lt;dbl&gt; |\n",
       "|---|---|---|\n",
       "| accuracy | multiclass | 0.8114754 |\n",
       "| kap      | multiclass | 0.0000000 |\n",
       "\n"
      ],
      "text/plain": [
       "  .metric  .estimator .estimate\n",
       "1 accuracy multiclass 0.8114754\n",
       "2 kap      multiclass 0.0000000"
      ]
     },
     "metadata": {},
     "output_type": "display_data"
    }
   ],
   "source": [
    "fb_prediction_accuracy <- fb_predictions %>%\n",
    "  metrics(truth = type, estimate = .pred_class)\n",
    "fb_prediction_accuracy"
   ]
  },
  {
   "cell_type": "markdown",
   "metadata": {},
   "source": [
    "The accuracy of the model when predicting on the test set is 81%. We can further examine our results by creating a *confusion matrix* for the classifier; the columns represent the actual type of a post, while the rows represent the predicted type. We use the `conf_mat` function to create this matrix:"
   ]
  },
  {
   "cell_type": "code",
   "execution_count": 367,
   "metadata": {},
   "outputs": [
    {
     "data": {
      "text/plain": [
       "          Truth\n",
       "Prediction Photo Status Link Video\n",
       "    Photo     99     17    5     1\n",
       "    Status     0      0    0     0\n",
       "    Link       0      0    0     0\n",
       "    Video      0      0    0     0"
      ]
     },
     "metadata": {},
     "output_type": "display_data"
    },
    {
     "data": {
      "text/html": [
       "122"
      ],
      "text/latex": [
       "122"
      ],
      "text/markdown": [
       "122"
      ],
      "text/plain": [
       "[1] 122"
      ]
     },
     "metadata": {},
     "output_type": "display_data"
    },
    {
     "data": {
      "text/html": [
       "81.1475409836066"
      ],
      "text/latex": [
       "81.1475409836066"
      ],
      "text/markdown": [
       "81.1475409836066"
      ],
      "text/plain": [
       "[1] 81.14754"
      ]
     },
     "metadata": {},
     "output_type": "display_data"
    }
   ],
   "source": [
    "fb_type_mat <- fb_predictions %>% \n",
    "    conf_mat(truth = type, estimate = .pred_class)\n",
    "fb_type_mat\n",
    "\n",
    "# total number of posts in fb_test_selected_final\n",
    "nrow(fb_test_selected_final)\n",
    "\n",
    "# percentage of posts in fb_test_selected_final that are photos\n",
    "99/122*100"
   ]
  },
  {
   "cell_type": "markdown",
   "metadata": {},
   "source": [
    "With this visualization, it becomes apparent that our classifier predicted every post to be a photo. This is not an ideal outcome, but explains why we achieved a prediction accuracy of 81%. The vast majority of posts in the data set, and thus in both the training and the testing set, were actually photos. Because of this, despite the oversampling performed, photo was predicted as the type 100% of the time, yielding the correct result $(99\\ /\\ 122)*100 = 81\\% $ of the time."
   ]
  },
  {
   "cell_type": "markdown",
   "metadata": {},
   "source": [
    "Future questions following from this analysis may include:\n",
    "- Do paid posts generate more traffic than unpaid posts?\n",
    "- Does the category of a post (i.e., “action”, “product”, or “inspiration” classification) affect the overall and/or ratio of interactions on a post?\n",
    "- Do posts with more interactions overall correlate with increases in users liking a company’s Facebook page? \n",
    "\n",
    "In examining the data for classification, it is also expected that trends may emerge which could in the future be used to predict post engagement. This predictive knowledge could be used by companies looking to grow their social media reach, as they may more accurately tailor their posts to yield higher engagement before publishing."
   ]
  },
  {
   "cell_type": "markdown",
   "metadata": {},
   "source": [
    "### References: \n",
    "Statista. (2021). Facebook: Monthly Active Users 2021. Retrieved on February 28, 2021 from http://www.statista.com.ezproxy.library.ubc.ca/statistics/264810/number-of-monthly-active-facebook-users-worldwide/\n"
   ]
  }
 ],
 "metadata": {
  "kernelspec": {
   "display_name": "R",
   "language": "R",
   "name": "ir"
  },
  "language_info": {
   "codemirror_mode": "r",
   "file_extension": ".r",
   "mimetype": "text/x-r-source",
   "name": "R",
   "pygments_lexer": "r",
   "version": "4.0.0"
  }
 },
 "nbformat": 4,
 "nbformat_minor": 4
}
