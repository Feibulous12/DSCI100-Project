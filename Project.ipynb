{
 "cells": [
  {
   "cell_type": "markdown",
   "metadata": {},
   "source": [
    "# DSCI 100: Group Project\n",
    "\n",
    "# TODO: Insert project title\n",
    "\n",
    "\n",
    "## Classification of Facebook Posts\n",
    "\n",
    "#### Introduction:\n",
    "\n",
    "The dataset *Facebook performance metrics* (Moro et al., 2016) contains data related to posts published throughout the year 2014 on a renowned cosmetics brand's Facebook page. Post information such as type (photo, status, link, or video), time posted (month, day of week, and hour), user engagement (comments, likes, and shares), impressions on each post (too many columns to list here), and whether the post was paid or unpaid is included in the dataset. This project proposes to use all relevant columns from this dataset to determine the type of a brand's Facebook post. We will determine which of these metrics are relivant in our cleaning and exploration of the data.\n",
    "\n",
    "TODO: (from prop feedback) Please provide some background info, so that someone unfamiliar with it will be prepared to understand the rest of your proposal.\n"
   ]
  },
  {
   "cell_type": "markdown",
   "metadata": {},
   "source": [
    "# TODO: EXPLICITELY STATE OUR RESEARCH QUESTION HERE!!!\n",
    "**from proposal feedback, Please state your proposal question clearly and in a form of a \"predictive question\"**"
   ]
  },
  {
   "cell_type": "markdown",
   "metadata": {},
   "source": [
    "#### Preliminary exploratory data analysis:\n",
    "\n",
    "We begin by loading the relevant libraries."
   ]
  },
  {
   "cell_type": "code",
   "execution_count": 1,
   "metadata": {},
   "outputs": [
    {
     "name": "stderr",
     "output_type": "stream",
     "text": [
      "── \u001b[1mAttaching packages\u001b[22m ─────────────────────────────────────────────────────────────────────────────────────────────────────────────────────────────────────────────── tidyverse 1.3.0 ──\n",
      "\n",
      "\u001b[32m✔\u001b[39m \u001b[34mggplot2\u001b[39m 3.3.3     \u001b[32m✔\u001b[39m \u001b[34mpurrr  \u001b[39m 0.3.4\n",
      "\u001b[32m✔\u001b[39m \u001b[34mtibble \u001b[39m 3.1.0     \u001b[32m✔\u001b[39m \u001b[34mdplyr  \u001b[39m 1.0.5\n",
      "\u001b[32m✔\u001b[39m \u001b[34mtidyr  \u001b[39m 1.1.3     \u001b[32m✔\u001b[39m \u001b[34mstringr\u001b[39m 1.4.0\n",
      "\u001b[32m✔\u001b[39m \u001b[34mreadr  \u001b[39m 1.4.0     \u001b[32m✔\u001b[39m \u001b[34mforcats\u001b[39m 0.5.1\n",
      "\n",
      "── \u001b[1mConflicts\u001b[22m ────────────────────────────────────────────────────────────────────────────────────────────────────────────────────────────────────────────────── tidyverse_conflicts() ──\n",
      "\u001b[31m✖\u001b[39m \u001b[34mdplyr\u001b[39m::\u001b[32mfilter()\u001b[39m masks \u001b[34mstats\u001b[39m::filter()\n",
      "\u001b[31m✖\u001b[39m \u001b[34mdplyr\u001b[39m::\u001b[32mlag()\u001b[39m    masks \u001b[34mstats\u001b[39m::lag()\n",
      "\n",
      "── \u001b[1mAttaching packages\u001b[22m ────────────────────────────────────────────────────────────────────────────────────────────────────────────────────────────────────────────── tidymodels 0.1.2 ──\n",
      "\n",
      "\u001b[32m✔\u001b[39m \u001b[34mbroom    \u001b[39m 0.7.6      \u001b[32m✔\u001b[39m \u001b[34mrecipes  \u001b[39m 0.1.15\n",
      "\u001b[32m✔\u001b[39m \u001b[34mdials    \u001b[39m 0.0.9      \u001b[32m✔\u001b[39m \u001b[34mrsample  \u001b[39m 0.0.9 \n",
      "\u001b[32m✔\u001b[39m \u001b[34minfer    \u001b[39m 0.5.4      \u001b[32m✔\u001b[39m \u001b[34mtune     \u001b[39m 0.1.3 \n",
      "\u001b[32m✔\u001b[39m \u001b[34mmodeldata\u001b[39m 0.1.0      \u001b[32m✔\u001b[39m \u001b[34mworkflows\u001b[39m 0.2.2 \n",
      "\u001b[32m✔\u001b[39m \u001b[34mparsnip  \u001b[39m 0.1.5      \u001b[32m✔\u001b[39m \u001b[34myardstick\u001b[39m 0.0.8 \n",
      "\n",
      "── \u001b[1mConflicts\u001b[22m ───────────────────────────────────────────────────────────────────────────────────────────────────────────────────────────────────────────────── tidymodels_conflicts() ──\n",
      "\u001b[31m✖\u001b[39m \u001b[34mscales\u001b[39m::\u001b[32mdiscard()\u001b[39m masks \u001b[34mpurrr\u001b[39m::discard()\n",
      "\u001b[31m✖\u001b[39m \u001b[34mdplyr\u001b[39m::\u001b[32mfilter()\u001b[39m   masks \u001b[34mstats\u001b[39m::filter()\n",
      "\u001b[31m✖\u001b[39m \u001b[34mrecipes\u001b[39m::\u001b[32mfixed()\u001b[39m  masks \u001b[34mstringr\u001b[39m::fixed()\n",
      "\u001b[31m✖\u001b[39m \u001b[34mdplyr\u001b[39m::\u001b[32mlag()\u001b[39m      masks \u001b[34mstats\u001b[39m::lag()\n",
      "\u001b[31m✖\u001b[39m \u001b[34myardstick\u001b[39m::\u001b[32mspec()\u001b[39m masks \u001b[34mreadr\u001b[39m::spec()\n",
      "\u001b[31m✖\u001b[39m \u001b[34mrecipes\u001b[39m::\u001b[32mstep()\u001b[39m   masks \u001b[34mstats\u001b[39m::step()\n",
      "\n",
      "Registered S3 method overwritten by 'GGally':\n",
      "  method from   \n",
      "  +.gg   ggplot2\n",
      "\n"
     ]
    }
   ],
   "source": [
    "# Load libraries for preliminary data analysis:\n",
    "library(tidyverse)\n",
    "library(repr)\n",
    "library(readxl)\n",
    "library(tidymodels)\n",
    "library(GGally)"
   ]
  },
  {
   "cell_type": "markdown",
   "metadata": {},
   "source": [
    "The following cell loads the dataset into R; as the dataset on the web is contained in a zip folder, the .csv file was manually extracted and pushed to the working Github repository.\n",
    "\n",
    "The dataset is already in tidy format. The column headings were made more usable by removing spaces and shortening longer headings."
   ]
  },
  {
   "cell_type": "code",
   "execution_count": 2,
   "metadata": {},
   "outputs": [
    {
     "name": "stderr",
     "output_type": "stream",
     "text": [
      "\u001b[36mℹ\u001b[39m Using \u001b[34m\u001b[34m','\u001b[34m\u001b[39m as decimal and \u001b[34m\u001b[34m'.'\u001b[34m\u001b[39m as grouping mark. Use \u001b[30m\u001b[47m\u001b[30m\u001b[47m`read_delim()`\u001b[47m\u001b[30m\u001b[49m\u001b[39m for more control.\n",
      "\n"
     ]
    },
    {
     "data": {
      "text/html": [
       "<table class=\"dataframe\">\n",
       "<caption>A spec_tbl_df: 500 × 19</caption>\n",
       "<thead>\n",
       "\t<tr><th scope=col>Page total likes</th><th scope=col>Type</th><th scope=col>Category</th><th scope=col>Post Month</th><th scope=col>Post Weekday</th><th scope=col>Post Hour</th><th scope=col>Paid</th><th scope=col>Lifetime Post Total Reach</th><th scope=col>Lifetime Post Total Impressions</th><th scope=col>Lifetime Engaged Users</th><th scope=col>Lifetime Post Consumers</th><th scope=col>Lifetime Post Consumptions</th><th scope=col>Lifetime Post Impressions by people who have liked your Page</th><th scope=col>Lifetime Post reach by people who like your Page</th><th scope=col>Lifetime People who have liked your Page and engaged with your post</th><th scope=col>comment</th><th scope=col>like</th><th scope=col>share</th><th scope=col>Total Interactions</th></tr>\n",
       "\t<tr><th scope=col>&lt;dbl&gt;</th><th scope=col>&lt;chr&gt;</th><th scope=col>&lt;dbl&gt;</th><th scope=col>&lt;dbl&gt;</th><th scope=col>&lt;dbl&gt;</th><th scope=col>&lt;dbl&gt;</th><th scope=col>&lt;dbl&gt;</th><th scope=col>&lt;dbl&gt;</th><th scope=col>&lt;dbl&gt;</th><th scope=col>&lt;dbl&gt;</th><th scope=col>&lt;dbl&gt;</th><th scope=col>&lt;dbl&gt;</th><th scope=col>&lt;dbl&gt;</th><th scope=col>&lt;dbl&gt;</th><th scope=col>&lt;dbl&gt;</th><th scope=col>&lt;dbl&gt;</th><th scope=col>&lt;dbl&gt;</th><th scope=col>&lt;dbl&gt;</th><th scope=col>&lt;dbl&gt;</th></tr>\n",
       "</thead>\n",
       "<tbody>\n",
       "\t<tr><td>139441</td><td>Photo </td><td>2</td><td>12</td><td>4</td><td> 3</td><td>0</td><td> 2752</td><td> 5091</td><td> 178</td><td> 109</td><td> 159</td><td> 3078</td><td> 1640</td><td> 119</td><td> 4</td><td>  79</td><td> 17</td><td> 100</td></tr>\n",
       "\t<tr><td>139441</td><td>Status</td><td>2</td><td>12</td><td>3</td><td>10</td><td>0</td><td>10460</td><td>19057</td><td>1457</td><td>1361</td><td>1674</td><td>11710</td><td> 6112</td><td>1108</td><td> 5</td><td> 130</td><td> 29</td><td> 164</td></tr>\n",
       "\t<tr><td>139441</td><td>Photo </td><td>3</td><td>12</td><td>3</td><td> 3</td><td>0</td><td> 2413</td><td> 4373</td><td> 177</td><td> 113</td><td> 154</td><td> 2812</td><td> 1503</td><td> 132</td><td> 0</td><td>  66</td><td> 14</td><td>  80</td></tr>\n",
       "\t<tr><td>139441</td><td>Photo </td><td>2</td><td>12</td><td>2</td><td>10</td><td>1</td><td>50128</td><td>87991</td><td>2211</td><td> 790</td><td>1119</td><td>61027</td><td>32048</td><td>1386</td><td>58</td><td>1572</td><td>147</td><td>1777</td></tr>\n",
       "\t<tr><td>139441</td><td>Photo </td><td>2</td><td>12</td><td>2</td><td> 3</td><td>0</td><td> 7244</td><td>13594</td><td> 671</td><td> 410</td><td> 580</td><td> 6228</td><td> 3200</td><td> 396</td><td>19</td><td> 325</td><td> 49</td><td> 393</td></tr>\n",
       "\t<tr><td>139441</td><td>Status</td><td>2</td><td>12</td><td>1</td><td> 9</td><td>0</td><td>10472</td><td>20849</td><td>1191</td><td>1073</td><td>1389</td><td>16034</td><td> 7852</td><td>1016</td><td> 1</td><td> 152</td><td> 33</td><td> 186</td></tr>\n",
       "\t<tr><td>139441</td><td>Photo </td><td>3</td><td>12</td><td>1</td><td> 3</td><td>1</td><td>11692</td><td>19479</td><td> 481</td><td> 265</td><td> 364</td><td>15432</td><td> 9328</td><td> 379</td><td> 3</td><td> 249</td><td> 27</td><td> 279</td></tr>\n",
       "\t<tr><td>139441</td><td>Photo </td><td>3</td><td>12</td><td>7</td><td> 9</td><td>1</td><td>13720</td><td>24137</td><td> 537</td><td> 232</td><td> 305</td><td>19728</td><td>11056</td><td> 422</td><td> 0</td><td> 325</td><td> 14</td><td> 339</td></tr>\n",
       "\t<tr><td>⋮</td><td>⋮</td><td>⋮</td><td>⋮</td><td>⋮</td><td>⋮</td><td>⋮</td><td>⋮</td><td>⋮</td><td>⋮</td><td>⋮</td><td>⋮</td><td>⋮</td><td>⋮</td><td>⋮</td><td>⋮</td><td>⋮</td><td>⋮</td><td>⋮</td></tr>\n",
       "\t<tr><td>85979</td><td>Link </td><td>1</td><td>1</td><td>5</td><td>11</td><td> 0</td><td>45920</td><td> 5808</td><td> 753</td><td> 655</td><td> 763</td><td>15766</td><td>10720</td><td>220</td><td> 0</td><td>128</td><td> 9</td><td>137</td></tr>\n",
       "\t<tr><td>85093</td><td>Photo</td><td>3</td><td>1</td><td>1</td><td> 2</td><td> 0</td><td> 8412</td><td>13960</td><td>1179</td><td>1111</td><td>1632</td><td> 8632</td><td> 5348</td><td>699</td><td>17</td><td>185</td><td>55</td><td>257</td></tr>\n",
       "\t<tr><td>85093</td><td>Photo</td><td>3</td><td>1</td><td>7</td><td>10</td><td> 0</td><td> 5400</td><td> 9218</td><td> 810</td><td> 756</td><td>1003</td><td> 5654</td><td> 3230</td><td>422</td><td>10</td><td>125</td><td>41</td><td>176</td></tr>\n",
       "\t<tr><td>85093</td><td>Photo</td><td>3</td><td>1</td><td>7</td><td> 2</td><td> 0</td><td> 4684</td><td> 7536</td><td> 733</td><td> 708</td><td> 985</td><td> 4750</td><td> 2876</td><td>392</td><td> 5</td><td> 53</td><td>26</td><td> 84</td></tr>\n",
       "\t<tr><td>81370</td><td>Photo</td><td>2</td><td>1</td><td>5</td><td> 8</td><td> 0</td><td> 3480</td><td> 6229</td><td> 537</td><td> 508</td><td> 687</td><td> 3961</td><td> 2104</td><td>301</td><td> 0</td><td> 53</td><td>22</td><td> 75</td></tr>\n",
       "\t<tr><td>81370</td><td>Photo</td><td>1</td><td>1</td><td>5</td><td> 2</td><td> 0</td><td> 3778</td><td> 7216</td><td> 625</td><td> 572</td><td> 795</td><td> 4742</td><td> 2388</td><td>363</td><td> 4</td><td> 93</td><td>18</td><td>115</td></tr>\n",
       "\t<tr><td>81370</td><td>Photo</td><td>3</td><td>1</td><td>4</td><td>11</td><td> 0</td><td> 4156</td><td> 7564</td><td> 626</td><td> 574</td><td> 832</td><td> 4534</td><td> 2452</td><td>370</td><td> 7</td><td> 91</td><td>38</td><td>136</td></tr>\n",
       "\t<tr><td>81370</td><td>Photo</td><td>2</td><td>1</td><td>4</td><td> 4</td><td>NA</td><td> 4188</td><td> 7292</td><td> 564</td><td> 524</td><td> 743</td><td> 3861</td><td> 2200</td><td>316</td><td> 0</td><td> 91</td><td>28</td><td>119</td></tr>\n",
       "</tbody>\n",
       "</table>\n"
      ],
      "text/latex": [
       "A spec\\_tbl\\_df: 500 × 19\n",
       "\\begin{tabular}{lllllllllllllllllll}\n",
       " Page total likes & Type & Category & Post Month & Post Weekday & Post Hour & Paid & Lifetime Post Total Reach & Lifetime Post Total Impressions & Lifetime Engaged Users & Lifetime Post Consumers & Lifetime Post Consumptions & Lifetime Post Impressions by people who have liked your Page & Lifetime Post reach by people who like your Page & Lifetime People who have liked your Page and engaged with your post & comment & like & share & Total Interactions\\\\\n",
       " <dbl> & <chr> & <dbl> & <dbl> & <dbl> & <dbl> & <dbl> & <dbl> & <dbl> & <dbl> & <dbl> & <dbl> & <dbl> & <dbl> & <dbl> & <dbl> & <dbl> & <dbl> & <dbl>\\\\\n",
       "\\hline\n",
       "\t 139441 & Photo  & 2 & 12 & 4 &  3 & 0 &  2752 &  5091 &  178 &  109 &  159 &  3078 &  1640 &  119 &  4 &   79 &  17 &  100\\\\\n",
       "\t 139441 & Status & 2 & 12 & 3 & 10 & 0 & 10460 & 19057 & 1457 & 1361 & 1674 & 11710 &  6112 & 1108 &  5 &  130 &  29 &  164\\\\\n",
       "\t 139441 & Photo  & 3 & 12 & 3 &  3 & 0 &  2413 &  4373 &  177 &  113 &  154 &  2812 &  1503 &  132 &  0 &   66 &  14 &   80\\\\\n",
       "\t 139441 & Photo  & 2 & 12 & 2 & 10 & 1 & 50128 & 87991 & 2211 &  790 & 1119 & 61027 & 32048 & 1386 & 58 & 1572 & 147 & 1777\\\\\n",
       "\t 139441 & Photo  & 2 & 12 & 2 &  3 & 0 &  7244 & 13594 &  671 &  410 &  580 &  6228 &  3200 &  396 & 19 &  325 &  49 &  393\\\\\n",
       "\t 139441 & Status & 2 & 12 & 1 &  9 & 0 & 10472 & 20849 & 1191 & 1073 & 1389 & 16034 &  7852 & 1016 &  1 &  152 &  33 &  186\\\\\n",
       "\t 139441 & Photo  & 3 & 12 & 1 &  3 & 1 & 11692 & 19479 &  481 &  265 &  364 & 15432 &  9328 &  379 &  3 &  249 &  27 &  279\\\\\n",
       "\t 139441 & Photo  & 3 & 12 & 7 &  9 & 1 & 13720 & 24137 &  537 &  232 &  305 & 19728 & 11056 &  422 &  0 &  325 &  14 &  339\\\\\n",
       "\t ⋮ & ⋮ & ⋮ & ⋮ & ⋮ & ⋮ & ⋮ & ⋮ & ⋮ & ⋮ & ⋮ & ⋮ & ⋮ & ⋮ & ⋮ & ⋮ & ⋮ & ⋮ & ⋮\\\\\n",
       "\t 85979 & Link  & 1 & 1 & 5 & 11 &  0 & 45920 &  5808 &  753 &  655 &  763 & 15766 & 10720 & 220 &  0 & 128 &  9 & 137\\\\\n",
       "\t 85093 & Photo & 3 & 1 & 1 &  2 &  0 &  8412 & 13960 & 1179 & 1111 & 1632 &  8632 &  5348 & 699 & 17 & 185 & 55 & 257\\\\\n",
       "\t 85093 & Photo & 3 & 1 & 7 & 10 &  0 &  5400 &  9218 &  810 &  756 & 1003 &  5654 &  3230 & 422 & 10 & 125 & 41 & 176\\\\\n",
       "\t 85093 & Photo & 3 & 1 & 7 &  2 &  0 &  4684 &  7536 &  733 &  708 &  985 &  4750 &  2876 & 392 &  5 &  53 & 26 &  84\\\\\n",
       "\t 81370 & Photo & 2 & 1 & 5 &  8 &  0 &  3480 &  6229 &  537 &  508 &  687 &  3961 &  2104 & 301 &  0 &  53 & 22 &  75\\\\\n",
       "\t 81370 & Photo & 1 & 1 & 5 &  2 &  0 &  3778 &  7216 &  625 &  572 &  795 &  4742 &  2388 & 363 &  4 &  93 & 18 & 115\\\\\n",
       "\t 81370 & Photo & 3 & 1 & 4 & 11 &  0 &  4156 &  7564 &  626 &  574 &  832 &  4534 &  2452 & 370 &  7 &  91 & 38 & 136\\\\\n",
       "\t 81370 & Photo & 2 & 1 & 4 &  4 & NA &  4188 &  7292 &  564 &  524 &  743 &  3861 &  2200 & 316 &  0 &  91 & 28 & 119\\\\\n",
       "\\end{tabular}\n"
      ],
      "text/markdown": [
       "\n",
       "A spec_tbl_df: 500 × 19\n",
       "\n",
       "| Page total likes &lt;dbl&gt; | Type &lt;chr&gt; | Category &lt;dbl&gt; | Post Month &lt;dbl&gt; | Post Weekday &lt;dbl&gt; | Post Hour &lt;dbl&gt; | Paid &lt;dbl&gt; | Lifetime Post Total Reach &lt;dbl&gt; | Lifetime Post Total Impressions &lt;dbl&gt; | Lifetime Engaged Users &lt;dbl&gt; | Lifetime Post Consumers &lt;dbl&gt; | Lifetime Post Consumptions &lt;dbl&gt; | Lifetime Post Impressions by people who have liked your Page &lt;dbl&gt; | Lifetime Post reach by people who like your Page &lt;dbl&gt; | Lifetime People who have liked your Page and engaged with your post &lt;dbl&gt; | comment &lt;dbl&gt; | like &lt;dbl&gt; | share &lt;dbl&gt; | Total Interactions &lt;dbl&gt; |\n",
       "|---|---|---|---|---|---|---|---|---|---|---|---|---|---|---|---|---|---|---|\n",
       "| 139441 | Photo  | 2 | 12 | 4 |  3 | 0 |  2752 |  5091 |  178 |  109 |  159 |  3078 |  1640 |  119 |  4 |   79 |  17 |  100 |\n",
       "| 139441 | Status | 2 | 12 | 3 | 10 | 0 | 10460 | 19057 | 1457 | 1361 | 1674 | 11710 |  6112 | 1108 |  5 |  130 |  29 |  164 |\n",
       "| 139441 | Photo  | 3 | 12 | 3 |  3 | 0 |  2413 |  4373 |  177 |  113 |  154 |  2812 |  1503 |  132 |  0 |   66 |  14 |   80 |\n",
       "| 139441 | Photo  | 2 | 12 | 2 | 10 | 1 | 50128 | 87991 | 2211 |  790 | 1119 | 61027 | 32048 | 1386 | 58 | 1572 | 147 | 1777 |\n",
       "| 139441 | Photo  | 2 | 12 | 2 |  3 | 0 |  7244 | 13594 |  671 |  410 |  580 |  6228 |  3200 |  396 | 19 |  325 |  49 |  393 |\n",
       "| 139441 | Status | 2 | 12 | 1 |  9 | 0 | 10472 | 20849 | 1191 | 1073 | 1389 | 16034 |  7852 | 1016 |  1 |  152 |  33 |  186 |\n",
       "| 139441 | Photo  | 3 | 12 | 1 |  3 | 1 | 11692 | 19479 |  481 |  265 |  364 | 15432 |  9328 |  379 |  3 |  249 |  27 |  279 |\n",
       "| 139441 | Photo  | 3 | 12 | 7 |  9 | 1 | 13720 | 24137 |  537 |  232 |  305 | 19728 | 11056 |  422 |  0 |  325 |  14 |  339 |\n",
       "| ⋮ | ⋮ | ⋮ | ⋮ | ⋮ | ⋮ | ⋮ | ⋮ | ⋮ | ⋮ | ⋮ | ⋮ | ⋮ | ⋮ | ⋮ | ⋮ | ⋮ | ⋮ | ⋮ |\n",
       "| 85979 | Link  | 1 | 1 | 5 | 11 |  0 | 45920 |  5808 |  753 |  655 |  763 | 15766 | 10720 | 220 |  0 | 128 |  9 | 137 |\n",
       "| 85093 | Photo | 3 | 1 | 1 |  2 |  0 |  8412 | 13960 | 1179 | 1111 | 1632 |  8632 |  5348 | 699 | 17 | 185 | 55 | 257 |\n",
       "| 85093 | Photo | 3 | 1 | 7 | 10 |  0 |  5400 |  9218 |  810 |  756 | 1003 |  5654 |  3230 | 422 | 10 | 125 | 41 | 176 |\n",
       "| 85093 | Photo | 3 | 1 | 7 |  2 |  0 |  4684 |  7536 |  733 |  708 |  985 |  4750 |  2876 | 392 |  5 |  53 | 26 |  84 |\n",
       "| 81370 | Photo | 2 | 1 | 5 |  8 |  0 |  3480 |  6229 |  537 |  508 |  687 |  3961 |  2104 | 301 |  0 |  53 | 22 |  75 |\n",
       "| 81370 | Photo | 1 | 1 | 5 |  2 |  0 |  3778 |  7216 |  625 |  572 |  795 |  4742 |  2388 | 363 |  4 |  93 | 18 | 115 |\n",
       "| 81370 | Photo | 3 | 1 | 4 | 11 |  0 |  4156 |  7564 |  626 |  574 |  832 |  4534 |  2452 | 370 |  7 |  91 | 38 | 136 |\n",
       "| 81370 | Photo | 2 | 1 | 4 |  4 | NA |  4188 |  7292 |  564 |  524 |  743 |  3861 |  2200 | 316 |  0 |  91 | 28 | 119 |\n",
       "\n"
      ],
      "text/plain": [
       "    Page total likes Type   Category Post Month Post Weekday Post Hour Paid\n",
       "1   139441           Photo  2        12         4             3        0   \n",
       "2   139441           Status 2        12         3            10        0   \n",
       "3   139441           Photo  3        12         3             3        0   \n",
       "4   139441           Photo  2        12         2            10        1   \n",
       "5   139441           Photo  2        12         2             3        0   \n",
       "6   139441           Status 2        12         1             9        0   \n",
       "7   139441           Photo  3        12         1             3        1   \n",
       "8   139441           Photo  3        12         7             9        1   \n",
       "⋮   ⋮                ⋮      ⋮        ⋮          ⋮            ⋮         ⋮   \n",
       "493 85979            Link   1        1          5            11         0  \n",
       "494 85093            Photo  3        1          1             2         0  \n",
       "495 85093            Photo  3        1          7            10         0  \n",
       "496 85093            Photo  3        1          7             2         0  \n",
       "497 81370            Photo  2        1          5             8         0  \n",
       "498 81370            Photo  1        1          5             2         0  \n",
       "499 81370            Photo  3        1          4            11         0  \n",
       "500 81370            Photo  2        1          4             4        NA  \n",
       "    Lifetime Post Total Reach Lifetime Post Total Impressions\n",
       "1    2752                      5091                          \n",
       "2   10460                     19057                          \n",
       "3    2413                      4373                          \n",
       "4   50128                     87991                          \n",
       "5    7244                     13594                          \n",
       "6   10472                     20849                          \n",
       "7   11692                     19479                          \n",
       "8   13720                     24137                          \n",
       "⋮   ⋮                         ⋮                              \n",
       "493 45920                      5808                          \n",
       "494  8412                     13960                          \n",
       "495  5400                      9218                          \n",
       "496  4684                      7536                          \n",
       "497  3480                      6229                          \n",
       "498  3778                      7216                          \n",
       "499  4156                      7564                          \n",
       "500  4188                      7292                          \n",
       "    Lifetime Engaged Users Lifetime Post Consumers Lifetime Post Consumptions\n",
       "1    178                    109                     159                      \n",
       "2   1457                   1361                    1674                      \n",
       "3    177                    113                     154                      \n",
       "4   2211                    790                    1119                      \n",
       "5    671                    410                     580                      \n",
       "6   1191                   1073                    1389                      \n",
       "7    481                    265                     364                      \n",
       "8    537                    232                     305                      \n",
       "⋮   ⋮                      ⋮                       ⋮                         \n",
       "493  753                    655                     763                      \n",
       "494 1179                   1111                    1632                      \n",
       "495  810                    756                    1003                      \n",
       "496  733                    708                     985                      \n",
       "497  537                    508                     687                      \n",
       "498  625                    572                     795                      \n",
       "499  626                    574                     832                      \n",
       "500  564                    524                     743                      \n",
       "    Lifetime Post Impressions by people who have liked your Page\n",
       "1    3078                                                       \n",
       "2   11710                                                       \n",
       "3    2812                                                       \n",
       "4   61027                                                       \n",
       "5    6228                                                       \n",
       "6   16034                                                       \n",
       "7   15432                                                       \n",
       "8   19728                                                       \n",
       "⋮   ⋮                                                           \n",
       "493 15766                                                       \n",
       "494  8632                                                       \n",
       "495  5654                                                       \n",
       "496  4750                                                       \n",
       "497  3961                                                       \n",
       "498  4742                                                       \n",
       "499  4534                                                       \n",
       "500  3861                                                       \n",
       "    Lifetime Post reach by people who like your Page\n",
       "1    1640                                           \n",
       "2    6112                                           \n",
       "3    1503                                           \n",
       "4   32048                                           \n",
       "5    3200                                           \n",
       "6    7852                                           \n",
       "7    9328                                           \n",
       "8   11056                                           \n",
       "⋮   ⋮                                               \n",
       "493 10720                                           \n",
       "494  5348                                           \n",
       "495  3230                                           \n",
       "496  2876                                           \n",
       "497  2104                                           \n",
       "498  2388                                           \n",
       "499  2452                                           \n",
       "500  2200                                           \n",
       "    Lifetime People who have liked your Page and engaged with your post comment\n",
       "1    119                                                                 4     \n",
       "2   1108                                                                 5     \n",
       "3    132                                                                 0     \n",
       "4   1386                                                                58     \n",
       "5    396                                                                19     \n",
       "6   1016                                                                 1     \n",
       "7    379                                                                 3     \n",
       "8    422                                                                 0     \n",
       "⋮   ⋮                                                                   ⋮      \n",
       "493 220                                                                  0     \n",
       "494 699                                                                 17     \n",
       "495 422                                                                 10     \n",
       "496 392                                                                  5     \n",
       "497 301                                                                  0     \n",
       "498 363                                                                  4     \n",
       "499 370                                                                  7     \n",
       "500 316                                                                  0     \n",
       "    like share Total Interactions\n",
       "1     79  17    100              \n",
       "2    130  29    164              \n",
       "3     66  14     80              \n",
       "4   1572 147   1777              \n",
       "5    325  49    393              \n",
       "6    152  33    186              \n",
       "7    249  27    279              \n",
       "8    325  14    339              \n",
       "⋮   ⋮    ⋮     ⋮                 \n",
       "493 128   9    137               \n",
       "494 185  55    257               \n",
       "495 125  41    176               \n",
       "496  53  26     84               \n",
       "497  53  22     75               \n",
       "498  93  18    115               \n",
       "499  91  38    136               \n",
       "500  91  28    119               "
      ]
     },
     "metadata": {},
     "output_type": "display_data"
    }
   ],
   "source": [
    "# displays first and last 8 rows of the dataset\n",
    "options(repr.matrix.max.rows = 16)\n",
    "# Set the seed\n",
    "set.seed(123)\n",
    "\n",
    "# Load the data in\n",
    "fb_data_raw <- read_csv2(\"https://gist.githubusercontent.com/KolCrooks/691e5890b6747b4777d6032f019b2c0f/raw/20629a5da3d5a7683e3071798876f3e4b204fbbb/fb_data.csv\",  col_types = cols())\n",
    "\n",
    "fb_data_raw"
   ]
  },
  {
   "cell_type": "code",
   "execution_count": 3,
   "metadata": {},
   "outputs": [
    {
     "data": {
      "text/html": [
       "6"
      ],
      "text/latex": [
       "6"
      ],
      "text/markdown": [
       "6"
      ],
      "text/plain": [
       "[1] 6"
      ]
     },
     "metadata": {},
     "output_type": "display_data"
    }
   ],
   "source": [
    "# Na Rows:\n",
    "sum(is.na(fb_data_raw))"
   ]
  },
  {
   "cell_type": "markdown",
   "metadata": {},
   "source": [
    "# TODO: EXPLAIN WHY WE CONVERT COMMENT LIKE AND SHARE TO PERCENTS"
   ]
  },
  {
   "cell_type": "code",
   "execution_count": 4,
   "metadata": {},
   "outputs": [
    {
     "data": {
      "text/html": [
       "<table class=\"dataframe\">\n",
       "<caption>A tibble: 495 × 19</caption>\n",
       "<thead>\n",
       "\t<tr><th scope=col>page_likes</th><th scope=col>type</th><th scope=col>category</th><th scope=col>post_month</th><th scope=col>post_weekday</th><th scope=col>post_hour</th><th scope=col>paid</th><th scope=col>reach</th><th scope=col>impressions</th><th scope=col>engaged_users</th><th scope=col>post_consumers</th><th scope=col>post_consumptions</th><th scope=col>impressions_by_people_that_liked_page</th><th scope=col>reach_by_people_that_like_page</th><th scope=col>people_liked_and_engaged</th><th scope=col>comments</th><th scope=col>likes</th><th scope=col>shares</th><th scope=col>interactions</th></tr>\n",
       "\t<tr><th scope=col>&lt;dbl&gt;</th><th scope=col>&lt;fct&gt;</th><th scope=col>&lt;fct&gt;</th><th scope=col>&lt;fct&gt;</th><th scope=col>&lt;fct&gt;</th><th scope=col>&lt;fct&gt;</th><th scope=col>&lt;dbl&gt;</th><th scope=col>&lt;dbl&gt;</th><th scope=col>&lt;dbl&gt;</th><th scope=col>&lt;dbl&gt;</th><th scope=col>&lt;dbl&gt;</th><th scope=col>&lt;dbl&gt;</th><th scope=col>&lt;dbl&gt;</th><th scope=col>&lt;dbl&gt;</th><th scope=col>&lt;dbl&gt;</th><th scope=col>&lt;dbl&gt;</th><th scope=col>&lt;dbl&gt;</th><th scope=col>&lt;dbl&gt;</th><th scope=col>&lt;dbl&gt;</th></tr>\n",
       "</thead>\n",
       "<tbody>\n",
       "\t<tr><td>139441</td><td>Photo </td><td>2</td><td>12</td><td>4</td><td>3 </td><td>0</td><td> 2752</td><td> 5091</td><td> 178</td><td> 109</td><td> 159</td><td> 3078</td><td> 1640</td><td> 119</td><td> 4</td><td>  79</td><td> 17</td><td> 100</td></tr>\n",
       "\t<tr><td>139441</td><td>Status</td><td>2</td><td>12</td><td>3</td><td>10</td><td>0</td><td>10460</td><td>19057</td><td>1457</td><td>1361</td><td>1674</td><td>11710</td><td> 6112</td><td>1108</td><td> 5</td><td> 130</td><td> 29</td><td> 164</td></tr>\n",
       "\t<tr><td>139441</td><td>Photo </td><td>3</td><td>12</td><td>3</td><td>3 </td><td>0</td><td> 2413</td><td> 4373</td><td> 177</td><td> 113</td><td> 154</td><td> 2812</td><td> 1503</td><td> 132</td><td> 0</td><td>  66</td><td> 14</td><td>  80</td></tr>\n",
       "\t<tr><td>139441</td><td>Photo </td><td>2</td><td>12</td><td>2</td><td>10</td><td>1</td><td>50128</td><td>87991</td><td>2211</td><td> 790</td><td>1119</td><td>61027</td><td>32048</td><td>1386</td><td>58</td><td>1572</td><td>147</td><td>1777</td></tr>\n",
       "\t<tr><td>139441</td><td>Photo </td><td>2</td><td>12</td><td>2</td><td>3 </td><td>0</td><td> 7244</td><td>13594</td><td> 671</td><td> 410</td><td> 580</td><td> 6228</td><td> 3200</td><td> 396</td><td>19</td><td> 325</td><td> 49</td><td> 393</td></tr>\n",
       "\t<tr><td>139441</td><td>Status</td><td>2</td><td>12</td><td>1</td><td>9 </td><td>0</td><td>10472</td><td>20849</td><td>1191</td><td>1073</td><td>1389</td><td>16034</td><td> 7852</td><td>1016</td><td> 1</td><td> 152</td><td> 33</td><td> 186</td></tr>\n",
       "\t<tr><td>139441</td><td>Photo </td><td>3</td><td>12</td><td>1</td><td>3 </td><td>1</td><td>11692</td><td>19479</td><td> 481</td><td> 265</td><td> 364</td><td>15432</td><td> 9328</td><td> 379</td><td> 3</td><td> 249</td><td> 27</td><td> 279</td></tr>\n",
       "\t<tr><td>139441</td><td>Photo </td><td>3</td><td>12</td><td>7</td><td>9 </td><td>1</td><td>13720</td><td>24137</td><td> 537</td><td> 232</td><td> 305</td><td>19728</td><td>11056</td><td> 422</td><td> 0</td><td> 325</td><td> 14</td><td> 339</td></tr>\n",
       "\t<tr><td>⋮</td><td>⋮</td><td>⋮</td><td>⋮</td><td>⋮</td><td>⋮</td><td>⋮</td><td>⋮</td><td>⋮</td><td>⋮</td><td>⋮</td><td>⋮</td><td>⋮</td><td>⋮</td><td>⋮</td><td>⋮</td><td>⋮</td><td>⋮</td><td>⋮</td></tr>\n",
       "\t<tr><td>85979</td><td>Photo</td><td>3</td><td>1</td><td>6</td><td>3 </td><td>1</td><td> 6184</td><td>10228</td><td> 956</td><td> 901</td><td>1140</td><td> 6085</td><td> 3502</td><td>437</td><td> 1</td><td>105</td><td>46</td><td>152</td></tr>\n",
       "\t<tr><td>85979</td><td>Link </td><td>1</td><td>1</td><td>5</td><td>11</td><td>0</td><td>45920</td><td> 5808</td><td> 753</td><td> 655</td><td> 763</td><td>15766</td><td>10720</td><td>220</td><td> 0</td><td>128</td><td> 9</td><td>137</td></tr>\n",
       "\t<tr><td>85093</td><td>Photo</td><td>3</td><td>1</td><td>1</td><td>2 </td><td>0</td><td> 8412</td><td>13960</td><td>1179</td><td>1111</td><td>1632</td><td> 8632</td><td> 5348</td><td>699</td><td>17</td><td>185</td><td>55</td><td>257</td></tr>\n",
       "\t<tr><td>85093</td><td>Photo</td><td>3</td><td>1</td><td>7</td><td>10</td><td>0</td><td> 5400</td><td> 9218</td><td> 810</td><td> 756</td><td>1003</td><td> 5654</td><td> 3230</td><td>422</td><td>10</td><td>125</td><td>41</td><td>176</td></tr>\n",
       "\t<tr><td>85093</td><td>Photo</td><td>3</td><td>1</td><td>7</td><td>2 </td><td>0</td><td> 4684</td><td> 7536</td><td> 733</td><td> 708</td><td> 985</td><td> 4750</td><td> 2876</td><td>392</td><td> 5</td><td> 53</td><td>26</td><td> 84</td></tr>\n",
       "\t<tr><td>81370</td><td>Photo</td><td>2</td><td>1</td><td>5</td><td>8 </td><td>0</td><td> 3480</td><td> 6229</td><td> 537</td><td> 508</td><td> 687</td><td> 3961</td><td> 2104</td><td>301</td><td> 0</td><td> 53</td><td>22</td><td> 75</td></tr>\n",
       "\t<tr><td>81370</td><td>Photo</td><td>1</td><td>1</td><td>5</td><td>2 </td><td>0</td><td> 3778</td><td> 7216</td><td> 625</td><td> 572</td><td> 795</td><td> 4742</td><td> 2388</td><td>363</td><td> 4</td><td> 93</td><td>18</td><td>115</td></tr>\n",
       "\t<tr><td>81370</td><td>Photo</td><td>3</td><td>1</td><td>4</td><td>11</td><td>0</td><td> 4156</td><td> 7564</td><td> 626</td><td> 574</td><td> 832</td><td> 4534</td><td> 2452</td><td>370</td><td> 7</td><td> 91</td><td>38</td><td>136</td></tr>\n",
       "</tbody>\n",
       "</table>\n"
      ],
      "text/latex": [
       "A tibble: 495 × 19\n",
       "\\begin{tabular}{lllllllllllllllllll}\n",
       " page\\_likes & type & category & post\\_month & post\\_weekday & post\\_hour & paid & reach & impressions & engaged\\_users & post\\_consumers & post\\_consumptions & impressions\\_by\\_people\\_that\\_liked\\_page & reach\\_by\\_people\\_that\\_like\\_page & people\\_liked\\_and\\_engaged & comments & likes & shares & interactions\\\\\n",
       " <dbl> & <fct> & <fct> & <fct> & <fct> & <fct> & <dbl> & <dbl> & <dbl> & <dbl> & <dbl> & <dbl> & <dbl> & <dbl> & <dbl> & <dbl> & <dbl> & <dbl> & <dbl>\\\\\n",
       "\\hline\n",
       "\t 139441 & Photo  & 2 & 12 & 4 & 3  & 0 &  2752 &  5091 &  178 &  109 &  159 &  3078 &  1640 &  119 &  4 &   79 &  17 &  100\\\\\n",
       "\t 139441 & Status & 2 & 12 & 3 & 10 & 0 & 10460 & 19057 & 1457 & 1361 & 1674 & 11710 &  6112 & 1108 &  5 &  130 &  29 &  164\\\\\n",
       "\t 139441 & Photo  & 3 & 12 & 3 & 3  & 0 &  2413 &  4373 &  177 &  113 &  154 &  2812 &  1503 &  132 &  0 &   66 &  14 &   80\\\\\n",
       "\t 139441 & Photo  & 2 & 12 & 2 & 10 & 1 & 50128 & 87991 & 2211 &  790 & 1119 & 61027 & 32048 & 1386 & 58 & 1572 & 147 & 1777\\\\\n",
       "\t 139441 & Photo  & 2 & 12 & 2 & 3  & 0 &  7244 & 13594 &  671 &  410 &  580 &  6228 &  3200 &  396 & 19 &  325 &  49 &  393\\\\\n",
       "\t 139441 & Status & 2 & 12 & 1 & 9  & 0 & 10472 & 20849 & 1191 & 1073 & 1389 & 16034 &  7852 & 1016 &  1 &  152 &  33 &  186\\\\\n",
       "\t 139441 & Photo  & 3 & 12 & 1 & 3  & 1 & 11692 & 19479 &  481 &  265 &  364 & 15432 &  9328 &  379 &  3 &  249 &  27 &  279\\\\\n",
       "\t 139441 & Photo  & 3 & 12 & 7 & 9  & 1 & 13720 & 24137 &  537 &  232 &  305 & 19728 & 11056 &  422 &  0 &  325 &  14 &  339\\\\\n",
       "\t ⋮ & ⋮ & ⋮ & ⋮ & ⋮ & ⋮ & ⋮ & ⋮ & ⋮ & ⋮ & ⋮ & ⋮ & ⋮ & ⋮ & ⋮ & ⋮ & ⋮ & ⋮ & ⋮\\\\\n",
       "\t 85979 & Photo & 3 & 1 & 6 & 3  & 1 &  6184 & 10228 &  956 &  901 & 1140 &  6085 &  3502 & 437 &  1 & 105 & 46 & 152\\\\\n",
       "\t 85979 & Link  & 1 & 1 & 5 & 11 & 0 & 45920 &  5808 &  753 &  655 &  763 & 15766 & 10720 & 220 &  0 & 128 &  9 & 137\\\\\n",
       "\t 85093 & Photo & 3 & 1 & 1 & 2  & 0 &  8412 & 13960 & 1179 & 1111 & 1632 &  8632 &  5348 & 699 & 17 & 185 & 55 & 257\\\\\n",
       "\t 85093 & Photo & 3 & 1 & 7 & 10 & 0 &  5400 &  9218 &  810 &  756 & 1003 &  5654 &  3230 & 422 & 10 & 125 & 41 & 176\\\\\n",
       "\t 85093 & Photo & 3 & 1 & 7 & 2  & 0 &  4684 &  7536 &  733 &  708 &  985 &  4750 &  2876 & 392 &  5 &  53 & 26 &  84\\\\\n",
       "\t 81370 & Photo & 2 & 1 & 5 & 8  & 0 &  3480 &  6229 &  537 &  508 &  687 &  3961 &  2104 & 301 &  0 &  53 & 22 &  75\\\\\n",
       "\t 81370 & Photo & 1 & 1 & 5 & 2  & 0 &  3778 &  7216 &  625 &  572 &  795 &  4742 &  2388 & 363 &  4 &  93 & 18 & 115\\\\\n",
       "\t 81370 & Photo & 3 & 1 & 4 & 11 & 0 &  4156 &  7564 &  626 &  574 &  832 &  4534 &  2452 & 370 &  7 &  91 & 38 & 136\\\\\n",
       "\\end{tabular}\n"
      ],
      "text/markdown": [
       "\n",
       "A tibble: 495 × 19\n",
       "\n",
       "| page_likes &lt;dbl&gt; | type &lt;fct&gt; | category &lt;fct&gt; | post_month &lt;fct&gt; | post_weekday &lt;fct&gt; | post_hour &lt;fct&gt; | paid &lt;dbl&gt; | reach &lt;dbl&gt; | impressions &lt;dbl&gt; | engaged_users &lt;dbl&gt; | post_consumers &lt;dbl&gt; | post_consumptions &lt;dbl&gt; | impressions_by_people_that_liked_page &lt;dbl&gt; | reach_by_people_that_like_page &lt;dbl&gt; | people_liked_and_engaged &lt;dbl&gt; | comments &lt;dbl&gt; | likes &lt;dbl&gt; | shares &lt;dbl&gt; | interactions &lt;dbl&gt; |\n",
       "|---|---|---|---|---|---|---|---|---|---|---|---|---|---|---|---|---|---|---|\n",
       "| 139441 | Photo  | 2 | 12 | 4 | 3  | 0 |  2752 |  5091 |  178 |  109 |  159 |  3078 |  1640 |  119 |  4 |   79 |  17 |  100 |\n",
       "| 139441 | Status | 2 | 12 | 3 | 10 | 0 | 10460 | 19057 | 1457 | 1361 | 1674 | 11710 |  6112 | 1108 |  5 |  130 |  29 |  164 |\n",
       "| 139441 | Photo  | 3 | 12 | 3 | 3  | 0 |  2413 |  4373 |  177 |  113 |  154 |  2812 |  1503 |  132 |  0 |   66 |  14 |   80 |\n",
       "| 139441 | Photo  | 2 | 12 | 2 | 10 | 1 | 50128 | 87991 | 2211 |  790 | 1119 | 61027 | 32048 | 1386 | 58 | 1572 | 147 | 1777 |\n",
       "| 139441 | Photo  | 2 | 12 | 2 | 3  | 0 |  7244 | 13594 |  671 |  410 |  580 |  6228 |  3200 |  396 | 19 |  325 |  49 |  393 |\n",
       "| 139441 | Status | 2 | 12 | 1 | 9  | 0 | 10472 | 20849 | 1191 | 1073 | 1389 | 16034 |  7852 | 1016 |  1 |  152 |  33 |  186 |\n",
       "| 139441 | Photo  | 3 | 12 | 1 | 3  | 1 | 11692 | 19479 |  481 |  265 |  364 | 15432 |  9328 |  379 |  3 |  249 |  27 |  279 |\n",
       "| 139441 | Photo  | 3 | 12 | 7 | 9  | 1 | 13720 | 24137 |  537 |  232 |  305 | 19728 | 11056 |  422 |  0 |  325 |  14 |  339 |\n",
       "| ⋮ | ⋮ | ⋮ | ⋮ | ⋮ | ⋮ | ⋮ | ⋮ | ⋮ | ⋮ | ⋮ | ⋮ | ⋮ | ⋮ | ⋮ | ⋮ | ⋮ | ⋮ | ⋮ |\n",
       "| 85979 | Photo | 3 | 1 | 6 | 3  | 1 |  6184 | 10228 |  956 |  901 | 1140 |  6085 |  3502 | 437 |  1 | 105 | 46 | 152 |\n",
       "| 85979 | Link  | 1 | 1 | 5 | 11 | 0 | 45920 |  5808 |  753 |  655 |  763 | 15766 | 10720 | 220 |  0 | 128 |  9 | 137 |\n",
       "| 85093 | Photo | 3 | 1 | 1 | 2  | 0 |  8412 | 13960 | 1179 | 1111 | 1632 |  8632 |  5348 | 699 | 17 | 185 | 55 | 257 |\n",
       "| 85093 | Photo | 3 | 1 | 7 | 10 | 0 |  5400 |  9218 |  810 |  756 | 1003 |  5654 |  3230 | 422 | 10 | 125 | 41 | 176 |\n",
       "| 85093 | Photo | 3 | 1 | 7 | 2  | 0 |  4684 |  7536 |  733 |  708 |  985 |  4750 |  2876 | 392 |  5 |  53 | 26 |  84 |\n",
       "| 81370 | Photo | 2 | 1 | 5 | 8  | 0 |  3480 |  6229 |  537 |  508 |  687 |  3961 |  2104 | 301 |  0 |  53 | 22 |  75 |\n",
       "| 81370 | Photo | 1 | 1 | 5 | 2  | 0 |  3778 |  7216 |  625 |  572 |  795 |  4742 |  2388 | 363 |  4 |  93 | 18 | 115 |\n",
       "| 81370 | Photo | 3 | 1 | 4 | 11 | 0 |  4156 |  7564 |  626 |  574 |  832 |  4534 |  2452 | 370 |  7 |  91 | 38 | 136 |\n",
       "\n"
      ],
      "text/plain": [
       "    page_likes type   category post_month post_weekday post_hour paid reach\n",
       "1   139441     Photo  2        12         4            3         0     2752\n",
       "2   139441     Status 2        12         3            10        0    10460\n",
       "3   139441     Photo  3        12         3            3         0     2413\n",
       "4   139441     Photo  2        12         2            10        1    50128\n",
       "5   139441     Photo  2        12         2            3         0     7244\n",
       "6   139441     Status 2        12         1            9         0    10472\n",
       "7   139441     Photo  3        12         1            3         1    11692\n",
       "8   139441     Photo  3        12         7            9         1    13720\n",
       "⋮   ⋮          ⋮      ⋮        ⋮          ⋮            ⋮         ⋮    ⋮    \n",
       "488 85979      Photo  3        1          6            3         1     6184\n",
       "489 85979      Link   1        1          5            11        0    45920\n",
       "490 85093      Photo  3        1          1            2         0     8412\n",
       "491 85093      Photo  3        1          7            10        0     5400\n",
       "492 85093      Photo  3        1          7            2         0     4684\n",
       "493 81370      Photo  2        1          5            8         0     3480\n",
       "494 81370      Photo  1        1          5            2         0     3778\n",
       "495 81370      Photo  3        1          4            11        0     4156\n",
       "    impressions engaged_users post_consumers post_consumptions\n",
       "1    5091        178           109            159             \n",
       "2   19057       1457          1361           1674             \n",
       "3    4373        177           113            154             \n",
       "4   87991       2211           790           1119             \n",
       "5   13594        671           410            580             \n",
       "6   20849       1191          1073           1389             \n",
       "7   19479        481           265            364             \n",
       "8   24137        537           232            305             \n",
       "⋮   ⋮           ⋮             ⋮              ⋮                \n",
       "488 10228        956           901           1140             \n",
       "489  5808        753           655            763             \n",
       "490 13960       1179          1111           1632             \n",
       "491  9218        810           756           1003             \n",
       "492  7536        733           708            985             \n",
       "493  6229        537           508            687             \n",
       "494  7216        625           572            795             \n",
       "495  7564        626           574            832             \n",
       "    impressions_by_people_that_liked_page reach_by_people_that_like_page\n",
       "1    3078                                  1640                         \n",
       "2   11710                                  6112                         \n",
       "3    2812                                  1503                         \n",
       "4   61027                                 32048                         \n",
       "5    6228                                  3200                         \n",
       "6   16034                                  7852                         \n",
       "7   15432                                  9328                         \n",
       "8   19728                                 11056                         \n",
       "⋮   ⋮                                     ⋮                             \n",
       "488  6085                                  3502                         \n",
       "489 15766                                 10720                         \n",
       "490  8632                                  5348                         \n",
       "491  5654                                  3230                         \n",
       "492  4750                                  2876                         \n",
       "493  3961                                  2104                         \n",
       "494  4742                                  2388                         \n",
       "495  4534                                  2452                         \n",
       "    people_liked_and_engaged comments likes shares interactions\n",
       "1    119                      4         79   17     100        \n",
       "2   1108                      5        130   29     164        \n",
       "3    132                      0         66   14      80        \n",
       "4   1386                     58       1572  147    1777        \n",
       "5    396                     19        325   49     393        \n",
       "6   1016                      1        152   33     186        \n",
       "7    379                      3        249   27     279        \n",
       "8    422                      0        325   14     339        \n",
       "⋮   ⋮                        ⋮        ⋮     ⋮      ⋮           \n",
       "488 437                       1       105   46     152         \n",
       "489 220                       0       128    9     137         \n",
       "490 699                      17       185   55     257         \n",
       "491 422                      10       125   41     176         \n",
       "492 392                       5        53   26      84         \n",
       "493 301                       0        53   22      75         \n",
       "494 363                       4        93   18     115         \n",
       "495 370                       7        91   38     136         "
      ]
     },
     "metadata": {},
     "output_type": "display_data"
    }
   ],
   "source": [
    "# Clean the data:\n",
    "fb_data_clean_cols <- fb_data_raw\n",
    "colnames(fb_data_clean_cols) <- c(\"page_likes\", \"type\", \"category\", \"post_month\", \"post_weekday\", \"post_hour\", \"paid\", \"reach\", \n",
    "      \"impressions\", \"engaged_users\", \"post_consumers\", \"post_consumptions\", \"impressions_by_people_that_liked_page\", \n",
    "      \"reach_by_people_that_like_page\", \"people_liked_and_engaged\", \"comments\", \"likes\", \"shares\", \"interactions\")\n",
    "fb_data_clean <- fb_data_clean_cols %>% \n",
    "        mutate(type = as_factor(type)) %>% \n",
    "        mutate(category = as_factor(category)) %>% \n",
    "        mutate(post_month = as_factor(post_month)) %>% \n",
    "        mutate(post_weekday = as_factor(post_weekday)) %>% \n",
    "        mutate(post_hour = as_factor(post_hour)) %>% \n",
    "        na.omit()\n",
    "\n",
    "fb_data_clean"
   ]
  },
  {
   "cell_type": "code",
   "execution_count": 5,
   "metadata": {},
   "outputs": [
    {
     "data": {
      "text/html": [
       "0"
      ],
      "text/latex": [
       "0"
      ],
      "text/markdown": [
       "0"
      ],
      "text/plain": [
       "[1] 0"
      ]
     },
     "metadata": {},
     "output_type": "display_data"
    }
   ],
   "source": [
    "# Na Rows:\n",
    "sum(is.na(fb_data_clean))"
   ]
  },
  {
   "cell_type": "markdown",
   "metadata": {},
   "source": [
    "# TODO: EXPLAIN WHY THE STRATA IS \"TYPE\"\n",
    "# TODO: EXPLAIN WHY WE CHOSE 75%\n",
    "**\"Why have you decided to use 75% of the dataset as the training data?\"**"
   ]
  },
  {
   "cell_type": "code",
   "execution_count": 6,
   "metadata": {},
   "outputs": [
    {
     "data": {
      "text/html": [
       "<table class=\"dataframe\">\n",
       "<caption>A tibble: 372 × 19</caption>\n",
       "<thead>\n",
       "\t<tr><th scope=col>page_likes</th><th scope=col>type</th><th scope=col>category</th><th scope=col>post_month</th><th scope=col>post_weekday</th><th scope=col>post_hour</th><th scope=col>paid</th><th scope=col>reach</th><th scope=col>impressions</th><th scope=col>engaged_users</th><th scope=col>post_consumers</th><th scope=col>post_consumptions</th><th scope=col>impressions_by_people_that_liked_page</th><th scope=col>reach_by_people_that_like_page</th><th scope=col>people_liked_and_engaged</th><th scope=col>comments</th><th scope=col>likes</th><th scope=col>shares</th><th scope=col>interactions</th></tr>\n",
       "\t<tr><th scope=col>&lt;dbl&gt;</th><th scope=col>&lt;fct&gt;</th><th scope=col>&lt;fct&gt;</th><th scope=col>&lt;fct&gt;</th><th scope=col>&lt;fct&gt;</th><th scope=col>&lt;fct&gt;</th><th scope=col>&lt;dbl&gt;</th><th scope=col>&lt;dbl&gt;</th><th scope=col>&lt;dbl&gt;</th><th scope=col>&lt;dbl&gt;</th><th scope=col>&lt;dbl&gt;</th><th scope=col>&lt;dbl&gt;</th><th scope=col>&lt;dbl&gt;</th><th scope=col>&lt;dbl&gt;</th><th scope=col>&lt;dbl&gt;</th><th scope=col>&lt;dbl&gt;</th><th scope=col>&lt;dbl&gt;</th><th scope=col>&lt;dbl&gt;</th><th scope=col>&lt;dbl&gt;</th></tr>\n",
       "</thead>\n",
       "<tbody>\n",
       "\t<tr><td>139441</td><td>Photo </td><td>2</td><td>12</td><td>4</td><td>3 </td><td>0</td><td> 2752</td><td> 5091</td><td> 178</td><td> 109</td><td> 159</td><td> 3078</td><td> 1640</td><td> 119</td><td>4</td><td> 79</td><td>17</td><td>100</td></tr>\n",
       "\t<tr><td>139441</td><td>Status</td><td>2</td><td>12</td><td>3</td><td>10</td><td>0</td><td>10460</td><td>19057</td><td>1457</td><td>1361</td><td>1674</td><td>11710</td><td> 6112</td><td>1108</td><td>5</td><td>130</td><td>29</td><td>164</td></tr>\n",
       "\t<tr><td>139441</td><td>Photo </td><td>3</td><td>12</td><td>3</td><td>3 </td><td>0</td><td> 2413</td><td> 4373</td><td> 177</td><td> 113</td><td> 154</td><td> 2812</td><td> 1503</td><td> 132</td><td>0</td><td> 66</td><td>14</td><td> 80</td></tr>\n",
       "\t<tr><td>139441</td><td>Status</td><td>2</td><td>12</td><td>1</td><td>9 </td><td>0</td><td>10472</td><td>20849</td><td>1191</td><td>1073</td><td>1389</td><td>16034</td><td> 7852</td><td>1016</td><td>1</td><td>152</td><td>33</td><td>186</td></tr>\n",
       "\t<tr><td>139441</td><td>Photo </td><td>3</td><td>12</td><td>1</td><td>3 </td><td>1</td><td>11692</td><td>19479</td><td> 481</td><td> 265</td><td> 364</td><td>15432</td><td> 9328</td><td> 379</td><td>3</td><td>249</td><td>27</td><td>279</td></tr>\n",
       "\t<tr><td>139441</td><td>Photo </td><td>3</td><td>12</td><td>7</td><td>9 </td><td>1</td><td>13720</td><td>24137</td><td> 537</td><td> 232</td><td> 305</td><td>19728</td><td>11056</td><td> 422</td><td>0</td><td>325</td><td>14</td><td>339</td></tr>\n",
       "\t<tr><td>139441</td><td>Status</td><td>2</td><td>12</td><td>7</td><td>3 </td><td>0</td><td>11844</td><td>22538</td><td>1530</td><td>1407</td><td>1692</td><td>15220</td><td> 7912</td><td>1250</td><td>0</td><td>161</td><td>31</td><td>192</td></tr>\n",
       "\t<tr><td>139441</td><td>Photo </td><td>3</td><td>12</td><td>6</td><td>10</td><td>0</td><td> 4694</td><td> 8668</td><td> 280</td><td> 183</td><td> 250</td><td> 4309</td><td> 2324</td><td> 199</td><td>3</td><td>113</td><td>26</td><td>142</td></tr>\n",
       "\t<tr><td>⋮</td><td>⋮</td><td>⋮</td><td>⋮</td><td>⋮</td><td>⋮</td><td>⋮</td><td>⋮</td><td>⋮</td><td>⋮</td><td>⋮</td><td>⋮</td><td>⋮</td><td>⋮</td><td>⋮</td><td>⋮</td><td>⋮</td><td>⋮</td><td>⋮</td></tr>\n",
       "\t<tr><td>85979</td><td>Photo</td><td>3</td><td>1</td><td>7</td><td>10</td><td>0</td><td>9700</td><td>17442</td><td>1407</td><td>1271</td><td>2007</td><td>8872</td><td>4876</td><td>660</td><td>21</td><td>277</td><td>80</td><td>378</td></tr>\n",
       "\t<tr><td>85979</td><td>Photo</td><td>3</td><td>1</td><td>7</td><td>2 </td><td>0</td><td>4800</td><td> 7754</td><td> 975</td><td> 938</td><td>1278</td><td>4932</td><td>2820</td><td>432</td><td> 1</td><td> 74</td><td>28</td><td>103</td></tr>\n",
       "\t<tr><td>85979</td><td>Photo</td><td>3</td><td>1</td><td>6</td><td>11</td><td>0</td><td>5280</td><td> 8703</td><td> 951</td><td> 911</td><td>1237</td><td>5757</td><td>3300</td><td>431</td><td> 1</td><td> 79</td><td>30</td><td>110</td></tr>\n",
       "\t<tr><td>85979</td><td>Photo</td><td>3</td><td>1</td><td>6</td><td>3 </td><td>1</td><td>6184</td><td>10228</td><td> 956</td><td> 901</td><td>1140</td><td>6085</td><td>3502</td><td>437</td><td> 1</td><td>105</td><td>46</td><td>152</td></tr>\n",
       "\t<tr><td>85093</td><td>Photo</td><td>3</td><td>1</td><td>7</td><td>10</td><td>0</td><td>5400</td><td> 9218</td><td> 810</td><td> 756</td><td>1003</td><td>5654</td><td>3230</td><td>422</td><td>10</td><td>125</td><td>41</td><td>176</td></tr>\n",
       "\t<tr><td>85093</td><td>Photo</td><td>3</td><td>1</td><td>7</td><td>2 </td><td>0</td><td>4684</td><td> 7536</td><td> 733</td><td> 708</td><td> 985</td><td>4750</td><td>2876</td><td>392</td><td> 5</td><td> 53</td><td>26</td><td> 84</td></tr>\n",
       "\t<tr><td>81370</td><td>Photo</td><td>1</td><td>1</td><td>5</td><td>2 </td><td>0</td><td>3778</td><td> 7216</td><td> 625</td><td> 572</td><td> 795</td><td>4742</td><td>2388</td><td>363</td><td> 4</td><td> 93</td><td>18</td><td>115</td></tr>\n",
       "\t<tr><td>81370</td><td>Photo</td><td>3</td><td>1</td><td>4</td><td>11</td><td>0</td><td>4156</td><td> 7564</td><td> 626</td><td> 574</td><td> 832</td><td>4534</td><td>2452</td><td>370</td><td> 7</td><td> 91</td><td>38</td><td>136</td></tr>\n",
       "</tbody>\n",
       "</table>\n"
      ],
      "text/latex": [
       "A tibble: 372 × 19\n",
       "\\begin{tabular}{lllllllllllllllllll}\n",
       " page\\_likes & type & category & post\\_month & post\\_weekday & post\\_hour & paid & reach & impressions & engaged\\_users & post\\_consumers & post\\_consumptions & impressions\\_by\\_people\\_that\\_liked\\_page & reach\\_by\\_people\\_that\\_like\\_page & people\\_liked\\_and\\_engaged & comments & likes & shares & interactions\\\\\n",
       " <dbl> & <fct> & <fct> & <fct> & <fct> & <fct> & <dbl> & <dbl> & <dbl> & <dbl> & <dbl> & <dbl> & <dbl> & <dbl> & <dbl> & <dbl> & <dbl> & <dbl> & <dbl>\\\\\n",
       "\\hline\n",
       "\t 139441 & Photo  & 2 & 12 & 4 & 3  & 0 &  2752 &  5091 &  178 &  109 &  159 &  3078 &  1640 &  119 & 4 &  79 & 17 & 100\\\\\n",
       "\t 139441 & Status & 2 & 12 & 3 & 10 & 0 & 10460 & 19057 & 1457 & 1361 & 1674 & 11710 &  6112 & 1108 & 5 & 130 & 29 & 164\\\\\n",
       "\t 139441 & Photo  & 3 & 12 & 3 & 3  & 0 &  2413 &  4373 &  177 &  113 &  154 &  2812 &  1503 &  132 & 0 &  66 & 14 &  80\\\\\n",
       "\t 139441 & Status & 2 & 12 & 1 & 9  & 0 & 10472 & 20849 & 1191 & 1073 & 1389 & 16034 &  7852 & 1016 & 1 & 152 & 33 & 186\\\\\n",
       "\t 139441 & Photo  & 3 & 12 & 1 & 3  & 1 & 11692 & 19479 &  481 &  265 &  364 & 15432 &  9328 &  379 & 3 & 249 & 27 & 279\\\\\n",
       "\t 139441 & Photo  & 3 & 12 & 7 & 9  & 1 & 13720 & 24137 &  537 &  232 &  305 & 19728 & 11056 &  422 & 0 & 325 & 14 & 339\\\\\n",
       "\t 139441 & Status & 2 & 12 & 7 & 3  & 0 & 11844 & 22538 & 1530 & 1407 & 1692 & 15220 &  7912 & 1250 & 0 & 161 & 31 & 192\\\\\n",
       "\t 139441 & Photo  & 3 & 12 & 6 & 10 & 0 &  4694 &  8668 &  280 &  183 &  250 &  4309 &  2324 &  199 & 3 & 113 & 26 & 142\\\\\n",
       "\t ⋮ & ⋮ & ⋮ & ⋮ & ⋮ & ⋮ & ⋮ & ⋮ & ⋮ & ⋮ & ⋮ & ⋮ & ⋮ & ⋮ & ⋮ & ⋮ & ⋮ & ⋮ & ⋮\\\\\n",
       "\t 85979 & Photo & 3 & 1 & 7 & 10 & 0 & 9700 & 17442 & 1407 & 1271 & 2007 & 8872 & 4876 & 660 & 21 & 277 & 80 & 378\\\\\n",
       "\t 85979 & Photo & 3 & 1 & 7 & 2  & 0 & 4800 &  7754 &  975 &  938 & 1278 & 4932 & 2820 & 432 &  1 &  74 & 28 & 103\\\\\n",
       "\t 85979 & Photo & 3 & 1 & 6 & 11 & 0 & 5280 &  8703 &  951 &  911 & 1237 & 5757 & 3300 & 431 &  1 &  79 & 30 & 110\\\\\n",
       "\t 85979 & Photo & 3 & 1 & 6 & 3  & 1 & 6184 & 10228 &  956 &  901 & 1140 & 6085 & 3502 & 437 &  1 & 105 & 46 & 152\\\\\n",
       "\t 85093 & Photo & 3 & 1 & 7 & 10 & 0 & 5400 &  9218 &  810 &  756 & 1003 & 5654 & 3230 & 422 & 10 & 125 & 41 & 176\\\\\n",
       "\t 85093 & Photo & 3 & 1 & 7 & 2  & 0 & 4684 &  7536 &  733 &  708 &  985 & 4750 & 2876 & 392 &  5 &  53 & 26 &  84\\\\\n",
       "\t 81370 & Photo & 1 & 1 & 5 & 2  & 0 & 3778 &  7216 &  625 &  572 &  795 & 4742 & 2388 & 363 &  4 &  93 & 18 & 115\\\\\n",
       "\t 81370 & Photo & 3 & 1 & 4 & 11 & 0 & 4156 &  7564 &  626 &  574 &  832 & 4534 & 2452 & 370 &  7 &  91 & 38 & 136\\\\\n",
       "\\end{tabular}\n"
      ],
      "text/markdown": [
       "\n",
       "A tibble: 372 × 19\n",
       "\n",
       "| page_likes &lt;dbl&gt; | type &lt;fct&gt; | category &lt;fct&gt; | post_month &lt;fct&gt; | post_weekday &lt;fct&gt; | post_hour &lt;fct&gt; | paid &lt;dbl&gt; | reach &lt;dbl&gt; | impressions &lt;dbl&gt; | engaged_users &lt;dbl&gt; | post_consumers &lt;dbl&gt; | post_consumptions &lt;dbl&gt; | impressions_by_people_that_liked_page &lt;dbl&gt; | reach_by_people_that_like_page &lt;dbl&gt; | people_liked_and_engaged &lt;dbl&gt; | comments &lt;dbl&gt; | likes &lt;dbl&gt; | shares &lt;dbl&gt; | interactions &lt;dbl&gt; |\n",
       "|---|---|---|---|---|---|---|---|---|---|---|---|---|---|---|---|---|---|---|\n",
       "| 139441 | Photo  | 2 | 12 | 4 | 3  | 0 |  2752 |  5091 |  178 |  109 |  159 |  3078 |  1640 |  119 | 4 |  79 | 17 | 100 |\n",
       "| 139441 | Status | 2 | 12 | 3 | 10 | 0 | 10460 | 19057 | 1457 | 1361 | 1674 | 11710 |  6112 | 1108 | 5 | 130 | 29 | 164 |\n",
       "| 139441 | Photo  | 3 | 12 | 3 | 3  | 0 |  2413 |  4373 |  177 |  113 |  154 |  2812 |  1503 |  132 | 0 |  66 | 14 |  80 |\n",
       "| 139441 | Status | 2 | 12 | 1 | 9  | 0 | 10472 | 20849 | 1191 | 1073 | 1389 | 16034 |  7852 | 1016 | 1 | 152 | 33 | 186 |\n",
       "| 139441 | Photo  | 3 | 12 | 1 | 3  | 1 | 11692 | 19479 |  481 |  265 |  364 | 15432 |  9328 |  379 | 3 | 249 | 27 | 279 |\n",
       "| 139441 | Photo  | 3 | 12 | 7 | 9  | 1 | 13720 | 24137 |  537 |  232 |  305 | 19728 | 11056 |  422 | 0 | 325 | 14 | 339 |\n",
       "| 139441 | Status | 2 | 12 | 7 | 3  | 0 | 11844 | 22538 | 1530 | 1407 | 1692 | 15220 |  7912 | 1250 | 0 | 161 | 31 | 192 |\n",
       "| 139441 | Photo  | 3 | 12 | 6 | 10 | 0 |  4694 |  8668 |  280 |  183 |  250 |  4309 |  2324 |  199 | 3 | 113 | 26 | 142 |\n",
       "| ⋮ | ⋮ | ⋮ | ⋮ | ⋮ | ⋮ | ⋮ | ⋮ | ⋮ | ⋮ | ⋮ | ⋮ | ⋮ | ⋮ | ⋮ | ⋮ | ⋮ | ⋮ | ⋮ |\n",
       "| 85979 | Photo | 3 | 1 | 7 | 10 | 0 | 9700 | 17442 | 1407 | 1271 | 2007 | 8872 | 4876 | 660 | 21 | 277 | 80 | 378 |\n",
       "| 85979 | Photo | 3 | 1 | 7 | 2  | 0 | 4800 |  7754 |  975 |  938 | 1278 | 4932 | 2820 | 432 |  1 |  74 | 28 | 103 |\n",
       "| 85979 | Photo | 3 | 1 | 6 | 11 | 0 | 5280 |  8703 |  951 |  911 | 1237 | 5757 | 3300 | 431 |  1 |  79 | 30 | 110 |\n",
       "| 85979 | Photo | 3 | 1 | 6 | 3  | 1 | 6184 | 10228 |  956 |  901 | 1140 | 6085 | 3502 | 437 |  1 | 105 | 46 | 152 |\n",
       "| 85093 | Photo | 3 | 1 | 7 | 10 | 0 | 5400 |  9218 |  810 |  756 | 1003 | 5654 | 3230 | 422 | 10 | 125 | 41 | 176 |\n",
       "| 85093 | Photo | 3 | 1 | 7 | 2  | 0 | 4684 |  7536 |  733 |  708 |  985 | 4750 | 2876 | 392 |  5 |  53 | 26 |  84 |\n",
       "| 81370 | Photo | 1 | 1 | 5 | 2  | 0 | 3778 |  7216 |  625 |  572 |  795 | 4742 | 2388 | 363 |  4 |  93 | 18 | 115 |\n",
       "| 81370 | Photo | 3 | 1 | 4 | 11 | 0 | 4156 |  7564 |  626 |  574 |  832 | 4534 | 2452 | 370 |  7 |  91 | 38 | 136 |\n",
       "\n"
      ],
      "text/plain": [
       "    page_likes type   category post_month post_weekday post_hour paid reach\n",
       "1   139441     Photo  2        12         4            3         0     2752\n",
       "2   139441     Status 2        12         3            10        0    10460\n",
       "3   139441     Photo  3        12         3            3         0     2413\n",
       "4   139441     Status 2        12         1            9         0    10472\n",
       "5   139441     Photo  3        12         1            3         1    11692\n",
       "6   139441     Photo  3        12         7            9         1    13720\n",
       "7   139441     Status 2        12         7            3         0    11844\n",
       "8   139441     Photo  3        12         6            10        0     4694\n",
       "⋮   ⋮          ⋮      ⋮        ⋮          ⋮            ⋮         ⋮    ⋮    \n",
       "365 85979      Photo  3        1          7            10        0    9700 \n",
       "366 85979      Photo  3        1          7            2         0    4800 \n",
       "367 85979      Photo  3        1          6            11        0    5280 \n",
       "368 85979      Photo  3        1          6            3         1    6184 \n",
       "369 85093      Photo  3        1          7            10        0    5400 \n",
       "370 85093      Photo  3        1          7            2         0    4684 \n",
       "371 81370      Photo  1        1          5            2         0    3778 \n",
       "372 81370      Photo  3        1          4            11        0    4156 \n",
       "    impressions engaged_users post_consumers post_consumptions\n",
       "1    5091        178           109            159             \n",
       "2   19057       1457          1361           1674             \n",
       "3    4373        177           113            154             \n",
       "4   20849       1191          1073           1389             \n",
       "5   19479        481           265            364             \n",
       "6   24137        537           232            305             \n",
       "7   22538       1530          1407           1692             \n",
       "8    8668        280           183            250             \n",
       "⋮   ⋮           ⋮             ⋮              ⋮                \n",
       "365 17442       1407          1271           2007             \n",
       "366  7754        975           938           1278             \n",
       "367  8703        951           911           1237             \n",
       "368 10228        956           901           1140             \n",
       "369  9218        810           756           1003             \n",
       "370  7536        733           708            985             \n",
       "371  7216        625           572            795             \n",
       "372  7564        626           574            832             \n",
       "    impressions_by_people_that_liked_page reach_by_people_that_like_page\n",
       "1    3078                                  1640                         \n",
       "2   11710                                  6112                         \n",
       "3    2812                                  1503                         \n",
       "4   16034                                  7852                         \n",
       "5   15432                                  9328                         \n",
       "6   19728                                 11056                         \n",
       "7   15220                                  7912                         \n",
       "8    4309                                  2324                         \n",
       "⋮   ⋮                                     ⋮                             \n",
       "365 8872                                  4876                          \n",
       "366 4932                                  2820                          \n",
       "367 5757                                  3300                          \n",
       "368 6085                                  3502                          \n",
       "369 5654                                  3230                          \n",
       "370 4750                                  2876                          \n",
       "371 4742                                  2388                          \n",
       "372 4534                                  2452                          \n",
       "    people_liked_and_engaged comments likes shares interactions\n",
       "1    119                     4         79   17     100         \n",
       "2   1108                     5        130   29     164         \n",
       "3    132                     0         66   14      80         \n",
       "4   1016                     1        152   33     186         \n",
       "5    379                     3        249   27     279         \n",
       "6    422                     0        325   14     339         \n",
       "7   1250                     0        161   31     192         \n",
       "8    199                     3        113   26     142         \n",
       "⋮   ⋮                        ⋮        ⋮     ⋮      ⋮           \n",
       "365 660                      21       277   80     378         \n",
       "366 432                       1        74   28     103         \n",
       "367 431                       1        79   30     110         \n",
       "368 437                       1       105   46     152         \n",
       "369 422                      10       125   41     176         \n",
       "370 392                       5        53   26      84         \n",
       "371 363                       4        93   18     115         \n",
       "372 370                       7        91   38     136         "
      ]
     },
     "metadata": {},
     "output_type": "display_data"
    }
   ],
   "source": [
    "# Split the data:\n",
    "fb_split <- initial_split(fb_data_clean, prop = 0.75, strata = type)\n",
    "fb_train <- training(fb_split)\n",
    "fb_test <- testing(fb_split)\n",
    "\n",
    "fb_train"
   ]
  },
  {
   "cell_type": "markdown",
   "metadata": {},
   "source": [
    "## TODO: include Plot title!\n",
    "**The plot does not include a title. For the report, please make sure you are labelling your tables and plots.**"
   ]
  },
  {
   "cell_type": "markdown",
   "metadata": {},
   "source": [
    "## Selecting our predictors\n",
    "\n",
    "To fgure out which predictors we want to use, we will use `ggpairs` to determine how well each column can predict post type. To do this we will look at how different each post type's box plot is when compared with the predictor. But before we even look at the ggpairs plot, first we want to just take out columns that we know wouldn't work. This is because we don't need ggpairs to know that they wouldn't work, and it would help reduce clutter in the plot, allowing us to better look at the remaing predictors.\n",
    "\n",
    "\n",
    "The main predictors that we know we can't use are coulmns with factors. This includes the time based columns `post_month`, `post_weekday`, and `post_hour`, and also `category`."
   ]
  },
  {
   "cell_type": "code",
   "execution_count": 7,
   "metadata": {},
   "outputs": [
    {
     "data": {
      "text/html": [
       "<style>\n",
       ".list-inline {list-style: none; margin:0; padding: 0}\n",
       ".list-inline>li {display: inline-block}\n",
       ".list-inline>li:not(:last-child)::after {content: \"\\00b7\"; padding: 0 .5ex}\n",
       "</style>\n",
       "<ol class=list-inline><li>'page_likes'</li><li>'type'</li><li>'category'</li><li>'post_month'</li><li>'post_weekday'</li><li>'post_hour'</li><li>'paid'</li><li>'reach'</li><li>'impressions'</li><li>'engaged_users'</li><li>'post_consumers'</li><li>'post_consumptions'</li><li>'impressions_by_people_that_liked_page'</li><li>'reach_by_people_that_like_page'</li><li>'people_liked_and_engaged'</li><li>'comments'</li><li>'likes'</li><li>'shares'</li><li>'interactions'</li></ol>\n"
      ],
      "text/latex": [
       "\\begin{enumerate*}\n",
       "\\item 'page\\_likes'\n",
       "\\item 'type'\n",
       "\\item 'category'\n",
       "\\item 'post\\_month'\n",
       "\\item 'post\\_weekday'\n",
       "\\item 'post\\_hour'\n",
       "\\item 'paid'\n",
       "\\item 'reach'\n",
       "\\item 'impressions'\n",
       "\\item 'engaged\\_users'\n",
       "\\item 'post\\_consumers'\n",
       "\\item 'post\\_consumptions'\n",
       "\\item 'impressions\\_by\\_people\\_that\\_liked\\_page'\n",
       "\\item 'reach\\_by\\_people\\_that\\_like\\_page'\n",
       "\\item 'people\\_liked\\_and\\_engaged'\n",
       "\\item 'comments'\n",
       "\\item 'likes'\n",
       "\\item 'shares'\n",
       "\\item 'interactions'\n",
       "\\end{enumerate*}\n"
      ],
      "text/markdown": [
       "1. 'page_likes'\n",
       "2. 'type'\n",
       "3. 'category'\n",
       "4. 'post_month'\n",
       "5. 'post_weekday'\n",
       "6. 'post_hour'\n",
       "7. 'paid'\n",
       "8. 'reach'\n",
       "9. 'impressions'\n",
       "10. 'engaged_users'\n",
       "11. 'post_consumers'\n",
       "12. 'post_consumptions'\n",
       "13. 'impressions_by_people_that_liked_page'\n",
       "14. 'reach_by_people_that_like_page'\n",
       "15. 'people_liked_and_engaged'\n",
       "16. 'comments'\n",
       "17. 'likes'\n",
       "18. 'shares'\n",
       "19. 'interactions'\n",
       "\n",
       "\n"
      ],
      "text/plain": [
       " [1] \"page_likes\"                           \n",
       " [2] \"type\"                                 \n",
       " [3] \"category\"                             \n",
       " [4] \"post_month\"                           \n",
       " [5] \"post_weekday\"                         \n",
       " [6] \"post_hour\"                            \n",
       " [7] \"paid\"                                 \n",
       " [8] \"reach\"                                \n",
       " [9] \"impressions\"                          \n",
       "[10] \"engaged_users\"                        \n",
       "[11] \"post_consumers\"                       \n",
       "[12] \"post_consumptions\"                    \n",
       "[13] \"impressions_by_people_that_liked_page\"\n",
       "[14] \"reach_by_people_that_like_page\"       \n",
       "[15] \"people_liked_and_engaged\"             \n",
       "[16] \"comments\"                             \n",
       "[17] \"likes\"                                \n",
       "[18] \"shares\"                               \n",
       "[19] \"interactions\"                         "
      ]
     },
     "metadata": {},
     "output_type": "display_data"
    }
   ],
   "source": [
    "# Columns before selection\n",
    "colnames(fb_data_clean)"
   ]
  },
  {
   "cell_type": "code",
   "execution_count": 8,
   "metadata": {},
   "outputs": [
    {
     "data": {
      "text/html": [
       "<table class=\"dataframe\">\n",
       "<caption>A tibble: 372 × 15</caption>\n",
       "<thead>\n",
       "\t<tr><th scope=col>type</th><th scope=col>page_likes</th><th scope=col>paid</th><th scope=col>reach</th><th scope=col>impressions</th><th scope=col>engaged_users</th><th scope=col>post_consumers</th><th scope=col>post_consumptions</th><th scope=col>impressions_by_people_that_liked_page</th><th scope=col>reach_by_people_that_like_page</th><th scope=col>people_liked_and_engaged</th><th scope=col>comments</th><th scope=col>likes</th><th scope=col>shares</th><th scope=col>interactions</th></tr>\n",
       "\t<tr><th scope=col>&lt;fct&gt;</th><th scope=col>&lt;dbl&gt;</th><th scope=col>&lt;dbl&gt;</th><th scope=col>&lt;dbl&gt;</th><th scope=col>&lt;dbl&gt;</th><th scope=col>&lt;dbl&gt;</th><th scope=col>&lt;dbl&gt;</th><th scope=col>&lt;dbl&gt;</th><th scope=col>&lt;dbl&gt;</th><th scope=col>&lt;dbl&gt;</th><th scope=col>&lt;dbl&gt;</th><th scope=col>&lt;dbl&gt;</th><th scope=col>&lt;dbl&gt;</th><th scope=col>&lt;dbl&gt;</th><th scope=col>&lt;dbl&gt;</th></tr>\n",
       "</thead>\n",
       "<tbody>\n",
       "\t<tr><td>Photo </td><td>139441</td><td>0</td><td> 2752</td><td> 5091</td><td> 178</td><td> 109</td><td> 159</td><td> 3078</td><td> 1640</td><td> 119</td><td>4</td><td> 79</td><td>17</td><td>100</td></tr>\n",
       "\t<tr><td>Status</td><td>139441</td><td>0</td><td>10460</td><td>19057</td><td>1457</td><td>1361</td><td>1674</td><td>11710</td><td> 6112</td><td>1108</td><td>5</td><td>130</td><td>29</td><td>164</td></tr>\n",
       "\t<tr><td>Photo </td><td>139441</td><td>0</td><td> 2413</td><td> 4373</td><td> 177</td><td> 113</td><td> 154</td><td> 2812</td><td> 1503</td><td> 132</td><td>0</td><td> 66</td><td>14</td><td> 80</td></tr>\n",
       "\t<tr><td>Status</td><td>139441</td><td>0</td><td>10472</td><td>20849</td><td>1191</td><td>1073</td><td>1389</td><td>16034</td><td> 7852</td><td>1016</td><td>1</td><td>152</td><td>33</td><td>186</td></tr>\n",
       "\t<tr><td>Photo </td><td>139441</td><td>1</td><td>11692</td><td>19479</td><td> 481</td><td> 265</td><td> 364</td><td>15432</td><td> 9328</td><td> 379</td><td>3</td><td>249</td><td>27</td><td>279</td></tr>\n",
       "\t<tr><td>Photo </td><td>139441</td><td>1</td><td>13720</td><td>24137</td><td> 537</td><td> 232</td><td> 305</td><td>19728</td><td>11056</td><td> 422</td><td>0</td><td>325</td><td>14</td><td>339</td></tr>\n",
       "\t<tr><td>Status</td><td>139441</td><td>0</td><td>11844</td><td>22538</td><td>1530</td><td>1407</td><td>1692</td><td>15220</td><td> 7912</td><td>1250</td><td>0</td><td>161</td><td>31</td><td>192</td></tr>\n",
       "\t<tr><td>Photo </td><td>139441</td><td>0</td><td> 4694</td><td> 8668</td><td> 280</td><td> 183</td><td> 250</td><td> 4309</td><td> 2324</td><td> 199</td><td>3</td><td>113</td><td>26</td><td>142</td></tr>\n",
       "\t<tr><td>⋮</td><td>⋮</td><td>⋮</td><td>⋮</td><td>⋮</td><td>⋮</td><td>⋮</td><td>⋮</td><td>⋮</td><td>⋮</td><td>⋮</td><td>⋮</td><td>⋮</td><td>⋮</td><td>⋮</td></tr>\n",
       "\t<tr><td>Photo</td><td>85979</td><td>0</td><td>9700</td><td>17442</td><td>1407</td><td>1271</td><td>2007</td><td>8872</td><td>4876</td><td>660</td><td>21</td><td>277</td><td>80</td><td>378</td></tr>\n",
       "\t<tr><td>Photo</td><td>85979</td><td>0</td><td>4800</td><td> 7754</td><td> 975</td><td> 938</td><td>1278</td><td>4932</td><td>2820</td><td>432</td><td> 1</td><td> 74</td><td>28</td><td>103</td></tr>\n",
       "\t<tr><td>Photo</td><td>85979</td><td>0</td><td>5280</td><td> 8703</td><td> 951</td><td> 911</td><td>1237</td><td>5757</td><td>3300</td><td>431</td><td> 1</td><td> 79</td><td>30</td><td>110</td></tr>\n",
       "\t<tr><td>Photo</td><td>85979</td><td>1</td><td>6184</td><td>10228</td><td> 956</td><td> 901</td><td>1140</td><td>6085</td><td>3502</td><td>437</td><td> 1</td><td>105</td><td>46</td><td>152</td></tr>\n",
       "\t<tr><td>Photo</td><td>85093</td><td>0</td><td>5400</td><td> 9218</td><td> 810</td><td> 756</td><td>1003</td><td>5654</td><td>3230</td><td>422</td><td>10</td><td>125</td><td>41</td><td>176</td></tr>\n",
       "\t<tr><td>Photo</td><td>85093</td><td>0</td><td>4684</td><td> 7536</td><td> 733</td><td> 708</td><td> 985</td><td>4750</td><td>2876</td><td>392</td><td> 5</td><td> 53</td><td>26</td><td> 84</td></tr>\n",
       "\t<tr><td>Photo</td><td>81370</td><td>0</td><td>3778</td><td> 7216</td><td> 625</td><td> 572</td><td> 795</td><td>4742</td><td>2388</td><td>363</td><td> 4</td><td> 93</td><td>18</td><td>115</td></tr>\n",
       "\t<tr><td>Photo</td><td>81370</td><td>0</td><td>4156</td><td> 7564</td><td> 626</td><td> 574</td><td> 832</td><td>4534</td><td>2452</td><td>370</td><td> 7</td><td> 91</td><td>38</td><td>136</td></tr>\n",
       "</tbody>\n",
       "</table>\n"
      ],
      "text/latex": [
       "A tibble: 372 × 15\n",
       "\\begin{tabular}{lllllllllllllll}\n",
       " type & page\\_likes & paid & reach & impressions & engaged\\_users & post\\_consumers & post\\_consumptions & impressions\\_by\\_people\\_that\\_liked\\_page & reach\\_by\\_people\\_that\\_like\\_page & people\\_liked\\_and\\_engaged & comments & likes & shares & interactions\\\\\n",
       " <fct> & <dbl> & <dbl> & <dbl> & <dbl> & <dbl> & <dbl> & <dbl> & <dbl> & <dbl> & <dbl> & <dbl> & <dbl> & <dbl> & <dbl>\\\\\n",
       "\\hline\n",
       "\t Photo  & 139441 & 0 &  2752 &  5091 &  178 &  109 &  159 &  3078 &  1640 &  119 & 4 &  79 & 17 & 100\\\\\n",
       "\t Status & 139441 & 0 & 10460 & 19057 & 1457 & 1361 & 1674 & 11710 &  6112 & 1108 & 5 & 130 & 29 & 164\\\\\n",
       "\t Photo  & 139441 & 0 &  2413 &  4373 &  177 &  113 &  154 &  2812 &  1503 &  132 & 0 &  66 & 14 &  80\\\\\n",
       "\t Status & 139441 & 0 & 10472 & 20849 & 1191 & 1073 & 1389 & 16034 &  7852 & 1016 & 1 & 152 & 33 & 186\\\\\n",
       "\t Photo  & 139441 & 1 & 11692 & 19479 &  481 &  265 &  364 & 15432 &  9328 &  379 & 3 & 249 & 27 & 279\\\\\n",
       "\t Photo  & 139441 & 1 & 13720 & 24137 &  537 &  232 &  305 & 19728 & 11056 &  422 & 0 & 325 & 14 & 339\\\\\n",
       "\t Status & 139441 & 0 & 11844 & 22538 & 1530 & 1407 & 1692 & 15220 &  7912 & 1250 & 0 & 161 & 31 & 192\\\\\n",
       "\t Photo  & 139441 & 0 &  4694 &  8668 &  280 &  183 &  250 &  4309 &  2324 &  199 & 3 & 113 & 26 & 142\\\\\n",
       "\t ⋮ & ⋮ & ⋮ & ⋮ & ⋮ & ⋮ & ⋮ & ⋮ & ⋮ & ⋮ & ⋮ & ⋮ & ⋮ & ⋮ & ⋮\\\\\n",
       "\t Photo & 85979 & 0 & 9700 & 17442 & 1407 & 1271 & 2007 & 8872 & 4876 & 660 & 21 & 277 & 80 & 378\\\\\n",
       "\t Photo & 85979 & 0 & 4800 &  7754 &  975 &  938 & 1278 & 4932 & 2820 & 432 &  1 &  74 & 28 & 103\\\\\n",
       "\t Photo & 85979 & 0 & 5280 &  8703 &  951 &  911 & 1237 & 5757 & 3300 & 431 &  1 &  79 & 30 & 110\\\\\n",
       "\t Photo & 85979 & 1 & 6184 & 10228 &  956 &  901 & 1140 & 6085 & 3502 & 437 &  1 & 105 & 46 & 152\\\\\n",
       "\t Photo & 85093 & 0 & 5400 &  9218 &  810 &  756 & 1003 & 5654 & 3230 & 422 & 10 & 125 & 41 & 176\\\\\n",
       "\t Photo & 85093 & 0 & 4684 &  7536 &  733 &  708 &  985 & 4750 & 2876 & 392 &  5 &  53 & 26 &  84\\\\\n",
       "\t Photo & 81370 & 0 & 3778 &  7216 &  625 &  572 &  795 & 4742 & 2388 & 363 &  4 &  93 & 18 & 115\\\\\n",
       "\t Photo & 81370 & 0 & 4156 &  7564 &  626 &  574 &  832 & 4534 & 2452 & 370 &  7 &  91 & 38 & 136\\\\\n",
       "\\end{tabular}\n"
      ],
      "text/markdown": [
       "\n",
       "A tibble: 372 × 15\n",
       "\n",
       "| type &lt;fct&gt; | page_likes &lt;dbl&gt; | paid &lt;dbl&gt; | reach &lt;dbl&gt; | impressions &lt;dbl&gt; | engaged_users &lt;dbl&gt; | post_consumers &lt;dbl&gt; | post_consumptions &lt;dbl&gt; | impressions_by_people_that_liked_page &lt;dbl&gt; | reach_by_people_that_like_page &lt;dbl&gt; | people_liked_and_engaged &lt;dbl&gt; | comments &lt;dbl&gt; | likes &lt;dbl&gt; | shares &lt;dbl&gt; | interactions &lt;dbl&gt; |\n",
       "|---|---|---|---|---|---|---|---|---|---|---|---|---|---|---|\n",
       "| Photo  | 139441 | 0 |  2752 |  5091 |  178 |  109 |  159 |  3078 |  1640 |  119 | 4 |  79 | 17 | 100 |\n",
       "| Status | 139441 | 0 | 10460 | 19057 | 1457 | 1361 | 1674 | 11710 |  6112 | 1108 | 5 | 130 | 29 | 164 |\n",
       "| Photo  | 139441 | 0 |  2413 |  4373 |  177 |  113 |  154 |  2812 |  1503 |  132 | 0 |  66 | 14 |  80 |\n",
       "| Status | 139441 | 0 | 10472 | 20849 | 1191 | 1073 | 1389 | 16034 |  7852 | 1016 | 1 | 152 | 33 | 186 |\n",
       "| Photo  | 139441 | 1 | 11692 | 19479 |  481 |  265 |  364 | 15432 |  9328 |  379 | 3 | 249 | 27 | 279 |\n",
       "| Photo  | 139441 | 1 | 13720 | 24137 |  537 |  232 |  305 | 19728 | 11056 |  422 | 0 | 325 | 14 | 339 |\n",
       "| Status | 139441 | 0 | 11844 | 22538 | 1530 | 1407 | 1692 | 15220 |  7912 | 1250 | 0 | 161 | 31 | 192 |\n",
       "| Photo  | 139441 | 0 |  4694 |  8668 |  280 |  183 |  250 |  4309 |  2324 |  199 | 3 | 113 | 26 | 142 |\n",
       "| ⋮ | ⋮ | ⋮ | ⋮ | ⋮ | ⋮ | ⋮ | ⋮ | ⋮ | ⋮ | ⋮ | ⋮ | ⋮ | ⋮ | ⋮ |\n",
       "| Photo | 85979 | 0 | 9700 | 17442 | 1407 | 1271 | 2007 | 8872 | 4876 | 660 | 21 | 277 | 80 | 378 |\n",
       "| Photo | 85979 | 0 | 4800 |  7754 |  975 |  938 | 1278 | 4932 | 2820 | 432 |  1 |  74 | 28 | 103 |\n",
       "| Photo | 85979 | 0 | 5280 |  8703 |  951 |  911 | 1237 | 5757 | 3300 | 431 |  1 |  79 | 30 | 110 |\n",
       "| Photo | 85979 | 1 | 6184 | 10228 |  956 |  901 | 1140 | 6085 | 3502 | 437 |  1 | 105 | 46 | 152 |\n",
       "| Photo | 85093 | 0 | 5400 |  9218 |  810 |  756 | 1003 | 5654 | 3230 | 422 | 10 | 125 | 41 | 176 |\n",
       "| Photo | 85093 | 0 | 4684 |  7536 |  733 |  708 |  985 | 4750 | 2876 | 392 |  5 |  53 | 26 |  84 |\n",
       "| Photo | 81370 | 0 | 3778 |  7216 |  625 |  572 |  795 | 4742 | 2388 | 363 |  4 |  93 | 18 | 115 |\n",
       "| Photo | 81370 | 0 | 4156 |  7564 |  626 |  574 |  832 | 4534 | 2452 | 370 |  7 |  91 | 38 | 136 |\n",
       "\n"
      ],
      "text/plain": [
       "    type   page_likes paid reach impressions engaged_users post_consumers\n",
       "1   Photo  139441     0     2752  5091        178           109          \n",
       "2   Status 139441     0    10460 19057       1457          1361          \n",
       "3   Photo  139441     0     2413  4373        177           113          \n",
       "4   Status 139441     0    10472 20849       1191          1073          \n",
       "5   Photo  139441     1    11692 19479        481           265          \n",
       "6   Photo  139441     1    13720 24137        537           232          \n",
       "7   Status 139441     0    11844 22538       1530          1407          \n",
       "8   Photo  139441     0     4694  8668        280           183          \n",
       "⋮   ⋮      ⋮          ⋮    ⋮     ⋮           ⋮             ⋮             \n",
       "365 Photo  85979      0    9700  17442       1407          1271          \n",
       "366 Photo  85979      0    4800   7754        975           938          \n",
       "367 Photo  85979      0    5280   8703        951           911          \n",
       "368 Photo  85979      1    6184  10228        956           901          \n",
       "369 Photo  85093      0    5400   9218        810           756          \n",
       "370 Photo  85093      0    4684   7536        733           708          \n",
       "371 Photo  81370      0    3778   7216        625           572          \n",
       "372 Photo  81370      0    4156   7564        626           574          \n",
       "    post_consumptions impressions_by_people_that_liked_page\n",
       "1    159               3078                                \n",
       "2   1674              11710                                \n",
       "3    154               2812                                \n",
       "4   1389              16034                                \n",
       "5    364              15432                                \n",
       "6    305              19728                                \n",
       "7   1692              15220                                \n",
       "8    250               4309                                \n",
       "⋮   ⋮                 ⋮                                    \n",
       "365 2007              8872                                 \n",
       "366 1278              4932                                 \n",
       "367 1237              5757                                 \n",
       "368 1140              6085                                 \n",
       "369 1003              5654                                 \n",
       "370  985              4750                                 \n",
       "371  795              4742                                 \n",
       "372  832              4534                                 \n",
       "    reach_by_people_that_like_page people_liked_and_engaged comments likes\n",
       "1    1640                           119                     4         79  \n",
       "2    6112                          1108                     5        130  \n",
       "3    1503                           132                     0         66  \n",
       "4    7852                          1016                     1        152  \n",
       "5    9328                           379                     3        249  \n",
       "6   11056                           422                     0        325  \n",
       "7    7912                          1250                     0        161  \n",
       "8    2324                           199                     3        113  \n",
       "⋮   ⋮                              ⋮                        ⋮        ⋮    \n",
       "365 4876                           660                      21       277  \n",
       "366 2820                           432                       1        74  \n",
       "367 3300                           431                       1        79  \n",
       "368 3502                           437                       1       105  \n",
       "369 3230                           422                      10       125  \n",
       "370 2876                           392                       5        53  \n",
       "371 2388                           363                       4        93  \n",
       "372 2452                           370                       7        91  \n",
       "    shares interactions\n",
       "1   17     100         \n",
       "2   29     164         \n",
       "3   14      80         \n",
       "4   33     186         \n",
       "5   27     279         \n",
       "6   14     339         \n",
       "7   31     192         \n",
       "8   26     142         \n",
       "⋮   ⋮      ⋮           \n",
       "365 80     378         \n",
       "366 28     103         \n",
       "367 30     110         \n",
       "368 46     152         \n",
       "369 41     176         \n",
       "370 26      84         \n",
       "371 18     115         \n",
       "372 38     136         "
      ]
     },
     "metadata": {},
     "output_type": "display_data"
    }
   ],
   "source": [
    "fb_data_selected1 <- fb_train %>% \n",
    "            select(-post_month, -post_weekday, -post_hour, -category) %>%\n",
    "            select(type, page_likes, paid:interactions) # reorder the df so that type is first, so that we can display only that row\n",
    "fb_data_selected1\n",
    "\n",
    "#         mutate(comment_percent = comments / interactions) %>% \n",
    "#         mutate(like_percent = likes / interactions) %>% \n",
    "#         mutate(share_percent = shares / interactions) %>% "
   ]
  },
  {
   "cell_type": "code",
   "execution_count": 9,
   "metadata": {
    "tags": []
   },
   "outputs": [
    {
     "data": {
      "text/plain": [
       "List of 1\n",
       " $ text:List of 11\n",
       "  ..$ family       : NULL\n",
       "  ..$ face         : NULL\n",
       "  ..$ colour       : NULL\n",
       "  ..$ size         : num 14\n",
       "  ..$ hjust        : NULL\n",
       "  ..$ vjust        : NULL\n",
       "  ..$ angle        : NULL\n",
       "  ..$ lineheight   : NULL\n",
       "  ..$ margin       : NULL\n",
       "  ..$ debug        : NULL\n",
       "  ..$ inherit.blank: logi FALSE\n",
       "  ..- attr(*, \"class\")= chr [1:2] \"element_text\" \"element\"\n",
       " - attr(*, \"class\")= chr [1:2] \"theme\" \"gg\"\n",
       " - attr(*, \"complete\")= logi FALSE\n",
       " - attr(*, \"validate\")= logi TRUE"
      ]
     },
     "metadata": {},
     "output_type": "display_data"
    },
    {
     "data": {
      "image/png": "[encoded data removed]",
      "text/plain": [
       "plot without title"
      ]
     },
     "metadata": {
      "image/png": {
       "height": 300,
       "width": 1800
      }
     },
     "output_type": "display_data"
    }
   ],
   "source": [
    "options(repr.plot.height = 5, repr.plot.width = 30)\n",
    "fb_select_plot <- fb_data_selected1 %>% \n",
    "    ggpairs() +\n",
    "    ggtitle(\"Distribution of different factors\")\n",
    "    theme(text = element_text(size=14))\n",
    "\n",
    "# Select just the top row because it is the only thing that we are trt\n",
    "fb_select_plot$nrow <- 1\n",
    "fb_select_plot$yAxisLabels <- fb_select_plot$yAxisLabels[1]\n",
    "fb_select_plot"
   ]
  },
  {
   "cell_type": "markdown",
   "metadata": {
    "tags": []
   },
   "source": [
    "Looking at this plot, it might be better to say which predictors wouldn't be promissing:\n",
    "- `impressions` might be bad because the differences in most columns look the same. While the video boxplot does look different from the rest, the outliers from other ones also occupy similar space.\n",
    "- `impressions_by_people_that_liked_page` looks very bad with each box plot looking like just a line.\n",
    "- `comments`, `likes`, `shares`, and `interactions` look like they have similar problems as `impressions`.\n",
    "\n",
    "We think that some of these might actually be promissing but the scale is so small that it is hard to see any differences. Something we can do is scale a predictor based on another one.\n",
    "\n",
    "With `comments`, `likes`, `shares`, and `interactions`, all of these are related in that `interactions` is the sum of the `comments`, `likes`, and `shares` on each post. We can turn these into ratios by turing `comments`, `likes`, and `shares`, into percentages of the total interactions. These are better than the raw values because the raw values are a measure of the popularity of the page, and not characteristics of the post type. This will normalize the data, allowing for the model to be effective in classifying posts for any page size. \n",
    "\n",
    "# Talk about why the columns we picked are good\n",
    "\n",
    "# MAYBE LOOK INTO `impressions` AND `impressions_by_people_that_liked_page`"
   ]
  },
  {
   "cell_type": "code",
   "execution_count": 10,
   "metadata": {},
   "outputs": [
    {
     "data": {
      "text/html": [
       "<table class=\"dataframe\">\n",
       "<caption>A tibble: 372 × 12</caption>\n",
       "<thead>\n",
       "\t<tr><th scope=col>type</th><th scope=col>page_likes</th><th scope=col>paid</th><th scope=col>reach</th><th scope=col>engaged_users</th><th scope=col>post_consumers</th><th scope=col>post_consumptions</th><th scope=col>reach_by_people_that_like_page</th><th scope=col>people_liked_and_engaged</th><th scope=col>comment_percent</th><th scope=col>like_percent</th><th scope=col>share_percent</th></tr>\n",
       "\t<tr><th scope=col>&lt;fct&gt;</th><th scope=col>&lt;dbl&gt;</th><th scope=col>&lt;dbl&gt;</th><th scope=col>&lt;dbl&gt;</th><th scope=col>&lt;dbl&gt;</th><th scope=col>&lt;dbl&gt;</th><th scope=col>&lt;dbl&gt;</th><th scope=col>&lt;dbl&gt;</th><th scope=col>&lt;dbl&gt;</th><th scope=col>&lt;dbl&gt;</th><th scope=col>&lt;dbl&gt;</th><th scope=col>&lt;dbl&gt;</th></tr>\n",
       "</thead>\n",
       "<tbody>\n",
       "\t<tr><td>Photo </td><td>139441</td><td>0</td><td> 2752</td><td> 178</td><td> 109</td><td> 159</td><td> 1640</td><td> 119</td><td>0.040000000</td><td>0.7900000</td><td>0.17000000</td></tr>\n",
       "\t<tr><td>Status</td><td>139441</td><td>0</td><td>10460</td><td>1457</td><td>1361</td><td>1674</td><td> 6112</td><td>1108</td><td>0.030487805</td><td>0.7926829</td><td>0.17682927</td></tr>\n",
       "\t<tr><td>Photo </td><td>139441</td><td>0</td><td> 2413</td><td> 177</td><td> 113</td><td> 154</td><td> 1503</td><td> 132</td><td>0.000000000</td><td>0.8250000</td><td>0.17500000</td></tr>\n",
       "\t<tr><td>Status</td><td>139441</td><td>0</td><td>10472</td><td>1191</td><td>1073</td><td>1389</td><td> 7852</td><td>1016</td><td>0.005376344</td><td>0.8172043</td><td>0.17741935</td></tr>\n",
       "\t<tr><td>Photo </td><td>139441</td><td>1</td><td>11692</td><td> 481</td><td> 265</td><td> 364</td><td> 9328</td><td> 379</td><td>0.010752688</td><td>0.8924731</td><td>0.09677419</td></tr>\n",
       "\t<tr><td>Photo </td><td>139441</td><td>1</td><td>13720</td><td> 537</td><td> 232</td><td> 305</td><td>11056</td><td> 422</td><td>0.000000000</td><td>0.9587021</td><td>0.04129794</td></tr>\n",
       "\t<tr><td>Status</td><td>139441</td><td>0</td><td>11844</td><td>1530</td><td>1407</td><td>1692</td><td> 7912</td><td>1250</td><td>0.000000000</td><td>0.8385417</td><td>0.16145833</td></tr>\n",
       "\t<tr><td>Photo </td><td>139441</td><td>0</td><td> 4694</td><td> 280</td><td> 183</td><td> 250</td><td> 2324</td><td> 199</td><td>0.021126761</td><td>0.7957746</td><td>0.18309859</td></tr>\n",
       "\t<tr><td>⋮</td><td>⋮</td><td>⋮</td><td>⋮</td><td>⋮</td><td>⋮</td><td>⋮</td><td>⋮</td><td>⋮</td><td>⋮</td><td>⋮</td><td>⋮</td></tr>\n",
       "\t<tr><td>Photo</td><td>85979</td><td>0</td><td>9700</td><td>1407</td><td>1271</td><td>2007</td><td>4876</td><td>660</td><td>0.055555556</td><td>0.7328042</td><td>0.2116402</td></tr>\n",
       "\t<tr><td>Photo</td><td>85979</td><td>0</td><td>4800</td><td> 975</td><td> 938</td><td>1278</td><td>2820</td><td>432</td><td>0.009708738</td><td>0.7184466</td><td>0.2718447</td></tr>\n",
       "\t<tr><td>Photo</td><td>85979</td><td>0</td><td>5280</td><td> 951</td><td> 911</td><td>1237</td><td>3300</td><td>431</td><td>0.009090909</td><td>0.7181818</td><td>0.2727273</td></tr>\n",
       "\t<tr><td>Photo</td><td>85979</td><td>1</td><td>6184</td><td> 956</td><td> 901</td><td>1140</td><td>3502</td><td>437</td><td>0.006578947</td><td>0.6907895</td><td>0.3026316</td></tr>\n",
       "\t<tr><td>Photo</td><td>85093</td><td>0</td><td>5400</td><td> 810</td><td> 756</td><td>1003</td><td>3230</td><td>422</td><td>0.056818182</td><td>0.7102273</td><td>0.2329545</td></tr>\n",
       "\t<tr><td>Photo</td><td>85093</td><td>0</td><td>4684</td><td> 733</td><td> 708</td><td> 985</td><td>2876</td><td>392</td><td>0.059523810</td><td>0.6309524</td><td>0.3095238</td></tr>\n",
       "\t<tr><td>Photo</td><td>81370</td><td>0</td><td>3778</td><td> 625</td><td> 572</td><td> 795</td><td>2388</td><td>363</td><td>0.034782609</td><td>0.8086957</td><td>0.1565217</td></tr>\n",
       "\t<tr><td>Photo</td><td>81370</td><td>0</td><td>4156</td><td> 626</td><td> 574</td><td> 832</td><td>2452</td><td>370</td><td>0.051470588</td><td>0.6691176</td><td>0.2794118</td></tr>\n",
       "</tbody>\n",
       "</table>\n"
      ],
      "text/latex": [
       "A tibble: 372 × 12\n",
       "\\begin{tabular}{llllllllllll}\n",
       " type & page\\_likes & paid & reach & engaged\\_users & post\\_consumers & post\\_consumptions & reach\\_by\\_people\\_that\\_like\\_page & people\\_liked\\_and\\_engaged & comment\\_percent & like\\_percent & share\\_percent\\\\\n",
       " <fct> & <dbl> & <dbl> & <dbl> & <dbl> & <dbl> & <dbl> & <dbl> & <dbl> & <dbl> & <dbl> & <dbl>\\\\\n",
       "\\hline\n",
       "\t Photo  & 139441 & 0 &  2752 &  178 &  109 &  159 &  1640 &  119 & 0.040000000 & 0.7900000 & 0.17000000\\\\\n",
       "\t Status & 139441 & 0 & 10460 & 1457 & 1361 & 1674 &  6112 & 1108 & 0.030487805 & 0.7926829 & 0.17682927\\\\\n",
       "\t Photo  & 139441 & 0 &  2413 &  177 &  113 &  154 &  1503 &  132 & 0.000000000 & 0.8250000 & 0.17500000\\\\\n",
       "\t Status & 139441 & 0 & 10472 & 1191 & 1073 & 1389 &  7852 & 1016 & 0.005376344 & 0.8172043 & 0.17741935\\\\\n",
       "\t Photo  & 139441 & 1 & 11692 &  481 &  265 &  364 &  9328 &  379 & 0.010752688 & 0.8924731 & 0.09677419\\\\\n",
       "\t Photo  & 139441 & 1 & 13720 &  537 &  232 &  305 & 11056 &  422 & 0.000000000 & 0.9587021 & 0.04129794\\\\\n",
       "\t Status & 139441 & 0 & 11844 & 1530 & 1407 & 1692 &  7912 & 1250 & 0.000000000 & 0.8385417 & 0.16145833\\\\\n",
       "\t Photo  & 139441 & 0 &  4694 &  280 &  183 &  250 &  2324 &  199 & 0.021126761 & 0.7957746 & 0.18309859\\\\\n",
       "\t ⋮ & ⋮ & ⋮ & ⋮ & ⋮ & ⋮ & ⋮ & ⋮ & ⋮ & ⋮ & ⋮ & ⋮\\\\\n",
       "\t Photo & 85979 & 0 & 9700 & 1407 & 1271 & 2007 & 4876 & 660 & 0.055555556 & 0.7328042 & 0.2116402\\\\\n",
       "\t Photo & 85979 & 0 & 4800 &  975 &  938 & 1278 & 2820 & 432 & 0.009708738 & 0.7184466 & 0.2718447\\\\\n",
       "\t Photo & 85979 & 0 & 5280 &  951 &  911 & 1237 & 3300 & 431 & 0.009090909 & 0.7181818 & 0.2727273\\\\\n",
       "\t Photo & 85979 & 1 & 6184 &  956 &  901 & 1140 & 3502 & 437 & 0.006578947 & 0.6907895 & 0.3026316\\\\\n",
       "\t Photo & 85093 & 0 & 5400 &  810 &  756 & 1003 & 3230 & 422 & 0.056818182 & 0.7102273 & 0.2329545\\\\\n",
       "\t Photo & 85093 & 0 & 4684 &  733 &  708 &  985 & 2876 & 392 & 0.059523810 & 0.6309524 & 0.3095238\\\\\n",
       "\t Photo & 81370 & 0 & 3778 &  625 &  572 &  795 & 2388 & 363 & 0.034782609 & 0.8086957 & 0.1565217\\\\\n",
       "\t Photo & 81370 & 0 & 4156 &  626 &  574 &  832 & 2452 & 370 & 0.051470588 & 0.6691176 & 0.2794118\\\\\n",
       "\\end{tabular}\n"
      ],
      "text/markdown": [
       "\n",
       "A tibble: 372 × 12\n",
       "\n",
       "| type &lt;fct&gt; | page_likes &lt;dbl&gt; | paid &lt;dbl&gt; | reach &lt;dbl&gt; | engaged_users &lt;dbl&gt; | post_consumers &lt;dbl&gt; | post_consumptions &lt;dbl&gt; | reach_by_people_that_like_page &lt;dbl&gt; | people_liked_and_engaged &lt;dbl&gt; | comment_percent &lt;dbl&gt; | like_percent &lt;dbl&gt; | share_percent &lt;dbl&gt; |\n",
       "|---|---|---|---|---|---|---|---|---|---|---|---|\n",
       "| Photo  | 139441 | 0 |  2752 |  178 |  109 |  159 |  1640 |  119 | 0.040000000 | 0.7900000 | 0.17000000 |\n",
       "| Status | 139441 | 0 | 10460 | 1457 | 1361 | 1674 |  6112 | 1108 | 0.030487805 | 0.7926829 | 0.17682927 |\n",
       "| Photo  | 139441 | 0 |  2413 |  177 |  113 |  154 |  1503 |  132 | 0.000000000 | 0.8250000 | 0.17500000 |\n",
       "| Status | 139441 | 0 | 10472 | 1191 | 1073 | 1389 |  7852 | 1016 | 0.005376344 | 0.8172043 | 0.17741935 |\n",
       "| Photo  | 139441 | 1 | 11692 |  481 |  265 |  364 |  9328 |  379 | 0.010752688 | 0.8924731 | 0.09677419 |\n",
       "| Photo  | 139441 | 1 | 13720 |  537 |  232 |  305 | 11056 |  422 | 0.000000000 | 0.9587021 | 0.04129794 |\n",
       "| Status | 139441 | 0 | 11844 | 1530 | 1407 | 1692 |  7912 | 1250 | 0.000000000 | 0.8385417 | 0.16145833 |\n",
       "| Photo  | 139441 | 0 |  4694 |  280 |  183 |  250 |  2324 |  199 | 0.021126761 | 0.7957746 | 0.18309859 |\n",
       "| ⋮ | ⋮ | ⋮ | ⋮ | ⋮ | ⋮ | ⋮ | ⋮ | ⋮ | ⋮ | ⋮ | ⋮ |\n",
       "| Photo | 85979 | 0 | 9700 | 1407 | 1271 | 2007 | 4876 | 660 | 0.055555556 | 0.7328042 | 0.2116402 |\n",
       "| Photo | 85979 | 0 | 4800 |  975 |  938 | 1278 | 2820 | 432 | 0.009708738 | 0.7184466 | 0.2718447 |\n",
       "| Photo | 85979 | 0 | 5280 |  951 |  911 | 1237 | 3300 | 431 | 0.009090909 | 0.7181818 | 0.2727273 |\n",
       "| Photo | 85979 | 1 | 6184 |  956 |  901 | 1140 | 3502 | 437 | 0.006578947 | 0.6907895 | 0.3026316 |\n",
       "| Photo | 85093 | 0 | 5400 |  810 |  756 | 1003 | 3230 | 422 | 0.056818182 | 0.7102273 | 0.2329545 |\n",
       "| Photo | 85093 | 0 | 4684 |  733 |  708 |  985 | 2876 | 392 | 0.059523810 | 0.6309524 | 0.3095238 |\n",
       "| Photo | 81370 | 0 | 3778 |  625 |  572 |  795 | 2388 | 363 | 0.034782609 | 0.8086957 | 0.1565217 |\n",
       "| Photo | 81370 | 0 | 4156 |  626 |  574 |  832 | 2452 | 370 | 0.051470588 | 0.6691176 | 0.2794118 |\n",
       "\n"
      ],
      "text/plain": [
       "    type   page_likes paid reach engaged_users post_consumers post_consumptions\n",
       "1   Photo  139441     0     2752  178           109            159             \n",
       "2   Status 139441     0    10460 1457          1361           1674             \n",
       "3   Photo  139441     0     2413  177           113            154             \n",
       "4   Status 139441     0    10472 1191          1073           1389             \n",
       "5   Photo  139441     1    11692  481           265            364             \n",
       "6   Photo  139441     1    13720  537           232            305             \n",
       "7   Status 139441     0    11844 1530          1407           1692             \n",
       "8   Photo  139441     0     4694  280           183            250             \n",
       "⋮   ⋮      ⋮          ⋮    ⋮     ⋮             ⋮              ⋮                \n",
       "365 Photo  85979      0    9700  1407          1271           2007             \n",
       "366 Photo  85979      0    4800   975           938           1278             \n",
       "367 Photo  85979      0    5280   951           911           1237             \n",
       "368 Photo  85979      1    6184   956           901           1140             \n",
       "369 Photo  85093      0    5400   810           756           1003             \n",
       "370 Photo  85093      0    4684   733           708            985             \n",
       "371 Photo  81370      0    3778   625           572            795             \n",
       "372 Photo  81370      0    4156   626           574            832             \n",
       "    reach_by_people_that_like_page people_liked_and_engaged comment_percent\n",
       "1    1640                           119                     0.040000000    \n",
       "2    6112                          1108                     0.030487805    \n",
       "3    1503                           132                     0.000000000    \n",
       "4    7852                          1016                     0.005376344    \n",
       "5    9328                           379                     0.010752688    \n",
       "6   11056                           422                     0.000000000    \n",
       "7    7912                          1250                     0.000000000    \n",
       "8    2324                           199                     0.021126761    \n",
       "⋮   ⋮                              ⋮                        ⋮              \n",
       "365 4876                           660                      0.055555556    \n",
       "366 2820                           432                      0.009708738    \n",
       "367 3300                           431                      0.009090909    \n",
       "368 3502                           437                      0.006578947    \n",
       "369 3230                           422                      0.056818182    \n",
       "370 2876                           392                      0.059523810    \n",
       "371 2388                           363                      0.034782609    \n",
       "372 2452                           370                      0.051470588    \n",
       "    like_percent share_percent\n",
       "1   0.7900000    0.17000000   \n",
       "2   0.7926829    0.17682927   \n",
       "3   0.8250000    0.17500000   \n",
       "4   0.8172043    0.17741935   \n",
       "5   0.8924731    0.09677419   \n",
       "6   0.9587021    0.04129794   \n",
       "7   0.8385417    0.16145833   \n",
       "8   0.7957746    0.18309859   \n",
       "⋮   ⋮            ⋮            \n",
       "365 0.7328042    0.2116402    \n",
       "366 0.7184466    0.2718447    \n",
       "367 0.7181818    0.2727273    \n",
       "368 0.6907895    0.3026316    \n",
       "369 0.7102273    0.2329545    \n",
       "370 0.6309524    0.3095238    \n",
       "371 0.8086957    0.1565217    \n",
       "372 0.6691176    0.2794118    "
      ]
     },
     "metadata": {},
     "output_type": "display_data"
    }
   ],
   "source": [
    "fb_data_selected2 <- fb_data_selected1 %>% \n",
    "            select(-impressions, -impressions_by_people_that_liked_page) %>% \n",
    "            mutate(comment_percent = comments / interactions) %>% \n",
    "            mutate(like_percent = likes / interactions) %>% \n",
    "            mutate(share_percent = shares / interactions) %>% \n",
    "            select(-comments, -likes, -shares, -interactions) # We don't need these anymore because they have been scaled\n",
    "fb_data_selected2\n"
   ]
  },
  {
   "cell_type": "code",
   "execution_count": 11,
   "metadata": {},
   "outputs": [
    {
     "data": {
      "text/plain": [
       "List of 1\n",
       " $ text:List of 11\n",
       "  ..$ family       : NULL\n",
       "  ..$ face         : NULL\n",
       "  ..$ colour       : NULL\n",
       "  ..$ size         : num 14\n",
       "  ..$ hjust        : NULL\n",
       "  ..$ vjust        : NULL\n",
       "  ..$ angle        : NULL\n",
       "  ..$ lineheight   : NULL\n",
       "  ..$ margin       : NULL\n",
       "  ..$ debug        : NULL\n",
       "  ..$ inherit.blank: logi FALSE\n",
       "  ..- attr(*, \"class\")= chr [1:2] \"element_text\" \"element\"\n",
       " - attr(*, \"class\")= chr [1:2] \"theme\" \"gg\"\n",
       " - attr(*, \"complete\")= logi FALSE\n",
       " - attr(*, \"validate\")= logi TRUE"
      ]
     },
     "metadata": {},
     "output_type": "display_data"
    },
    {
     "name": "stderr",
     "output_type": "stream",
     "text": [
      "Warning message:\n",
      "“Removed 2 rows containing non-finite values (stat_boxplot).”\n",
      "Warning message:\n",
      "“Removed 2 rows containing non-finite values (stat_boxplot).”\n",
      "Warning message:\n",
      "“Removed 2 rows containing non-finite values (stat_boxplot).”\n"
     ]
    },
    {
     "data": {
      "image/png": "[encoded data removed]",
      "text/plain": [
       "plot without title"
      ]
     },
     "metadata": {
      "image/png": {
       "height": 300,
       "width": 1800
      }
     },
     "output_type": "display_data"
    }
   ],
   "source": [
    "options(repr.plot.height = 5, repr.plot.width = 30)\n",
    "fb_select_plot2 <- fb_data_selected2 %>% \n",
    "    ggpairs() +\n",
    "    ggtitle(\"Distribution of different factors for Second Selection Set\")\n",
    "    theme(text = element_text(size=14))\n",
    "\n",
    "# Select just the top row because it is the only thing that we are trt\n",
    "fb_select_plot2$nrow <- 1\n",
    "fb_select_plot2$yAxisLabels <- fb_select_plot2$yAxisLabels[1]\n",
    "fb_select_plot2"
   ]
  },
  {
   "cell_type": "markdown",
   "metadata": {},
   "source": [
    "`comment_percent`, `like_percent`, and `share_percent` look very different now. `comment_percent` still does not look like it would be good, but `like_percent`, and `share_percent` seem like they could be good as the variance for each box plot looks different enough where you can tell them apart."
   ]
  },
  {
   "cell_type": "code",
   "execution_count": 12,
   "metadata": {},
   "outputs": [
    {
     "data": {
      "text/html": [
       "<table class=\"dataframe\">\n",
       "<caption>A tibble: 372 × 12</caption>\n",
       "<thead>\n",
       "\t<tr><th scope=col>type</th><th scope=col>page_likes</th><th scope=col>paid</th><th scope=col>reach</th><th scope=col>engaged_users</th><th scope=col>post_consumers</th><th scope=col>post_consumptions</th><th scope=col>reach_by_people_that_like_page</th><th scope=col>people_liked_and_engaged</th><th scope=col>comment_percent</th><th scope=col>like_percent</th><th scope=col>share_percent</th></tr>\n",
       "\t<tr><th scope=col>&lt;fct&gt;</th><th scope=col>&lt;dbl&gt;</th><th scope=col>&lt;dbl&gt;</th><th scope=col>&lt;dbl&gt;</th><th scope=col>&lt;dbl&gt;</th><th scope=col>&lt;dbl&gt;</th><th scope=col>&lt;dbl&gt;</th><th scope=col>&lt;dbl&gt;</th><th scope=col>&lt;dbl&gt;</th><th scope=col>&lt;dbl&gt;</th><th scope=col>&lt;dbl&gt;</th><th scope=col>&lt;dbl&gt;</th></tr>\n",
       "</thead>\n",
       "<tbody>\n",
       "\t<tr><td>Photo </td><td>139441</td><td>0</td><td> 2752</td><td> 178</td><td> 109</td><td> 159</td><td> 1640</td><td> 119</td><td>0.040000000</td><td>0.7900000</td><td>0.17000000</td></tr>\n",
       "\t<tr><td>Status</td><td>139441</td><td>0</td><td>10460</td><td>1457</td><td>1361</td><td>1674</td><td> 6112</td><td>1108</td><td>0.030487805</td><td>0.7926829</td><td>0.17682927</td></tr>\n",
       "\t<tr><td>Photo </td><td>139441</td><td>0</td><td> 2413</td><td> 177</td><td> 113</td><td> 154</td><td> 1503</td><td> 132</td><td>0.000000000</td><td>0.8250000</td><td>0.17500000</td></tr>\n",
       "\t<tr><td>Status</td><td>139441</td><td>0</td><td>10472</td><td>1191</td><td>1073</td><td>1389</td><td> 7852</td><td>1016</td><td>0.005376344</td><td>0.8172043</td><td>0.17741935</td></tr>\n",
       "\t<tr><td>Photo </td><td>139441</td><td>1</td><td>11692</td><td> 481</td><td> 265</td><td> 364</td><td> 9328</td><td> 379</td><td>0.010752688</td><td>0.8924731</td><td>0.09677419</td></tr>\n",
       "\t<tr><td>Photo </td><td>139441</td><td>1</td><td>13720</td><td> 537</td><td> 232</td><td> 305</td><td>11056</td><td> 422</td><td>0.000000000</td><td>0.9587021</td><td>0.04129794</td></tr>\n",
       "\t<tr><td>Status</td><td>139441</td><td>0</td><td>11844</td><td>1530</td><td>1407</td><td>1692</td><td> 7912</td><td>1250</td><td>0.000000000</td><td>0.8385417</td><td>0.16145833</td></tr>\n",
       "\t<tr><td>Photo </td><td>139441</td><td>0</td><td> 4694</td><td> 280</td><td> 183</td><td> 250</td><td> 2324</td><td> 199</td><td>0.021126761</td><td>0.7957746</td><td>0.18309859</td></tr>\n",
       "\t<tr><td>⋮</td><td>⋮</td><td>⋮</td><td>⋮</td><td>⋮</td><td>⋮</td><td>⋮</td><td>⋮</td><td>⋮</td><td>⋮</td><td>⋮</td><td>⋮</td></tr>\n",
       "\t<tr><td>Photo</td><td>85979</td><td>0</td><td>9700</td><td>1407</td><td>1271</td><td>2007</td><td>4876</td><td>660</td><td>0.055555556</td><td>0.7328042</td><td>0.2116402</td></tr>\n",
       "\t<tr><td>Photo</td><td>85979</td><td>0</td><td>4800</td><td> 975</td><td> 938</td><td>1278</td><td>2820</td><td>432</td><td>0.009708738</td><td>0.7184466</td><td>0.2718447</td></tr>\n",
       "\t<tr><td>Photo</td><td>85979</td><td>0</td><td>5280</td><td> 951</td><td> 911</td><td>1237</td><td>3300</td><td>431</td><td>0.009090909</td><td>0.7181818</td><td>0.2727273</td></tr>\n",
       "\t<tr><td>Photo</td><td>85979</td><td>1</td><td>6184</td><td> 956</td><td> 901</td><td>1140</td><td>3502</td><td>437</td><td>0.006578947</td><td>0.6907895</td><td>0.3026316</td></tr>\n",
       "\t<tr><td>Photo</td><td>85093</td><td>0</td><td>5400</td><td> 810</td><td> 756</td><td>1003</td><td>3230</td><td>422</td><td>0.056818182</td><td>0.7102273</td><td>0.2329545</td></tr>\n",
       "\t<tr><td>Photo</td><td>85093</td><td>0</td><td>4684</td><td> 733</td><td> 708</td><td> 985</td><td>2876</td><td>392</td><td>0.059523810</td><td>0.6309524</td><td>0.3095238</td></tr>\n",
       "\t<tr><td>Photo</td><td>81370</td><td>0</td><td>3778</td><td> 625</td><td> 572</td><td> 795</td><td>2388</td><td>363</td><td>0.034782609</td><td>0.8086957</td><td>0.1565217</td></tr>\n",
       "\t<tr><td>Photo</td><td>81370</td><td>0</td><td>4156</td><td> 626</td><td> 574</td><td> 832</td><td>2452</td><td>370</td><td>0.051470588</td><td>0.6691176</td><td>0.2794118</td></tr>\n",
       "</tbody>\n",
       "</table>\n"
      ],
      "text/latex": [
       "A tibble: 372 × 12\n",
       "\\begin{tabular}{llllllllllll}\n",
       " type & page\\_likes & paid & reach & engaged\\_users & post\\_consumers & post\\_consumptions & reach\\_by\\_people\\_that\\_like\\_page & people\\_liked\\_and\\_engaged & comment\\_percent & like\\_percent & share\\_percent\\\\\n",
       " <fct> & <dbl> & <dbl> & <dbl> & <dbl> & <dbl> & <dbl> & <dbl> & <dbl> & <dbl> & <dbl> & <dbl>\\\\\n",
       "\\hline\n",
       "\t Photo  & 139441 & 0 &  2752 &  178 &  109 &  159 &  1640 &  119 & 0.040000000 & 0.7900000 & 0.17000000\\\\\n",
       "\t Status & 139441 & 0 & 10460 & 1457 & 1361 & 1674 &  6112 & 1108 & 0.030487805 & 0.7926829 & 0.17682927\\\\\n",
       "\t Photo  & 139441 & 0 &  2413 &  177 &  113 &  154 &  1503 &  132 & 0.000000000 & 0.8250000 & 0.17500000\\\\\n",
       "\t Status & 139441 & 0 & 10472 & 1191 & 1073 & 1389 &  7852 & 1016 & 0.005376344 & 0.8172043 & 0.17741935\\\\\n",
       "\t Photo  & 139441 & 1 & 11692 &  481 &  265 &  364 &  9328 &  379 & 0.010752688 & 0.8924731 & 0.09677419\\\\\n",
       "\t Photo  & 139441 & 1 & 13720 &  537 &  232 &  305 & 11056 &  422 & 0.000000000 & 0.9587021 & 0.04129794\\\\\n",
       "\t Status & 139441 & 0 & 11844 & 1530 & 1407 & 1692 &  7912 & 1250 & 0.000000000 & 0.8385417 & 0.16145833\\\\\n",
       "\t Photo  & 139441 & 0 &  4694 &  280 &  183 &  250 &  2324 &  199 & 0.021126761 & 0.7957746 & 0.18309859\\\\\n",
       "\t ⋮ & ⋮ & ⋮ & ⋮ & ⋮ & ⋮ & ⋮ & ⋮ & ⋮ & ⋮ & ⋮ & ⋮\\\\\n",
       "\t Photo & 85979 & 0 & 9700 & 1407 & 1271 & 2007 & 4876 & 660 & 0.055555556 & 0.7328042 & 0.2116402\\\\\n",
       "\t Photo & 85979 & 0 & 4800 &  975 &  938 & 1278 & 2820 & 432 & 0.009708738 & 0.7184466 & 0.2718447\\\\\n",
       "\t Photo & 85979 & 0 & 5280 &  951 &  911 & 1237 & 3300 & 431 & 0.009090909 & 0.7181818 & 0.2727273\\\\\n",
       "\t Photo & 85979 & 1 & 6184 &  956 &  901 & 1140 & 3502 & 437 & 0.006578947 & 0.6907895 & 0.3026316\\\\\n",
       "\t Photo & 85093 & 0 & 5400 &  810 &  756 & 1003 & 3230 & 422 & 0.056818182 & 0.7102273 & 0.2329545\\\\\n",
       "\t Photo & 85093 & 0 & 4684 &  733 &  708 &  985 & 2876 & 392 & 0.059523810 & 0.6309524 & 0.3095238\\\\\n",
       "\t Photo & 81370 & 0 & 3778 &  625 &  572 &  795 & 2388 & 363 & 0.034782609 & 0.8086957 & 0.1565217\\\\\n",
       "\t Photo & 81370 & 0 & 4156 &  626 &  574 &  832 & 2452 & 370 & 0.051470588 & 0.6691176 & 0.2794118\\\\\n",
       "\\end{tabular}\n"
      ],
      "text/markdown": [
       "\n",
       "A tibble: 372 × 12\n",
       "\n",
       "| type &lt;fct&gt; | page_likes &lt;dbl&gt; | paid &lt;dbl&gt; | reach &lt;dbl&gt; | engaged_users &lt;dbl&gt; | post_consumers &lt;dbl&gt; | post_consumptions &lt;dbl&gt; | reach_by_people_that_like_page &lt;dbl&gt; | people_liked_and_engaged &lt;dbl&gt; | comment_percent &lt;dbl&gt; | like_percent &lt;dbl&gt; | share_percent &lt;dbl&gt; |\n",
       "|---|---|---|---|---|---|---|---|---|---|---|---|\n",
       "| Photo  | 139441 | 0 |  2752 |  178 |  109 |  159 |  1640 |  119 | 0.040000000 | 0.7900000 | 0.17000000 |\n",
       "| Status | 139441 | 0 | 10460 | 1457 | 1361 | 1674 |  6112 | 1108 | 0.030487805 | 0.7926829 | 0.17682927 |\n",
       "| Photo  | 139441 | 0 |  2413 |  177 |  113 |  154 |  1503 |  132 | 0.000000000 | 0.8250000 | 0.17500000 |\n",
       "| Status | 139441 | 0 | 10472 | 1191 | 1073 | 1389 |  7852 | 1016 | 0.005376344 | 0.8172043 | 0.17741935 |\n",
       "| Photo  | 139441 | 1 | 11692 |  481 |  265 |  364 |  9328 |  379 | 0.010752688 | 0.8924731 | 0.09677419 |\n",
       "| Photo  | 139441 | 1 | 13720 |  537 |  232 |  305 | 11056 |  422 | 0.000000000 | 0.9587021 | 0.04129794 |\n",
       "| Status | 139441 | 0 | 11844 | 1530 | 1407 | 1692 |  7912 | 1250 | 0.000000000 | 0.8385417 | 0.16145833 |\n",
       "| Photo  | 139441 | 0 |  4694 |  280 |  183 |  250 |  2324 |  199 | 0.021126761 | 0.7957746 | 0.18309859 |\n",
       "| ⋮ | ⋮ | ⋮ | ⋮ | ⋮ | ⋮ | ⋮ | ⋮ | ⋮ | ⋮ | ⋮ | ⋮ |\n",
       "| Photo | 85979 | 0 | 9700 | 1407 | 1271 | 2007 | 4876 | 660 | 0.055555556 | 0.7328042 | 0.2116402 |\n",
       "| Photo | 85979 | 0 | 4800 |  975 |  938 | 1278 | 2820 | 432 | 0.009708738 | 0.7184466 | 0.2718447 |\n",
       "| Photo | 85979 | 0 | 5280 |  951 |  911 | 1237 | 3300 | 431 | 0.009090909 | 0.7181818 | 0.2727273 |\n",
       "| Photo | 85979 | 1 | 6184 |  956 |  901 | 1140 | 3502 | 437 | 0.006578947 | 0.6907895 | 0.3026316 |\n",
       "| Photo | 85093 | 0 | 5400 |  810 |  756 | 1003 | 3230 | 422 | 0.056818182 | 0.7102273 | 0.2329545 |\n",
       "| Photo | 85093 | 0 | 4684 |  733 |  708 |  985 | 2876 | 392 | 0.059523810 | 0.6309524 | 0.3095238 |\n",
       "| Photo | 81370 | 0 | 3778 |  625 |  572 |  795 | 2388 | 363 | 0.034782609 | 0.8086957 | 0.1565217 |\n",
       "| Photo | 81370 | 0 | 4156 |  626 |  574 |  832 | 2452 | 370 | 0.051470588 | 0.6691176 | 0.2794118 |\n",
       "\n"
      ],
      "text/plain": [
       "    type   page_likes paid reach engaged_users post_consumers post_consumptions\n",
       "1   Photo  139441     0     2752  178           109            159             \n",
       "2   Status 139441     0    10460 1457          1361           1674             \n",
       "3   Photo  139441     0     2413  177           113            154             \n",
       "4   Status 139441     0    10472 1191          1073           1389             \n",
       "5   Photo  139441     1    11692  481           265            364             \n",
       "6   Photo  139441     1    13720  537           232            305             \n",
       "7   Status 139441     0    11844 1530          1407           1692             \n",
       "8   Photo  139441     0     4694  280           183            250             \n",
       "⋮   ⋮      ⋮          ⋮    ⋮     ⋮             ⋮              ⋮                \n",
       "365 Photo  85979      0    9700  1407          1271           2007             \n",
       "366 Photo  85979      0    4800   975           938           1278             \n",
       "367 Photo  85979      0    5280   951           911           1237             \n",
       "368 Photo  85979      1    6184   956           901           1140             \n",
       "369 Photo  85093      0    5400   810           756           1003             \n",
       "370 Photo  85093      0    4684   733           708            985             \n",
       "371 Photo  81370      0    3778   625           572            795             \n",
       "372 Photo  81370      0    4156   626           574            832             \n",
       "    reach_by_people_that_like_page people_liked_and_engaged comment_percent\n",
       "1    1640                           119                     0.040000000    \n",
       "2    6112                          1108                     0.030487805    \n",
       "3    1503                           132                     0.000000000    \n",
       "4    7852                          1016                     0.005376344    \n",
       "5    9328                           379                     0.010752688    \n",
       "6   11056                           422                     0.000000000    \n",
       "7    7912                          1250                     0.000000000    \n",
       "8    2324                           199                     0.021126761    \n",
       "⋮   ⋮                              ⋮                        ⋮              \n",
       "365 4876                           660                      0.055555556    \n",
       "366 2820                           432                      0.009708738    \n",
       "367 3300                           431                      0.009090909    \n",
       "368 3502                           437                      0.006578947    \n",
       "369 3230                           422                      0.056818182    \n",
       "370 2876                           392                      0.059523810    \n",
       "371 2388                           363                      0.034782609    \n",
       "372 2452                           370                      0.051470588    \n",
       "    like_percent share_percent\n",
       "1   0.7900000    0.17000000   \n",
       "2   0.7926829    0.17682927   \n",
       "3   0.8250000    0.17500000   \n",
       "4   0.8172043    0.17741935   \n",
       "5   0.8924731    0.09677419   \n",
       "6   0.9587021    0.04129794   \n",
       "7   0.8385417    0.16145833   \n",
       "8   0.7957746    0.18309859   \n",
       "⋮   ⋮            ⋮            \n",
       "365 0.7328042    0.2116402    \n",
       "366 0.7184466    0.2718447    \n",
       "367 0.7181818    0.2727273    \n",
       "368 0.6907895    0.3026316    \n",
       "369 0.7102273    0.2329545    \n",
       "370 0.6309524    0.3095238    \n",
       "371 0.8086957    0.1565217    \n",
       "372 0.6691176    0.2794118    "
      ]
     },
     "metadata": {},
     "output_type": "display_data"
    }
   ],
   "source": [
    "fb_data_selected <- fb_data_selected2 %>% \n",
    "            select(-comment_percent)\n",
    "fb_data_selected2"
   ]
  },
  {
   "cell_type": "markdown",
   "metadata": {},
   "source": [
    "Something else we want to think about is there any hidden predictors that we can get from combining other predictors? \n",
    "# Should we include this part?\n",
    "When doing some research on this dataset, we found that some people created a engagement ratio factor that is `interactions` / `reach`. When we ggpairs this with type, we get this:"
   ]
  },
  {
   "cell_type": "code",
   "execution_count": 13,
   "metadata": {},
   "outputs": [
    {
     "data": {
      "text/plain": [
       "List of 1\n",
       " $ text:List of 11\n",
       "  ..$ family       : NULL\n",
       "  ..$ face         : NULL\n",
       "  ..$ colour       : NULL\n",
       "  ..$ size         : num 14\n",
       "  ..$ hjust        : NULL\n",
       "  ..$ vjust        : NULL\n",
       "  ..$ angle        : NULL\n",
       "  ..$ lineheight   : NULL\n",
       "  ..$ margin       : NULL\n",
       "  ..$ debug        : NULL\n",
       "  ..$ inherit.blank: logi FALSE\n",
       "  ..- attr(*, \"class\")= chr [1:2] \"element_text\" \"element\"\n",
       " - attr(*, \"class\")= chr [1:2] \"theme\" \"gg\"\n",
       " - attr(*, \"complete\")= logi FALSE\n",
       " - attr(*, \"validate\")= logi TRUE"
      ]
     },
     "metadata": {},
     "output_type": "display_data"
    },
    {
     "data": {
      "image/png": "[encoded data removed]",
      "text/plain": [
       "plot without title"
      ]
     },
     "metadata": {
      "image/png": {
       "height": 300,
       "width": 1800
      }
     },
     "output_type": "display_data"
    }
   ],
   "source": [
    "fb_select_plot3 <- fb_data_clean %>%\n",
    "    mutate(engagement_ratio = interactions / reach) %>% \n",
    "    select(type, engagement_ratio) %>% \n",
    "    ggpairs() +\n",
    "    ggtitle(\"Distribution of different factors for Second Selection Set\")\n",
    "    theme(text = element_text(size=14))\n",
    "\n",
    "# Select just the top row because it is the only thing that we are trt\n",
    "fb_select_plot3$nrow <- 1\n",
    "fb_select_plot3$yAxisLabels <- fb_select_plot$yAxisLabels[1]\n",
    "fb_select_plot3"
   ]
  },
  {
   "cell_type": "markdown",
   "metadata": {},
   "source": [
    "This looks promising so we will add this as a factor that we want to look at"
   ]
  },
  {
   "cell_type": "markdown",
   "metadata": {},
   "source": [
    "\n",
    "### Preliminary Summary Tables:\n",
    "\n",
    "Tables were constructed to gain an initial summary of the data. Table *summary_table1* groups posts by type and computes the total posts, total interactions (including all likes, comments, shares), maximum interactions, and number of paid posts for each type."
   ]
  },
  {
   "cell_type": "code",
   "execution_count": 14,
   "metadata": {},
   "outputs": [
    {
     "data": {
      "text/html": [
       "<table class=\"dataframe\">\n",
       "<caption>A tibble: 4 × 2</caption>\n",
       "<thead>\n",
       "\t<tr><th scope=col>type</th><th scope=col>total_of_type</th></tr>\n",
       "\t<tr><th scope=col>&lt;fct&gt;</th><th scope=col>&lt;int&gt;</th></tr>\n",
       "</thead>\n",
       "<tbody>\n",
       "\t<tr><td>Photo </td><td>318</td></tr>\n",
       "\t<tr><td>Status</td><td> 31</td></tr>\n",
       "\t<tr><td>Link  </td><td> 17</td></tr>\n",
       "\t<tr><td>Video </td><td>  6</td></tr>\n",
       "</tbody>\n",
       "</table>\n"
      ],
      "text/latex": [
       "A tibble: 4 × 2\n",
       "\\begin{tabular}{ll}\n",
       " type & total\\_of\\_type\\\\\n",
       " <fct> & <int>\\\\\n",
       "\\hline\n",
       "\t Photo  & 318\\\\\n",
       "\t Status &  31\\\\\n",
       "\t Link   &  17\\\\\n",
       "\t Video  &   6\\\\\n",
       "\\end{tabular}\n"
      ],
      "text/markdown": [
       "\n",
       "A tibble: 4 × 2\n",
       "\n",
       "| type &lt;fct&gt; | total_of_type &lt;int&gt; |\n",
       "|---|---|\n",
       "| Photo  | 318 |\n",
       "| Status |  31 |\n",
       "| Link   |  17 |\n",
       "| Video  |   6 |\n",
       "\n"
      ],
      "text/plain": [
       "  type   total_of_type\n",
       "1 Photo  318          \n",
       "2 Status  31          \n",
       "3 Link    17          \n",
       "4 Video    6          "
      ]
     },
     "metadata": {},
     "output_type": "display_data"
    }
   ],
   "source": [
    "summary_table1 = fb_train %>% \n",
    "    group_by(type) %>%\n",
    "    summarize(total_of_type = n())\n",
    "\n",
    "summary_table1"
   ]
  },
  {
   "cell_type": "markdown",
   "metadata": {},
   "source": [
    "Looking at the number of different posts, it is clear that we need to upsample the data. This does raise some concerns about how well it will be able to predict some types (mainly the type `video`), but we are confident that we can still get good results."
   ]
  },
  {
   "cell_type": "markdown",
   "metadata": {},
   "source": [
    "#### Selected Columns:"
   ]
  },
  {
   "cell_type": "code",
   "execution_count": 15,
   "metadata": {},
   "outputs": [
    {
     "data": {
      "text/html": [
       "<table class=\"dataframe\">\n",
       "<caption>A tibble: 13 × 1</caption>\n",
       "<thead>\n",
       "\t<tr><th scope=col>col_name</th></tr>\n",
       "\t<tr><th scope=col>&lt;chr&gt;</th></tr>\n",
       "</thead>\n",
       "<tbody>\n",
       "\t<tr><td>type                          </td></tr>\n",
       "\t<tr><td>page_likes                    </td></tr>\n",
       "\t<tr><td>paid                          </td></tr>\n",
       "\t<tr><td>reach                         </td></tr>\n",
       "\t<tr><td>engaged_users                 </td></tr>\n",
       "\t<tr><td>post_consumers                </td></tr>\n",
       "\t<tr><td>post_consumptions             </td></tr>\n",
       "\t<tr><td>reach_by_people_that_like_page</td></tr>\n",
       "\t<tr><td>people_liked_and_engaged      </td></tr>\n",
       "\t<tr><td>comment_percent               </td></tr>\n",
       "\t<tr><td>like_percent                  </td></tr>\n",
       "\t<tr><td>share_percent                 </td></tr>\n",
       "\t<tr><td>engagement_ratio              </td></tr>\n",
       "</tbody>\n",
       "</table>\n"
      ],
      "text/latex": [
       "A tibble: 13 × 1\n",
       "\\begin{tabular}{l}\n",
       " col\\_name\\\\\n",
       " <chr>\\\\\n",
       "\\hline\n",
       "\t type                          \\\\\n",
       "\t page\\_likes                    \\\\\n",
       "\t paid                          \\\\\n",
       "\t reach                         \\\\\n",
       "\t engaged\\_users                 \\\\\n",
       "\t post\\_consumers                \\\\\n",
       "\t post\\_consumptions             \\\\\n",
       "\t reach\\_by\\_people\\_that\\_like\\_page\\\\\n",
       "\t people\\_liked\\_and\\_engaged      \\\\\n",
       "\t comment\\_percent               \\\\\n",
       "\t like\\_percent                  \\\\\n",
       "\t share\\_percent                 \\\\\n",
       "\t engagement\\_ratio              \\\\\n",
       "\\end{tabular}\n"
      ],
      "text/markdown": [
       "\n",
       "A tibble: 13 × 1\n",
       "\n",
       "| col_name &lt;chr&gt; |\n",
       "|---|\n",
       "| type                           |\n",
       "| page_likes                     |\n",
       "| paid                           |\n",
       "| reach                          |\n",
       "| engaged_users                  |\n",
       "| post_consumers                 |\n",
       "| post_consumptions              |\n",
       "| reach_by_people_that_like_page |\n",
       "| people_liked_and_engaged       |\n",
       "| comment_percent                |\n",
       "| like_percent                   |\n",
       "| share_percent                  |\n",
       "| engagement_ratio               |\n",
       "\n"
      ],
      "text/plain": [
       "   col_name                      \n",
       "1  type                          \n",
       "2  page_likes                    \n",
       "3  paid                          \n",
       "4  reach                         \n",
       "5  engaged_users                 \n",
       "6  post_consumers                \n",
       "7  post_consumptions             \n",
       "8  reach_by_people_that_like_page\n",
       "9  people_liked_and_engaged      \n",
       "10 comment_percent               \n",
       "11 like_percent                  \n",
       "12 share_percent                 \n",
       "13 engagement_ratio              "
      ]
     },
     "metadata": {},
     "output_type": "display_data"
    }
   ],
   "source": [
    "selected_cols <- tibble(col_name = append(colnames(fb_data_selected2), 'engagement_ratio'))\n",
    "selected_cols"
   ]
  },
  {
   "cell_type": "markdown",
   "metadata": {},
   "source": [
    "### Preliminary visualizations:\n",
    "\n",
    "# TODO: should we create visualizations? I think the ggpairs exploration should be enough but who knows. - Kol"
   ]
  },
  {
   "cell_type": "markdown",
   "metadata": {},
   "source": [
    "#### Methods:\n",
    "\n",
    "Our analysis will use the following input columns of the original dataset: type `page_likes`, `paid`, `reach`, `engaged_users`, `post_consumers`, `post_consumptions`, `reach_by_people_that_like_page`, and `people_liked_and_engaged`. We will also be using the generated columns `comment_percent`, `like_percent`, `share_percent`, and `engagement_ratio`.\n",
    "\n",
    "\n",
    "Our aim is to use the K-nearest neighbours algorithm to generate a classification model which will classify a post by type (photo, status, link, or video).\n",
    "\n",
    "To visualize our results, we plan to use a confusion matrix. This will display how often our classification model labels a post correctly, and how often each label gets confused with another. We will also use bar charts to visualize relevant and intermediate results; e.g., we will create a bar chart with post type on the x-axis and interactions on the y-axis, filling out the bars with proportional values of the type of each interaction. As part of the tuning step of creating the model, we can create a line chart to show us the optimal K value. "
   ]
  },
  {
   "cell_type": "markdown",
   "metadata": {},
   "source": [
    "#### Expected outcomes and significance:\n",
    "\n",
    "This analysis hopes to define a relationship between type of post (i.e., photo, status, link, or video) and ratio of the corresponding post’s interaction type. It is expected that videos and photos, for example, may have higher percentages of interactions that are comments and/or likes when compared to a link or status.\n",
    "\n",
    "This classification application for labeling a post’s type could be helpful in identifying the types of reactions that a post might receive. It is possible that we find images get the most likes, while statuses get the most comments. Knowing how these metrics indicate the type could lead to better targeted ad campaigns that look for a certain type of user engagement.\n",
    "\n",
    "Future questions following from this analysis may include:\n",
    "- Do paid posts generate more traffic than unpaid posts?\n",
    "- Does the category of a post (i.e., “action”, “product”, or “inspiration” classification) affect the overall and/or ratio of interactions on a post?\n",
    "- Do posts with more interactions overall correlate with increases in users liking a company’s Facebook page? \n",
    "\n",
    "In examining the data for classification, it is also expected that trends may emerge which could in the future be used to predict post engagement. This predictive knowledge could be used by companies looking to grow their social media reach, as they may more accurately tailor their posts to yield higher engagement before publishing."
   ]
  },
  {
   "cell_type": "markdown",
   "metadata": {},
   "source": [
    "## Create the model"
   ]
  },
  {
   "cell_type": "code",
   "execution_count": 36,
   "metadata": {},
   "outputs": [],
   "source": [
    "# Create the tune spec\n",
    "knn_spec_tune <- nearest_neighbor(weight_func = \"rectangualr\", neighbors = tune()) %>% \n",
    "            set_engine(\"kknn\") %>% \n",
    "            set_mode(\"classification\")"
   ]
  },
  {
   "cell_type": "code",
   "execution_count": 47,
   "metadata": {},
   "outputs": [
    {
     "name": "stderr",
     "output_type": "stream",
     "text": [
      "Warning message:\n",
      "“`step_upsample()` was deprecated in recipes 0.1.13.\n",
      "Please use `themis::step_upsample()` instead.”\n"
     ]
    },
    {
     "data": {
      "text/plain": [
       "Data Recipe\n",
       "\n",
       "Inputs:\n",
       "\n",
       "      role #variables\n",
       "   outcome          1\n",
       " predictor         12\n",
       "\n",
       "Operations:\n",
       "\n",
       "Up-sampling based on type\n",
       "Variable mutation for comment_percent, like_percent, share_percent, engagement_ratio\n",
       "Delete terms comments, likes, shares, interactions\n",
       "Scaling for all_predictors()\n",
       "Centering for all_predictors()"
      ]
     },
     "metadata": {},
     "output_type": "display_data"
    }
   ],
   "source": [
    "# Create the recipe\n",
    "fb_recipe <- recipe(type ~ page_likes +\n",
    "                            paid +\n",
    "                            reach +\n",
    "                            engaged_users +\n",
    "                            post_consumers +\n",
    "                            post_consumptions +\n",
    "                            reach_by_people_that_like_page +\n",
    "                            people_liked_and_engaged +\n",
    "                            comments + likes + shares + interactions, data = fb_train) %>%\n",
    "                step_upsample(type, over_ratio = 1, skip = FALSE) %>%\n",
    "                step_mutate(comment_percent = comments / interactions,\n",
    "                            like_percent = likes / interactions,\n",
    "                            share_percent = shares / interactions,\n",
    "                            engagement_ratio = interactions / reach) %>% \n",
    "                step_rm(comments, likes, shares, interactions) %>% \n",
    "                step_scale(all_predictors()) %>% \n",
    "                step_center(all_predictors())\n",
    "\n",
    "fb_recipe"
   ]
  },
  {
   "cell_type": "markdown",
   "metadata": {},
   "source": [
    "## Show that we are using the correct columns"
   ]
  },
  {
   "cell_type": "code",
   "execution_count": 48,
   "metadata": {},
   "outputs": [
    {
     "data": {
      "text/html": [
       "<table class=\"dataframe\">\n",
       "<caption>A tibble: 1272 × 13</caption>\n",
       "<thead>\n",
       "\t<tr><th scope=col>page_likes</th><th scope=col>paid</th><th scope=col>reach</th><th scope=col>engaged_users</th><th scope=col>post_consumers</th><th scope=col>post_consumptions</th><th scope=col>reach_by_people_that_like_page</th><th scope=col>people_liked_and_engaged</th><th scope=col>type</th><th scope=col>comment_percent</th><th scope=col>like_percent</th><th scope=col>share_percent</th><th scope=col>engagement_ratio</th></tr>\n",
       "\t<tr><th scope=col>&lt;dbl&gt;</th><th scope=col>&lt;dbl&gt;</th><th scope=col>&lt;dbl&gt;</th><th scope=col>&lt;dbl&gt;</th><th scope=col>&lt;dbl&gt;</th><th scope=col>&lt;dbl&gt;</th><th scope=col>&lt;dbl&gt;</th><th scope=col>&lt;dbl&gt;</th><th scope=col>&lt;fct&gt;</th><th scope=col>&lt;dbl&gt;</th><th scope=col>&lt;dbl&gt;</th><th scope=col>&lt;dbl&gt;</th><th scope=col>&lt;dbl&gt;</th></tr>\n",
       "</thead>\n",
       "<tbody>\n",
       "\t<tr><td>0.7782262</td><td>-0.6634736</td><td>-0.65689711</td><td>-0.9033177</td><td>-0.9316402</td><td>-0.8094774</td><td>-0.94602481</td><td>-0.87995866</td><td>Photo</td><td> 0.01446546</td><td>-0.2107817</td><td> 0.2320558</td><td>1.7623334</td></tr>\n",
       "\t<tr><td>0.7782262</td><td>-0.6634736</td><td>-0.66681565</td><td>-0.9043130</td><td>-0.9273766</td><td>-0.8125061</td><td>-0.96187851</td><td>-0.86189188</td><td>Photo</td><td>-0.86758314</td><td> 0.2615044</td><td> 0.3095910</td><td>1.5089932</td></tr>\n",
       "\t<tr><td>0.7782262</td><td> 1.5060340</td><td>-0.39532868</td><td>-0.6017601</td><td>-0.7653622</td><td>-0.6853003</td><td>-0.05636622</td><td>-0.51862321</td><td>Photo</td><td>-0.63047330</td><td> 1.1719792</td><td>-0.9034604</td><td>0.7695916</td></tr>\n",
       "\t<tr><td>0.7782262</td><td> 1.5060340</td><td>-0.33599302</td><td>-0.5460267</td><td>-0.8005364</td><td>-0.7210391</td><td> 0.14359867</td><td>-0.45886389</td><td>Photo</td><td>-0.86758314</td><td> 2.0656652</td><td>-1.7637335</td><td>0.8369152</td></tr>\n",
       "\t<tr><td>0.7782262</td><td>-0.6634736</td><td>-0.60007766</td><td>-0.8018033</td><td>-0.8527647</td><td>-0.7543549</td><td>-0.86687204</td><td>-0.76877852</td><td>Photo</td><td>-0.40171240</td><td>-0.1328592</td><td> 0.4351763</td><td>1.2780225</td></tr>\n",
       "\t<tr><td>0.7782262</td><td>-0.6634736</td><td>-0.64636416</td><td>-0.8734605</td><td>-0.9124543</td><td>-0.8179578</td><td>-0.88423011</td><td>-0.81603008</td><td>Photo</td><td>-0.86758314</td><td> 0.3315199</td><td> 0.2291299</td><td>1.5812478</td></tr>\n",
       "\t<tr><td>0.7782262</td><td>-0.6634736</td><td>-0.66283653</td><td>-0.8326557</td><td>-0.9049931</td><td>-0.8040257</td><td>-0.91397025</td><td>-0.79101455</td><td>Photo</td><td>-0.14221423</td><td> 1.2913012</td><td>-1.3839420</td><td>3.6160752</td></tr>\n",
       "\t<tr><td>0.7137738</td><td> 1.5060340</td><td>-0.07079657</td><td>-0.1976928</td><td>-0.6886185</td><td>-0.6531960</td><td> 1.09898647</td><td>-0.09474894</td><td>Photo</td><td>-0.79395638</td><td> 2.1273330</td><td>-1.8863780</td><td>0.9628050</td></tr>\n",
       "\t<tr><td>⋮</td><td>⋮</td><td>⋮</td><td>⋮</td><td>⋮</td><td>⋮</td><td>⋮</td><td>⋮</td><td>⋮</td><td>⋮</td><td>⋮</td><td>⋮</td><td>⋮</td></tr>\n",
       "\t<tr><td> 0.6810769</td><td> 1.5060340</td><td> 2.2108760</td><td> 1.0105282</td><td> 0.80148829</td><td> 0.5061940</td><td> 1.04899524</td><td> 0.1845911</td><td>Video</td><td>-0.1860001</td><td> 0.14496630</td><td>-0.03579326</td><td>-0.6950326</td></tr>\n",
       "\t<tr><td>-0.0386946</td><td>-0.6634736</td><td> 3.3297101</td><td> 0.6900610</td><td> 0.70342690</td><td> 0.5213376</td><td> 3.34488839</td><td> 0.3555306</td><td>Video</td><td> 1.0039222</td><td>-0.71319250</td><td> 0.11360710</td><td>-0.9742439</td></tr>\n",
       "\t<tr><td> 0.7439604</td><td> 1.5060340</td><td> 0.3219657</td><td> 0.0550981</td><td> 0.09054322</td><td> 0.1409317</td><td> 0.49724028</td><td>-0.2684679</td><td>Video</td><td> 1.4135770</td><td> 0.21885134</td><td>-1.24556997</td><td>-0.7469598</td></tr>\n",
       "\t<tr><td> 0.6810769</td><td>-0.6634736</td><td>-0.3411425</td><td>-0.5659315</td><td>-0.55964643</td><td>-0.5017605</td><td> 0.22506585</td><td>-0.4241201</td><td>Video</td><td>-0.4807197</td><td> 0.84742328</td><td>-0.63579489</td><td>-0.4595605</td></tr>\n",
       "\t<tr><td> 0.7084393</td><td> 1.5060340</td><td>-0.2571129</td><td>-0.6236554</td><td>-0.60974301</td><td>-0.5792955</td><td>-0.02859332</td><td>-0.5408592</td><td>Video</td><td>-0.3231087</td><td>-0.04252454</td><td> 0.27608814</td><td>-0.7367224</td></tr>\n",
       "\t<tr><td> 0.7439604</td><td> 1.5060340</td><td> 0.3219657</td><td> 0.0550981</td><td> 0.09054322</td><td> 0.1409317</td><td> 0.49724028</td><td>-0.2684679</td><td>Video</td><td> 1.4135770</td><td> 0.21885134</td><td>-1.24556997</td><td>-0.7469598</td></tr>\n",
       "\t<tr><td> 0.7084393</td><td> 1.5060340</td><td>-0.2571129</td><td>-0.6236554</td><td>-0.60974301</td><td>-0.5792955</td><td>-0.02859332</td><td>-0.5408592</td><td>Video</td><td>-0.3231087</td><td>-0.04252454</td><td> 0.27608814</td><td>-0.7367224</td></tr>\n",
       "\t<tr><td>-0.0386946</td><td>-0.6634736</td><td> 3.3297101</td><td> 0.6900610</td><td> 0.70342690</td><td> 0.5213376</td><td> 3.34488839</td><td> 0.3555306</td><td>Video</td><td> 1.0039222</td><td>-0.71319250</td><td> 0.11360710</td><td>-0.9742439</td></tr>\n",
       "</tbody>\n",
       "</table>\n"
      ],
      "text/latex": [
       "A tibble: 1272 × 13\n",
       "\\begin{tabular}{lllllllllllll}\n",
       " page\\_likes & paid & reach & engaged\\_users & post\\_consumers & post\\_consumptions & reach\\_by\\_people\\_that\\_like\\_page & people\\_liked\\_and\\_engaged & type & comment\\_percent & like\\_percent & share\\_percent & engagement\\_ratio\\\\\n",
       " <dbl> & <dbl> & <dbl> & <dbl> & <dbl> & <dbl> & <dbl> & <dbl> & <fct> & <dbl> & <dbl> & <dbl> & <dbl>\\\\\n",
       "\\hline\n",
       "\t 0.7782262 & -0.6634736 & -0.65689711 & -0.9033177 & -0.9316402 & -0.8094774 & -0.94602481 & -0.87995866 & Photo &  0.01446546 & -0.2107817 &  0.2320558 & 1.7623334\\\\\n",
       "\t 0.7782262 & -0.6634736 & -0.66681565 & -0.9043130 & -0.9273766 & -0.8125061 & -0.96187851 & -0.86189188 & Photo & -0.86758314 &  0.2615044 &  0.3095910 & 1.5089932\\\\\n",
       "\t 0.7782262 &  1.5060340 & -0.39532868 & -0.6017601 & -0.7653622 & -0.6853003 & -0.05636622 & -0.51862321 & Photo & -0.63047330 &  1.1719792 & -0.9034604 & 0.7695916\\\\\n",
       "\t 0.7782262 &  1.5060340 & -0.33599302 & -0.5460267 & -0.8005364 & -0.7210391 &  0.14359867 & -0.45886389 & Photo & -0.86758314 &  2.0656652 & -1.7637335 & 0.8369152\\\\\n",
       "\t 0.7782262 & -0.6634736 & -0.60007766 & -0.8018033 & -0.8527647 & -0.7543549 & -0.86687204 & -0.76877852 & Photo & -0.40171240 & -0.1328592 &  0.4351763 & 1.2780225\\\\\n",
       "\t 0.7782262 & -0.6634736 & -0.64636416 & -0.8734605 & -0.9124543 & -0.8179578 & -0.88423011 & -0.81603008 & Photo & -0.86758314 &  0.3315199 &  0.2291299 & 1.5812478\\\\\n",
       "\t 0.7782262 & -0.6634736 & -0.66283653 & -0.8326557 & -0.9049931 & -0.8040257 & -0.91397025 & -0.79101455 & Photo & -0.14221423 &  1.2913012 & -1.3839420 & 3.6160752\\\\\n",
       "\t 0.7137738 &  1.5060340 & -0.07079657 & -0.1976928 & -0.6886185 & -0.6531960 &  1.09898647 & -0.09474894 & Photo & -0.79395638 &  2.1273330 & -1.8863780 & 0.9628050\\\\\n",
       "\t ⋮ & ⋮ & ⋮ & ⋮ & ⋮ & ⋮ & ⋮ & ⋮ & ⋮ & ⋮ & ⋮ & ⋮ & ⋮\\\\\n",
       "\t  0.6810769 &  1.5060340 &  2.2108760 &  1.0105282 &  0.80148829 &  0.5061940 &  1.04899524 &  0.1845911 & Video & -0.1860001 &  0.14496630 & -0.03579326 & -0.6950326\\\\\n",
       "\t -0.0386946 & -0.6634736 &  3.3297101 &  0.6900610 &  0.70342690 &  0.5213376 &  3.34488839 &  0.3555306 & Video &  1.0039222 & -0.71319250 &  0.11360710 & -0.9742439\\\\\n",
       "\t  0.7439604 &  1.5060340 &  0.3219657 &  0.0550981 &  0.09054322 &  0.1409317 &  0.49724028 & -0.2684679 & Video &  1.4135770 &  0.21885134 & -1.24556997 & -0.7469598\\\\\n",
       "\t  0.6810769 & -0.6634736 & -0.3411425 & -0.5659315 & -0.55964643 & -0.5017605 &  0.22506585 & -0.4241201 & Video & -0.4807197 &  0.84742328 & -0.63579489 & -0.4595605\\\\\n",
       "\t  0.7084393 &  1.5060340 & -0.2571129 & -0.6236554 & -0.60974301 & -0.5792955 & -0.02859332 & -0.5408592 & Video & -0.3231087 & -0.04252454 &  0.27608814 & -0.7367224\\\\\n",
       "\t  0.7439604 &  1.5060340 &  0.3219657 &  0.0550981 &  0.09054322 &  0.1409317 &  0.49724028 & -0.2684679 & Video &  1.4135770 &  0.21885134 & -1.24556997 & -0.7469598\\\\\n",
       "\t  0.7084393 &  1.5060340 & -0.2571129 & -0.6236554 & -0.60974301 & -0.5792955 & -0.02859332 & -0.5408592 & Video & -0.3231087 & -0.04252454 &  0.27608814 & -0.7367224\\\\\n",
       "\t -0.0386946 & -0.6634736 &  3.3297101 &  0.6900610 &  0.70342690 &  0.5213376 &  3.34488839 &  0.3555306 & Video &  1.0039222 & -0.71319250 &  0.11360710 & -0.9742439\\\\\n",
       "\\end{tabular}\n"
      ],
      "text/markdown": [
       "\n",
       "A tibble: 1272 × 13\n",
       "\n",
       "| page_likes &lt;dbl&gt; | paid &lt;dbl&gt; | reach &lt;dbl&gt; | engaged_users &lt;dbl&gt; | post_consumers &lt;dbl&gt; | post_consumptions &lt;dbl&gt; | reach_by_people_that_like_page &lt;dbl&gt; | people_liked_and_engaged &lt;dbl&gt; | type &lt;fct&gt; | comment_percent &lt;dbl&gt; | like_percent &lt;dbl&gt; | share_percent &lt;dbl&gt; | engagement_ratio &lt;dbl&gt; |\n",
       "|---|---|---|---|---|---|---|---|---|---|---|---|---|\n",
       "| 0.7782262 | -0.6634736 | -0.65689711 | -0.9033177 | -0.9316402 | -0.8094774 | -0.94602481 | -0.87995866 | Photo |  0.01446546 | -0.2107817 |  0.2320558 | 1.7623334 |\n",
       "| 0.7782262 | -0.6634736 | -0.66681565 | -0.9043130 | -0.9273766 | -0.8125061 | -0.96187851 | -0.86189188 | Photo | -0.86758314 |  0.2615044 |  0.3095910 | 1.5089932 |\n",
       "| 0.7782262 |  1.5060340 | -0.39532868 | -0.6017601 | -0.7653622 | -0.6853003 | -0.05636622 | -0.51862321 | Photo | -0.63047330 |  1.1719792 | -0.9034604 | 0.7695916 |\n",
       "| 0.7782262 |  1.5060340 | -0.33599302 | -0.5460267 | -0.8005364 | -0.7210391 |  0.14359867 | -0.45886389 | Photo | -0.86758314 |  2.0656652 | -1.7637335 | 0.8369152 |\n",
       "| 0.7782262 | -0.6634736 | -0.60007766 | -0.8018033 | -0.8527647 | -0.7543549 | -0.86687204 | -0.76877852 | Photo | -0.40171240 | -0.1328592 |  0.4351763 | 1.2780225 |\n",
       "| 0.7782262 | -0.6634736 | -0.64636416 | -0.8734605 | -0.9124543 | -0.8179578 | -0.88423011 | -0.81603008 | Photo | -0.86758314 |  0.3315199 |  0.2291299 | 1.5812478 |\n",
       "| 0.7782262 | -0.6634736 | -0.66283653 | -0.8326557 | -0.9049931 | -0.8040257 | -0.91397025 | -0.79101455 | Photo | -0.14221423 |  1.2913012 | -1.3839420 | 3.6160752 |\n",
       "| 0.7137738 |  1.5060340 | -0.07079657 | -0.1976928 | -0.6886185 | -0.6531960 |  1.09898647 | -0.09474894 | Photo | -0.79395638 |  2.1273330 | -1.8863780 | 0.9628050 |\n",
       "| ⋮ | ⋮ | ⋮ | ⋮ | ⋮ | ⋮ | ⋮ | ⋮ | ⋮ | ⋮ | ⋮ | ⋮ | ⋮ |\n",
       "|  0.6810769 |  1.5060340 |  2.2108760 |  1.0105282 |  0.80148829 |  0.5061940 |  1.04899524 |  0.1845911 | Video | -0.1860001 |  0.14496630 | -0.03579326 | -0.6950326 |\n",
       "| -0.0386946 | -0.6634736 |  3.3297101 |  0.6900610 |  0.70342690 |  0.5213376 |  3.34488839 |  0.3555306 | Video |  1.0039222 | -0.71319250 |  0.11360710 | -0.9742439 |\n",
       "|  0.7439604 |  1.5060340 |  0.3219657 |  0.0550981 |  0.09054322 |  0.1409317 |  0.49724028 | -0.2684679 | Video |  1.4135770 |  0.21885134 | -1.24556997 | -0.7469598 |\n",
       "|  0.6810769 | -0.6634736 | -0.3411425 | -0.5659315 | -0.55964643 | -0.5017605 |  0.22506585 | -0.4241201 | Video | -0.4807197 |  0.84742328 | -0.63579489 | -0.4595605 |\n",
       "|  0.7084393 |  1.5060340 | -0.2571129 | -0.6236554 | -0.60974301 | -0.5792955 | -0.02859332 | -0.5408592 | Video | -0.3231087 | -0.04252454 |  0.27608814 | -0.7367224 |\n",
       "|  0.7439604 |  1.5060340 |  0.3219657 |  0.0550981 |  0.09054322 |  0.1409317 |  0.49724028 | -0.2684679 | Video |  1.4135770 |  0.21885134 | -1.24556997 | -0.7469598 |\n",
       "|  0.7084393 |  1.5060340 | -0.2571129 | -0.6236554 | -0.60974301 | -0.5792955 | -0.02859332 | -0.5408592 | Video | -0.3231087 | -0.04252454 |  0.27608814 | -0.7367224 |\n",
       "| -0.0386946 | -0.6634736 |  3.3297101 |  0.6900610 |  0.70342690 |  0.5213376 |  3.34488839 |  0.3555306 | Video |  1.0039222 | -0.71319250 |  0.11360710 | -0.9742439 |\n",
       "\n"
      ],
      "text/plain": [
       "     page_likes paid       reach       engaged_users post_consumers\n",
       "1    0.7782262  -0.6634736 -0.65689711 -0.9033177    -0.9316402    \n",
       "2    0.7782262  -0.6634736 -0.66681565 -0.9043130    -0.9273766    \n",
       "3    0.7782262   1.5060340 -0.39532868 -0.6017601    -0.7653622    \n",
       "4    0.7782262   1.5060340 -0.33599302 -0.5460267    -0.8005364    \n",
       "5    0.7782262  -0.6634736 -0.60007766 -0.8018033    -0.8527647    \n",
       "6    0.7782262  -0.6634736 -0.64636416 -0.8734605    -0.9124543    \n",
       "7    0.7782262  -0.6634736 -0.66283653 -0.8326557    -0.9049931    \n",
       "8    0.7137738   1.5060340 -0.07079657 -0.1976928    -0.6886185    \n",
       "⋮    ⋮          ⋮          ⋮           ⋮             ⋮             \n",
       "1265  0.6810769  1.5060340  2.2108760   1.0105282     0.80148829   \n",
       "1266 -0.0386946 -0.6634736  3.3297101   0.6900610     0.70342690   \n",
       "1267  0.7439604  1.5060340  0.3219657   0.0550981     0.09054322   \n",
       "1268  0.6810769 -0.6634736 -0.3411425  -0.5659315    -0.55964643   \n",
       "1269  0.7084393  1.5060340 -0.2571129  -0.6236554    -0.60974301   \n",
       "1270  0.7439604  1.5060340  0.3219657   0.0550981     0.09054322   \n",
       "1271  0.7084393  1.5060340 -0.2571129  -0.6236554    -0.60974301   \n",
       "1272 -0.0386946 -0.6634736  3.3297101   0.6900610     0.70342690   \n",
       "     post_consumptions reach_by_people_that_like_page people_liked_and_engaged\n",
       "1    -0.8094774        -0.94602481                    -0.87995866             \n",
       "2    -0.8125061        -0.96187851                    -0.86189188             \n",
       "3    -0.6853003        -0.05636622                    -0.51862321             \n",
       "4    -0.7210391         0.14359867                    -0.45886389             \n",
       "5    -0.7543549        -0.86687204                    -0.76877852             \n",
       "6    -0.8179578        -0.88423011                    -0.81603008             \n",
       "7    -0.8040257        -0.91397025                    -0.79101455             \n",
       "8    -0.6531960         1.09898647                    -0.09474894             \n",
       "⋮    ⋮                 ⋮                              ⋮                       \n",
       "1265  0.5061940         1.04899524                     0.1845911              \n",
       "1266  0.5213376         3.34488839                     0.3555306              \n",
       "1267  0.1409317         0.49724028                    -0.2684679              \n",
       "1268 -0.5017605         0.22506585                    -0.4241201              \n",
       "1269 -0.5792955        -0.02859332                    -0.5408592              \n",
       "1270  0.1409317         0.49724028                    -0.2684679              \n",
       "1271 -0.5792955        -0.02859332                    -0.5408592              \n",
       "1272  0.5213376         3.34488839                     0.3555306              \n",
       "     type  comment_percent like_percent share_percent engagement_ratio\n",
       "1    Photo  0.01446546     -0.2107817    0.2320558    1.7623334       \n",
       "2    Photo -0.86758314      0.2615044    0.3095910    1.5089932       \n",
       "3    Photo -0.63047330      1.1719792   -0.9034604    0.7695916       \n",
       "4    Photo -0.86758314      2.0656652   -1.7637335    0.8369152       \n",
       "5    Photo -0.40171240     -0.1328592    0.4351763    1.2780225       \n",
       "6    Photo -0.86758314      0.3315199    0.2291299    1.5812478       \n",
       "7    Photo -0.14221423      1.2913012   -1.3839420    3.6160752       \n",
       "8    Photo -0.79395638      2.1273330   -1.8863780    0.9628050       \n",
       "⋮    ⋮     ⋮               ⋮            ⋮             ⋮               \n",
       "1265 Video -0.1860001       0.14496630  -0.03579326   -0.6950326      \n",
       "1266 Video  1.0039222      -0.71319250   0.11360710   -0.9742439      \n",
       "1267 Video  1.4135770       0.21885134  -1.24556997   -0.7469598      \n",
       "1268 Video -0.4807197       0.84742328  -0.63579489   -0.4595605      \n",
       "1269 Video -0.3231087      -0.04252454   0.27608814   -0.7367224      \n",
       "1270 Video  1.4135770       0.21885134  -1.24556997   -0.7469598      \n",
       "1271 Video -0.3231087      -0.04252454   0.27608814   -0.7367224      \n",
       "1272 Video  1.0039222      -0.71319250   0.11360710   -0.9742439      "
      ]
     },
     "metadata": {},
     "output_type": "display_data"
    }
   ],
   "source": [
    "baked_fb <- bake(fb_recipe %>% prep(), fb_train)\n",
    "baked_fb"
   ]
  },
  {
   "cell_type": "markdown",
   "metadata": {},
   "source": [
    "## Show that data has been upsampled and balanced"
   ]
  },
  {
   "cell_type": "code",
   "execution_count": 49,
   "metadata": {},
   "outputs": [
    {
     "data": {
      "text/html": [
       "<table class=\"dataframe\">\n",
       "<caption>A tibble: 4 × 2</caption>\n",
       "<thead>\n",
       "\t<tr><th scope=col>type</th><th scope=col>n</th></tr>\n",
       "\t<tr><th scope=col>&lt;fct&gt;</th><th scope=col>&lt;int&gt;</th></tr>\n",
       "</thead>\n",
       "<tbody>\n",
       "\t<tr><td>Photo </td><td>318</td></tr>\n",
       "\t<tr><td>Status</td><td>318</td></tr>\n",
       "\t<tr><td>Link  </td><td>318</td></tr>\n",
       "\t<tr><td>Video </td><td>318</td></tr>\n",
       "</tbody>\n",
       "</table>\n"
      ],
      "text/latex": [
       "A tibble: 4 × 2\n",
       "\\begin{tabular}{ll}\n",
       " type & n\\\\\n",
       " <fct> & <int>\\\\\n",
       "\\hline\n",
       "\t Photo  & 318\\\\\n",
       "\t Status & 318\\\\\n",
       "\t Link   & 318\\\\\n",
       "\t Video  & 318\\\\\n",
       "\\end{tabular}\n"
      ],
      "text/markdown": [
       "\n",
       "A tibble: 4 × 2\n",
       "\n",
       "| type &lt;fct&gt; | n &lt;int&gt; |\n",
       "|---|---|\n",
       "| Photo  | 318 |\n",
       "| Status | 318 |\n",
       "| Link   | 318 |\n",
       "| Video  | 318 |\n",
       "\n"
      ],
      "text/plain": [
       "  type   n  \n",
       "1 Photo  318\n",
       "2 Status 318\n",
       "3 Link   318\n",
       "4 Video  318"
      ]
     },
     "metadata": {},
     "output_type": "display_data"
    }
   ],
   "source": [
    "baked_fb %>% \n",
    "    group_by(type) %>% \n",
    "    summarize(n = n())"
   ]
  },
  {
   "cell_type": "markdown",
   "metadata": {},
   "source": [
    "## Tune the model:\n",
    "\n",
    "# Explain why we use 5 vfold?"
   ]
  },
  {
   "cell_type": "code",
   "execution_count": 50,
   "metadata": {},
   "outputs": [],
   "source": [
    "# Create vfolds with v\n",
    "fb_vfold <- vfold_cv(fb_train, v = 5, strata = type)"
   ]
  },
  {
   "cell_type": "code",
   "execution_count": 54,
   "metadata": {},
   "outputs": [
    {
     "ename": "ERROR",
     "evalue": "Error: Some package installs are required: 'kknn'\n",
     "output_type": "error",
     "traceback": [
      "Error: Some package installs are required: 'kknn'\nTraceback:\n",
      "1. workflow() %>% add_recipe(fb_recipe) %>% add_model(knn_spec_tune) %>% \n .     fit_resamples(resamples = fb_vfold)",
      "2. fit_resamples(., resamples = fb_vfold)",
      "3. fit_resamples.workflow(., resamples = fb_vfold)",
      "4. resample_workflow(workflow = object, resamples = resamples, metrics = metrics, \n .     control = control, rng = TRUE)",
      "5. tune_grid_workflow(workflow = workflow, resamples = resamples, \n .     grid = grid, metrics = metrics, pset = pset, control = control, \n .     rng = rng)",
      "6. check_workflow(workflow, pset = pset)",
      "7. check_installs(mod)",
      "8. stop(\"Some package installs are required: \", paste0(\"'\", deps[!is_inst], \n .     \"'\", collapse = \", \"), call. = FALSE)"
     ]
    }
   ],
   "source": [
    "fb_fit <- workflow() %>% \n",
    "        add_recipe(fb_recipe) %>% \n",
    "        add_model(knn_spec_tune) %>% \n",
    "        fit_resamples(resamples = fb_vfold)\n",
    "\n",
    "fb_fit"
   ]
  },
  {
   "cell_type": "code",
   "execution_count": null,
   "metadata": {},
   "outputs": [],
   "source": []
  }
 ],
 "metadata": {
  "kernelspec": {
   "display_name": "R",
   "language": "R",
   "name": "ir"
  },
  "language_info": {
   "codemirror_mode": "r",
   "file_extension": ".r",
   "mimetype": "text/x-r-source",
   "name": "R",
   "pygments_lexer": "r",
   "version": "4.0.0"
  }
 },
 "nbformat": 4,
 "nbformat_minor": 4
}
