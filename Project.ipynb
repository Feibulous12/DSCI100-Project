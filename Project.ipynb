{
 "cells": [
  {
   "cell_type": "markdown",
   "metadata": {},
   "source": [
    "# DSCI 100: Group Project\n",
    "\n",
    "# TODO: Insert project title\n",
    "\n",
    "\n",
    "## Classification of Facebook Posts\n",
    "\n",
    "#### Introduction:\n",
    "\n",
    "The rapid change of technology has greatly transformed the business world. Social media platforms have become the best place for businesses to advertise their brands through customer engagement. \n",
    "Our study focuses on the biggest social network worldwide, Facebook, with over 2.7 billion monthly active users ((Statista, 2021). \n",
    "\n",
    "The dataset *Facebook performance metrics* (Moro et al., 2016) contains data related to posts published throughout the year 2014 on a renowned cosmetics brand's Facebook page. Post information such as type (photo, status, link, or video), time posted (month, day of week, and hour), user engagement (comments, likes, and shares), impressions on each post (too many columns to list here), and whether the post was paid or unpaid is included in the dataset. This project proposes to use all relevant columns from this dataset to determine the type of a brand's Facebook post. We will determine which of these metrics are relivant in our cleaning and exploration of the data.\n",
    "\n",
    "TODO: (from prop feedback) Please provide some background info, so that someone unfamiliar with it will be prepared to understand the rest of your proposal.\n"
   ]
  },
  {
   "cell_type": "markdown",
   "metadata": {},
   "source": [
    "# TODO: EXPLICITELY STATE OUR RESEARCH QUESTION HERE!!!\n",
    "**from proposal feedback, Please state your proposal question clearly and in a form of a \"predictive question\"**\n",
    "Our study focuses on predicting post type given "
   ]
  },
  {
   "cell_type": "markdown",
   "metadata": {},
   "source": [
    "#### Preliminary exploratory data analysis:\n",
    "\n",
    "We begin by loading the relevant libraries."
   ]
  },
  {
   "cell_type": "code",
   "execution_count": null,
   "metadata": {},
   "outputs": [],
   "source": [
    "# Load libraries for preliminary data analysis:\n",
    "library(tidyverse)\n",
    "library(repr)\n",
    "library(readxl)\n",
    "library(tidymodels)\n",
    "library(GGally)"
   ]
  },
  {
   "cell_type": "markdown",
   "metadata": {},
   "source": [
    "The following cell loads the dataset into R; as the dataset on the web is contained in a zip folder, the .csv file was manually extracted and pushed to the working Github repository.\n",
    "\n",
    "The dataset is already in tidy format. The column headings were made more usable by removing spaces and shortening longer headings."
   ]
  },
  {
   "cell_type": "code",
   "execution_count": null,
   "metadata": {},
   "outputs": [],
   "source": [
    "# displays first and last 8 rows of the dataset\n",
    "options(repr.matrix.max.rows = 16)\n",
    "# Set the seed\n",
    "set.seed(123)\n",
    "\n",
    "# Load the data in\n",
    "fb_data_raw <- read_csv2(\"https://gist.githubusercontent.com/KolCrooks/691e5890b6747b4777d6032f019b2c0f/raw/20629a5da3d5a7683e3071798876f3e4b204fbbb/fb_data.csv\",  col_types = cols())\n",
    "\n",
    "fb_data_raw"
   ]
  },
  {
   "cell_type": "code",
   "execution_count": null,
   "metadata": {},
   "outputs": [],
   "source": [
    "# Na Rows:\n",
    "sum(is.na(fb_data_raw))"
   ]
  },
  {
   "cell_type": "markdown",
   "metadata": {},
   "source": [
    "# TODO: EXPLAIN WHY WE CONVERT COMMENT LIKE AND SHARE TO PERCENTS\n",
    "Since we are going to be working with type, category, post month, post_weekday, and post hours as a categorical statistical variables, \n",
    "we are converting them to factors using the function `as_factor`. In addition, we realized that we had 6 NAs in our data set, so we are using `na.omit` function to remove all the NAs"
   ]
  },
  {
   "cell_type": "code",
   "execution_count": null,
   "metadata": {},
   "outputs": [],
   "source": [
    "# Clean the data:\n",
    "fb_data_clean_cols <- fb_data_raw\n",
    "colnames(fb_data_clean_cols) <- c(\"page_likes\", \"type\", \"category\", \"post_month\", \"post_weekday\", \"post_hour\", \"paid\", \"reach\", \n",
    "      \"impressions\", \"engaged_users\", \"post_consumers\", \"post_consumptions\", \"impressions_by_people_that_liked_page\", \n",
    "      \"reach_by_people_that_like_page\", \"people_liked_and_engaged\", \"comments\", \"likes\", \"shares\", \"interactions\")\n",
    "fb_data_clean <- fb_data_clean_cols %>% \n",
    "        mutate(type = as_factor(type)) %>% \n",
    "        mutate(category = as_factor(category)) %>% \n",
    "        mutate(post_month = as_factor(post_month)) %>% \n",
    "        mutate(post_weekday = as_factor(post_weekday)) %>% \n",
    "        mutate(post_hour = as_factor(post_hour)) %>% \n",
    "        na.omit()\n",
    "\n",
    "fb_data_clean"
   ]
  },
  {
   "cell_type": "code",
   "execution_count": null,
   "metadata": {},
   "outputs": [],
   "source": [
    "# checking if all NAs are removed\n",
    "#Na Rows:\n",
    "sum(is.na(fb_data_clean))"
   ]
  },
  {
   "cell_type": "markdown",
   "metadata": {},
   "source": [
    "# TODO: EXPLAIN WHY THE STRATA IS \"TYPE\"\n",
    "# TODO: EXPLAIN WHY WE CHOSE 75%\n",
<<<<<<< HEAD
    "**\"Why have you decided to use 75% of the dataset as the training data?\"**\n"
=======
    "**\"Why have you decided to use 75% of the dataset as the training data?\"**\n",
    "<p> Here we are splitting our data into training and testing sets using `initial_split`. In order to get a more accurate calculation of our model performance, we choose to use a larger training data of 75% while keeping the remaining 25% for testing. As we want to classify facebook post type, we pass `type` to `strata` argument in initial splitting "
>>>>>>> adf96c8b81e1bf71ea588a5a662be2a45051e57c
   ]
  },
  {
   "cell_type": "code",
   "execution_count": null,
   "metadata": {},
<<<<<<< HEAD
   "outputs": [
    {
     "data": {
      "text/html": [
       "<table>\n",
       "<caption>A tibble: 372 × 19</caption>\n",
       "<thead>\n",
       "\t<tr><th scope=col>page_likes</th><th scope=col>type</th><th scope=col>category</th><th scope=col>post_month</th><th scope=col>post_weekday</th><th scope=col>post_hour</th><th scope=col>paid</th><th scope=col>reach</th><th scope=col>impressions</th><th scope=col>engaged_users</th><th scope=col>post_consumers</th><th scope=col>post_consumptions</th><th scope=col>impressions_by_people_that_liked_page</th><th scope=col>reach_by_people_that_like_page</th><th scope=col>people_liked_and_engaged</th><th scope=col>comments</th><th scope=col>likes</th><th scope=col>shares</th><th scope=col>interactions</th></tr>\n",
       "\t<tr><th scope=col>&lt;dbl&gt;</th><th scope=col>&lt;fct&gt;</th><th scope=col>&lt;fct&gt;</th><th scope=col>&lt;fct&gt;</th><th scope=col>&lt;fct&gt;</th><th scope=col>&lt;fct&gt;</th><th scope=col>&lt;dbl&gt;</th><th scope=col>&lt;dbl&gt;</th><th scope=col>&lt;dbl&gt;</th><th scope=col>&lt;dbl&gt;</th><th scope=col>&lt;dbl&gt;</th><th scope=col>&lt;dbl&gt;</th><th scope=col>&lt;dbl&gt;</th><th scope=col>&lt;dbl&gt;</th><th scope=col>&lt;dbl&gt;</th><th scope=col>&lt;dbl&gt;</th><th scope=col>&lt;dbl&gt;</th><th scope=col>&lt;dbl&gt;</th><th scope=col>&lt;dbl&gt;</th></tr>\n",
       "</thead>\n",
       "<tbody>\n",
       "\t<tr><td>139441</td><td>Photo </td><td>2</td><td>12</td><td>4</td><td>3 </td><td>0</td><td> 2752</td><td> 5091</td><td> 178</td><td> 109</td><td> 159</td><td> 3078</td><td> 1640</td><td> 119</td><td>4</td><td> 79</td><td>17</td><td>100</td></tr>\n",
       "\t<tr><td>139441</td><td>Status</td><td>2</td><td>12</td><td>3</td><td>10</td><td>0</td><td>10460</td><td>19057</td><td>1457</td><td>1361</td><td>1674</td><td>11710</td><td> 6112</td><td>1108</td><td>5</td><td>130</td><td>29</td><td>164</td></tr>\n",
       "\t<tr><td>139441</td><td>Photo </td><td>3</td><td>12</td><td>3</td><td>3 </td><td>0</td><td> 2413</td><td> 4373</td><td> 177</td><td> 113</td><td> 154</td><td> 2812</td><td> 1503</td><td> 132</td><td>0</td><td> 66</td><td>14</td><td> 80</td></tr>\n",
       "\t<tr><td>139441</td><td>Status</td><td>2</td><td>12</td><td>1</td><td>9 </td><td>0</td><td>10472</td><td>20849</td><td>1191</td><td>1073</td><td>1389</td><td>16034</td><td> 7852</td><td>1016</td><td>1</td><td>152</td><td>33</td><td>186</td></tr>\n",
       "\t<tr><td>139441</td><td>Photo </td><td>3</td><td>12</td><td>1</td><td>3 </td><td>1</td><td>11692</td><td>19479</td><td> 481</td><td> 265</td><td> 364</td><td>15432</td><td> 9328</td><td> 379</td><td>3</td><td>249</td><td>27</td><td>279</td></tr>\n",
       "\t<tr><td>139441</td><td>Photo </td><td>3</td><td>12</td><td>7</td><td>9 </td><td>1</td><td>13720</td><td>24137</td><td> 537</td><td> 232</td><td> 305</td><td>19728</td><td>11056</td><td> 422</td><td>0</td><td>325</td><td>14</td><td>339</td></tr>\n",
       "\t<tr><td>139441</td><td>Status</td><td>2</td><td>12</td><td>7</td><td>3 </td><td>0</td><td>11844</td><td>22538</td><td>1530</td><td>1407</td><td>1692</td><td>15220</td><td> 7912</td><td>1250</td><td>0</td><td>161</td><td>31</td><td>192</td></tr>\n",
       "\t<tr><td>139441</td><td>Photo </td><td>3</td><td>12</td><td>6</td><td>10</td><td>0</td><td> 4694</td><td> 8668</td><td> 280</td><td> 183</td><td> 250</td><td> 4309</td><td> 2324</td><td> 199</td><td>3</td><td>113</td><td>26</td><td>142</td></tr>\n",
       "\t<tr><td>⋮</td><td>⋮</td><td>⋮</td><td>⋮</td><td>⋮</td><td>⋮</td><td>⋮</td><td>⋮</td><td>⋮</td><td>⋮</td><td>⋮</td><td>⋮</td><td>⋮</td><td>⋮</td><td>⋮</td><td>⋮</td><td>⋮</td><td>⋮</td><td>⋮</td></tr>\n",
       "\t<tr><td>85979</td><td>Photo</td><td>3</td><td>1</td><td>6</td><td>11</td><td>0</td><td>5280</td><td> 8703</td><td> 951</td><td> 911</td><td>1237</td><td>5757</td><td>3300</td><td>431</td><td> 1</td><td> 79</td><td>30</td><td>110</td></tr>\n",
       "\t<tr><td>85979</td><td>Photo</td><td>3</td><td>1</td><td>6</td><td>3 </td><td>1</td><td>6184</td><td>10228</td><td> 956</td><td> 901</td><td>1140</td><td>6085</td><td>3502</td><td>437</td><td> 1</td><td>105</td><td>46</td><td>152</td></tr>\n",
       "\t<tr><td>85093</td><td>Photo</td><td>3</td><td>1</td><td>1</td><td>2 </td><td>0</td><td>8412</td><td>13960</td><td>1179</td><td>1111</td><td>1632</td><td>8632</td><td>5348</td><td>699</td><td>17</td><td>185</td><td>55</td><td>257</td></tr>\n",
       "\t<tr><td>85093</td><td>Photo</td><td>3</td><td>1</td><td>7</td><td>10</td><td>0</td><td>5400</td><td> 9218</td><td> 810</td><td> 756</td><td>1003</td><td>5654</td><td>3230</td><td>422</td><td>10</td><td>125</td><td>41</td><td>176</td></tr>\n",
       "\t<tr><td>85093</td><td>Photo</td><td>3</td><td>1</td><td>7</td><td>2 </td><td>0</td><td>4684</td><td> 7536</td><td> 733</td><td> 708</td><td> 985</td><td>4750</td><td>2876</td><td>392</td><td> 5</td><td> 53</td><td>26</td><td> 84</td></tr>\n",
       "\t<tr><td>81370</td><td>Photo</td><td>2</td><td>1</td><td>5</td><td>8 </td><td>0</td><td>3480</td><td> 6229</td><td> 537</td><td> 508</td><td> 687</td><td>3961</td><td>2104</td><td>301</td><td> 0</td><td> 53</td><td>22</td><td> 75</td></tr>\n",
       "\t<tr><td>81370</td><td>Photo</td><td>1</td><td>1</td><td>5</td><td>2 </td><td>0</td><td>3778</td><td> 7216</td><td> 625</td><td> 572</td><td> 795</td><td>4742</td><td>2388</td><td>363</td><td> 4</td><td> 93</td><td>18</td><td>115</td></tr>\n",
       "\t<tr><td>81370</td><td>Photo</td><td>3</td><td>1</td><td>4</td><td>11</td><td>0</td><td>4156</td><td> 7564</td><td> 626</td><td> 574</td><td> 832</td><td>4534</td><td>2452</td><td>370</td><td> 7</td><td> 91</td><td>38</td><td>136</td></tr>\n",
       "</tbody>\n",
       "</table>\n"
      ],
      "text/latex": [
       "A tibble: 372 × 19\n",
       "\\begin{tabular}{lllllllllllllllllll}\n",
       " page\\_likes & type & category & post\\_month & post\\_weekday & post\\_hour & paid & reach & impressions & engaged\\_users & post\\_consumers & post\\_consumptions & impressions\\_by\\_people\\_that\\_liked\\_page & reach\\_by\\_people\\_that\\_like\\_page & people\\_liked\\_and\\_engaged & comments & likes & shares & interactions\\\\\n",
       " <dbl> & <fct> & <fct> & <fct> & <fct> & <fct> & <dbl> & <dbl> & <dbl> & <dbl> & <dbl> & <dbl> & <dbl> & <dbl> & <dbl> & <dbl> & <dbl> & <dbl> & <dbl>\\\\\n",
       "\\hline\n",
       "\t 139441 & Photo  & 2 & 12 & 4 & 3  & 0 &  2752 &  5091 &  178 &  109 &  159 &  3078 &  1640 &  119 & 4 &  79 & 17 & 100\\\\\n",
       "\t 139441 & Status & 2 & 12 & 3 & 10 & 0 & 10460 & 19057 & 1457 & 1361 & 1674 & 11710 &  6112 & 1108 & 5 & 130 & 29 & 164\\\\\n",
       "\t 139441 & Photo  & 3 & 12 & 3 & 3  & 0 &  2413 &  4373 &  177 &  113 &  154 &  2812 &  1503 &  132 & 0 &  66 & 14 &  80\\\\\n",
       "\t 139441 & Status & 2 & 12 & 1 & 9  & 0 & 10472 & 20849 & 1191 & 1073 & 1389 & 16034 &  7852 & 1016 & 1 & 152 & 33 & 186\\\\\n",
       "\t 139441 & Photo  & 3 & 12 & 1 & 3  & 1 & 11692 & 19479 &  481 &  265 &  364 & 15432 &  9328 &  379 & 3 & 249 & 27 & 279\\\\\n",
       "\t 139441 & Photo  & 3 & 12 & 7 & 9  & 1 & 13720 & 24137 &  537 &  232 &  305 & 19728 & 11056 &  422 & 0 & 325 & 14 & 339\\\\\n",
       "\t 139441 & Status & 2 & 12 & 7 & 3  & 0 & 11844 & 22538 & 1530 & 1407 & 1692 & 15220 &  7912 & 1250 & 0 & 161 & 31 & 192\\\\\n",
       "\t 139441 & Photo  & 3 & 12 & 6 & 10 & 0 &  4694 &  8668 &  280 &  183 &  250 &  4309 &  2324 &  199 & 3 & 113 & 26 & 142\\\\\n",
       "\t ⋮ & ⋮ & ⋮ & ⋮ & ⋮ & ⋮ & ⋮ & ⋮ & ⋮ & ⋮ & ⋮ & ⋮ & ⋮ & ⋮ & ⋮ & ⋮ & ⋮ & ⋮ & ⋮\\\\\n",
       "\t 85979 & Photo & 3 & 1 & 6 & 11 & 0 & 5280 &  8703 &  951 &  911 & 1237 & 5757 & 3300 & 431 &  1 &  79 & 30 & 110\\\\\n",
       "\t 85979 & Photo & 3 & 1 & 6 & 3  & 1 & 6184 & 10228 &  956 &  901 & 1140 & 6085 & 3502 & 437 &  1 & 105 & 46 & 152\\\\\n",
       "\t 85093 & Photo & 3 & 1 & 1 & 2  & 0 & 8412 & 13960 & 1179 & 1111 & 1632 & 8632 & 5348 & 699 & 17 & 185 & 55 & 257\\\\\n",
       "\t 85093 & Photo & 3 & 1 & 7 & 10 & 0 & 5400 &  9218 &  810 &  756 & 1003 & 5654 & 3230 & 422 & 10 & 125 & 41 & 176\\\\\n",
       "\t 85093 & Photo & 3 & 1 & 7 & 2  & 0 & 4684 &  7536 &  733 &  708 &  985 & 4750 & 2876 & 392 &  5 &  53 & 26 &  84\\\\\n",
       "\t 81370 & Photo & 2 & 1 & 5 & 8  & 0 & 3480 &  6229 &  537 &  508 &  687 & 3961 & 2104 & 301 &  0 &  53 & 22 &  75\\\\\n",
       "\t 81370 & Photo & 1 & 1 & 5 & 2  & 0 & 3778 &  7216 &  625 &  572 &  795 & 4742 & 2388 & 363 &  4 &  93 & 18 & 115\\\\\n",
       "\t 81370 & Photo & 3 & 1 & 4 & 11 & 0 & 4156 &  7564 &  626 &  574 &  832 & 4534 & 2452 & 370 &  7 &  91 & 38 & 136\\\\\n",
       "\\end{tabular}\n"
      ],
      "text/markdown": [
       "\n",
       "A tibble: 372 × 19\n",
       "\n",
       "| page_likes &lt;dbl&gt; | type &lt;fct&gt; | category &lt;fct&gt; | post_month &lt;fct&gt; | post_weekday &lt;fct&gt; | post_hour &lt;fct&gt; | paid &lt;dbl&gt; | reach &lt;dbl&gt; | impressions &lt;dbl&gt; | engaged_users &lt;dbl&gt; | post_consumers &lt;dbl&gt; | post_consumptions &lt;dbl&gt; | impressions_by_people_that_liked_page &lt;dbl&gt; | reach_by_people_that_like_page &lt;dbl&gt; | people_liked_and_engaged &lt;dbl&gt; | comments &lt;dbl&gt; | likes &lt;dbl&gt; | shares &lt;dbl&gt; | interactions &lt;dbl&gt; |\n",
       "|---|---|---|---|---|---|---|---|---|---|---|---|---|---|---|---|---|---|---|\n",
       "| 139441 | Photo  | 2 | 12 | 4 | 3  | 0 |  2752 |  5091 |  178 |  109 |  159 |  3078 |  1640 |  119 | 4 |  79 | 17 | 100 |\n",
       "| 139441 | Status | 2 | 12 | 3 | 10 | 0 | 10460 | 19057 | 1457 | 1361 | 1674 | 11710 |  6112 | 1108 | 5 | 130 | 29 | 164 |\n",
       "| 139441 | Photo  | 3 | 12 | 3 | 3  | 0 |  2413 |  4373 |  177 |  113 |  154 |  2812 |  1503 |  132 | 0 |  66 | 14 |  80 |\n",
       "| 139441 | Status | 2 | 12 | 1 | 9  | 0 | 10472 | 20849 | 1191 | 1073 | 1389 | 16034 |  7852 | 1016 | 1 | 152 | 33 | 186 |\n",
       "| 139441 | Photo  | 3 | 12 | 1 | 3  | 1 | 11692 | 19479 |  481 |  265 |  364 | 15432 |  9328 |  379 | 3 | 249 | 27 | 279 |\n",
       "| 139441 | Photo  | 3 | 12 | 7 | 9  | 1 | 13720 | 24137 |  537 |  232 |  305 | 19728 | 11056 |  422 | 0 | 325 | 14 | 339 |\n",
       "| 139441 | Status | 2 | 12 | 7 | 3  | 0 | 11844 | 22538 | 1530 | 1407 | 1692 | 15220 |  7912 | 1250 | 0 | 161 | 31 | 192 |\n",
       "| 139441 | Photo  | 3 | 12 | 6 | 10 | 0 |  4694 |  8668 |  280 |  183 |  250 |  4309 |  2324 |  199 | 3 | 113 | 26 | 142 |\n",
       "| ⋮ | ⋮ | ⋮ | ⋮ | ⋮ | ⋮ | ⋮ | ⋮ | ⋮ | ⋮ | ⋮ | ⋮ | ⋮ | ⋮ | ⋮ | ⋮ | ⋮ | ⋮ | ⋮ |\n",
       "| 85979 | Photo | 3 | 1 | 6 | 11 | 0 | 5280 |  8703 |  951 |  911 | 1237 | 5757 | 3300 | 431 |  1 |  79 | 30 | 110 |\n",
       "| 85979 | Photo | 3 | 1 | 6 | 3  | 1 | 6184 | 10228 |  956 |  901 | 1140 | 6085 | 3502 | 437 |  1 | 105 | 46 | 152 |\n",
       "| 85093 | Photo | 3 | 1 | 1 | 2  | 0 | 8412 | 13960 | 1179 | 1111 | 1632 | 8632 | 5348 | 699 | 17 | 185 | 55 | 257 |\n",
       "| 85093 | Photo | 3 | 1 | 7 | 10 | 0 | 5400 |  9218 |  810 |  756 | 1003 | 5654 | 3230 | 422 | 10 | 125 | 41 | 176 |\n",
       "| 85093 | Photo | 3 | 1 | 7 | 2  | 0 | 4684 |  7536 |  733 |  708 |  985 | 4750 | 2876 | 392 |  5 |  53 | 26 |  84 |\n",
       "| 81370 | Photo | 2 | 1 | 5 | 8  | 0 | 3480 |  6229 |  537 |  508 |  687 | 3961 | 2104 | 301 |  0 |  53 | 22 |  75 |\n",
       "| 81370 | Photo | 1 | 1 | 5 | 2  | 0 | 3778 |  7216 |  625 |  572 |  795 | 4742 | 2388 | 363 |  4 |  93 | 18 | 115 |\n",
       "| 81370 | Photo | 3 | 1 | 4 | 11 | 0 | 4156 |  7564 |  626 |  574 |  832 | 4534 | 2452 | 370 |  7 |  91 | 38 | 136 |\n",
       "\n"
      ],
      "text/plain": [
       "    page_likes type   category post_month post_weekday post_hour paid reach\n",
       "1   139441     Photo  2        12         4            3         0     2752\n",
       "2   139441     Status 2        12         3            10        0    10460\n",
       "3   139441     Photo  3        12         3            3         0     2413\n",
       "4   139441     Status 2        12         1            9         0    10472\n",
       "5   139441     Photo  3        12         1            3         1    11692\n",
       "6   139441     Photo  3        12         7            9         1    13720\n",
       "7   139441     Status 2        12         7            3         0    11844\n",
       "8   139441     Photo  3        12         6            10        0     4694\n",
       "⋮   ⋮          ⋮      ⋮        ⋮          ⋮            ⋮         ⋮    ⋮    \n",
       "365 85979      Photo  3        1          6            11        0    5280 \n",
       "366 85979      Photo  3        1          6            3         1    6184 \n",
       "367 85093      Photo  3        1          1            2         0    8412 \n",
       "368 85093      Photo  3        1          7            10        0    5400 \n",
       "369 85093      Photo  3        1          7            2         0    4684 \n",
       "370 81370      Photo  2        1          5            8         0    3480 \n",
       "371 81370      Photo  1        1          5            2         0    3778 \n",
       "372 81370      Photo  3        1          4            11        0    4156 \n",
       "    impressions engaged_users post_consumers post_consumptions\n",
       "1    5091        178           109            159             \n",
       "2   19057       1457          1361           1674             \n",
       "3    4373        177           113            154             \n",
       "4   20849       1191          1073           1389             \n",
       "5   19479        481           265            364             \n",
       "6   24137        537           232            305             \n",
       "7   22538       1530          1407           1692             \n",
       "8    8668        280           183            250             \n",
       "⋮   ⋮           ⋮             ⋮              ⋮                \n",
       "365  8703        951           911           1237             \n",
       "366 10228        956           901           1140             \n",
       "367 13960       1179          1111           1632             \n",
       "368  9218        810           756           1003             \n",
       "369  7536        733           708            985             \n",
       "370  6229        537           508            687             \n",
       "371  7216        625           572            795             \n",
       "372  7564        626           574            832             \n",
       "    impressions_by_people_that_liked_page reach_by_people_that_like_page\n",
       "1    3078                                  1640                         \n",
       "2   11710                                  6112                         \n",
       "3    2812                                  1503                         \n",
       "4   16034                                  7852                         \n",
       "5   15432                                  9328                         \n",
       "6   19728                                 11056                         \n",
       "7   15220                                  7912                         \n",
       "8    4309                                  2324                         \n",
       "⋮   ⋮                                     ⋮                             \n",
       "365 5757                                  3300                          \n",
       "366 6085                                  3502                          \n",
       "367 8632                                  5348                          \n",
       "368 5654                                  3230                          \n",
       "369 4750                                  2876                          \n",
       "370 3961                                  2104                          \n",
       "371 4742                                  2388                          \n",
       "372 4534                                  2452                          \n",
       "    people_liked_and_engaged comments likes shares interactions\n",
       "1    119                     4         79   17     100         \n",
       "2   1108                     5        130   29     164         \n",
       "3    132                     0         66   14      80         \n",
       "4   1016                     1        152   33     186         \n",
       "5    379                     3        249   27     279         \n",
       "6    422                     0        325   14     339         \n",
       "7   1250                     0        161   31     192         \n",
       "8    199                     3        113   26     142         \n",
       "⋮   ⋮                        ⋮        ⋮     ⋮      ⋮           \n",
       "365 431                       1        79   30     110         \n",
       "366 437                       1       105   46     152         \n",
       "367 699                      17       185   55     257         \n",
       "368 422                      10       125   41     176         \n",
       "369 392                       5        53   26      84         \n",
       "370 301                       0        53   22      75         \n",
       "371 363                       4        93   18     115         \n",
       "372 370                       7        91   38     136         "
      ]
     },
     "metadata": {},
     "output_type": "display_data"
    }
   ],
=======
   "outputs": [],
>>>>>>> adf96c8b81e1bf71ea588a5a662be2a45051e57c
   "source": [
    "# Split the data:\n",
    "fb_split <- initial_split(fb_data_clean, prop = 0.75, strata = type)\n",
    "fb_train <- training(fb_split)\n",
    "fb_test <- testing(fb_split)\n",
    "\n",
    "fb_train"
   ]
  },
  {
   "cell_type": "markdown",
   "metadata": {},
   "source": [
    "## TODO: include Plot title!\n",
    "**The plot does not include a title. For the report, please make sure you are labelling your tables and plots.**"
   ]
  },
  {
   "cell_type": "markdown",
   "metadata": {},
   "source": [
    "## Selecting our predictors\n",
    "\n",
    "To figure out which predictors we want to use, we will use `ggpairs` to determine how well each column can predict post type. To do this we will look at how different each post type's box plot is when compared with the predictor.  Before looking at the ggpairs plot, we want to take out the columns that we know wouldn't work. This is because we don't need ggpairs to know that they wouldn't work, and it would help to reduce clutter in the plot while allowing us to better look at the remaing predictors.\n",
    "\n",
    "\n",
    "The main predictors that we know we can't use are coulmns with factors. This includes the time based columns `post_month`, `post_weekday`, and `post_hour`, and also `category`."
   ]
  },
  {
   "cell_type": "code",
   "execution_count": null,
   "metadata": {},
   "outputs": [],
   "source": [
    "# Columns before selection\n",
    "colnames(fb_data_clean)"
   ]
  },
  {
   "cell_type": "code",
   "execution_count": null,
   "metadata": {},
<<<<<<< HEAD
   "outputs": [
    {
     "data": {
      "text/html": [
       "<table>\n",
       "<caption>A tibble: 372 × 15</caption>\n",
       "<thead>\n",
       "\t<tr><th scope=col>type</th><th scope=col>page_likes</th><th scope=col>paid</th><th scope=col>reach</th><th scope=col>impressions</th><th scope=col>engaged_users</th><th scope=col>post_consumers</th><th scope=col>post_consumptions</th><th scope=col>impressions_by_people_that_liked_page</th><th scope=col>reach_by_people_that_like_page</th><th scope=col>people_liked_and_engaged</th><th scope=col>comments</th><th scope=col>likes</th><th scope=col>shares</th><th scope=col>interactions</th></tr>\n",
       "\t<tr><th scope=col>&lt;fct&gt;</th><th scope=col>&lt;dbl&gt;</th><th scope=col>&lt;dbl&gt;</th><th scope=col>&lt;dbl&gt;</th><th scope=col>&lt;dbl&gt;</th><th scope=col>&lt;dbl&gt;</th><th scope=col>&lt;dbl&gt;</th><th scope=col>&lt;dbl&gt;</th><th scope=col>&lt;dbl&gt;</th><th scope=col>&lt;dbl&gt;</th><th scope=col>&lt;dbl&gt;</th><th scope=col>&lt;dbl&gt;</th><th scope=col>&lt;dbl&gt;</th><th scope=col>&lt;dbl&gt;</th><th scope=col>&lt;dbl&gt;</th></tr>\n",
       "</thead>\n",
       "<tbody>\n",
       "\t<tr><td>Photo </td><td>139441</td><td>0</td><td> 2752</td><td> 5091</td><td> 178</td><td> 109</td><td> 159</td><td> 3078</td><td> 1640</td><td> 119</td><td>4</td><td> 79</td><td>17</td><td>100</td></tr>\n",
       "\t<tr><td>Status</td><td>139441</td><td>0</td><td>10460</td><td>19057</td><td>1457</td><td>1361</td><td>1674</td><td>11710</td><td> 6112</td><td>1108</td><td>5</td><td>130</td><td>29</td><td>164</td></tr>\n",
       "\t<tr><td>Photo </td><td>139441</td><td>0</td><td> 2413</td><td> 4373</td><td> 177</td><td> 113</td><td> 154</td><td> 2812</td><td> 1503</td><td> 132</td><td>0</td><td> 66</td><td>14</td><td> 80</td></tr>\n",
       "\t<tr><td>Status</td><td>139441</td><td>0</td><td>10472</td><td>20849</td><td>1191</td><td>1073</td><td>1389</td><td>16034</td><td> 7852</td><td>1016</td><td>1</td><td>152</td><td>33</td><td>186</td></tr>\n",
       "\t<tr><td>Photo </td><td>139441</td><td>1</td><td>11692</td><td>19479</td><td> 481</td><td> 265</td><td> 364</td><td>15432</td><td> 9328</td><td> 379</td><td>3</td><td>249</td><td>27</td><td>279</td></tr>\n",
       "\t<tr><td>Photo </td><td>139441</td><td>1</td><td>13720</td><td>24137</td><td> 537</td><td> 232</td><td> 305</td><td>19728</td><td>11056</td><td> 422</td><td>0</td><td>325</td><td>14</td><td>339</td></tr>\n",
       "\t<tr><td>Status</td><td>139441</td><td>0</td><td>11844</td><td>22538</td><td>1530</td><td>1407</td><td>1692</td><td>15220</td><td> 7912</td><td>1250</td><td>0</td><td>161</td><td>31</td><td>192</td></tr>\n",
       "\t<tr><td>Photo </td><td>139441</td><td>0</td><td> 4694</td><td> 8668</td><td> 280</td><td> 183</td><td> 250</td><td> 4309</td><td> 2324</td><td> 199</td><td>3</td><td>113</td><td>26</td><td>142</td></tr>\n",
       "\t<tr><td>⋮</td><td>⋮</td><td>⋮</td><td>⋮</td><td>⋮</td><td>⋮</td><td>⋮</td><td>⋮</td><td>⋮</td><td>⋮</td><td>⋮</td><td>⋮</td><td>⋮</td><td>⋮</td><td>⋮</td></tr>\n",
       "\t<tr><td>Photo</td><td>85979</td><td>0</td><td>5280</td><td> 8703</td><td> 951</td><td> 911</td><td>1237</td><td>5757</td><td>3300</td><td>431</td><td> 1</td><td> 79</td><td>30</td><td>110</td></tr>\n",
       "\t<tr><td>Photo</td><td>85979</td><td>1</td><td>6184</td><td>10228</td><td> 956</td><td> 901</td><td>1140</td><td>6085</td><td>3502</td><td>437</td><td> 1</td><td>105</td><td>46</td><td>152</td></tr>\n",
       "\t<tr><td>Photo</td><td>85093</td><td>0</td><td>8412</td><td>13960</td><td>1179</td><td>1111</td><td>1632</td><td>8632</td><td>5348</td><td>699</td><td>17</td><td>185</td><td>55</td><td>257</td></tr>\n",
       "\t<tr><td>Photo</td><td>85093</td><td>0</td><td>5400</td><td> 9218</td><td> 810</td><td> 756</td><td>1003</td><td>5654</td><td>3230</td><td>422</td><td>10</td><td>125</td><td>41</td><td>176</td></tr>\n",
       "\t<tr><td>Photo</td><td>85093</td><td>0</td><td>4684</td><td> 7536</td><td> 733</td><td> 708</td><td> 985</td><td>4750</td><td>2876</td><td>392</td><td> 5</td><td> 53</td><td>26</td><td> 84</td></tr>\n",
       "\t<tr><td>Photo</td><td>81370</td><td>0</td><td>3480</td><td> 6229</td><td> 537</td><td> 508</td><td> 687</td><td>3961</td><td>2104</td><td>301</td><td> 0</td><td> 53</td><td>22</td><td> 75</td></tr>\n",
       "\t<tr><td>Photo</td><td>81370</td><td>0</td><td>3778</td><td> 7216</td><td> 625</td><td> 572</td><td> 795</td><td>4742</td><td>2388</td><td>363</td><td> 4</td><td> 93</td><td>18</td><td>115</td></tr>\n",
       "\t<tr><td>Photo</td><td>81370</td><td>0</td><td>4156</td><td> 7564</td><td> 626</td><td> 574</td><td> 832</td><td>4534</td><td>2452</td><td>370</td><td> 7</td><td> 91</td><td>38</td><td>136</td></tr>\n",
       "</tbody>\n",
       "</table>\n"
      ],
      "text/latex": [
       "A tibble: 372 × 15\n",
       "\\begin{tabular}{lllllllllllllll}\n",
       " type & page\\_likes & paid & reach & impressions & engaged\\_users & post\\_consumers & post\\_consumptions & impressions\\_by\\_people\\_that\\_liked\\_page & reach\\_by\\_people\\_that\\_like\\_page & people\\_liked\\_and\\_engaged & comments & likes & shares & interactions\\\\\n",
       " <fct> & <dbl> & <dbl> & <dbl> & <dbl> & <dbl> & <dbl> & <dbl> & <dbl> & <dbl> & <dbl> & <dbl> & <dbl> & <dbl> & <dbl>\\\\\n",
       "\\hline\n",
       "\t Photo  & 139441 & 0 &  2752 &  5091 &  178 &  109 &  159 &  3078 &  1640 &  119 & 4 &  79 & 17 & 100\\\\\n",
       "\t Status & 139441 & 0 & 10460 & 19057 & 1457 & 1361 & 1674 & 11710 &  6112 & 1108 & 5 & 130 & 29 & 164\\\\\n",
       "\t Photo  & 139441 & 0 &  2413 &  4373 &  177 &  113 &  154 &  2812 &  1503 &  132 & 0 &  66 & 14 &  80\\\\\n",
       "\t Status & 139441 & 0 & 10472 & 20849 & 1191 & 1073 & 1389 & 16034 &  7852 & 1016 & 1 & 152 & 33 & 186\\\\\n",
       "\t Photo  & 139441 & 1 & 11692 & 19479 &  481 &  265 &  364 & 15432 &  9328 &  379 & 3 & 249 & 27 & 279\\\\\n",
       "\t Photo  & 139441 & 1 & 13720 & 24137 &  537 &  232 &  305 & 19728 & 11056 &  422 & 0 & 325 & 14 & 339\\\\\n",
       "\t Status & 139441 & 0 & 11844 & 22538 & 1530 & 1407 & 1692 & 15220 &  7912 & 1250 & 0 & 161 & 31 & 192\\\\\n",
       "\t Photo  & 139441 & 0 &  4694 &  8668 &  280 &  183 &  250 &  4309 &  2324 &  199 & 3 & 113 & 26 & 142\\\\\n",
       "\t ⋮ & ⋮ & ⋮ & ⋮ & ⋮ & ⋮ & ⋮ & ⋮ & ⋮ & ⋮ & ⋮ & ⋮ & ⋮ & ⋮ & ⋮\\\\\n",
       "\t Photo & 85979 & 0 & 5280 &  8703 &  951 &  911 & 1237 & 5757 & 3300 & 431 &  1 &  79 & 30 & 110\\\\\n",
       "\t Photo & 85979 & 1 & 6184 & 10228 &  956 &  901 & 1140 & 6085 & 3502 & 437 &  1 & 105 & 46 & 152\\\\\n",
       "\t Photo & 85093 & 0 & 8412 & 13960 & 1179 & 1111 & 1632 & 8632 & 5348 & 699 & 17 & 185 & 55 & 257\\\\\n",
       "\t Photo & 85093 & 0 & 5400 &  9218 &  810 &  756 & 1003 & 5654 & 3230 & 422 & 10 & 125 & 41 & 176\\\\\n",
       "\t Photo & 85093 & 0 & 4684 &  7536 &  733 &  708 &  985 & 4750 & 2876 & 392 &  5 &  53 & 26 &  84\\\\\n",
       "\t Photo & 81370 & 0 & 3480 &  6229 &  537 &  508 &  687 & 3961 & 2104 & 301 &  0 &  53 & 22 &  75\\\\\n",
       "\t Photo & 81370 & 0 & 3778 &  7216 &  625 &  572 &  795 & 4742 & 2388 & 363 &  4 &  93 & 18 & 115\\\\\n",
       "\t Photo & 81370 & 0 & 4156 &  7564 &  626 &  574 &  832 & 4534 & 2452 & 370 &  7 &  91 & 38 & 136\\\\\n",
       "\\end{tabular}\n"
      ],
      "text/markdown": [
       "\n",
       "A tibble: 372 × 15\n",
       "\n",
       "| type &lt;fct&gt; | page_likes &lt;dbl&gt; | paid &lt;dbl&gt; | reach &lt;dbl&gt; | impressions &lt;dbl&gt; | engaged_users &lt;dbl&gt; | post_consumers &lt;dbl&gt; | post_consumptions &lt;dbl&gt; | impressions_by_people_that_liked_page &lt;dbl&gt; | reach_by_people_that_like_page &lt;dbl&gt; | people_liked_and_engaged &lt;dbl&gt; | comments &lt;dbl&gt; | likes &lt;dbl&gt; | shares &lt;dbl&gt; | interactions &lt;dbl&gt; |\n",
       "|---|---|---|---|---|---|---|---|---|---|---|---|---|---|---|\n",
       "| Photo  | 139441 | 0 |  2752 |  5091 |  178 |  109 |  159 |  3078 |  1640 |  119 | 4 |  79 | 17 | 100 |\n",
       "| Status | 139441 | 0 | 10460 | 19057 | 1457 | 1361 | 1674 | 11710 |  6112 | 1108 | 5 | 130 | 29 | 164 |\n",
       "| Photo  | 139441 | 0 |  2413 |  4373 |  177 |  113 |  154 |  2812 |  1503 |  132 | 0 |  66 | 14 |  80 |\n",
       "| Status | 139441 | 0 | 10472 | 20849 | 1191 | 1073 | 1389 | 16034 |  7852 | 1016 | 1 | 152 | 33 | 186 |\n",
       "| Photo  | 139441 | 1 | 11692 | 19479 |  481 |  265 |  364 | 15432 |  9328 |  379 | 3 | 249 | 27 | 279 |\n",
       "| Photo  | 139441 | 1 | 13720 | 24137 |  537 |  232 |  305 | 19728 | 11056 |  422 | 0 | 325 | 14 | 339 |\n",
       "| Status | 139441 | 0 | 11844 | 22538 | 1530 | 1407 | 1692 | 15220 |  7912 | 1250 | 0 | 161 | 31 | 192 |\n",
       "| Photo  | 139441 | 0 |  4694 |  8668 |  280 |  183 |  250 |  4309 |  2324 |  199 | 3 | 113 | 26 | 142 |\n",
       "| ⋮ | ⋮ | ⋮ | ⋮ | ⋮ | ⋮ | ⋮ | ⋮ | ⋮ | ⋮ | ⋮ | ⋮ | ⋮ | ⋮ | ⋮ |\n",
       "| Photo | 85979 | 0 | 5280 |  8703 |  951 |  911 | 1237 | 5757 | 3300 | 431 |  1 |  79 | 30 | 110 |\n",
       "| Photo | 85979 | 1 | 6184 | 10228 |  956 |  901 | 1140 | 6085 | 3502 | 437 |  1 | 105 | 46 | 152 |\n",
       "| Photo | 85093 | 0 | 8412 | 13960 | 1179 | 1111 | 1632 | 8632 | 5348 | 699 | 17 | 185 | 55 | 257 |\n",
       "| Photo | 85093 | 0 | 5400 |  9218 |  810 |  756 | 1003 | 5654 | 3230 | 422 | 10 | 125 | 41 | 176 |\n",
       "| Photo | 85093 | 0 | 4684 |  7536 |  733 |  708 |  985 | 4750 | 2876 | 392 |  5 |  53 | 26 |  84 |\n",
       "| Photo | 81370 | 0 | 3480 |  6229 |  537 |  508 |  687 | 3961 | 2104 | 301 |  0 |  53 | 22 |  75 |\n",
       "| Photo | 81370 | 0 | 3778 |  7216 |  625 |  572 |  795 | 4742 | 2388 | 363 |  4 |  93 | 18 | 115 |\n",
       "| Photo | 81370 | 0 | 4156 |  7564 |  626 |  574 |  832 | 4534 | 2452 | 370 |  7 |  91 | 38 | 136 |\n",
       "\n"
      ],
      "text/plain": [
       "    type   page_likes paid reach impressions engaged_users post_consumers\n",
       "1   Photo  139441     0     2752  5091        178           109          \n",
       "2   Status 139441     0    10460 19057       1457          1361          \n",
       "3   Photo  139441     0     2413  4373        177           113          \n",
       "4   Status 139441     0    10472 20849       1191          1073          \n",
       "5   Photo  139441     1    11692 19479        481           265          \n",
       "6   Photo  139441     1    13720 24137        537           232          \n",
       "7   Status 139441     0    11844 22538       1530          1407          \n",
       "8   Photo  139441     0     4694  8668        280           183          \n",
       "⋮   ⋮      ⋮          ⋮    ⋮     ⋮           ⋮             ⋮             \n",
       "365 Photo  85979      0    5280   8703        951           911          \n",
       "366 Photo  85979      1    6184  10228        956           901          \n",
       "367 Photo  85093      0    8412  13960       1179          1111          \n",
       "368 Photo  85093      0    5400   9218        810           756          \n",
       "369 Photo  85093      0    4684   7536        733           708          \n",
       "370 Photo  81370      0    3480   6229        537           508          \n",
       "371 Photo  81370      0    3778   7216        625           572          \n",
       "372 Photo  81370      0    4156   7564        626           574          \n",
       "    post_consumptions impressions_by_people_that_liked_page\n",
       "1    159               3078                                \n",
       "2   1674              11710                                \n",
       "3    154               2812                                \n",
       "4   1389              16034                                \n",
       "5    364              15432                                \n",
       "6    305              19728                                \n",
       "7   1692              15220                                \n",
       "8    250               4309                                \n",
       "⋮   ⋮                 ⋮                                    \n",
       "365 1237              5757                                 \n",
       "366 1140              6085                                 \n",
       "367 1632              8632                                 \n",
       "368 1003              5654                                 \n",
       "369  985              4750                                 \n",
       "370  687              3961                                 \n",
       "371  795              4742                                 \n",
       "372  832              4534                                 \n",
       "    reach_by_people_that_like_page people_liked_and_engaged comments likes\n",
       "1    1640                           119                     4         79  \n",
       "2    6112                          1108                     5        130  \n",
       "3    1503                           132                     0         66  \n",
       "4    7852                          1016                     1        152  \n",
       "5    9328                           379                     3        249  \n",
       "6   11056                           422                     0        325  \n",
       "7    7912                          1250                     0        161  \n",
       "8    2324                           199                     3        113  \n",
       "⋮   ⋮                              ⋮                        ⋮        ⋮    \n",
       "365 3300                           431                       1        79  \n",
       "366 3502                           437                       1       105  \n",
       "367 5348                           699                      17       185  \n",
       "368 3230                           422                      10       125  \n",
       "369 2876                           392                       5        53  \n",
       "370 2104                           301                       0        53  \n",
       "371 2388                           363                       4        93  \n",
       "372 2452                           370                       7        91  \n",
       "    shares interactions\n",
       "1   17     100         \n",
       "2   29     164         \n",
       "3   14      80         \n",
       "4   33     186         \n",
       "5   27     279         \n",
       "6   14     339         \n",
       "7   31     192         \n",
       "8   26     142         \n",
       "⋮   ⋮      ⋮           \n",
       "365 30     110         \n",
       "366 46     152         \n",
       "367 55     257         \n",
       "368 41     176         \n",
       "369 26      84         \n",
       "370 22      75         \n",
       "371 18     115         \n",
       "372 38     136         "
      ]
     },
     "metadata": {},
     "output_type": "display_data"
    }
   ],
=======
   "outputs": [],
>>>>>>> adf96c8b81e1bf71ea588a5a662be2a45051e57c
   "source": [
    "fb_data_selected1 <- fb_train %>% \n",
    "            select(-post_month, -post_weekday, -post_hour, -category) %>%\n",
    "            select(type, page_likes, paid:interactions) # reorder the df so that type is first, so that we can display only that row\n",
    "fb_data_selected1\n",
    "\n",
    "#         mutate(comment_percent = comments / interactions) %>% \n",
    "#         mutate(like_percent = likes / interactions) %>% \n",
    "#         mutate(share_percent = shares / interactions) %>% "
   ]
  },
  {
   "cell_type": "code",
   "execution_count": null,
   "metadata": {
    "tags": []
   },
<<<<<<< HEAD
   "outputs": [
    {
     "data": {
      "text/plain": [
       "List of 1\n",
       " $ text:List of 11\n",
       "  ..$ family       : NULL\n",
       "  ..$ face         : NULL\n",
       "  ..$ colour       : NULL\n",
       "  ..$ size         : num 14\n",
       "  ..$ hjust        : NULL\n",
       "  ..$ vjust        : NULL\n",
       "  ..$ angle        : NULL\n",
       "  ..$ lineheight   : NULL\n",
       "  ..$ margin       : NULL\n",
       "  ..$ debug        : NULL\n",
       "  ..$ inherit.blank: logi FALSE\n",
       "  ..- attr(*, \"class\")= chr [1:2] \"element_text\" \"element\"\n",
       " - attr(*, \"class\")= chr [1:2] \"theme\" \"gg\"\n",
       " - attr(*, \"complete\")= logi FALSE\n",
       " - attr(*, \"validate\")= logi TRUE"
      ]
     },
     "metadata": {},
     "output_type": "display_data"
    },
    {
     "data": {
      "image/png": "iVBORw0KGgoAAAANSUhEUgAADhAAAAJYCAMAAAAOz719AAAC+lBMVEUAAAABAQECAgIDAwME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\nAAAAAElFTkSuQmCC",
      "text/plain": [
       "plot without title"
      ]
     },
     "metadata": {
      "image/png": {
       "height": 300,
       "width": 1800
      }
     },
     "output_type": "display_data"
    }
   ],
=======
   "outputs": [],
>>>>>>> adf96c8b81e1bf71ea588a5a662be2a45051e57c
   "source": [
    "options(repr.plot.height = 5, repr.plot.width = 30)\n",
    "fb_select_plot <- fb_data_selected1 %>% \n",
    "    ggpairs() +\n",
    "    ggtitle(\"Distribution of different factors\")\n",
    "    theme(text = element_text(size=14))\n",
    "\n",
    "# Select just the top row because it is the only thing that we are trt\n",
    "fb_select_plot$nrow <- 1\n",
    "fb_select_plot$yAxisLabels <- fb_select_plot$yAxisLabels[1]\n",
    "fb_select_plot"
   ]
  },
  {
   "cell_type": "markdown",
   "metadata": {
    "tags": []
   },
   "source": [
    "Looking at this plot, it might be better to say which predictors wouldn't be good classifiers for our prediction:\n",
    "- `impressions` will not a great classifier because the difference in most columns look the same, meaning there is less variation in the data. While the video boxplot does look different from the rest, the outliers from other ones also occupy similar space.\n",
    "- `impressions_by_people_that_liked_page` looks very bad with each box plot looking like just a line.\n",
    "- `comments`, `likes`, `shares`, and `interactions` look like they have similar problems as `impressions`.\n",
    "\n",
    "We think that some of these might actually be promissing but the scale is so small that it is hard to see any differences. Something we can do is scale a predictor based on another one.\n",
    "\n",
    "With `comments`, `likes`, `shares`, and `interactions`, all of these are related in that `interactions` is the sum of the `comments`, `likes`, and `shares` on each post. We can turn these into ratios by turing `comments`, `likes`, and `shares`, into percentages of the total interactions. These are better than the raw values because the raw values are a measure of the popularity of the page, and not characteristics of the post type. This will normalize the data, allowing for the model to be effective in classifying posts for any page size. \n",
    "\n",
    "# Talk about why the columns we picked are good\n",
    "\n",
    "# MAYBE LOOK INTO `impressions` AND `impressions_by_people_that_liked_page`"
   ]
  },
  {
   "cell_type": "code",
   "execution_count": null,
   "metadata": {},
<<<<<<< HEAD
   "outputs": [
    {
     "data": {
      "text/html": [
       "<table>\n",
       "<caption>A tibble: 372 × 12</caption>\n",
       "<thead>\n",
       "\t<tr><th scope=col>type</th><th scope=col>page_likes</th><th scope=col>paid</th><th scope=col>reach</th><th scope=col>engaged_users</th><th scope=col>post_consumers</th><th scope=col>post_consumptions</th><th scope=col>reach_by_people_that_like_page</th><th scope=col>people_liked_and_engaged</th><th scope=col>comment_percent</th><th scope=col>like_percent</th><th scope=col>share_percent</th></tr>\n",
       "\t<tr><th scope=col>&lt;fct&gt;</th><th scope=col>&lt;dbl&gt;</th><th scope=col>&lt;dbl&gt;</th><th scope=col>&lt;dbl&gt;</th><th scope=col>&lt;dbl&gt;</th><th scope=col>&lt;dbl&gt;</th><th scope=col>&lt;dbl&gt;</th><th scope=col>&lt;dbl&gt;</th><th scope=col>&lt;dbl&gt;</th><th scope=col>&lt;dbl&gt;</th><th scope=col>&lt;dbl&gt;</th><th scope=col>&lt;dbl&gt;</th></tr>\n",
       "</thead>\n",
       "<tbody>\n",
       "\t<tr><td>Photo </td><td>139441</td><td>0</td><td> 2752</td><td> 178</td><td> 109</td><td> 159</td><td> 1640</td><td> 119</td><td>0.040000000</td><td>0.7900000</td><td>0.17000000</td></tr>\n",
       "\t<tr><td>Status</td><td>139441</td><td>0</td><td>10460</td><td>1457</td><td>1361</td><td>1674</td><td> 6112</td><td>1108</td><td>0.030487805</td><td>0.7926829</td><td>0.17682927</td></tr>\n",
       "\t<tr><td>Photo </td><td>139441</td><td>0</td><td> 2413</td><td> 177</td><td> 113</td><td> 154</td><td> 1503</td><td> 132</td><td>0.000000000</td><td>0.8250000</td><td>0.17500000</td></tr>\n",
       "\t<tr><td>Status</td><td>139441</td><td>0</td><td>10472</td><td>1191</td><td>1073</td><td>1389</td><td> 7852</td><td>1016</td><td>0.005376344</td><td>0.8172043</td><td>0.17741935</td></tr>\n",
       "\t<tr><td>Photo </td><td>139441</td><td>1</td><td>11692</td><td> 481</td><td> 265</td><td> 364</td><td> 9328</td><td> 379</td><td>0.010752688</td><td>0.8924731</td><td>0.09677419</td></tr>\n",
       "\t<tr><td>Photo </td><td>139441</td><td>1</td><td>13720</td><td> 537</td><td> 232</td><td> 305</td><td>11056</td><td> 422</td><td>0.000000000</td><td>0.9587021</td><td>0.04129794</td></tr>\n",
       "\t<tr><td>Status</td><td>139441</td><td>0</td><td>11844</td><td>1530</td><td>1407</td><td>1692</td><td> 7912</td><td>1250</td><td>0.000000000</td><td>0.8385417</td><td>0.16145833</td></tr>\n",
       "\t<tr><td>Photo </td><td>139441</td><td>0</td><td> 4694</td><td> 280</td><td> 183</td><td> 250</td><td> 2324</td><td> 199</td><td>0.021126761</td><td>0.7957746</td><td>0.18309859</td></tr>\n",
       "\t<tr><td>⋮</td><td>⋮</td><td>⋮</td><td>⋮</td><td>⋮</td><td>⋮</td><td>⋮</td><td>⋮</td><td>⋮</td><td>⋮</td><td>⋮</td><td>⋮</td></tr>\n",
       "\t<tr><td>Photo</td><td>85979</td><td>0</td><td>5280</td><td> 951</td><td> 911</td><td>1237</td><td>3300</td><td>431</td><td>0.009090909</td><td>0.7181818</td><td>0.2727273</td></tr>\n",
       "\t<tr><td>Photo</td><td>85979</td><td>1</td><td>6184</td><td> 956</td><td> 901</td><td>1140</td><td>3502</td><td>437</td><td>0.006578947</td><td>0.6907895</td><td>0.3026316</td></tr>\n",
       "\t<tr><td>Photo</td><td>85093</td><td>0</td><td>8412</td><td>1179</td><td>1111</td><td>1632</td><td>5348</td><td>699</td><td>0.066147860</td><td>0.7198444</td><td>0.2140078</td></tr>\n",
       "\t<tr><td>Photo</td><td>85093</td><td>0</td><td>5400</td><td> 810</td><td> 756</td><td>1003</td><td>3230</td><td>422</td><td>0.056818182</td><td>0.7102273</td><td>0.2329545</td></tr>\n",
       "\t<tr><td>Photo</td><td>85093</td><td>0</td><td>4684</td><td> 733</td><td> 708</td><td> 985</td><td>2876</td><td>392</td><td>0.059523810</td><td>0.6309524</td><td>0.3095238</td></tr>\n",
       "\t<tr><td>Photo</td><td>81370</td><td>0</td><td>3480</td><td> 537</td><td> 508</td><td> 687</td><td>2104</td><td>301</td><td>0.000000000</td><td>0.7066667</td><td>0.2933333</td></tr>\n",
       "\t<tr><td>Photo</td><td>81370</td><td>0</td><td>3778</td><td> 625</td><td> 572</td><td> 795</td><td>2388</td><td>363</td><td>0.034782609</td><td>0.8086957</td><td>0.1565217</td></tr>\n",
       "\t<tr><td>Photo</td><td>81370</td><td>0</td><td>4156</td><td> 626</td><td> 574</td><td> 832</td><td>2452</td><td>370</td><td>0.051470588</td><td>0.6691176</td><td>0.2794118</td></tr>\n",
       "</tbody>\n",
       "</table>\n"
      ],
      "text/latex": [
       "A tibble: 372 × 12\n",
       "\\begin{tabular}{llllllllllll}\n",
       " type & page\\_likes & paid & reach & engaged\\_users & post\\_consumers & post\\_consumptions & reach\\_by\\_people\\_that\\_like\\_page & people\\_liked\\_and\\_engaged & comment\\_percent & like\\_percent & share\\_percent\\\\\n",
       " <fct> & <dbl> & <dbl> & <dbl> & <dbl> & <dbl> & <dbl> & <dbl> & <dbl> & <dbl> & <dbl> & <dbl>\\\\\n",
       "\\hline\n",
       "\t Photo  & 139441 & 0 &  2752 &  178 &  109 &  159 &  1640 &  119 & 0.040000000 & 0.7900000 & 0.17000000\\\\\n",
       "\t Status & 139441 & 0 & 10460 & 1457 & 1361 & 1674 &  6112 & 1108 & 0.030487805 & 0.7926829 & 0.17682927\\\\\n",
       "\t Photo  & 139441 & 0 &  2413 &  177 &  113 &  154 &  1503 &  132 & 0.000000000 & 0.8250000 & 0.17500000\\\\\n",
       "\t Status & 139441 & 0 & 10472 & 1191 & 1073 & 1389 &  7852 & 1016 & 0.005376344 & 0.8172043 & 0.17741935\\\\\n",
       "\t Photo  & 139441 & 1 & 11692 &  481 &  265 &  364 &  9328 &  379 & 0.010752688 & 0.8924731 & 0.09677419\\\\\n",
       "\t Photo  & 139441 & 1 & 13720 &  537 &  232 &  305 & 11056 &  422 & 0.000000000 & 0.9587021 & 0.04129794\\\\\n",
       "\t Status & 139441 & 0 & 11844 & 1530 & 1407 & 1692 &  7912 & 1250 & 0.000000000 & 0.8385417 & 0.16145833\\\\\n",
       "\t Photo  & 139441 & 0 &  4694 &  280 &  183 &  250 &  2324 &  199 & 0.021126761 & 0.7957746 & 0.18309859\\\\\n",
       "\t ⋮ & ⋮ & ⋮ & ⋮ & ⋮ & ⋮ & ⋮ & ⋮ & ⋮ & ⋮ & ⋮ & ⋮\\\\\n",
       "\t Photo & 85979 & 0 & 5280 &  951 &  911 & 1237 & 3300 & 431 & 0.009090909 & 0.7181818 & 0.2727273\\\\\n",
       "\t Photo & 85979 & 1 & 6184 &  956 &  901 & 1140 & 3502 & 437 & 0.006578947 & 0.6907895 & 0.3026316\\\\\n",
       "\t Photo & 85093 & 0 & 8412 & 1179 & 1111 & 1632 & 5348 & 699 & 0.066147860 & 0.7198444 & 0.2140078\\\\\n",
       "\t Photo & 85093 & 0 & 5400 &  810 &  756 & 1003 & 3230 & 422 & 0.056818182 & 0.7102273 & 0.2329545\\\\\n",
       "\t Photo & 85093 & 0 & 4684 &  733 &  708 &  985 & 2876 & 392 & 0.059523810 & 0.6309524 & 0.3095238\\\\\n",
       "\t Photo & 81370 & 0 & 3480 &  537 &  508 &  687 & 2104 & 301 & 0.000000000 & 0.7066667 & 0.2933333\\\\\n",
       "\t Photo & 81370 & 0 & 3778 &  625 &  572 &  795 & 2388 & 363 & 0.034782609 & 0.8086957 & 0.1565217\\\\\n",
       "\t Photo & 81370 & 0 & 4156 &  626 &  574 &  832 & 2452 & 370 & 0.051470588 & 0.6691176 & 0.2794118\\\\\n",
       "\\end{tabular}\n"
      ],
      "text/markdown": [
       "\n",
       "A tibble: 372 × 12\n",
       "\n",
       "| type &lt;fct&gt; | page_likes &lt;dbl&gt; | paid &lt;dbl&gt; | reach &lt;dbl&gt; | engaged_users &lt;dbl&gt; | post_consumers &lt;dbl&gt; | post_consumptions &lt;dbl&gt; | reach_by_people_that_like_page &lt;dbl&gt; | people_liked_and_engaged &lt;dbl&gt; | comment_percent &lt;dbl&gt; | like_percent &lt;dbl&gt; | share_percent &lt;dbl&gt; |\n",
       "|---|---|---|---|---|---|---|---|---|---|---|---|\n",
       "| Photo  | 139441 | 0 |  2752 |  178 |  109 |  159 |  1640 |  119 | 0.040000000 | 0.7900000 | 0.17000000 |\n",
       "| Status | 139441 | 0 | 10460 | 1457 | 1361 | 1674 |  6112 | 1108 | 0.030487805 | 0.7926829 | 0.17682927 |\n",
       "| Photo  | 139441 | 0 |  2413 |  177 |  113 |  154 |  1503 |  132 | 0.000000000 | 0.8250000 | 0.17500000 |\n",
       "| Status | 139441 | 0 | 10472 | 1191 | 1073 | 1389 |  7852 | 1016 | 0.005376344 | 0.8172043 | 0.17741935 |\n",
       "| Photo  | 139441 | 1 | 11692 |  481 |  265 |  364 |  9328 |  379 | 0.010752688 | 0.8924731 | 0.09677419 |\n",
       "| Photo  | 139441 | 1 | 13720 |  537 |  232 |  305 | 11056 |  422 | 0.000000000 | 0.9587021 | 0.04129794 |\n",
       "| Status | 139441 | 0 | 11844 | 1530 | 1407 | 1692 |  7912 | 1250 | 0.000000000 | 0.8385417 | 0.16145833 |\n",
       "| Photo  | 139441 | 0 |  4694 |  280 |  183 |  250 |  2324 |  199 | 0.021126761 | 0.7957746 | 0.18309859 |\n",
       "| ⋮ | ⋮ | ⋮ | ⋮ | ⋮ | ⋮ | ⋮ | ⋮ | ⋮ | ⋮ | ⋮ | ⋮ |\n",
       "| Photo | 85979 | 0 | 5280 |  951 |  911 | 1237 | 3300 | 431 | 0.009090909 | 0.7181818 | 0.2727273 |\n",
       "| Photo | 85979 | 1 | 6184 |  956 |  901 | 1140 | 3502 | 437 | 0.006578947 | 0.6907895 | 0.3026316 |\n",
       "| Photo | 85093 | 0 | 8412 | 1179 | 1111 | 1632 | 5348 | 699 | 0.066147860 | 0.7198444 | 0.2140078 |\n",
       "| Photo | 85093 | 0 | 5400 |  810 |  756 | 1003 | 3230 | 422 | 0.056818182 | 0.7102273 | 0.2329545 |\n",
       "| Photo | 85093 | 0 | 4684 |  733 |  708 |  985 | 2876 | 392 | 0.059523810 | 0.6309524 | 0.3095238 |\n",
       "| Photo | 81370 | 0 | 3480 |  537 |  508 |  687 | 2104 | 301 | 0.000000000 | 0.7066667 | 0.2933333 |\n",
       "| Photo | 81370 | 0 | 3778 |  625 |  572 |  795 | 2388 | 363 | 0.034782609 | 0.8086957 | 0.1565217 |\n",
       "| Photo | 81370 | 0 | 4156 |  626 |  574 |  832 | 2452 | 370 | 0.051470588 | 0.6691176 | 0.2794118 |\n",
       "\n"
      ],
      "text/plain": [
       "    type   page_likes paid reach engaged_users post_consumers post_consumptions\n",
       "1   Photo  139441     0     2752  178           109            159             \n",
       "2   Status 139441     0    10460 1457          1361           1674             \n",
       "3   Photo  139441     0     2413  177           113            154             \n",
       "4   Status 139441     0    10472 1191          1073           1389             \n",
       "5   Photo  139441     1    11692  481           265            364             \n",
       "6   Photo  139441     1    13720  537           232            305             \n",
       "7   Status 139441     0    11844 1530          1407           1692             \n",
       "8   Photo  139441     0     4694  280           183            250             \n",
       "⋮   ⋮      ⋮          ⋮    ⋮     ⋮             ⋮              ⋮                \n",
       "365 Photo  85979      0    5280   951           911           1237             \n",
       "366 Photo  85979      1    6184   956           901           1140             \n",
       "367 Photo  85093      0    8412  1179          1111           1632             \n",
       "368 Photo  85093      0    5400   810           756           1003             \n",
       "369 Photo  85093      0    4684   733           708            985             \n",
       "370 Photo  81370      0    3480   537           508            687             \n",
       "371 Photo  81370      0    3778   625           572            795             \n",
       "372 Photo  81370      0    4156   626           574            832             \n",
       "    reach_by_people_that_like_page people_liked_and_engaged comment_percent\n",
       "1    1640                           119                     0.040000000    \n",
       "2    6112                          1108                     0.030487805    \n",
       "3    1503                           132                     0.000000000    \n",
       "4    7852                          1016                     0.005376344    \n",
       "5    9328                           379                     0.010752688    \n",
       "6   11056                           422                     0.000000000    \n",
       "7    7912                          1250                     0.000000000    \n",
       "8    2324                           199                     0.021126761    \n",
       "⋮   ⋮                              ⋮                        ⋮              \n",
       "365 3300                           431                      0.009090909    \n",
       "366 3502                           437                      0.006578947    \n",
       "367 5348                           699                      0.066147860    \n",
       "368 3230                           422                      0.056818182    \n",
       "369 2876                           392                      0.059523810    \n",
       "370 2104                           301                      0.000000000    \n",
       "371 2388                           363                      0.034782609    \n",
       "372 2452                           370                      0.051470588    \n",
       "    like_percent share_percent\n",
       "1   0.7900000    0.17000000   \n",
       "2   0.7926829    0.17682927   \n",
       "3   0.8250000    0.17500000   \n",
       "4   0.8172043    0.17741935   \n",
       "5   0.8924731    0.09677419   \n",
       "6   0.9587021    0.04129794   \n",
       "7   0.8385417    0.16145833   \n",
       "8   0.7957746    0.18309859   \n",
       "⋮   ⋮            ⋮            \n",
       "365 0.7181818    0.2727273    \n",
       "366 0.6907895    0.3026316    \n",
       "367 0.7198444    0.2140078    \n",
       "368 0.7102273    0.2329545    \n",
       "369 0.6309524    0.3095238    \n",
       "370 0.7066667    0.2933333    \n",
       "371 0.8086957    0.1565217    \n",
       "372 0.6691176    0.2794118    "
      ]
     },
     "metadata": {},
     "output_type": "display_data"
    }
   ],
=======
   "outputs": [],
>>>>>>> adf96c8b81e1bf71ea588a5a662be2a45051e57c
   "source": [
    "fb_data_selected2 <- fb_data_selected1 %>% \n",
    "            select(-impressions, -impressions_by_people_that_liked_page) %>% \n",
    "            mutate(comment_percent = comments / interactions) %>% \n",
    "            mutate(like_percent = likes / interactions) %>% \n",
    "            mutate(share_percent = shares / interactions) %>% \n",
    "            select(-comments, -likes, -shares, -interactions) # We don't need these anymore because they have been scaled\n",
    "fb_data_selected2\n"
   ]
  },
  {
   "cell_type": "code",
   "execution_count": null,
   "metadata": {},
<<<<<<< HEAD
   "outputs": [
    {
     "data": {
      "text/plain": [
       "List of 1\n",
       " $ text:List of 11\n",
       "  ..$ family       : NULL\n",
       "  ..$ face         : NULL\n",
       "  ..$ colour       : NULL\n",
       "  ..$ size         : num 14\n",
       "  ..$ hjust        : NULL\n",
       "  ..$ vjust        : NULL\n",
       "  ..$ angle        : NULL\n",
       "  ..$ lineheight   : NULL\n",
       "  ..$ margin       : NULL\n",
       "  ..$ debug        : NULL\n",
       "  ..$ inherit.blank: logi FALSE\n",
       "  ..- attr(*, \"class\")= chr [1:2] \"element_text\" \"element\"\n",
       " - attr(*, \"class\")= chr [1:2] \"theme\" \"gg\"\n",
       " - attr(*, \"complete\")= logi FALSE\n",
       " - attr(*, \"validate\")= logi TRUE"
      ]
     },
     "metadata": {},
     "output_type": "display_data"
    },
    {
     "name": "stderr",
     "output_type": "stream",
     "text": [
      "Warning message:\n",
      "“Removed 3 rows containing non-finite values (stat_boxplot).”\n",
      "Warning message:\n",
      "“Removed 3 rows containing non-finite values (stat_boxplot).”\n",
      "Warning message:\n",
      "“Removed 3 rows containing non-finite values (stat_boxplot).”\n"
     ]
    },
    {
     "data": {
      "image/png": "iVBORw0KGgoAAAANSUhEUgAADhAAAAJYCAMAAAAOz719AAAC/VBMVEUAAAABAQECAgIDAwME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\nviN0mNOWKAAAAABJRU5ErkJggg==",
      "text/plain": [
       "plot without title"
      ]
     },
     "metadata": {
      "image/png": {
       "height": 300,
       "width": 1800
      }
     },
     "output_type": "display_data"
    }
   ],
=======
   "outputs": [],
>>>>>>> adf96c8b81e1bf71ea588a5a662be2a45051e57c
   "source": [
    "options(repr.plot.height = 5, repr.plot.width = 30)\n",
    "fb_select_plot2 <- fb_data_selected2 %>% \n",
    "    ggpairs() +\n",
    "    ggtitle(\"Distribution of different factors for Second Selection Set\")\n",
    "    theme(text = element_text(size=14))\n",
    "\n",
    "# Select just the top row because it is the only thing that we are trt\n",
    "fb_select_plot2$nrow <- 1\n",
    "fb_select_plot2$yAxisLabels <- fb_select_plot2$yAxisLabels[1]\n",
    "fb_select_plot2"
   ]
  },
  {
   "cell_type": "markdown",
   "metadata": {},
   "source": [
    "`comment_percent`, `like_percent`, and `share_percent` look very different now. `comment_percent` still does not look like it would be good, but `like_percent`, and `share_percent` seem like they could be good as the variance for each box plot looks different enough where you can tell them apart."
   ]
  },
  {
   "cell_type": "code",
   "execution_count": null,
   "metadata": {},
<<<<<<< HEAD
   "outputs": [
    {
     "data": {
      "text/html": [
       "<table>\n",
       "<caption>A tibble: 372 × 12</caption>\n",
       "<thead>\n",
       "\t<tr><th scope=col>type</th><th scope=col>page_likes</th><th scope=col>paid</th><th scope=col>reach</th><th scope=col>engaged_users</th><th scope=col>post_consumers</th><th scope=col>post_consumptions</th><th scope=col>reach_by_people_that_like_page</th><th scope=col>people_liked_and_engaged</th><th scope=col>comment_percent</th><th scope=col>like_percent</th><th scope=col>share_percent</th></tr>\n",
       "\t<tr><th scope=col>&lt;fct&gt;</th><th scope=col>&lt;dbl&gt;</th><th scope=col>&lt;dbl&gt;</th><th scope=col>&lt;dbl&gt;</th><th scope=col>&lt;dbl&gt;</th><th scope=col>&lt;dbl&gt;</th><th scope=col>&lt;dbl&gt;</th><th scope=col>&lt;dbl&gt;</th><th scope=col>&lt;dbl&gt;</th><th scope=col>&lt;dbl&gt;</th><th scope=col>&lt;dbl&gt;</th><th scope=col>&lt;dbl&gt;</th></tr>\n",
       "</thead>\n",
       "<tbody>\n",
       "\t<tr><td>Photo </td><td>139441</td><td>0</td><td> 2752</td><td> 178</td><td> 109</td><td> 159</td><td> 1640</td><td> 119</td><td>0.040000000</td><td>0.7900000</td><td>0.17000000</td></tr>\n",
       "\t<tr><td>Status</td><td>139441</td><td>0</td><td>10460</td><td>1457</td><td>1361</td><td>1674</td><td> 6112</td><td>1108</td><td>0.030487805</td><td>0.7926829</td><td>0.17682927</td></tr>\n",
       "\t<tr><td>Photo </td><td>139441</td><td>0</td><td> 2413</td><td> 177</td><td> 113</td><td> 154</td><td> 1503</td><td> 132</td><td>0.000000000</td><td>0.8250000</td><td>0.17500000</td></tr>\n",
       "\t<tr><td>Status</td><td>139441</td><td>0</td><td>10472</td><td>1191</td><td>1073</td><td>1389</td><td> 7852</td><td>1016</td><td>0.005376344</td><td>0.8172043</td><td>0.17741935</td></tr>\n",
       "\t<tr><td>Photo </td><td>139441</td><td>1</td><td>11692</td><td> 481</td><td> 265</td><td> 364</td><td> 9328</td><td> 379</td><td>0.010752688</td><td>0.8924731</td><td>0.09677419</td></tr>\n",
       "\t<tr><td>Photo </td><td>139441</td><td>1</td><td>13720</td><td> 537</td><td> 232</td><td> 305</td><td>11056</td><td> 422</td><td>0.000000000</td><td>0.9587021</td><td>0.04129794</td></tr>\n",
       "\t<tr><td>Status</td><td>139441</td><td>0</td><td>11844</td><td>1530</td><td>1407</td><td>1692</td><td> 7912</td><td>1250</td><td>0.000000000</td><td>0.8385417</td><td>0.16145833</td></tr>\n",
       "\t<tr><td>Photo </td><td>139441</td><td>0</td><td> 4694</td><td> 280</td><td> 183</td><td> 250</td><td> 2324</td><td> 199</td><td>0.021126761</td><td>0.7957746</td><td>0.18309859</td></tr>\n",
       "\t<tr><td>⋮</td><td>⋮</td><td>⋮</td><td>⋮</td><td>⋮</td><td>⋮</td><td>⋮</td><td>⋮</td><td>⋮</td><td>⋮</td><td>⋮</td><td>⋮</td></tr>\n",
       "\t<tr><td>Photo</td><td>85979</td><td>0</td><td>5280</td><td> 951</td><td> 911</td><td>1237</td><td>3300</td><td>431</td><td>0.009090909</td><td>0.7181818</td><td>0.2727273</td></tr>\n",
       "\t<tr><td>Photo</td><td>85979</td><td>1</td><td>6184</td><td> 956</td><td> 901</td><td>1140</td><td>3502</td><td>437</td><td>0.006578947</td><td>0.6907895</td><td>0.3026316</td></tr>\n",
       "\t<tr><td>Photo</td><td>85093</td><td>0</td><td>8412</td><td>1179</td><td>1111</td><td>1632</td><td>5348</td><td>699</td><td>0.066147860</td><td>0.7198444</td><td>0.2140078</td></tr>\n",
       "\t<tr><td>Photo</td><td>85093</td><td>0</td><td>5400</td><td> 810</td><td> 756</td><td>1003</td><td>3230</td><td>422</td><td>0.056818182</td><td>0.7102273</td><td>0.2329545</td></tr>\n",
       "\t<tr><td>Photo</td><td>85093</td><td>0</td><td>4684</td><td> 733</td><td> 708</td><td> 985</td><td>2876</td><td>392</td><td>0.059523810</td><td>0.6309524</td><td>0.3095238</td></tr>\n",
       "\t<tr><td>Photo</td><td>81370</td><td>0</td><td>3480</td><td> 537</td><td> 508</td><td> 687</td><td>2104</td><td>301</td><td>0.000000000</td><td>0.7066667</td><td>0.2933333</td></tr>\n",
       "\t<tr><td>Photo</td><td>81370</td><td>0</td><td>3778</td><td> 625</td><td> 572</td><td> 795</td><td>2388</td><td>363</td><td>0.034782609</td><td>0.8086957</td><td>0.1565217</td></tr>\n",
       "\t<tr><td>Photo</td><td>81370</td><td>0</td><td>4156</td><td> 626</td><td> 574</td><td> 832</td><td>2452</td><td>370</td><td>0.051470588</td><td>0.6691176</td><td>0.2794118</td></tr>\n",
       "</tbody>\n",
       "</table>\n"
      ],
      "text/latex": [
       "A tibble: 372 × 12\n",
       "\\begin{tabular}{llllllllllll}\n",
       " type & page\\_likes & paid & reach & engaged\\_users & post\\_consumers & post\\_consumptions & reach\\_by\\_people\\_that\\_like\\_page & people\\_liked\\_and\\_engaged & comment\\_percent & like\\_percent & share\\_percent\\\\\n",
       " <fct> & <dbl> & <dbl> & <dbl> & <dbl> & <dbl> & <dbl> & <dbl> & <dbl> & <dbl> & <dbl> & <dbl>\\\\\n",
       "\\hline\n",
       "\t Photo  & 139441 & 0 &  2752 &  178 &  109 &  159 &  1640 &  119 & 0.040000000 & 0.7900000 & 0.17000000\\\\\n",
       "\t Status & 139441 & 0 & 10460 & 1457 & 1361 & 1674 &  6112 & 1108 & 0.030487805 & 0.7926829 & 0.17682927\\\\\n",
       "\t Photo  & 139441 & 0 &  2413 &  177 &  113 &  154 &  1503 &  132 & 0.000000000 & 0.8250000 & 0.17500000\\\\\n",
       "\t Status & 139441 & 0 & 10472 & 1191 & 1073 & 1389 &  7852 & 1016 & 0.005376344 & 0.8172043 & 0.17741935\\\\\n",
       "\t Photo  & 139441 & 1 & 11692 &  481 &  265 &  364 &  9328 &  379 & 0.010752688 & 0.8924731 & 0.09677419\\\\\n",
       "\t Photo  & 139441 & 1 & 13720 &  537 &  232 &  305 & 11056 &  422 & 0.000000000 & 0.9587021 & 0.04129794\\\\\n",
       "\t Status & 139441 & 0 & 11844 & 1530 & 1407 & 1692 &  7912 & 1250 & 0.000000000 & 0.8385417 & 0.16145833\\\\\n",
       "\t Photo  & 139441 & 0 &  4694 &  280 &  183 &  250 &  2324 &  199 & 0.021126761 & 0.7957746 & 0.18309859\\\\\n",
       "\t ⋮ & ⋮ & ⋮ & ⋮ & ⋮ & ⋮ & ⋮ & ⋮ & ⋮ & ⋮ & ⋮ & ⋮\\\\\n",
       "\t Photo & 85979 & 0 & 5280 &  951 &  911 & 1237 & 3300 & 431 & 0.009090909 & 0.7181818 & 0.2727273\\\\\n",
       "\t Photo & 85979 & 1 & 6184 &  956 &  901 & 1140 & 3502 & 437 & 0.006578947 & 0.6907895 & 0.3026316\\\\\n",
       "\t Photo & 85093 & 0 & 8412 & 1179 & 1111 & 1632 & 5348 & 699 & 0.066147860 & 0.7198444 & 0.2140078\\\\\n",
       "\t Photo & 85093 & 0 & 5400 &  810 &  756 & 1003 & 3230 & 422 & 0.056818182 & 0.7102273 & 0.2329545\\\\\n",
       "\t Photo & 85093 & 0 & 4684 &  733 &  708 &  985 & 2876 & 392 & 0.059523810 & 0.6309524 & 0.3095238\\\\\n",
       "\t Photo & 81370 & 0 & 3480 &  537 &  508 &  687 & 2104 & 301 & 0.000000000 & 0.7066667 & 0.2933333\\\\\n",
       "\t Photo & 81370 & 0 & 3778 &  625 &  572 &  795 & 2388 & 363 & 0.034782609 & 0.8086957 & 0.1565217\\\\\n",
       "\t Photo & 81370 & 0 & 4156 &  626 &  574 &  832 & 2452 & 370 & 0.051470588 & 0.6691176 & 0.2794118\\\\\n",
       "\\end{tabular}\n"
      ],
      "text/markdown": [
       "\n",
       "A tibble: 372 × 12\n",
       "\n",
       "| type &lt;fct&gt; | page_likes &lt;dbl&gt; | paid &lt;dbl&gt; | reach &lt;dbl&gt; | engaged_users &lt;dbl&gt; | post_consumers &lt;dbl&gt; | post_consumptions &lt;dbl&gt; | reach_by_people_that_like_page &lt;dbl&gt; | people_liked_and_engaged &lt;dbl&gt; | comment_percent &lt;dbl&gt; | like_percent &lt;dbl&gt; | share_percent &lt;dbl&gt; |\n",
       "|---|---|---|---|---|---|---|---|---|---|---|---|\n",
       "| Photo  | 139441 | 0 |  2752 |  178 |  109 |  159 |  1640 |  119 | 0.040000000 | 0.7900000 | 0.17000000 |\n",
       "| Status | 139441 | 0 | 10460 | 1457 | 1361 | 1674 |  6112 | 1108 | 0.030487805 | 0.7926829 | 0.17682927 |\n",
       "| Photo  | 139441 | 0 |  2413 |  177 |  113 |  154 |  1503 |  132 | 0.000000000 | 0.8250000 | 0.17500000 |\n",
       "| Status | 139441 | 0 | 10472 | 1191 | 1073 | 1389 |  7852 | 1016 | 0.005376344 | 0.8172043 | 0.17741935 |\n",
       "| Photo  | 139441 | 1 | 11692 |  481 |  265 |  364 |  9328 |  379 | 0.010752688 | 0.8924731 | 0.09677419 |\n",
       "| Photo  | 139441 | 1 | 13720 |  537 |  232 |  305 | 11056 |  422 | 0.000000000 | 0.9587021 | 0.04129794 |\n",
       "| Status | 139441 | 0 | 11844 | 1530 | 1407 | 1692 |  7912 | 1250 | 0.000000000 | 0.8385417 | 0.16145833 |\n",
       "| Photo  | 139441 | 0 |  4694 |  280 |  183 |  250 |  2324 |  199 | 0.021126761 | 0.7957746 | 0.18309859 |\n",
       "| ⋮ | ⋮ | ⋮ | ⋮ | ⋮ | ⋮ | ⋮ | ⋮ | ⋮ | ⋮ | ⋮ | ⋮ |\n",
       "| Photo | 85979 | 0 | 5280 |  951 |  911 | 1237 | 3300 | 431 | 0.009090909 | 0.7181818 | 0.2727273 |\n",
       "| Photo | 85979 | 1 | 6184 |  956 |  901 | 1140 | 3502 | 437 | 0.006578947 | 0.6907895 | 0.3026316 |\n",
       "| Photo | 85093 | 0 | 8412 | 1179 | 1111 | 1632 | 5348 | 699 | 0.066147860 | 0.7198444 | 0.2140078 |\n",
       "| Photo | 85093 | 0 | 5400 |  810 |  756 | 1003 | 3230 | 422 | 0.056818182 | 0.7102273 | 0.2329545 |\n",
       "| Photo | 85093 | 0 | 4684 |  733 |  708 |  985 | 2876 | 392 | 0.059523810 | 0.6309524 | 0.3095238 |\n",
       "| Photo | 81370 | 0 | 3480 |  537 |  508 |  687 | 2104 | 301 | 0.000000000 | 0.7066667 | 0.2933333 |\n",
       "| Photo | 81370 | 0 | 3778 |  625 |  572 |  795 | 2388 | 363 | 0.034782609 | 0.8086957 | 0.1565217 |\n",
       "| Photo | 81370 | 0 | 4156 |  626 |  574 |  832 | 2452 | 370 | 0.051470588 | 0.6691176 | 0.2794118 |\n",
       "\n"
      ],
      "text/plain": [
       "    type   page_likes paid reach engaged_users post_consumers post_consumptions\n",
       "1   Photo  139441     0     2752  178           109            159             \n",
       "2   Status 139441     0    10460 1457          1361           1674             \n",
       "3   Photo  139441     0     2413  177           113            154             \n",
       "4   Status 139441     0    10472 1191          1073           1389             \n",
       "5   Photo  139441     1    11692  481           265            364             \n",
       "6   Photo  139441     1    13720  537           232            305             \n",
       "7   Status 139441     0    11844 1530          1407           1692             \n",
       "8   Photo  139441     0     4694  280           183            250             \n",
       "⋮   ⋮      ⋮          ⋮    ⋮     ⋮             ⋮              ⋮                \n",
       "365 Photo  85979      0    5280   951           911           1237             \n",
       "366 Photo  85979      1    6184   956           901           1140             \n",
       "367 Photo  85093      0    8412  1179          1111           1632             \n",
       "368 Photo  85093      0    5400   810           756           1003             \n",
       "369 Photo  85093      0    4684   733           708            985             \n",
       "370 Photo  81370      0    3480   537           508            687             \n",
       "371 Photo  81370      0    3778   625           572            795             \n",
       "372 Photo  81370      0    4156   626           574            832             \n",
       "    reach_by_people_that_like_page people_liked_and_engaged comment_percent\n",
       "1    1640                           119                     0.040000000    \n",
       "2    6112                          1108                     0.030487805    \n",
       "3    1503                           132                     0.000000000    \n",
       "4    7852                          1016                     0.005376344    \n",
       "5    9328                           379                     0.010752688    \n",
       "6   11056                           422                     0.000000000    \n",
       "7    7912                          1250                     0.000000000    \n",
       "8    2324                           199                     0.021126761    \n",
       "⋮   ⋮                              ⋮                        ⋮              \n",
       "365 3300                           431                      0.009090909    \n",
       "366 3502                           437                      0.006578947    \n",
       "367 5348                           699                      0.066147860    \n",
       "368 3230                           422                      0.056818182    \n",
       "369 2876                           392                      0.059523810    \n",
       "370 2104                           301                      0.000000000    \n",
       "371 2388                           363                      0.034782609    \n",
       "372 2452                           370                      0.051470588    \n",
       "    like_percent share_percent\n",
       "1   0.7900000    0.17000000   \n",
       "2   0.7926829    0.17682927   \n",
       "3   0.8250000    0.17500000   \n",
       "4   0.8172043    0.17741935   \n",
       "5   0.8924731    0.09677419   \n",
       "6   0.9587021    0.04129794   \n",
       "7   0.8385417    0.16145833   \n",
       "8   0.7957746    0.18309859   \n",
       "⋮   ⋮            ⋮            \n",
       "365 0.7181818    0.2727273    \n",
       "366 0.6907895    0.3026316    \n",
       "367 0.7198444    0.2140078    \n",
       "368 0.7102273    0.2329545    \n",
       "369 0.6309524    0.3095238    \n",
       "370 0.7066667    0.2933333    \n",
       "371 0.8086957    0.1565217    \n",
       "372 0.6691176    0.2794118    "
      ]
     },
     "metadata": {},
     "output_type": "display_data"
    }
   ],
=======
   "outputs": [],
>>>>>>> adf96c8b81e1bf71ea588a5a662be2a45051e57c
   "source": [
    "fb_data_selected <- fb_data_selected2 %>% \n",
    "            select(-comment_percent)\n",
    "fb_data_selected2"
   ]
  },
  {
   "cell_type": "markdown",
   "metadata": {},
   "source": [
    "Something else we want to think about is there any hidden predictors that we can get from combining other predictors? \n",
    "# CITE THIS!!!\n",
    "When doing some research on this dataset, we found that some people created a engagement ratio factor that is `interactions` / `reach`. When we ggpairs this with type, we get this:"
   ]
  },
  {
   "cell_type": "code",
   "execution_count": null,
   "metadata": {},
   "outputs": [],
   "source": [
    "fb_select_plot3 <- fb_data_clean %>%\n",
    "    mutate(engagement_ratio = interactions / reach) %>% \n",
    "    select(type, engagement_ratio) %>% \n",
    "    ggpairs() +\n",
    "    ggtitle(\"Distribution of different factors for Second Selection Set\")\n",
    "    theme(text = element_text(size=14))\n",
    "\n",
    "# Select just the top row because it is the only thing that we are trt\n",
    "fb_select_plot3$nrow <- 1\n",
    "fb_select_plot3$yAxisLabels <- fb_select_plot$yAxisLabels[1]\n",
    "fb_select_plot3"
   ]
  },
  {
   "cell_type": "markdown",
   "metadata": {},
   "source": [
    "This looks promising so we will add this as a factor that we want to look at"
   ]
  },
  {
   "cell_type": "markdown",
   "metadata": {},
   "source": [
    "\n",
    "### Preliminary Summary Tables:\n",
    "\n",
    "Tables were constructed to gain an initial summary of the data. Table *summary_table1* groups posts by type and computes the total posts, total interactions (including all likes, comments, shares), maximum interactions, and number of paid posts for each type."
   ]
  },
  {
   "cell_type": "code",
   "execution_count": null,
   "metadata": {},
<<<<<<< HEAD
   "outputs": [
    {
     "name": "stderr",
     "output_type": "stream",
     "text": [
      "`summarise()` ungrouping output (override with `.groups` argument)\n",
      "\n"
     ]
    },
    {
     "data": {
      "text/html": [
       "<table>\n",
       "<caption>A tibble: 4 × 2</caption>\n",
       "<thead>\n",
       "\t<tr><th scope=col>type</th><th scope=col>total_of_type</th></tr>\n",
       "\t<tr><th scope=col>&lt;fct&gt;</th><th scope=col>&lt;int&gt;</th></tr>\n",
       "</thead>\n",
       "<tbody>\n",
       "\t<tr><td>Photo </td><td>319</td></tr>\n",
       "\t<tr><td>Status</td><td> 29</td></tr>\n",
       "\t<tr><td>Link  </td><td> 18</td></tr>\n",
       "\t<tr><td>Video </td><td>  6</td></tr>\n",
       "</tbody>\n",
       "</table>\n"
      ],
      "text/latex": [
       "A tibble: 4 × 2\n",
       "\\begin{tabular}{ll}\n",
       " type & total\\_of\\_type\\\\\n",
       " <fct> & <int>\\\\\n",
       "\\hline\n",
       "\t Photo  & 319\\\\\n",
       "\t Status &  29\\\\\n",
       "\t Link   &  18\\\\\n",
       "\t Video  &   6\\\\\n",
       "\\end{tabular}\n"
      ],
      "text/markdown": [
       "\n",
       "A tibble: 4 × 2\n",
       "\n",
       "| type &lt;fct&gt; | total_of_type &lt;int&gt; |\n",
       "|---|---|\n",
       "| Photo  | 319 |\n",
       "| Status |  29 |\n",
       "| Link   |  18 |\n",
       "| Video  |   6 |\n",
       "\n"
      ],
      "text/plain": [
       "  type   total_of_type\n",
       "1 Photo  319          \n",
       "2 Status  29          \n",
       "3 Link    18          \n",
       "4 Video    6          "
      ]
     },
     "metadata": {},
     "output_type": "display_data"
    }
   ],
=======
   "outputs": [],
>>>>>>> adf96c8b81e1bf71ea588a5a662be2a45051e57c
   "source": [
    "summary_table1 = fb_train %>% \n",
    "    group_by(type) %>%\n",
    "    summarize(total_of_type = n())\n",
    "\n",
    "summary_table1"
   ]
  },
  {
   "cell_type": "markdown",
   "metadata": {},
   "source": [
    "Looking at the number of different posts, it is clear that we need to upsample the data. This does raise some concerns about how well it will be able to predict some types (mainly the type `video`), but we are confident that we can still get good results."
   ]
  },
  {
   "cell_type": "markdown",
   "metadata": {},
   "source": [
    "#### Selected Columns:"
   ]
  },
  {
   "cell_type": "code",
   "execution_count": null,
   "metadata": {},
   "outputs": [],
   "source": [
    "selected_cols <- tibble(col_name = append(colnames(fb_data_selected), 'engagement_ratio'))\n",
    "selected_cols"
   ]
  },
  {
   "cell_type": "markdown",
   "metadata": {},
   "source": [
    "### Preliminary visualizations:\n",
    "\n",
    "# TODO: should we create visualizations? I think the ggpairs exploration should be enough but who knows. - Kol"
   ]
  },
  {
   "cell_type": "markdown",
   "metadata": {},
   "source": [
    "#### Methods:\n",
    "\n",
    "Our analysis will use the following input columns of the original dataset: type `page_likes`, `paid`, `reach`, `engaged_users`, `post_consumers`, `post_consumptions`, `reach_by_people_that_like_page`, and `people_liked_and_engaged`. We will also be using the generated columns `comment_percent`, `like_percent`, `share_percent`, and `engagement_ratio`.\n",
    "\n",
    "\n",
    "Our aim is to use the K-nearest neighbours algorithm to generate a classification model which will classify a post by type (photo, status, link, or video).\n",
    "\n",
    "To visualize our results, we plan to use a confusion matrix. This will display how often our classification model labels a post correctly, and how often each label gets confused with another. We will also use bar charts to visualize relevant and intermediate results; e.g., we will create a bar chart with post type on the x-axis and interactions on the y-axis, filling out the bars with proportional values of the type of each interaction. As part of the tuning step of creating the model, we can create a line chart to show us the optimal K value. "
   ]
  },
  {
   "cell_type": "markdown",
   "metadata": {},
   "source": [
    "#### Expected outcomes and significance:\n",
    "\n",
    "This analysis hopes to define a relationship between type of post (i.e., photo, status, link, or video) and ratio of the corresponding post’s interaction type. It is expected that videos and photos, for example, may have higher percentages of interactions that are comments and/or likes when compared to a link or status.\n",
    "\n",
    "This classification application for labeling a post’s type could be helpful in identifying the types of reactions that a post might receive. It is possible that we find images get the most likes, while statuses get the most comments. Knowing how these metrics indicate the type could lead to better targeted ad campaigns that look for a certain type of user engagement.\n",
    "\n",
    "Future questions following from this analysis may include:\n",
    "- Do paid posts generate more traffic than unpaid posts?\n",
    "- Does the category of a post (i.e., “action”, “product”, or “inspiration” classification) affect the overall and/or ratio of interactions on a post?\n",
    "- Do posts with more interactions overall correlate with increases in users liking a company’s Facebook page? \n",
    "\n",
    "In examining the data for classification, it is also expected that trends may emerge which could in the future be used to predict post engagement. This predictive knowledge could be used by companies looking to grow their social media reach, as they may more accurately tailor their posts to yield higher engagement before publishing."
   ]
  },
  {
   "cell_type": "markdown",
   "metadata": {},
   "source": [
    "## Create the model"
   ]
  },
  {
   "cell_type": "code",
   "execution_count": null,
   "metadata": {},
<<<<<<< HEAD
   "outputs": [
    {
     "name": "stderr",
     "output_type": "stream",
     "text": [
      "Warning message:\n",
      "“`step_upsample()` is deprecated as of recipes 0.1.13.\n",
      "Please use `themis::step_upsample()` instead.\n",
      "\u001b[90mThis warning is displayed once every 8 hours.\u001b[39m\n",
      "\u001b[90mCall `lifecycle::last_warnings()` to see where this warning was generated.\u001b[39m”\n"
     ]
    },
    {
     "data": {
      "text/html": [
       "<table>\n",
       "<caption>A tibble: 1276 × 19</caption>\n",
       "<thead>\n",
       "\t<tr><th scope=col>page_likes</th><th scope=col>category</th><th scope=col>post_month</th><th scope=col>post_weekday</th><th scope=col>post_hour</th><th scope=col>paid</th><th scope=col>reach</th><th scope=col>impressions</th><th scope=col>engaged_users</th><th scope=col>post_consumers</th><th scope=col>post_consumptions</th><th scope=col>impressions_by_people_that_liked_page</th><th scope=col>reach_by_people_that_like_page</th><th scope=col>people_liked_and_engaged</th><th scope=col>comments</th><th scope=col>likes</th><th scope=col>shares</th><th scope=col>interactions</th><th scope=col>type</th></tr>\n",
       "\t<tr><th scope=col>&lt;dbl&gt;</th><th scope=col>&lt;fct&gt;</th><th scope=col>&lt;fct&gt;</th><th scope=col>&lt;fct&gt;</th><th scope=col>&lt;fct&gt;</th><th scope=col>&lt;dbl&gt;</th><th scope=col>&lt;dbl&gt;</th><th scope=col>&lt;dbl&gt;</th><th scope=col>&lt;dbl&gt;</th><th scope=col>&lt;dbl&gt;</th><th scope=col>&lt;dbl&gt;</th><th scope=col>&lt;dbl&gt;</th><th scope=col>&lt;dbl&gt;</th><th scope=col>&lt;dbl&gt;</th><th scope=col>&lt;dbl&gt;</th><th scope=col>&lt;dbl&gt;</th><th scope=col>&lt;dbl&gt;</th><th scope=col>&lt;dbl&gt;</th><th scope=col>&lt;fct&gt;</th></tr>\n",
       "</thead>\n",
       "<tbody>\n",
       "\t<tr><td>139441</td><td>2</td><td>12</td><td>4</td><td>3 </td><td>0</td><td> 2752</td><td> 5091</td><td>178</td><td>109</td><td>159</td><td> 3078</td><td> 1640</td><td>119</td><td>4</td><td> 79</td><td>17</td><td>100</td><td>Photo</td></tr>\n",
       "\t<tr><td>139441</td><td>3</td><td>12</td><td>3</td><td>3 </td><td>0</td><td> 2413</td><td> 4373</td><td>177</td><td>113</td><td>154</td><td> 2812</td><td> 1503</td><td>132</td><td>0</td><td> 66</td><td>14</td><td> 80</td><td>Photo</td></tr>\n",
       "\t<tr><td>139441</td><td>3</td><td>12</td><td>1</td><td>3 </td><td>1</td><td>11692</td><td>19479</td><td>481</td><td>265</td><td>364</td><td>15432</td><td> 9328</td><td>379</td><td>3</td><td>249</td><td>27</td><td>279</td><td>Photo</td></tr>\n",
       "\t<tr><td>139441</td><td>3</td><td>12</td><td>7</td><td>9 </td><td>1</td><td>13720</td><td>24137</td><td>537</td><td>232</td><td>305</td><td>19728</td><td>11056</td><td>422</td><td>0</td><td>325</td><td>14</td><td>339</td><td>Photo</td></tr>\n",
       "\t<tr><td>139441</td><td>3</td><td>12</td><td>6</td><td>10</td><td>0</td><td> 4694</td><td> 8668</td><td>280</td><td>183</td><td>250</td><td> 4309</td><td> 2324</td><td>199</td><td>3</td><td>113</td><td>26</td><td>142</td><td>Photo</td></tr>\n",
       "\t<tr><td>139441</td><td>2</td><td>12</td><td>5</td><td>10</td><td>0</td><td> 3112</td><td> 5590</td><td>208</td><td>127</td><td>145</td><td> 3887</td><td> 2174</td><td>165</td><td>0</td><td> 88</td><td>18</td><td>106</td><td>Photo</td></tr>\n",
       "\t<tr><td>139441</td><td>2</td><td>12</td><td>5</td><td>3 </td><td>0</td><td> 2549</td><td> 4896</td><td>249</td><td>134</td><td>168</td><td> 3631</td><td> 1917</td><td>183</td><td>5</td><td>137</td><td>10</td><td>152</td><td>Photo</td></tr>\n",
       "\t<tr><td>138414</td><td>2</td><td>12</td><td>4</td><td>5 </td><td>1</td><td>22784</td><td>39941</td><td>887</td><td>337</td><td>417</td><td>34415</td><td>19312</td><td>684</td><td>2</td><td>577</td><td>20</td><td>599</td><td>Photo</td></tr>\n",
       "\t<tr><td>⋮</td><td>⋮</td><td>⋮</td><td>⋮</td><td>⋮</td><td>⋮</td><td>⋮</td><td>⋮</td><td>⋮</td><td>⋮</td><td>⋮</td><td>⋮</td><td>⋮</td><td>⋮</td><td>⋮</td><td>⋮</td><td>⋮</td><td>⋮</td><td>⋮</td></tr>\n",
       "\t<tr><td>137893</td><td>1</td><td>11</td><td>3</td><td>11</td><td>0</td><td> 13544</td><td> 30235</td><td> 517</td><td> 458</td><td> 667</td><td> 26622</td><td>11760</td><td> 447</td><td> 2</td><td> 99</td><td> 13</td><td>114</td><td>Video</td></tr>\n",
       "\t<tr><td>138329</td><td>1</td><td>11</td><td>6</td><td>2 </td><td>1</td><td> 16416</td><td> 31950</td><td> 459</td><td> 411</td><td> 539</td><td> 21436</td><td> 9568</td><td> 363</td><td> 2</td><td> 65</td><td> 14</td><td> 81</td><td>Video</td></tr>\n",
       "\t<tr><td>138329</td><td>1</td><td>11</td><td>6</td><td>2 </td><td>1</td><td> 16416</td><td> 31950</td><td> 459</td><td> 411</td><td> 539</td><td> 21436</td><td> 9568</td><td> 363</td><td> 2</td><td> 65</td><td> 14</td><td> 81</td><td>Video</td></tr>\n",
       "\t<tr><td>137893</td><td>1</td><td>11</td><td>3</td><td>11</td><td>0</td><td> 13544</td><td> 30235</td><td> 517</td><td> 458</td><td> 667</td><td> 26622</td><td>11760</td><td> 447</td><td> 2</td><td> 99</td><td> 13</td><td>114</td><td>Video</td></tr>\n",
       "\t<tr><td>137893</td><td>1</td><td>11</td><td>5</td><td>3 </td><td>1</td><td>100768</td><td>220447</td><td>2101</td><td>1735</td><td>2331</td><td> 59658</td><td>18880</td><td> 885</td><td>17</td><td>449</td><td> 84</td><td>550</td><td>Video</td></tr>\n",
       "\t<tr><td>138329</td><td>1</td><td>11</td><td>6</td><td>2 </td><td>1</td><td> 16416</td><td> 31950</td><td> 459</td><td> 411</td><td> 539</td><td> 21436</td><td> 9568</td><td> 363</td><td> 2</td><td> 65</td><td> 14</td><td> 81</td><td>Video</td></tr>\n",
       "\t<tr><td>134879</td><td>1</td><td>9 </td><td>2</td><td>10</td><td>0</td><td> 30624</td><td> 56950</td><td>2080</td><td>1956</td><td>3253</td><td> 32033</td><td>15744</td><td>1376</td><td> 6</td><td>345</td><td>121</td><td>472</td><td>Video</td></tr>\n",
       "\t<tr><td>126424</td><td>1</td><td>6 </td><td>2</td><td>13</td><td>0</td><td>139008</td><td>277100</td><td>1779</td><td>1643</td><td>2356</td><td>107502</td><td>38720</td><td>1008</td><td>23</td><td>204</td><td> 44</td><td>271</td><td>Video</td></tr>\n",
       "</tbody>\n",
       "</table>\n"
      ],
      "text/latex": [
       "A tibble: 1276 × 19\n",
       "\\begin{tabular}{lllllllllllllllllll}\n",
       " page\\_likes & category & post\\_month & post\\_weekday & post\\_hour & paid & reach & impressions & engaged\\_users & post\\_consumers & post\\_consumptions & impressions\\_by\\_people\\_that\\_liked\\_page & reach\\_by\\_people\\_that\\_like\\_page & people\\_liked\\_and\\_engaged & comments & likes & shares & interactions & type\\\\\n",
       " <dbl> & <fct> & <fct> & <fct> & <fct> & <dbl> & <dbl> & <dbl> & <dbl> & <dbl> & <dbl> & <dbl> & <dbl> & <dbl> & <dbl> & <dbl> & <dbl> & <dbl> & <fct>\\\\\n",
       "\\hline\n",
       "\t 139441 & 2 & 12 & 4 & 3  & 0 &  2752 &  5091 & 178 & 109 & 159 &  3078 &  1640 & 119 & 4 &  79 & 17 & 100 & Photo\\\\\n",
       "\t 139441 & 3 & 12 & 3 & 3  & 0 &  2413 &  4373 & 177 & 113 & 154 &  2812 &  1503 & 132 & 0 &  66 & 14 &  80 & Photo\\\\\n",
       "\t 139441 & 3 & 12 & 1 & 3  & 1 & 11692 & 19479 & 481 & 265 & 364 & 15432 &  9328 & 379 & 3 & 249 & 27 & 279 & Photo\\\\\n",
       "\t 139441 & 3 & 12 & 7 & 9  & 1 & 13720 & 24137 & 537 & 232 & 305 & 19728 & 11056 & 422 & 0 & 325 & 14 & 339 & Photo\\\\\n",
       "\t 139441 & 3 & 12 & 6 & 10 & 0 &  4694 &  8668 & 280 & 183 & 250 &  4309 &  2324 & 199 & 3 & 113 & 26 & 142 & Photo\\\\\n",
       "\t 139441 & 2 & 12 & 5 & 10 & 0 &  3112 &  5590 & 208 & 127 & 145 &  3887 &  2174 & 165 & 0 &  88 & 18 & 106 & Photo\\\\\n",
       "\t 139441 & 2 & 12 & 5 & 3  & 0 &  2549 &  4896 & 249 & 134 & 168 &  3631 &  1917 & 183 & 5 & 137 & 10 & 152 & Photo\\\\\n",
       "\t 138414 & 2 & 12 & 4 & 5  & 1 & 22784 & 39941 & 887 & 337 & 417 & 34415 & 19312 & 684 & 2 & 577 & 20 & 599 & Photo\\\\\n",
       "\t ⋮ & ⋮ & ⋮ & ⋮ & ⋮ & ⋮ & ⋮ & ⋮ & ⋮ & ⋮ & ⋮ & ⋮ & ⋮ & ⋮ & ⋮ & ⋮ & ⋮ & ⋮ & ⋮\\\\\n",
       "\t 137893 & 1 & 11 & 3 & 11 & 0 &  13544 &  30235 &  517 &  458 &  667 &  26622 & 11760 &  447 &  2 &  99 &  13 & 114 & Video\\\\\n",
       "\t 138329 & 1 & 11 & 6 & 2  & 1 &  16416 &  31950 &  459 &  411 &  539 &  21436 &  9568 &  363 &  2 &  65 &  14 &  81 & Video\\\\\n",
       "\t 138329 & 1 & 11 & 6 & 2  & 1 &  16416 &  31950 &  459 &  411 &  539 &  21436 &  9568 &  363 &  2 &  65 &  14 &  81 & Video\\\\\n",
       "\t 137893 & 1 & 11 & 3 & 11 & 0 &  13544 &  30235 &  517 &  458 &  667 &  26622 & 11760 &  447 &  2 &  99 &  13 & 114 & Video\\\\\n",
       "\t 137893 & 1 & 11 & 5 & 3  & 1 & 100768 & 220447 & 2101 & 1735 & 2331 &  59658 & 18880 &  885 & 17 & 449 &  84 & 550 & Video\\\\\n",
       "\t 138329 & 1 & 11 & 6 & 2  & 1 &  16416 &  31950 &  459 &  411 &  539 &  21436 &  9568 &  363 &  2 &  65 &  14 &  81 & Video\\\\\n",
       "\t 134879 & 1 & 9  & 2 & 10 & 0 &  30624 &  56950 & 2080 & 1956 & 3253 &  32033 & 15744 & 1376 &  6 & 345 & 121 & 472 & Video\\\\\n",
       "\t 126424 & 1 & 6  & 2 & 13 & 0 & 139008 & 277100 & 1779 & 1643 & 2356 & 107502 & 38720 & 1008 & 23 & 204 &  44 & 271 & Video\\\\\n",
       "\\end{tabular}\n"
      ],
      "text/markdown": [
       "\n",
       "A tibble: 1276 × 19\n",
       "\n",
       "| page_likes &lt;dbl&gt; | category &lt;fct&gt; | post_month &lt;fct&gt; | post_weekday &lt;fct&gt; | post_hour &lt;fct&gt; | paid &lt;dbl&gt; | reach &lt;dbl&gt; | impressions &lt;dbl&gt; | engaged_users &lt;dbl&gt; | post_consumers &lt;dbl&gt; | post_consumptions &lt;dbl&gt; | impressions_by_people_that_liked_page &lt;dbl&gt; | reach_by_people_that_like_page &lt;dbl&gt; | people_liked_and_engaged &lt;dbl&gt; | comments &lt;dbl&gt; | likes &lt;dbl&gt; | shares &lt;dbl&gt; | interactions &lt;dbl&gt; | type &lt;fct&gt; |\n",
       "|---|---|---|---|---|---|---|---|---|---|---|---|---|---|---|---|---|---|---|\n",
       "| 139441 | 2 | 12 | 4 | 3  | 0 |  2752 |  5091 | 178 | 109 | 159 |  3078 |  1640 | 119 | 4 |  79 | 17 | 100 | Photo |\n",
       "| 139441 | 3 | 12 | 3 | 3  | 0 |  2413 |  4373 | 177 | 113 | 154 |  2812 |  1503 | 132 | 0 |  66 | 14 |  80 | Photo |\n",
       "| 139441 | 3 | 12 | 1 | 3  | 1 | 11692 | 19479 | 481 | 265 | 364 | 15432 |  9328 | 379 | 3 | 249 | 27 | 279 | Photo |\n",
       "| 139441 | 3 | 12 | 7 | 9  | 1 | 13720 | 24137 | 537 | 232 | 305 | 19728 | 11056 | 422 | 0 | 325 | 14 | 339 | Photo |\n",
       "| 139441 | 3 | 12 | 6 | 10 | 0 |  4694 |  8668 | 280 | 183 | 250 |  4309 |  2324 | 199 | 3 | 113 | 26 | 142 | Photo |\n",
       "| 139441 | 2 | 12 | 5 | 10 | 0 |  3112 |  5590 | 208 | 127 | 145 |  3887 |  2174 | 165 | 0 |  88 | 18 | 106 | Photo |\n",
       "| 139441 | 2 | 12 | 5 | 3  | 0 |  2549 |  4896 | 249 | 134 | 168 |  3631 |  1917 | 183 | 5 | 137 | 10 | 152 | Photo |\n",
       "| 138414 | 2 | 12 | 4 | 5  | 1 | 22784 | 39941 | 887 | 337 | 417 | 34415 | 19312 | 684 | 2 | 577 | 20 | 599 | Photo |\n",
       "| ⋮ | ⋮ | ⋮ | ⋮ | ⋮ | ⋮ | ⋮ | ⋮ | ⋮ | ⋮ | ⋮ | ⋮ | ⋮ | ⋮ | ⋮ | ⋮ | ⋮ | ⋮ | ⋮ |\n",
       "| 137893 | 1 | 11 | 3 | 11 | 0 |  13544 |  30235 |  517 |  458 |  667 |  26622 | 11760 |  447 |  2 |  99 |  13 | 114 | Video |\n",
       "| 138329 | 1 | 11 | 6 | 2  | 1 |  16416 |  31950 |  459 |  411 |  539 |  21436 |  9568 |  363 |  2 |  65 |  14 |  81 | Video |\n",
       "| 138329 | 1 | 11 | 6 | 2  | 1 |  16416 |  31950 |  459 |  411 |  539 |  21436 |  9568 |  363 |  2 |  65 |  14 |  81 | Video |\n",
       "| 137893 | 1 | 11 | 3 | 11 | 0 |  13544 |  30235 |  517 |  458 |  667 |  26622 | 11760 |  447 |  2 |  99 |  13 | 114 | Video |\n",
       "| 137893 | 1 | 11 | 5 | 3  | 1 | 100768 | 220447 | 2101 | 1735 | 2331 |  59658 | 18880 |  885 | 17 | 449 |  84 | 550 | Video |\n",
       "| 138329 | 1 | 11 | 6 | 2  | 1 |  16416 |  31950 |  459 |  411 |  539 |  21436 |  9568 |  363 |  2 |  65 |  14 |  81 | Video |\n",
       "| 134879 | 1 | 9  | 2 | 10 | 0 |  30624 |  56950 | 2080 | 1956 | 3253 |  32033 | 15744 | 1376 |  6 | 345 | 121 | 472 | Video |\n",
       "| 126424 | 1 | 6  | 2 | 13 | 0 | 139008 | 277100 | 1779 | 1643 | 2356 | 107502 | 38720 | 1008 | 23 | 204 |  44 | 271 | Video |\n",
       "\n"
      ],
      "text/plain": [
       "     page_likes category post_month post_weekday post_hour paid reach \n",
       "1    139441     2        12         4            3         0     2752 \n",
       "2    139441     3        12         3            3         0     2413 \n",
       "3    139441     3        12         1            3         1    11692 \n",
       "4    139441     3        12         7            9         1    13720 \n",
       "5    139441     3        12         6            10        0     4694 \n",
       "6    139441     2        12         5            10        0     3112 \n",
       "7    139441     2        12         5            3         0     2549 \n",
       "8    138414     2        12         4            5         1    22784 \n",
       "⋮    ⋮          ⋮        ⋮          ⋮            ⋮         ⋮    ⋮     \n",
       "1269 137893     1        11         3            11        0     13544\n",
       "1270 138329     1        11         6            2         1     16416\n",
       "1271 138329     1        11         6            2         1     16416\n",
       "1272 137893     1        11         3            11        0     13544\n",
       "1273 137893     1        11         5            3         1    100768\n",
       "1274 138329     1        11         6            2         1     16416\n",
       "1275 134879     1        9          2            10        0     30624\n",
       "1276 126424     1        6          2            13        0    139008\n",
       "     impressions engaged_users post_consumers post_consumptions\n",
       "1     5091       178           109            159              \n",
       "2     4373       177           113            154              \n",
       "3    19479       481           265            364              \n",
       "4    24137       537           232            305              \n",
       "5     8668       280           183            250              \n",
       "6     5590       208           127            145              \n",
       "7     4896       249           134            168              \n",
       "8    39941       887           337            417              \n",
       "⋮    ⋮           ⋮             ⋮              ⋮                \n",
       "1269  30235       517           458            667             \n",
       "1270  31950       459           411            539             \n",
       "1271  31950       459           411            539             \n",
       "1272  30235       517           458            667             \n",
       "1273 220447      2101          1735           2331             \n",
       "1274  31950       459           411            539             \n",
       "1275  56950      2080          1956           3253             \n",
       "1276 277100      1779          1643           2356             \n",
       "     impressions_by_people_that_liked_page reach_by_people_that_like_page\n",
       "1     3078                                  1640                         \n",
       "2     2812                                  1503                         \n",
       "3    15432                                  9328                         \n",
       "4    19728                                 11056                         \n",
       "5     4309                                  2324                         \n",
       "6     3887                                  2174                         \n",
       "7     3631                                  1917                         \n",
       "8    34415                                 19312                         \n",
       "⋮    ⋮                                     ⋮                             \n",
       "1269  26622                                11760                         \n",
       "1270  21436                                 9568                         \n",
       "1271  21436                                 9568                         \n",
       "1272  26622                                11760                         \n",
       "1273  59658                                18880                         \n",
       "1274  21436                                 9568                         \n",
       "1275  32033                                15744                         \n",
       "1276 107502                                38720                         \n",
       "     people_liked_and_engaged comments likes shares interactions type \n",
       "1    119                      4         79   17     100          Photo\n",
       "2    132                      0         66   14      80          Photo\n",
       "3    379                      3        249   27     279          Photo\n",
       "4    422                      0        325   14     339          Photo\n",
       "5    199                      3        113   26     142          Photo\n",
       "6    165                      0         88   18     106          Photo\n",
       "7    183                      5        137   10     152          Photo\n",
       "8    684                      2        577   20     599          Photo\n",
       "⋮    ⋮                        ⋮        ⋮     ⋮      ⋮            ⋮    \n",
       "1269  447                      2        99    13    114          Video\n",
       "1270  363                      2        65    14     81          Video\n",
       "1271  363                      2        65    14     81          Video\n",
       "1272  447                      2        99    13    114          Video\n",
       "1273  885                     17       449    84    550          Video\n",
       "1274  363                      2        65    14     81          Video\n",
       "1275 1376                      6       345   121    472          Video\n",
       "1276 1008                     23       204    44    271          Video"
      ]
     },
     "metadata": {},
     "output_type": "display_data"
    }
   ],
=======
   "outputs": [],
>>>>>>> adf96c8b81e1bf71ea588a5a662be2a45051e57c
   "source": [
    "upsample_recipe <- recipe(type ~ ., data = fb_train) %>% \n",
    "                    step_upsample(type, over_ratio = 1, skip = FALSE ) %>% \n",
    "                    prep()\n",
    "\n",
    "\n",
    "\n",
    "fb_train_upsampled <- upsample_recipe %>% bake(fb_train)\n",
    "fb_train_upsampled"
   ]
  },
  {
   "cell_type": "code",
   "execution_count": null,
   "metadata": {},
   "outputs": [],
   "source": [
    "# Create the tune spec\n",
    "knn_spec_tune <- nearest_neighbor(weight_func = \"rectangular\", neighbors = tune()) %>% \n",
    "            set_engine(\"kknn\") %>% \n",
    "            set_mode(\"classification\")"
   ]
  },
  {
   "cell_type": "code",
<<<<<<< HEAD
   "execution_count": 34,
   "metadata": {},
   "outputs": [
    {
     "data": {
      "text/plain": [
       "Data Recipe\n",
       "\n",
       "Inputs:\n",
       "\n",
       "      role #variables\n",
       "   outcome          1\n",
       " predictor          8\n",
       "\n",
       "Training data contained 1276 data points and no missing data.\n",
       "\n",
       "Operations:\n",
       "\n",
       "Scaling for page_likes, paid, reach, ... [trained]\n",
       "Centering for page_likes, paid, reach, ... [trained]"
      ]
     },
     "metadata": {},
     "output_type": "display_data"
    }
   ],
=======
   "execution_count": null,
   "metadata": {},
   "outputs": [],
>>>>>>> adf96c8b81e1bf71ea588a5a662be2a45051e57c
   "source": [
    "# Create the recipe\n",
    "fb_recipe <- recipe(type ~  page_likes +\n",
    "                            paid +\n",
    "                            reach +\n",
    "                            engaged_users +\n",
    "                            post_consumers +\n",
    "                            post_consumptions +\n",
    "                            reach_by_people_that_like_page +\n",
    "                            people_liked_and_engaged \n",
    "#                             likes +\n",
    "#                             shares +\n",
    "#                             interactions\n",
    "#                             engagement_ratio\n",
    "                    , data = fb_train_upsampled) %>%\n",
    "#                 step_mutate(likes_percent = likes / interactions,\n",
    "#                             share_percent = shares / interactions,\n",
    "#                             engagement_ratio = interactions / reach) %>%\n",
    "#                 step_upsample(type, over_ratio = 1, skip = FALSE) %>%\n",
    "                step_scale(all_predictors()) %>% \n",
    "                step_center(all_predictors()) %>% \n",
    "                prep()\n",
    "\n",
    "fb_recipe"
   ]
  },
  {
   "cell_type": "markdown",
   "metadata": {},
   "source": [
    "## Show that we are using the correct columns"
   ]
  },
  {
   "cell_type": "code",
<<<<<<< HEAD
   "execution_count": 35,
   "metadata": {},
   "outputs": [
    {
     "data": {
      "text/html": [
       "<table>\n",
       "<caption>A tibble: 1276 × 9</caption>\n",
       "<thead>\n",
       "\t<tr><th scope=col>page_likes</th><th scope=col>paid</th><th scope=col>reach</th><th scope=col>engaged_users</th><th scope=col>post_consumers</th><th scope=col>post_consumptions</th><th scope=col>reach_by_people_that_like_page</th><th scope=col>people_liked_and_engaged</th><th scope=col>type</th></tr>\n",
       "\t<tr><th scope=col>&lt;dbl&gt;</th><th scope=col>&lt;dbl&gt;</th><th scope=col>&lt;dbl&gt;</th><th scope=col>&lt;dbl&gt;</th><th scope=col>&lt;dbl&gt;</th><th scope=col>&lt;dbl&gt;</th><th scope=col>&lt;dbl&gt;</th><th scope=col>&lt;dbl&gt;</th><th scope=col>&lt;fct&gt;</th></tr>\n",
       "</thead>\n",
       "<tbody>\n",
       "\t<tr><td>0.7981833</td><td>-0.6619768</td><td>-0.67129233</td><td>-0.8860261</td><td>-0.9040937</td><td>-0.8264817</td><td>-0.99622901</td><td>-0.8318371</td><td>Photo</td></tr>\n",
       "\t<tr><td>0.7981833</td><td>-0.6619768</td><td>-0.68147575</td><td>-0.8869083</td><td>-0.9003753</td><td>-0.8293013</td><td>-1.01203515</td><td>-0.8168475</td><td>Photo</td></tr>\n",
       "\t<tr><td>0.7981833</td><td> 1.5094432</td><td>-0.40273852</td><td>-0.6187385</td><td>-0.7590782</td><td>-0.7108788</td><td>-0.10923932</td><td>-0.5320450</td><td>Photo</td></tr>\n",
       "\t<tr><td>0.7981833</td><td> 1.5094432</td><td>-0.34181826</td><td>-0.5693388</td><td>-0.7897545</td><td>-0.7441499</td><td> 0.09012569</td><td>-0.4824641</td><td>Photo</td></tr>\n",
       "\t<tr><td>0.7981833</td><td>-0.6619768</td><td>-0.61295548</td><td>-0.7960481</td><td>-0.8353043</td><td>-0.7751653</td><td>-0.91731369</td><td>-0.7395934</td><td>Photo</td></tr>\n",
       "\t<tr><td>0.7981833</td><td>-0.6619768</td><td>-0.66047809</td><td>-0.8595620</td><td>-0.8873611</td><td>-0.8343765</td><td>-0.93461968</td><td>-0.7787970</td><td>Photo</td></tr>\n",
       "\t<tr><td>0.7981833</td><td>-0.6619768</td><td>-0.67739037</td><td>-0.8233944</td><td>-0.8808540</td><td>-0.8214064</td><td>-0.96427061</td><td>-0.7580421</td><td>Photo</td></tr>\n",
       "\t<tr><td>0.7321323</td><td> 1.5094432</td><td>-0.06953955</td><td>-0.2605907</td><td>-0.6921479</td><td>-0.6809913</td><td> 1.04264740</td><td>-0.1803659</td><td>Photo</td></tr>\n",
       "\t<tr><td>⋮</td><td>⋮</td><td>⋮</td><td>⋮</td><td>⋮</td><td>⋮</td><td>⋮</td><td>⋮</td><td>⋮</td></tr>\n",
       "\t<tr><td> 0.6986245</td><td>-0.6619768</td><td>-0.3471052</td><td>-0.5869815</td><td>-0.5796679</td><td>-0.5400122</td><td> 0.17134847</td><td>-0.45363789</td><td>Video</td></tr>\n",
       "\t<tr><td> 0.7266656</td><td> 1.5094432</td><td>-0.2608316</td><td>-0.6381455</td><td>-0.6233585</td><td>-0.6121935</td><td>-0.08154973</td><td>-0.55049379</td><td>Video</td></tr>\n",
       "\t<tr><td> 0.7266656</td><td> 1.5094432</td><td>-0.2608316</td><td>-0.6381455</td><td>-0.6233585</td><td>-0.6121935</td><td>-0.08154973</td><td>-0.55049379</td><td>Video</td></tr>\n",
       "\t<tr><td> 0.6986245</td><td>-0.6619768</td><td>-0.3471052</td><td>-0.5869815</td><td>-0.5796679</td><td>-0.5400122</td><td> 0.17134847</td><td>-0.45363789</td><td>Video</td></tr>\n",
       "\t<tr><td> 0.6986245</td><td> 1.5094432</td><td> 2.2730668</td><td> 0.8103241</td><td> 0.6074142</td><td> 0.3983446</td><td> 0.99280615</td><td> 0.05139641</td><td>Video</td></tr>\n",
       "\t<tr><td> 0.7266656</td><td> 1.5094432</td><td>-0.2608316</td><td>-0.6381455</td><td>-0.6233585</td><td>-0.6121935</td><td>-0.08154973</td><td>-0.55049379</td><td>Video</td></tr>\n",
       "\t<tr><td> 0.5047807</td><td>-0.6619768</td><td> 0.1659707</td><td> 0.7917992</td><td> 0.8128529</td><td> 0.9182754</td><td> 0.63099558</td><td> 0.61754217</td><td>Video</td></tr>\n",
       "\t<tr><td>-0.0389981</td><td>-0.6619768</td><td> 3.4217801</td><td> 0.5262758</td><td> 0.5218922</td><td> 0.4124425</td><td> 3.28181181</td><td> 0.19322111</td><td>Video</td></tr>\n",
       "</tbody>\n",
       "</table>\n"
      ],
      "text/latex": [
       "A tibble: 1276 × 9\n",
       "\\begin{tabular}{lllllllll}\n",
       " page\\_likes & paid & reach & engaged\\_users & post\\_consumers & post\\_consumptions & reach\\_by\\_people\\_that\\_like\\_page & people\\_liked\\_and\\_engaged & type\\\\\n",
       " <dbl> & <dbl> & <dbl> & <dbl> & <dbl> & <dbl> & <dbl> & <dbl> & <fct>\\\\\n",
       "\\hline\n",
       "\t 0.7981833 & -0.6619768 & -0.67129233 & -0.8860261 & -0.9040937 & -0.8264817 & -0.99622901 & -0.8318371 & Photo\\\\\n",
       "\t 0.7981833 & -0.6619768 & -0.68147575 & -0.8869083 & -0.9003753 & -0.8293013 & -1.01203515 & -0.8168475 & Photo\\\\\n",
       "\t 0.7981833 &  1.5094432 & -0.40273852 & -0.6187385 & -0.7590782 & -0.7108788 & -0.10923932 & -0.5320450 & Photo\\\\\n",
       "\t 0.7981833 &  1.5094432 & -0.34181826 & -0.5693388 & -0.7897545 & -0.7441499 &  0.09012569 & -0.4824641 & Photo\\\\\n",
       "\t 0.7981833 & -0.6619768 & -0.61295548 & -0.7960481 & -0.8353043 & -0.7751653 & -0.91731369 & -0.7395934 & Photo\\\\\n",
       "\t 0.7981833 & -0.6619768 & -0.66047809 & -0.8595620 & -0.8873611 & -0.8343765 & -0.93461968 & -0.7787970 & Photo\\\\\n",
       "\t 0.7981833 & -0.6619768 & -0.67739037 & -0.8233944 & -0.8808540 & -0.8214064 & -0.96427061 & -0.7580421 & Photo\\\\\n",
       "\t 0.7321323 &  1.5094432 & -0.06953955 & -0.2605907 & -0.6921479 & -0.6809913 &  1.04264740 & -0.1803659 & Photo\\\\\n",
       "\t ⋮ & ⋮ & ⋮ & ⋮ & ⋮ & ⋮ & ⋮ & ⋮ & ⋮\\\\\n",
       "\t  0.6986245 & -0.6619768 & -0.3471052 & -0.5869815 & -0.5796679 & -0.5400122 &  0.17134847 & -0.45363789 & Video\\\\\n",
       "\t  0.7266656 &  1.5094432 & -0.2608316 & -0.6381455 & -0.6233585 & -0.6121935 & -0.08154973 & -0.55049379 & Video\\\\\n",
       "\t  0.7266656 &  1.5094432 & -0.2608316 & -0.6381455 & -0.6233585 & -0.6121935 & -0.08154973 & -0.55049379 & Video\\\\\n",
       "\t  0.6986245 & -0.6619768 & -0.3471052 & -0.5869815 & -0.5796679 & -0.5400122 &  0.17134847 & -0.45363789 & Video\\\\\n",
       "\t  0.6986245 &  1.5094432 &  2.2730668 &  0.8103241 &  0.6074142 &  0.3983446 &  0.99280615 &  0.05139641 & Video\\\\\n",
       "\t  0.7266656 &  1.5094432 & -0.2608316 & -0.6381455 & -0.6233585 & -0.6121935 & -0.08154973 & -0.55049379 & Video\\\\\n",
       "\t  0.5047807 & -0.6619768 &  0.1659707 &  0.7917992 &  0.8128529 &  0.9182754 &  0.63099558 &  0.61754217 & Video\\\\\n",
       "\t -0.0389981 & -0.6619768 &  3.4217801 &  0.5262758 &  0.5218922 &  0.4124425 &  3.28181181 &  0.19322111 & Video\\\\\n",
       "\\end{tabular}\n"
      ],
      "text/markdown": [
       "\n",
       "A tibble: 1276 × 9\n",
       "\n",
       "| page_likes &lt;dbl&gt; | paid &lt;dbl&gt; | reach &lt;dbl&gt; | engaged_users &lt;dbl&gt; | post_consumers &lt;dbl&gt; | post_consumptions &lt;dbl&gt; | reach_by_people_that_like_page &lt;dbl&gt; | people_liked_and_engaged &lt;dbl&gt; | type &lt;fct&gt; |\n",
       "|---|---|---|---|---|---|---|---|---|\n",
       "| 0.7981833 | -0.6619768 | -0.67129233 | -0.8860261 | -0.9040937 | -0.8264817 | -0.99622901 | -0.8318371 | Photo |\n",
       "| 0.7981833 | -0.6619768 | -0.68147575 | -0.8869083 | -0.9003753 | -0.8293013 | -1.01203515 | -0.8168475 | Photo |\n",
       "| 0.7981833 |  1.5094432 | -0.40273852 | -0.6187385 | -0.7590782 | -0.7108788 | -0.10923932 | -0.5320450 | Photo |\n",
       "| 0.7981833 |  1.5094432 | -0.34181826 | -0.5693388 | -0.7897545 | -0.7441499 |  0.09012569 | -0.4824641 | Photo |\n",
       "| 0.7981833 | -0.6619768 | -0.61295548 | -0.7960481 | -0.8353043 | -0.7751653 | -0.91731369 | -0.7395934 | Photo |\n",
       "| 0.7981833 | -0.6619768 | -0.66047809 | -0.8595620 | -0.8873611 | -0.8343765 | -0.93461968 | -0.7787970 | Photo |\n",
       "| 0.7981833 | -0.6619768 | -0.67739037 | -0.8233944 | -0.8808540 | -0.8214064 | -0.96427061 | -0.7580421 | Photo |\n",
       "| 0.7321323 |  1.5094432 | -0.06953955 | -0.2605907 | -0.6921479 | -0.6809913 |  1.04264740 | -0.1803659 | Photo |\n",
       "| ⋮ | ⋮ | ⋮ | ⋮ | ⋮ | ⋮ | ⋮ | ⋮ | ⋮ |\n",
       "|  0.6986245 | -0.6619768 | -0.3471052 | -0.5869815 | -0.5796679 | -0.5400122 |  0.17134847 | -0.45363789 | Video |\n",
       "|  0.7266656 |  1.5094432 | -0.2608316 | -0.6381455 | -0.6233585 | -0.6121935 | -0.08154973 | -0.55049379 | Video |\n",
       "|  0.7266656 |  1.5094432 | -0.2608316 | -0.6381455 | -0.6233585 | -0.6121935 | -0.08154973 | -0.55049379 | Video |\n",
       "|  0.6986245 | -0.6619768 | -0.3471052 | -0.5869815 | -0.5796679 | -0.5400122 |  0.17134847 | -0.45363789 | Video |\n",
       "|  0.6986245 |  1.5094432 |  2.2730668 |  0.8103241 |  0.6074142 |  0.3983446 |  0.99280615 |  0.05139641 | Video |\n",
       "|  0.7266656 |  1.5094432 | -0.2608316 | -0.6381455 | -0.6233585 | -0.6121935 | -0.08154973 | -0.55049379 | Video |\n",
       "|  0.5047807 | -0.6619768 |  0.1659707 |  0.7917992 |  0.8128529 |  0.9182754 |  0.63099558 |  0.61754217 | Video |\n",
       "| -0.0389981 | -0.6619768 |  3.4217801 |  0.5262758 |  0.5218922 |  0.4124425 |  3.28181181 |  0.19322111 | Video |\n",
       "\n"
      ],
      "text/plain": [
       "     page_likes paid       reach       engaged_users post_consumers\n",
       "1    0.7981833  -0.6619768 -0.67129233 -0.8860261    -0.9040937    \n",
       "2    0.7981833  -0.6619768 -0.68147575 -0.8869083    -0.9003753    \n",
       "3    0.7981833   1.5094432 -0.40273852 -0.6187385    -0.7590782    \n",
       "4    0.7981833   1.5094432 -0.34181826 -0.5693388    -0.7897545    \n",
       "5    0.7981833  -0.6619768 -0.61295548 -0.7960481    -0.8353043    \n",
       "6    0.7981833  -0.6619768 -0.66047809 -0.8595620    -0.8873611    \n",
       "7    0.7981833  -0.6619768 -0.67739037 -0.8233944    -0.8808540    \n",
       "8    0.7321323   1.5094432 -0.06953955 -0.2605907    -0.6921479    \n",
       "⋮    ⋮          ⋮          ⋮           ⋮             ⋮             \n",
       "1269  0.6986245 -0.6619768 -0.3471052  -0.5869815    -0.5796679    \n",
       "1270  0.7266656  1.5094432 -0.2608316  -0.6381455    -0.6233585    \n",
       "1271  0.7266656  1.5094432 -0.2608316  -0.6381455    -0.6233585    \n",
       "1272  0.6986245 -0.6619768 -0.3471052  -0.5869815    -0.5796679    \n",
       "1273  0.6986245  1.5094432  2.2730668   0.8103241     0.6074142    \n",
       "1274  0.7266656  1.5094432 -0.2608316  -0.6381455    -0.6233585    \n",
       "1275  0.5047807 -0.6619768  0.1659707   0.7917992     0.8128529    \n",
       "1276 -0.0389981 -0.6619768  3.4217801   0.5262758     0.5218922    \n",
       "     post_consumptions reach_by_people_that_like_page people_liked_and_engaged\n",
       "1    -0.8264817        -0.99622901                    -0.8318371              \n",
       "2    -0.8293013        -1.01203515                    -0.8168475              \n",
       "3    -0.7108788        -0.10923932                    -0.5320450              \n",
       "4    -0.7441499         0.09012569                    -0.4824641              \n",
       "5    -0.7751653        -0.91731369                    -0.7395934              \n",
       "6    -0.8343765        -0.93461968                    -0.7787970              \n",
       "7    -0.8214064        -0.96427061                    -0.7580421              \n",
       "8    -0.6809913         1.04264740                    -0.1803659              \n",
       "⋮    ⋮                 ⋮                              ⋮                       \n",
       "1269 -0.5400122         0.17134847                    -0.45363789             \n",
       "1270 -0.6121935        -0.08154973                    -0.55049379             \n",
       "1271 -0.6121935        -0.08154973                    -0.55049379             \n",
       "1272 -0.5400122         0.17134847                    -0.45363789             \n",
       "1273  0.3983446         0.99280615                     0.05139641             \n",
       "1274 -0.6121935        -0.08154973                    -0.55049379             \n",
       "1275  0.9182754         0.63099558                     0.61754217             \n",
       "1276  0.4124425         3.28181181                     0.19322111             \n",
       "     type \n",
       "1    Photo\n",
       "2    Photo\n",
       "3    Photo\n",
       "4    Photo\n",
       "5    Photo\n",
       "6    Photo\n",
       "7    Photo\n",
       "8    Photo\n",
       "⋮    ⋮    \n",
       "1269 Video\n",
       "1270 Video\n",
       "1271 Video\n",
       "1272 Video\n",
       "1273 Video\n",
       "1274 Video\n",
       "1275 Video\n",
       "1276 Video"
      ]
     },
     "metadata": {},
     "output_type": "display_data"
    }
   ],
=======
   "execution_count": null,
   "metadata": {},
   "outputs": [],
>>>>>>> adf96c8b81e1bf71ea588a5a662be2a45051e57c
   "source": [
    "baked_fb <- bake(fb_recipe, fb_train_upsampled)\n",
    "baked_fb"
   ]
  },
  {
   "cell_type": "markdown",
   "metadata": {},
   "source": [
    "## Show that data has been upsampled and balanced"
   ]
  },
  {
   "cell_type": "code",
<<<<<<< HEAD
   "execution_count": 36,
   "metadata": {},
   "outputs": [
    {
     "name": "stderr",
     "output_type": "stream",
     "text": [
      "`summarise()` ungrouping output (override with `.groups` argument)\n",
      "\n"
     ]
    },
    {
     "data": {
      "text/html": [
       "<table>\n",
       "<caption>A tibble: 4 × 2</caption>\n",
       "<thead>\n",
       "\t<tr><th scope=col>type</th><th scope=col>n</th></tr>\n",
       "\t<tr><th scope=col>&lt;fct&gt;</th><th scope=col>&lt;int&gt;</th></tr>\n",
       "</thead>\n",
       "<tbody>\n",
       "\t<tr><td>Photo </td><td>319</td></tr>\n",
       "\t<tr><td>Status</td><td>319</td></tr>\n",
       "\t<tr><td>Link  </td><td>319</td></tr>\n",
       "\t<tr><td>Video </td><td>319</td></tr>\n",
       "</tbody>\n",
       "</table>\n"
      ],
      "text/latex": [
       "A tibble: 4 × 2\n",
       "\\begin{tabular}{ll}\n",
       " type & n\\\\\n",
       " <fct> & <int>\\\\\n",
       "\\hline\n",
       "\t Photo  & 319\\\\\n",
       "\t Status & 319\\\\\n",
       "\t Link   & 319\\\\\n",
       "\t Video  & 319\\\\\n",
       "\\end{tabular}\n"
      ],
      "text/markdown": [
       "\n",
       "A tibble: 4 × 2\n",
       "\n",
       "| type &lt;fct&gt; | n &lt;int&gt; |\n",
       "|---|---|\n",
       "| Photo  | 319 |\n",
       "| Status | 319 |\n",
       "| Link   | 319 |\n",
       "| Video  | 319 |\n",
       "\n"
      ],
      "text/plain": [
       "  type   n  \n",
       "1 Photo  319\n",
       "2 Status 319\n",
       "3 Link   319\n",
       "4 Video  319"
      ]
     },
     "metadata": {},
     "output_type": "display_data"
    }
   ],
=======
   "execution_count": null,
   "metadata": {},
   "outputs": [],
>>>>>>> adf96c8b81e1bf71ea588a5a662be2a45051e57c
   "source": [
    "baked_fb %>% \n",
    "    group_by(type) %>% \n",
    "    summarize(n = n())"
   ]
  },
  {
   "cell_type": "markdown",
   "metadata": {},
   "source": [
    "## Tune the model:\n",
    "\n",
    "# Why does output have neighbors 1..15 where it skips some?"
   ]
  },
  {
   "cell_type": "code",
<<<<<<< HEAD
   "execution_count": 37,
=======
   "execution_count": null,
>>>>>>> adf96c8b81e1bf71ea588a5a662be2a45051e57c
   "metadata": {},
   "outputs": [],
   "source": [
    "# Create vfolds with v\n",
    "fb_vfold <- vfold_cv(baked_fb, v = 10,strata = type)\n"
   ]
  },
  {
   "cell_type": "code",
<<<<<<< HEAD
   "execution_count": 38,
   "metadata": {},
   "outputs": [
    {
     "data": {
      "text/html": [
       "<table>\n",
       "<caption>A tibble: 20 × 7</caption>\n",
       "<thead>\n",
       "\t<tr><th scope=col>neighbors</th><th scope=col>.metric</th><th scope=col>.estimator</th><th scope=col>mean</th><th scope=col>n</th><th scope=col>std_err</th><th scope=col>.config</th></tr>\n",
       "\t<tr><th scope=col>&lt;int&gt;</th><th scope=col>&lt;chr&gt;</th><th scope=col>&lt;chr&gt;</th><th scope=col>&lt;dbl&gt;</th><th scope=col>&lt;int&gt;</th><th scope=col>&lt;dbl&gt;</th><th scope=col>&lt;chr&gt;</th></tr>\n",
       "</thead>\n",
       "<tbody>\n",
       "\t<tr><td>1</td><td>accuracy</td><td>multiclass</td><td>0.9842994</td><td>10</td><td>0.003701397</td><td>Model01</td></tr>\n",
       "\t<tr><td>1</td><td>roc_auc </td><td>hand_till </td><td>0.9895329</td><td>10</td><td>0.002467598</td><td>Model01</td></tr>\n",
       "\t<tr><td>2</td><td>accuracy</td><td>multiclass</td><td>0.9842994</td><td>10</td><td>0.003701397</td><td>Model02</td></tr>\n",
       "\t<tr><td>2</td><td>roc_auc </td><td>hand_till </td><td>0.9895329</td><td>10</td><td>0.002467598</td><td>Model02</td></tr>\n",
       "\t<tr><td>3</td><td>accuracy</td><td>multiclass</td><td>0.9748740</td><td>10</td><td>0.003513605</td><td>Model03</td></tr>\n",
       "\t<tr><td>3</td><td>roc_auc </td><td>hand_till </td><td>0.9895329</td><td>10</td><td>0.002467598</td><td>Model03</td></tr>\n",
       "\t<tr><td>4</td><td>accuracy</td><td>multiclass</td><td>0.9748740</td><td>10</td><td>0.003513605</td><td>Model04</td></tr>\n",
       "\t<tr><td>4</td><td>roc_auc </td><td>hand_till </td><td>0.9895329</td><td>10</td><td>0.002467598</td><td>Model04</td></tr>\n",
       "\t<tr><td>⋮</td><td>⋮</td><td>⋮</td><td>⋮</td><td>⋮</td><td>⋮</td><td>⋮</td></tr>\n",
       "\t<tr><td> 7</td><td>accuracy</td><td>multiclass</td><td>0.9614919</td><td>10</td><td>0.006344581</td><td>Model07</td></tr>\n",
       "\t<tr><td> 7</td><td>roc_auc </td><td>hand_till </td><td>0.9897160</td><td>10</td><td>0.002399410</td><td>Model07</td></tr>\n",
       "\t<tr><td> 8</td><td>accuracy</td><td>multiclass</td><td>0.9614919</td><td>10</td><td>0.006344581</td><td>Model08</td></tr>\n",
       "\t<tr><td> 8</td><td>roc_auc </td><td>hand_till </td><td>0.9896998</td><td>10</td><td>0.002399711</td><td>Model08</td></tr>\n",
       "\t<tr><td> 9</td><td>accuracy</td><td>multiclass</td><td>0.9512853</td><td>10</td><td>0.007597733</td><td>Model09</td></tr>\n",
       "\t<tr><td> 9</td><td>roc_auc </td><td>hand_till </td><td>0.9901270</td><td>10</td><td>0.002110825</td><td>Model09</td></tr>\n",
       "\t<tr><td>10</td><td>accuracy</td><td>multiclass</td><td>0.9512853</td><td>10</td><td>0.007597733</td><td>Model10</td></tr>\n",
       "\t<tr><td>10</td><td>roc_auc </td><td>hand_till </td><td>0.9900552</td><td>10</td><td>0.002145433</td><td>Model10</td></tr>\n",
       "</tbody>\n",
       "</table>\n"
      ],
      "text/latex": [
       "A tibble: 20 × 7\n",
       "\\begin{tabular}{lllllll}\n",
       " neighbors & .metric & .estimator & mean & n & std\\_err & .config\\\\\n",
       " <int> & <chr> & <chr> & <dbl> & <int> & <dbl> & <chr>\\\\\n",
       "\\hline\n",
       "\t 1 & accuracy & multiclass & 0.9842994 & 10 & 0.003701397 & Model01\\\\\n",
       "\t 1 & roc\\_auc  & hand\\_till  & 0.9895329 & 10 & 0.002467598 & Model01\\\\\n",
       "\t 2 & accuracy & multiclass & 0.9842994 & 10 & 0.003701397 & Model02\\\\\n",
       "\t 2 & roc\\_auc  & hand\\_till  & 0.9895329 & 10 & 0.002467598 & Model02\\\\\n",
       "\t 3 & accuracy & multiclass & 0.9748740 & 10 & 0.003513605 & Model03\\\\\n",
       "\t 3 & roc\\_auc  & hand\\_till  & 0.9895329 & 10 & 0.002467598 & Model03\\\\\n",
       "\t 4 & accuracy & multiclass & 0.9748740 & 10 & 0.003513605 & Model04\\\\\n",
       "\t 4 & roc\\_auc  & hand\\_till  & 0.9895329 & 10 & 0.002467598 & Model04\\\\\n",
       "\t ⋮ & ⋮ & ⋮ & ⋮ & ⋮ & ⋮ & ⋮\\\\\n",
       "\t  7 & accuracy & multiclass & 0.9614919 & 10 & 0.006344581 & Model07\\\\\n",
       "\t  7 & roc\\_auc  & hand\\_till  & 0.9897160 & 10 & 0.002399410 & Model07\\\\\n",
       "\t  8 & accuracy & multiclass & 0.9614919 & 10 & 0.006344581 & Model08\\\\\n",
       "\t  8 & roc\\_auc  & hand\\_till  & 0.9896998 & 10 & 0.002399711 & Model08\\\\\n",
       "\t  9 & accuracy & multiclass & 0.9512853 & 10 & 0.007597733 & Model09\\\\\n",
       "\t  9 & roc\\_auc  & hand\\_till  & 0.9901270 & 10 & 0.002110825 & Model09\\\\\n",
       "\t 10 & accuracy & multiclass & 0.9512853 & 10 & 0.007597733 & Model10\\\\\n",
       "\t 10 & roc\\_auc  & hand\\_till  & 0.9900552 & 10 & 0.002145433 & Model10\\\\\n",
       "\\end{tabular}\n"
      ],
      "text/markdown": [
       "\n",
       "A tibble: 20 × 7\n",
       "\n",
       "| neighbors &lt;int&gt; | .metric &lt;chr&gt; | .estimator &lt;chr&gt; | mean &lt;dbl&gt; | n &lt;int&gt; | std_err &lt;dbl&gt; | .config &lt;chr&gt; |\n",
       "|---|---|---|---|---|---|---|\n",
       "| 1 | accuracy | multiclass | 0.9842994 | 10 | 0.003701397 | Model01 |\n",
       "| 1 | roc_auc  | hand_till  | 0.9895329 | 10 | 0.002467598 | Model01 |\n",
       "| 2 | accuracy | multiclass | 0.9842994 | 10 | 0.003701397 | Model02 |\n",
       "| 2 | roc_auc  | hand_till  | 0.9895329 | 10 | 0.002467598 | Model02 |\n",
       "| 3 | accuracy | multiclass | 0.9748740 | 10 | 0.003513605 | Model03 |\n",
       "| 3 | roc_auc  | hand_till  | 0.9895329 | 10 | 0.002467598 | Model03 |\n",
       "| 4 | accuracy | multiclass | 0.9748740 | 10 | 0.003513605 | Model04 |\n",
       "| 4 | roc_auc  | hand_till  | 0.9895329 | 10 | 0.002467598 | Model04 |\n",
       "| ⋮ | ⋮ | ⋮ | ⋮ | ⋮ | ⋮ | ⋮ |\n",
       "|  7 | accuracy | multiclass | 0.9614919 | 10 | 0.006344581 | Model07 |\n",
       "|  7 | roc_auc  | hand_till  | 0.9897160 | 10 | 0.002399410 | Model07 |\n",
       "|  8 | accuracy | multiclass | 0.9614919 | 10 | 0.006344581 | Model08 |\n",
       "|  8 | roc_auc  | hand_till  | 0.9896998 | 10 | 0.002399711 | Model08 |\n",
       "|  9 | accuracy | multiclass | 0.9512853 | 10 | 0.007597733 | Model09 |\n",
       "|  9 | roc_auc  | hand_till  | 0.9901270 | 10 | 0.002110825 | Model09 |\n",
       "| 10 | accuracy | multiclass | 0.9512853 | 10 | 0.007597733 | Model10 |\n",
       "| 10 | roc_auc  | hand_till  | 0.9900552 | 10 | 0.002145433 | Model10 |\n",
       "\n"
      ],
      "text/plain": [
       "   neighbors .metric  .estimator mean      n  std_err     .config\n",
       "1  1         accuracy multiclass 0.9842994 10 0.003701397 Model01\n",
       "2  1         roc_auc  hand_till  0.9895329 10 0.002467598 Model01\n",
       "3  2         accuracy multiclass 0.9842994 10 0.003701397 Model02\n",
       "4  2         roc_auc  hand_till  0.9895329 10 0.002467598 Model02\n",
       "5  3         accuracy multiclass 0.9748740 10 0.003513605 Model03\n",
       "6  3         roc_auc  hand_till  0.9895329 10 0.002467598 Model03\n",
       "7  4         accuracy multiclass 0.9748740 10 0.003513605 Model04\n",
       "8  4         roc_auc  hand_till  0.9895329 10 0.002467598 Model04\n",
       "⋮  ⋮         ⋮        ⋮          ⋮         ⋮  ⋮           ⋮      \n",
       "13  7        accuracy multiclass 0.9614919 10 0.006344581 Model07\n",
       "14  7        roc_auc  hand_till  0.9897160 10 0.002399410 Model07\n",
       "15  8        accuracy multiclass 0.9614919 10 0.006344581 Model08\n",
       "16  8        roc_auc  hand_till  0.9896998 10 0.002399711 Model08\n",
       "17  9        accuracy multiclass 0.9512853 10 0.007597733 Model09\n",
       "18  9        roc_auc  hand_till  0.9901270 10 0.002110825 Model09\n",
       "19 10        accuracy multiclass 0.9512853 10 0.007597733 Model10\n",
       "20 10        roc_auc  hand_till  0.9900552 10 0.002145433 Model10"
      ]
     },
     "metadata": {},
     "output_type": "display_data"
    }
   ],
=======
   "execution_count": null,
   "metadata": {},
   "outputs": [],
>>>>>>> adf96c8b81e1bf71ea588a5a662be2a45051e57c
   "source": [
    "gridvals = tibble(neighbors = 1:10)\n",
    "\n",
    "fb_fit <- workflow() %>% \n",
    "        add_recipe(fb_recipe) %>% \n",
    "        add_model(knn_spec_tune) %>% \n",
    "        tune_grid(resamples = fb_vfold, grid = gridvals) %>% \n",
    "        collect_metrics()\n",
    "\n",
    "fb_fit"
   ]
  },
  {
   "cell_type": "code",
<<<<<<< HEAD
   "execution_count": 39,
   "metadata": {},
   "outputs": [
    {
     "data": {
      "image/png": "iVBORw0KGgoAAAANSUhEUgAADhAAAAJYCAMAAAAOz719AAAC91BMVEUAAAABAQECAgIDAwME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",
      "text/plain": [
       "plot without title"
      ]
     },
     "metadata": {
      "image/png": {
       "height": 300,
       "width": 1800
      }
     },
     "output_type": "display_data"
    }
   ],
=======
   "execution_count": null,
   "metadata": {},
   "outputs": [],
>>>>>>> adf96c8b81e1bf71ea588a5a662be2a45051e57c
   "source": [
    "fb_filtered <- fb_fit %>% filter(.metric == \"accuracy\")\n",
    "\n",
    "fb_filtered %>% ggplot(aes(x = neighbors, y = mean)) +\n",
    "            geom_point() +\n",
    "            geom_line() +\n",
    "            scale_x_continuous(breaks = 1:20)"
   ]
  },
  {
   "cell_type": "code",
<<<<<<< HEAD
   "execution_count": 43,
   "metadata": {},
   "outputs": [
    {
     "data": {
      "text/plain": [
       "══ Workflow [trained] ══════════════════════════════════════════════════════════\n",
       "\u001b[3mPreprocessor:\u001b[23m Recipe\n",
       "\u001b[3mModel:\u001b[23m nearest_neighbor()\n",
       "\n",
       "── Preprocessor ────────────────────────────────────────────────────────────────\n",
       "2 Recipe Steps\n",
       "\n",
       "● step_scale()\n",
       "● step_center()\n",
       "\n",
       "── Model ───────────────────────────────────────────────────────────────────────\n",
       "\n",
       "Call:\n",
       "kknn::train.kknn(formula = ..y ~ ., data = data, ks = ~2, kernel = ~\"rectangular\")\n",
       "\n",
       "Type of response variable: nominal\n",
       "Minimal misclassification: 0.01489028\n",
       "Best kernel: rectangular\n",
       "Best k: 2"
      ]
     },
     "metadata": {},
     "output_type": "display_data"
    }
   ],
=======
   "execution_count": null,
   "metadata": {},
   "outputs": [],
>>>>>>> adf96c8b81e1bf71ea588a5a662be2a45051e57c
   "source": [
    "knn_spec <- nearest_neighbor(weight_func = \"rectangular\", neighbors = 2) %>%\n",
    "  set_engine(\"kknn\") %>%\n",
    "  set_mode(\"classification\")\n",
    "\n",
    "knn_fit <- workflow() %>%\n",
    "  add_recipe(fb_recipe) %>%\n",
    "  add_model(knn_spec) %>%\n",
    "  fit(data = baked_fb)\n",
    "knn_fit"
   ]
  },
  {
   "cell_type": "code",
<<<<<<< HEAD
   "execution_count": 44,
   "metadata": {},
   "outputs": [
    {
     "data": {
      "text/html": [
       "<table>\n",
       "<caption>A tibble: 123 × 20</caption>\n",
       "<thead>\n",
       "\t<tr><th scope=col>.pred_class</th><th scope=col>page_likes</th><th scope=col>type</th><th scope=col>category</th><th scope=col>post_month</th><th scope=col>post_weekday</th><th scope=col>post_hour</th><th scope=col>paid</th><th scope=col>reach</th><th scope=col>impressions</th><th scope=col>engaged_users</th><th scope=col>post_consumers</th><th scope=col>post_consumptions</th><th scope=col>impressions_by_people_that_liked_page</th><th scope=col>reach_by_people_that_like_page</th><th scope=col>people_liked_and_engaged</th><th scope=col>comments</th><th scope=col>likes</th><th scope=col>shares</th><th scope=col>interactions</th></tr>\n",
       "\t<tr><th scope=col>&lt;fct&gt;</th><th scope=col>&lt;dbl&gt;</th><th scope=col>&lt;fct&gt;</th><th scope=col>&lt;fct&gt;</th><th scope=col>&lt;fct&gt;</th><th scope=col>&lt;fct&gt;</th><th scope=col>&lt;fct&gt;</th><th scope=col>&lt;dbl&gt;</th><th scope=col>&lt;dbl&gt;</th><th scope=col>&lt;dbl&gt;</th><th scope=col>&lt;dbl&gt;</th><th scope=col>&lt;dbl&gt;</th><th scope=col>&lt;dbl&gt;</th><th scope=col>&lt;dbl&gt;</th><th scope=col>&lt;dbl&gt;</th><th scope=col>&lt;dbl&gt;</th><th scope=col>&lt;dbl&gt;</th><th scope=col>&lt;dbl&gt;</th><th scope=col>&lt;dbl&gt;</th><th scope=col>&lt;dbl&gt;</th></tr>\n",
       "</thead>\n",
       "<tbody>\n",
       "\t<tr><td>Photo</td><td>139441</td><td>Photo </td><td>2</td><td>12</td><td>2</td><td>10</td><td>1</td><td>50128</td><td>87991</td><td>2211</td><td> 790</td><td>1119</td><td>61027</td><td>32048</td><td>1386</td><td>58</td><td>1572</td><td>147</td><td>1777</td></tr>\n",
       "\t<tr><td>Photo</td><td>139441</td><td>Photo </td><td>2</td><td>12</td><td>2</td><td>3 </td><td>0</td><td> 7244</td><td>13594</td><td> 671</td><td> 410</td><td> 580</td><td> 6228</td><td> 3200</td><td> 396</td><td>19</td><td> 325</td><td> 49</td><td> 393</td></tr>\n",
       "\t<tr><td>Photo</td><td>139441</td><td>Status</td><td>2</td><td>12</td><td>5</td><td>10</td><td>0</td><td>21744</td><td>42334</td><td>4258</td><td>4100</td><td>4540</td><td>37849</td><td>18952</td><td>3798</td><td> 0</td><td> 233</td><td> 19</td><td> 252</td></tr>\n",
       "\t<tr><td>Photo</td><td>139441</td><td>Photo </td><td>2</td><td>12</td><td>5</td><td>10</td><td>0</td><td> 2847</td><td> 5133</td><td> 193</td><td> 115</td><td> 133</td><td> 3779</td><td> 2072</td><td> 152</td><td> 0</td><td>  90</td><td> 14</td><td> 104</td></tr>\n",
       "\t<tr><td>Photo</td><td>138414</td><td>Status</td><td>2</td><td>12</td><td>3</td><td>10</td><td>0</td><td>10060</td><td>19680</td><td>1264</td><td>1209</td><td>1425</td><td>17272</td><td> 8548</td><td>1162</td><td> 4</td><td>  86</td><td> 18</td><td> 108</td></tr>\n",
       "\t<tr><td>Photo</td><td>138414</td><td>Photo </td><td>3</td><td>12</td><td>1</td><td>11</td><td>0</td><td> 1591</td><td> 2825</td><td> 121</td><td>  88</td><td> 111</td><td> 2116</td><td> 1161</td><td> 100</td><td> 0</td><td>  34</td><td>  8</td><td>  42</td></tr>\n",
       "\t<tr><td>Photo</td><td>138414</td><td>Photo </td><td>1</td><td>12</td><td>7</td><td>10</td><td>0</td><td> 1384</td><td> 2467</td><td>  15</td><td>  15</td><td>  20</td><td> 2196</td><td> 1172</td><td>  15</td><td> 0</td><td>   0</td><td>  0</td><td>   0</td></tr>\n",
       "\t<tr><td>Photo</td><td>138414</td><td>Status</td><td>2</td><td>12</td><td>6</td><td>10</td><td>0</td><td> 8488</td><td>15294</td><td>1341</td><td>1270</td><td>1489</td><td> 9684</td><td> 5244</td><td> 995</td><td> 3</td><td>  99</td><td> 19</td><td> 121</td></tr>\n",
       "\t<tr><td>⋮</td><td>⋮</td><td>⋮</td><td>⋮</td><td>⋮</td><td>⋮</td><td>⋮</td><td>⋮</td><td>⋮</td><td>⋮</td><td>⋮</td><td>⋮</td><td>⋮</td><td>⋮</td><td>⋮</td><td>⋮</td><td>⋮</td><td>⋮</td><td>⋮</td><td>⋮</td></tr>\n",
       "\t<tr><td>Photo</td><td>93042</td><td>Photo</td><td>3</td><td>2</td><td>3</td><td>13</td><td>0</td><td> 8500</td><td>14157</td><td>1095</td><td>1029</td><td>1422</td><td> 9670</td><td> 5640</td><td>465</td><td> 5</td><td>159</td><td>53</td><td>217</td></tr>\n",
       "\t<tr><td>Photo</td><td>92614</td><td>Photo</td><td>2</td><td>2</td><td>2</td><td>3 </td><td>1</td><td> 5290</td><td> 9100</td><td>1053</td><td> 994</td><td>1326</td><td> 6285</td><td> 3578</td><td>441</td><td> 2</td><td>129</td><td>32</td><td>163</td></tr>\n",
       "\t<tr><td>Photo</td><td>92293</td><td>Photo</td><td>3</td><td>2</td><td>7</td><td>13</td><td>1</td><td>10040</td><td>17029</td><td>1429</td><td>1346</td><td>2022</td><td>11744</td><td> 6964</td><td>742</td><td>19</td><td>214</td><td>78</td><td>311</td></tr>\n",
       "\t<tr><td>Photo</td><td>91972</td><td>Photo</td><td>3</td><td>2</td><td>6</td><td>3 </td><td>0</td><td> 6484</td><td>10832</td><td>1166</td><td>1115</td><td>1441</td><td> 7316</td><td> 4280</td><td>583</td><td> 4</td><td>128</td><td>38</td><td>170</td></tr>\n",
       "\t<tr><td>Photo</td><td>86909</td><td>Photo</td><td>3</td><td>1</td><td>6</td><td>16</td><td>1</td><td> 5754</td><td> 9238</td><td>1179</td><td>1143</td><td>1452</td><td> 6101</td><td> 3546</td><td>420</td><td> 0</td><td> 65</td><td>19</td><td> 84</td></tr>\n",
       "\t<tr><td>Photo</td><td>86491</td><td>Link </td><td>1</td><td>1</td><td>2</td><td>2 </td><td>0</td><td> 5168</td><td> 8371</td><td>  66</td><td>  59</td><td>  71</td><td> 7041</td><td> 3996</td><td> 58</td><td> 0</td><td> 12</td><td> 2</td><td> 14</td></tr>\n",
       "\t<tr><td>Photo</td><td>85979</td><td>Photo</td><td>3</td><td>1</td><td>1</td><td>12</td><td>0</td><td> 5034</td><td> 8030</td><td>1020</td><td> 993</td><td>1243</td><td> 5340</td><td> 3094</td><td>440</td><td> 2</td><td> 56</td><td>25</td><td> 83</td></tr>\n",
       "\t<tr><td>Photo</td><td>85979</td><td>Link </td><td>1</td><td>1</td><td>5</td><td>11</td><td>0</td><td>45920</td><td> 5808</td><td> 753</td><td> 655</td><td> 763</td><td>15766</td><td>10720</td><td>220</td><td> 0</td><td>128</td><td> 9</td><td>137</td></tr>\n",
       "</tbody>\n",
       "</table>\n"
      ],
      "text/latex": [
       "A tibble: 123 × 20\n",
       "\\begin{tabular}{llllllllllllllllllll}\n",
       " .pred\\_class & page\\_likes & type & category & post\\_month & post\\_weekday & post\\_hour & paid & reach & impressions & engaged\\_users & post\\_consumers & post\\_consumptions & impressions\\_by\\_people\\_that\\_liked\\_page & reach\\_by\\_people\\_that\\_like\\_page & people\\_liked\\_and\\_engaged & comments & likes & shares & interactions\\\\\n",
       " <fct> & <dbl> & <fct> & <fct> & <fct> & <fct> & <fct> & <dbl> & <dbl> & <dbl> & <dbl> & <dbl> & <dbl> & <dbl> & <dbl> & <dbl> & <dbl> & <dbl> & <dbl> & <dbl>\\\\\n",
       "\\hline\n",
       "\t Photo & 139441 & Photo  & 2 & 12 & 2 & 10 & 1 & 50128 & 87991 & 2211 &  790 & 1119 & 61027 & 32048 & 1386 & 58 & 1572 & 147 & 1777\\\\\n",
       "\t Photo & 139441 & Photo  & 2 & 12 & 2 & 3  & 0 &  7244 & 13594 &  671 &  410 &  580 &  6228 &  3200 &  396 & 19 &  325 &  49 &  393\\\\\n",
       "\t Photo & 139441 & Status & 2 & 12 & 5 & 10 & 0 & 21744 & 42334 & 4258 & 4100 & 4540 & 37849 & 18952 & 3798 &  0 &  233 &  19 &  252\\\\\n",
       "\t Photo & 139441 & Photo  & 2 & 12 & 5 & 10 & 0 &  2847 &  5133 &  193 &  115 &  133 &  3779 &  2072 &  152 &  0 &   90 &  14 &  104\\\\\n",
       "\t Photo & 138414 & Status & 2 & 12 & 3 & 10 & 0 & 10060 & 19680 & 1264 & 1209 & 1425 & 17272 &  8548 & 1162 &  4 &   86 &  18 &  108\\\\\n",
       "\t Photo & 138414 & Photo  & 3 & 12 & 1 & 11 & 0 &  1591 &  2825 &  121 &   88 &  111 &  2116 &  1161 &  100 &  0 &   34 &   8 &   42\\\\\n",
       "\t Photo & 138414 & Photo  & 1 & 12 & 7 & 10 & 0 &  1384 &  2467 &   15 &   15 &   20 &  2196 &  1172 &   15 &  0 &    0 &   0 &    0\\\\\n",
       "\t Photo & 138414 & Status & 2 & 12 & 6 & 10 & 0 &  8488 & 15294 & 1341 & 1270 & 1489 &  9684 &  5244 &  995 &  3 &   99 &  19 &  121\\\\\n",
       "\t ⋮ & ⋮ & ⋮ & ⋮ & ⋮ & ⋮ & ⋮ & ⋮ & ⋮ & ⋮ & ⋮ & ⋮ & ⋮ & ⋮ & ⋮ & ⋮ & ⋮ & ⋮ & ⋮ & ⋮\\\\\n",
       "\t Photo & 93042 & Photo & 3 & 2 & 3 & 13 & 0 &  8500 & 14157 & 1095 & 1029 & 1422 &  9670 &  5640 & 465 &  5 & 159 & 53 & 217\\\\\n",
       "\t Photo & 92614 & Photo & 2 & 2 & 2 & 3  & 1 &  5290 &  9100 & 1053 &  994 & 1326 &  6285 &  3578 & 441 &  2 & 129 & 32 & 163\\\\\n",
       "\t Photo & 92293 & Photo & 3 & 2 & 7 & 13 & 1 & 10040 & 17029 & 1429 & 1346 & 2022 & 11744 &  6964 & 742 & 19 & 214 & 78 & 311\\\\\n",
       "\t Photo & 91972 & Photo & 3 & 2 & 6 & 3  & 0 &  6484 & 10832 & 1166 & 1115 & 1441 &  7316 &  4280 & 583 &  4 & 128 & 38 & 170\\\\\n",
       "\t Photo & 86909 & Photo & 3 & 1 & 6 & 16 & 1 &  5754 &  9238 & 1179 & 1143 & 1452 &  6101 &  3546 & 420 &  0 &  65 & 19 &  84\\\\\n",
       "\t Photo & 86491 & Link  & 1 & 1 & 2 & 2  & 0 &  5168 &  8371 &   66 &   59 &   71 &  7041 &  3996 &  58 &  0 &  12 &  2 &  14\\\\\n",
       "\t Photo & 85979 & Photo & 3 & 1 & 1 & 12 & 0 &  5034 &  8030 & 1020 &  993 & 1243 &  5340 &  3094 & 440 &  2 &  56 & 25 &  83\\\\\n",
       "\t Photo & 85979 & Link  & 1 & 1 & 5 & 11 & 0 & 45920 &  5808 &  753 &  655 &  763 & 15766 & 10720 & 220 &  0 & 128 &  9 & 137\\\\\n",
       "\\end{tabular}\n"
      ],
      "text/markdown": [
       "\n",
       "A tibble: 123 × 20\n",
       "\n",
       "| .pred_class &lt;fct&gt; | page_likes &lt;dbl&gt; | type &lt;fct&gt; | category &lt;fct&gt; | post_month &lt;fct&gt; | post_weekday &lt;fct&gt; | post_hour &lt;fct&gt; | paid &lt;dbl&gt; | reach &lt;dbl&gt; | impressions &lt;dbl&gt; | engaged_users &lt;dbl&gt; | post_consumers &lt;dbl&gt; | post_consumptions &lt;dbl&gt; | impressions_by_people_that_liked_page &lt;dbl&gt; | reach_by_people_that_like_page &lt;dbl&gt; | people_liked_and_engaged &lt;dbl&gt; | comments &lt;dbl&gt; | likes &lt;dbl&gt; | shares &lt;dbl&gt; | interactions &lt;dbl&gt; |\n",
       "|---|---|---|---|---|---|---|---|---|---|---|---|---|---|---|---|---|---|---|---|\n",
       "| Photo | 139441 | Photo  | 2 | 12 | 2 | 10 | 1 | 50128 | 87991 | 2211 |  790 | 1119 | 61027 | 32048 | 1386 | 58 | 1572 | 147 | 1777 |\n",
       "| Photo | 139441 | Photo  | 2 | 12 | 2 | 3  | 0 |  7244 | 13594 |  671 |  410 |  580 |  6228 |  3200 |  396 | 19 |  325 |  49 |  393 |\n",
       "| Photo | 139441 | Status | 2 | 12 | 5 | 10 | 0 | 21744 | 42334 | 4258 | 4100 | 4540 | 37849 | 18952 | 3798 |  0 |  233 |  19 |  252 |\n",
       "| Photo | 139441 | Photo  | 2 | 12 | 5 | 10 | 0 |  2847 |  5133 |  193 |  115 |  133 |  3779 |  2072 |  152 |  0 |   90 |  14 |  104 |\n",
       "| Photo | 138414 | Status | 2 | 12 | 3 | 10 | 0 | 10060 | 19680 | 1264 | 1209 | 1425 | 17272 |  8548 | 1162 |  4 |   86 |  18 |  108 |\n",
       "| Photo | 138414 | Photo  | 3 | 12 | 1 | 11 | 0 |  1591 |  2825 |  121 |   88 |  111 |  2116 |  1161 |  100 |  0 |   34 |   8 |   42 |\n",
       "| Photo | 138414 | Photo  | 1 | 12 | 7 | 10 | 0 |  1384 |  2467 |   15 |   15 |   20 |  2196 |  1172 |   15 |  0 |    0 |   0 |    0 |\n",
       "| Photo | 138414 | Status | 2 | 12 | 6 | 10 | 0 |  8488 | 15294 | 1341 | 1270 | 1489 |  9684 |  5244 |  995 |  3 |   99 |  19 |  121 |\n",
       "| ⋮ | ⋮ | ⋮ | ⋮ | ⋮ | ⋮ | ⋮ | ⋮ | ⋮ | ⋮ | ⋮ | ⋮ | ⋮ | ⋮ | ⋮ | ⋮ | ⋮ | ⋮ | ⋮ | ⋮ |\n",
       "| Photo | 93042 | Photo | 3 | 2 | 3 | 13 | 0 |  8500 | 14157 | 1095 | 1029 | 1422 |  9670 |  5640 | 465 |  5 | 159 | 53 | 217 |\n",
       "| Photo | 92614 | Photo | 2 | 2 | 2 | 3  | 1 |  5290 |  9100 | 1053 |  994 | 1326 |  6285 |  3578 | 441 |  2 | 129 | 32 | 163 |\n",
       "| Photo | 92293 | Photo | 3 | 2 | 7 | 13 | 1 | 10040 | 17029 | 1429 | 1346 | 2022 | 11744 |  6964 | 742 | 19 | 214 | 78 | 311 |\n",
       "| Photo | 91972 | Photo | 3 | 2 | 6 | 3  | 0 |  6484 | 10832 | 1166 | 1115 | 1441 |  7316 |  4280 | 583 |  4 | 128 | 38 | 170 |\n",
       "| Photo | 86909 | Photo | 3 | 1 | 6 | 16 | 1 |  5754 |  9238 | 1179 | 1143 | 1452 |  6101 |  3546 | 420 |  0 |  65 | 19 |  84 |\n",
       "| Photo | 86491 | Link  | 1 | 1 | 2 | 2  | 0 |  5168 |  8371 |   66 |   59 |   71 |  7041 |  3996 |  58 |  0 |  12 |  2 |  14 |\n",
       "| Photo | 85979 | Photo | 3 | 1 | 1 | 12 | 0 |  5034 |  8030 | 1020 |  993 | 1243 |  5340 |  3094 | 440 |  2 |  56 | 25 |  83 |\n",
       "| Photo | 85979 | Link  | 1 | 1 | 5 | 11 | 0 | 45920 |  5808 |  753 |  655 |  763 | 15766 | 10720 | 220 |  0 | 128 |  9 | 137 |\n",
       "\n"
      ],
      "text/plain": [
       "    .pred_class page_likes type   category post_month post_weekday post_hour\n",
       "1   Photo       139441     Photo  2        12         2            10       \n",
       "2   Photo       139441     Photo  2        12         2            3        \n",
       "3   Photo       139441     Status 2        12         5            10       \n",
       "4   Photo       139441     Photo  2        12         5            10       \n",
       "5   Photo       138414     Status 2        12         3            10       \n",
       "6   Photo       138414     Photo  3        12         1            11       \n",
       "7   Photo       138414     Photo  1        12         7            10       \n",
       "8   Photo       138414     Status 2        12         6            10       \n",
       "⋮   ⋮           ⋮          ⋮      ⋮        ⋮          ⋮            ⋮        \n",
       "116 Photo       93042      Photo  3        2          3            13       \n",
       "117 Photo       92614      Photo  2        2          2            3        \n",
       "118 Photo       92293      Photo  3        2          7            13       \n",
       "119 Photo       91972      Photo  3        2          6            3        \n",
       "120 Photo       86909      Photo  3        1          6            16       \n",
       "121 Photo       86491      Link   1        1          2            2        \n",
       "122 Photo       85979      Photo  3        1          1            12       \n",
       "123 Photo       85979      Link   1        1          5            11       \n",
       "    paid reach impressions engaged_users post_consumers post_consumptions\n",
       "1   1    50128 87991       2211           790           1119             \n",
       "2   0     7244 13594        671           410            580             \n",
       "3   0    21744 42334       4258          4100           4540             \n",
       "4   0     2847  5133        193           115            133             \n",
       "5   0    10060 19680       1264          1209           1425             \n",
       "6   0     1591  2825        121            88            111             \n",
       "7   0     1384  2467         15            15             20             \n",
       "8   0     8488 15294       1341          1270           1489             \n",
       "⋮   ⋮    ⋮     ⋮           ⋮             ⋮              ⋮                \n",
       "116 0     8500 14157       1095          1029           1422             \n",
       "117 1     5290  9100       1053           994           1326             \n",
       "118 1    10040 17029       1429          1346           2022             \n",
       "119 0     6484 10832       1166          1115           1441             \n",
       "120 1     5754  9238       1179          1143           1452             \n",
       "121 0     5168  8371         66            59             71             \n",
       "122 0     5034  8030       1020           993           1243             \n",
       "123 0    45920  5808        753           655            763             \n",
       "    impressions_by_people_that_liked_page reach_by_people_that_like_page\n",
       "1   61027                                 32048                         \n",
       "2    6228                                  3200                         \n",
       "3   37849                                 18952                         \n",
       "4    3779                                  2072                         \n",
       "5   17272                                  8548                         \n",
       "6    2116                                  1161                         \n",
       "7    2196                                  1172                         \n",
       "8    9684                                  5244                         \n",
       "⋮   ⋮                                     ⋮                             \n",
       "116  9670                                  5640                         \n",
       "117  6285                                  3578                         \n",
       "118 11744                                  6964                         \n",
       "119  7316                                  4280                         \n",
       "120  6101                                  3546                         \n",
       "121  7041                                  3996                         \n",
       "122  5340                                  3094                         \n",
       "123 15766                                 10720                         \n",
       "    people_liked_and_engaged comments likes shares interactions\n",
       "1   1386                     58       1572  147    1777        \n",
       "2    396                     19        325   49     393        \n",
       "3   3798                      0        233   19     252        \n",
       "4    152                      0         90   14     104        \n",
       "5   1162                      4         86   18     108        \n",
       "6    100                      0         34    8      42        \n",
       "7     15                      0          0    0       0        \n",
       "8    995                      3         99   19     121        \n",
       "⋮   ⋮                        ⋮        ⋮     ⋮      ⋮           \n",
       "116 465                       5       159   53     217         \n",
       "117 441                       2       129   32     163         \n",
       "118 742                      19       214   78     311         \n",
       "119 583                       4       128   38     170         \n",
       "120 420                       0        65   19      84         \n",
       "121  58                       0        12    2      14         \n",
       "122 440                       2        56   25      83         \n",
       "123 220                       0       128    9     137         "
      ]
     },
     "metadata": {},
     "output_type": "display_data"
    }
   ],
=======
   "execution_count": null,
   "metadata": {},
   "outputs": [],
>>>>>>> adf96c8b81e1bf71ea588a5a662be2a45051e57c
   "source": [
    "fb_test_predictions <- predict(knn_fit, fb_test) %>%\n",
    "  bind_cols(fb_test)\n",
    "fb_test_predictions"
   ]
  },
  {
   "cell_type": "code",
<<<<<<< HEAD
   "execution_count": 45,
   "metadata": {},
   "outputs": [
    {
     "data": {
      "text/html": [
       "<table>\n",
       "<caption>A tibble: 2 × 3</caption>\n",
       "<thead>\n",
       "\t<tr><th scope=col>.metric</th><th scope=col>.estimator</th><th scope=col>.estimate</th></tr>\n",
       "\t<tr><th scope=col>&lt;chr&gt;</th><th scope=col>&lt;chr&gt;</th><th scope=col>&lt;dbl&gt;</th></tr>\n",
       "</thead>\n",
       "<tbody>\n",
       "\t<tr><td>accuracy</td><td>multiclass</td><td> 0.7235772</td></tr>\n",
       "\t<tr><td>kap     </td><td>multiclass</td><td>-0.1254037</td></tr>\n",
       "</tbody>\n",
       "</table>\n"
      ],
      "text/latex": [
       "A tibble: 2 × 3\n",
       "\\begin{tabular}{lll}\n",
       " .metric & .estimator & .estimate\\\\\n",
       " <chr> & <chr> & <dbl>\\\\\n",
       "\\hline\n",
       "\t accuracy & multiclass &  0.7235772\\\\\n",
       "\t kap      & multiclass & -0.1254037\\\\\n",
       "\\end{tabular}\n"
      ],
      "text/markdown": [
       "\n",
       "A tibble: 2 × 3\n",
       "\n",
       "| .metric &lt;chr&gt; | .estimator &lt;chr&gt; | .estimate &lt;dbl&gt; |\n",
       "|---|---|---|\n",
       "| accuracy | multiclass |  0.7235772 |\n",
       "| kap      | multiclass | -0.1254037 |\n",
       "\n"
      ],
      "text/plain": [
       "  .metric  .estimator .estimate \n",
       "1 accuracy multiclass  0.7235772\n",
       "2 kap      multiclass -0.1254037"
      ]
     },
     "metadata": {},
     "output_type": "display_data"
    }
   ],
=======
   "execution_count": null,
   "metadata": {},
   "outputs": [],
>>>>>>> adf96c8b81e1bf71ea588a5a662be2a45051e57c
   "source": [
    "fb_test_predictions %>%\n",
    "  metrics(truth = type, estimate = .pred_class)"
   ]
  },
  {
   "cell_type": "markdown",
<<<<<<< HEAD
   "metadata": {},
   "source": [
    "# Look into Kap becuase it could explain stuff"
   ]
  },
  {
   "cell_type": "code",
   "execution_count": 47,
   "metadata": {},
   "outputs": [
    {
     "data": {
      "text/plain": [
       "          Truth\n",
       "Prediction Photo Status Link Video\n",
       "    Photo     89     16    4     1\n",
       "    Status    12      0    0     0\n",
       "    Link       0      0    0     0\n",
       "    Video      1      0    0     0"
      ]
     },
     "metadata": {},
     "output_type": "display_data"
    }
   ],
   "source": [
    "fb_test_predictions %>% \n",
    "      conf_mat(truth = type, estimate = .pred_class)"
   ]
  },
  {
   "cell_type": "markdown",
   "metadata": {},
   "source": [
    "It appears that the accuracy is entirely based on the number of photos in the test set. The model just predicts Photo for everything, suggesting that it is overfitted."
   ]
  },
  {
   "cell_type": "code",
   "execution_count": null,
=======
>>>>>>> adf96c8b81e1bf71ea588a5a662be2a45051e57c
   "metadata": {},
   "source": [
    "### References: \n",
    "Statista. (2021). Facebook: Monthly Active Users 2021. Retrieved on February 28, 2021 from http://www.statista.com.ezproxy.library.ubc.ca/statistics/264810/number-of-monthly-active-facebook-users-worldwide/\n"
   ]
  }
 ],
 "metadata": {
  "kernelspec": {
   "display_name": "R",
   "language": "R",
   "name": "ir"
  },
  "language_info": {
   "codemirror_mode": "r",
   "file_extension": ".r",
   "mimetype": "text/x-r-source",
   "name": "R",
   "pygments_lexer": "r",
   "version": "4.0.0"
  }
 },
 "nbformat": 4,
 "nbformat_minor": 4
}
