{
 "cells": [
  {
   "cell_type": "markdown",
   "metadata": {},
   "source": [
    "# DSCI 100: Group Project\n",
    "\n",
    "## Classification of Facebook Post Type Using Social Media Performance Metrics\n",
    "\n",
    "#### Introduction:\n",
    "\n",
    "The rapid advancement of technology has transformed the business world. Social media platforms have become the best place for businesses to advertise their brands by increasing customer engagement. \n",
    "Our report focuses on the most popular social network worldwide, Facebook, with over 2.7 billion monthly active users [1]. \n",
    "\n",
    "The dataset *Facebook performance metrics* [2] contains data related to posts published throughout the year 2014 on a renowned cosmetics brand's Facebook page. Post information such as type (photo, status, link, or video), time posted (month, day of week, and hour), user engagement (comments, likes, and shares), impressions on each post (too many columns to list here), and whether the post was paid or unpaid is included in the dataset. \n",
    "\n",
    "This project uses all relevant columns from this dataset to determine the type of a brand's Facebook post. We determine which of these metrics are relevant in our cleaning and exploration of the data. We use our chosen predictors to build a prediction model using the K-nearest neighbour classification algorithm, implemented in the `tidymodels` framework, to predict the type of a post (photo, status, link, or video)."
   ]
  },
  {
   "cell_type": "markdown",
   "metadata": {},
   "source": [
    "#### Preliminary exploratory data analysis:\n",
    "\n",
    "We begin by loading the relevant libraries. "
   ]
  },
  {
   "cell_type": "code",
   "execution_count": 1,
   "metadata": {},
   "outputs": [
    {
     "name": "stderr",
     "output_type": "stream",
     "text": [
      "── \u001b[1mAttaching packages\u001b[22m ─────────────────────────────────────── tidyverse 1.3.0 ──\n",
      "\n",
      "\u001b[32m✔\u001b[39m \u001b[34mggplot2\u001b[39m 3.3.2     \u001b[32m✔\u001b[39m \u001b[34mpurrr  \u001b[39m 0.3.4\n",
      "\u001b[32m✔\u001b[39m \u001b[34mtibble \u001b[39m 3.0.3     \u001b[32m✔\u001b[39m \u001b[34mdplyr  \u001b[39m 1.0.2\n",
      "\u001b[32m✔\u001b[39m \u001b[34mtidyr  \u001b[39m 1.1.2     \u001b[32m✔\u001b[39m \u001b[34mstringr\u001b[39m 1.4.0\n",
      "\u001b[32m✔\u001b[39m \u001b[34mreadr  \u001b[39m 1.3.1     \u001b[32m✔\u001b[39m \u001b[34mforcats\u001b[39m 0.5.0\n",
      "\n",
      "Warning message:\n",
      "“package ‘ggplot2’ was built under R version 4.0.1”\n",
      "Warning message:\n",
      "“package ‘tibble’ was built under R version 4.0.2”\n",
      "Warning message:\n",
      "“package ‘tidyr’ was built under R version 4.0.2”\n",
      "Warning message:\n",
      "“package ‘dplyr’ was built under R version 4.0.2”\n",
      "── \u001b[1mConflicts\u001b[22m ────────────────────────────────────────── tidyverse_conflicts() ──\n",
      "\u001b[31m✖\u001b[39m \u001b[34mdplyr\u001b[39m::\u001b[32mfilter()\u001b[39m masks \u001b[34mstats\u001b[39m::filter()\n",
      "\u001b[31m✖\u001b[39m \u001b[34mdplyr\u001b[39m::\u001b[32mlag()\u001b[39m    masks \u001b[34mstats\u001b[39m::lag()\n",
      "\n",
      "Warning message:\n",
      "“package ‘tidymodels’ was built under R version 4.0.2”\n",
      "── \u001b[1mAttaching packages\u001b[22m ────────────────────────────────────── tidymodels 0.1.1 ──\n",
      "\n",
      "\u001b[32m✔\u001b[39m \u001b[34mbroom    \u001b[39m 0.7.0      \u001b[32m✔\u001b[39m \u001b[34mrecipes  \u001b[39m 0.1.13\n",
      "\u001b[32m✔\u001b[39m \u001b[34mdials    \u001b[39m 0.0.9      \u001b[32m✔\u001b[39m \u001b[34mrsample  \u001b[39m 0.0.7 \n",
      "\u001b[32m✔\u001b[39m \u001b[34minfer    \u001b[39m 0.5.4      \u001b[32m✔\u001b[39m \u001b[34mtune     \u001b[39m 0.1.1 \n",
      "\u001b[32m✔\u001b[39m \u001b[34mmodeldata\u001b[39m 0.0.2      \u001b[32m✔\u001b[39m \u001b[34mworkflows\u001b[39m 0.2.0 \n",
      "\u001b[32m✔\u001b[39m \u001b[34mparsnip  \u001b[39m 0.1.3      \u001b[32m✔\u001b[39m \u001b[34myardstick\u001b[39m 0.0.7 \n",
      "\n",
      "Warning message:\n",
      "“package ‘broom’ was built under R version 4.0.2”\n",
      "Warning message:\n",
      "“package ‘dials’ was built under R version 4.0.2”\n",
      "Warning message:\n",
      "“package ‘infer’ was built under R version 4.0.3”\n",
      "Warning message:\n",
      "“package ‘modeldata’ was built under R version 4.0.1”\n",
      "Warning message:\n",
      "“package ‘parsnip’ was built under R version 4.0.2”\n",
      "Warning message:\n",
      "“package ‘recipes’ was built under R version 4.0.1”\n",
      "Warning message:\n",
      "“package ‘tune’ was built under R version 4.0.2”\n",
      "Warning message:\n",
      "“package ‘workflows’ was built under R version 4.0.2”\n",
      "Warning message:\n",
      "“package ‘yardstick’ was built under R version 4.0.2”\n",
      "── \u001b[1mConflicts\u001b[22m ───────────────────────────────────────── tidymodels_conflicts() ──\n",
      "\u001b[31m✖\u001b[39m \u001b[34mscales\u001b[39m::\u001b[32mdiscard()\u001b[39m masks \u001b[34mpurrr\u001b[39m::discard()\n",
      "\u001b[31m✖\u001b[39m \u001b[34mdplyr\u001b[39m::\u001b[32mfilter()\u001b[39m   masks \u001b[34mstats\u001b[39m::filter()\n",
      "\u001b[31m✖\u001b[39m \u001b[34mrecipes\u001b[39m::\u001b[32mfixed()\u001b[39m  masks \u001b[34mstringr\u001b[39m::fixed()\n",
      "\u001b[31m✖\u001b[39m \u001b[34mdplyr\u001b[39m::\u001b[32mlag()\u001b[39m      masks \u001b[34mstats\u001b[39m::lag()\n",
      "\u001b[31m✖\u001b[39m \u001b[34myardstick\u001b[39m::\u001b[32mspec()\u001b[39m masks \u001b[34mreadr\u001b[39m::spec()\n",
      "\u001b[31m✖\u001b[39m \u001b[34mrecipes\u001b[39m::\u001b[32mstep()\u001b[39m   masks \u001b[34mstats\u001b[39m::step()\n",
      "\n",
      "Registered S3 method overwritten by 'GGally':\n",
      "  method from   \n",
      "  +.gg   ggplot2\n",
      "\n"
     ]
    }
   ],
   "source": [
    "# We include tidymodels for the KNN classification algorithm,\n",
    "# and GGally for the ggpairs plotting function.\n",
    "# Load libraries for preliminary data analysis:\n",
    "library(tidyverse)\n",
    "library(repr)\n",
    "library(tidymodels)\n",
    "library(GGally)"
   ]
  },
  {
   "cell_type": "markdown",
   "metadata": {},
   "source": [
    "Next, we load the dataset and count the number of n/a."
   ]
  },
  {
   "cell_type": "code",
   "execution_count": 3,
   "metadata": {},
   "outputs": [
    {
     "name": "stderr",
     "output_type": "stream",
     "text": [
      "Using ',' as decimal and '.' as grouping mark. Use read_delim() for more control.\n",
      "\n"
     ]
    },
    {
     "data": {
      "text/html": [
       "<table>\n",
       "<caption>A spec_tbl_df: 500 × 19</caption>\n",
       "<thead>\n",
       "\t<tr><th scope=col>Page total likes</th><th scope=col>Type</th><th scope=col>Category</th><th scope=col>Post Month</th><th scope=col>Post Weekday</th><th scope=col>Post Hour</th><th scope=col>Paid</th><th scope=col>Lifetime Post Total Reach</th><th scope=col>Lifetime Post Total Impressions</th><th scope=col>Lifetime Engaged Users</th><th scope=col>Lifetime Post Consumers</th><th scope=col>Lifetime Post Consumptions</th><th scope=col>Lifetime Post Impressions by people who have liked your Page</th><th scope=col>Lifetime Post reach by people who like your Page</th><th scope=col>Lifetime People who have liked your Page and engaged with your post</th><th scope=col>comment</th><th scope=col>like</th><th scope=col>share</th><th scope=col>Total Interactions</th></tr>\n",
       "\t<tr><th scope=col>&lt;dbl&gt;</th><th scope=col>&lt;chr&gt;</th><th scope=col>&lt;dbl&gt;</th><th scope=col>&lt;dbl&gt;</th><th scope=col>&lt;dbl&gt;</th><th scope=col>&lt;dbl&gt;</th><th scope=col>&lt;dbl&gt;</th><th scope=col>&lt;dbl&gt;</th><th scope=col>&lt;dbl&gt;</th><th scope=col>&lt;dbl&gt;</th><th scope=col>&lt;dbl&gt;</th><th scope=col>&lt;dbl&gt;</th><th scope=col>&lt;dbl&gt;</th><th scope=col>&lt;dbl&gt;</th><th scope=col>&lt;dbl&gt;</th><th scope=col>&lt;dbl&gt;</th><th scope=col>&lt;dbl&gt;</th><th scope=col>&lt;dbl&gt;</th><th scope=col>&lt;dbl&gt;</th></tr>\n",
       "</thead>\n",
       "<tbody>\n",
       "\t<tr><td>139441</td><td>Photo </td><td>2</td><td>12</td><td>4</td><td> 3</td><td>0</td><td> 2752</td><td> 5091</td><td> 178</td><td> 109</td><td> 159</td><td> 3078</td><td> 1640</td><td> 119</td><td> 4</td><td>  79</td><td> 17</td><td> 100</td></tr>\n",
       "\t<tr><td>139441</td><td>Status</td><td>2</td><td>12</td><td>3</td><td>10</td><td>0</td><td>10460</td><td>19057</td><td>1457</td><td>1361</td><td>1674</td><td>11710</td><td> 6112</td><td>1108</td><td> 5</td><td> 130</td><td> 29</td><td> 164</td></tr>\n",
       "\t<tr><td>139441</td><td>Photo </td><td>3</td><td>12</td><td>3</td><td> 3</td><td>0</td><td> 2413</td><td> 4373</td><td> 177</td><td> 113</td><td> 154</td><td> 2812</td><td> 1503</td><td> 132</td><td> 0</td><td>  66</td><td> 14</td><td>  80</td></tr>\n",
       "\t<tr><td>139441</td><td>Photo </td><td>2</td><td>12</td><td>2</td><td>10</td><td>1</td><td>50128</td><td>87991</td><td>2211</td><td> 790</td><td>1119</td><td>61027</td><td>32048</td><td>1386</td><td>58</td><td>1572</td><td>147</td><td>1777</td></tr>\n",
       "\t<tr><td>139441</td><td>Photo </td><td>2</td><td>12</td><td>2</td><td> 3</td><td>0</td><td> 7244</td><td>13594</td><td> 671</td><td> 410</td><td> 580</td><td> 6228</td><td> 3200</td><td> 396</td><td>19</td><td> 325</td><td> 49</td><td> 393</td></tr>\n",
       "\t<tr><td>139441</td><td>Status</td><td>2</td><td>12</td><td>1</td><td> 9</td><td>0</td><td>10472</td><td>20849</td><td>1191</td><td>1073</td><td>1389</td><td>16034</td><td> 7852</td><td>1016</td><td> 1</td><td> 152</td><td> 33</td><td> 186</td></tr>\n",
       "\t<tr><td>139441</td><td>Photo </td><td>3</td><td>12</td><td>1</td><td> 3</td><td>1</td><td>11692</td><td>19479</td><td> 481</td><td> 265</td><td> 364</td><td>15432</td><td> 9328</td><td> 379</td><td> 3</td><td> 249</td><td> 27</td><td> 279</td></tr>\n",
       "\t<tr><td>139441</td><td>Photo </td><td>3</td><td>12</td><td>7</td><td> 9</td><td>1</td><td>13720</td><td>24137</td><td> 537</td><td> 232</td><td> 305</td><td>19728</td><td>11056</td><td> 422</td><td> 0</td><td> 325</td><td> 14</td><td> 339</td></tr>\n",
       "\t<tr><td>⋮</td><td>⋮</td><td>⋮</td><td>⋮</td><td>⋮</td><td>⋮</td><td>⋮</td><td>⋮</td><td>⋮</td><td>⋮</td><td>⋮</td><td>⋮</td><td>⋮</td><td>⋮</td><td>⋮</td><td>⋮</td><td>⋮</td><td>⋮</td><td>⋮</td></tr>\n",
       "\t<tr><td>85979</td><td>Link </td><td>1</td><td>1</td><td>5</td><td>11</td><td> 0</td><td>45920</td><td> 5808</td><td> 753</td><td> 655</td><td> 763</td><td>15766</td><td>10720</td><td>220</td><td> 0</td><td>128</td><td> 9</td><td>137</td></tr>\n",
       "\t<tr><td>85093</td><td>Photo</td><td>3</td><td>1</td><td>1</td><td> 2</td><td> 0</td><td> 8412</td><td>13960</td><td>1179</td><td>1111</td><td>1632</td><td> 8632</td><td> 5348</td><td>699</td><td>17</td><td>185</td><td>55</td><td>257</td></tr>\n",
       "\t<tr><td>85093</td><td>Photo</td><td>3</td><td>1</td><td>7</td><td>10</td><td> 0</td><td> 5400</td><td> 9218</td><td> 810</td><td> 756</td><td>1003</td><td> 5654</td><td> 3230</td><td>422</td><td>10</td><td>125</td><td>41</td><td>176</td></tr>\n",
       "\t<tr><td>85093</td><td>Photo</td><td>3</td><td>1</td><td>7</td><td> 2</td><td> 0</td><td> 4684</td><td> 7536</td><td> 733</td><td> 708</td><td> 985</td><td> 4750</td><td> 2876</td><td>392</td><td> 5</td><td> 53</td><td>26</td><td> 84</td></tr>\n",
       "\t<tr><td>81370</td><td>Photo</td><td>2</td><td>1</td><td>5</td><td> 8</td><td> 0</td><td> 3480</td><td> 6229</td><td> 537</td><td> 508</td><td> 687</td><td> 3961</td><td> 2104</td><td>301</td><td> 0</td><td> 53</td><td>22</td><td> 75</td></tr>\n",
       "\t<tr><td>81370</td><td>Photo</td><td>1</td><td>1</td><td>5</td><td> 2</td><td> 0</td><td> 3778</td><td> 7216</td><td> 625</td><td> 572</td><td> 795</td><td> 4742</td><td> 2388</td><td>363</td><td> 4</td><td> 93</td><td>18</td><td>115</td></tr>\n",
       "\t<tr><td>81370</td><td>Photo</td><td>3</td><td>1</td><td>4</td><td>11</td><td> 0</td><td> 4156</td><td> 7564</td><td> 626</td><td> 574</td><td> 832</td><td> 4534</td><td> 2452</td><td>370</td><td> 7</td><td> 91</td><td>38</td><td>136</td></tr>\n",
       "\t<tr><td>81370</td><td>Photo</td><td>2</td><td>1</td><td>4</td><td> 4</td><td>NA</td><td> 4188</td><td> 7292</td><td> 564</td><td> 524</td><td> 743</td><td> 3861</td><td> 2200</td><td>316</td><td> 0</td><td> 91</td><td>28</td><td>119</td></tr>\n",
       "</tbody>\n",
       "</table>\n"
      ],
      "text/latex": [
       "A spec\\_tbl\\_df: 500 × 19\n",
       "\\begin{tabular}{lllllllllllllllllll}\n",
       " Page total likes & Type & Category & Post Month & Post Weekday & Post Hour & Paid & Lifetime Post Total Reach & Lifetime Post Total Impressions & Lifetime Engaged Users & Lifetime Post Consumers & Lifetime Post Consumptions & Lifetime Post Impressions by people who have liked your Page & Lifetime Post reach by people who like your Page & Lifetime People who have liked your Page and engaged with your post & comment & like & share & Total Interactions\\\\\n",
       " <dbl> & <chr> & <dbl> & <dbl> & <dbl> & <dbl> & <dbl> & <dbl> & <dbl> & <dbl> & <dbl> & <dbl> & <dbl> & <dbl> & <dbl> & <dbl> & <dbl> & <dbl> & <dbl>\\\\\n",
       "\\hline\n",
       "\t 139441 & Photo  & 2 & 12 & 4 &  3 & 0 &  2752 &  5091 &  178 &  109 &  159 &  3078 &  1640 &  119 &  4 &   79 &  17 &  100\\\\\n",
       "\t 139441 & Status & 2 & 12 & 3 & 10 & 0 & 10460 & 19057 & 1457 & 1361 & 1674 & 11710 &  6112 & 1108 &  5 &  130 &  29 &  164\\\\\n",
       "\t 139441 & Photo  & 3 & 12 & 3 &  3 & 0 &  2413 &  4373 &  177 &  113 &  154 &  2812 &  1503 &  132 &  0 &   66 &  14 &   80\\\\\n",
       "\t 139441 & Photo  & 2 & 12 & 2 & 10 & 1 & 50128 & 87991 & 2211 &  790 & 1119 & 61027 & 32048 & 1386 & 58 & 1572 & 147 & 1777\\\\\n",
       "\t 139441 & Photo  & 2 & 12 & 2 &  3 & 0 &  7244 & 13594 &  671 &  410 &  580 &  6228 &  3200 &  396 & 19 &  325 &  49 &  393\\\\\n",
       "\t 139441 & Status & 2 & 12 & 1 &  9 & 0 & 10472 & 20849 & 1191 & 1073 & 1389 & 16034 &  7852 & 1016 &  1 &  152 &  33 &  186\\\\\n",
       "\t 139441 & Photo  & 3 & 12 & 1 &  3 & 1 & 11692 & 19479 &  481 &  265 &  364 & 15432 &  9328 &  379 &  3 &  249 &  27 &  279\\\\\n",
       "\t 139441 & Photo  & 3 & 12 & 7 &  9 & 1 & 13720 & 24137 &  537 &  232 &  305 & 19728 & 11056 &  422 &  0 &  325 &  14 &  339\\\\\n",
       "\t ⋮ & ⋮ & ⋮ & ⋮ & ⋮ & ⋮ & ⋮ & ⋮ & ⋮ & ⋮ & ⋮ & ⋮ & ⋮ & ⋮ & ⋮ & ⋮ & ⋮ & ⋮ & ⋮\\\\\n",
       "\t 85979 & Link  & 1 & 1 & 5 & 11 &  0 & 45920 &  5808 &  753 &  655 &  763 & 15766 & 10720 & 220 &  0 & 128 &  9 & 137\\\\\n",
       "\t 85093 & Photo & 3 & 1 & 1 &  2 &  0 &  8412 & 13960 & 1179 & 1111 & 1632 &  8632 &  5348 & 699 & 17 & 185 & 55 & 257\\\\\n",
       "\t 85093 & Photo & 3 & 1 & 7 & 10 &  0 &  5400 &  9218 &  810 &  756 & 1003 &  5654 &  3230 & 422 & 10 & 125 & 41 & 176\\\\\n",
       "\t 85093 & Photo & 3 & 1 & 7 &  2 &  0 &  4684 &  7536 &  733 &  708 &  985 &  4750 &  2876 & 392 &  5 &  53 & 26 &  84\\\\\n",
       "\t 81370 & Photo & 2 & 1 & 5 &  8 &  0 &  3480 &  6229 &  537 &  508 &  687 &  3961 &  2104 & 301 &  0 &  53 & 22 &  75\\\\\n",
       "\t 81370 & Photo & 1 & 1 & 5 &  2 &  0 &  3778 &  7216 &  625 &  572 &  795 &  4742 &  2388 & 363 &  4 &  93 & 18 & 115\\\\\n",
       "\t 81370 & Photo & 3 & 1 & 4 & 11 &  0 &  4156 &  7564 &  626 &  574 &  832 &  4534 &  2452 & 370 &  7 &  91 & 38 & 136\\\\\n",
       "\t 81370 & Photo & 2 & 1 & 4 &  4 & NA &  4188 &  7292 &  564 &  524 &  743 &  3861 &  2200 & 316 &  0 &  91 & 28 & 119\\\\\n",
       "\\end{tabular}\n"
      ],
      "text/markdown": [
       "\n",
       "A spec_tbl_df: 500 × 19\n",
       "\n",
       "| Page total likes &lt;dbl&gt; | Type &lt;chr&gt; | Category &lt;dbl&gt; | Post Month &lt;dbl&gt; | Post Weekday &lt;dbl&gt; | Post Hour &lt;dbl&gt; | Paid &lt;dbl&gt; | Lifetime Post Total Reach &lt;dbl&gt; | Lifetime Post Total Impressions &lt;dbl&gt; | Lifetime Engaged Users &lt;dbl&gt; | Lifetime Post Consumers &lt;dbl&gt; | Lifetime Post Consumptions &lt;dbl&gt; | Lifetime Post Impressions by people who have liked your Page &lt;dbl&gt; | Lifetime Post reach by people who like your Page &lt;dbl&gt; | Lifetime People who have liked your Page and engaged with your post &lt;dbl&gt; | comment &lt;dbl&gt; | like &lt;dbl&gt; | share &lt;dbl&gt; | Total Interactions &lt;dbl&gt; |\n",
       "|---|---|---|---|---|---|---|---|---|---|---|---|---|---|---|---|---|---|---|\n",
       "| 139441 | Photo  | 2 | 12 | 4 |  3 | 0 |  2752 |  5091 |  178 |  109 |  159 |  3078 |  1640 |  119 |  4 |   79 |  17 |  100 |\n",
       "| 139441 | Status | 2 | 12 | 3 | 10 | 0 | 10460 | 19057 | 1457 | 1361 | 1674 | 11710 |  6112 | 1108 |  5 |  130 |  29 |  164 |\n",
       "| 139441 | Photo  | 3 | 12 | 3 |  3 | 0 |  2413 |  4373 |  177 |  113 |  154 |  2812 |  1503 |  132 |  0 |   66 |  14 |   80 |\n",
       "| 139441 | Photo  | 2 | 12 | 2 | 10 | 1 | 50128 | 87991 | 2211 |  790 | 1119 | 61027 | 32048 | 1386 | 58 | 1572 | 147 | 1777 |\n",
       "| 139441 | Photo  | 2 | 12 | 2 |  3 | 0 |  7244 | 13594 |  671 |  410 |  580 |  6228 |  3200 |  396 | 19 |  325 |  49 |  393 |\n",
       "| 139441 | Status | 2 | 12 | 1 |  9 | 0 | 10472 | 20849 | 1191 | 1073 | 1389 | 16034 |  7852 | 1016 |  1 |  152 |  33 |  186 |\n",
       "| 139441 | Photo  | 3 | 12 | 1 |  3 | 1 | 11692 | 19479 |  481 |  265 |  364 | 15432 |  9328 |  379 |  3 |  249 |  27 |  279 |\n",
       "| 139441 | Photo  | 3 | 12 | 7 |  9 | 1 | 13720 | 24137 |  537 |  232 |  305 | 19728 | 11056 |  422 |  0 |  325 |  14 |  339 |\n",
       "| ⋮ | ⋮ | ⋮ | ⋮ | ⋮ | ⋮ | ⋮ | ⋮ | ⋮ | ⋮ | ⋮ | ⋮ | ⋮ | ⋮ | ⋮ | ⋮ | ⋮ | ⋮ | ⋮ |\n",
       "| 85979 | Link  | 1 | 1 | 5 | 11 |  0 | 45920 |  5808 |  753 |  655 |  763 | 15766 | 10720 | 220 |  0 | 128 |  9 | 137 |\n",
       "| 85093 | Photo | 3 | 1 | 1 |  2 |  0 |  8412 | 13960 | 1179 | 1111 | 1632 |  8632 |  5348 | 699 | 17 | 185 | 55 | 257 |\n",
       "| 85093 | Photo | 3 | 1 | 7 | 10 |  0 |  5400 |  9218 |  810 |  756 | 1003 |  5654 |  3230 | 422 | 10 | 125 | 41 | 176 |\n",
       "| 85093 | Photo | 3 | 1 | 7 |  2 |  0 |  4684 |  7536 |  733 |  708 |  985 |  4750 |  2876 | 392 |  5 |  53 | 26 |  84 |\n",
       "| 81370 | Photo | 2 | 1 | 5 |  8 |  0 |  3480 |  6229 |  537 |  508 |  687 |  3961 |  2104 | 301 |  0 |  53 | 22 |  75 |\n",
       "| 81370 | Photo | 1 | 1 | 5 |  2 |  0 |  3778 |  7216 |  625 |  572 |  795 |  4742 |  2388 | 363 |  4 |  93 | 18 | 115 |\n",
       "| 81370 | Photo | 3 | 1 | 4 | 11 |  0 |  4156 |  7564 |  626 |  574 |  832 |  4534 |  2452 | 370 |  7 |  91 | 38 | 136 |\n",
       "| 81370 | Photo | 2 | 1 | 4 |  4 | NA |  4188 |  7292 |  564 |  524 |  743 |  3861 |  2200 | 316 |  0 |  91 | 28 | 119 |\n",
       "\n"
      ],
      "text/plain": [
       "    Page total likes Type   Category Post Month Post Weekday Post Hour Paid\n",
       "1   139441           Photo  2        12         4             3        0   \n",
       "2   139441           Status 2        12         3            10        0   \n",
       "3   139441           Photo  3        12         3             3        0   \n",
       "4   139441           Photo  2        12         2            10        1   \n",
       "5   139441           Photo  2        12         2             3        0   \n",
       "6   139441           Status 2        12         1             9        0   \n",
       "7   139441           Photo  3        12         1             3        1   \n",
       "8   139441           Photo  3        12         7             9        1   \n",
       "⋮   ⋮                ⋮      ⋮        ⋮          ⋮            ⋮         ⋮   \n",
       "493 85979            Link   1        1          5            11         0  \n",
       "494 85093            Photo  3        1          1             2         0  \n",
       "495 85093            Photo  3        1          7            10         0  \n",
       "496 85093            Photo  3        1          7             2         0  \n",
       "497 81370            Photo  2        1          5             8         0  \n",
       "498 81370            Photo  1        1          5             2         0  \n",
       "499 81370            Photo  3        1          4            11         0  \n",
       "500 81370            Photo  2        1          4             4        NA  \n",
       "    Lifetime Post Total Reach Lifetime Post Total Impressions\n",
       "1    2752                      5091                          \n",
       "2   10460                     19057                          \n",
       "3    2413                      4373                          \n",
       "4   50128                     87991                          \n",
       "5    7244                     13594                          \n",
       "6   10472                     20849                          \n",
       "7   11692                     19479                          \n",
       "8   13720                     24137                          \n",
       "⋮   ⋮                         ⋮                              \n",
       "493 45920                      5808                          \n",
       "494  8412                     13960                          \n",
       "495  5400                      9218                          \n",
       "496  4684                      7536                          \n",
       "497  3480                      6229                          \n",
       "498  3778                      7216                          \n",
       "499  4156                      7564                          \n",
       "500  4188                      7292                          \n",
       "    Lifetime Engaged Users Lifetime Post Consumers Lifetime Post Consumptions\n",
       "1    178                    109                     159                      \n",
       "2   1457                   1361                    1674                      \n",
       "3    177                    113                     154                      \n",
       "4   2211                    790                    1119                      \n",
       "5    671                    410                     580                      \n",
       "6   1191                   1073                    1389                      \n",
       "7    481                    265                     364                      \n",
       "8    537                    232                     305                      \n",
       "⋮   ⋮                      ⋮                       ⋮                         \n",
       "493  753                    655                     763                      \n",
       "494 1179                   1111                    1632                      \n",
       "495  810                    756                    1003                      \n",
       "496  733                    708                     985                      \n",
       "497  537                    508                     687                      \n",
       "498  625                    572                     795                      \n",
       "499  626                    574                     832                      \n",
       "500  564                    524                     743                      \n",
       "    Lifetime Post Impressions by people who have liked your Page\n",
       "1    3078                                                       \n",
       "2   11710                                                       \n",
       "3    2812                                                       \n",
       "4   61027                                                       \n",
       "5    6228                                                       \n",
       "6   16034                                                       \n",
       "7   15432                                                       \n",
       "8   19728                                                       \n",
       "⋮   ⋮                                                           \n",
       "493 15766                                                       \n",
       "494  8632                                                       \n",
       "495  5654                                                       \n",
       "496  4750                                                       \n",
       "497  3961                                                       \n",
       "498  4742                                                       \n",
       "499  4534                                                       \n",
       "500  3861                                                       \n",
       "    Lifetime Post reach by people who like your Page\n",
       "1    1640                                           \n",
       "2    6112                                           \n",
       "3    1503                                           \n",
       "4   32048                                           \n",
       "5    3200                                           \n",
       "6    7852                                           \n",
       "7    9328                                           \n",
       "8   11056                                           \n",
       "⋮   ⋮                                               \n",
       "493 10720                                           \n",
       "494  5348                                           \n",
       "495  3230                                           \n",
       "496  2876                                           \n",
       "497  2104                                           \n",
       "498  2388                                           \n",
       "499  2452                                           \n",
       "500  2200                                           \n",
       "    Lifetime People who have liked your Page and engaged with your post comment\n",
       "1    119                                                                 4     \n",
       "2   1108                                                                 5     \n",
       "3    132                                                                 0     \n",
       "4   1386                                                                58     \n",
       "5    396                                                                19     \n",
       "6   1016                                                                 1     \n",
       "7    379                                                                 3     \n",
       "8    422                                                                 0     \n",
       "⋮   ⋮                                                                   ⋮      \n",
       "493 220                                                                  0     \n",
       "494 699                                                                 17     \n",
       "495 422                                                                 10     \n",
       "496 392                                                                  5     \n",
       "497 301                                                                  0     \n",
       "498 363                                                                  4     \n",
       "499 370                                                                  7     \n",
       "500 316                                                                  0     \n",
       "    like share Total Interactions\n",
       "1     79  17    100              \n",
       "2    130  29    164              \n",
       "3     66  14     80              \n",
       "4   1572 147   1777              \n",
       "5    325  49    393              \n",
       "6    152  33    186              \n",
       "7    249  27    279              \n",
       "8    325  14    339              \n",
       "⋮   ⋮    ⋮     ⋮                 \n",
       "493 128   9    137               \n",
       "494 185  55    257               \n",
       "495 125  41    176               \n",
       "496  53  26     84               \n",
       "497  53  22     75               \n",
       "498  93  18    115               \n",
       "499  91  38    136               \n",
       "500  91  28    119               "
      ]
     },
     "metadata": {},
     "output_type": "display_data"
    },
    {
     "data": {
      "text/html": [
       "6"
      ],
      "text/latex": [
       "6"
      ],
      "text/markdown": [
       "6"
      ],
      "text/plain": [
       "[1] 6"
      ]
     },
     "metadata": {},
     "output_type": "display_data"
    }
   ],
   "source": [
    "# displays first and last 8 rows of the dataset\n",
    "options(repr.matrix.max.rows = 16)\n",
    "# Set the seed\n",
    "set.seed(123)\n",
    "\n",
    "# The original dataset was contained in a zip file,\n",
    "# we extracted and pushed the file to Github repository.\n",
    "# Load the data in\n",
    "fb_data_raw <- read_csv2(\"https://gist.githubusercontent.com/KolCrooks/691e5890b6747b4777d6032f019b2c0f/raw/20629a5da3d5a7683e3071798876f3e4b204fbbb/fb_data.csv\",  col_types = cols())\n",
    "fb_data_raw\n",
    "\n",
    "# NA Rows:\n",
    "sum(is.na(fb_data_raw))"
   ]
  },
  {
   "cell_type": "markdown",
   "metadata": {},
   "source": [
    "The dataset is already in tidy format. The column headings were made more usable by removing spaces and shortening longer headings. We find that we have 6 NAs in our data set, so we use `na.omit` function to remove them. Secondly, we set our target, `type`, as a factor. In addition, we need to give those columns readable names."
   ]
  },
  {
   "cell_type": "code",
   "execution_count": 4,
   "metadata": {},
   "outputs": [
    {
     "data": {
      "text/html": [
       "<table>\n",
       "<caption>A tibble: 495 × 19</caption>\n",
       "<thead>\n",
       "\t<tr><th scope=col>page_likes</th><th scope=col>type</th><th scope=col>category</th><th scope=col>post_month</th><th scope=col>post_weekday</th><th scope=col>post_hour</th><th scope=col>paid</th><th scope=col>reach</th><th scope=col>impressions</th><th scope=col>engaged_users</th><th scope=col>post_consumers</th><th scope=col>post_consumptions</th><th scope=col>impressions_by_people_that_liked_page</th><th scope=col>reach_by_people_that_like_page</th><th scope=col>people_liked_and_engaged</th><th scope=col>comments</th><th scope=col>likes</th><th scope=col>shares</th><th scope=col>interactions</th></tr>\n",
       "\t<tr><th scope=col>&lt;dbl&gt;</th><th scope=col>&lt;fct&gt;</th><th scope=col>&lt;dbl&gt;</th><th scope=col>&lt;dbl&gt;</th><th scope=col>&lt;dbl&gt;</th><th scope=col>&lt;dbl&gt;</th><th scope=col>&lt;dbl&gt;</th><th scope=col>&lt;dbl&gt;</th><th scope=col>&lt;dbl&gt;</th><th scope=col>&lt;dbl&gt;</th><th scope=col>&lt;dbl&gt;</th><th scope=col>&lt;dbl&gt;</th><th scope=col>&lt;dbl&gt;</th><th scope=col>&lt;dbl&gt;</th><th scope=col>&lt;dbl&gt;</th><th scope=col>&lt;dbl&gt;</th><th scope=col>&lt;dbl&gt;</th><th scope=col>&lt;dbl&gt;</th><th scope=col>&lt;dbl&gt;</th></tr>\n",
       "</thead>\n",
       "<tbody>\n",
       "\t<tr><td>139441</td><td>Photo </td><td>2</td><td>12</td><td>4</td><td> 3</td><td>0</td><td> 2752</td><td> 5091</td><td> 178</td><td> 109</td><td> 159</td><td> 3078</td><td> 1640</td><td> 119</td><td> 4</td><td>  79</td><td> 17</td><td> 100</td></tr>\n",
       "\t<tr><td>139441</td><td>Status</td><td>2</td><td>12</td><td>3</td><td>10</td><td>0</td><td>10460</td><td>19057</td><td>1457</td><td>1361</td><td>1674</td><td>11710</td><td> 6112</td><td>1108</td><td> 5</td><td> 130</td><td> 29</td><td> 164</td></tr>\n",
       "\t<tr><td>139441</td><td>Photo </td><td>3</td><td>12</td><td>3</td><td> 3</td><td>0</td><td> 2413</td><td> 4373</td><td> 177</td><td> 113</td><td> 154</td><td> 2812</td><td> 1503</td><td> 132</td><td> 0</td><td>  66</td><td> 14</td><td>  80</td></tr>\n",
       "\t<tr><td>139441</td><td>Photo </td><td>2</td><td>12</td><td>2</td><td>10</td><td>1</td><td>50128</td><td>87991</td><td>2211</td><td> 790</td><td>1119</td><td>61027</td><td>32048</td><td>1386</td><td>58</td><td>1572</td><td>147</td><td>1777</td></tr>\n",
       "\t<tr><td>139441</td><td>Photo </td><td>2</td><td>12</td><td>2</td><td> 3</td><td>0</td><td> 7244</td><td>13594</td><td> 671</td><td> 410</td><td> 580</td><td> 6228</td><td> 3200</td><td> 396</td><td>19</td><td> 325</td><td> 49</td><td> 393</td></tr>\n",
       "\t<tr><td>139441</td><td>Status</td><td>2</td><td>12</td><td>1</td><td> 9</td><td>0</td><td>10472</td><td>20849</td><td>1191</td><td>1073</td><td>1389</td><td>16034</td><td> 7852</td><td>1016</td><td> 1</td><td> 152</td><td> 33</td><td> 186</td></tr>\n",
       "\t<tr><td>139441</td><td>Photo </td><td>3</td><td>12</td><td>1</td><td> 3</td><td>1</td><td>11692</td><td>19479</td><td> 481</td><td> 265</td><td> 364</td><td>15432</td><td> 9328</td><td> 379</td><td> 3</td><td> 249</td><td> 27</td><td> 279</td></tr>\n",
       "\t<tr><td>139441</td><td>Photo </td><td>3</td><td>12</td><td>7</td><td> 9</td><td>1</td><td>13720</td><td>24137</td><td> 537</td><td> 232</td><td> 305</td><td>19728</td><td>11056</td><td> 422</td><td> 0</td><td> 325</td><td> 14</td><td> 339</td></tr>\n",
       "\t<tr><td>⋮</td><td>⋮</td><td>⋮</td><td>⋮</td><td>⋮</td><td>⋮</td><td>⋮</td><td>⋮</td><td>⋮</td><td>⋮</td><td>⋮</td><td>⋮</td><td>⋮</td><td>⋮</td><td>⋮</td><td>⋮</td><td>⋮</td><td>⋮</td><td>⋮</td></tr>\n",
       "\t<tr><td>85979</td><td>Photo</td><td>3</td><td>1</td><td>6</td><td> 3</td><td>1</td><td> 6184</td><td>10228</td><td> 956</td><td> 901</td><td>1140</td><td> 6085</td><td> 3502</td><td>437</td><td> 1</td><td>105</td><td>46</td><td>152</td></tr>\n",
       "\t<tr><td>85979</td><td>Link </td><td>1</td><td>1</td><td>5</td><td>11</td><td>0</td><td>45920</td><td> 5808</td><td> 753</td><td> 655</td><td> 763</td><td>15766</td><td>10720</td><td>220</td><td> 0</td><td>128</td><td> 9</td><td>137</td></tr>\n",
       "\t<tr><td>85093</td><td>Photo</td><td>3</td><td>1</td><td>1</td><td> 2</td><td>0</td><td> 8412</td><td>13960</td><td>1179</td><td>1111</td><td>1632</td><td> 8632</td><td> 5348</td><td>699</td><td>17</td><td>185</td><td>55</td><td>257</td></tr>\n",
       "\t<tr><td>85093</td><td>Photo</td><td>3</td><td>1</td><td>7</td><td>10</td><td>0</td><td> 5400</td><td> 9218</td><td> 810</td><td> 756</td><td>1003</td><td> 5654</td><td> 3230</td><td>422</td><td>10</td><td>125</td><td>41</td><td>176</td></tr>\n",
       "\t<tr><td>85093</td><td>Photo</td><td>3</td><td>1</td><td>7</td><td> 2</td><td>0</td><td> 4684</td><td> 7536</td><td> 733</td><td> 708</td><td> 985</td><td> 4750</td><td> 2876</td><td>392</td><td> 5</td><td> 53</td><td>26</td><td> 84</td></tr>\n",
       "\t<tr><td>81370</td><td>Photo</td><td>2</td><td>1</td><td>5</td><td> 8</td><td>0</td><td> 3480</td><td> 6229</td><td> 537</td><td> 508</td><td> 687</td><td> 3961</td><td> 2104</td><td>301</td><td> 0</td><td> 53</td><td>22</td><td> 75</td></tr>\n",
       "\t<tr><td>81370</td><td>Photo</td><td>1</td><td>1</td><td>5</td><td> 2</td><td>0</td><td> 3778</td><td> 7216</td><td> 625</td><td> 572</td><td> 795</td><td> 4742</td><td> 2388</td><td>363</td><td> 4</td><td> 93</td><td>18</td><td>115</td></tr>\n",
       "\t<tr><td>81370</td><td>Photo</td><td>3</td><td>1</td><td>4</td><td>11</td><td>0</td><td> 4156</td><td> 7564</td><td> 626</td><td> 574</td><td> 832</td><td> 4534</td><td> 2452</td><td>370</td><td> 7</td><td> 91</td><td>38</td><td>136</td></tr>\n",
       "</tbody>\n",
       "</table>\n"
      ],
      "text/latex": [
       "A tibble: 495 × 19\n",
       "\\begin{tabular}{lllllllllllllllllll}\n",
       " page\\_likes & type & category & post\\_month & post\\_weekday & post\\_hour & paid & reach & impressions & engaged\\_users & post\\_consumers & post\\_consumptions & impressions\\_by\\_people\\_that\\_liked\\_page & reach\\_by\\_people\\_that\\_like\\_page & people\\_liked\\_and\\_engaged & comments & likes & shares & interactions\\\\\n",
       " <dbl> & <fct> & <dbl> & <dbl> & <dbl> & <dbl> & <dbl> & <dbl> & <dbl> & <dbl> & <dbl> & <dbl> & <dbl> & <dbl> & <dbl> & <dbl> & <dbl> & <dbl> & <dbl>\\\\\n",
       "\\hline\n",
       "\t 139441 & Photo  & 2 & 12 & 4 &  3 & 0 &  2752 &  5091 &  178 &  109 &  159 &  3078 &  1640 &  119 &  4 &   79 &  17 &  100\\\\\n",
       "\t 139441 & Status & 2 & 12 & 3 & 10 & 0 & 10460 & 19057 & 1457 & 1361 & 1674 & 11710 &  6112 & 1108 &  5 &  130 &  29 &  164\\\\\n",
       "\t 139441 & Photo  & 3 & 12 & 3 &  3 & 0 &  2413 &  4373 &  177 &  113 &  154 &  2812 &  1503 &  132 &  0 &   66 &  14 &   80\\\\\n",
       "\t 139441 & Photo  & 2 & 12 & 2 & 10 & 1 & 50128 & 87991 & 2211 &  790 & 1119 & 61027 & 32048 & 1386 & 58 & 1572 & 147 & 1777\\\\\n",
       "\t 139441 & Photo  & 2 & 12 & 2 &  3 & 0 &  7244 & 13594 &  671 &  410 &  580 &  6228 &  3200 &  396 & 19 &  325 &  49 &  393\\\\\n",
       "\t 139441 & Status & 2 & 12 & 1 &  9 & 0 & 10472 & 20849 & 1191 & 1073 & 1389 & 16034 &  7852 & 1016 &  1 &  152 &  33 &  186\\\\\n",
       "\t 139441 & Photo  & 3 & 12 & 1 &  3 & 1 & 11692 & 19479 &  481 &  265 &  364 & 15432 &  9328 &  379 &  3 &  249 &  27 &  279\\\\\n",
       "\t 139441 & Photo  & 3 & 12 & 7 &  9 & 1 & 13720 & 24137 &  537 &  232 &  305 & 19728 & 11056 &  422 &  0 &  325 &  14 &  339\\\\\n",
       "\t ⋮ & ⋮ & ⋮ & ⋮ & ⋮ & ⋮ & ⋮ & ⋮ & ⋮ & ⋮ & ⋮ & ⋮ & ⋮ & ⋮ & ⋮ & ⋮ & ⋮ & ⋮ & ⋮\\\\\n",
       "\t 85979 & Photo & 3 & 1 & 6 &  3 & 1 &  6184 & 10228 &  956 &  901 & 1140 &  6085 &  3502 & 437 &  1 & 105 & 46 & 152\\\\\n",
       "\t 85979 & Link  & 1 & 1 & 5 & 11 & 0 & 45920 &  5808 &  753 &  655 &  763 & 15766 & 10720 & 220 &  0 & 128 &  9 & 137\\\\\n",
       "\t 85093 & Photo & 3 & 1 & 1 &  2 & 0 &  8412 & 13960 & 1179 & 1111 & 1632 &  8632 &  5348 & 699 & 17 & 185 & 55 & 257\\\\\n",
       "\t 85093 & Photo & 3 & 1 & 7 & 10 & 0 &  5400 &  9218 &  810 &  756 & 1003 &  5654 &  3230 & 422 & 10 & 125 & 41 & 176\\\\\n",
       "\t 85093 & Photo & 3 & 1 & 7 &  2 & 0 &  4684 &  7536 &  733 &  708 &  985 &  4750 &  2876 & 392 &  5 &  53 & 26 &  84\\\\\n",
       "\t 81370 & Photo & 2 & 1 & 5 &  8 & 0 &  3480 &  6229 &  537 &  508 &  687 &  3961 &  2104 & 301 &  0 &  53 & 22 &  75\\\\\n",
       "\t 81370 & Photo & 1 & 1 & 5 &  2 & 0 &  3778 &  7216 &  625 &  572 &  795 &  4742 &  2388 & 363 &  4 &  93 & 18 & 115\\\\\n",
       "\t 81370 & Photo & 3 & 1 & 4 & 11 & 0 &  4156 &  7564 &  626 &  574 &  832 &  4534 &  2452 & 370 &  7 &  91 & 38 & 136\\\\\n",
       "\\end{tabular}\n"
      ],
      "text/markdown": [
       "\n",
       "A tibble: 495 × 19\n",
       "\n",
       "| page_likes &lt;dbl&gt; | type &lt;fct&gt; | category &lt;dbl&gt; | post_month &lt;dbl&gt; | post_weekday &lt;dbl&gt; | post_hour &lt;dbl&gt; | paid &lt;dbl&gt; | reach &lt;dbl&gt; | impressions &lt;dbl&gt; | engaged_users &lt;dbl&gt; | post_consumers &lt;dbl&gt; | post_consumptions &lt;dbl&gt; | impressions_by_people_that_liked_page &lt;dbl&gt; | reach_by_people_that_like_page &lt;dbl&gt; | people_liked_and_engaged &lt;dbl&gt; | comments &lt;dbl&gt; | likes &lt;dbl&gt; | shares &lt;dbl&gt; | interactions &lt;dbl&gt; |\n",
       "|---|---|---|---|---|---|---|---|---|---|---|---|---|---|---|---|---|---|---|\n",
       "| 139441 | Photo  | 2 | 12 | 4 |  3 | 0 |  2752 |  5091 |  178 |  109 |  159 |  3078 |  1640 |  119 |  4 |   79 |  17 |  100 |\n",
       "| 139441 | Status | 2 | 12 | 3 | 10 | 0 | 10460 | 19057 | 1457 | 1361 | 1674 | 11710 |  6112 | 1108 |  5 |  130 |  29 |  164 |\n",
       "| 139441 | Photo  | 3 | 12 | 3 |  3 | 0 |  2413 |  4373 |  177 |  113 |  154 |  2812 |  1503 |  132 |  0 |   66 |  14 |   80 |\n",
       "| 139441 | Photo  | 2 | 12 | 2 | 10 | 1 | 50128 | 87991 | 2211 |  790 | 1119 | 61027 | 32048 | 1386 | 58 | 1572 | 147 | 1777 |\n",
       "| 139441 | Photo  | 2 | 12 | 2 |  3 | 0 |  7244 | 13594 |  671 |  410 |  580 |  6228 |  3200 |  396 | 19 |  325 |  49 |  393 |\n",
       "| 139441 | Status | 2 | 12 | 1 |  9 | 0 | 10472 | 20849 | 1191 | 1073 | 1389 | 16034 |  7852 | 1016 |  1 |  152 |  33 |  186 |\n",
       "| 139441 | Photo  | 3 | 12 | 1 |  3 | 1 | 11692 | 19479 |  481 |  265 |  364 | 15432 |  9328 |  379 |  3 |  249 |  27 |  279 |\n",
       "| 139441 | Photo  | 3 | 12 | 7 |  9 | 1 | 13720 | 24137 |  537 |  232 |  305 | 19728 | 11056 |  422 |  0 |  325 |  14 |  339 |\n",
       "| ⋮ | ⋮ | ⋮ | ⋮ | ⋮ | ⋮ | ⋮ | ⋮ | ⋮ | ⋮ | ⋮ | ⋮ | ⋮ | ⋮ | ⋮ | ⋮ | ⋮ | ⋮ | ⋮ |\n",
       "| 85979 | Photo | 3 | 1 | 6 |  3 | 1 |  6184 | 10228 |  956 |  901 | 1140 |  6085 |  3502 | 437 |  1 | 105 | 46 | 152 |\n",
       "| 85979 | Link  | 1 | 1 | 5 | 11 | 0 | 45920 |  5808 |  753 |  655 |  763 | 15766 | 10720 | 220 |  0 | 128 |  9 | 137 |\n",
       "| 85093 | Photo | 3 | 1 | 1 |  2 | 0 |  8412 | 13960 | 1179 | 1111 | 1632 |  8632 |  5348 | 699 | 17 | 185 | 55 | 257 |\n",
       "| 85093 | Photo | 3 | 1 | 7 | 10 | 0 |  5400 |  9218 |  810 |  756 | 1003 |  5654 |  3230 | 422 | 10 | 125 | 41 | 176 |\n",
       "| 85093 | Photo | 3 | 1 | 7 |  2 | 0 |  4684 |  7536 |  733 |  708 |  985 |  4750 |  2876 | 392 |  5 |  53 | 26 |  84 |\n",
       "| 81370 | Photo | 2 | 1 | 5 |  8 | 0 |  3480 |  6229 |  537 |  508 |  687 |  3961 |  2104 | 301 |  0 |  53 | 22 |  75 |\n",
       "| 81370 | Photo | 1 | 1 | 5 |  2 | 0 |  3778 |  7216 |  625 |  572 |  795 |  4742 |  2388 | 363 |  4 |  93 | 18 | 115 |\n",
       "| 81370 | Photo | 3 | 1 | 4 | 11 | 0 |  4156 |  7564 |  626 |  574 |  832 |  4534 |  2452 | 370 |  7 |  91 | 38 | 136 |\n",
       "\n"
      ],
      "text/plain": [
       "    page_likes type   category post_month post_weekday post_hour paid reach\n",
       "1   139441     Photo  2        12         4             3        0     2752\n",
       "2   139441     Status 2        12         3            10        0    10460\n",
       "3   139441     Photo  3        12         3             3        0     2413\n",
       "4   139441     Photo  2        12         2            10        1    50128\n",
       "5   139441     Photo  2        12         2             3        0     7244\n",
       "6   139441     Status 2        12         1             9        0    10472\n",
       "7   139441     Photo  3        12         1             3        1    11692\n",
       "8   139441     Photo  3        12         7             9        1    13720\n",
       "⋮   ⋮          ⋮      ⋮        ⋮          ⋮            ⋮         ⋮    ⋮    \n",
       "488 85979      Photo  3        1          6             3        1     6184\n",
       "489 85979      Link   1        1          5            11        0    45920\n",
       "490 85093      Photo  3        1          1             2        0     8412\n",
       "491 85093      Photo  3        1          7            10        0     5400\n",
       "492 85093      Photo  3        1          7             2        0     4684\n",
       "493 81370      Photo  2        1          5             8        0     3480\n",
       "494 81370      Photo  1        1          5             2        0     3778\n",
       "495 81370      Photo  3        1          4            11        0     4156\n",
       "    impressions engaged_users post_consumers post_consumptions\n",
       "1    5091        178           109            159             \n",
       "2   19057       1457          1361           1674             \n",
       "3    4373        177           113            154             \n",
       "4   87991       2211           790           1119             \n",
       "5   13594        671           410            580             \n",
       "6   20849       1191          1073           1389             \n",
       "7   19479        481           265            364             \n",
       "8   24137        537           232            305             \n",
       "⋮   ⋮           ⋮             ⋮              ⋮                \n",
       "488 10228        956           901           1140             \n",
       "489  5808        753           655            763             \n",
       "490 13960       1179          1111           1632             \n",
       "491  9218        810           756           1003             \n",
       "492  7536        733           708            985             \n",
       "493  6229        537           508            687             \n",
       "494  7216        625           572            795             \n",
       "495  7564        626           574            832             \n",
       "    impressions_by_people_that_liked_page reach_by_people_that_like_page\n",
       "1    3078                                  1640                         \n",
       "2   11710                                  6112                         \n",
       "3    2812                                  1503                         \n",
       "4   61027                                 32048                         \n",
       "5    6228                                  3200                         \n",
       "6   16034                                  7852                         \n",
       "7   15432                                  9328                         \n",
       "8   19728                                 11056                         \n",
       "⋮   ⋮                                     ⋮                             \n",
       "488  6085                                  3502                         \n",
       "489 15766                                 10720                         \n",
       "490  8632                                  5348                         \n",
       "491  5654                                  3230                         \n",
       "492  4750                                  2876                         \n",
       "493  3961                                  2104                         \n",
       "494  4742                                  2388                         \n",
       "495  4534                                  2452                         \n",
       "    people_liked_and_engaged comments likes shares interactions\n",
       "1    119                      4         79   17     100        \n",
       "2   1108                      5        130   29     164        \n",
       "3    132                      0         66   14      80        \n",
       "4   1386                     58       1572  147    1777        \n",
       "5    396                     19        325   49     393        \n",
       "6   1016                      1        152   33     186        \n",
       "7    379                      3        249   27     279        \n",
       "8    422                      0        325   14     339        \n",
       "⋮   ⋮                        ⋮        ⋮     ⋮      ⋮           \n",
       "488 437                       1       105   46     152         \n",
       "489 220                       0       128    9     137         \n",
       "490 699                      17       185   55     257         \n",
       "491 422                      10       125   41     176         \n",
       "492 392                       5        53   26      84         \n",
       "493 301                       0        53   22      75         \n",
       "494 363                       4        93   18     115         \n",
       "495 370                       7        91   38     136         "
      ]
     },
     "metadata": {},
     "output_type": "display_data"
    }
   ],
   "source": [
    "# Clean the data, change column names, and convert some columns to factors:\n",
    "fb_data_clean_cols <- fb_data_raw\n",
    "colnames(fb_data_clean_cols) <- c(\"page_likes\", \"type\", \"category\", \"post_month\", \"post_weekday\", \"post_hour\", \"paid\", \"reach\", \n",
    "      \"impressions\", \"engaged_users\", \"post_consumers\", \"post_consumptions\", \"impressions_by_people_that_liked_page\", \n",
    "      \"reach_by_people_that_like_page\", \"people_liked_and_engaged\", \"comments\", \"likes\", \"shares\", \"interactions\")\n",
    "fb_data_clean <- fb_data_clean_cols %>% \n",
    "        mutate(type = as_factor(type)) %>% \n",
    "#         mutate(category = as_factor(category)) %>% \n",
    "#         mutate(post_month = as_factor(post_month)) %>% \n",
    "#         mutate(post_weekday = as_factor(post_weekday)) %>% \n",
    "#         mutate(post_hour = as_factor(post_hour)) %>% \n",
    "#         mutate(paid = as_factor(paid)) %>% \n",
    "        na.omit()\n",
    "\n",
    "fb_data_clean"
   ]
  },
  {
   "cell_type": "markdown",
   "metadata": {},
   "source": [
    "Here, we split our data set into a training set and a testing set using the `initial_split` function. We do this so that we can train our KNN classifier using only the training set; then, to evaluate the accuracy of the classifier, we can use it to predict the posts' types (which we know) in the test set. Typically, we choose 50% ~100% of the data as traning set. In order to train a more accurate model while still having an accurate evaluation of its performance, we allocate 75% of our data for training and reserve 25% for testing. As we want to classify post type as our target variable, we pass `type` as the `strata` argument in `initial_split`. "
   ]
  },
  {
   "cell_type": "code",
   "execution_count": 4,
   "metadata": {},
   "outputs": [
    {
     "data": {
      "text/html": [
       "372"
      ],
      "text/latex": [
       "372"
      ],
      "text/markdown": [
       "372"
      ],
      "text/plain": [
       "[1] 372"
      ]
     },
     "metadata": {},
     "output_type": "display_data"
    },
    {
     "data": {
      "text/html": [
       "123"
      ],
      "text/latex": [
       "123"
      ],
      "text/markdown": [
       "123"
      ],
      "text/plain": [
       "[1] 123"
      ]
     },
     "metadata": {},
     "output_type": "display_data"
    }
   ],
   "source": [
    "# Split the data:\n",
    "fb_split <- initial_split(fb_data_clean, prop = 0.75, strata = type)\n",
    "fb_train <- training(fb_split)\n",
    "fb_test <- testing(fb_split)\n",
    "\n",
    "# ensure fb_train and fb_test contain 75% and 25% of data, respectively\n",
    "nrow(fb_train)\n",
    "nrow(fb_test)"
   ]
  },
  {
   "cell_type": "markdown",
   "metadata": {},
   "source": [
    "#### Selecting our predictors:\n",
    "\n",
    "To figure out which predictors to use, we use `ggpairs` to determine how well each column can predict post type. To do this we will compare each post type's box plot with that of the potential predictor.  Before using ggpairs, we want to take out the columns that we already know will not work; this will reduce clutter in the plot while allowing us to more accurately compare the remaing predictors.\n",
    "\n",
    "The columns we know we cannot use as predictors are categorical data: the time-based columns `post_month`, `post_weekday`, and `post_hour`, and the columns `category` and `paid`. We perform these adjustments to both the training set and the testing set, to ensure that we do not end up with differing columns that will affect the results or interpretation of our model."
   ]
  },
  {
   "cell_type": "code",
   "execution_count": 5,
   "metadata": {},
   "outputs": [
    {
     "data": {
      "text/html": [
       "<style>\n",
       ".list-inline {list-style: none; margin:0; padding: 0}\n",
       ".list-inline>li {display: inline-block}\n",
       ".list-inline>li:not(:last-child)::after {content: \"\\00b7\"; padding: 0 .5ex}\n",
       "</style>\n",
       "<ol class=list-inline><li>'page_likes'</li><li>'type'</li><li>'category'</li><li>'post_month'</li><li>'post_weekday'</li><li>'post_hour'</li><li>'paid'</li><li>'reach'</li><li>'impressions'</li><li>'engaged_users'</li><li>'post_consumers'</li><li>'post_consumptions'</li><li>'impressions_by_people_that_liked_page'</li><li>'reach_by_people_that_like_page'</li><li>'people_liked_and_engaged'</li><li>'comments'</li><li>'likes'</li><li>'shares'</li><li>'interactions'</li></ol>\n"
      ],
      "text/latex": [
       "\\begin{enumerate*}\n",
       "\\item 'page\\_likes'\n",
       "\\item 'type'\n",
       "\\item 'category'\n",
       "\\item 'post\\_month'\n",
       "\\item 'post\\_weekday'\n",
       "\\item 'post\\_hour'\n",
       "\\item 'paid'\n",
       "\\item 'reach'\n",
       "\\item 'impressions'\n",
       "\\item 'engaged\\_users'\n",
       "\\item 'post\\_consumers'\n",
       "\\item 'post\\_consumptions'\n",
       "\\item 'impressions\\_by\\_people\\_that\\_liked\\_page'\n",
       "\\item 'reach\\_by\\_people\\_that\\_like\\_page'\n",
       "\\item 'people\\_liked\\_and\\_engaged'\n",
       "\\item 'comments'\n",
       "\\item 'likes'\n",
       "\\item 'shares'\n",
       "\\item 'interactions'\n",
       "\\end{enumerate*}\n"
      ],
      "text/markdown": [
       "1. 'page_likes'\n",
       "2. 'type'\n",
       "3. 'category'\n",
       "4. 'post_month'\n",
       "5. 'post_weekday'\n",
       "6. 'post_hour'\n",
       "7. 'paid'\n",
       "8. 'reach'\n",
       "9. 'impressions'\n",
       "10. 'engaged_users'\n",
       "11. 'post_consumers'\n",
       "12. 'post_consumptions'\n",
       "13. 'impressions_by_people_that_liked_page'\n",
       "14. 'reach_by_people_that_like_page'\n",
       "15. 'people_liked_and_engaged'\n",
       "16. 'comments'\n",
       "17. 'likes'\n",
       "18. 'shares'\n",
       "19. 'interactions'\n",
       "\n",
       "\n"
      ],
      "text/plain": [
       " [1] \"page_likes\"                           \n",
       " [2] \"type\"                                 \n",
       " [3] \"category\"                             \n",
       " [4] \"post_month\"                           \n",
       " [5] \"post_weekday\"                         \n",
       " [6] \"post_hour\"                            \n",
       " [7] \"paid\"                                 \n",
       " [8] \"reach\"                                \n",
       " [9] \"impressions\"                          \n",
       "[10] \"engaged_users\"                        \n",
       "[11] \"post_consumers\"                       \n",
       "[12] \"post_consumptions\"                    \n",
       "[13] \"impressions_by_people_that_liked_page\"\n",
       "[14] \"reach_by_people_that_like_page\"       \n",
       "[15] \"people_liked_and_engaged\"             \n",
       "[16] \"comments\"                             \n",
       "[17] \"likes\"                                \n",
       "[18] \"shares\"                               \n",
       "[19] \"interactions\"                         "
      ]
     },
     "metadata": {},
     "output_type": "display_data"
    },
    {
     "data": {
      "text/html": [
       "<style>\n",
       ".list-inline {list-style: none; margin:0; padding: 0}\n",
       ".list-inline>li {display: inline-block}\n",
       ".list-inline>li:not(:last-child)::after {content: \"\\00b7\"; padding: 0 .5ex}\n",
       "</style>\n",
       "<ol class=list-inline><li>'page_likes'</li><li>'type'</li><li>'category'</li><li>'post_month'</li><li>'post_weekday'</li><li>'post_hour'</li><li>'paid'</li><li>'reach'</li><li>'impressions'</li><li>'engaged_users'</li><li>'post_consumers'</li><li>'post_consumptions'</li><li>'impressions_by_people_that_liked_page'</li><li>'reach_by_people_that_like_page'</li><li>'people_liked_and_engaged'</li><li>'comments'</li><li>'likes'</li><li>'shares'</li><li>'interactions'</li></ol>\n"
      ],
      "text/latex": [
       "\\begin{enumerate*}\n",
       "\\item 'page\\_likes'\n",
       "\\item 'type'\n",
       "\\item 'category'\n",
       "\\item 'post\\_month'\n",
       "\\item 'post\\_weekday'\n",
       "\\item 'post\\_hour'\n",
       "\\item 'paid'\n",
       "\\item 'reach'\n",
       "\\item 'impressions'\n",
       "\\item 'engaged\\_users'\n",
       "\\item 'post\\_consumers'\n",
       "\\item 'post\\_consumptions'\n",
       "\\item 'impressions\\_by\\_people\\_that\\_liked\\_page'\n",
       "\\item 'reach\\_by\\_people\\_that\\_like\\_page'\n",
       "\\item 'people\\_liked\\_and\\_engaged'\n",
       "\\item 'comments'\n",
       "\\item 'likes'\n",
       "\\item 'shares'\n",
       "\\item 'interactions'\n",
       "\\end{enumerate*}\n"
      ],
      "text/markdown": [
       "1. 'page_likes'\n",
       "2. 'type'\n",
       "3. 'category'\n",
       "4. 'post_month'\n",
       "5. 'post_weekday'\n",
       "6. 'post_hour'\n",
       "7. 'paid'\n",
       "8. 'reach'\n",
       "9. 'impressions'\n",
       "10. 'engaged_users'\n",
       "11. 'post_consumers'\n",
       "12. 'post_consumptions'\n",
       "13. 'impressions_by_people_that_liked_page'\n",
       "14. 'reach_by_people_that_like_page'\n",
       "15. 'people_liked_and_engaged'\n",
       "16. 'comments'\n",
       "17. 'likes'\n",
       "18. 'shares'\n",
       "19. 'interactions'\n",
       "\n",
       "\n"
      ],
      "text/plain": [
       " [1] \"page_likes\"                           \n",
       " [2] \"type\"                                 \n",
       " [3] \"category\"                             \n",
       " [4] \"post_month\"                           \n",
       " [5] \"post_weekday\"                         \n",
       " [6] \"post_hour\"                            \n",
       " [7] \"paid\"                                 \n",
       " [8] \"reach\"                                \n",
       " [9] \"impressions\"                          \n",
       "[10] \"engaged_users\"                        \n",
       "[11] \"post_consumers\"                       \n",
       "[12] \"post_consumptions\"                    \n",
       "[13] \"impressions_by_people_that_liked_page\"\n",
       "[14] \"reach_by_people_that_like_page\"       \n",
       "[15] \"people_liked_and_engaged\"             \n",
       "[16] \"comments\"                             \n",
       "[17] \"likes\"                                \n",
       "[18] \"shares\"                               \n",
       "[19] \"interactions\"                         "
      ]
     },
     "metadata": {},
     "output_type": "display_data"
    }
   ],
   "source": [
    "# Columns before selection\n",
    "colnames(fb_train)\n",
    "\n",
    "colnames(fb_test)"
   ]
  },
  {
   "cell_type": "code",
   "execution_count": 6,
   "metadata": {},
   "outputs": [
    {
     "data": {
      "text/html": [
       "<style>\n",
       ".list-inline {list-style: none; margin:0; padding: 0}\n",
       ".list-inline>li {display: inline-block}\n",
       ".list-inline>li:not(:last-child)::after {content: \"\\00b7\"; padding: 0 .5ex}\n",
       "</style>\n",
       "<ol class=list-inline><li>'type'</li><li>'page_likes'</li><li>'reach'</li><li>'impressions'</li><li>'engaged_users'</li><li>'post_consumers'</li><li>'post_consumptions'</li><li>'impressions_by_people_that_liked_page'</li><li>'reach_by_people_that_like_page'</li><li>'people_liked_and_engaged'</li><li>'comments'</li><li>'likes'</li><li>'shares'</li><li>'interactions'</li></ol>\n"
      ],
      "text/latex": [
       "\\begin{enumerate*}\n",
       "\\item 'type'\n",
       "\\item 'page\\_likes'\n",
       "\\item 'reach'\n",
       "\\item 'impressions'\n",
       "\\item 'engaged\\_users'\n",
       "\\item 'post\\_consumers'\n",
       "\\item 'post\\_consumptions'\n",
       "\\item 'impressions\\_by\\_people\\_that\\_liked\\_page'\n",
       "\\item 'reach\\_by\\_people\\_that\\_like\\_page'\n",
       "\\item 'people\\_liked\\_and\\_engaged'\n",
       "\\item 'comments'\n",
       "\\item 'likes'\n",
       "\\item 'shares'\n",
       "\\item 'interactions'\n",
       "\\end{enumerate*}\n"
      ],
      "text/markdown": [
       "1. 'type'\n",
       "2. 'page_likes'\n",
       "3. 'reach'\n",
       "4. 'impressions'\n",
       "5. 'engaged_users'\n",
       "6. 'post_consumers'\n",
       "7. 'post_consumptions'\n",
       "8. 'impressions_by_people_that_liked_page'\n",
       "9. 'reach_by_people_that_like_page'\n",
       "10. 'people_liked_and_engaged'\n",
       "11. 'comments'\n",
       "12. 'likes'\n",
       "13. 'shares'\n",
       "14. 'interactions'\n",
       "\n",
       "\n"
      ],
      "text/plain": [
       " [1] \"type\"                                 \n",
       " [2] \"page_likes\"                           \n",
       " [3] \"reach\"                                \n",
       " [4] \"impressions\"                          \n",
       " [5] \"engaged_users\"                        \n",
       " [6] \"post_consumers\"                       \n",
       " [7] \"post_consumptions\"                    \n",
       " [8] \"impressions_by_people_that_liked_page\"\n",
       " [9] \"reach_by_people_that_like_page\"       \n",
       "[10] \"people_liked_and_engaged\"             \n",
       "[11] \"comments\"                             \n",
       "[12] \"likes\"                                \n",
       "[13] \"shares\"                               \n",
       "[14] \"interactions\"                         "
      ]
     },
     "metadata": {},
     "output_type": "display_data"
    },
    {
     "data": {
      "text/html": [
       "<style>\n",
       ".list-inline {list-style: none; margin:0; padding: 0}\n",
       ".list-inline>li {display: inline-block}\n",
       ".list-inline>li:not(:last-child)::after {content: \"\\00b7\"; padding: 0 .5ex}\n",
       "</style>\n",
       "<ol class=list-inline><li>'type'</li><li>'page_likes'</li><li>'reach'</li><li>'impressions'</li><li>'engaged_users'</li><li>'post_consumers'</li><li>'post_consumptions'</li><li>'impressions_by_people_that_liked_page'</li><li>'reach_by_people_that_like_page'</li><li>'people_liked_and_engaged'</li><li>'comments'</li><li>'likes'</li><li>'shares'</li><li>'interactions'</li></ol>\n"
      ],
      "text/latex": [
       "\\begin{enumerate*}\n",
       "\\item 'type'\n",
       "\\item 'page\\_likes'\n",
       "\\item 'reach'\n",
       "\\item 'impressions'\n",
       "\\item 'engaged\\_users'\n",
       "\\item 'post\\_consumers'\n",
       "\\item 'post\\_consumptions'\n",
       "\\item 'impressions\\_by\\_people\\_that\\_liked\\_page'\n",
       "\\item 'reach\\_by\\_people\\_that\\_like\\_page'\n",
       "\\item 'people\\_liked\\_and\\_engaged'\n",
       "\\item 'comments'\n",
       "\\item 'likes'\n",
       "\\item 'shares'\n",
       "\\item 'interactions'\n",
       "\\end{enumerate*}\n"
      ],
      "text/markdown": [
       "1. 'type'\n",
       "2. 'page_likes'\n",
       "3. 'reach'\n",
       "4. 'impressions'\n",
       "5. 'engaged_users'\n",
       "6. 'post_consumers'\n",
       "7. 'post_consumptions'\n",
       "8. 'impressions_by_people_that_liked_page'\n",
       "9. 'reach_by_people_that_like_page'\n",
       "10. 'people_liked_and_engaged'\n",
       "11. 'comments'\n",
       "12. 'likes'\n",
       "13. 'shares'\n",
       "14. 'interactions'\n",
       "\n",
       "\n"
      ],
      "text/plain": [
       " [1] \"type\"                                 \n",
       " [2] \"page_likes\"                           \n",
       " [3] \"reach\"                                \n",
       " [4] \"impressions\"                          \n",
       " [5] \"engaged_users\"                        \n",
       " [6] \"post_consumers\"                       \n",
       " [7] \"post_consumptions\"                    \n",
       " [8] \"impressions_by_people_that_liked_page\"\n",
       " [9] \"reach_by_people_that_like_page\"       \n",
       "[10] \"people_liked_and_engaged\"             \n",
       "[11] \"comments\"                             \n",
       "[12] \"likes\"                                \n",
       "[13] \"shares\"                               \n",
       "[14] \"interactions\"                         "
      ]
     },
     "metadata": {},
     "output_type": "display_data"
    }
   ],
   "source": [
    "fb_train_selected1 <- fb_train %>% \n",
    "            select(-post_month, -post_weekday, -post_hour, -category, -paid) %>%\n",
    "            select(type, page_likes, reach:interactions) # reorder the df so that type is first, so that we can display only that row\n",
    "\n",
    "fb_test_selected1 <- fb_test %>% \n",
    "            select(-post_month, -post_weekday, -post_hour, -category, -paid) %>%\n",
    "            select(type, page_likes, reach:interactions) # reorder the df so that type is first, so that we can display only that row\n",
    "\n",
    "# Columns after selection\n",
    "colnames(fb_train_selected1)\n",
    "colnames(fb_test_selected1)"
   ]
  },
  {
   "cell_type": "code",
   "execution_count": 7,
   "metadata": {
    "tags": []
   },
   "outputs": [
    {
     "data": {
      "image/png": "[encoded data removed]",
      "text/plain": [
       "plot without title"
      ]
     },
     "metadata": {
      "image/png": {
       "height": 360,
       "width": 1800
      }
     },
     "output_type": "display_data"
    },
    {
     "data": {
      "image/png": "[encoded data removed]",
      "text/plain": [
       "plot without title"
      ]
     },
     "metadata": {
      "image/png": {
       "height": 360,
       "width": 1800
      }
     },
     "output_type": "display_data"
    }
   ],
   "source": [
    "options(repr.plot.height = 6, repr.plot.width = 30)\n",
    "fb_select_plot1_first <- fb_train_selected1 %>%\n",
    "    select(type:post_consumptions) %>% \n",
    "    ggpairs() +\n",
    "    ggtitle(\"Distribution of first half of columns for each type of post\") +\n",
    "    theme(text = element_text(size=18),\n",
    "            axis.text.x = element_text(angle = 90, hjust = 1))\n",
    "\n",
    "fb_select_plot1_second <- fb_train_selected1 %>%\n",
    "    select(type, impressions_by_people_that_liked_page:interactions) %>% \n",
    "    ggpairs() +\n",
    "    ggtitle(\"Distribution of second half of columns for each type of post\") +\n",
    "    theme(text = element_text(size=18),\n",
    "            axis.text.x = element_text(angle = 90, hjust = 1))\n",
    "\n",
    "# Select just the top row of each plot because it is the only thing that we are trying to compare\n",
    "fb_select_plot1_first$nrow <- 1\n",
    "fb_select_plot1_first$yAxisLabels <- fb_select_plot1_first$yAxisLabels[1]\n",
    "fb_select_plot1_first\n",
    "\n",
    "fb_select_plot1_second$nrow <- 1\n",
    "fb_select_plot1_second$yAxisLabels <- fb_select_plot1_second$yAxisLabels[1]\n",
    "fb_select_plot1_second"
   ]
  },
  {
   "cell_type": "markdown",
   "metadata": {
    "tags": []
   },
   "source": [
    "Looking at this plot, we can begin to analyze which predictors may or may not be good classifiers for our target variable. We want to avoid using predictors that have minimal variability within each type, and those which have a high level of overlap between all types.\n",
    "- we eliminate `page_likes` because this column measures the total likes of the facebook page at the time a post was published, and is not necessarily related to any specific post.\n",
    "- similarly, we eliminate `reach` as this column is simply the number of users for whom the post showed up on their facebook feed, and sheds no light on how the user may have interacted with the post. \n",
    "- we eliminate `impressions` because the difference of the boxes in the first three types look the same, meaning there is less variation in the data. While the boxplot for videos does look different from the rest, the many outliers of the boxplot of photos occupy similar space.\n",
    "- we will keep only one of `engaged_users`, `post_consumers`, and `post_consumptions`. This is because they all effectively measure the same variable, in a slightly different way: `engaged_users` is the number of *unique* users that clicked in a post; `post_consumers` is the number of people that clicked in a post; `post_consumptions` is the number of clicks in a post. We will keep `post_consumptions` as a predictor and eliminate the other two, as this variable is more indicative of post type; from the boxplot, it appears that with photos in particular, users may return to the post and continue interacting after the initial view. We want to include this data in our classifier, as it should help with predictions.\n",
    "- we eliminate `impressions_by_people_that_liked_page`, as each box plot is essentially a vertical line. \n",
    "\n",
    "The `comments`, `likes`, `shares`, and `interactions` boxplots appear to have similar low variability issues as `impressions`. We suspect that these columns should be useful as predictors, but the scale is such that it is hard to see any significant differences. Since the `interactions` column simply gives the total of all comments, likes, and shares on a post, we can convert each of these columns to a ratio of total interactions. This standardization of the data will allow a more meaningful comparison than their raw values, as the raw values are more a measure of popularity of the page, and are not themselves characteristic of the post type. This also allows us to eliminate the `interactions` column as a potential standalone predictor.\n",
    "\n",
    "Similar to the above thinking, we will add a column which we call the `engagement ratio`. As stated above, we gain nothing from comparing the `reach` of a post, as the appearance of a post on a user's facebook page does not indicate their interaction with it. We instead will calculate another ratio of `interactions` over `reach`; this gives the percentage of total reached users who actually *interacted* with a post [3].\n",
    "\n",
    "In the following column, we remove the eliminated columns and perform the changes suggested above. We again use the `na.omit` function to remove any missing values which may have been introduced by the mutations."
   ]
  },
  {
   "cell_type": "code",
   "execution_count": 8,
   "metadata": {},
   "outputs": [],
   "source": [
    "fb_train_selected2 <- fb_train_selected1 %>% \n",
    "            mutate(comment_ratio = comments / interactions) %>% \n",
    "            mutate(like_ratio = likes / interactions) %>% \n",
    "            mutate(share_ratio = shares / interactions) %>% \n",
    "            mutate(engagement_ratio = interactions / reach) %>%\n",
    "            select(-page_likes, -reach, -impressions, -engaged_users, -post_consumers, -impressions_by_people_that_liked_page) %>% \n",
    "            select(-comments, -likes, -shares, -interactions) %>% # We don't need these anymore because they have been scaled\n",
    "            na.omit()        \n",
    "\n",
    "fb_test_selected2 <- fb_test_selected1 %>% \n",
    "            mutate(comment_ratio = comments / interactions) %>% \n",
    "            mutate(like_ratio = likes / interactions) %>% \n",
    "            mutate(share_ratio = shares / interactions) %>% \n",
    "            mutate(engagement_ratio = interactions / reach) %>%\n",
    "            select(-page_likes, -reach, -impressions, -engaged_users, -post_consumers, -impressions_by_people_that_liked_page) %>% \n",
    "            select(-comments, -likes, -shares, -interactions) %>% \n",
    "            na.omit()"
   ]
  },
  {
   "cell_type": "markdown",
   "metadata": {},
   "source": [
    "We again use the ggpairs function to observe boxplots of the remaining and new potential predictors:"
   ]
  },
  {
   "cell_type": "code",
   "execution_count": 9,
   "metadata": {},
   "outputs": [
    {
     "data": {
      "image/png": "[encoded data removed]",
      "text/plain": [
       "plot without title"
      ]
     },
     "metadata": {
      "image/png": {
       "height": 360,
       "width": 1800
      }
     },
     "output_type": "display_data"
    },
    {
     "data": {
      "image/png": "[encoded data removed]",
      "text/plain": [
       "plot without title"
      ]
     },
     "metadata": {
      "image/png": {
       "height": 360,
       "width": 1800
      }
     },
     "output_type": "display_data"
    }
   ],
   "source": [
    "options(repr.plot.height = 6, repr.plot.width = 30)\n",
    "fb_select_plot2_first <- fb_train_selected2 %>%\n",
    "    select(type:people_liked_and_engaged) %>% \n",
    "    ggpairs() +\n",
    "    ggtitle(\"Distribution of first half of columns after first round of predictor elimination\") +\n",
    "    theme(text = element_text(size=18),\n",
    "        axis.text.x = element_text(angle = 90, hjust = 1))\n",
    "\n",
    "fb_select_plot2_second <- fb_train_selected2 %>% \n",
    "    select(type, comment_ratio:engagement_ratio) %>% \n",
    "    ggpairs() +\n",
    "    ggtitle(\"Distribution of second half of columns after first round of predictor elimination\") +\n",
    "    theme(text = element_text(size=18),\n",
    "        axis.text.x = element_text(angle = 90, hjust = 1))\n",
    "\n",
    "# Select just the top row of each plot, because it is the only thing that we are trying to compare\n",
    "fb_select_plot2_first$nrow <- 1\n",
    "fb_select_plot2_first$yAxisLabels <- fb_select_plot2_first$yAxisLabels[1]\n",
    "fb_select_plot2_first\n",
    "\n",
    "fb_select_plot2_second$nrow <- 1\n",
    "fb_select_plot2_second$yAxisLabels <- fb_select_plot2_second$yAxisLabels[1]\n",
    "fb_select_plot2_second"
   ]
  },
  {
   "cell_type": "markdown",
   "metadata": {},
   "source": [
    "As seen in the plots above, `comment_ratio`, `like_ratio`, and `share_ratio` look very different now. `comment_ratio` still does not appear that it would be a great predictor, as there is a lot of overlap between post types and not a lot of variability within post types. But, `like_ratio`, and `share_ratio` appear to be useful as the variance in and between each plot is higher."
   ]
  },
  {
   "cell_type": "code",
   "execution_count": 10,
   "metadata": {},
   "outputs": [],
   "source": [
    "fb_train_selected_final <- fb_train_selected2 %>% \n",
    "            select(-comment_ratio)\n",
    "\n",
    "fb_test_selected_final <- fb_test_selected2 %>% \n",
    "            select(-comment_ratio)"
   ]
  },
  {
   "cell_type": "markdown",
   "metadata": {},
   "source": [
    "Now, our training and testing data set contain the following 7 columns:"
   ]
  },
  {
   "cell_type": "code",
   "execution_count": 11,
   "metadata": {},
   "outputs": [
    {
     "data": {
      "text/html": [
       "<style>\n",
       ".list-inline {list-style: none; margin:0; padding: 0}\n",
       ".list-inline>li {display: inline-block}\n",
       ".list-inline>li:not(:last-child)::after {content: \"\\00b7\"; padding: 0 .5ex}\n",
       "</style>\n",
       "<ol class=list-inline><li>'type'</li><li>'post_consumptions'</li><li>'reach_by_people_that_like_page'</li><li>'people_liked_and_engaged'</li><li>'like_ratio'</li><li>'share_ratio'</li><li>'engagement_ratio'</li></ol>\n"
      ],
      "text/latex": [
       "\\begin{enumerate*}\n",
       "\\item 'type'\n",
       "\\item 'post\\_consumptions'\n",
       "\\item 'reach\\_by\\_people\\_that\\_like\\_page'\n",
       "\\item 'people\\_liked\\_and\\_engaged'\n",
       "\\item 'like\\_ratio'\n",
       "\\item 'share\\_ratio'\n",
       "\\item 'engagement\\_ratio'\n",
       "\\end{enumerate*}\n"
      ],
      "text/markdown": [
       "1. 'type'\n",
       "2. 'post_consumptions'\n",
       "3. 'reach_by_people_that_like_page'\n",
       "4. 'people_liked_and_engaged'\n",
       "5. 'like_ratio'\n",
       "6. 'share_ratio'\n",
       "7. 'engagement_ratio'\n",
       "\n",
       "\n"
      ],
      "text/plain": [
       "[1] \"type\"                           \"post_consumptions\"             \n",
       "[3] \"reach_by_people_that_like_page\" \"people_liked_and_engaged\"      \n",
       "[5] \"like_ratio\"                     \"share_ratio\"                   \n",
       "[7] \"engagement_ratio\"              "
      ]
     },
     "metadata": {},
     "output_type": "display_data"
    },
    {
     "data": {
      "text/html": [
       "<style>\n",
       ".list-inline {list-style: none; margin:0; padding: 0}\n",
       ".list-inline>li {display: inline-block}\n",
       ".list-inline>li:not(:last-child)::after {content: \"\\00b7\"; padding: 0 .5ex}\n",
       "</style>\n",
       "<ol class=list-inline><li>'type'</li><li>'post_consumptions'</li><li>'reach_by_people_that_like_page'</li><li>'people_liked_and_engaged'</li><li>'like_ratio'</li><li>'share_ratio'</li><li>'engagement_ratio'</li></ol>\n"
      ],
      "text/latex": [
       "\\begin{enumerate*}\n",
       "\\item 'type'\n",
       "\\item 'post\\_consumptions'\n",
       "\\item 'reach\\_by\\_people\\_that\\_like\\_page'\n",
       "\\item 'people\\_liked\\_and\\_engaged'\n",
       "\\item 'like\\_ratio'\n",
       "\\item 'share\\_ratio'\n",
       "\\item 'engagement\\_ratio'\n",
       "\\end{enumerate*}\n"
      ],
      "text/markdown": [
       "1. 'type'\n",
       "2. 'post_consumptions'\n",
       "3. 'reach_by_people_that_like_page'\n",
       "4. 'people_liked_and_engaged'\n",
       "5. 'like_ratio'\n",
       "6. 'share_ratio'\n",
       "7. 'engagement_ratio'\n",
       "\n",
       "\n"
      ],
      "text/plain": [
       "[1] \"type\"                           \"post_consumptions\"             \n",
       "[3] \"reach_by_people_that_like_page\" \"people_liked_and_engaged\"      \n",
       "[5] \"like_ratio\"                     \"share_ratio\"                   \n",
       "[7] \"engagement_ratio\"              "
      ]
     },
     "metadata": {},
     "output_type": "display_data"
    }
   ],
   "source": [
    "colnames(fb_train_selected_final)\n",
    "colnames(fb_test_selected_final)"
   ]
  },
  {
   "cell_type": "markdown",
   "metadata": {},
   "source": [
    "#### Methods:\n",
    "\n",
    "Our analysis will use the following input columns of the original dataset: type `page_likes`, `paid`, `reach`, `engaged_users`, `post_consumers`, `post_consumptions`, `reach_by_people_that_like_page`, and `people_liked_and_engaged`. We will also be using the generated columns `comment_percent`, `like_percent`, `share_percent`, and `engagement_ratio`.\n",
    "\n",
    "\n",
    "Our aim is to use the K-nearest neighbours algorithm to generate a classification model which will classify a post by type (photo, status, link, or video).\n",
    "\n",
    "To visualize our results, we plan to use a confusion matrix. This will display how often our classification model labels a post correctly, and how often each label gets confused with another. As part of the tuning step of creating the model, we can create a line chart to show us the optimal K value. "
   ]
  },
  {
   "cell_type": "markdown",
   "metadata": {},
   "source": [
    "#### Creating the model:\n",
    "\n",
    "First, a table was constructed to gain a necessary summary of the training data. Table `summary_table1` groups posts by type and computes the total of each."
   ]
  },
  {
   "cell_type": "code",
   "execution_count": 12,
   "metadata": {},
   "outputs": [
    {
     "name": "stderr",
     "output_type": "stream",
     "text": [
      "`summarise()` ungrouping output (override with `.groups` argument)\n",
      "\n"
     ]
    },
    {
     "data": {
      "text/html": [
       "<table>\n",
       "<caption>A tibble: 4 × 2</caption>\n",
       "<thead>\n",
       "\t<tr><th scope=col>type</th><th scope=col>total_of_type</th></tr>\n",
       "\t<tr><th scope=col>&lt;fct&gt;</th><th scope=col>&lt;int&gt;</th></tr>\n",
       "</thead>\n",
       "<tbody>\n",
       "\t<tr><td>Photo </td><td>316</td></tr>\n",
       "\t<tr><td>Status</td><td> 29</td></tr>\n",
       "\t<tr><td>Link  </td><td> 18</td></tr>\n",
       "\t<tr><td>Video </td><td>  6</td></tr>\n",
       "</tbody>\n",
       "</table>\n"
      ],
      "text/latex": [
       "A tibble: 4 × 2\n",
       "\\begin{tabular}{ll}\n",
       " type & total\\_of\\_type\\\\\n",
       " <fct> & <int>\\\\\n",
       "\\hline\n",
       "\t Photo  & 316\\\\\n",
       "\t Status &  29\\\\\n",
       "\t Link   &  18\\\\\n",
       "\t Video  &   6\\\\\n",
       "\\end{tabular}\n"
      ],
      "text/markdown": [
       "\n",
       "A tibble: 4 × 2\n",
       "\n",
       "| type &lt;fct&gt; | total_of_type &lt;int&gt; |\n",
       "|---|---|\n",
       "| Photo  | 316 |\n",
       "| Status |  29 |\n",
       "| Link   |  18 |\n",
       "| Video  |   6 |\n",
       "\n"
      ],
      "text/plain": [
       "  type   total_of_type\n",
       "1 Photo  316          \n",
       "2 Status  29          \n",
       "3 Link    18          \n",
       "4 Video    6          "
      ]
     },
     "metadata": {},
     "output_type": "display_data"
    }
   ],
   "source": [
    "summary_table1 = fb_train_selected_final %>% \n",
    "    group_by(type) %>%\n",
    "    summarize(total_of_type = n())\n",
    "\n",
    "summary_table1"
   ]
  },
  {
   "cell_type": "markdown",
   "metadata": {},
   "source": [
    "Looking at the number of each type of post, it is clear that we have a *class imbalance* in our training data. This occurs when one categorical label is much more common than another or others. If we do not fix this imbalance, since there is a much higher number of photos in the data than any other post type, we are much more likely to choose neighbours that are photos when using the KNN classification algorithm. This does raise some concerns about how well our model will be able to predict type (namely, posts that are of type `video`, with few observations), but we will attempt to maximize the accuracy of our results. We use the method of *oversampling*, which replicates observations of the rarer classes multiple times, making the number of observations of each type equal. Oversampling can be implemented with the `step_upsample` function."
   ]
  },
  {
   "cell_type": "code",
   "execution_count": 13,
   "metadata": {},
   "outputs": [
    {
     "name": "stderr",
     "output_type": "stream",
     "text": [
      "Warning message:\n",
      "“`step_upsample()` is deprecated as of recipes 0.1.13.\n",
      "Please use `themis::step_upsample()` instead.\n",
      "\u001b[90mThis warning is displayed once every 8 hours.\u001b[39m\n",
      "\u001b[90mCall `lifecycle::last_warnings()` to see where this warning was generated.\u001b[39m”\n"
     ]
    },
    {
     "data": {
      "text/plain": [
       "Data Recipe\n",
       "\n",
       "Inputs:\n",
       "\n",
       "      role #variables\n",
       "   outcome          1\n",
       " predictor          6\n",
       "\n",
       "Training data contained 369 data points and no missing data.\n",
       "\n",
       "Operations:\n",
       "\n",
       "Up-sampling based on type [trained]"
      ]
     },
     "metadata": {},
     "output_type": "display_data"
    }
   ],
   "source": [
    "upsample_recipe <- recipe(type ~ ., data = fb_train_selected_final) %>% \n",
    "                    step_upsample(type, over_ratio = 1, skip = FALSE ) %>% \n",
    "                    prep()\n",
    "upsample_recipe\n",
    "\n",
    "fb_train_upsampled <- upsample_recipe %>% bake(fb_train_selected_final)"
   ]
  },
  {
   "cell_type": "code",
   "execution_count": 14,
   "metadata": {},
   "outputs": [
    {
     "name": "stderr",
     "output_type": "stream",
     "text": [
      "`summarise()` ungrouping output (override with `.groups` argument)\n",
      "\n"
     ]
    },
    {
     "data": {
      "text/html": [
       "<table>\n",
       "<caption>A tibble: 4 × 2</caption>\n",
       "<thead>\n",
       "\t<tr><th scope=col>type</th><th scope=col>total_of_type</th></tr>\n",
       "\t<tr><th scope=col>&lt;fct&gt;</th><th scope=col>&lt;int&gt;</th></tr>\n",
       "</thead>\n",
       "<tbody>\n",
       "\t<tr><td>Photo </td><td>316</td></tr>\n",
       "\t<tr><td>Status</td><td>316</td></tr>\n",
       "\t<tr><td>Link  </td><td>316</td></tr>\n",
       "\t<tr><td>Video </td><td>316</td></tr>\n",
       "</tbody>\n",
       "</table>\n"
      ],
      "text/latex": [
       "A tibble: 4 × 2\n",
       "\\begin{tabular}{ll}\n",
       " type & total\\_of\\_type\\\\\n",
       " <fct> & <int>\\\\\n",
       "\\hline\n",
       "\t Photo  & 316\\\\\n",
       "\t Status & 316\\\\\n",
       "\t Link   & 316\\\\\n",
       "\t Video  & 316\\\\\n",
       "\\end{tabular}\n"
      ],
      "text/markdown": [
       "\n",
       "A tibble: 4 × 2\n",
       "\n",
       "| type &lt;fct&gt; | total_of_type &lt;int&gt; |\n",
       "|---|---|\n",
       "| Photo  | 316 |\n",
       "| Status | 316 |\n",
       "| Link   | 316 |\n",
       "| Video  | 316 |\n",
       "\n"
      ],
      "text/plain": [
       "  type   total_of_type\n",
       "1 Photo  316          \n",
       "2 Status 316          \n",
       "3 Link   316          \n",
       "4 Video  316          "
      ]
     },
     "metadata": {},
     "output_type": "display_data"
    }
   ],
   "source": [
    "summary_table2 = fb_train_upsampled %>% \n",
    "    group_by(type) %>%\n",
    "    summarize(total_of_type = n())\n",
    "\n",
    "summary_table2"
   ]
  },
  {
   "cell_type": "markdown",
   "metadata": {},
   "source": [
    "Now that the class imbalance has been fixed, we can proceed with creating our classification model. In the following cell, we create the model recipe. We will attempt to predict `type` from all columns we have left in our data frame as predictors. We include a `step_scale` and `step_center` to center and scale the data as good practice, to ensure that no variable which may be on a larger scale than another will dominate the predictions. The `prep` functions is used to compute anything necessary to run the recipe, e.g., the data's column means and standard deviations."
   ]
  },
  {
   "cell_type": "code",
   "execution_count": 15,
   "metadata": {},
   "outputs": [
    {
     "data": {
      "text/plain": [
       "Data Recipe\n",
       "\n",
       "Inputs:\n",
       "\n",
       "      role #variables\n",
       "   outcome          1\n",
       " predictor          6\n",
       "\n",
       "Training data contained 1264 data points and no missing data.\n",
       "\n",
       "Operations:\n",
       "\n",
       "Scaling for 6 items [trained]\n",
       "Centering for 6 items [trained]"
      ]
     },
     "metadata": {},
     "output_type": "display_data"
    }
   ],
   "source": [
    "# Create the recipe\n",
    "fb_recipe <- recipe(type ~  ., data = fb_train_upsampled) %>%\n",
    "                step_scale(all_predictors()) %>% \n",
    "                step_center(all_predictors()) %>% \n",
    "                prep()\n",
    "                \n",
    "fb_recipe"
   ]
  },
  {
   "cell_type": "markdown",
   "metadata": {},
   "source": [
    "We use the `bake` function to apply the recipe, so we can ensure that our changes have been applied and we are using the desired columns:"
   ]
  },
  {
   "cell_type": "code",
   "execution_count": 16,
   "metadata": {},
   "outputs": [
    {
     "data": {
      "text/html": [
       "<table>\n",
       "<caption>A tibble: 1264 × 7</caption>\n",
       "<thead>\n",
       "\t<tr><th scope=col>post_consumptions</th><th scope=col>reach_by_people_that_like_page</th><th scope=col>people_liked_and_engaged</th><th scope=col>like_ratio</th><th scope=col>share_ratio</th><th scope=col>engagement_ratio</th><th scope=col>type</th></tr>\n",
       "\t<tr><th scope=col>&lt;dbl&gt;</th><th scope=col>&lt;dbl&gt;</th><th scope=col>&lt;dbl&gt;</th><th scope=col>&lt;dbl&gt;</th><th scope=col>&lt;dbl&gt;</th><th scope=col>&lt;dbl&gt;</th><th scope=col>&lt;fct&gt;</th></tr>\n",
       "</thead>\n",
       "<tbody>\n",
       "\t<tr><td>-0.8264904</td><td>-0.99804010</td><td>-0.8315941</td><td>-0.1944982</td><td> 0.2177042</td><td>1.7757635</td><td>Photo</td></tr>\n",
       "\t<tr><td>-0.8293038</td><td>-1.01387911</td><td>-0.8166384</td><td> 0.2715454</td><td> 0.2902745</td><td>1.5212512</td><td>Photo</td></tr>\n",
       "\t<tr><td>-0.7111437</td><td>-0.10920549</td><td>-0.5324801</td><td> 1.1699856</td><td>-0.8450986</td><td>0.7784286</td><td>Photo</td></tr>\n",
       "\t<tr><td>-0.7443411</td><td> 0.09057419</td><td>-0.4830112</td><td> 2.0518591</td><td>-1.6502836</td><td>0.8460637</td><td>Photo</td></tr>\n",
       "\t<tr><td>-0.7752878</td><td>-0.91896064</td><td>-0.7395590</td><td>-0.1176057</td><td> 0.4078178</td><td>1.2892119</td><td>Photo</td></tr>\n",
       "\t<tr><td>-0.8343678</td><td>-0.93630263</td><td>-0.7786739</td><td> 0.3406354</td><td> 0.2149657</td><td>1.5938400</td><td>Photo</td></tr>\n",
       "\t<tr><td>-0.8214264</td><td>-0.96601523</td><td>-0.7579660</td><td> 1.2877305</td><td>-1.2948122</td><td>3.6380821</td><td>Photo</td></tr>\n",
       "\t<tr><td>-0.6813224</td><td> 1.04507713</td><td>-0.1815963</td><td> 2.1127118</td><td>-1.7650745</td><td>0.9725360</td><td>Photo</td></tr>\n",
       "\t<tr><td>⋮</td><td>⋮</td><td>⋮</td><td>⋮</td><td>⋮</td><td>⋮</td><td>⋮</td></tr>\n",
       "\t<tr><td> 0.39562204</td><td> 0.99513221</td><td> 0.04964178</td><td> 0.15654760</td><td>-0.03299295</td><td>-0.6929720</td><td>Video</td></tr>\n",
       "\t<tr><td> 0.40968871</td><td> 3.28889894</td><td> 0.19114571</td><td>-0.69026825</td><td> 0.10684047</td><td>-0.9734751</td><td>Video</td></tr>\n",
       "\t<tr><td> 0.40968871</td><td> 3.28889894</td><td> 0.19114571</td><td>-0.69026825</td><td> 0.10684047</td><td>-0.9734751</td><td>Video</td></tr>\n",
       "\t<tr><td>-0.54065566</td><td> 0.17196592</td><td>-0.45425025</td><td> 0.84971966</td><td>-0.59457313</td><td>-0.4564105</td><td>Video</td></tr>\n",
       "\t<tr><td> 0.05633391</td><td> 0.44388827</td><td>-0.32540115</td><td> 0.22945604</td><td>-1.16530091</td><td>-0.7451394</td><td>Video</td></tr>\n",
       "\t<tr><td> 0.39562204</td><td> 0.99513221</td><td> 0.04964178</td><td> 0.15654760</td><td>-0.03299295</td><td>-0.6929720</td><td>Video</td></tr>\n",
       "\t<tr><td> 0.40968871</td><td> 3.28889894</td><td> 0.19114571</td><td>-0.69026825</td><td> 0.10684047</td><td>-0.9734751</td><td>Video</td></tr>\n",
       "\t<tr><td>-0.61267702</td><td>-0.08145831</td><td>-0.55088708</td><td>-0.02846503</td><td> 0.25891694</td><td>-0.7348547</td><td>Video</td></tr>\n",
       "</tbody>\n",
       "</table>\n"
      ],
      "text/latex": [
       "A tibble: 1264 × 7\n",
       "\\begin{tabular}{lllllll}\n",
       " post\\_consumptions & reach\\_by\\_people\\_that\\_like\\_page & people\\_liked\\_and\\_engaged & like\\_ratio & share\\_ratio & engagement\\_ratio & type\\\\\n",
       " <dbl> & <dbl> & <dbl> & <dbl> & <dbl> & <dbl> & <fct>\\\\\n",
       "\\hline\n",
       "\t -0.8264904 & -0.99804010 & -0.8315941 & -0.1944982 &  0.2177042 & 1.7757635 & Photo\\\\\n",
       "\t -0.8293038 & -1.01387911 & -0.8166384 &  0.2715454 &  0.2902745 & 1.5212512 & Photo\\\\\n",
       "\t -0.7111437 & -0.10920549 & -0.5324801 &  1.1699856 & -0.8450986 & 0.7784286 & Photo\\\\\n",
       "\t -0.7443411 &  0.09057419 & -0.4830112 &  2.0518591 & -1.6502836 & 0.8460637 & Photo\\\\\n",
       "\t -0.7752878 & -0.91896064 & -0.7395590 & -0.1176057 &  0.4078178 & 1.2892119 & Photo\\\\\n",
       "\t -0.8343678 & -0.93630263 & -0.7786739 &  0.3406354 &  0.2149657 & 1.5938400 & Photo\\\\\n",
       "\t -0.8214264 & -0.96601523 & -0.7579660 &  1.2877305 & -1.2948122 & 3.6380821 & Photo\\\\\n",
       "\t -0.6813224 &  1.04507713 & -0.1815963 &  2.1127118 & -1.7650745 & 0.9725360 & Photo\\\\\n",
       "\t ⋮ & ⋮ & ⋮ & ⋮ & ⋮ & ⋮ & ⋮\\\\\n",
       "\t  0.39562204 &  0.99513221 &  0.04964178 &  0.15654760 & -0.03299295 & -0.6929720 & Video\\\\\n",
       "\t  0.40968871 &  3.28889894 &  0.19114571 & -0.69026825 &  0.10684047 & -0.9734751 & Video\\\\\n",
       "\t  0.40968871 &  3.28889894 &  0.19114571 & -0.69026825 &  0.10684047 & -0.9734751 & Video\\\\\n",
       "\t -0.54065566 &  0.17196592 & -0.45425025 &  0.84971966 & -0.59457313 & -0.4564105 & Video\\\\\n",
       "\t  0.05633391 &  0.44388827 & -0.32540115 &  0.22945604 & -1.16530091 & -0.7451394 & Video\\\\\n",
       "\t  0.39562204 &  0.99513221 &  0.04964178 &  0.15654760 & -0.03299295 & -0.6929720 & Video\\\\\n",
       "\t  0.40968871 &  3.28889894 &  0.19114571 & -0.69026825 &  0.10684047 & -0.9734751 & Video\\\\\n",
       "\t -0.61267702 & -0.08145831 & -0.55088708 & -0.02846503 &  0.25891694 & -0.7348547 & Video\\\\\n",
       "\\end{tabular}\n"
      ],
      "text/markdown": [
       "\n",
       "A tibble: 1264 × 7\n",
       "\n",
       "| post_consumptions &lt;dbl&gt; | reach_by_people_that_like_page &lt;dbl&gt; | people_liked_and_engaged &lt;dbl&gt; | like_ratio &lt;dbl&gt; | share_ratio &lt;dbl&gt; | engagement_ratio &lt;dbl&gt; | type &lt;fct&gt; |\n",
       "|---|---|---|---|---|---|---|\n",
       "| -0.8264904 | -0.99804010 | -0.8315941 | -0.1944982 |  0.2177042 | 1.7757635 | Photo |\n",
       "| -0.8293038 | -1.01387911 | -0.8166384 |  0.2715454 |  0.2902745 | 1.5212512 | Photo |\n",
       "| -0.7111437 | -0.10920549 | -0.5324801 |  1.1699856 | -0.8450986 | 0.7784286 | Photo |\n",
       "| -0.7443411 |  0.09057419 | -0.4830112 |  2.0518591 | -1.6502836 | 0.8460637 | Photo |\n",
       "| -0.7752878 | -0.91896064 | -0.7395590 | -0.1176057 |  0.4078178 | 1.2892119 | Photo |\n",
       "| -0.8343678 | -0.93630263 | -0.7786739 |  0.3406354 |  0.2149657 | 1.5938400 | Photo |\n",
       "| -0.8214264 | -0.96601523 | -0.7579660 |  1.2877305 | -1.2948122 | 3.6380821 | Photo |\n",
       "| -0.6813224 |  1.04507713 | -0.1815963 |  2.1127118 | -1.7650745 | 0.9725360 | Photo |\n",
       "| ⋮ | ⋮ | ⋮ | ⋮ | ⋮ | ⋮ | ⋮ |\n",
       "|  0.39562204 |  0.99513221 |  0.04964178 |  0.15654760 | -0.03299295 | -0.6929720 | Video |\n",
       "|  0.40968871 |  3.28889894 |  0.19114571 | -0.69026825 |  0.10684047 | -0.9734751 | Video |\n",
       "|  0.40968871 |  3.28889894 |  0.19114571 | -0.69026825 |  0.10684047 | -0.9734751 | Video |\n",
       "| -0.54065566 |  0.17196592 | -0.45425025 |  0.84971966 | -0.59457313 | -0.4564105 | Video |\n",
       "|  0.05633391 |  0.44388827 | -0.32540115 |  0.22945604 | -1.16530091 | -0.7451394 | Video |\n",
       "|  0.39562204 |  0.99513221 |  0.04964178 |  0.15654760 | -0.03299295 | -0.6929720 | Video |\n",
       "|  0.40968871 |  3.28889894 |  0.19114571 | -0.69026825 |  0.10684047 | -0.9734751 | Video |\n",
       "| -0.61267702 | -0.08145831 | -0.55088708 | -0.02846503 |  0.25891694 | -0.7348547 | Video |\n",
       "\n"
      ],
      "text/plain": [
       "     post_consumptions reach_by_people_that_like_page people_liked_and_engaged\n",
       "1    -0.8264904        -0.99804010                    -0.8315941              \n",
       "2    -0.8293038        -1.01387911                    -0.8166384              \n",
       "3    -0.7111437        -0.10920549                    -0.5324801              \n",
       "4    -0.7443411         0.09057419                    -0.4830112              \n",
       "5    -0.7752878        -0.91896064                    -0.7395590              \n",
       "6    -0.8343678        -0.93630263                    -0.7786739              \n",
       "7    -0.8214264        -0.96601523                    -0.7579660              \n",
       "8    -0.6813224         1.04507713                    -0.1815963              \n",
       "⋮    ⋮                 ⋮                              ⋮                       \n",
       "1257  0.39562204        0.99513221                     0.04964178             \n",
       "1258  0.40968871        3.28889894                     0.19114571             \n",
       "1259  0.40968871        3.28889894                     0.19114571             \n",
       "1260 -0.54065566        0.17196592                    -0.45425025             \n",
       "1261  0.05633391        0.44388827                    -0.32540115             \n",
       "1262  0.39562204        0.99513221                     0.04964178             \n",
       "1263  0.40968871        3.28889894                     0.19114571             \n",
       "1264 -0.61267702       -0.08145831                    -0.55088708             \n",
       "     like_ratio  share_ratio engagement_ratio type \n",
       "1    -0.1944982   0.2177042  1.7757635        Photo\n",
       "2     0.2715454   0.2902745  1.5212512        Photo\n",
       "3     1.1699856  -0.8450986  0.7784286        Photo\n",
       "4     2.0518591  -1.6502836  0.8460637        Photo\n",
       "5    -0.1176057   0.4078178  1.2892119        Photo\n",
       "6     0.3406354   0.2149657  1.5938400        Photo\n",
       "7     1.2877305  -1.2948122  3.6380821        Photo\n",
       "8     2.1127118  -1.7650745  0.9725360        Photo\n",
       "⋮    ⋮           ⋮           ⋮                ⋮    \n",
       "1257  0.15654760 -0.03299295 -0.6929720       Video\n",
       "1258 -0.69026825  0.10684047 -0.9734751       Video\n",
       "1259 -0.69026825  0.10684047 -0.9734751       Video\n",
       "1260  0.84971966 -0.59457313 -0.4564105       Video\n",
       "1261  0.22945604 -1.16530091 -0.7451394       Video\n",
       "1262  0.15654760 -0.03299295 -0.6929720       Video\n",
       "1263 -0.69026825  0.10684047 -0.9734751       Video\n",
       "1264 -0.02846503  0.25891694 -0.7348547       Video"
      ]
     },
     "metadata": {},
     "output_type": "display_data"
    }
   ],
   "source": [
    "baked_fb <- bake(fb_recipe, fb_train_upsampled)\n",
    "baked_fb"
   ]
  },
  {
   "cell_type": "markdown",
   "metadata": {},
   "source": [
    "We use the `knn_spec` function to create our *model specification*. We specify the `neighbours` parameter as `tune()`, a `tidymodels` function which will choose the value of K that gives the highest accuracy. The other parameters are typical of the KNN classification algorithm.  "
   ]
  },
  {
   "cell_type": "code",
   "execution_count": 17,
   "metadata": {},
   "outputs": [],
   "source": [
    "# Create the tune spec\n",
    "knn_spec_tune <- nearest_neighbor(weight_func = \"rectangular\", neighbors = tune()) %>% \n",
    "            set_engine(\"kknn\") %>% \n",
    "            set_mode(\"classification\")"
   ]
  },
  {
   "cell_type": "markdown",
   "metadata": {},
   "source": [
    "Since we are attempting to tune our model for highest accuracy, we use *cross-validation*. This method comes from the idea that by further splitting our overall training data into a sub-training set and a \"validation\" set, we can train and evaluate a classifier on this training data, and choose the parameter that gives the best accuracy on our validation set. Building on this, we can use cross-validation to perform multiple different training/validation set splits. We do this using the `vfold_cv` function from `tidymodels`; this method splits our overall training data up in different ways, trains and evaluates a classifier for each split, and chooses the best value of K based on the all of the different results. This is useful because if we split the data only once, the choice of best parameter value will be influenced by whatever data is \"lucky\" enough to end up in the validation set. \n",
    "\n",
    "We pass in the `baked_fb` data set from above, and instruct the model to use 10 \"folds\". Generally, a higher number of folds will yield a more accurate parameter value, but the computation will take longer. We choose 10 as this is the upper bound on typical values for `v`."
   ]
  },
  {
   "cell_type": "code",
   "execution_count": 18,
   "metadata": {},
   "outputs": [],
   "source": [
    "# Create vfolds with v\n",
    "fb_vfold <- vfold_cv(baked_fb, v = 10, strata = type)"
   ]
  },
  {
   "cell_type": "markdown",
   "metadata": {},
   "source": [
    "We combine the recipe and model specification into a workflow using the following code. The `tune_grid` function is used to fit the model for each value in a range; we have given it a sequence of possible parameter values from 1 to 10. We use the `collect_metrics` function to aggregate the mean and standard error across the folds. "
   ]
  },
  {
   "cell_type": "code",
   "execution_count": 19,
   "metadata": {},
   "outputs": [
    {
     "data": {
      "text/html": [
       "<table>\n",
       "<caption>A tibble: 20 × 7</caption>\n",
       "<thead>\n",
       "\t<tr><th scope=col>neighbors</th><th scope=col>.metric</th><th scope=col>.estimator</th><th scope=col>mean</th><th scope=col>n</th><th scope=col>std_err</th><th scope=col>.config</th></tr>\n",
       "\t<tr><th scope=col>&lt;int&gt;</th><th scope=col>&lt;chr&gt;</th><th scope=col>&lt;chr&gt;</th><th scope=col>&lt;dbl&gt;</th><th scope=col>&lt;int&gt;</th><th scope=col>&lt;dbl&gt;</th><th scope=col>&lt;chr&gt;</th></tr>\n",
       "</thead>\n",
       "<tbody>\n",
       "\t<tr><td>1</td><td>accuracy</td><td>multiclass</td><td>0.9905242</td><td>10</td><td>0.001962996</td><td>Model01</td></tr>\n",
       "\t<tr><td>1</td><td>roc_auc </td><td>hand_till </td><td>0.9936828</td><td>10</td><td>0.001308664</td><td>Model01</td></tr>\n",
       "\t<tr><td>2</td><td>accuracy</td><td>multiclass</td><td>0.9905242</td><td>10</td><td>0.001962996</td><td>Model02</td></tr>\n",
       "\t<tr><td>2</td><td>roc_auc </td><td>hand_till </td><td>0.9936828</td><td>10</td><td>0.001308664</td><td>Model02</td></tr>\n",
       "\t<tr><td>3</td><td>accuracy</td><td>multiclass</td><td>0.9747228</td><td>10</td><td>0.004347723</td><td>Model03</td></tr>\n",
       "\t<tr><td>3</td><td>roc_auc </td><td>hand_till </td><td>0.9936828</td><td>10</td><td>0.001308664</td><td>Model03</td></tr>\n",
       "\t<tr><td>4</td><td>accuracy</td><td>multiclass</td><td>0.9747228</td><td>10</td><td>0.004347723</td><td>Model04</td></tr>\n",
       "\t<tr><td>4</td><td>roc_auc </td><td>hand_till </td><td>0.9936741</td><td>10</td><td>0.001308000</td><td>Model04</td></tr>\n",
       "\t<tr><td>⋮</td><td>⋮</td><td>⋮</td><td>⋮</td><td>⋮</td><td>⋮</td><td>⋮</td></tr>\n",
       "\t<tr><td> 7</td><td>accuracy</td><td>multiclass</td><td>0.9494204</td><td>10</td><td>0.005881582</td><td>Model07</td></tr>\n",
       "\t<tr><td> 7</td><td>roc_auc </td><td>hand_till </td><td>0.9935660</td><td>10</td><td>0.001259751</td><td>Model07</td></tr>\n",
       "\t<tr><td> 8</td><td>accuracy</td><td>multiclass</td><td>0.9494204</td><td>10</td><td>0.005881582</td><td>Model08</td></tr>\n",
       "\t<tr><td> 8</td><td>roc_auc </td><td>hand_till </td><td>0.9933968</td><td>10</td><td>0.001249119</td><td>Model08</td></tr>\n",
       "\t<tr><td> 9</td><td>accuracy</td><td>multiclass</td><td>0.9423891</td><td>10</td><td>0.006865578</td><td>Model09</td></tr>\n",
       "\t<tr><td> 9</td><td>roc_auc </td><td>hand_till </td><td>0.9932731</td><td>10</td><td>0.001256746</td><td>Model09</td></tr>\n",
       "\t<tr><td>10</td><td>accuracy</td><td>multiclass</td><td>0.9423891</td><td>10</td><td>0.006865578</td><td>Model10</td></tr>\n",
       "\t<tr><td>10</td><td>roc_auc </td><td>hand_till </td><td>0.9931782</td><td>10</td><td>0.001261655</td><td>Model10</td></tr>\n",
       "</tbody>\n",
       "</table>\n"
      ],
      "text/latex": [
       "A tibble: 20 × 7\n",
       "\\begin{tabular}{lllllll}\n",
       " neighbors & .metric & .estimator & mean & n & std\\_err & .config\\\\\n",
       " <int> & <chr> & <chr> & <dbl> & <int> & <dbl> & <chr>\\\\\n",
       "\\hline\n",
       "\t 1 & accuracy & multiclass & 0.9905242 & 10 & 0.001962996 & Model01\\\\\n",
       "\t 1 & roc\\_auc  & hand\\_till  & 0.9936828 & 10 & 0.001308664 & Model01\\\\\n",
       "\t 2 & accuracy & multiclass & 0.9905242 & 10 & 0.001962996 & Model02\\\\\n",
       "\t 2 & roc\\_auc  & hand\\_till  & 0.9936828 & 10 & 0.001308664 & Model02\\\\\n",
       "\t 3 & accuracy & multiclass & 0.9747228 & 10 & 0.004347723 & Model03\\\\\n",
       "\t 3 & roc\\_auc  & hand\\_till  & 0.9936828 & 10 & 0.001308664 & Model03\\\\\n",
       "\t 4 & accuracy & multiclass & 0.9747228 & 10 & 0.004347723 & Model04\\\\\n",
       "\t 4 & roc\\_auc  & hand\\_till  & 0.9936741 & 10 & 0.001308000 & Model04\\\\\n",
       "\t ⋮ & ⋮ & ⋮ & ⋮ & ⋮ & ⋮ & ⋮\\\\\n",
       "\t  7 & accuracy & multiclass & 0.9494204 & 10 & 0.005881582 & Model07\\\\\n",
       "\t  7 & roc\\_auc  & hand\\_till  & 0.9935660 & 10 & 0.001259751 & Model07\\\\\n",
       "\t  8 & accuracy & multiclass & 0.9494204 & 10 & 0.005881582 & Model08\\\\\n",
       "\t  8 & roc\\_auc  & hand\\_till  & 0.9933968 & 10 & 0.001249119 & Model08\\\\\n",
       "\t  9 & accuracy & multiclass & 0.9423891 & 10 & 0.006865578 & Model09\\\\\n",
       "\t  9 & roc\\_auc  & hand\\_till  & 0.9932731 & 10 & 0.001256746 & Model09\\\\\n",
       "\t 10 & accuracy & multiclass & 0.9423891 & 10 & 0.006865578 & Model10\\\\\n",
       "\t 10 & roc\\_auc  & hand\\_till  & 0.9931782 & 10 & 0.001261655 & Model10\\\\\n",
       "\\end{tabular}\n"
      ],
      "text/markdown": [
       "\n",
       "A tibble: 20 × 7\n",
       "\n",
       "| neighbors &lt;int&gt; | .metric &lt;chr&gt; | .estimator &lt;chr&gt; | mean &lt;dbl&gt; | n &lt;int&gt; | std_err &lt;dbl&gt; | .config &lt;chr&gt; |\n",
       "|---|---|---|---|---|---|---|\n",
       "| 1 | accuracy | multiclass | 0.9905242 | 10 | 0.001962996 | Model01 |\n",
       "| 1 | roc_auc  | hand_till  | 0.9936828 | 10 | 0.001308664 | Model01 |\n",
       "| 2 | accuracy | multiclass | 0.9905242 | 10 | 0.001962996 | Model02 |\n",
       "| 2 | roc_auc  | hand_till  | 0.9936828 | 10 | 0.001308664 | Model02 |\n",
       "| 3 | accuracy | multiclass | 0.9747228 | 10 | 0.004347723 | Model03 |\n",
       "| 3 | roc_auc  | hand_till  | 0.9936828 | 10 | 0.001308664 | Model03 |\n",
       "| 4 | accuracy | multiclass | 0.9747228 | 10 | 0.004347723 | Model04 |\n",
       "| 4 | roc_auc  | hand_till  | 0.9936741 | 10 | 0.001308000 | Model04 |\n",
       "| ⋮ | ⋮ | ⋮ | ⋮ | ⋮ | ⋮ | ⋮ |\n",
       "|  7 | accuracy | multiclass | 0.9494204 | 10 | 0.005881582 | Model07 |\n",
       "|  7 | roc_auc  | hand_till  | 0.9935660 | 10 | 0.001259751 | Model07 |\n",
       "|  8 | accuracy | multiclass | 0.9494204 | 10 | 0.005881582 | Model08 |\n",
       "|  8 | roc_auc  | hand_till  | 0.9933968 | 10 | 0.001249119 | Model08 |\n",
       "|  9 | accuracy | multiclass | 0.9423891 | 10 | 0.006865578 | Model09 |\n",
       "|  9 | roc_auc  | hand_till  | 0.9932731 | 10 | 0.001256746 | Model09 |\n",
       "| 10 | accuracy | multiclass | 0.9423891 | 10 | 0.006865578 | Model10 |\n",
       "| 10 | roc_auc  | hand_till  | 0.9931782 | 10 | 0.001261655 | Model10 |\n",
       "\n"
      ],
      "text/plain": [
       "   neighbors .metric  .estimator mean      n  std_err     .config\n",
       "1  1         accuracy multiclass 0.9905242 10 0.001962996 Model01\n",
       "2  1         roc_auc  hand_till  0.9936828 10 0.001308664 Model01\n",
       "3  2         accuracy multiclass 0.9905242 10 0.001962996 Model02\n",
       "4  2         roc_auc  hand_till  0.9936828 10 0.001308664 Model02\n",
       "5  3         accuracy multiclass 0.9747228 10 0.004347723 Model03\n",
       "6  3         roc_auc  hand_till  0.9936828 10 0.001308664 Model03\n",
       "7  4         accuracy multiclass 0.9747228 10 0.004347723 Model04\n",
       "8  4         roc_auc  hand_till  0.9936741 10 0.001308000 Model04\n",
       "⋮  ⋮         ⋮        ⋮          ⋮         ⋮  ⋮           ⋮      \n",
       "13  7        accuracy multiclass 0.9494204 10 0.005881582 Model07\n",
       "14  7        roc_auc  hand_till  0.9935660 10 0.001259751 Model07\n",
       "15  8        accuracy multiclass 0.9494204 10 0.005881582 Model08\n",
       "16  8        roc_auc  hand_till  0.9933968 10 0.001249119 Model08\n",
       "17  9        accuracy multiclass 0.9423891 10 0.006865578 Model09\n",
       "18  9        roc_auc  hand_till  0.9932731 10 0.001256746 Model09\n",
       "19 10        accuracy multiclass 0.9423891 10 0.006865578 Model10\n",
       "20 10        roc_auc  hand_till  0.9931782 10 0.001261655 Model10"
      ]
     },
     "metadata": {},
     "output_type": "display_data"
    }
   ],
   "source": [
    "gridvals = tibble(neighbors = 1:10)\n",
    "\n",
    "fb_fit <- workflow() %>% \n",
    "        add_recipe(fb_recipe) %>% \n",
    "        add_model(knn_spec_tune) %>% \n",
    "        tune_grid(resamples = fb_vfold, grid = gridvals) %>% \n",
    "        collect_metrics()\n",
    "\n",
    "fb_fit"
   ]
  },
  {
   "cell_type": "markdown",
   "metadata": {},
   "source": [
    "By filtering for accuracy and taking the mean from each parameter value, we create a plot of accuracy vs. value of K:"
   ]
  },
  {
   "cell_type": "code",
   "execution_count": 20,
   "metadata": {},
   "outputs": [
    {
     "data": {
      "image/png": "[encoded data removed]",
      "text/plain": [
       "plot without title"
      ]
     },
     "metadata": {
      "image/png": {
       "height": 360,
       "width": 1800
      }
     },
     "output_type": "display_data"
    }
   ],
   "source": [
    "fb_filtered <- fb_fit %>% filter(.metric == \"accuracy\")\n",
    "\n",
    "fb_filtered %>% ggplot(aes(x = neighbors, y = mean)) +\n",
    "            geom_point() +\n",
    "            geom_line() +\n",
    "            ggtitle(\"Mean accuracy vs. K\") +\n",
    "            theme(text = element_text(size=18)) +\n",
    "            scale_x_continuous(breaks = 1:10)"
   ]
  },
  {
   "cell_type": "markdown",
   "metadata": {},
   "source": [
    "From this plot, we see that $K = 2$ is the value of K which yields the highest accuracy. We create a new model specification, this time using the chosen parameter value as the `neighbours` argument. We again combine the previous steps into a workflow, but this time we use the `fit` function instead of `tune_grid` to fit the model to our training data."
   ]
  },
  {
   "cell_type": "code",
   "execution_count": 21,
   "metadata": {},
   "outputs": [
    {
     "data": {
      "text/plain": [
       "══ Workflow [trained] ══════════════════════════════════════════════════════════\n",
       "\u001b[3mPreprocessor:\u001b[23m Recipe\n",
       "\u001b[3mModel:\u001b[23m nearest_neighbor()\n",
       "\n",
       "── Preprocessor ────────────────────────────────────────────────────────────────\n",
       "2 Recipe Steps\n",
       "\n",
       "● step_scale()\n",
       "● step_center()\n",
       "\n",
       "── Model ───────────────────────────────────────────────────────────────────────\n",
       "\n",
       "Call:\n",
       "kknn::train.kknn(formula = ..y ~ ., data = data, ks = ~2, kernel = ~\"rectangular\")\n",
       "\n",
       "Type of response variable: nominal\n",
       "Minimal misclassification: 0.009493671\n",
       "Best kernel: rectangular\n",
       "Best k: 2"
      ]
     },
     "metadata": {},
     "output_type": "display_data"
    }
   ],
   "source": [
    "knn_spec <- nearest_neighbor(weight_func = \"rectangular\", neighbors = 2) %>%\n",
    "  set_engine(\"kknn\") %>%\n",
    "  set_mode(\"classification\")\n",
    "\n",
    "knn_fit <- workflow() %>%\n",
    "  add_recipe(fb_recipe) %>%\n",
    "  add_model(knn_spec) %>%\n",
    "  fit(data = baked_fb)\n",
    "knn_fit"
   ]
  },
  {
   "cell_type": "markdown",
   "metadata": {},
   "source": [
    "Finally, we use the `predict` function to apply our classification model to our testing set! We use `bind_cols` to append the predicted columns to our testing data set, and in the following cell, we obtain the metrics of our predictions compared to our actual posts' types. "
   ]
  },
  {
   "cell_type": "code",
   "execution_count": 22,
   "metadata": {},
   "outputs": [
    {
     "data": {
      "text/html": [
       "<table>\n",
       "<caption>A tibble: 121 × 8</caption>\n",
       "<thead>\n",
       "\t<tr><th scope=col>.pred_class</th><th scope=col>type</th><th scope=col>post_consumptions</th><th scope=col>reach_by_people_that_like_page</th><th scope=col>people_liked_and_engaged</th><th scope=col>like_ratio</th><th scope=col>share_ratio</th><th scope=col>engagement_ratio</th></tr>\n",
       "\t<tr><th scope=col>&lt;fct&gt;</th><th scope=col>&lt;fct&gt;</th><th scope=col>&lt;dbl&gt;</th><th scope=col>&lt;dbl&gt;</th><th scope=col>&lt;dbl&gt;</th><th scope=col>&lt;dbl&gt;</th><th scope=col>&lt;dbl&gt;</th><th scope=col>&lt;dbl&gt;</th></tr>\n",
       "</thead>\n",
       "<tbody>\n",
       "\t<tr><td>Photo</td><td>Photo </td><td>1119</td><td>32048</td><td>1386</td><td>0.8846370</td><td>0.08272369</td><td>0.03544925</td></tr>\n",
       "\t<tr><td>Photo</td><td>Photo </td><td> 580</td><td> 3200</td><td> 396</td><td>0.8269720</td><td>0.12468193</td><td>0.05425179</td></tr>\n",
       "\t<tr><td>Photo</td><td>Status</td><td>4540</td><td>18952</td><td>3798</td><td>0.9246032</td><td>0.07539683</td><td>0.01158940</td></tr>\n",
       "\t<tr><td>Photo</td><td>Photo </td><td> 133</td><td> 2072</td><td> 152</td><td>0.8653846</td><td>0.13461538</td><td>0.03652968</td></tr>\n",
       "\t<tr><td>Photo</td><td>Status</td><td>1425</td><td> 8548</td><td>1162</td><td>0.7962963</td><td>0.16666667</td><td>0.01073559</td></tr>\n",
       "\t<tr><td>Photo</td><td>Photo </td><td> 111</td><td> 1161</td><td> 100</td><td>0.8095238</td><td>0.19047619</td><td>0.02639849</td></tr>\n",
       "\t<tr><td>Photo</td><td>Status</td><td>1489</td><td> 5244</td><td> 995</td><td>0.8181818</td><td>0.15702479</td><td>0.01425542</td></tr>\n",
       "\t<tr><td>Photo</td><td>Photo </td><td> 247</td><td> 1676</td><td> 194</td><td>0.7840000</td><td>0.18400000</td><td>0.04163891</td></tr>\n",
       "\t<tr><td>⋮</td><td>⋮</td><td>⋮</td><td>⋮</td><td>⋮</td><td>⋮</td><td>⋮</td><td>⋮</td></tr>\n",
       "\t<tr><td>Photo</td><td>Photo</td><td>1422</td><td> 5640</td><td>465</td><td>0.7327189</td><td>0.24423963</td><td>0.025529412</td></tr>\n",
       "\t<tr><td>Photo</td><td>Photo</td><td>1326</td><td> 3578</td><td>441</td><td>0.7914110</td><td>0.19631902</td><td>0.030812854</td></tr>\n",
       "\t<tr><td>Photo</td><td>Photo</td><td>2022</td><td> 6964</td><td>742</td><td>0.6881029</td><td>0.25080386</td><td>0.030976096</td></tr>\n",
       "\t<tr><td>Photo</td><td>Photo</td><td>1441</td><td> 4280</td><td>583</td><td>0.7529412</td><td>0.22352941</td><td>0.026218384</td></tr>\n",
       "\t<tr><td>Photo</td><td>Photo</td><td>1452</td><td> 3546</td><td>420</td><td>0.7738095</td><td>0.22619048</td><td>0.014598540</td></tr>\n",
       "\t<tr><td>Photo</td><td>Link </td><td>  71</td><td> 3996</td><td> 58</td><td>0.8571429</td><td>0.14285714</td><td>0.002708978</td></tr>\n",
       "\t<tr><td>Photo</td><td>Photo</td><td>1243</td><td> 3094</td><td>440</td><td>0.6746988</td><td>0.30120482</td><td>0.016487882</td></tr>\n",
       "\t<tr><td>Photo</td><td>Link </td><td> 763</td><td>10720</td><td>220</td><td>0.9343066</td><td>0.06569343</td><td>0.002983449</td></tr>\n",
       "</tbody>\n",
       "</table>\n"
      ],
      "text/latex": [
       "A tibble: 121 × 8\n",
       "\\begin{tabular}{llllllll}\n",
       " .pred\\_class & type & post\\_consumptions & reach\\_by\\_people\\_that\\_like\\_page & people\\_liked\\_and\\_engaged & like\\_ratio & share\\_ratio & engagement\\_ratio\\\\\n",
       " <fct> & <fct> & <dbl> & <dbl> & <dbl> & <dbl> & <dbl> & <dbl>\\\\\n",
       "\\hline\n",
       "\t Photo & Photo  & 1119 & 32048 & 1386 & 0.8846370 & 0.08272369 & 0.03544925\\\\\n",
       "\t Photo & Photo  &  580 &  3200 &  396 & 0.8269720 & 0.12468193 & 0.05425179\\\\\n",
       "\t Photo & Status & 4540 & 18952 & 3798 & 0.9246032 & 0.07539683 & 0.01158940\\\\\n",
       "\t Photo & Photo  &  133 &  2072 &  152 & 0.8653846 & 0.13461538 & 0.03652968\\\\\n",
       "\t Photo & Status & 1425 &  8548 & 1162 & 0.7962963 & 0.16666667 & 0.01073559\\\\\n",
       "\t Photo & Photo  &  111 &  1161 &  100 & 0.8095238 & 0.19047619 & 0.02639849\\\\\n",
       "\t Photo & Status & 1489 &  5244 &  995 & 0.8181818 & 0.15702479 & 0.01425542\\\\\n",
       "\t Photo & Photo  &  247 &  1676 &  194 & 0.7840000 & 0.18400000 & 0.04163891\\\\\n",
       "\t ⋮ & ⋮ & ⋮ & ⋮ & ⋮ & ⋮ & ⋮ & ⋮\\\\\n",
       "\t Photo & Photo & 1422 &  5640 & 465 & 0.7327189 & 0.24423963 & 0.025529412\\\\\n",
       "\t Photo & Photo & 1326 &  3578 & 441 & 0.7914110 & 0.19631902 & 0.030812854\\\\\n",
       "\t Photo & Photo & 2022 &  6964 & 742 & 0.6881029 & 0.25080386 & 0.030976096\\\\\n",
       "\t Photo & Photo & 1441 &  4280 & 583 & 0.7529412 & 0.22352941 & 0.026218384\\\\\n",
       "\t Photo & Photo & 1452 &  3546 & 420 & 0.7738095 & 0.22619048 & 0.014598540\\\\\n",
       "\t Photo & Link  &   71 &  3996 &  58 & 0.8571429 & 0.14285714 & 0.002708978\\\\\n",
       "\t Photo & Photo & 1243 &  3094 & 440 & 0.6746988 & 0.30120482 & 0.016487882\\\\\n",
       "\t Photo & Link  &  763 & 10720 & 220 & 0.9343066 & 0.06569343 & 0.002983449\\\\\n",
       "\\end{tabular}\n"
      ],
      "text/markdown": [
       "\n",
       "A tibble: 121 × 8\n",
       "\n",
       "| .pred_class &lt;fct&gt; | type &lt;fct&gt; | post_consumptions &lt;dbl&gt; | reach_by_people_that_like_page &lt;dbl&gt; | people_liked_and_engaged &lt;dbl&gt; | like_ratio &lt;dbl&gt; | share_ratio &lt;dbl&gt; | engagement_ratio &lt;dbl&gt; |\n",
       "|---|---|---|---|---|---|---|---|\n",
       "| Photo | Photo  | 1119 | 32048 | 1386 | 0.8846370 | 0.08272369 | 0.03544925 |\n",
       "| Photo | Photo  |  580 |  3200 |  396 | 0.8269720 | 0.12468193 | 0.05425179 |\n",
       "| Photo | Status | 4540 | 18952 | 3798 | 0.9246032 | 0.07539683 | 0.01158940 |\n",
       "| Photo | Photo  |  133 |  2072 |  152 | 0.8653846 | 0.13461538 | 0.03652968 |\n",
       "| Photo | Status | 1425 |  8548 | 1162 | 0.7962963 | 0.16666667 | 0.01073559 |\n",
       "| Photo | Photo  |  111 |  1161 |  100 | 0.8095238 | 0.19047619 | 0.02639849 |\n",
       "| Photo | Status | 1489 |  5244 |  995 | 0.8181818 | 0.15702479 | 0.01425542 |\n",
       "| Photo | Photo  |  247 |  1676 |  194 | 0.7840000 | 0.18400000 | 0.04163891 |\n",
       "| ⋮ | ⋮ | ⋮ | ⋮ | ⋮ | ⋮ | ⋮ | ⋮ |\n",
       "| Photo | Photo | 1422 |  5640 | 465 | 0.7327189 | 0.24423963 | 0.025529412 |\n",
       "| Photo | Photo | 1326 |  3578 | 441 | 0.7914110 | 0.19631902 | 0.030812854 |\n",
       "| Photo | Photo | 2022 |  6964 | 742 | 0.6881029 | 0.25080386 | 0.030976096 |\n",
       "| Photo | Photo | 1441 |  4280 | 583 | 0.7529412 | 0.22352941 | 0.026218384 |\n",
       "| Photo | Photo | 1452 |  3546 | 420 | 0.7738095 | 0.22619048 | 0.014598540 |\n",
       "| Photo | Link  |   71 |  3996 |  58 | 0.8571429 | 0.14285714 | 0.002708978 |\n",
       "| Photo | Photo | 1243 |  3094 | 440 | 0.6746988 | 0.30120482 | 0.016487882 |\n",
       "| Photo | Link  |  763 | 10720 | 220 | 0.9343066 | 0.06569343 | 0.002983449 |\n",
       "\n"
      ],
      "text/plain": [
       "    .pred_class type   post_consumptions reach_by_people_that_like_page\n",
       "1   Photo       Photo  1119              32048                         \n",
       "2   Photo       Photo   580               3200                         \n",
       "3   Photo       Status 4540              18952                         \n",
       "4   Photo       Photo   133               2072                         \n",
       "5   Photo       Status 1425               8548                         \n",
       "6   Photo       Photo   111               1161                         \n",
       "7   Photo       Status 1489               5244                         \n",
       "8   Photo       Photo   247               1676                         \n",
       "⋮   ⋮           ⋮      ⋮                 ⋮                             \n",
       "114 Photo       Photo  1422               5640                         \n",
       "115 Photo       Photo  1326               3578                         \n",
       "116 Photo       Photo  2022               6964                         \n",
       "117 Photo       Photo  1441               4280                         \n",
       "118 Photo       Photo  1452               3546                         \n",
       "119 Photo       Link     71               3996                         \n",
       "120 Photo       Photo  1243               3094                         \n",
       "121 Photo       Link    763              10720                         \n",
       "    people_liked_and_engaged like_ratio share_ratio engagement_ratio\n",
       "1   1386                     0.8846370  0.08272369  0.03544925      \n",
       "2    396                     0.8269720  0.12468193  0.05425179      \n",
       "3   3798                     0.9246032  0.07539683  0.01158940      \n",
       "4    152                     0.8653846  0.13461538  0.03652968      \n",
       "5   1162                     0.7962963  0.16666667  0.01073559      \n",
       "6    100                     0.8095238  0.19047619  0.02639849      \n",
       "7    995                     0.8181818  0.15702479  0.01425542      \n",
       "8    194                     0.7840000  0.18400000  0.04163891      \n",
       "⋮   ⋮                        ⋮          ⋮           ⋮               \n",
       "114 465                      0.7327189  0.24423963  0.025529412     \n",
       "115 441                      0.7914110  0.19631902  0.030812854     \n",
       "116 742                      0.6881029  0.25080386  0.030976096     \n",
       "117 583                      0.7529412  0.22352941  0.026218384     \n",
       "118 420                      0.7738095  0.22619048  0.014598540     \n",
       "119  58                      0.8571429  0.14285714  0.002708978     \n",
       "120 440                      0.6746988  0.30120482  0.016487882     \n",
       "121 220                      0.9343066  0.06569343  0.002983449     "
      ]
     },
     "metadata": {},
     "output_type": "display_data"
    }
   ],
   "source": [
    "fb_predictions <- predict(knn_fit, fb_test_selected_final) %>%\n",
    "  bind_cols(fb_test_selected_final)\n",
    "fb_predictions"
   ]
  },
  {
   "cell_type": "code",
   "execution_count": 27,
   "metadata": {},
   "outputs": [
    {
     "name": "stdout",
     "output_type": "stream",
     "text": [
      "[1] \"Metrics for Tested Model\"\n"
     ]
    },
    {
     "data": {
      "text/html": [
       "<table>\n",
       "<caption>A tibble: 2 × 3</caption>\n",
       "<thead>\n",
       "\t<tr><th scope=col>.metric</th><th scope=col>.estimator</th><th scope=col>.estimate</th></tr>\n",
       "\t<tr><th scope=col>&lt;chr&gt;</th><th scope=col>&lt;chr&gt;</th><th scope=col>&lt;dbl&gt;</th></tr>\n",
       "</thead>\n",
       "<tbody>\n",
       "\t<tr><td>accuracy</td><td>multiclass</td><td>0.8264463</td></tr>\n",
       "\t<tr><td>kap     </td><td>multiclass</td><td>0.0000000</td></tr>\n",
       "</tbody>\n",
       "</table>\n"
      ],
      "text/latex": [
       "A tibble: 2 × 3\n",
       "\\begin{tabular}{lll}\n",
       " .metric & .estimator & .estimate\\\\\n",
       " <chr> & <chr> & <dbl>\\\\\n",
       "\\hline\n",
       "\t accuracy & multiclass & 0.8264463\\\\\n",
       "\t kap      & multiclass & 0.0000000\\\\\n",
       "\\end{tabular}\n"
      ],
      "text/markdown": [
       "\n",
       "A tibble: 2 × 3\n",
       "\n",
       "| .metric &lt;chr&gt; | .estimator &lt;chr&gt; | .estimate &lt;dbl&gt; |\n",
       "|---|---|---|\n",
       "| accuracy | multiclass | 0.8264463 |\n",
       "| kap      | multiclass | 0.0000000 |\n",
       "\n"
      ],
      "text/plain": [
       "  .metric  .estimator .estimate\n",
       "1 accuracy multiclass 0.8264463\n",
       "2 kap      multiclass 0.0000000"
      ]
     },
     "metadata": {},
     "output_type": "display_data"
    }
   ],
   "source": [
    "fb_prediction_accuracy <- fb_predictions %>%\n",
    "  metrics(truth = type, estimate = .pred_class)\n",
    "\n",
    "print(\"Metrics for Tested Model\")\n",
    "fb_prediction_accuracy"
   ]
  },
  {
   "cell_type": "markdown",
   "metadata": {},
   "source": [
    "The accuracy of the model when predicting on the test set is around 80%. We can further examine our results by creating a *confusion matrix* for the classifier; the columns represent the actual type of a post, while the rows represent the predicted type. We use the `conf_mat` function to create this matrix:"
   ]
  },
  {
   "cell_type": "code",
   "execution_count": 34,
   "metadata": {},
   "outputs": [
    {
     "name": "stdout",
     "output_type": "stream",
     "text": [
      "[1] \"Confusion Matrix for Results\"\n"
     ]
    },
    {
     "data": {
      "text/plain": [
       "          Truth\n",
       "Prediction Photo Status Link Video\n",
       "    Photo    100     16    4     1\n",
       "    Status     0      0    0     0\n",
       "    Link       0      0    0     0\n",
       "    Video      0      0    0     0"
      ]
     },
     "metadata": {},
     "output_type": "display_data"
    },
    {
     "name": "stdout",
     "output_type": "stream",
     "text": [
      "[1] \"Percentage of Test Data that is photos:\"\n"
     ]
    },
    {
     "data": {
      "text/html": [
       "82.6446280991736"
      ],
      "text/latex": [
       "82.6446280991736"
      ],
      "text/markdown": [
       "82.6446280991736"
      ],
      "text/plain": [
       "[1] 82.64463"
      ]
     },
     "metadata": {},
     "output_type": "display_data"
    }
   ],
   "source": [
    "fb_type_mat <- fb_predictions %>% \n",
    "    conf_mat(truth = type, estimate = .pred_class)\n",
    "\n",
    "print(\"Confusion Matrix for Results\")\n",
    "fb_type_mat\n",
    "\n",
    "# percentage of posts in fb_test_selected_final that are photos\n",
    "photos_percentage <- nrow(fb_test_selected_final %>% filter(type == \"Photo\")) / nrow(fb_test_selected_final) * 100\n",
    "\n",
    "print(\"Percentage of Test Data that is photos:\")\n",
    "photos_percentage"
   ]
  },
  {
   "cell_type": "markdown",
   "metadata": {},
   "source": [
    "With this visualization, it becomes apparent that our classifier predicted every post to be a photo. This is not an ideal outcome, but explains why we achieved a prediction accuracy of around 80%. The vast majority of posts in the data set, and thus in both the training and the testing set, were actually photos. Because of this, despite the oversampling performed, photo was predicted as the type 100% of the time, yielding the correct result *approximately* 80% of the time."
   ]
  },
  {
   "cell_type": "markdown",
   "metadata": {},
   "source": [
    "### Discussion:\n",
    "\n",
    "In our analysis, we hoped to define a relationship between the predictors that that we selected, and the type of the post. Though Looking at the results, we were unsuccessful in this.\n",
    "\n",
    "Dispite us having an 80% accuracy on the testing set, this is a result of the set having 80% photos. This is because the model we created is extremely overfitted and produces \"Photo\" as every result. We knew that this would be a problem from the inital exploration of the data, but we were hoping that this could be fixed by upsampling the data. This didn't work so for us to fix the problem with the model, we would have to use a different method of reducing the overfitting of the model.\n",
    "\n",
    "We were hoping that this model would be able to show some relationships between the metrics a post would get, and the type of the post. We hoped that with an accurate model, companies would be able to create taylored posts that reach specific engagement that they wanted. If we found that high likes and general engagement were a characteristics of videos, companies would know that they should focus on posts of videos.\n",
    "\n",
    "Future questions following from this analysis may include:\n",
    "- Do paid posts generate more traffic than unpaid posts?\n",
    "- Does the category of a post (i.e., “action”, “product”, or “inspiration” classification) affect the overall and/or ratio of interactions on a post?\n",
    "- Do posts with more interactions overall correlate with increases in users liking a company’s Facebook page? "
   ]
  },
  {
   "cell_type": "markdown",
   "metadata": {},
   "source": [
    "### References: \n",
    "[1] Statista, \"Global social networks ranked by number of users 2021\", 2021 [Online]. Available: https://www-statista-com.ezproxy.library.ubc.ca/statistics/272014/global-social-networks-ranked-by-number-of-users/. [Accessed: 28- Feb- 2021]\n",
    "\n",
    "[2] S. Moro, P. Rita and B. Vala, \"Predicting social media performance metrics and evluation of the impact on brand building: A data mining approach\", *Journal of Business Research*, vol. 69, no. 9, 2021.\n",
    "\n",
    "[3] E. Ernoult, “6 Facebook Metrics Marketers Should Be Measuring : Social Media Examiner,” Social Media Examiner | Social Media Marketing. [Online]. Available: https://www.socialmediaexaminer.com/facebook-page-metrics/. [Accessed: 12-Apr-2021]. \n"
   ]
  }
 ],
 "metadata": {
  "kernelspec": {
   "display_name": "R",
   "language": "R",
   "name": "ir"
  },
  "language_info": {
   "codemirror_mode": "r",
   "file_extension": ".r",
   "mimetype": "text/x-r-source",
   "name": "R",
   "pygments_lexer": "r",
   "version": "4.0.0"
  }
 },
 "nbformat": 4,
 "nbformat_minor": 4
}
