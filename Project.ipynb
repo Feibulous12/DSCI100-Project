{
 "cells": [
  {
   "cell_type": "markdown",
   "metadata": {},
   "source": [
    "# DSCI 100: Group Project Proposal \n",
    "\n",
    "\n",
    "## Classification of Facebook Posts\n",
    "\n",
    "#### Introduction:\n",
    "\n",
    "The dataset *Facebook performance metrics* (Moro et al., 2016) contains data related to posts published throughout the year 2014 on a renowned cosmetics brand's Facebook page. Post information such as type (photo, status, link, or video), time posted (month, day of week, and hour), user engagement (comments, likes, and shares), and whether the post was paid or unpaid is included in the dataset. This project proposes to use columns from this dataset relevant to engagement - all input columns excluding post month, weekday, and hour - to determine the type of a brand's Facebook post. Key metrics and their correlation with type of post will be investigated to determine whether there is a relationship between the two. \n"
   ]
  },
  {
   "cell_type": "markdown",
   "metadata": {},
   "source": [
    "# EXPLICITELY STATE OUR RESEARCH QUESTION HERE!!!"
   ]
  },
  {
   "cell_type": "markdown",
   "metadata": {},
   "source": [
    "#### Preliminary exploratory data analysis:\n",
    "\n",
    "We begin by loading the relevant libraries."
   ]
  },
  {
   "cell_type": "code",
   "execution_count": 1,
   "metadata": {},
   "outputs": [
    {
     "name": "stderr",
     "output_type": "stream",
     "text": [
      "── \u001b[1mAttaching packages\u001b[22m ─────────────────────────────────────── tidyverse 1.3.0 ──\n",
      "\n",
      "\u001b[32m✔\u001b[39m \u001b[34mggplot2\u001b[39m 3.3.3     \u001b[32m✔\u001b[39m \u001b[34mpurrr  \u001b[39m 0.3.4\n",
      "\u001b[32m✔\u001b[39m \u001b[34mtibble \u001b[39m 3.1.0     \u001b[32m✔\u001b[39m \u001b[34mdplyr  \u001b[39m 1.0.5\n",
      "\u001b[32m✔\u001b[39m \u001b[34mtidyr  \u001b[39m 1.1.3     \u001b[32m✔\u001b[39m \u001b[34mstringr\u001b[39m 1.4.0\n",
      "\u001b[32m✔\u001b[39m \u001b[34mreadr  \u001b[39m 1.4.0     \u001b[32m✔\u001b[39m \u001b[34mforcats\u001b[39m 0.5.1\n",
      "\n",
      "── \u001b[1mConflicts\u001b[22m ────────────────────────────────────────── tidyverse_conflicts() ──\n",
      "\u001b[31m✖\u001b[39m \u001b[34mdplyr\u001b[39m::\u001b[32mfilter()\u001b[39m masks \u001b[34mstats\u001b[39m::filter()\n",
      "\u001b[31m✖\u001b[39m \u001b[34mdplyr\u001b[39m::\u001b[32mlag()\u001b[39m    masks \u001b[34mstats\u001b[39m::lag()\n",
      "\n",
      "── \u001b[1mAttaching packages\u001b[22m ────────────────────────────────────── tidymodels 0.1.2 ──\n",
      "\n",
      "\u001b[32m✔\u001b[39m \u001b[34mbroom    \u001b[39m 0.7.6      \u001b[32m✔\u001b[39m \u001b[34mrecipes  \u001b[39m 0.1.15\n",
      "\u001b[32m✔\u001b[39m \u001b[34mdials    \u001b[39m 0.0.9      \u001b[32m✔\u001b[39m \u001b[34mrsample  \u001b[39m 0.0.9 \n",
      "\u001b[32m✔\u001b[39m \u001b[34minfer    \u001b[39m 0.5.4      \u001b[32m✔\u001b[39m \u001b[34mtune     \u001b[39m 0.1.3 \n",
      "\u001b[32m✔\u001b[39m \u001b[34mmodeldata\u001b[39m 0.1.0      \u001b[32m✔\u001b[39m \u001b[34mworkflows\u001b[39m 0.2.2 \n",
      "\u001b[32m✔\u001b[39m \u001b[34mparsnip  \u001b[39m 0.1.5      \u001b[32m✔\u001b[39m \u001b[34myardstick\u001b[39m 0.0.8 \n",
      "\n",
      "── \u001b[1mConflicts\u001b[22m ───────────────────────────────────────── tidymodels_conflicts() ──\n",
      "\u001b[31m✖\u001b[39m \u001b[34mscales\u001b[39m::\u001b[32mdiscard()\u001b[39m masks \u001b[34mpurrr\u001b[39m::discard()\n",
      "\u001b[31m✖\u001b[39m \u001b[34mdplyr\u001b[39m::\u001b[32mfilter()\u001b[39m   masks \u001b[34mstats\u001b[39m::filter()\n",
      "\u001b[31m✖\u001b[39m \u001b[34mrecipes\u001b[39m::\u001b[32mfixed()\u001b[39m  masks \u001b[34mstringr\u001b[39m::fixed()\n",
      "\u001b[31m✖\u001b[39m \u001b[34mdplyr\u001b[39m::\u001b[32mlag()\u001b[39m      masks \u001b[34mstats\u001b[39m::lag()\n",
      "\u001b[31m✖\u001b[39m \u001b[34myardstick\u001b[39m::\u001b[32mspec()\u001b[39m masks \u001b[34mreadr\u001b[39m::spec()\n",
      "\u001b[31m✖\u001b[39m \u001b[34mrecipes\u001b[39m::\u001b[32mstep()\u001b[39m   masks \u001b[34mstats\u001b[39m::step()\n",
      "\n",
      "Registered S3 method overwritten by 'GGally':\n",
      "  method from   \n",
      "  +.gg   ggplot2\n",
      "\n"
     ]
    }
   ],
   "source": [
    "# Load libraries for preliminary data analysis:\n",
    "library(tidyverse)\n",
    "library(repr)\n",
    "library(readxl)\n",
    "library(tidymodels)\n",
    "library(GGally)"
   ]
  },
  {
   "cell_type": "markdown",
   "metadata": {},
   "source": [
    "The following cell loads the dataset into R; as the dataset on the web is contained in a zip folder, the .csv file was manually extracted and pushed to the working Github repository.\n",
    "\n",
    "The dataset is already in tidy format. The column headings were made more usable by removing spaces and shortening longer headings."
   ]
  },
  {
   "cell_type": "code",
   "execution_count": 2,
   "metadata": {},
   "outputs": [
    {
     "name": "stderr",
     "output_type": "stream",
     "text": [
      "\u001b[36mℹ\u001b[39m Using \u001b[34m\u001b[34m','\u001b[34m\u001b[39m as decimal and \u001b[34m\u001b[34m'.'\u001b[34m\u001b[39m as grouping mark. Use \u001b[30m\u001b[47m\u001b[30m\u001b[47m`read_delim()`\u001b[47m\u001b[30m\u001b[49m\u001b[39m for more control.\n",
      "\n"
     ]
    },
    {
     "data": {
      "text/html": [
       "<table class=\"dataframe\">\n",
       "<caption>A spec_tbl_df: 500 × 19</caption>\n",
       "<thead>\n",
       "\t<tr><th scope=col>Page total likes</th><th scope=col>Type</th><th scope=col>Category</th><th scope=col>Post Month</th><th scope=col>Post Weekday</th><th scope=col>Post Hour</th><th scope=col>Paid</th><th scope=col>Lifetime Post Total Reach</th><th scope=col>Lifetime Post Total Impressions</th><th scope=col>Lifetime Engaged Users</th><th scope=col>Lifetime Post Consumers</th><th scope=col>Lifetime Post Consumptions</th><th scope=col>Lifetime Post Impressions by people who have liked your Page</th><th scope=col>Lifetime Post reach by people who like your Page</th><th scope=col>Lifetime People who have liked your Page and engaged with your post</th><th scope=col>comment</th><th scope=col>like</th><th scope=col>share</th><th scope=col>Total Interactions</th></tr>\n",
       "\t<tr><th scope=col>&lt;dbl&gt;</th><th scope=col>&lt;chr&gt;</th><th scope=col>&lt;dbl&gt;</th><th scope=col>&lt;dbl&gt;</th><th scope=col>&lt;dbl&gt;</th><th scope=col>&lt;dbl&gt;</th><th scope=col>&lt;dbl&gt;</th><th scope=col>&lt;dbl&gt;</th><th scope=col>&lt;dbl&gt;</th><th scope=col>&lt;dbl&gt;</th><th scope=col>&lt;dbl&gt;</th><th scope=col>&lt;dbl&gt;</th><th scope=col>&lt;dbl&gt;</th><th scope=col>&lt;dbl&gt;</th><th scope=col>&lt;dbl&gt;</th><th scope=col>&lt;dbl&gt;</th><th scope=col>&lt;dbl&gt;</th><th scope=col>&lt;dbl&gt;</th><th scope=col>&lt;dbl&gt;</th></tr>\n",
       "</thead>\n",
       "<tbody>\n",
       "\t<tr><td>139441</td><td>Photo </td><td>2</td><td>12</td><td>4</td><td> 3</td><td>0</td><td> 2752</td><td> 5091</td><td> 178</td><td> 109</td><td> 159</td><td> 3078</td><td> 1640</td><td> 119</td><td> 4</td><td>  79</td><td> 17</td><td> 100</td></tr>\n",
       "\t<tr><td>139441</td><td>Status</td><td>2</td><td>12</td><td>3</td><td>10</td><td>0</td><td>10460</td><td>19057</td><td>1457</td><td>1361</td><td>1674</td><td>11710</td><td> 6112</td><td>1108</td><td> 5</td><td> 130</td><td> 29</td><td> 164</td></tr>\n",
       "\t<tr><td>139441</td><td>Photo </td><td>3</td><td>12</td><td>3</td><td> 3</td><td>0</td><td> 2413</td><td> 4373</td><td> 177</td><td> 113</td><td> 154</td><td> 2812</td><td> 1503</td><td> 132</td><td> 0</td><td>  66</td><td> 14</td><td>  80</td></tr>\n",
       "\t<tr><td>139441</td><td>Photo </td><td>2</td><td>12</td><td>2</td><td>10</td><td>1</td><td>50128</td><td>87991</td><td>2211</td><td> 790</td><td>1119</td><td>61027</td><td>32048</td><td>1386</td><td>58</td><td>1572</td><td>147</td><td>1777</td></tr>\n",
       "\t<tr><td>139441</td><td>Photo </td><td>2</td><td>12</td><td>2</td><td> 3</td><td>0</td><td> 7244</td><td>13594</td><td> 671</td><td> 410</td><td> 580</td><td> 6228</td><td> 3200</td><td> 396</td><td>19</td><td> 325</td><td> 49</td><td> 393</td></tr>\n",
       "\t<tr><td>139441</td><td>Status</td><td>2</td><td>12</td><td>1</td><td> 9</td><td>0</td><td>10472</td><td>20849</td><td>1191</td><td>1073</td><td>1389</td><td>16034</td><td> 7852</td><td>1016</td><td> 1</td><td> 152</td><td> 33</td><td> 186</td></tr>\n",
       "\t<tr><td>139441</td><td>Photo </td><td>3</td><td>12</td><td>1</td><td> 3</td><td>1</td><td>11692</td><td>19479</td><td> 481</td><td> 265</td><td> 364</td><td>15432</td><td> 9328</td><td> 379</td><td> 3</td><td> 249</td><td> 27</td><td> 279</td></tr>\n",
       "\t<tr><td>139441</td><td>Photo </td><td>3</td><td>12</td><td>7</td><td> 9</td><td>1</td><td>13720</td><td>24137</td><td> 537</td><td> 232</td><td> 305</td><td>19728</td><td>11056</td><td> 422</td><td> 0</td><td> 325</td><td> 14</td><td> 339</td></tr>\n",
       "\t<tr><td>⋮</td><td>⋮</td><td>⋮</td><td>⋮</td><td>⋮</td><td>⋮</td><td>⋮</td><td>⋮</td><td>⋮</td><td>⋮</td><td>⋮</td><td>⋮</td><td>⋮</td><td>⋮</td><td>⋮</td><td>⋮</td><td>⋮</td><td>⋮</td><td>⋮</td></tr>\n",
       "\t<tr><td>85979</td><td>Link </td><td>1</td><td>1</td><td>5</td><td>11</td><td> 0</td><td>45920</td><td> 5808</td><td> 753</td><td> 655</td><td> 763</td><td>15766</td><td>10720</td><td>220</td><td> 0</td><td>128</td><td> 9</td><td>137</td></tr>\n",
       "\t<tr><td>85093</td><td>Photo</td><td>3</td><td>1</td><td>1</td><td> 2</td><td> 0</td><td> 8412</td><td>13960</td><td>1179</td><td>1111</td><td>1632</td><td> 8632</td><td> 5348</td><td>699</td><td>17</td><td>185</td><td>55</td><td>257</td></tr>\n",
       "\t<tr><td>85093</td><td>Photo</td><td>3</td><td>1</td><td>7</td><td>10</td><td> 0</td><td> 5400</td><td> 9218</td><td> 810</td><td> 756</td><td>1003</td><td> 5654</td><td> 3230</td><td>422</td><td>10</td><td>125</td><td>41</td><td>176</td></tr>\n",
       "\t<tr><td>85093</td><td>Photo</td><td>3</td><td>1</td><td>7</td><td> 2</td><td> 0</td><td> 4684</td><td> 7536</td><td> 733</td><td> 708</td><td> 985</td><td> 4750</td><td> 2876</td><td>392</td><td> 5</td><td> 53</td><td>26</td><td> 84</td></tr>\n",
       "\t<tr><td>81370</td><td>Photo</td><td>2</td><td>1</td><td>5</td><td> 8</td><td> 0</td><td> 3480</td><td> 6229</td><td> 537</td><td> 508</td><td> 687</td><td> 3961</td><td> 2104</td><td>301</td><td> 0</td><td> 53</td><td>22</td><td> 75</td></tr>\n",
       "\t<tr><td>81370</td><td>Photo</td><td>1</td><td>1</td><td>5</td><td> 2</td><td> 0</td><td> 3778</td><td> 7216</td><td> 625</td><td> 572</td><td> 795</td><td> 4742</td><td> 2388</td><td>363</td><td> 4</td><td> 93</td><td>18</td><td>115</td></tr>\n",
       "\t<tr><td>81370</td><td>Photo</td><td>3</td><td>1</td><td>4</td><td>11</td><td> 0</td><td> 4156</td><td> 7564</td><td> 626</td><td> 574</td><td> 832</td><td> 4534</td><td> 2452</td><td>370</td><td> 7</td><td> 91</td><td>38</td><td>136</td></tr>\n",
       "\t<tr><td>81370</td><td>Photo</td><td>2</td><td>1</td><td>4</td><td> 4</td><td>NA</td><td> 4188</td><td> 7292</td><td> 564</td><td> 524</td><td> 743</td><td> 3861</td><td> 2200</td><td>316</td><td> 0</td><td> 91</td><td>28</td><td>119</td></tr>\n",
       "</tbody>\n",
       "</table>\n"
      ],
      "text/latex": [
       "A spec\\_tbl\\_df: 500 × 19\n",
       "\\begin{tabular}{lllllllllllllllllll}\n",
       " Page total likes & Type & Category & Post Month & Post Weekday & Post Hour & Paid & Lifetime Post Total Reach & Lifetime Post Total Impressions & Lifetime Engaged Users & Lifetime Post Consumers & Lifetime Post Consumptions & Lifetime Post Impressions by people who have liked your Page & Lifetime Post reach by people who like your Page & Lifetime People who have liked your Page and engaged with your post & comment & like & share & Total Interactions\\\\\n",
       " <dbl> & <chr> & <dbl> & <dbl> & <dbl> & <dbl> & <dbl> & <dbl> & <dbl> & <dbl> & <dbl> & <dbl> & <dbl> & <dbl> & <dbl> & <dbl> & <dbl> & <dbl> & <dbl>\\\\\n",
       "\\hline\n",
       "\t 139441 & Photo  & 2 & 12 & 4 &  3 & 0 &  2752 &  5091 &  178 &  109 &  159 &  3078 &  1640 &  119 &  4 &   79 &  17 &  100\\\\\n",
       "\t 139441 & Status & 2 & 12 & 3 & 10 & 0 & 10460 & 19057 & 1457 & 1361 & 1674 & 11710 &  6112 & 1108 &  5 &  130 &  29 &  164\\\\\n",
       "\t 139441 & Photo  & 3 & 12 & 3 &  3 & 0 &  2413 &  4373 &  177 &  113 &  154 &  2812 &  1503 &  132 &  0 &   66 &  14 &   80\\\\\n",
       "\t 139441 & Photo  & 2 & 12 & 2 & 10 & 1 & 50128 & 87991 & 2211 &  790 & 1119 & 61027 & 32048 & 1386 & 58 & 1572 & 147 & 1777\\\\\n",
       "\t 139441 & Photo  & 2 & 12 & 2 &  3 & 0 &  7244 & 13594 &  671 &  410 &  580 &  6228 &  3200 &  396 & 19 &  325 &  49 &  393\\\\\n",
       "\t 139441 & Status & 2 & 12 & 1 &  9 & 0 & 10472 & 20849 & 1191 & 1073 & 1389 & 16034 &  7852 & 1016 &  1 &  152 &  33 &  186\\\\\n",
       "\t 139441 & Photo  & 3 & 12 & 1 &  3 & 1 & 11692 & 19479 &  481 &  265 &  364 & 15432 &  9328 &  379 &  3 &  249 &  27 &  279\\\\\n",
       "\t 139441 & Photo  & 3 & 12 & 7 &  9 & 1 & 13720 & 24137 &  537 &  232 &  305 & 19728 & 11056 &  422 &  0 &  325 &  14 &  339\\\\\n",
       "\t ⋮ & ⋮ & ⋮ & ⋮ & ⋮ & ⋮ & ⋮ & ⋮ & ⋮ & ⋮ & ⋮ & ⋮ & ⋮ & ⋮ & ⋮ & ⋮ & ⋮ & ⋮ & ⋮\\\\\n",
       "\t 85979 & Link  & 1 & 1 & 5 & 11 &  0 & 45920 &  5808 &  753 &  655 &  763 & 15766 & 10720 & 220 &  0 & 128 &  9 & 137\\\\\n",
       "\t 85093 & Photo & 3 & 1 & 1 &  2 &  0 &  8412 & 13960 & 1179 & 1111 & 1632 &  8632 &  5348 & 699 & 17 & 185 & 55 & 257\\\\\n",
       "\t 85093 & Photo & 3 & 1 & 7 & 10 &  0 &  5400 &  9218 &  810 &  756 & 1003 &  5654 &  3230 & 422 & 10 & 125 & 41 & 176\\\\\n",
       "\t 85093 & Photo & 3 & 1 & 7 &  2 &  0 &  4684 &  7536 &  733 &  708 &  985 &  4750 &  2876 & 392 &  5 &  53 & 26 &  84\\\\\n",
       "\t 81370 & Photo & 2 & 1 & 5 &  8 &  0 &  3480 &  6229 &  537 &  508 &  687 &  3961 &  2104 & 301 &  0 &  53 & 22 &  75\\\\\n",
       "\t 81370 & Photo & 1 & 1 & 5 &  2 &  0 &  3778 &  7216 &  625 &  572 &  795 &  4742 &  2388 & 363 &  4 &  93 & 18 & 115\\\\\n",
       "\t 81370 & Photo & 3 & 1 & 4 & 11 &  0 &  4156 &  7564 &  626 &  574 &  832 &  4534 &  2452 & 370 &  7 &  91 & 38 & 136\\\\\n",
       "\t 81370 & Photo & 2 & 1 & 4 &  4 & NA &  4188 &  7292 &  564 &  524 &  743 &  3861 &  2200 & 316 &  0 &  91 & 28 & 119\\\\\n",
       "\\end{tabular}\n"
      ],
      "text/markdown": [
       "\n",
       "A spec_tbl_df: 500 × 19\n",
       "\n",
       "| Page total likes &lt;dbl&gt; | Type &lt;chr&gt; | Category &lt;dbl&gt; | Post Month &lt;dbl&gt; | Post Weekday &lt;dbl&gt; | Post Hour &lt;dbl&gt; | Paid &lt;dbl&gt; | Lifetime Post Total Reach &lt;dbl&gt; | Lifetime Post Total Impressions &lt;dbl&gt; | Lifetime Engaged Users &lt;dbl&gt; | Lifetime Post Consumers &lt;dbl&gt; | Lifetime Post Consumptions &lt;dbl&gt; | Lifetime Post Impressions by people who have liked your Page &lt;dbl&gt; | Lifetime Post reach by people who like your Page &lt;dbl&gt; | Lifetime People who have liked your Page and engaged with your post &lt;dbl&gt; | comment &lt;dbl&gt; | like &lt;dbl&gt; | share &lt;dbl&gt; | Total Interactions &lt;dbl&gt; |\n",
       "|---|---|---|---|---|---|---|---|---|---|---|---|---|---|---|---|---|---|---|\n",
       "| 139441 | Photo  | 2 | 12 | 4 |  3 | 0 |  2752 |  5091 |  178 |  109 |  159 |  3078 |  1640 |  119 |  4 |   79 |  17 |  100 |\n",
       "| 139441 | Status | 2 | 12 | 3 | 10 | 0 | 10460 | 19057 | 1457 | 1361 | 1674 | 11710 |  6112 | 1108 |  5 |  130 |  29 |  164 |\n",
       "| 139441 | Photo  | 3 | 12 | 3 |  3 | 0 |  2413 |  4373 |  177 |  113 |  154 |  2812 |  1503 |  132 |  0 |   66 |  14 |   80 |\n",
       "| 139441 | Photo  | 2 | 12 | 2 | 10 | 1 | 50128 | 87991 | 2211 |  790 | 1119 | 61027 | 32048 | 1386 | 58 | 1572 | 147 | 1777 |\n",
       "| 139441 | Photo  | 2 | 12 | 2 |  3 | 0 |  7244 | 13594 |  671 |  410 |  580 |  6228 |  3200 |  396 | 19 |  325 |  49 |  393 |\n",
       "| 139441 | Status | 2 | 12 | 1 |  9 | 0 | 10472 | 20849 | 1191 | 1073 | 1389 | 16034 |  7852 | 1016 |  1 |  152 |  33 |  186 |\n",
       "| 139441 | Photo  | 3 | 12 | 1 |  3 | 1 | 11692 | 19479 |  481 |  265 |  364 | 15432 |  9328 |  379 |  3 |  249 |  27 |  279 |\n",
       "| 139441 | Photo  | 3 | 12 | 7 |  9 | 1 | 13720 | 24137 |  537 |  232 |  305 | 19728 | 11056 |  422 |  0 |  325 |  14 |  339 |\n",
       "| ⋮ | ⋮ | ⋮ | ⋮ | ⋮ | ⋮ | ⋮ | ⋮ | ⋮ | ⋮ | ⋮ | ⋮ | ⋮ | ⋮ | ⋮ | ⋮ | ⋮ | ⋮ | ⋮ |\n",
       "| 85979 | Link  | 1 | 1 | 5 | 11 |  0 | 45920 |  5808 |  753 |  655 |  763 | 15766 | 10720 | 220 |  0 | 128 |  9 | 137 |\n",
       "| 85093 | Photo | 3 | 1 | 1 |  2 |  0 |  8412 | 13960 | 1179 | 1111 | 1632 |  8632 |  5348 | 699 | 17 | 185 | 55 | 257 |\n",
       "| 85093 | Photo | 3 | 1 | 7 | 10 |  0 |  5400 |  9218 |  810 |  756 | 1003 |  5654 |  3230 | 422 | 10 | 125 | 41 | 176 |\n",
       "| 85093 | Photo | 3 | 1 | 7 |  2 |  0 |  4684 |  7536 |  733 |  708 |  985 |  4750 |  2876 | 392 |  5 |  53 | 26 |  84 |\n",
       "| 81370 | Photo | 2 | 1 | 5 |  8 |  0 |  3480 |  6229 |  537 |  508 |  687 |  3961 |  2104 | 301 |  0 |  53 | 22 |  75 |\n",
       "| 81370 | Photo | 1 | 1 | 5 |  2 |  0 |  3778 |  7216 |  625 |  572 |  795 |  4742 |  2388 | 363 |  4 |  93 | 18 | 115 |\n",
       "| 81370 | Photo | 3 | 1 | 4 | 11 |  0 |  4156 |  7564 |  626 |  574 |  832 |  4534 |  2452 | 370 |  7 |  91 | 38 | 136 |\n",
       "| 81370 | Photo | 2 | 1 | 4 |  4 | NA |  4188 |  7292 |  564 |  524 |  743 |  3861 |  2200 | 316 |  0 |  91 | 28 | 119 |\n",
       "\n"
      ],
      "text/plain": [
       "    Page total likes Type   Category Post Month Post Weekday Post Hour Paid\n",
       "1   139441           Photo  2        12         4             3        0   \n",
       "2   139441           Status 2        12         3            10        0   \n",
       "3   139441           Photo  3        12         3             3        0   \n",
       "4   139441           Photo  2        12         2            10        1   \n",
       "5   139441           Photo  2        12         2             3        0   \n",
       "6   139441           Status 2        12         1             9        0   \n",
       "7   139441           Photo  3        12         1             3        1   \n",
       "8   139441           Photo  3        12         7             9        1   \n",
       "⋮   ⋮                ⋮      ⋮        ⋮          ⋮            ⋮         ⋮   \n",
       "493 85979            Link   1        1          5            11         0  \n",
       "494 85093            Photo  3        1          1             2         0  \n",
       "495 85093            Photo  3        1          7            10         0  \n",
       "496 85093            Photo  3        1          7             2         0  \n",
       "497 81370            Photo  2        1          5             8         0  \n",
       "498 81370            Photo  1        1          5             2         0  \n",
       "499 81370            Photo  3        1          4            11         0  \n",
       "500 81370            Photo  2        1          4             4        NA  \n",
       "    Lifetime Post Total Reach Lifetime Post Total Impressions\n",
       "1    2752                      5091                          \n",
       "2   10460                     19057                          \n",
       "3    2413                      4373                          \n",
       "4   50128                     87991                          \n",
       "5    7244                     13594                          \n",
       "6   10472                     20849                          \n",
       "7   11692                     19479                          \n",
       "8   13720                     24137                          \n",
       "⋮   ⋮                         ⋮                              \n",
       "493 45920                      5808                          \n",
       "494  8412                     13960                          \n",
       "495  5400                      9218                          \n",
       "496  4684                      7536                          \n",
       "497  3480                      6229                          \n",
       "498  3778                      7216                          \n",
       "499  4156                      7564                          \n",
       "500  4188                      7292                          \n",
       "    Lifetime Engaged Users Lifetime Post Consumers Lifetime Post Consumptions\n",
       "1    178                    109                     159                      \n",
       "2   1457                   1361                    1674                      \n",
       "3    177                    113                     154                      \n",
       "4   2211                    790                    1119                      \n",
       "5    671                    410                     580                      \n",
       "6   1191                   1073                    1389                      \n",
       "7    481                    265                     364                      \n",
       "8    537                    232                     305                      \n",
       "⋮   ⋮                      ⋮                       ⋮                         \n",
       "493  753                    655                     763                      \n",
       "494 1179                   1111                    1632                      \n",
       "495  810                    756                    1003                      \n",
       "496  733                    708                     985                      \n",
       "497  537                    508                     687                      \n",
       "498  625                    572                     795                      \n",
       "499  626                    574                     832                      \n",
       "500  564                    524                     743                      \n",
       "    Lifetime Post Impressions by people who have liked your Page\n",
       "1    3078                                                       \n",
       "2   11710                                                       \n",
       "3    2812                                                       \n",
       "4   61027                                                       \n",
       "5    6228                                                       \n",
       "6   16034                                                       \n",
       "7   15432                                                       \n",
       "8   19728                                                       \n",
       "⋮   ⋮                                                           \n",
       "493 15766                                                       \n",
       "494  8632                                                       \n",
       "495  5654                                                       \n",
       "496  4750                                                       \n",
       "497  3961                                                       \n",
       "498  4742                                                       \n",
       "499  4534                                                       \n",
       "500  3861                                                       \n",
       "    Lifetime Post reach by people who like your Page\n",
       "1    1640                                           \n",
       "2    6112                                           \n",
       "3    1503                                           \n",
       "4   32048                                           \n",
       "5    3200                                           \n",
       "6    7852                                           \n",
       "7    9328                                           \n",
       "8   11056                                           \n",
       "⋮   ⋮                                               \n",
       "493 10720                                           \n",
       "494  5348                                           \n",
       "495  3230                                           \n",
       "496  2876                                           \n",
       "497  2104                                           \n",
       "498  2388                                           \n",
       "499  2452                                           \n",
       "500  2200                                           \n",
       "    Lifetime People who have liked your Page and engaged with your post comment\n",
       "1    119                                                                 4     \n",
       "2   1108                                                                 5     \n",
       "3    132                                                                 0     \n",
       "4   1386                                                                58     \n",
       "5    396                                                                19     \n",
       "6   1016                                                                 1     \n",
       "7    379                                                                 3     \n",
       "8    422                                                                 0     \n",
       "⋮   ⋮                                                                   ⋮      \n",
       "493 220                                                                  0     \n",
       "494 699                                                                 17     \n",
       "495 422                                                                 10     \n",
       "496 392                                                                  5     \n",
       "497 301                                                                  0     \n",
       "498 363                                                                  4     \n",
       "499 370                                                                  7     \n",
       "500 316                                                                  0     \n",
       "    like share Total Interactions\n",
       "1     79  17    100              \n",
       "2    130  29    164              \n",
       "3     66  14     80              \n",
       "4   1572 147   1777              \n",
       "5    325  49    393              \n",
       "6    152  33    186              \n",
       "7    249  27    279              \n",
       "8    325  14    339              \n",
       "⋮   ⋮    ⋮     ⋮                 \n",
       "493 128   9    137               \n",
       "494 185  55    257               \n",
       "495 125  41    176               \n",
       "496  53  26     84               \n",
       "497  53  22     75               \n",
       "498  93  18    115               \n",
       "499  91  38    136               \n",
       "500  91  28    119               "
      ]
     },
     "metadata": {},
     "output_type": "display_data"
    }
   ],
   "source": [
    "# displays first and last 8 rows of the dataset\n",
    "options(repr.matrix.max.rows = 16)\n",
    "# Set the seed\n",
    "set.seed(123)\n",
    "\n",
    "# Load the data in\n",
    "fb_data_raw <- read_csv2(\"https://gist.githubusercontent.com/KolCrooks/691e5890b6747b4777d6032f019b2c0f/raw/20629a5da3d5a7683e3071798876f3e4b204fbbb/fb_data.csv\",  col_types = cols())\n",
    "\n",
    "fb_data_raw"
   ]
  },
  {
   "cell_type": "code",
   "execution_count": 3,
   "metadata": {},
   "outputs": [
    {
     "data": {
      "text/html": [
       "6"
      ],
      "text/latex": [
       "6"
      ],
      "text/markdown": [
       "6"
      ],
      "text/plain": [
       "[1] 6"
      ]
     },
     "metadata": {},
     "output_type": "display_data"
    }
   ],
   "source": [
    "# Na Rows:\n",
    "sum(is.na(fb_data_raw))"
   ]
  },
  {
   "cell_type": "markdown",
   "metadata": {},
   "source": [
    "# EXPLAIN WHY WE CONVERT COMMENT LIKE AND SHARE TO PERCENTS"
   ]
  },
  {
   "cell_type": "code",
   "execution_count": 4,
   "metadata": {},
   "outputs": [
    {
     "data": {
      "text/html": [
       "<table class=\"dataframe\">\n",
       "<caption>A tibble: 490 × 22</caption>\n",
       "<thead>\n",
       "\t<tr><th scope=col>page_likes</th><th scope=col>type</th><th scope=col>category</th><th scope=col>post_month</th><th scope=col>post_weekday</th><th scope=col>post_hour</th><th scope=col>paid</th><th scope=col>reach</th><th scope=col>impressions</th><th scope=col>engaged_users</th><th scope=col>⋯</th><th scope=col>impressions_by_people_that_liked_page</th><th scope=col>reach_by_people_that_like_page</th><th scope=col>people_liked_and_engaged</th><th scope=col>comments</th><th scope=col>likes</th><th scope=col>shares</th><th scope=col>interactions</th><th scope=col>comment_percent</th><th scope=col>like_percent</th><th scope=col>share_percent</th></tr>\n",
       "\t<tr><th scope=col>&lt;dbl&gt;</th><th scope=col>&lt;fct&gt;</th><th scope=col>&lt;fct&gt;</th><th scope=col>&lt;fct&gt;</th><th scope=col>&lt;fct&gt;</th><th scope=col>&lt;fct&gt;</th><th scope=col>&lt;dbl&gt;</th><th scope=col>&lt;dbl&gt;</th><th scope=col>&lt;dbl&gt;</th><th scope=col>&lt;dbl&gt;</th><th scope=col>⋯</th><th scope=col>&lt;dbl&gt;</th><th scope=col>&lt;dbl&gt;</th><th scope=col>&lt;dbl&gt;</th><th scope=col>&lt;dbl&gt;</th><th scope=col>&lt;dbl&gt;</th><th scope=col>&lt;dbl&gt;</th><th scope=col>&lt;dbl&gt;</th><th scope=col>&lt;dbl&gt;</th><th scope=col>&lt;dbl&gt;</th><th scope=col>&lt;dbl&gt;</th></tr>\n",
       "</thead>\n",
       "<tbody>\n",
       "\t<tr><td>139441</td><td>Photo </td><td>2</td><td>12</td><td>4</td><td>3 </td><td>0</td><td> 2752</td><td> 5091</td><td> 178</td><td>⋯</td><td> 3078</td><td> 1640</td><td> 119</td><td> 4</td><td>  79</td><td> 17</td><td> 100</td><td>0.040000000</td><td>0.7900000</td><td>0.17000000</td></tr>\n",
       "\t<tr><td>139441</td><td>Status</td><td>2</td><td>12</td><td>3</td><td>10</td><td>0</td><td>10460</td><td>19057</td><td>1457</td><td>⋯</td><td>11710</td><td> 6112</td><td>1108</td><td> 5</td><td> 130</td><td> 29</td><td> 164</td><td>0.030487805</td><td>0.7926829</td><td>0.17682927</td></tr>\n",
       "\t<tr><td>139441</td><td>Photo </td><td>3</td><td>12</td><td>3</td><td>3 </td><td>0</td><td> 2413</td><td> 4373</td><td> 177</td><td>⋯</td><td> 2812</td><td> 1503</td><td> 132</td><td> 0</td><td>  66</td><td> 14</td><td>  80</td><td>0.000000000</td><td>0.8250000</td><td>0.17500000</td></tr>\n",
       "\t<tr><td>139441</td><td>Photo </td><td>2</td><td>12</td><td>2</td><td>10</td><td>1</td><td>50128</td><td>87991</td><td>2211</td><td>⋯</td><td>61027</td><td>32048</td><td>1386</td><td>58</td><td>1572</td><td>147</td><td>1777</td><td>0.032639280</td><td>0.8846370</td><td>0.08272369</td></tr>\n",
       "\t<tr><td>139441</td><td>Photo </td><td>2</td><td>12</td><td>2</td><td>3 </td><td>0</td><td> 7244</td><td>13594</td><td> 671</td><td>⋯</td><td> 6228</td><td> 3200</td><td> 396</td><td>19</td><td> 325</td><td> 49</td><td> 393</td><td>0.048346056</td><td>0.8269720</td><td>0.12468193</td></tr>\n",
       "\t<tr><td>139441</td><td>Status</td><td>2</td><td>12</td><td>1</td><td>9 </td><td>0</td><td>10472</td><td>20849</td><td>1191</td><td>⋯</td><td>16034</td><td> 7852</td><td>1016</td><td> 1</td><td> 152</td><td> 33</td><td> 186</td><td>0.005376344</td><td>0.8172043</td><td>0.17741935</td></tr>\n",
       "\t<tr><td>139441</td><td>Photo </td><td>3</td><td>12</td><td>1</td><td>3 </td><td>1</td><td>11692</td><td>19479</td><td> 481</td><td>⋯</td><td>15432</td><td> 9328</td><td> 379</td><td> 3</td><td> 249</td><td> 27</td><td> 279</td><td>0.010752688</td><td>0.8924731</td><td>0.09677419</td></tr>\n",
       "\t<tr><td>139441</td><td>Photo </td><td>3</td><td>12</td><td>7</td><td>9 </td><td>1</td><td>13720</td><td>24137</td><td> 537</td><td>⋯</td><td>19728</td><td>11056</td><td> 422</td><td> 0</td><td> 325</td><td> 14</td><td> 339</td><td>0.000000000</td><td>0.9587021</td><td>0.04129794</td></tr>\n",
       "\t<tr><td>⋮</td><td>⋮</td><td>⋮</td><td>⋮</td><td>⋮</td><td>⋮</td><td>⋮</td><td>⋮</td><td>⋮</td><td>⋮</td><td>⋱</td><td>⋮</td><td>⋮</td><td>⋮</td><td>⋮</td><td>⋮</td><td>⋮</td><td>⋮</td><td>⋮</td><td>⋮</td><td>⋮</td></tr>\n",
       "\t<tr><td>85979</td><td>Photo</td><td>3</td><td>1</td><td>6</td><td>3 </td><td>1</td><td> 6184</td><td>10228</td><td> 956</td><td>⋯</td><td> 6085</td><td> 3502</td><td>437</td><td> 1</td><td>105</td><td>46</td><td>152</td><td>0.006578947</td><td>0.6907895</td><td>0.30263158</td></tr>\n",
       "\t<tr><td>85979</td><td>Link </td><td>1</td><td>1</td><td>5</td><td>11</td><td>0</td><td>45920</td><td> 5808</td><td> 753</td><td>⋯</td><td>15766</td><td>10720</td><td>220</td><td> 0</td><td>128</td><td> 9</td><td>137</td><td>0.000000000</td><td>0.9343066</td><td>0.06569343</td></tr>\n",
       "\t<tr><td>85093</td><td>Photo</td><td>3</td><td>1</td><td>1</td><td>2 </td><td>0</td><td> 8412</td><td>13960</td><td>1179</td><td>⋯</td><td> 8632</td><td> 5348</td><td>699</td><td>17</td><td>185</td><td>55</td><td>257</td><td>0.066147860</td><td>0.7198444</td><td>0.21400778</td></tr>\n",
       "\t<tr><td>85093</td><td>Photo</td><td>3</td><td>1</td><td>7</td><td>10</td><td>0</td><td> 5400</td><td> 9218</td><td> 810</td><td>⋯</td><td> 5654</td><td> 3230</td><td>422</td><td>10</td><td>125</td><td>41</td><td>176</td><td>0.056818182</td><td>0.7102273</td><td>0.23295455</td></tr>\n",
       "\t<tr><td>85093</td><td>Photo</td><td>3</td><td>1</td><td>7</td><td>2 </td><td>0</td><td> 4684</td><td> 7536</td><td> 733</td><td>⋯</td><td> 4750</td><td> 2876</td><td>392</td><td> 5</td><td> 53</td><td>26</td><td> 84</td><td>0.059523810</td><td>0.6309524</td><td>0.30952381</td></tr>\n",
       "\t<tr><td>81370</td><td>Photo</td><td>2</td><td>1</td><td>5</td><td>8 </td><td>0</td><td> 3480</td><td> 6229</td><td> 537</td><td>⋯</td><td> 3961</td><td> 2104</td><td>301</td><td> 0</td><td> 53</td><td>22</td><td> 75</td><td>0.000000000</td><td>0.7066667</td><td>0.29333333</td></tr>\n",
       "\t<tr><td>81370</td><td>Photo</td><td>1</td><td>1</td><td>5</td><td>2 </td><td>0</td><td> 3778</td><td> 7216</td><td> 625</td><td>⋯</td><td> 4742</td><td> 2388</td><td>363</td><td> 4</td><td> 93</td><td>18</td><td>115</td><td>0.034782609</td><td>0.8086957</td><td>0.15652174</td></tr>\n",
       "\t<tr><td>81370</td><td>Photo</td><td>3</td><td>1</td><td>4</td><td>11</td><td>0</td><td> 4156</td><td> 7564</td><td> 626</td><td>⋯</td><td> 4534</td><td> 2452</td><td>370</td><td> 7</td><td> 91</td><td>38</td><td>136</td><td>0.051470588</td><td>0.6691176</td><td>0.27941176</td></tr>\n",
       "</tbody>\n",
       "</table>\n"
      ],
      "text/latex": [
       "A tibble: 490 × 22\n",
       "\\begin{tabular}{lllllllllllllllllllll}\n",
       " page\\_likes & type & category & post\\_month & post\\_weekday & post\\_hour & paid & reach & impressions & engaged\\_users & ⋯ & impressions\\_by\\_people\\_that\\_liked\\_page & reach\\_by\\_people\\_that\\_like\\_page & people\\_liked\\_and\\_engaged & comments & likes & shares & interactions & comment\\_percent & like\\_percent & share\\_percent\\\\\n",
       " <dbl> & <fct> & <fct> & <fct> & <fct> & <fct> & <dbl> & <dbl> & <dbl> & <dbl> & ⋯ & <dbl> & <dbl> & <dbl> & <dbl> & <dbl> & <dbl> & <dbl> & <dbl> & <dbl> & <dbl>\\\\\n",
       "\\hline\n",
       "\t 139441 & Photo  & 2 & 12 & 4 & 3  & 0 &  2752 &  5091 &  178 & ⋯ &  3078 &  1640 &  119 &  4 &   79 &  17 &  100 & 0.040000000 & 0.7900000 & 0.17000000\\\\\n",
       "\t 139441 & Status & 2 & 12 & 3 & 10 & 0 & 10460 & 19057 & 1457 & ⋯ & 11710 &  6112 & 1108 &  5 &  130 &  29 &  164 & 0.030487805 & 0.7926829 & 0.17682927\\\\\n",
       "\t 139441 & Photo  & 3 & 12 & 3 & 3  & 0 &  2413 &  4373 &  177 & ⋯ &  2812 &  1503 &  132 &  0 &   66 &  14 &   80 & 0.000000000 & 0.8250000 & 0.17500000\\\\\n",
       "\t 139441 & Photo  & 2 & 12 & 2 & 10 & 1 & 50128 & 87991 & 2211 & ⋯ & 61027 & 32048 & 1386 & 58 & 1572 & 147 & 1777 & 0.032639280 & 0.8846370 & 0.08272369\\\\\n",
       "\t 139441 & Photo  & 2 & 12 & 2 & 3  & 0 &  7244 & 13594 &  671 & ⋯ &  6228 &  3200 &  396 & 19 &  325 &  49 &  393 & 0.048346056 & 0.8269720 & 0.12468193\\\\\n",
       "\t 139441 & Status & 2 & 12 & 1 & 9  & 0 & 10472 & 20849 & 1191 & ⋯ & 16034 &  7852 & 1016 &  1 &  152 &  33 &  186 & 0.005376344 & 0.8172043 & 0.17741935\\\\\n",
       "\t 139441 & Photo  & 3 & 12 & 1 & 3  & 1 & 11692 & 19479 &  481 & ⋯ & 15432 &  9328 &  379 &  3 &  249 &  27 &  279 & 0.010752688 & 0.8924731 & 0.09677419\\\\\n",
       "\t 139441 & Photo  & 3 & 12 & 7 & 9  & 1 & 13720 & 24137 &  537 & ⋯ & 19728 & 11056 &  422 &  0 &  325 &  14 &  339 & 0.000000000 & 0.9587021 & 0.04129794\\\\\n",
       "\t ⋮ & ⋮ & ⋮ & ⋮ & ⋮ & ⋮ & ⋮ & ⋮ & ⋮ & ⋮ & ⋱ & ⋮ & ⋮ & ⋮ & ⋮ & ⋮ & ⋮ & ⋮ & ⋮ & ⋮ & ⋮\\\\\n",
       "\t 85979 & Photo & 3 & 1 & 6 & 3  & 1 &  6184 & 10228 &  956 & ⋯ &  6085 &  3502 & 437 &  1 & 105 & 46 & 152 & 0.006578947 & 0.6907895 & 0.30263158\\\\\n",
       "\t 85979 & Link  & 1 & 1 & 5 & 11 & 0 & 45920 &  5808 &  753 & ⋯ & 15766 & 10720 & 220 &  0 & 128 &  9 & 137 & 0.000000000 & 0.9343066 & 0.06569343\\\\\n",
       "\t 85093 & Photo & 3 & 1 & 1 & 2  & 0 &  8412 & 13960 & 1179 & ⋯ &  8632 &  5348 & 699 & 17 & 185 & 55 & 257 & 0.066147860 & 0.7198444 & 0.21400778\\\\\n",
       "\t 85093 & Photo & 3 & 1 & 7 & 10 & 0 &  5400 &  9218 &  810 & ⋯ &  5654 &  3230 & 422 & 10 & 125 & 41 & 176 & 0.056818182 & 0.7102273 & 0.23295455\\\\\n",
       "\t 85093 & Photo & 3 & 1 & 7 & 2  & 0 &  4684 &  7536 &  733 & ⋯ &  4750 &  2876 & 392 &  5 &  53 & 26 &  84 & 0.059523810 & 0.6309524 & 0.30952381\\\\\n",
       "\t 81370 & Photo & 2 & 1 & 5 & 8  & 0 &  3480 &  6229 &  537 & ⋯ &  3961 &  2104 & 301 &  0 &  53 & 22 &  75 & 0.000000000 & 0.7066667 & 0.29333333\\\\\n",
       "\t 81370 & Photo & 1 & 1 & 5 & 2  & 0 &  3778 &  7216 &  625 & ⋯ &  4742 &  2388 & 363 &  4 &  93 & 18 & 115 & 0.034782609 & 0.8086957 & 0.15652174\\\\\n",
       "\t 81370 & Photo & 3 & 1 & 4 & 11 & 0 &  4156 &  7564 &  626 & ⋯ &  4534 &  2452 & 370 &  7 &  91 & 38 & 136 & 0.051470588 & 0.6691176 & 0.27941176\\\\\n",
       "\\end{tabular}\n"
      ],
      "text/markdown": [
       "\n",
       "A tibble: 490 × 22\n",
       "\n",
       "| page_likes &lt;dbl&gt; | type &lt;fct&gt; | category &lt;fct&gt; | post_month &lt;fct&gt; | post_weekday &lt;fct&gt; | post_hour &lt;fct&gt; | paid &lt;dbl&gt; | reach &lt;dbl&gt; | impressions &lt;dbl&gt; | engaged_users &lt;dbl&gt; | ⋯ ⋯ | impressions_by_people_that_liked_page &lt;dbl&gt; | reach_by_people_that_like_page &lt;dbl&gt; | people_liked_and_engaged &lt;dbl&gt; | comments &lt;dbl&gt; | likes &lt;dbl&gt; | shares &lt;dbl&gt; | interactions &lt;dbl&gt; | comment_percent &lt;dbl&gt; | like_percent &lt;dbl&gt; | share_percent &lt;dbl&gt; |\n",
       "|---|---|---|---|---|---|---|---|---|---|---|---|---|---|---|---|---|---|---|---|---|\n",
       "| 139441 | Photo  | 2 | 12 | 4 | 3  | 0 |  2752 |  5091 |  178 | ⋯ |  3078 |  1640 |  119 |  4 |   79 |  17 |  100 | 0.040000000 | 0.7900000 | 0.17000000 |\n",
       "| 139441 | Status | 2 | 12 | 3 | 10 | 0 | 10460 | 19057 | 1457 | ⋯ | 11710 |  6112 | 1108 |  5 |  130 |  29 |  164 | 0.030487805 | 0.7926829 | 0.17682927 |\n",
       "| 139441 | Photo  | 3 | 12 | 3 | 3  | 0 |  2413 |  4373 |  177 | ⋯ |  2812 |  1503 |  132 |  0 |   66 |  14 |   80 | 0.000000000 | 0.8250000 | 0.17500000 |\n",
       "| 139441 | Photo  | 2 | 12 | 2 | 10 | 1 | 50128 | 87991 | 2211 | ⋯ | 61027 | 32048 | 1386 | 58 | 1572 | 147 | 1777 | 0.032639280 | 0.8846370 | 0.08272369 |\n",
       "| 139441 | Photo  | 2 | 12 | 2 | 3  | 0 |  7244 | 13594 |  671 | ⋯ |  6228 |  3200 |  396 | 19 |  325 |  49 |  393 | 0.048346056 | 0.8269720 | 0.12468193 |\n",
       "| 139441 | Status | 2 | 12 | 1 | 9  | 0 | 10472 | 20849 | 1191 | ⋯ | 16034 |  7852 | 1016 |  1 |  152 |  33 |  186 | 0.005376344 | 0.8172043 | 0.17741935 |\n",
       "| 139441 | Photo  | 3 | 12 | 1 | 3  | 1 | 11692 | 19479 |  481 | ⋯ | 15432 |  9328 |  379 |  3 |  249 |  27 |  279 | 0.010752688 | 0.8924731 | 0.09677419 |\n",
       "| 139441 | Photo  | 3 | 12 | 7 | 9  | 1 | 13720 | 24137 |  537 | ⋯ | 19728 | 11056 |  422 |  0 |  325 |  14 |  339 | 0.000000000 | 0.9587021 | 0.04129794 |\n",
       "| ⋮ | ⋮ | ⋮ | ⋮ | ⋮ | ⋮ | ⋮ | ⋮ | ⋮ | ⋮ | ⋱ | ⋮ | ⋮ | ⋮ | ⋮ | ⋮ | ⋮ | ⋮ | ⋮ | ⋮ | ⋮ |\n",
       "| 85979 | Photo | 3 | 1 | 6 | 3  | 1 |  6184 | 10228 |  956 | ⋯ |  6085 |  3502 | 437 |  1 | 105 | 46 | 152 | 0.006578947 | 0.6907895 | 0.30263158 |\n",
       "| 85979 | Link  | 1 | 1 | 5 | 11 | 0 | 45920 |  5808 |  753 | ⋯ | 15766 | 10720 | 220 |  0 | 128 |  9 | 137 | 0.000000000 | 0.9343066 | 0.06569343 |\n",
       "| 85093 | Photo | 3 | 1 | 1 | 2  | 0 |  8412 | 13960 | 1179 | ⋯ |  8632 |  5348 | 699 | 17 | 185 | 55 | 257 | 0.066147860 | 0.7198444 | 0.21400778 |\n",
       "| 85093 | Photo | 3 | 1 | 7 | 10 | 0 |  5400 |  9218 |  810 | ⋯ |  5654 |  3230 | 422 | 10 | 125 | 41 | 176 | 0.056818182 | 0.7102273 | 0.23295455 |\n",
       "| 85093 | Photo | 3 | 1 | 7 | 2  | 0 |  4684 |  7536 |  733 | ⋯ |  4750 |  2876 | 392 |  5 |  53 | 26 |  84 | 0.059523810 | 0.6309524 | 0.30952381 |\n",
       "| 81370 | Photo | 2 | 1 | 5 | 8  | 0 |  3480 |  6229 |  537 | ⋯ |  3961 |  2104 | 301 |  0 |  53 | 22 |  75 | 0.000000000 | 0.7066667 | 0.29333333 |\n",
       "| 81370 | Photo | 1 | 1 | 5 | 2  | 0 |  3778 |  7216 |  625 | ⋯ |  4742 |  2388 | 363 |  4 |  93 | 18 | 115 | 0.034782609 | 0.8086957 | 0.15652174 |\n",
       "| 81370 | Photo | 3 | 1 | 4 | 11 | 0 |  4156 |  7564 |  626 | ⋯ |  4534 |  2452 | 370 |  7 |  91 | 38 | 136 | 0.051470588 | 0.6691176 | 0.27941176 |\n",
       "\n"
      ],
      "text/plain": [
       "    page_likes type   category post_month post_weekday post_hour paid reach\n",
       "1   139441     Photo  2        12         4            3         0     2752\n",
       "2   139441     Status 2        12         3            10        0    10460\n",
       "3   139441     Photo  3        12         3            3         0     2413\n",
       "4   139441     Photo  2        12         2            10        1    50128\n",
       "5   139441     Photo  2        12         2            3         0     7244\n",
       "6   139441     Status 2        12         1            9         0    10472\n",
       "7   139441     Photo  3        12         1            3         1    11692\n",
       "8   139441     Photo  3        12         7            9         1    13720\n",
       "⋮   ⋮          ⋮      ⋮        ⋮          ⋮            ⋮         ⋮    ⋮    \n",
       "483 85979      Photo  3        1          6            3         1     6184\n",
       "484 85979      Link   1        1          5            11        0    45920\n",
       "485 85093      Photo  3        1          1            2         0     8412\n",
       "486 85093      Photo  3        1          7            10        0     5400\n",
       "487 85093      Photo  3        1          7            2         0     4684\n",
       "488 81370      Photo  2        1          5            8         0     3480\n",
       "489 81370      Photo  1        1          5            2         0     3778\n",
       "490 81370      Photo  3        1          4            11        0     4156\n",
       "    impressions engaged_users ⋯ impressions_by_people_that_liked_page\n",
       "1    5091        178          ⋯  3078                                \n",
       "2   19057       1457          ⋯ 11710                                \n",
       "3    4373        177          ⋯  2812                                \n",
       "4   87991       2211          ⋯ 61027                                \n",
       "5   13594        671          ⋯  6228                                \n",
       "6   20849       1191          ⋯ 16034                                \n",
       "7   19479        481          ⋯ 15432                                \n",
       "8   24137        537          ⋯ 19728                                \n",
       "⋮   ⋮           ⋮             ⋱ ⋮                                    \n",
       "483 10228        956          ⋯  6085                                \n",
       "484  5808        753          ⋯ 15766                                \n",
       "485 13960       1179          ⋯  8632                                \n",
       "486  9218        810          ⋯  5654                                \n",
       "487  7536        733          ⋯  4750                                \n",
       "488  6229        537          ⋯  3961                                \n",
       "489  7216        625          ⋯  4742                                \n",
       "490  7564        626          ⋯  4534                                \n",
       "    reach_by_people_that_like_page people_liked_and_engaged comments likes\n",
       "1    1640                           119                      4         79 \n",
       "2    6112                          1108                      5        130 \n",
       "3    1503                           132                      0         66 \n",
       "4   32048                          1386                     58       1572 \n",
       "5    3200                           396                     19        325 \n",
       "6    7852                          1016                      1        152 \n",
       "7    9328                           379                      3        249 \n",
       "8   11056                           422                      0        325 \n",
       "⋮   ⋮                              ⋮                        ⋮        ⋮    \n",
       "483  3502                          437                       1       105  \n",
       "484 10720                          220                       0       128  \n",
       "485  5348                          699                      17       185  \n",
       "486  3230                          422                      10       125  \n",
       "487  2876                          392                       5        53  \n",
       "488  2104                          301                       0        53  \n",
       "489  2388                          363                       4        93  \n",
       "490  2452                          370                       7        91  \n",
       "    shares interactions comment_percent like_percent share_percent\n",
       "1    17     100         0.040000000     0.7900000    0.17000000   \n",
       "2    29     164         0.030487805     0.7926829    0.17682927   \n",
       "3    14      80         0.000000000     0.8250000    0.17500000   \n",
       "4   147    1777         0.032639280     0.8846370    0.08272369   \n",
       "5    49     393         0.048346056     0.8269720    0.12468193   \n",
       "6    33     186         0.005376344     0.8172043    0.17741935   \n",
       "7    27     279         0.010752688     0.8924731    0.09677419   \n",
       "8    14     339         0.000000000     0.9587021    0.04129794   \n",
       "⋮   ⋮      ⋮            ⋮               ⋮            ⋮            \n",
       "483 46     152          0.006578947     0.6907895    0.30263158   \n",
       "484  9     137          0.000000000     0.9343066    0.06569343   \n",
       "485 55     257          0.066147860     0.7198444    0.21400778   \n",
       "486 41     176          0.056818182     0.7102273    0.23295455   \n",
       "487 26      84          0.059523810     0.6309524    0.30952381   \n",
       "488 22      75          0.000000000     0.7066667    0.29333333   \n",
       "489 18     115          0.034782609     0.8086957    0.15652174   \n",
       "490 38     136          0.051470588     0.6691176    0.27941176   "
      ]
     },
     "metadata": {},
     "output_type": "display_data"
    }
   ],
   "source": [
    "# Clean the data:\n",
    "fb_data_clean_cols <- fb_data_raw\n",
    "colnames(fb_data_clean_cols) <- c(\"page_likes\", \"type\", \"category\", \"post_month\", \"post_weekday\", \"post_hour\", \"paid\", \"reach\", \n",
    "      \"impressions\", \"engaged_users\", \"post_consumers\", \"post_consumptions\", \"impressions_by_people_that_liked_page\", \n",
    "      \"reach_by_people_that_like_page\", \"people_liked_and_engaged\", \"comments\", \"likes\", \"shares\", \"interactions\")\n",
    "fb_data_clean <- fb_data_clean_cols %>% \n",
    "        mutate(type = as_factor(type)) %>% \n",
    "        mutate(category = as_factor(category)) %>% \n",
    "        mutate(post_month = as_factor(post_month)) %>% \n",
    "        mutate(post_weekday = as_factor(post_weekday)) %>% \n",
    "        mutate(post_hour = as_factor(post_hour)) %>% \n",
    "        mutate(comment_percent = comments / interactions) %>% \n",
    "        mutate(like_percent = likes / interactions) %>% \n",
    "        mutate(share_percent = shares / interactions) %>% \n",
    "        na.omit()\n",
    "\n",
    "fb_data_clean"
   ]
  },
  {
   "cell_type": "code",
   "execution_count": 5,
   "metadata": {},
   "outputs": [
    {
     "data": {
      "text/html": [
       "0"
      ],
      "text/latex": [
       "0"
      ],
      "text/markdown": [
       "0"
      ],
      "text/plain": [
       "[1] 0"
      ]
     },
     "metadata": {},
     "output_type": "display_data"
    }
   ],
   "source": [
    "# Na Rows:\n",
    "sum(is.na(fb_data_clean))"
   ]
  },
  {
   "cell_type": "markdown",
   "metadata": {},
   "source": [
    "# EXPLAIN WHY THE STRATA IS \"TYPE\"\n",
    "# EXPLAIN WHY WE CHOSE 75%"
   ]
  },
  {
   "cell_type": "code",
   "execution_count": 6,
   "metadata": {},
   "outputs": [
    {
     "ename": "ERROR",
     "evalue": "Error in eval_select_impl(NULL, .vars, expr(c(!!!dots)), include = .include, : object 'fb_data' not found\n",
     "output_type": "error",
     "traceback": [
      "Error in eval_select_impl(NULL, .vars, expr(c(!!!dots)), include = .include, : object 'fb_data' not found\nTraceback:\n",
      "1. initial_split(fb_data, prop = 0.75, strata = type)",
      "2. tidyselect::vars_select(names(data), !!enquo(strata))",
      "3. eval_select_impl(NULL, .vars, expr(c(!!!dots)), include = .include, \n .     exclude = .exclude, strict = .strict, name_spec = unique_name_spec, \n .     uniquely_named = TRUE)"
     ]
    }
   ],
   "source": [
    "# Split the data:\n",
    "fb_split <- initial_split(fb_data, prop = 0.75, strata = type)\n",
    "fb_train <- training(fb_split)\n",
    "fb_test <- testing(fb_split)\n",
    "\n",
    "fb_train"
   ]
  },
  {
   "cell_type": "markdown",
   "metadata": {},
   "source": [
    "\n",
    "##### Preliminary summary tables:\n",
    "\n",
    "Tables were constructed to gain an initial summary of the data. Table *summary_table1* groups posts by type and computes the total posts, total interactions (including all likes, comments, shares), maximum interactions, and number of paid posts for each type."
   ]
  },
  {
   "cell_type": "code",
   "execution_count": 7,
   "metadata": {},
   "outputs": [
    {
     "ename": "ERROR",
     "evalue": "Error in group_by(., type): object 'fb_train' not found\n",
     "output_type": "error",
     "traceback": [
      "Error in group_by(., type): object 'fb_train' not found\nTraceback:\n",
      "1. fb_train %>% group_by(type) %>% summarize(total_of_type = n(), \n .     total_interactions = sum(interactions), max_interactions = max(interactions), \n .     total_paid = sum(paid))",
      "2. summarize(., total_of_type = n(), total_interactions = sum(interactions), \n .     max_interactions = max(interactions), total_paid = sum(paid))",
      "3. group_by(., type)"
     ]
    }
   ],
   "source": [
    "summary_table1 = fb_train %>% \n",
    "    group_by(type) %>%\n",
    "    summarize(\n",
    "        total_of_type = n(),\n",
    "        total_interactions = sum(interactions),\n",
    "        max_interactions = max(interactions),\n",
    "        total_paid = sum(paid))\n",
    "\n",
    "summary_table1"
   ]
  },
  {
   "cell_type": "markdown",
   "metadata": {},
   "source": [
    "Table *summary_table2* groups posts by type and computes the total interactions, maximum interactions, percentage of each interaction type, and percentage of paid posts for each post type. The *likes* and *shares* columns were also found to include observations with missing data, so the *na.rm = TRUE* argument was included in each."
   ]
  },
  {
   "cell_type": "code",
   "execution_count": 8,
   "metadata": {},
   "outputs": [
    {
     "ename": "ERROR",
     "evalue": "Error in group_by(., type): object 'fb_train' not found\n",
     "output_type": "error",
     "traceback": [
      "Error in group_by(., type): object 'fb_train' not found\nTraceback:\n",
      "1. fb_train %>% group_by(type) %>% summarize(total_interactions = sum(interactions), \n .     max_interactions = max(interactions), comments_interaction_percentage = (sum(comments)/sum(interactions) * \n .         100), likes_interaction_percentage = (sum(likes, na.rm = TRUE)/sum(interactions) * \n .         100), shares_interaction_percentage = (sum(shares, na.rm = TRUE)/sum(interactions) * \n .         100), paid_percentage = (sum(paid, na.rm = TRUE)/n()) * \n .         100)",
      "2. summarize(., total_interactions = sum(interactions), max_interactions = max(interactions), \n .     comments_interaction_percentage = (sum(comments)/sum(interactions) * \n .         100), likes_interaction_percentage = (sum(likes, na.rm = TRUE)/sum(interactions) * \n .         100), shares_interaction_percentage = (sum(shares, na.rm = TRUE)/sum(interactions) * \n .         100), paid_percentage = (sum(paid, na.rm = TRUE)/n()) * \n .         100)",
      "3. group_by(., type)"
     ]
    }
   ],
   "source": [
    "summary_table2 <- fb_train %>% \n",
    "    group_by(type) %>% \n",
    "    summarize(\n",
    "        total_interactions = sum(interactions),\n",
    "        max_interactions = max(interactions),\n",
    "        comments_interaction_percentage = (sum(comments) / sum(interactions) * 100),\n",
    "        likes_interaction_percentage = (sum(likes, na.rm = TRUE) / sum(interactions) * 100),\n",
    "        shares_interaction_percentage = (sum(shares, na.rm = TRUE) / sum(interactions) * 100),\n",
    "        paid_percentage = (sum(paid, na.rm = TRUE) / n()) * 100)     \n",
    "\n",
    "summary_table2"
   ]
  },
  {
   "cell_type": "markdown",
   "metadata": {},
   "source": [
    "\n",
    "##### Preliminary visualizations:\n",
    "\n",
    "The following bar chart is created to show the ratios of interaction types across each type of post."
   ]
  },
  {
   "cell_type": "code",
   "execution_count": 9,
   "metadata": {},
   "outputs": [
    {
     "ename": "ERROR",
     "evalue": "Error in group_by(., type): object 'fb_train' not found\n",
     "output_type": "error",
     "traceback": [
      "Error in group_by(., type): object 'fb_train' not found\nTraceback:\n",
      "1. fb_train %>% group_by(type) %>% summarize(comments = sum(comments), \n .     likes = sum(likes, na.rm = TRUE), shares = sum(shares, na.rm = TRUE), \n .     total_interactions = sum(interactions)) %>% pivot_longer(cols = comments:shares, \n .     names_to = \"interaction_type\", values_to = \"total_of_interaction_type\")",
      "2. pivot_longer(., cols = comments:shares, names_to = \"interaction_type\", \n .     values_to = \"total_of_interaction_type\")",
      "3. summarize(., comments = sum(comments), likes = sum(likes, na.rm = TRUE), \n .     shares = sum(shares, na.rm = TRUE), total_interactions = sum(interactions))",
      "4. group_by(., type)"
     ]
    }
   ],
   "source": [
    "options(repr.plot.height = 7, repr.plot.width = 7)\n",
    "\n",
    "relative_interactions <- fb_train %>% \n",
    "    group_by(type) %>%\n",
    "    summarize(\n",
    "        comments = sum(comments),\n",
    "        likes = sum(likes, na.rm=TRUE),\n",
    "        shares = sum(shares, na.rm=TRUE),\n",
    "        total_interactions = sum(interactions)) %>% \n",
    "        pivot_longer( cols = comments:shares,\n",
    "                       names_to = \"interaction_type\",\n",
    "                       values_to = \"total_of_interaction_type\")\n",
    "\n",
    "relative_interactions_plot <- ggplot(relative_interactions, aes(x = type, y = total_of_interaction_type, fill = interaction_type)) + \n",
    "        geom_bar(stat = \"identity\", position = \"fill\") + \n",
    "        xlab(\"Post type\") +\n",
    "        ylab(\"Proportion of interactions\") +\n",
    "        labs(fill = \"Interaction type\") +\n",
    "        theme(text = element_text(size = 16))\n",
    "  \n",
    "\n",
    "relative_interactions_plot"
   ]
  },
  {
   "cell_type": "markdown",
   "metadata": {},
   "source": [
    "# TODO: WRITE BETTER HERE!!!\n",
    "\n",
    "Here we will remove time based categories because blah blah blah time based stuff bad. remove category column because we can't use a factor to predict. Remove comments, likes, shares, interactions because we will now combine them into percent based ones."
   ]
  },
  {
   "cell_type": "code",
   "execution_count": 10,
   "metadata": {},
   "outputs": [
    {
     "data": {
      "text/html": [
       "<style>\n",
       ".list-inline {list-style: none; margin:0; padding: 0}\n",
       ".list-inline>li {display: inline-block}\n",
       ".list-inline>li:not(:last-child)::after {content: \"\\00b7\"; padding: 0 .5ex}\n",
       "</style>\n",
       "<ol class=list-inline><li>'page_likes'</li><li>'type'</li><li>'category'</li><li>'post_month'</li><li>'post_weekday'</li><li>'post_hour'</li><li>'paid'</li><li>'reach'</li><li>'impressions'</li><li>'engaged_users'</li><li>'post_consumers'</li><li>'post_consumptions'</li><li>'impressions_by_people_that_liked_page'</li><li>'reach_by_people_that_like_page'</li><li>'people_liked_and_engaged'</li><li>'comments'</li><li>'likes'</li><li>'shares'</li><li>'interactions'</li><li>'comment_percent'</li><li>'like_percent'</li><li>'share_percent'</li></ol>\n"
      ],
      "text/latex": [
       "\\begin{enumerate*}\n",
       "\\item 'page\\_likes'\n",
       "\\item 'type'\n",
       "\\item 'category'\n",
       "\\item 'post\\_month'\n",
       "\\item 'post\\_weekday'\n",
       "\\item 'post\\_hour'\n",
       "\\item 'paid'\n",
       "\\item 'reach'\n",
       "\\item 'impressions'\n",
       "\\item 'engaged\\_users'\n",
       "\\item 'post\\_consumers'\n",
       "\\item 'post\\_consumptions'\n",
       "\\item 'impressions\\_by\\_people\\_that\\_liked\\_page'\n",
       "\\item 'reach\\_by\\_people\\_that\\_like\\_page'\n",
       "\\item 'people\\_liked\\_and\\_engaged'\n",
       "\\item 'comments'\n",
       "\\item 'likes'\n",
       "\\item 'shares'\n",
       "\\item 'interactions'\n",
       "\\item 'comment\\_percent'\n",
       "\\item 'like\\_percent'\n",
       "\\item 'share\\_percent'\n",
       "\\end{enumerate*}\n"
      ],
      "text/markdown": [
       "1. 'page_likes'\n",
       "2. 'type'\n",
       "3. 'category'\n",
       "4. 'post_month'\n",
       "5. 'post_weekday'\n",
       "6. 'post_hour'\n",
       "7. 'paid'\n",
       "8. 'reach'\n",
       "9. 'impressions'\n",
       "10. 'engaged_users'\n",
       "11. 'post_consumers'\n",
       "12. 'post_consumptions'\n",
       "13. 'impressions_by_people_that_liked_page'\n",
       "14. 'reach_by_people_that_like_page'\n",
       "15. 'people_liked_and_engaged'\n",
       "16. 'comments'\n",
       "17. 'likes'\n",
       "18. 'shares'\n",
       "19. 'interactions'\n",
       "20. 'comment_percent'\n",
       "21. 'like_percent'\n",
       "22. 'share_percent'\n",
       "\n",
       "\n"
      ],
      "text/plain": [
       " [1] \"page_likes\"                           \n",
       " [2] \"type\"                                 \n",
       " [3] \"category\"                             \n",
       " [4] \"post_month\"                           \n",
       " [5] \"post_weekday\"                         \n",
       " [6] \"post_hour\"                            \n",
       " [7] \"paid\"                                 \n",
       " [8] \"reach\"                                \n",
       " [9] \"impressions\"                          \n",
       "[10] \"engaged_users\"                        \n",
       "[11] \"post_consumers\"                       \n",
       "[12] \"post_consumptions\"                    \n",
       "[13] \"impressions_by_people_that_liked_page\"\n",
       "[14] \"reach_by_people_that_like_page\"       \n",
       "[15] \"people_liked_and_engaged\"             \n",
       "[16] \"comments\"                             \n",
       "[17] \"likes\"                                \n",
       "[18] \"shares\"                               \n",
       "[19] \"interactions\"                         \n",
       "[20] \"comment_percent\"                      \n",
       "[21] \"like_percent\"                         \n",
       "[22] \"share_percent\"                        "
      ]
     },
     "metadata": {},
     "output_type": "display_data"
    }
   ],
   "source": [
    "colnames(fb_data_clean)"
   ]
  },
  {
   "cell_type": "code",
   "execution_count": 11,
   "metadata": {},
   "outputs": [
    {
     "data": {
      "text/html": [
       "<table class=\"dataframe\">\n",
       "<caption>A tibble: 490 × 17</caption>\n",
       "<thead>\n",
       "\t<tr><th scope=col>page_likes</th><th scope=col>type</th><th scope=col>paid</th><th scope=col>reach</th><th scope=col>impressions</th><th scope=col>engaged_users</th><th scope=col>post_consumers</th><th scope=col>post_consumptions</th><th scope=col>impressions_by_people_that_liked_page</th><th scope=col>reach_by_people_that_like_page</th><th scope=col>people_liked_and_engaged</th><th scope=col>comments</th><th scope=col>likes</th><th scope=col>shares</th><th scope=col>comment_percent</th><th scope=col>like_percent</th><th scope=col>share_percent</th></tr>\n",
       "\t<tr><th scope=col>&lt;dbl&gt;</th><th scope=col>&lt;fct&gt;</th><th scope=col>&lt;dbl&gt;</th><th scope=col>&lt;dbl&gt;</th><th scope=col>&lt;dbl&gt;</th><th scope=col>&lt;dbl&gt;</th><th scope=col>&lt;dbl&gt;</th><th scope=col>&lt;dbl&gt;</th><th scope=col>&lt;dbl&gt;</th><th scope=col>&lt;dbl&gt;</th><th scope=col>&lt;dbl&gt;</th><th scope=col>&lt;dbl&gt;</th><th scope=col>&lt;dbl&gt;</th><th scope=col>&lt;dbl&gt;</th><th scope=col>&lt;dbl&gt;</th><th scope=col>&lt;dbl&gt;</th><th scope=col>&lt;dbl&gt;</th></tr>\n",
       "</thead>\n",
       "<tbody>\n",
       "\t<tr><td>139441</td><td>Photo </td><td>0</td><td> 2752</td><td> 5091</td><td> 178</td><td> 109</td><td> 159</td><td> 3078</td><td> 1640</td><td> 119</td><td> 4</td><td>  79</td><td> 17</td><td>0.040000000</td><td>0.7900000</td><td>0.17000000</td></tr>\n",
       "\t<tr><td>139441</td><td>Status</td><td>0</td><td>10460</td><td>19057</td><td>1457</td><td>1361</td><td>1674</td><td>11710</td><td> 6112</td><td>1108</td><td> 5</td><td> 130</td><td> 29</td><td>0.030487805</td><td>0.7926829</td><td>0.17682927</td></tr>\n",
       "\t<tr><td>139441</td><td>Photo </td><td>0</td><td> 2413</td><td> 4373</td><td> 177</td><td> 113</td><td> 154</td><td> 2812</td><td> 1503</td><td> 132</td><td> 0</td><td>  66</td><td> 14</td><td>0.000000000</td><td>0.8250000</td><td>0.17500000</td></tr>\n",
       "\t<tr><td>139441</td><td>Photo </td><td>1</td><td>50128</td><td>87991</td><td>2211</td><td> 790</td><td>1119</td><td>61027</td><td>32048</td><td>1386</td><td>58</td><td>1572</td><td>147</td><td>0.032639280</td><td>0.8846370</td><td>0.08272369</td></tr>\n",
       "\t<tr><td>139441</td><td>Photo </td><td>0</td><td> 7244</td><td>13594</td><td> 671</td><td> 410</td><td> 580</td><td> 6228</td><td> 3200</td><td> 396</td><td>19</td><td> 325</td><td> 49</td><td>0.048346056</td><td>0.8269720</td><td>0.12468193</td></tr>\n",
       "\t<tr><td>139441</td><td>Status</td><td>0</td><td>10472</td><td>20849</td><td>1191</td><td>1073</td><td>1389</td><td>16034</td><td> 7852</td><td>1016</td><td> 1</td><td> 152</td><td> 33</td><td>0.005376344</td><td>0.8172043</td><td>0.17741935</td></tr>\n",
       "\t<tr><td>139441</td><td>Photo </td><td>1</td><td>11692</td><td>19479</td><td> 481</td><td> 265</td><td> 364</td><td>15432</td><td> 9328</td><td> 379</td><td> 3</td><td> 249</td><td> 27</td><td>0.010752688</td><td>0.8924731</td><td>0.09677419</td></tr>\n",
       "\t<tr><td>139441</td><td>Photo </td><td>1</td><td>13720</td><td>24137</td><td> 537</td><td> 232</td><td> 305</td><td>19728</td><td>11056</td><td> 422</td><td> 0</td><td> 325</td><td> 14</td><td>0.000000000</td><td>0.9587021</td><td>0.04129794</td></tr>\n",
       "\t<tr><td>⋮</td><td>⋮</td><td>⋮</td><td>⋮</td><td>⋮</td><td>⋮</td><td>⋮</td><td>⋮</td><td>⋮</td><td>⋮</td><td>⋮</td><td>⋮</td><td>⋮</td><td>⋮</td><td>⋮</td><td>⋮</td><td>⋮</td></tr>\n",
       "\t<tr><td>85979</td><td>Photo</td><td>1</td><td> 6184</td><td>10228</td><td> 956</td><td> 901</td><td>1140</td><td> 6085</td><td> 3502</td><td>437</td><td> 1</td><td>105</td><td>46</td><td>0.006578947</td><td>0.6907895</td><td>0.30263158</td></tr>\n",
       "\t<tr><td>85979</td><td>Link </td><td>0</td><td>45920</td><td> 5808</td><td> 753</td><td> 655</td><td> 763</td><td>15766</td><td>10720</td><td>220</td><td> 0</td><td>128</td><td> 9</td><td>0.000000000</td><td>0.9343066</td><td>0.06569343</td></tr>\n",
       "\t<tr><td>85093</td><td>Photo</td><td>0</td><td> 8412</td><td>13960</td><td>1179</td><td>1111</td><td>1632</td><td> 8632</td><td> 5348</td><td>699</td><td>17</td><td>185</td><td>55</td><td>0.066147860</td><td>0.7198444</td><td>0.21400778</td></tr>\n",
       "\t<tr><td>85093</td><td>Photo</td><td>0</td><td> 5400</td><td> 9218</td><td> 810</td><td> 756</td><td>1003</td><td> 5654</td><td> 3230</td><td>422</td><td>10</td><td>125</td><td>41</td><td>0.056818182</td><td>0.7102273</td><td>0.23295455</td></tr>\n",
       "\t<tr><td>85093</td><td>Photo</td><td>0</td><td> 4684</td><td> 7536</td><td> 733</td><td> 708</td><td> 985</td><td> 4750</td><td> 2876</td><td>392</td><td> 5</td><td> 53</td><td>26</td><td>0.059523810</td><td>0.6309524</td><td>0.30952381</td></tr>\n",
       "\t<tr><td>81370</td><td>Photo</td><td>0</td><td> 3480</td><td> 6229</td><td> 537</td><td> 508</td><td> 687</td><td> 3961</td><td> 2104</td><td>301</td><td> 0</td><td> 53</td><td>22</td><td>0.000000000</td><td>0.7066667</td><td>0.29333333</td></tr>\n",
       "\t<tr><td>81370</td><td>Photo</td><td>0</td><td> 3778</td><td> 7216</td><td> 625</td><td> 572</td><td> 795</td><td> 4742</td><td> 2388</td><td>363</td><td> 4</td><td> 93</td><td>18</td><td>0.034782609</td><td>0.8086957</td><td>0.15652174</td></tr>\n",
       "\t<tr><td>81370</td><td>Photo</td><td>0</td><td> 4156</td><td> 7564</td><td> 626</td><td> 574</td><td> 832</td><td> 4534</td><td> 2452</td><td>370</td><td> 7</td><td> 91</td><td>38</td><td>0.051470588</td><td>0.6691176</td><td>0.27941176</td></tr>\n",
       "</tbody>\n",
       "</table>\n"
      ],
      "text/latex": [
       "A tibble: 490 × 17\n",
       "\\begin{tabular}{lllllllllllllllll}\n",
       " page\\_likes & type & paid & reach & impressions & engaged\\_users & post\\_consumers & post\\_consumptions & impressions\\_by\\_people\\_that\\_liked\\_page & reach\\_by\\_people\\_that\\_like\\_page & people\\_liked\\_and\\_engaged & comments & likes & shares & comment\\_percent & like\\_percent & share\\_percent\\\\\n",
       " <dbl> & <fct> & <dbl> & <dbl> & <dbl> & <dbl> & <dbl> & <dbl> & <dbl> & <dbl> & <dbl> & <dbl> & <dbl> & <dbl> & <dbl> & <dbl> & <dbl>\\\\\n",
       "\\hline\n",
       "\t 139441 & Photo  & 0 &  2752 &  5091 &  178 &  109 &  159 &  3078 &  1640 &  119 &  4 &   79 &  17 & 0.040000000 & 0.7900000 & 0.17000000\\\\\n",
       "\t 139441 & Status & 0 & 10460 & 19057 & 1457 & 1361 & 1674 & 11710 &  6112 & 1108 &  5 &  130 &  29 & 0.030487805 & 0.7926829 & 0.17682927\\\\\n",
       "\t 139441 & Photo  & 0 &  2413 &  4373 &  177 &  113 &  154 &  2812 &  1503 &  132 &  0 &   66 &  14 & 0.000000000 & 0.8250000 & 0.17500000\\\\\n",
       "\t 139441 & Photo  & 1 & 50128 & 87991 & 2211 &  790 & 1119 & 61027 & 32048 & 1386 & 58 & 1572 & 147 & 0.032639280 & 0.8846370 & 0.08272369\\\\\n",
       "\t 139441 & Photo  & 0 &  7244 & 13594 &  671 &  410 &  580 &  6228 &  3200 &  396 & 19 &  325 &  49 & 0.048346056 & 0.8269720 & 0.12468193\\\\\n",
       "\t 139441 & Status & 0 & 10472 & 20849 & 1191 & 1073 & 1389 & 16034 &  7852 & 1016 &  1 &  152 &  33 & 0.005376344 & 0.8172043 & 0.17741935\\\\\n",
       "\t 139441 & Photo  & 1 & 11692 & 19479 &  481 &  265 &  364 & 15432 &  9328 &  379 &  3 &  249 &  27 & 0.010752688 & 0.8924731 & 0.09677419\\\\\n",
       "\t 139441 & Photo  & 1 & 13720 & 24137 &  537 &  232 &  305 & 19728 & 11056 &  422 &  0 &  325 &  14 & 0.000000000 & 0.9587021 & 0.04129794\\\\\n",
       "\t ⋮ & ⋮ & ⋮ & ⋮ & ⋮ & ⋮ & ⋮ & ⋮ & ⋮ & ⋮ & ⋮ & ⋮ & ⋮ & ⋮ & ⋮ & ⋮ & ⋮\\\\\n",
       "\t 85979 & Photo & 1 &  6184 & 10228 &  956 &  901 & 1140 &  6085 &  3502 & 437 &  1 & 105 & 46 & 0.006578947 & 0.6907895 & 0.30263158\\\\\n",
       "\t 85979 & Link  & 0 & 45920 &  5808 &  753 &  655 &  763 & 15766 & 10720 & 220 &  0 & 128 &  9 & 0.000000000 & 0.9343066 & 0.06569343\\\\\n",
       "\t 85093 & Photo & 0 &  8412 & 13960 & 1179 & 1111 & 1632 &  8632 &  5348 & 699 & 17 & 185 & 55 & 0.066147860 & 0.7198444 & 0.21400778\\\\\n",
       "\t 85093 & Photo & 0 &  5400 &  9218 &  810 &  756 & 1003 &  5654 &  3230 & 422 & 10 & 125 & 41 & 0.056818182 & 0.7102273 & 0.23295455\\\\\n",
       "\t 85093 & Photo & 0 &  4684 &  7536 &  733 &  708 &  985 &  4750 &  2876 & 392 &  5 &  53 & 26 & 0.059523810 & 0.6309524 & 0.30952381\\\\\n",
       "\t 81370 & Photo & 0 &  3480 &  6229 &  537 &  508 &  687 &  3961 &  2104 & 301 &  0 &  53 & 22 & 0.000000000 & 0.7066667 & 0.29333333\\\\\n",
       "\t 81370 & Photo & 0 &  3778 &  7216 &  625 &  572 &  795 &  4742 &  2388 & 363 &  4 &  93 & 18 & 0.034782609 & 0.8086957 & 0.15652174\\\\\n",
       "\t 81370 & Photo & 0 &  4156 &  7564 &  626 &  574 &  832 &  4534 &  2452 & 370 &  7 &  91 & 38 & 0.051470588 & 0.6691176 & 0.27941176\\\\\n",
       "\\end{tabular}\n"
      ],
      "text/markdown": [
       "\n",
       "A tibble: 490 × 17\n",
       "\n",
       "| page_likes &lt;dbl&gt; | type &lt;fct&gt; | paid &lt;dbl&gt; | reach &lt;dbl&gt; | impressions &lt;dbl&gt; | engaged_users &lt;dbl&gt; | post_consumers &lt;dbl&gt; | post_consumptions &lt;dbl&gt; | impressions_by_people_that_liked_page &lt;dbl&gt; | reach_by_people_that_like_page &lt;dbl&gt; | people_liked_and_engaged &lt;dbl&gt; | comments &lt;dbl&gt; | likes &lt;dbl&gt; | shares &lt;dbl&gt; | comment_percent &lt;dbl&gt; | like_percent &lt;dbl&gt; | share_percent &lt;dbl&gt; |\n",
       "|---|---|---|---|---|---|---|---|---|---|---|---|---|---|---|---|---|\n",
       "| 139441 | Photo  | 0 |  2752 |  5091 |  178 |  109 |  159 |  3078 |  1640 |  119 |  4 |   79 |  17 | 0.040000000 | 0.7900000 | 0.17000000 |\n",
       "| 139441 | Status | 0 | 10460 | 19057 | 1457 | 1361 | 1674 | 11710 |  6112 | 1108 |  5 |  130 |  29 | 0.030487805 | 0.7926829 | 0.17682927 |\n",
       "| 139441 | Photo  | 0 |  2413 |  4373 |  177 |  113 |  154 |  2812 |  1503 |  132 |  0 |   66 |  14 | 0.000000000 | 0.8250000 | 0.17500000 |\n",
       "| 139441 | Photo  | 1 | 50128 | 87991 | 2211 |  790 | 1119 | 61027 | 32048 | 1386 | 58 | 1572 | 147 | 0.032639280 | 0.8846370 | 0.08272369 |\n",
       "| 139441 | Photo  | 0 |  7244 | 13594 |  671 |  410 |  580 |  6228 |  3200 |  396 | 19 |  325 |  49 | 0.048346056 | 0.8269720 | 0.12468193 |\n",
       "| 139441 | Status | 0 | 10472 | 20849 | 1191 | 1073 | 1389 | 16034 |  7852 | 1016 |  1 |  152 |  33 | 0.005376344 | 0.8172043 | 0.17741935 |\n",
       "| 139441 | Photo  | 1 | 11692 | 19479 |  481 |  265 |  364 | 15432 |  9328 |  379 |  3 |  249 |  27 | 0.010752688 | 0.8924731 | 0.09677419 |\n",
       "| 139441 | Photo  | 1 | 13720 | 24137 |  537 |  232 |  305 | 19728 | 11056 |  422 |  0 |  325 |  14 | 0.000000000 | 0.9587021 | 0.04129794 |\n",
       "| ⋮ | ⋮ | ⋮ | ⋮ | ⋮ | ⋮ | ⋮ | ⋮ | ⋮ | ⋮ | ⋮ | ⋮ | ⋮ | ⋮ | ⋮ | ⋮ | ⋮ |\n",
       "| 85979 | Photo | 1 |  6184 | 10228 |  956 |  901 | 1140 |  6085 |  3502 | 437 |  1 | 105 | 46 | 0.006578947 | 0.6907895 | 0.30263158 |\n",
       "| 85979 | Link  | 0 | 45920 |  5808 |  753 |  655 |  763 | 15766 | 10720 | 220 |  0 | 128 |  9 | 0.000000000 | 0.9343066 | 0.06569343 |\n",
       "| 85093 | Photo | 0 |  8412 | 13960 | 1179 | 1111 | 1632 |  8632 |  5348 | 699 | 17 | 185 | 55 | 0.066147860 | 0.7198444 | 0.21400778 |\n",
       "| 85093 | Photo | 0 |  5400 |  9218 |  810 |  756 | 1003 |  5654 |  3230 | 422 | 10 | 125 | 41 | 0.056818182 | 0.7102273 | 0.23295455 |\n",
       "| 85093 | Photo | 0 |  4684 |  7536 |  733 |  708 |  985 |  4750 |  2876 | 392 |  5 |  53 | 26 | 0.059523810 | 0.6309524 | 0.30952381 |\n",
       "| 81370 | Photo | 0 |  3480 |  6229 |  537 |  508 |  687 |  3961 |  2104 | 301 |  0 |  53 | 22 | 0.000000000 | 0.7066667 | 0.29333333 |\n",
       "| 81370 | Photo | 0 |  3778 |  7216 |  625 |  572 |  795 |  4742 |  2388 | 363 |  4 |  93 | 18 | 0.034782609 | 0.8086957 | 0.15652174 |\n",
       "| 81370 | Photo | 0 |  4156 |  7564 |  626 |  574 |  832 |  4534 |  2452 | 370 |  7 |  91 | 38 | 0.051470588 | 0.6691176 | 0.27941176 |\n",
       "\n"
      ],
      "text/plain": [
       "    page_likes type   paid reach impressions engaged_users post_consumers\n",
       "1   139441     Photo  0     2752  5091        178           109          \n",
       "2   139441     Status 0    10460 19057       1457          1361          \n",
       "3   139441     Photo  0     2413  4373        177           113          \n",
       "4   139441     Photo  1    50128 87991       2211           790          \n",
       "5   139441     Photo  0     7244 13594        671           410          \n",
       "6   139441     Status 0    10472 20849       1191          1073          \n",
       "7   139441     Photo  1    11692 19479        481           265          \n",
       "8   139441     Photo  1    13720 24137        537           232          \n",
       "⋮   ⋮          ⋮      ⋮    ⋮     ⋮           ⋮             ⋮             \n",
       "483 85979      Photo  1     6184 10228        956           901          \n",
       "484 85979      Link   0    45920  5808        753           655          \n",
       "485 85093      Photo  0     8412 13960       1179          1111          \n",
       "486 85093      Photo  0     5400  9218        810           756          \n",
       "487 85093      Photo  0     4684  7536        733           708          \n",
       "488 81370      Photo  0     3480  6229        537           508          \n",
       "489 81370      Photo  0     3778  7216        625           572          \n",
       "490 81370      Photo  0     4156  7564        626           574          \n",
       "    post_consumptions impressions_by_people_that_liked_page\n",
       "1    159               3078                                \n",
       "2   1674              11710                                \n",
       "3    154               2812                                \n",
       "4   1119              61027                                \n",
       "5    580               6228                                \n",
       "6   1389              16034                                \n",
       "7    364              15432                                \n",
       "8    305              19728                                \n",
       "⋮   ⋮                 ⋮                                    \n",
       "483 1140               6085                                \n",
       "484  763              15766                                \n",
       "485 1632               8632                                \n",
       "486 1003               5654                                \n",
       "487  985               4750                                \n",
       "488  687               3961                                \n",
       "489  795               4742                                \n",
       "490  832               4534                                \n",
       "    reach_by_people_that_like_page people_liked_and_engaged comments likes\n",
       "1    1640                           119                      4         79 \n",
       "2    6112                          1108                      5        130 \n",
       "3    1503                           132                      0         66 \n",
       "4   32048                          1386                     58       1572 \n",
       "5    3200                           396                     19        325 \n",
       "6    7852                          1016                      1        152 \n",
       "7    9328                           379                      3        249 \n",
       "8   11056                           422                      0        325 \n",
       "⋮   ⋮                              ⋮                        ⋮        ⋮    \n",
       "483  3502                          437                       1       105  \n",
       "484 10720                          220                       0       128  \n",
       "485  5348                          699                      17       185  \n",
       "486  3230                          422                      10       125  \n",
       "487  2876                          392                       5        53  \n",
       "488  2104                          301                       0        53  \n",
       "489  2388                          363                       4        93  \n",
       "490  2452                          370                       7        91  \n",
       "    shares comment_percent like_percent share_percent\n",
       "1    17    0.040000000     0.7900000    0.17000000   \n",
       "2    29    0.030487805     0.7926829    0.17682927   \n",
       "3    14    0.000000000     0.8250000    0.17500000   \n",
       "4   147    0.032639280     0.8846370    0.08272369   \n",
       "5    49    0.048346056     0.8269720    0.12468193   \n",
       "6    33    0.005376344     0.8172043    0.17741935   \n",
       "7    27    0.010752688     0.8924731    0.09677419   \n",
       "8    14    0.000000000     0.9587021    0.04129794   \n",
       "⋮   ⋮      ⋮               ⋮            ⋮            \n",
       "483 46     0.006578947     0.6907895    0.30263158   \n",
       "484  9     0.000000000     0.9343066    0.06569343   \n",
       "485 55     0.066147860     0.7198444    0.21400778   \n",
       "486 41     0.056818182     0.7102273    0.23295455   \n",
       "487 26     0.059523810     0.6309524    0.30952381   \n",
       "488 22     0.000000000     0.7066667    0.29333333   \n",
       "489 18     0.034782609     0.8086957    0.15652174   \n",
       "490 38     0.051470588     0.6691176    0.27941176   "
      ]
     },
     "metadata": {},
     "output_type": "display_data"
    }
   ],
   "source": [
    "fb_data_selected <- fb_data_clean %>% \n",
    "            select(-post_month, -post_weekday, -post_hour, -category, -interactions) # -comments, -likes, -shares\n",
    "fb_data_selected"
   ]
  },
  {
   "cell_type": "code",
   "execution_count": 16,
   "metadata": {},
   "outputs": [
    {
     "data": {
      "text/plain": [
       "List of 1\n",
       " $ text:List of 11\n",
       "  ..$ family       : NULL\n",
       "  ..$ face         : NULL\n",
       "  ..$ colour       : NULL\n",
       "  ..$ size         : num 14\n",
       "  ..$ hjust        : NULL\n",
       "  ..$ vjust        : NULL\n",
       "  ..$ angle        : NULL\n",
       "  ..$ lineheight   : NULL\n",
       "  ..$ margin       : NULL\n",
       "  ..$ debug        : NULL\n",
       "  ..$ inherit.blank: logi FALSE\n",
       "  ..- attr(*, \"class\")= chr [1:2] \"element_text\" \"element\"\n",
       " - attr(*, \"class\")= chr [1:2] \"theme\" \"gg\"\n",
       " - attr(*, \"complete\")= logi FALSE\n",
       " - attr(*, \"validate\")= logi TRUE"
      ]
     },
     "metadata": {},
     "output_type": "display_data"
    },
    {
     "ename": "ERROR",
     "evalue": "Error in pairs$ncol: object of type 'closure' is not subsettable\n",
     "output_type": "error",
     "traceback": [
      "Error in pairs$ncol: object of type 'closure' is not subsettable\nTraceback:\n",
      "1. ggmatrix(plots, nrow = 1, ncol = pairs$ncol, xAxisLabels = pairs$xAxisLabels, \n .     yAxisLabels = primary_var)",
      "2. check_nrow_ncol(ncol, \"ncol\")"
     ]
    }
   ],
   "source": [
    "options(repr.plot.height = 30, repr.plot.width = 30)\n",
    "fb_select_plot <- fb_data_selected %>% \n",
    "    ggpairs() +\n",
    "    ggtitle(\"Distribution of different factors\")\n",
    "    theme(text = element_text(size=14))\n",
    "plots <- lapply(1:fb_select_plot$ncol, function(j) getPlot(fb_select_plot, i = 2, j = j))\n",
    "ggmatrix(\n",
    "    plots,\n",
    "    nrow = 1,\n",
    "    ncol = pairs$ncol,\n",
    "    xAxisLabels = pairs$xAxisLabels,\n",
    "    yAxisLabels = primary_var\n",
    ")\n",
    "# fb_select_plot$nrow <- 1\n",
    "# fb_select_plot$yAxisLabels <- fb_plot$yAxisLabels[2]\n",
    "fb_select_plot"
   ]
  },
  {
   "cell_type": "markdown",
   "metadata": {},
   "source": [
    "#### Methods:\n",
    "\n",
    "Our analysis will use the following input columns of the original dataset: *Page total likes*, *Type*, *Category*, *Paid*, *comment*, *like*, *share*, and *Total Interactions*. Our aim is to use the K-nearest neighbours algorithm to generate a classification model which will classify a post by type (photo, status, link, or video). This will involve analyzing the key engagement metrics (comments, likes, and shares) and comparing their ratios of total interactions to examine how differences in engagement can be used to classify a post’s type. We will be using ratios instead of the raw values because the raw values are a measure of the popularity of the page, and not characteristics of the post type. This will normalize the data, allowing for the model to be effective in classifying posts for any page size. \n",
    "\n",
    "To visualize our results, we plan to use a confusion matrix. This will display how often our classification model labels a post correctly, and how often each label gets confused with another. We will also use bar charts to visualize relevant and intermediate results; e.g., we will create a bar chart with post type on the x-axis and interactions on the y-axis, filling out the bars with proportional values of the type of each interaction. As part of the tuning step of creating the model, we can create a line chart to show us the optimal K value. "
   ]
  },
  {
   "cell_type": "markdown",
   "metadata": {},
   "source": [
    "#### Expected outcomes and significance:\n",
    "\n",
    "This analysis hopes to define a relationship between type of post (i.e., photo, status, link, or video) and ratio of the corresponding post’s interaction type. It is expected that videos and photos, for example, may have higher percentages of interactions that are comments and/or likes when compared to a link or status.\n",
    "\n",
    "This classification application for labeling a post’s type could be helpful in identifying the types of reactions that a post might receive. It is possible that we find images get the most likes, while statuses get the most comments. Knowing how these metrics indicate the type could lead to better targeted ad campaigns that look for a certain type of user engagement.\n",
    "\n",
    "Future questions following from this analysis may include:\n",
    "- Do paid posts generate more traffic than unpaid posts?\n",
    "- Does the category of a post (i.e., “action”, “product”, or “inspiration” classification) affect the overall and/or ratio of interactions on a post?\n",
    "- Do posts with more interactions overall correlate with increases in users liking a company’s Facebook page? \n",
    "\n",
    "In examining the data for classification, it is also expected that trends may emerge which could in the future be used to predict post engagement. This predictive knowledge could be used by companies looking to grow their social media reach, as they may more accurately tailor their posts to yield higher engagement before publishing."
   ]
  },
  {
   "cell_type": "markdown",
   "metadata": {},
   "source": [
    "# USE STEP MUTATE TO APPLY PERCENTS TO THE MODEL\n",
    "#"
   ]
  },
  {
   "cell_type": "code",
   "execution_count": 13,
   "metadata": {},
   "outputs": [
    {
     "name": "stderr",
     "output_type": "stream",
     "text": [
      "Warning message:\n",
      "“`step_upsample()` was deprecated in recipes 0.1.13.\n",
      "Please use `themis::step_upsample()` instead.”\n"
     ]
    },
    {
     "ename": "ERROR",
     "evalue": "Error in is_tibble(data): object 'fb_data' not found\n",
     "output_type": "error",
     "traceback": [
      "Error in is_tibble(data): object 'fb_data' not found\nTraceback:\n",
      "1. recipe(type ~ like_percent, data = fb_data) %>% step_upsample(type, \n .     over_ratio = 1, skip = FALSE) %>% step_rm(paid, category, \n .     post_month, post_weekday, post_hour) %>% prep()",
      "2. prep(.)",
      "3. step_rm(., paid, category, post_month, post_weekday, post_hour)",
      "4. add_step(recipe, step_rm_new(terms = ellipse_check(...), role = role, \n .     trained = trained, removals = removals, skip = skip, id = id))",
      "5. step_upsample(., type, over_ratio = 1, skip = FALSE)",
      "6. add_step(recipe, step_upsample_new(terms = ellipse_check(...), \n .     over_ratio = over_ratio, ratio = ratio, role = role, trained = trained, \n .     column = column, target = target, skip = skip, seed = seed, \n .     id = id))",
      "7. recipe(type ~ like_percent, data = fb_data)",
      "8. recipe.formula(type ~ like_percent, data = fb_data)",
      "9. form2args(formula, data, ...)",
      "10. is_tibble(data)"
     ]
    }
   ],
   "source": [
    "ups_recipe <- recipe(type ~ like_percent, data = fb_data) %>%\n",
    "    step_upsample(type, over_ratio = 1, skip = FALSE) %>%\n",
    "    \n",
    "    step_rm(paid, category, post_month, post_weekday, post_hour) %>% \n",
    "    prep()\n",
    "\n",
    "ups_recipe\n"
   ]
  },
  {
   "cell_type": "code",
   "execution_count": null,
   "metadata": {},
   "outputs": [],
   "source": [
    "upsample_fb <- bake(ups_recipe, fb_data)\n",
    "upsample_fb"
   ]
  },
  {
   "cell_type": "code",
   "execution_count": null,
   "metadata": {},
   "outputs": [],
   "source": [
    "options(repr.plot.width = 20, repr.plot.height = 20)\n",
    "\n",
    "fb_plot <- upsample_fb %>% \n",
    "    ggpairs() +\n",
    "    theme(text = element_text(size=14))"
   ]
  },
  {
   "cell_type": "code",
   "execution_count": null,
   "metadata": {},
   "outputs": [],
   "source": []
  }
 ],
 "metadata": {
  "kernelspec": {
   "display_name": "R",
   "language": "R",
   "name": "ir"
  },
  "language_info": {
   "codemirror_mode": "r",
   "file_extension": ".r",
   "mimetype": "text/x-r-source",
   "name": "R",
   "pygments_lexer": "r",
   "version": "4.0.5"
  }
 },
 "nbformat": 4,
 "nbformat_minor": 4
}
