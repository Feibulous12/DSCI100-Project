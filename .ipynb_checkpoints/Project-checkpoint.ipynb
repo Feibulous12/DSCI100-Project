{
 "cells": [
  {
   "cell_type": "markdown",
   "metadata": {},
   "source": [
    "# DSCI 100: Group Project Proposal \n",
    "\n",
    "\n",
    "## Classification of Facebook Posts\n",
    "\n",
    "#### Introduction:\n",
    "\n",
    "The dataset *Facebook performance metrics* (Moro et al., 2016) contains data related to posts published throughout the year 2014 on a renowned cosmetics brand's Facebook page. Post information such as type (photo, status, link, or video), time posted (month, day of week, and hour), user engagement (comments, likes, and shares), and whether the post was paid or unpaid is included in the dataset. This project proposes to use columns from this dataset relevant to engagement - all input columns excluding post month, weekday, and hour - to determine the type of a brand's Facebook post. Key metrics and their correlation with type of post will be investigated to determine whether there is a relationship between the two. \n"
   ]
  },
  {
   "cell_type": "markdown",
   "metadata": {},
   "source": [
    "#### Preliminary exploratory data analysis:\n",
    "\n",
    "We begin by loading the relevant libraries."
   ]
  },
  {
   "cell_type": "code",
   "execution_count": 1,
   "metadata": {},
   "outputs": [
    {
     "name": "stderr",
     "output_type": "stream",
     "text": [
      "── \u001b[1mAttaching packages\u001b[22m ─────────────────────────────────────── tidyverse 1.3.0 ──\n",
      "\n",
      "\u001b[32m✔\u001b[39m \u001b[34mggplot2\u001b[39m 3.3.2     \u001b[32m✔\u001b[39m \u001b[34mpurrr  \u001b[39m 0.3.4\n",
      "\u001b[32m✔\u001b[39m \u001b[34mtibble \u001b[39m 3.0.3     \u001b[32m✔\u001b[39m \u001b[34mdplyr  \u001b[39m 1.0.2\n",
      "\u001b[32m✔\u001b[39m \u001b[34mtidyr  \u001b[39m 1.1.2     \u001b[32m✔\u001b[39m \u001b[34mstringr\u001b[39m 1.4.0\n",
      "\u001b[32m✔\u001b[39m \u001b[34mreadr  \u001b[39m 1.3.1     \u001b[32m✔\u001b[39m \u001b[34mforcats\u001b[39m 0.5.0\n",
      "\n",
      "Warning message:\n",
      "“package ‘ggplot2’ was built under R version 4.0.1”\n",
      "Warning message:\n",
      "“package ‘tibble’ was built under R version 4.0.2”\n",
      "Warning message:\n",
      "“package ‘tidyr’ was built under R version 4.0.2”\n",
      "Warning message:\n",
      "“package ‘dplyr’ was built under R version 4.0.2”\n",
      "── \u001b[1mConflicts\u001b[22m ────────────────────────────────────────── tidyverse_conflicts() ──\n",
      "\u001b[31m✖\u001b[39m \u001b[34mdplyr\u001b[39m::\u001b[32mfilter()\u001b[39m masks \u001b[34mstats\u001b[39m::filter()\n",
      "\u001b[31m✖\u001b[39m \u001b[34mdplyr\u001b[39m::\u001b[32mlag()\u001b[39m    masks \u001b[34mstats\u001b[39m::lag()\n",
      "\n",
      "Warning message:\n",
      "“package ‘tidymodels’ was built under R version 4.0.2”\n",
      "── \u001b[1mAttaching packages\u001b[22m ────────────────────────────────────── tidymodels 0.1.1 ──\n",
      "\n",
      "\u001b[32m✔\u001b[39m \u001b[34mbroom    \u001b[39m 0.7.0      \u001b[32m✔\u001b[39m \u001b[34mrecipes  \u001b[39m 0.1.13\n",
      "\u001b[32m✔\u001b[39m \u001b[34mdials    \u001b[39m 0.0.9      \u001b[32m✔\u001b[39m \u001b[34mrsample  \u001b[39m 0.0.7 \n",
      "\u001b[32m✔\u001b[39m \u001b[34minfer    \u001b[39m 0.5.4      \u001b[32m✔\u001b[39m \u001b[34mtune     \u001b[39m 0.1.1 \n",
      "\u001b[32m✔\u001b[39m \u001b[34mmodeldata\u001b[39m 0.0.2      \u001b[32m✔\u001b[39m \u001b[34mworkflows\u001b[39m 0.2.0 \n",
      "\u001b[32m✔\u001b[39m \u001b[34mparsnip  \u001b[39m 0.1.3      \u001b[32m✔\u001b[39m \u001b[34myardstick\u001b[39m 0.0.7 \n",
      "\n",
      "Warning message:\n",
      "“package ‘broom’ was built under R version 4.0.2”\n",
      "Warning message:\n",
      "“package ‘dials’ was built under R version 4.0.2”\n",
      "Warning message:\n",
      "“package ‘infer’ was built under R version 4.0.3”\n",
      "Warning message:\n",
      "“package ‘modeldata’ was built under R version 4.0.1”\n",
      "Warning message:\n",
      "“package ‘parsnip’ was built under R version 4.0.2”\n",
      "Warning message:\n",
      "“package ‘recipes’ was built under R version 4.0.1”\n",
      "Warning message:\n",
      "“package ‘tune’ was built under R version 4.0.2”\n",
      "Warning message:\n",
      "“package ‘workflows’ was built under R version 4.0.2”\n",
      "Warning message:\n",
      "“package ‘yardstick’ was built under R version 4.0.2”\n",
      "── \u001b[1mConflicts\u001b[22m ───────────────────────────────────────── tidymodels_conflicts() ──\n",
      "\u001b[31m✖\u001b[39m \u001b[34mscales\u001b[39m::\u001b[32mdiscard()\u001b[39m masks \u001b[34mpurrr\u001b[39m::discard()\n",
      "\u001b[31m✖\u001b[39m \u001b[34mdplyr\u001b[39m::\u001b[32mfilter()\u001b[39m   masks \u001b[34mstats\u001b[39m::filter()\n",
      "\u001b[31m✖\u001b[39m \u001b[34mrecipes\u001b[39m::\u001b[32mfixed()\u001b[39m  masks \u001b[34mstringr\u001b[39m::fixed()\n",
      "\u001b[31m✖\u001b[39m \u001b[34mdplyr\u001b[39m::\u001b[32mlag()\u001b[39m      masks \u001b[34mstats\u001b[39m::lag()\n",
      "\u001b[31m✖\u001b[39m \u001b[34myardstick\u001b[39m::\u001b[32mspec()\u001b[39m masks \u001b[34mreadr\u001b[39m::spec()\n",
      "\u001b[31m✖\u001b[39m \u001b[34mrecipes\u001b[39m::\u001b[32mstep()\u001b[39m   masks \u001b[34mstats\u001b[39m::step()\n",
      "\n"
     ]
    }
   ],
   "source": [
    "# Load libraries for preliminary data analysis:\n",
    "library(tidyverse)\n",
    "library(repr)\n",
    "library(readxl)\n",
    "library(tidymodels)"
   ]
  },
  {
   "cell_type": "markdown",
   "metadata": {},
   "source": [
    "The following cell loads the dataset into R; as the dataset on the web is contained in a zip folder, the .csv file was manually extracted and pushed to the working Github repository.\n",
    "\n",
    "The dataset is already in tidy format. The column headings were made more usable by removing spaces and shortening longer headings."
   ]
  },
  {
   "cell_type": "code",
   "execution_count": 2,
   "metadata": {},
   "outputs": [
    {
     "name": "stderr",
     "output_type": "stream",
     "text": [
      "Using ',' as decimal and '.' as grouping mark. Use read_delim() for more control.\n",
      "\n"
     ]
    },
    {
     "data": {
      "text/html": [
       "<table>\n",
       "<caption>A tibble: 375 × 22</caption>\n",
       "<thead>\n",
       "\t<tr><th scope=col>page_likes</th><th scope=col>type</th><th scope=col>category</th><th scope=col>post_month</th><th scope=col>post_weekday</th><th scope=col>post_hour</th><th scope=col>paid</th><th scope=col>reach</th><th scope=col>impressions</th><th scope=col>engaged_users</th><th scope=col>⋯</th><th scope=col>impressions_by_people_that_liked_page</th><th scope=col>reach_by_people_that_like_page</th><th scope=col>people_liked_and_engaged</th><th scope=col>comments</th><th scope=col>likes</th><th scope=col>shares</th><th scope=col>interactions</th><th scope=col>comment_percent</th><th scope=col>like_percent</th><th scope=col>share_percent</th></tr>\n",
       "\t<tr><th scope=col>&lt;dbl&gt;</th><th scope=col>&lt;fct&gt;</th><th scope=col>&lt;fct&gt;</th><th scope=col>&lt;fct&gt;</th><th scope=col>&lt;fct&gt;</th><th scope=col>&lt;fct&gt;</th><th scope=col>&lt;dbl&gt;</th><th scope=col>&lt;dbl&gt;</th><th scope=col>&lt;dbl&gt;</th><th scope=col>&lt;dbl&gt;</th><th scope=col>⋯</th><th scope=col>&lt;dbl&gt;</th><th scope=col>&lt;dbl&gt;</th><th scope=col>&lt;dbl&gt;</th><th scope=col>&lt;dbl&gt;</th><th scope=col>&lt;dbl&gt;</th><th scope=col>&lt;dbl&gt;</th><th scope=col>&lt;dbl&gt;</th><th scope=col>&lt;dbl&gt;</th><th scope=col>&lt;dbl&gt;</th><th scope=col>&lt;dbl&gt;</th></tr>\n",
       "</thead>\n",
       "<tbody>\n",
       "\t<tr><td>139441</td><td>Photo </td><td>2</td><td>12</td><td>4</td><td>3 </td><td>0</td><td> 2752</td><td> 5091</td><td> 178</td><td>⋯</td><td> 3078</td><td> 1640</td><td> 119</td><td> 4</td><td> 79</td><td>17</td><td>100</td><td>0.040000000</td><td>0.7900000</td><td>0.17000000</td></tr>\n",
       "\t<tr><td>139441</td><td>Photo </td><td>2</td><td>12</td><td>2</td><td>3 </td><td>0</td><td> 7244</td><td>13594</td><td> 671</td><td>⋯</td><td> 6228</td><td> 3200</td><td> 396</td><td>19</td><td>325</td><td>49</td><td>393</td><td>0.048346056</td><td>0.8269720</td><td>0.12468193</td></tr>\n",
       "\t<tr><td>139441</td><td>Status</td><td>2</td><td>12</td><td>1</td><td>9 </td><td>0</td><td>10472</td><td>20849</td><td>1191</td><td>⋯</td><td>16034</td><td> 7852</td><td>1016</td><td> 1</td><td>152</td><td>33</td><td>186</td><td>0.005376344</td><td>0.8172043</td><td>0.17741935</td></tr>\n",
       "\t<tr><td>139441</td><td>Photo </td><td>3</td><td>12</td><td>1</td><td>3 </td><td>1</td><td>11692</td><td>19479</td><td> 481</td><td>⋯</td><td>15432</td><td> 9328</td><td> 379</td><td> 3</td><td>249</td><td>27</td><td>279</td><td>0.010752688</td><td>0.8924731</td><td>0.09677419</td></tr>\n",
       "\t<tr><td>139441</td><td>Photo </td><td>3</td><td>12</td><td>7</td><td>9 </td><td>1</td><td>13720</td><td>24137</td><td> 537</td><td>⋯</td><td>19728</td><td>11056</td><td> 422</td><td> 0</td><td>325</td><td>14</td><td>339</td><td>0.000000000</td><td>0.9587021</td><td>0.04129794</td></tr>\n",
       "\t<tr><td>139441</td><td>Status</td><td>2</td><td>12</td><td>7</td><td>3 </td><td>0</td><td>11844</td><td>22538</td><td>1530</td><td>⋯</td><td>15220</td><td> 7912</td><td>1250</td><td> 0</td><td>161</td><td>31</td><td>192</td><td>0.000000000</td><td>0.8385417</td><td>0.16145833</td></tr>\n",
       "\t<tr><td>139441</td><td>Photo </td><td>3</td><td>12</td><td>6</td><td>10</td><td>0</td><td> 4694</td><td> 8668</td><td> 280</td><td>⋯</td><td> 4309</td><td> 2324</td><td> 199</td><td> 3</td><td>113</td><td>26</td><td>142</td><td>0.021126761</td><td>0.7957746</td><td>0.18309859</td></tr>\n",
       "\t<tr><td>139441</td><td>Status</td><td>2</td><td>12</td><td>5</td><td>10</td><td>0</td><td>21744</td><td>42334</td><td>4258</td><td>⋯</td><td>37849</td><td>18952</td><td>3798</td><td> 0</td><td>233</td><td>19</td><td>252</td><td>0.000000000</td><td>0.9246032</td><td>0.07539683</td></tr>\n",
       "\t<tr><td>⋮</td><td>⋮</td><td>⋮</td><td>⋮</td><td>⋮</td><td>⋮</td><td>⋮</td><td>⋮</td><td>⋮</td><td>⋮</td><td>⋱</td><td>⋮</td><td>⋮</td><td>⋮</td><td>⋮</td><td>⋮</td><td>⋮</td><td>⋮</td><td>⋮</td><td>⋮</td><td>⋮</td></tr>\n",
       "\t<tr><td>85979</td><td>Link </td><td>1</td><td>1</td><td>5</td><td>11</td><td> 0</td><td>45920</td><td> 5808</td><td> 753</td><td>⋯</td><td>15766</td><td>10720</td><td>220</td><td> 0</td><td>128</td><td> 9</td><td>137</td><td>0.00000000</td><td>0.9343066</td><td>0.06569343</td></tr>\n",
       "\t<tr><td>85093</td><td>Photo</td><td>3</td><td>1</td><td>1</td><td>2 </td><td> 0</td><td> 8412</td><td>13960</td><td>1179</td><td>⋯</td><td> 8632</td><td> 5348</td><td>699</td><td>17</td><td>185</td><td>55</td><td>257</td><td>0.06614786</td><td>0.7198444</td><td>0.21400778</td></tr>\n",
       "\t<tr><td>85093</td><td>Photo</td><td>3</td><td>1</td><td>7</td><td>10</td><td> 0</td><td> 5400</td><td> 9218</td><td> 810</td><td>⋯</td><td> 5654</td><td> 3230</td><td>422</td><td>10</td><td>125</td><td>41</td><td>176</td><td>0.05681818</td><td>0.7102273</td><td>0.23295455</td></tr>\n",
       "\t<tr><td>85093</td><td>Photo</td><td>3</td><td>1</td><td>7</td><td>2 </td><td> 0</td><td> 4684</td><td> 7536</td><td> 733</td><td>⋯</td><td> 4750</td><td> 2876</td><td>392</td><td> 5</td><td> 53</td><td>26</td><td> 84</td><td>0.05952381</td><td>0.6309524</td><td>0.30952381</td></tr>\n",
       "\t<tr><td>81370</td><td>Photo</td><td>2</td><td>1</td><td>5</td><td>8 </td><td> 0</td><td> 3480</td><td> 6229</td><td> 537</td><td>⋯</td><td> 3961</td><td> 2104</td><td>301</td><td> 0</td><td> 53</td><td>22</td><td> 75</td><td>0.00000000</td><td>0.7066667</td><td>0.29333333</td></tr>\n",
       "\t<tr><td>81370</td><td>Photo</td><td>1</td><td>1</td><td>5</td><td>2 </td><td> 0</td><td> 3778</td><td> 7216</td><td> 625</td><td>⋯</td><td> 4742</td><td> 2388</td><td>363</td><td> 4</td><td> 93</td><td>18</td><td>115</td><td>0.03478261</td><td>0.8086957</td><td>0.15652174</td></tr>\n",
       "\t<tr><td>81370</td><td>Photo</td><td>3</td><td>1</td><td>4</td><td>11</td><td> 0</td><td> 4156</td><td> 7564</td><td> 626</td><td>⋯</td><td> 4534</td><td> 2452</td><td>370</td><td> 7</td><td> 91</td><td>38</td><td>136</td><td>0.05147059</td><td>0.6691176</td><td>0.27941176</td></tr>\n",
       "\t<tr><td>81370</td><td>Photo</td><td>2</td><td>1</td><td>4</td><td>4 </td><td>NA</td><td> 4188</td><td> 7292</td><td> 564</td><td>⋯</td><td> 3861</td><td> 2200</td><td>316</td><td> 0</td><td> 91</td><td>28</td><td>119</td><td>0.00000000</td><td>0.7647059</td><td>0.23529412</td></tr>\n",
       "</tbody>\n",
       "</table>\n"
      ],
      "text/latex": [
       "A tibble: 375 × 22\n",
       "\\begin{tabular}{lllllllllllllllllllll}\n",
       " page\\_likes & type & category & post\\_month & post\\_weekday & post\\_hour & paid & reach & impressions & engaged\\_users & ⋯ & impressions\\_by\\_people\\_that\\_liked\\_page & reach\\_by\\_people\\_that\\_like\\_page & people\\_liked\\_and\\_engaged & comments & likes & shares & interactions & comment\\_percent & like\\_percent & share\\_percent\\\\\n",
       " <dbl> & <fct> & <fct> & <fct> & <fct> & <fct> & <dbl> & <dbl> & <dbl> & <dbl> & ⋯ & <dbl> & <dbl> & <dbl> & <dbl> & <dbl> & <dbl> & <dbl> & <dbl> & <dbl> & <dbl>\\\\\n",
       "\\hline\n",
       "\t 139441 & Photo  & 2 & 12 & 4 & 3  & 0 &  2752 &  5091 &  178 & ⋯ &  3078 &  1640 &  119 &  4 &  79 & 17 & 100 & 0.040000000 & 0.7900000 & 0.17000000\\\\\n",
       "\t 139441 & Photo  & 2 & 12 & 2 & 3  & 0 &  7244 & 13594 &  671 & ⋯ &  6228 &  3200 &  396 & 19 & 325 & 49 & 393 & 0.048346056 & 0.8269720 & 0.12468193\\\\\n",
       "\t 139441 & Status & 2 & 12 & 1 & 9  & 0 & 10472 & 20849 & 1191 & ⋯ & 16034 &  7852 & 1016 &  1 & 152 & 33 & 186 & 0.005376344 & 0.8172043 & 0.17741935\\\\\n",
       "\t 139441 & Photo  & 3 & 12 & 1 & 3  & 1 & 11692 & 19479 &  481 & ⋯ & 15432 &  9328 &  379 &  3 & 249 & 27 & 279 & 0.010752688 & 0.8924731 & 0.09677419\\\\\n",
       "\t 139441 & Photo  & 3 & 12 & 7 & 9  & 1 & 13720 & 24137 &  537 & ⋯ & 19728 & 11056 &  422 &  0 & 325 & 14 & 339 & 0.000000000 & 0.9587021 & 0.04129794\\\\\n",
       "\t 139441 & Status & 2 & 12 & 7 & 3  & 0 & 11844 & 22538 & 1530 & ⋯ & 15220 &  7912 & 1250 &  0 & 161 & 31 & 192 & 0.000000000 & 0.8385417 & 0.16145833\\\\\n",
       "\t 139441 & Photo  & 3 & 12 & 6 & 10 & 0 &  4694 &  8668 &  280 & ⋯ &  4309 &  2324 &  199 &  3 & 113 & 26 & 142 & 0.021126761 & 0.7957746 & 0.18309859\\\\\n",
       "\t 139441 & Status & 2 & 12 & 5 & 10 & 0 & 21744 & 42334 & 4258 & ⋯ & 37849 & 18952 & 3798 &  0 & 233 & 19 & 252 & 0.000000000 & 0.9246032 & 0.07539683\\\\\n",
       "\t ⋮ & ⋮ & ⋮ & ⋮ & ⋮ & ⋮ & ⋮ & ⋮ & ⋮ & ⋮ & ⋱ & ⋮ & ⋮ & ⋮ & ⋮ & ⋮ & ⋮ & ⋮ & ⋮ & ⋮ & ⋮\\\\\n",
       "\t 85979 & Link  & 1 & 1 & 5 & 11 &  0 & 45920 &  5808 &  753 & ⋯ & 15766 & 10720 & 220 &  0 & 128 &  9 & 137 & 0.00000000 & 0.9343066 & 0.06569343\\\\\n",
       "\t 85093 & Photo & 3 & 1 & 1 & 2  &  0 &  8412 & 13960 & 1179 & ⋯ &  8632 &  5348 & 699 & 17 & 185 & 55 & 257 & 0.06614786 & 0.7198444 & 0.21400778\\\\\n",
       "\t 85093 & Photo & 3 & 1 & 7 & 10 &  0 &  5400 &  9218 &  810 & ⋯ &  5654 &  3230 & 422 & 10 & 125 & 41 & 176 & 0.05681818 & 0.7102273 & 0.23295455\\\\\n",
       "\t 85093 & Photo & 3 & 1 & 7 & 2  &  0 &  4684 &  7536 &  733 & ⋯ &  4750 &  2876 & 392 &  5 &  53 & 26 &  84 & 0.05952381 & 0.6309524 & 0.30952381\\\\\n",
       "\t 81370 & Photo & 2 & 1 & 5 & 8  &  0 &  3480 &  6229 &  537 & ⋯ &  3961 &  2104 & 301 &  0 &  53 & 22 &  75 & 0.00000000 & 0.7066667 & 0.29333333\\\\\n",
       "\t 81370 & Photo & 1 & 1 & 5 & 2  &  0 &  3778 &  7216 &  625 & ⋯ &  4742 &  2388 & 363 &  4 &  93 & 18 & 115 & 0.03478261 & 0.8086957 & 0.15652174\\\\\n",
       "\t 81370 & Photo & 3 & 1 & 4 & 11 &  0 &  4156 &  7564 &  626 & ⋯ &  4534 &  2452 & 370 &  7 &  91 & 38 & 136 & 0.05147059 & 0.6691176 & 0.27941176\\\\\n",
       "\t 81370 & Photo & 2 & 1 & 4 & 4  & NA &  4188 &  7292 &  564 & ⋯ &  3861 &  2200 & 316 &  0 &  91 & 28 & 119 & 0.00000000 & 0.7647059 & 0.23529412\\\\\n",
       "\\end{tabular}\n"
      ],
      "text/markdown": [
       "\n",
       "A tibble: 375 × 22\n",
       "\n",
       "| page_likes &lt;dbl&gt; | type &lt;fct&gt; | category &lt;fct&gt; | post_month &lt;fct&gt; | post_weekday &lt;fct&gt; | post_hour &lt;fct&gt; | paid &lt;dbl&gt; | reach &lt;dbl&gt; | impressions &lt;dbl&gt; | engaged_users &lt;dbl&gt; | ⋯ ⋯ | impressions_by_people_that_liked_page &lt;dbl&gt; | reach_by_people_that_like_page &lt;dbl&gt; | people_liked_and_engaged &lt;dbl&gt; | comments &lt;dbl&gt; | likes &lt;dbl&gt; | shares &lt;dbl&gt; | interactions &lt;dbl&gt; | comment_percent &lt;dbl&gt; | like_percent &lt;dbl&gt; | share_percent &lt;dbl&gt; |\n",
       "|---|---|---|---|---|---|---|---|---|---|---|---|---|---|---|---|---|---|---|---|---|\n",
       "| 139441 | Photo  | 2 | 12 | 4 | 3  | 0 |  2752 |  5091 |  178 | ⋯ |  3078 |  1640 |  119 |  4 |  79 | 17 | 100 | 0.040000000 | 0.7900000 | 0.17000000 |\n",
       "| 139441 | Photo  | 2 | 12 | 2 | 3  | 0 |  7244 | 13594 |  671 | ⋯ |  6228 |  3200 |  396 | 19 | 325 | 49 | 393 | 0.048346056 | 0.8269720 | 0.12468193 |\n",
       "| 139441 | Status | 2 | 12 | 1 | 9  | 0 | 10472 | 20849 | 1191 | ⋯ | 16034 |  7852 | 1016 |  1 | 152 | 33 | 186 | 0.005376344 | 0.8172043 | 0.17741935 |\n",
       "| 139441 | Photo  | 3 | 12 | 1 | 3  | 1 | 11692 | 19479 |  481 | ⋯ | 15432 |  9328 |  379 |  3 | 249 | 27 | 279 | 0.010752688 | 0.8924731 | 0.09677419 |\n",
       "| 139441 | Photo  | 3 | 12 | 7 | 9  | 1 | 13720 | 24137 |  537 | ⋯ | 19728 | 11056 |  422 |  0 | 325 | 14 | 339 | 0.000000000 | 0.9587021 | 0.04129794 |\n",
       "| 139441 | Status | 2 | 12 | 7 | 3  | 0 | 11844 | 22538 | 1530 | ⋯ | 15220 |  7912 | 1250 |  0 | 161 | 31 | 192 | 0.000000000 | 0.8385417 | 0.16145833 |\n",
       "| 139441 | Photo  | 3 | 12 | 6 | 10 | 0 |  4694 |  8668 |  280 | ⋯ |  4309 |  2324 |  199 |  3 | 113 | 26 | 142 | 0.021126761 | 0.7957746 | 0.18309859 |\n",
       "| 139441 | Status | 2 | 12 | 5 | 10 | 0 | 21744 | 42334 | 4258 | ⋯ | 37849 | 18952 | 3798 |  0 | 233 | 19 | 252 | 0.000000000 | 0.9246032 | 0.07539683 |\n",
       "| ⋮ | ⋮ | ⋮ | ⋮ | ⋮ | ⋮ | ⋮ | ⋮ | ⋮ | ⋮ | ⋱ | ⋮ | ⋮ | ⋮ | ⋮ | ⋮ | ⋮ | ⋮ | ⋮ | ⋮ | ⋮ |\n",
       "| 85979 | Link  | 1 | 1 | 5 | 11 |  0 | 45920 |  5808 |  753 | ⋯ | 15766 | 10720 | 220 |  0 | 128 |  9 | 137 | 0.00000000 | 0.9343066 | 0.06569343 |\n",
       "| 85093 | Photo | 3 | 1 | 1 | 2  |  0 |  8412 | 13960 | 1179 | ⋯ |  8632 |  5348 | 699 | 17 | 185 | 55 | 257 | 0.06614786 | 0.7198444 | 0.21400778 |\n",
       "| 85093 | Photo | 3 | 1 | 7 | 10 |  0 |  5400 |  9218 |  810 | ⋯ |  5654 |  3230 | 422 | 10 | 125 | 41 | 176 | 0.05681818 | 0.7102273 | 0.23295455 |\n",
       "| 85093 | Photo | 3 | 1 | 7 | 2  |  0 |  4684 |  7536 |  733 | ⋯ |  4750 |  2876 | 392 |  5 |  53 | 26 |  84 | 0.05952381 | 0.6309524 | 0.30952381 |\n",
       "| 81370 | Photo | 2 | 1 | 5 | 8  |  0 |  3480 |  6229 |  537 | ⋯ |  3961 |  2104 | 301 |  0 |  53 | 22 |  75 | 0.00000000 | 0.7066667 | 0.29333333 |\n",
       "| 81370 | Photo | 1 | 1 | 5 | 2  |  0 |  3778 |  7216 |  625 | ⋯ |  4742 |  2388 | 363 |  4 |  93 | 18 | 115 | 0.03478261 | 0.8086957 | 0.15652174 |\n",
       "| 81370 | Photo | 3 | 1 | 4 | 11 |  0 |  4156 |  7564 |  626 | ⋯ |  4534 |  2452 | 370 |  7 |  91 | 38 | 136 | 0.05147059 | 0.6691176 | 0.27941176 |\n",
       "| 81370 | Photo | 2 | 1 | 4 | 4  | NA |  4188 |  7292 |  564 | ⋯ |  3861 |  2200 | 316 |  0 |  91 | 28 | 119 | 0.00000000 | 0.7647059 | 0.23529412 |\n",
       "\n"
      ],
      "text/plain": [
       "    page_likes type   category post_month post_weekday post_hour paid reach\n",
       "1   139441     Photo  2        12         4            3         0     2752\n",
       "2   139441     Photo  2        12         2            3         0     7244\n",
       "3   139441     Status 2        12         1            9         0    10472\n",
       "4   139441     Photo  3        12         1            3         1    11692\n",
       "5   139441     Photo  3        12         7            9         1    13720\n",
       "6   139441     Status 2        12         7            3         0    11844\n",
       "7   139441     Photo  3        12         6            10        0     4694\n",
       "8   139441     Status 2        12         5            10        0    21744\n",
       "⋮   ⋮          ⋮      ⋮        ⋮          ⋮            ⋮         ⋮    ⋮    \n",
       "368 85979      Link   1        1          5            11         0   45920\n",
       "369 85093      Photo  3        1          1            2          0    8412\n",
       "370 85093      Photo  3        1          7            10         0    5400\n",
       "371 85093      Photo  3        1          7            2          0    4684\n",
       "372 81370      Photo  2        1          5            8          0    3480\n",
       "373 81370      Photo  1        1          5            2          0    3778\n",
       "374 81370      Photo  3        1          4            11         0    4156\n",
       "375 81370      Photo  2        1          4            4         NA    4188\n",
       "    impressions engaged_users ⋯ impressions_by_people_that_liked_page\n",
       "1    5091        178          ⋯  3078                                \n",
       "2   13594        671          ⋯  6228                                \n",
       "3   20849       1191          ⋯ 16034                                \n",
       "4   19479        481          ⋯ 15432                                \n",
       "5   24137        537          ⋯ 19728                                \n",
       "6   22538       1530          ⋯ 15220                                \n",
       "7    8668        280          ⋯  4309                                \n",
       "8   42334       4258          ⋯ 37849                                \n",
       "⋮   ⋮           ⋮             ⋱ ⋮                                    \n",
       "368  5808        753          ⋯ 15766                                \n",
       "369 13960       1179          ⋯  8632                                \n",
       "370  9218        810          ⋯  5654                                \n",
       "371  7536        733          ⋯  4750                                \n",
       "372  6229        537          ⋯  3961                                \n",
       "373  7216        625          ⋯  4742                                \n",
       "374  7564        626          ⋯  4534                                \n",
       "375  7292        564          ⋯  3861                                \n",
       "    reach_by_people_that_like_page people_liked_and_engaged comments likes\n",
       "1    1640                           119                      4        79  \n",
       "2    3200                           396                     19       325  \n",
       "3    7852                          1016                      1       152  \n",
       "4    9328                           379                      3       249  \n",
       "5   11056                           422                      0       325  \n",
       "6    7912                          1250                      0       161  \n",
       "7    2324                           199                      3       113  \n",
       "8   18952                          3798                      0       233  \n",
       "⋮   ⋮                              ⋮                        ⋮        ⋮    \n",
       "368 10720                          220                       0       128  \n",
       "369  5348                          699                      17       185  \n",
       "370  3230                          422                      10       125  \n",
       "371  2876                          392                       5        53  \n",
       "372  2104                          301                       0        53  \n",
       "373  2388                          363                       4        93  \n",
       "374  2452                          370                       7        91  \n",
       "375  2200                          316                       0        91  \n",
       "    shares interactions comment_percent like_percent share_percent\n",
       "1   17     100          0.040000000     0.7900000    0.17000000   \n",
       "2   49     393          0.048346056     0.8269720    0.12468193   \n",
       "3   33     186          0.005376344     0.8172043    0.17741935   \n",
       "4   27     279          0.010752688     0.8924731    0.09677419   \n",
       "5   14     339          0.000000000     0.9587021    0.04129794   \n",
       "6   31     192          0.000000000     0.8385417    0.16145833   \n",
       "7   26     142          0.021126761     0.7957746    0.18309859   \n",
       "8   19     252          0.000000000     0.9246032    0.07539683   \n",
       "⋮   ⋮      ⋮            ⋮               ⋮            ⋮            \n",
       "368  9     137          0.00000000      0.9343066    0.06569343   \n",
       "369 55     257          0.06614786      0.7198444    0.21400778   \n",
       "370 41     176          0.05681818      0.7102273    0.23295455   \n",
       "371 26      84          0.05952381      0.6309524    0.30952381   \n",
       "372 22      75          0.00000000      0.7066667    0.29333333   \n",
       "373 18     115          0.03478261      0.8086957    0.15652174   \n",
       "374 38     136          0.05147059      0.6691176    0.27941176   \n",
       "375 28     119          0.00000000      0.7647059    0.23529412   "
      ]
     },
     "metadata": {},
     "output_type": "display_data"
    }
   ],
   "source": [
    "# displays first and last 8 rows of the dataset\n",
    "options(repr.matrix.max.rows = 16)\n",
    "\n",
    "\n",
    "fb_data <- read_csv2(\"https://gist.githubusercontent.com/KolCrooks/691e5890b6747b4777d6032f019b2c0f/raw/20629a5da3d5a7683e3071798876f3e4b204fbbb/fb_data.csv\",  col_types = cols())\n",
    "colnames(fb_data) <- c(\"page_likes\", \"type\", \"category\", \"post_month\", \"post_weekday\", \"post_hour\", \"paid\", \"reach\", \n",
    "      \"impressions\", \"engaged_users\", \"post_consumers\", \"post_consumptions\", \"impressions_by_people_that_liked_page\", \n",
    "      \"reach_by_people_that_like_page\", \"people_liked_and_engaged\", \"comments\", \"likes\", \"shares\", \"interactions\")\n",
    "options(repr.matrix.max.rows = 16)\n",
    "\n",
    "fb_data <- fb_data %>% \n",
    "        mutate(type = as_factor(type)) %>% \n",
    "        mutate(category = as_factor(category)) %>% \n",
    "        mutate(post_month = as_factor(post_month)) %>% \n",
    "        mutate(post_weekday = as_factor(post_weekday)) %>% \n",
    "        mutate(post_hour = as_factor(post_hour)) %>% \n",
    "        mutate(comment_percent = comments / interactions) %>% \n",
    "        mutate(like_percent = likes / interactions) %>% \n",
    "        mutate(share_percent = shares / interactions)\n",
    "\n",
    "fb_split <- initial_split(fb_data, prop = 0.75, strata = type)  \n",
    "fb_train <- training(fb_split)   \n",
    "fb_test <- testing(fb_split)\n",
    "\n",
    "fb_train"
   ]
  },
  {
   "cell_type": "markdown",
   "metadata": {},
   "source": [
    "\n",
    "##### Preliminary summary tables:\n",
    "\n",
    "Tables were constructed to gain an initial summary of the data. Table *summary_table1* groups posts by type and computes the total posts, total interactions (including all likes, comments, shares), maximum interactions, and number of paid posts for each type. The *paid* column was found to include one observation with missing data, so the *na.rm = TRUE* argument was included."
   ]
  },
  {
   "cell_type": "code",
   "execution_count": 3,
   "metadata": {},
   "outputs": [
    {
     "name": "stderr",
     "output_type": "stream",
     "text": [
      "`summarise()` ungrouping output (override with `.groups` argument)\n",
      "\n"
     ]
    },
    {
     "data": {
      "text/html": [
       "<table>\n",
       "<caption>A tibble: 4 × 5</caption>\n",
       "<thead>\n",
       "\t<tr><th scope=col>type</th><th scope=col>total_of_type</th><th scope=col>total_interactions</th><th scope=col>max_interactions</th><th scope=col>total_paid</th></tr>\n",
       "\t<tr><th scope=col>&lt;fct&gt;</th><th scope=col>&lt;int&gt;</th><th scope=col>&lt;dbl&gt;</th><th scope=col>&lt;dbl&gt;</th><th scope=col>&lt;dbl&gt;</th></tr>\n",
       "</thead>\n",
       "<tbody>\n",
       "\t<tr><td>Photo </td><td>320</td><td>73131</td><td>6334</td><td>83</td></tr>\n",
       "\t<tr><td>Status</td><td> 33</td><td> 6894</td><td>1009</td><td> 7</td></tr>\n",
       "\t<tr><td>Link  </td><td> 16</td><td> 1484</td><td> 420</td><td> 2</td></tr>\n",
       "\t<tr><td>Video </td><td>  6</td><td> 1957</td><td> 550</td><td> 4</td></tr>\n",
       "</tbody>\n",
       "</table>\n"
      ],
      "text/latex": [
       "A tibble: 4 × 5\n",
       "\\begin{tabular}{lllll}\n",
       " type & total\\_of\\_type & total\\_interactions & max\\_interactions & total\\_paid\\\\\n",
       " <fct> & <int> & <dbl> & <dbl> & <dbl>\\\\\n",
       "\\hline\n",
       "\t Photo  & 320 & 73131 & 6334 & 83\\\\\n",
       "\t Status &  33 &  6894 & 1009 &  7\\\\\n",
       "\t Link   &  16 &  1484 &  420 &  2\\\\\n",
       "\t Video  &   6 &  1957 &  550 &  4\\\\\n",
       "\\end{tabular}\n"
      ],
      "text/markdown": [
       "\n",
       "A tibble: 4 × 5\n",
       "\n",
       "| type &lt;fct&gt; | total_of_type &lt;int&gt; | total_interactions &lt;dbl&gt; | max_interactions &lt;dbl&gt; | total_paid &lt;dbl&gt; |\n",
       "|---|---|---|---|---|\n",
       "| Photo  | 320 | 73131 | 6334 | 83 |\n",
       "| Status |  33 |  6894 | 1009 |  7 |\n",
       "| Link   |  16 |  1484 |  420 |  2 |\n",
       "| Video  |   6 |  1957 |  550 |  4 |\n",
       "\n"
      ],
      "text/plain": [
       "  type   total_of_type total_interactions max_interactions total_paid\n",
       "1 Photo  320           73131              6334             83        \n",
       "2 Status  33            6894              1009              7        \n",
       "3 Link    16            1484               420              2        \n",
       "4 Video    6            1957               550              4        "
      ]
     },
     "metadata": {},
     "output_type": "display_data"
    }
   ],
   "source": [
    "summary_table1 = fb_train %>% \n",
    "    group_by(type) %>%\n",
    "    summarize(\n",
    "        total_of_type = n(),\n",
    "        total_interactions = sum(interactions),\n",
    "        max_interactions = max(interactions),\n",
    "        total_paid = sum(paid, na.rm = TRUE))\n",
    "\n",
    "summary_table1"
   ]
  },
  {
   "cell_type": "markdown",
   "metadata": {},
   "source": [
    "Table *summary_table2* groups posts by type and computes the total interactions, maximum interactions, percentage of each interaction type, and percentage of paid posts for each post type. The *likes* and *shares* columns were also found to include observations with missing data, so the *na.rm = TRUE* argument was included in each."
   ]
  },
  {
   "cell_type": "code",
   "execution_count": 4,
   "metadata": {},
   "outputs": [
    {
     "name": "stderr",
     "output_type": "stream",
     "text": [
      "`summarise()` ungrouping output (override with `.groups` argument)\n",
      "\n"
     ]
    },
    {
     "data": {
      "text/html": [
       "<table>\n",
       "<caption>A tibble: 4 × 7</caption>\n",
       "<thead>\n",
       "\t<tr><th scope=col>type</th><th scope=col>total_interactions</th><th scope=col>max_interactions</th><th scope=col>comments_interaction_percentage</th><th scope=col>likes_interaction_percentage</th><th scope=col>shares_interaction_percentage</th><th scope=col>paid_percentage</th></tr>\n",
       "\t<tr><th scope=col>&lt;fct&gt;</th><th scope=col>&lt;dbl&gt;</th><th scope=col>&lt;dbl&gt;</th><th scope=col>&lt;dbl&gt;</th><th scope=col>&lt;dbl&gt;</th><th scope=col>&lt;dbl&gt;</th><th scope=col>&lt;dbl&gt;</th></tr>\n",
       "</thead>\n",
       "<tbody>\n",
       "\t<tr><td>Photo </td><td>73131</td><td>6334</td><td>3.649615</td><td>84.07926</td><td>12.27113</td><td>25.93750</td></tr>\n",
       "\t<tr><td>Status</td><td> 6894</td><td>1009</td><td>3.887438</td><td>82.34697</td><td>13.76559</td><td>21.21212</td></tr>\n",
       "\t<tr><td>Link  </td><td> 1484</td><td> 420</td><td>3.369272</td><td>81.06469</td><td>15.56604</td><td>12.50000</td></tr>\n",
       "\t<tr><td>Video </td><td> 1957</td><td> 550</td><td>4.292284</td><td>77.72100</td><td>17.98671</td><td>66.66667</td></tr>\n",
       "</tbody>\n",
       "</table>\n"
      ],
      "text/latex": [
       "A tibble: 4 × 7\n",
       "\\begin{tabular}{lllllll}\n",
       " type & total\\_interactions & max\\_interactions & comments\\_interaction\\_percentage & likes\\_interaction\\_percentage & shares\\_interaction\\_percentage & paid\\_percentage\\\\\n",
       " <fct> & <dbl> & <dbl> & <dbl> & <dbl> & <dbl> & <dbl>\\\\\n",
       "\\hline\n",
       "\t Photo  & 73131 & 6334 & 3.649615 & 84.07926 & 12.27113 & 25.93750\\\\\n",
       "\t Status &  6894 & 1009 & 3.887438 & 82.34697 & 13.76559 & 21.21212\\\\\n",
       "\t Link   &  1484 &  420 & 3.369272 & 81.06469 & 15.56604 & 12.50000\\\\\n",
       "\t Video  &  1957 &  550 & 4.292284 & 77.72100 & 17.98671 & 66.66667\\\\\n",
       "\\end{tabular}\n"
      ],
      "text/markdown": [
       "\n",
       "A tibble: 4 × 7\n",
       "\n",
       "| type &lt;fct&gt; | total_interactions &lt;dbl&gt; | max_interactions &lt;dbl&gt; | comments_interaction_percentage &lt;dbl&gt; | likes_interaction_percentage &lt;dbl&gt; | shares_interaction_percentage &lt;dbl&gt; | paid_percentage &lt;dbl&gt; |\n",
       "|---|---|---|---|---|---|---|\n",
       "| Photo  | 73131 | 6334 | 3.649615 | 84.07926 | 12.27113 | 25.93750 |\n",
       "| Status |  6894 | 1009 | 3.887438 | 82.34697 | 13.76559 | 21.21212 |\n",
       "| Link   |  1484 |  420 | 3.369272 | 81.06469 | 15.56604 | 12.50000 |\n",
       "| Video  |  1957 |  550 | 4.292284 | 77.72100 | 17.98671 | 66.66667 |\n",
       "\n"
      ],
      "text/plain": [
       "  type   total_interactions max_interactions comments_interaction_percentage\n",
       "1 Photo  73131              6334             3.649615                       \n",
       "2 Status  6894              1009             3.887438                       \n",
       "3 Link    1484               420             3.369272                       \n",
       "4 Video   1957               550             4.292284                       \n",
       "  likes_interaction_percentage shares_interaction_percentage paid_percentage\n",
       "1 84.07926                     12.27113                      25.93750       \n",
       "2 82.34697                     13.76559                      21.21212       \n",
       "3 81.06469                     15.56604                      12.50000       \n",
       "4 77.72100                     17.98671                      66.66667       "
      ]
     },
     "metadata": {},
     "output_type": "display_data"
    }
   ],
   "source": [
    "summary_table2 <- fb_train %>% \n",
    "    group_by(type) %>% \n",
    "    summarize(\n",
    "        total_interactions = sum(interactions),\n",
    "        max_interactions = max(interactions),\n",
    "        comments_interaction_percentage = (sum(comments) / sum(interactions) * 100),\n",
    "        likes_interaction_percentage = (sum(likes, na.rm = TRUE) / sum(interactions) * 100),\n",
    "        shares_interaction_percentage = (sum(shares, na.rm = TRUE) / sum(interactions) * 100),\n",
    "        paid_percentage = (sum(paid, na.rm = TRUE) / n()) * 100)     \n",
    "\n",
    "summary_table2"
   ]
  },
  {
   "cell_type": "markdown",
   "metadata": {},
   "source": [
    "\n",
    "##### Preliminary visualizations:\n",
    "\n",
    "The following bar chart is created to show the ratios of interaction types across each type of post."
   ]
  },
  {
   "cell_type": "code",
   "execution_count": 5,
   "metadata": {},
   "outputs": [
    {
     "name": "stderr",
     "output_type": "stream",
     "text": [
      "`summarise()` ungrouping output (override with `.groups` argument)\n",
      "\n"
     ]
    },
    {
     "data": {
      "image/png": "[encoded data removed]",
      "text/plain": [
       "plot without title"
      ]
     },
     "metadata": {
      "image/png": {
       "height": 420,
       "width": 420
      }
     },
     "output_type": "display_data"
    }
   ],
   "source": [
    "options(repr.plot.height = 7, repr.plot.width = 7)\n",
    "\n",
    "relative_interactions <- fb_train %>% \n",
    "    group_by(type) %>%\n",
    "    summarize(\n",
    "        comments = sum(comments),\n",
    "        likes = sum(likes, na.rm=TRUE),\n",
    "        shares = sum(shares, na.rm=TRUE),\n",
    "        total_interactions = sum(interactions)) %>% \n",
    "        pivot_longer( cols = comments:shares,\n",
    "                       names_to = \"interaction_type\",\n",
    "                       values_to = \"total_of_interaction_type\")\n",
    "\n",
    "relative_interactions_plot <- ggplot(relative_interactions, aes(x = type, y = total_of_interaction_type, fill = interaction_type)) + \n",
    "        geom_bar(stat = \"identity\", position = \"fill\") + \n",
    "        xlab(\"Post type\") +\n",
    "        ylab(\"Proportion of interactions\") +\n",
    "        labs(fill = \"Interaction type\") +\n",
    "        theme(text = element_text(size = 16))\n",
    "  \n",
    "\n",
    "relative_interactions_plot"
   ]
  },
  {
   "cell_type": "markdown",
   "metadata": {},
   "source": [
    "#### Methods:\n",
    "\n",
    "Our analysis will use the following input columns of the original dataset: *Page total likes*, *Type*, *Category*, *Paid*, *comment*, *like*, *share*, and *Total Interactions*. Our aim is to use the K-nearest neighbours algorithm to generate a classification model which will classify a post by type (photo, status, link, or video). This will involve analyzing the key engagement metrics (comments, likes, and shares) and comparing their ratios of total interactions to examine how differences in engagement can be used to classify a post’s type. We will be using ratios instead of the raw values because the raw values are a measure of the popularity of the page, and not characteristics of the post type. This will normalize the data, allowing for the model to be effective in classifying posts for any page size. \n",
    "\n",
    "To visualize our results, we plan to use a confusion matrix. This will display how often our classification model labels a post correctly, and how often each label gets confused with another. We will also use bar charts to visualize relevant and intermediate results; e.g., we will create a bar chart with post type on the x-axis and interactions on the y-axis, filling out the bars with proportional values of the type of each interaction. As part of the tuning step of creating the model, we can create a line chart to show us the optimal K value. "
   ]
  },
  {
   "cell_type": "markdown",
   "metadata": {},
   "source": [
    "#### Expected outcomes and significance:\n",
    "\n",
    "This analysis hopes to define a relationship between type of post (i.e., photo, status, link, or video) and ratio of the corresponding post’s interaction type. It is expected that videos and photos, for example, may have higher percentages of interactions that are comments and/or likes when compared to a link or status.\n",
    "\n",
    "This classification application for labeling a post’s type could be helpful in identifying the types of reactions that a post might receive. It is possible that we find images get the most likes, while statuses get the most comments. Knowing how these metrics indicate the type could lead to better targeted ad campaigns that look for a certain type of user engagement.\n",
    "\n",
    "Future questions following from this analysis may include:\n",
    "- Do paid posts generate more traffic than unpaid posts?\n",
    "- Does the category of a post (i.e., “action”, “product”, or “inspiration” classification) affect the overall and/or ratio of interactions on a post?\n",
    "- Do posts with more interactions overall correlate with increases in users liking a company’s Facebook page? \n",
    "\n",
    "In examining the data for classification, it is also expected that trends may emerge which could in the future be used to predict post engagement. This predictive knowledge could be used by companies looking to grow their social media reach, as they may more accurately tailor their posts to yield higher engagement before publishing."
   ]
  },
  {
   "cell_type": "code",
   "execution_count": 21,
   "metadata": {},
   "outputs": [
    {
     "ename": "ERROR",
     "evalue": "Error: Please supply at least one variable specification.See ?selections.\n",
     "output_type": "error",
     "traceback": [
      "Error: Please supply at least one variable specification.See ?selections.\nTraceback:\n",
      "1. recipe(type ~ ., data = fb_data) %>% step_upsample(type, over_ratio = 1, \n .     skip = FALSE) %>% step_rm(paid, category, post_month, post_weekday, \n .     post_hour) %>% step_naomit() %>% prep()",
      "2. withVisible(eval(quote(`_fseq`(`_lhs`)), env, env))",
      "3. eval(quote(`_fseq`(`_lhs`)), env, env)",
      "4. eval(quote(`_fseq`(`_lhs`)), env, env)",
      "5. `_fseq`(`_lhs`)",
      "6. freduce(value, `_function_list`)",
      "7. function_list[[i]](value)",
      "8. step_naomit(.)",
      "9. add_step(recipe, step_naomit_new(terms = ellipse_check(...), \n .     role = role, trained = trained, columns = columns, skip = skip, \n .     id = id))",
      "10. step_naomit_new(terms = ellipse_check(...), role = role, trained = trained, \n  .     columns = columns, skip = skip, id = id)",
      "11. step(subclass = \"naomit\", terms = terms, role = role, trained = trained, \n  .     columns = columns, skip = skip, id = id)",
      "12. structure(list(...), class = c(paste0(.prefix, subclass), \"step\"))",
      "13. ellipse_check(...)",
      "14. rlang::abort(paste0(\"Please supply at least one variable specification.\", \n  .     \"See ?selections.\"))",
      "15. signal_abort(cnd)"
     ]
    }
   ],
   "source": [
    "ups_recipe <- recipe(type ~ ., data = fb_data) %>%\n",
    "    step_upsample(type, over_ratio = 1, skip = FALSE) %>%\n",
    "    step_rm(paid, category, post_month, post_weekday, post_hour) %>% \n",
    "    step_naomit() %>% \n",
    "    step_center() %>% \n",
    "    step_scale() %>% \n",
    "    prep()\n",
    "\n",
    "ups_recipe\n"
   ]
  },
  {
   "cell_type": "code",
   "execution_count": 19,
   "metadata": {},
   "outputs": [
    {
     "data": {
      "text/html": [
       "<table>\n",
       "<caption>A tibble: 1704 × 17</caption>\n",
       "<thead>\n",
       "\t<tr><th scope=col>page_likes</th><th scope=col>reach</th><th scope=col>impressions</th><th scope=col>engaged_users</th><th scope=col>post_consumers</th><th scope=col>post_consumptions</th><th scope=col>impressions_by_people_that_liked_page</th><th scope=col>reach_by_people_that_like_page</th><th scope=col>people_liked_and_engaged</th><th scope=col>comments</th><th scope=col>likes</th><th scope=col>shares</th><th scope=col>interactions</th><th scope=col>comment_percent</th><th scope=col>like_percent</th><th scope=col>share_percent</th><th scope=col>type</th></tr>\n",
       "\t<tr><th scope=col>&lt;dbl&gt;</th><th scope=col>&lt;dbl&gt;</th><th scope=col>&lt;dbl&gt;</th><th scope=col>&lt;dbl&gt;</th><th scope=col>&lt;dbl&gt;</th><th scope=col>&lt;dbl&gt;</th><th scope=col>&lt;dbl&gt;</th><th scope=col>&lt;dbl&gt;</th><th scope=col>&lt;dbl&gt;</th><th scope=col>&lt;dbl&gt;</th><th scope=col>&lt;dbl&gt;</th><th scope=col>&lt;dbl&gt;</th><th scope=col>&lt;dbl&gt;</th><th scope=col>&lt;dbl&gt;</th><th scope=col>&lt;dbl&gt;</th><th scope=col>&lt;dbl&gt;</th><th scope=col>&lt;fct&gt;</th></tr>\n",
       "</thead>\n",
       "<tbody>\n",
       "\t<tr><td>139441</td><td> 2752</td><td> 5091</td><td> 178</td><td>109</td><td> 159</td><td> 3078</td><td> 1640</td><td> 119</td><td> 4</td><td>  79</td><td> 17</td><td> 100</td><td>0.04000000</td><td>0.7900000</td><td>0.17000000</td><td>Photo</td></tr>\n",
       "\t<tr><td>139441</td><td> 2413</td><td> 4373</td><td> 177</td><td>113</td><td> 154</td><td> 2812</td><td> 1503</td><td> 132</td><td> 0</td><td>  66</td><td> 14</td><td>  80</td><td>0.00000000</td><td>0.8250000</td><td>0.17500000</td><td>Photo</td></tr>\n",
       "\t<tr><td>139441</td><td>50128</td><td>87991</td><td>2211</td><td>790</td><td>1119</td><td>61027</td><td>32048</td><td>1386</td><td>58</td><td>1572</td><td>147</td><td>1777</td><td>0.03263928</td><td>0.8846370</td><td>0.08272369</td><td>Photo</td></tr>\n",
       "\t<tr><td>139441</td><td> 7244</td><td>13594</td><td> 671</td><td>410</td><td> 580</td><td> 6228</td><td> 3200</td><td> 396</td><td>19</td><td> 325</td><td> 49</td><td> 393</td><td>0.04834606</td><td>0.8269720</td><td>0.12468193</td><td>Photo</td></tr>\n",
       "\t<tr><td>139441</td><td>11692</td><td>19479</td><td> 481</td><td>265</td><td> 364</td><td>15432</td><td> 9328</td><td> 379</td><td> 3</td><td> 249</td><td> 27</td><td> 279</td><td>0.01075269</td><td>0.8924731</td><td>0.09677419</td><td>Photo</td></tr>\n",
       "\t<tr><td>139441</td><td>13720</td><td>24137</td><td> 537</td><td>232</td><td> 305</td><td>19728</td><td>11056</td><td> 422</td><td> 0</td><td> 325</td><td> 14</td><td> 339</td><td>0.00000000</td><td>0.9587021</td><td>0.04129794</td><td>Photo</td></tr>\n",
       "\t<tr><td>139441</td><td> 4694</td><td> 8668</td><td> 280</td><td>183</td><td> 250</td><td> 4309</td><td> 2324</td><td> 199</td><td> 3</td><td> 113</td><td> 26</td><td> 142</td><td>0.02112676</td><td>0.7957746</td><td>0.18309859</td><td>Photo</td></tr>\n",
       "\t<tr><td>139441</td><td> 3112</td><td> 5590</td><td> 208</td><td>127</td><td> 145</td><td> 3887</td><td> 2174</td><td> 165</td><td> 0</td><td>  88</td><td> 18</td><td> 106</td><td>0.00000000</td><td>0.8301887</td><td>0.16981132</td><td>Photo</td></tr>\n",
       "\t<tr><td>⋮</td><td>⋮</td><td>⋮</td><td>⋮</td><td>⋮</td><td>⋮</td><td>⋮</td><td>⋮</td><td>⋮</td><td>⋮</td><td>⋮</td><td>⋮</td><td>⋮</td><td>⋮</td><td>⋮</td><td>⋮</td><td>⋮</td></tr>\n",
       "\t<tr><td>130791</td><td> 21872</td><td> 40413</td><td>3872</td><td>3822</td><td>7327</td><td> 24667</td><td>12920</td><td>2218</td><td>18</td><td>315</td><td> 76</td><td>409</td><td>0.04400978</td><td>0.7701711</td><td>0.18581907</td><td>Video</td></tr>\n",
       "\t<tr><td>134879</td><td> 30624</td><td> 56950</td><td>2080</td><td>1956</td><td>3253</td><td> 32033</td><td>15744</td><td>1376</td><td> 6</td><td>345</td><td>121</td><td>472</td><td>0.01271186</td><td>0.7309322</td><td>0.25635593</td><td>Video</td></tr>\n",
       "\t<tr><td>134879</td><td> 30624</td><td> 56950</td><td>2080</td><td>1956</td><td>3253</td><td> 32033</td><td>15744</td><td>1376</td><td> 6</td><td>345</td><td>121</td><td>472</td><td>0.01271186</td><td>0.7309322</td><td>0.25635593</td><td>Video</td></tr>\n",
       "\t<tr><td>138895</td><td> 36208</td><td> 61262</td><td>1141</td><td>1068</td><td>1728</td><td> 30131</td><td>14112</td><td> 559</td><td>18</td><td>143</td><td> 13</td><td>174</td><td>0.10344828</td><td>0.8218391</td><td>0.07471264</td><td>Video</td></tr>\n",
       "\t<tr><td>126424</td><td>139008</td><td>277100</td><td>1779</td><td>1643</td><td>2356</td><td>107502</td><td>38720</td><td>1008</td><td>23</td><td>204</td><td> 44</td><td>271</td><td>0.08487085</td><td>0.7527675</td><td>0.16236162</td><td>Video</td></tr>\n",
       "\t<tr><td>137893</td><td> 13544</td><td> 30235</td><td> 517</td><td> 458</td><td> 667</td><td> 26622</td><td>11760</td><td> 447</td><td> 2</td><td> 99</td><td> 13</td><td>114</td><td>0.01754386</td><td>0.8684211</td><td>0.11403509</td><td>Video</td></tr>\n",
       "\t<tr><td>126424</td><td>139008</td><td>277100</td><td>1779</td><td>1643</td><td>2356</td><td>107502</td><td>38720</td><td>1008</td><td>23</td><td>204</td><td> 44</td><td>271</td><td>0.08487085</td><td>0.7527675</td><td>0.16236162</td><td>Video</td></tr>\n",
       "\t<tr><td>137893</td><td>100768</td><td>220447</td><td>2101</td><td>1735</td><td>2331</td><td> 59658</td><td>18880</td><td> 885</td><td>17</td><td>449</td><td> 84</td><td>550</td><td>0.03090909</td><td>0.8163636</td><td>0.15272727</td><td>Video</td></tr>\n",
       "</tbody>\n",
       "</table>\n"
      ],
      "text/latex": [
       "A tibble: 1704 × 17\n",
       "\\begin{tabular}{lllllllllllllllll}\n",
       " page\\_likes & reach & impressions & engaged\\_users & post\\_consumers & post\\_consumptions & impressions\\_by\\_people\\_that\\_liked\\_page & reach\\_by\\_people\\_that\\_like\\_page & people\\_liked\\_and\\_engaged & comments & likes & shares & interactions & comment\\_percent & like\\_percent & share\\_percent & type\\\\\n",
       " <dbl> & <dbl> & <dbl> & <dbl> & <dbl> & <dbl> & <dbl> & <dbl> & <dbl> & <dbl> & <dbl> & <dbl> & <dbl> & <dbl> & <dbl> & <dbl> & <fct>\\\\\n",
       "\\hline\n",
       "\t 139441 &  2752 &  5091 &  178 & 109 &  159 &  3078 &  1640 &  119 &  4 &   79 &  17 &  100 & 0.04000000 & 0.7900000 & 0.17000000 & Photo\\\\\n",
       "\t 139441 &  2413 &  4373 &  177 & 113 &  154 &  2812 &  1503 &  132 &  0 &   66 &  14 &   80 & 0.00000000 & 0.8250000 & 0.17500000 & Photo\\\\\n",
       "\t 139441 & 50128 & 87991 & 2211 & 790 & 1119 & 61027 & 32048 & 1386 & 58 & 1572 & 147 & 1777 & 0.03263928 & 0.8846370 & 0.08272369 & Photo\\\\\n",
       "\t 139441 &  7244 & 13594 &  671 & 410 &  580 &  6228 &  3200 &  396 & 19 &  325 &  49 &  393 & 0.04834606 & 0.8269720 & 0.12468193 & Photo\\\\\n",
       "\t 139441 & 11692 & 19479 &  481 & 265 &  364 & 15432 &  9328 &  379 &  3 &  249 &  27 &  279 & 0.01075269 & 0.8924731 & 0.09677419 & Photo\\\\\n",
       "\t 139441 & 13720 & 24137 &  537 & 232 &  305 & 19728 & 11056 &  422 &  0 &  325 &  14 &  339 & 0.00000000 & 0.9587021 & 0.04129794 & Photo\\\\\n",
       "\t 139441 &  4694 &  8668 &  280 & 183 &  250 &  4309 &  2324 &  199 &  3 &  113 &  26 &  142 & 0.02112676 & 0.7957746 & 0.18309859 & Photo\\\\\n",
       "\t 139441 &  3112 &  5590 &  208 & 127 &  145 &  3887 &  2174 &  165 &  0 &   88 &  18 &  106 & 0.00000000 & 0.8301887 & 0.16981132 & Photo\\\\\n",
       "\t ⋮ & ⋮ & ⋮ & ⋮ & ⋮ & ⋮ & ⋮ & ⋮ & ⋮ & ⋮ & ⋮ & ⋮ & ⋮ & ⋮ & ⋮ & ⋮ & ⋮\\\\\n",
       "\t 130791 &  21872 &  40413 & 3872 & 3822 & 7327 &  24667 & 12920 & 2218 & 18 & 315 &  76 & 409 & 0.04400978 & 0.7701711 & 0.18581907 & Video\\\\\n",
       "\t 134879 &  30624 &  56950 & 2080 & 1956 & 3253 &  32033 & 15744 & 1376 &  6 & 345 & 121 & 472 & 0.01271186 & 0.7309322 & 0.25635593 & Video\\\\\n",
       "\t 134879 &  30624 &  56950 & 2080 & 1956 & 3253 &  32033 & 15744 & 1376 &  6 & 345 & 121 & 472 & 0.01271186 & 0.7309322 & 0.25635593 & Video\\\\\n",
       "\t 138895 &  36208 &  61262 & 1141 & 1068 & 1728 &  30131 & 14112 &  559 & 18 & 143 &  13 & 174 & 0.10344828 & 0.8218391 & 0.07471264 & Video\\\\\n",
       "\t 126424 & 139008 & 277100 & 1779 & 1643 & 2356 & 107502 & 38720 & 1008 & 23 & 204 &  44 & 271 & 0.08487085 & 0.7527675 & 0.16236162 & Video\\\\\n",
       "\t 137893 &  13544 &  30235 &  517 &  458 &  667 &  26622 & 11760 &  447 &  2 &  99 &  13 & 114 & 0.01754386 & 0.8684211 & 0.11403509 & Video\\\\\n",
       "\t 126424 & 139008 & 277100 & 1779 & 1643 & 2356 & 107502 & 38720 & 1008 & 23 & 204 &  44 & 271 & 0.08487085 & 0.7527675 & 0.16236162 & Video\\\\\n",
       "\t 137893 & 100768 & 220447 & 2101 & 1735 & 2331 &  59658 & 18880 &  885 & 17 & 449 &  84 & 550 & 0.03090909 & 0.8163636 & 0.15272727 & Video\\\\\n",
       "\\end{tabular}\n"
      ],
      "text/markdown": [
       "\n",
       "A tibble: 1704 × 17\n",
       "\n",
       "| page_likes &lt;dbl&gt; | reach &lt;dbl&gt; | impressions &lt;dbl&gt; | engaged_users &lt;dbl&gt; | post_consumers &lt;dbl&gt; | post_consumptions &lt;dbl&gt; | impressions_by_people_that_liked_page &lt;dbl&gt; | reach_by_people_that_like_page &lt;dbl&gt; | people_liked_and_engaged &lt;dbl&gt; | comments &lt;dbl&gt; | likes &lt;dbl&gt; | shares &lt;dbl&gt; | interactions &lt;dbl&gt; | comment_percent &lt;dbl&gt; | like_percent &lt;dbl&gt; | share_percent &lt;dbl&gt; | type &lt;fct&gt; |\n",
       "|---|---|---|---|---|---|---|---|---|---|---|---|---|---|---|---|---|\n",
       "| 139441 |  2752 |  5091 |  178 | 109 |  159 |  3078 |  1640 |  119 |  4 |   79 |  17 |  100 | 0.04000000 | 0.7900000 | 0.17000000 | Photo |\n",
       "| 139441 |  2413 |  4373 |  177 | 113 |  154 |  2812 |  1503 |  132 |  0 |   66 |  14 |   80 | 0.00000000 | 0.8250000 | 0.17500000 | Photo |\n",
       "| 139441 | 50128 | 87991 | 2211 | 790 | 1119 | 61027 | 32048 | 1386 | 58 | 1572 | 147 | 1777 | 0.03263928 | 0.8846370 | 0.08272369 | Photo |\n",
       "| 139441 |  7244 | 13594 |  671 | 410 |  580 |  6228 |  3200 |  396 | 19 |  325 |  49 |  393 | 0.04834606 | 0.8269720 | 0.12468193 | Photo |\n",
       "| 139441 | 11692 | 19479 |  481 | 265 |  364 | 15432 |  9328 |  379 |  3 |  249 |  27 |  279 | 0.01075269 | 0.8924731 | 0.09677419 | Photo |\n",
       "| 139441 | 13720 | 24137 |  537 | 232 |  305 | 19728 | 11056 |  422 |  0 |  325 |  14 |  339 | 0.00000000 | 0.9587021 | 0.04129794 | Photo |\n",
       "| 139441 |  4694 |  8668 |  280 | 183 |  250 |  4309 |  2324 |  199 |  3 |  113 |  26 |  142 | 0.02112676 | 0.7957746 | 0.18309859 | Photo |\n",
       "| 139441 |  3112 |  5590 |  208 | 127 |  145 |  3887 |  2174 |  165 |  0 |   88 |  18 |  106 | 0.00000000 | 0.8301887 | 0.16981132 | Photo |\n",
       "| ⋮ | ⋮ | ⋮ | ⋮ | ⋮ | ⋮ | ⋮ | ⋮ | ⋮ | ⋮ | ⋮ | ⋮ | ⋮ | ⋮ | ⋮ | ⋮ | ⋮ |\n",
       "| 130791 |  21872 |  40413 | 3872 | 3822 | 7327 |  24667 | 12920 | 2218 | 18 | 315 |  76 | 409 | 0.04400978 | 0.7701711 | 0.18581907 | Video |\n",
       "| 134879 |  30624 |  56950 | 2080 | 1956 | 3253 |  32033 | 15744 | 1376 |  6 | 345 | 121 | 472 | 0.01271186 | 0.7309322 | 0.25635593 | Video |\n",
       "| 134879 |  30624 |  56950 | 2080 | 1956 | 3253 |  32033 | 15744 | 1376 |  6 | 345 | 121 | 472 | 0.01271186 | 0.7309322 | 0.25635593 | Video |\n",
       "| 138895 |  36208 |  61262 | 1141 | 1068 | 1728 |  30131 | 14112 |  559 | 18 | 143 |  13 | 174 | 0.10344828 | 0.8218391 | 0.07471264 | Video |\n",
       "| 126424 | 139008 | 277100 | 1779 | 1643 | 2356 | 107502 | 38720 | 1008 | 23 | 204 |  44 | 271 | 0.08487085 | 0.7527675 | 0.16236162 | Video |\n",
       "| 137893 |  13544 |  30235 |  517 |  458 |  667 |  26622 | 11760 |  447 |  2 |  99 |  13 | 114 | 0.01754386 | 0.8684211 | 0.11403509 | Video |\n",
       "| 126424 | 139008 | 277100 | 1779 | 1643 | 2356 | 107502 | 38720 | 1008 | 23 | 204 |  44 | 271 | 0.08487085 | 0.7527675 | 0.16236162 | Video |\n",
       "| 137893 | 100768 | 220447 | 2101 | 1735 | 2331 |  59658 | 18880 |  885 | 17 | 449 |  84 | 550 | 0.03090909 | 0.8163636 | 0.15272727 | Video |\n",
       "\n"
      ],
      "text/plain": [
       "     page_likes reach  impressions engaged_users post_consumers\n",
       "1    139441      2752   5091        178          109           \n",
       "2    139441      2413   4373        177          113           \n",
       "3    139441     50128  87991       2211          790           \n",
       "4    139441      7244  13594        671          410           \n",
       "5    139441     11692  19479        481          265           \n",
       "6    139441     13720  24137        537          232           \n",
       "7    139441      4694   8668        280          183           \n",
       "8    139441      3112   5590        208          127           \n",
       "⋮    ⋮          ⋮      ⋮           ⋮             ⋮             \n",
       "1697 130791      21872  40413      3872          3822          \n",
       "1698 134879      30624  56950      2080          1956          \n",
       "1699 134879      30624  56950      2080          1956          \n",
       "1700 138895      36208  61262      1141          1068          \n",
       "1701 126424     139008 277100      1779          1643          \n",
       "1702 137893      13544  30235       517           458          \n",
       "1703 126424     139008 277100      1779          1643          \n",
       "1704 137893     100768 220447      2101          1735          \n",
       "     post_consumptions impressions_by_people_that_liked_page\n",
       "1     159               3078                                \n",
       "2     154               2812                                \n",
       "3    1119              61027                                \n",
       "4     580               6228                                \n",
       "5     364              15432                                \n",
       "6     305              19728                                \n",
       "7     250               4309                                \n",
       "8     145               3887                                \n",
       "⋮    ⋮                 ⋮                                    \n",
       "1697 7327               24667                               \n",
       "1698 3253               32033                               \n",
       "1699 3253               32033                               \n",
       "1700 1728               30131                               \n",
       "1701 2356              107502                               \n",
       "1702  667               26622                               \n",
       "1703 2356              107502                               \n",
       "1704 2331               59658                               \n",
       "     reach_by_people_that_like_page people_liked_and_engaged comments likes\n",
       "1     1640                           119                      4         79 \n",
       "2     1503                           132                      0         66 \n",
       "3    32048                          1386                     58       1572 \n",
       "4     3200                           396                     19        325 \n",
       "5     9328                           379                      3        249 \n",
       "6    11056                           422                      0        325 \n",
       "7     2324                           199                      3        113 \n",
       "8     2174                           165                      0         88 \n",
       "⋮    ⋮                              ⋮                        ⋮        ⋮    \n",
       "1697 12920                          2218                     18       315  \n",
       "1698 15744                          1376                      6       345  \n",
       "1699 15744                          1376                      6       345  \n",
       "1700 14112                           559                     18       143  \n",
       "1701 38720                          1008                     23       204  \n",
       "1702 11760                           447                      2        99  \n",
       "1703 38720                          1008                     23       204  \n",
       "1704 18880                           885                     17       449  \n",
       "     shares interactions comment_percent like_percent share_percent type \n",
       "1     17     100         0.04000000      0.7900000    0.17000000    Photo\n",
       "2     14      80         0.00000000      0.8250000    0.17500000    Photo\n",
       "3    147    1777         0.03263928      0.8846370    0.08272369    Photo\n",
       "4     49     393         0.04834606      0.8269720    0.12468193    Photo\n",
       "5     27     279         0.01075269      0.8924731    0.09677419    Photo\n",
       "6     14     339         0.00000000      0.9587021    0.04129794    Photo\n",
       "7     26     142         0.02112676      0.7957746    0.18309859    Photo\n",
       "8     18     106         0.00000000      0.8301887    0.16981132    Photo\n",
       "⋮    ⋮      ⋮            ⋮               ⋮            ⋮             ⋮    \n",
       "1697  76    409          0.04400978      0.7701711    0.18581907    Video\n",
       "1698 121    472          0.01271186      0.7309322    0.25635593    Video\n",
       "1699 121    472          0.01271186      0.7309322    0.25635593    Video\n",
       "1700  13    174          0.10344828      0.8218391    0.07471264    Video\n",
       "1701  44    271          0.08487085      0.7527675    0.16236162    Video\n",
       "1702  13    114          0.01754386      0.8684211    0.11403509    Video\n",
       "1703  44    271          0.08487085      0.7527675    0.16236162    Video\n",
       "1704  84    550          0.03090909      0.8163636    0.15272727    Video"
      ]
     },
     "metadata": {},
     "output_type": "display_data"
    }
   ],
   "source": [
    "upsample_fb <- bake(ups_recipe, fb_data)\n",
    "upsample_fb"
   ]
  },
  {
   "cell_type": "code",
   "execution_count": null,
   "metadata": {},
   "outputs": [],
   "source": [
    "options(repr.plot.width = 20, repr.plot.height = 20)\n",
    "\n",
    "fb_plot <- upsample_fb %>% \n",
    "    ggpairs() +\n",
    "    theme(text = element_text(size=14))"
   ]
  }
 ],
 "metadata": {
  "kernelspec": {
   "display_name": "R",
   "language": "R",
   "name": "ir"
  },
  "language_info": {
   "codemirror_mode": "r",
   "file_extension": ".r",
   "mimetype": "text/x-r-source",
   "name": "R",
   "pygments_lexer": "r",
   "version": "4.0.0"
  }
 },
 "nbformat": 4,
 "nbformat_minor": 4
}
