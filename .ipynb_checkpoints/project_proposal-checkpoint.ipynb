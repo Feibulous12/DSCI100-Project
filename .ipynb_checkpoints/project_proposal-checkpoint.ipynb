{
 "cells": [
  {
   "cell_type": "markdown",
   "metadata": {},
   "source": [
    "# DSCI 100: Group Project Proposal \n",
    "\n",
    "\n",
    "## Classification of Facebook Posts\n",
    "\n",
    "#### Introduction:\n",
    "\n",
    "The dataset *Facebook performance metrics* (Moro et al., 2016) contains data related to posts published throughout the year 2014 on a renowned cosmetics brand's Facebook page. Post information such as type (photo, status, link, or video), time posted (month, day of week, and hour), user engagement (comments, likes, and shares), and whether the post was paid or unpaid is included in the dataset. This project proposes to use columns from this dataset relevant to engagement - all input columns excluding post month, weekday, and hour - to determine the type of a brand's Facebook post. Key metrics and their correlation with type of post will be investigated to determine whether there is a relationship between the two. \n"
   ]
  },
  {
   "cell_type": "markdown",
   "metadata": {},
   "source": [
    "#### Preliminary exploratory data analysis:\n",
    "\n",
    "We begin by loading the relevant libraries."
   ]
  },
  {
   "cell_type": "code",
   "execution_count": 1,
   "metadata": {},
   "outputs": [
    {
     "name": "stderr",
     "output_type": "stream",
     "text": [
      "── \u001b[1mAttaching packages\u001b[22m ─────────────────────────────────────── tidyverse 1.3.0 ──\n",
      "\n",
      "\u001b[32m✔\u001b[39m \u001b[34mggplot2\u001b[39m 3.3.2     \u001b[32m✔\u001b[39m \u001b[34mpurrr  \u001b[39m 0.3.4\n",
      "\u001b[32m✔\u001b[39m \u001b[34mtibble \u001b[39m 3.0.3     \u001b[32m✔\u001b[39m \u001b[34mdplyr  \u001b[39m 1.0.2\n",
      "\u001b[32m✔\u001b[39m \u001b[34mtidyr  \u001b[39m 1.1.2     \u001b[32m✔\u001b[39m \u001b[34mstringr\u001b[39m 1.4.0\n",
      "\u001b[32m✔\u001b[39m \u001b[34mreadr  \u001b[39m 1.3.1     \u001b[32m✔\u001b[39m \u001b[34mforcats\u001b[39m 0.5.0\n",
      "\n",
      "Warning message:\n",
      "“package ‘ggplot2’ was built under R version 4.0.1”\n",
      "Warning message:\n",
      "“package ‘tibble’ was built under R version 4.0.2”\n",
      "Warning message:\n",
      "“package ‘tidyr’ was built under R version 4.0.2”\n",
      "Warning message:\n",
      "“package ‘dplyr’ was built under R version 4.0.2”\n",
      "── \u001b[1mConflicts\u001b[22m ────────────────────────────────────────── tidyverse_conflicts() ──\n",
      "\u001b[31m✖\u001b[39m \u001b[34mdplyr\u001b[39m::\u001b[32mfilter()\u001b[39m masks \u001b[34mstats\u001b[39m::filter()\n",
      "\u001b[31m✖\u001b[39m \u001b[34mdplyr\u001b[39m::\u001b[32mlag()\u001b[39m    masks \u001b[34mstats\u001b[39m::lag()\n",
      "\n",
      "Warning message:\n",
      "“package ‘tidymodels’ was built under R version 4.0.2”\n",
      "── \u001b[1mAttaching packages\u001b[22m ────────────────────────────────────── tidymodels 0.1.1 ──\n",
      "\n",
      "\u001b[32m✔\u001b[39m \u001b[34mbroom    \u001b[39m 0.7.0      \u001b[32m✔\u001b[39m \u001b[34mrecipes  \u001b[39m 0.1.13\n",
      "\u001b[32m✔\u001b[39m \u001b[34mdials    \u001b[39m 0.0.9      \u001b[32m✔\u001b[39m \u001b[34mrsample  \u001b[39m 0.0.7 \n",
      "\u001b[32m✔\u001b[39m \u001b[34minfer    \u001b[39m 0.5.4      \u001b[32m✔\u001b[39m \u001b[34mtune     \u001b[39m 0.1.1 \n",
      "\u001b[32m✔\u001b[39m \u001b[34mmodeldata\u001b[39m 0.0.2      \u001b[32m✔\u001b[39m \u001b[34mworkflows\u001b[39m 0.2.0 \n",
      "\u001b[32m✔\u001b[39m \u001b[34mparsnip  \u001b[39m 0.1.3      \u001b[32m✔\u001b[39m \u001b[34myardstick\u001b[39m 0.0.7 \n",
      "\n",
      "Warning message:\n",
      "“package ‘broom’ was built under R version 4.0.2”\n",
      "Warning message:\n",
      "“package ‘dials’ was built under R version 4.0.2”\n",
      "Warning message:\n",
      "“package ‘infer’ was built under R version 4.0.3”\n",
      "Warning message:\n",
      "“package ‘modeldata’ was built under R version 4.0.1”\n",
      "Warning message:\n",
      "“package ‘parsnip’ was built under R version 4.0.2”\n",
      "Warning message:\n",
      "“package ‘recipes’ was built under R version 4.0.1”\n",
      "Warning message:\n",
      "“package ‘tune’ was built under R version 4.0.2”\n",
      "Warning message:\n",
      "“package ‘workflows’ was built under R version 4.0.2”\n",
      "Warning message:\n",
      "“package ‘yardstick’ was built under R version 4.0.2”\n",
      "── \u001b[1mConflicts\u001b[22m ───────────────────────────────────────── tidymodels_conflicts() ──\n",
      "\u001b[31m✖\u001b[39m \u001b[34mscales\u001b[39m::\u001b[32mdiscard()\u001b[39m masks \u001b[34mpurrr\u001b[39m::discard()\n",
      "\u001b[31m✖\u001b[39m \u001b[34mdplyr\u001b[39m::\u001b[32mfilter()\u001b[39m   masks \u001b[34mstats\u001b[39m::filter()\n",
      "\u001b[31m✖\u001b[39m \u001b[34mrecipes\u001b[39m::\u001b[32mfixed()\u001b[39m  masks \u001b[34mstringr\u001b[39m::fixed()\n",
      "\u001b[31m✖\u001b[39m \u001b[34mdplyr\u001b[39m::\u001b[32mlag()\u001b[39m      masks \u001b[34mstats\u001b[39m::lag()\n",
      "\u001b[31m✖\u001b[39m \u001b[34myardstick\u001b[39m::\u001b[32mspec()\u001b[39m masks \u001b[34mreadr\u001b[39m::spec()\n",
      "\u001b[31m✖\u001b[39m \u001b[34mrecipes\u001b[39m::\u001b[32mstep()\u001b[39m   masks \u001b[34mstats\u001b[39m::step()\n",
      "\n"
     ]
    }
   ],
   "source": [
    "# Load libraries for preliminary data analysis:\n",
    "library(tidyverse)\n",
    "library(repr)\n",
    "library(readxl)\n",
    "library(tidymodels)"
   ]
  },
  {
   "cell_type": "markdown",
   "metadata": {},
   "source": [
    "The following cell loads the dataset into R; as the dataset on the web is contained in a zip folder, the .csv file was manually extracted and pushed to the working Github repository.\n",
    "\n",
    "The dataset is already in tidy format. The column headings were made more usable by removing spaces and shortening longer headings."
   ]
  },
  {
   "cell_type": "code",
   "execution_count": 8,
   "metadata": {},
   "outputs": [
    {
     "name": "stderr",
     "output_type": "stream",
     "text": [
      "Using ',' as decimal and '.' as grouping mark. Use read_delim() for more control.\n",
      "\n"
     ]
    },
    {
     "data": {
      "text/html": [
       "<table>\n",
       "<caption>A tibble: 375 × 22</caption>\n",
       "<thead>\n",
       "\t<tr><th scope=col>page_likes</th><th scope=col>type</th><th scope=col>category</th><th scope=col>post_month</th><th scope=col>post_weekday</th><th scope=col>post_hour</th><th scope=col>paid</th><th scope=col>reach</th><th scope=col>impressions</th><th scope=col>engaged_users</th><th scope=col>⋯</th><th scope=col>impressions_by_people_that_liked_page</th><th scope=col>reach_by_people_that_like_page</th><th scope=col>people_liked_and_engaged</th><th scope=col>comments</th><th scope=col>likes</th><th scope=col>shares</th><th scope=col>interactions</th><th scope=col>comment_percent</th><th scope=col>like_percent</th><th scope=col>share_percent</th></tr>\n",
       "\t<tr><th scope=col>&lt;dbl&gt;</th><th scope=col>&lt;fct&gt;</th><th scope=col>&lt;fct&gt;</th><th scope=col>&lt;fct&gt;</th><th scope=col>&lt;fct&gt;</th><th scope=col>&lt;fct&gt;</th><th scope=col>&lt;dbl&gt;</th><th scope=col>&lt;dbl&gt;</th><th scope=col>&lt;dbl&gt;</th><th scope=col>&lt;dbl&gt;</th><th scope=col>⋯</th><th scope=col>&lt;dbl&gt;</th><th scope=col>&lt;dbl&gt;</th><th scope=col>&lt;dbl&gt;</th><th scope=col>&lt;dbl&gt;</th><th scope=col>&lt;dbl&gt;</th><th scope=col>&lt;dbl&gt;</th><th scope=col>&lt;dbl&gt;</th><th scope=col>&lt;dbl&gt;</th><th scope=col>&lt;dbl&gt;</th><th scope=col>&lt;dbl&gt;</th></tr>\n",
       "</thead>\n",
       "<tbody>\n",
       "\t<tr><td>139441</td><td>Photo </td><td>2</td><td>12</td><td>4</td><td>3 </td><td>0</td><td> 2752</td><td> 5091</td><td> 178</td><td>⋯</td><td> 3078</td><td> 1640</td><td> 119</td><td> 4</td><td> 79</td><td>17</td><td>100</td><td>0.040000000</td><td>0.7900000</td><td>0.17000000</td></tr>\n",
       "\t<tr><td>139441</td><td>Status</td><td>2</td><td>12</td><td>3</td><td>10</td><td>0</td><td>10460</td><td>19057</td><td>1457</td><td>⋯</td><td>11710</td><td> 6112</td><td>1108</td><td> 5</td><td>130</td><td>29</td><td>164</td><td>0.030487805</td><td>0.7926829</td><td>0.17682927</td></tr>\n",
       "\t<tr><td>139441</td><td>Photo </td><td>3</td><td>12</td><td>3</td><td>3 </td><td>0</td><td> 2413</td><td> 4373</td><td> 177</td><td>⋯</td><td> 2812</td><td> 1503</td><td> 132</td><td> 0</td><td> 66</td><td>14</td><td> 80</td><td>0.000000000</td><td>0.8250000</td><td>0.17500000</td></tr>\n",
       "\t<tr><td>139441</td><td>Photo </td><td>2</td><td>12</td><td>2</td><td>3 </td><td>0</td><td> 7244</td><td>13594</td><td> 671</td><td>⋯</td><td> 6228</td><td> 3200</td><td> 396</td><td>19</td><td>325</td><td>49</td><td>393</td><td>0.048346056</td><td>0.8269720</td><td>0.12468193</td></tr>\n",
       "\t<tr><td>139441</td><td>Status</td><td>2</td><td>12</td><td>1</td><td>9 </td><td>0</td><td>10472</td><td>20849</td><td>1191</td><td>⋯</td><td>16034</td><td> 7852</td><td>1016</td><td> 1</td><td>152</td><td>33</td><td>186</td><td>0.005376344</td><td>0.8172043</td><td>0.17741935</td></tr>\n",
       "\t<tr><td>139441</td><td>Photo </td><td>3</td><td>12</td><td>7</td><td>9 </td><td>1</td><td>13720</td><td>24137</td><td> 537</td><td>⋯</td><td>19728</td><td>11056</td><td> 422</td><td> 0</td><td>325</td><td>14</td><td>339</td><td>0.000000000</td><td>0.9587021</td><td>0.04129794</td></tr>\n",
       "\t<tr><td>139441</td><td>Status</td><td>2</td><td>12</td><td>7</td><td>3 </td><td>0</td><td>11844</td><td>22538</td><td>1530</td><td>⋯</td><td>15220</td><td> 7912</td><td>1250</td><td> 0</td><td>161</td><td>31</td><td>192</td><td>0.000000000</td><td>0.8385417</td><td>0.16145833</td></tr>\n",
       "\t<tr><td>139441</td><td>Photo </td><td>3</td><td>12</td><td>6</td><td>10</td><td>0</td><td> 4694</td><td> 8668</td><td> 280</td><td>⋯</td><td> 4309</td><td> 2324</td><td> 199</td><td> 3</td><td>113</td><td>26</td><td>142</td><td>0.021126761</td><td>0.7957746</td><td>0.18309859</td></tr>\n",
       "\t<tr><td>⋮</td><td>⋮</td><td>⋮</td><td>⋮</td><td>⋮</td><td>⋮</td><td>⋮</td><td>⋮</td><td>⋮</td><td>⋮</td><td>⋱</td><td>⋮</td><td>⋮</td><td>⋮</td><td>⋮</td><td>⋮</td><td>⋮</td><td>⋮</td><td>⋮</td><td>⋮</td><td>⋮</td></tr>\n",
       "\t<tr><td>85979</td><td>Photo</td><td>3</td><td>1</td><td>6</td><td>3 </td><td> 1</td><td> 6184</td><td>10228</td><td> 956</td><td>⋯</td><td> 6085</td><td> 3502</td><td>437</td><td> 1</td><td>105</td><td>46</td><td>152</td><td>0.006578947</td><td>0.6907895</td><td>0.30263158</td></tr>\n",
       "\t<tr><td>85979</td><td>Link </td><td>1</td><td>1</td><td>5</td><td>11</td><td> 0</td><td>45920</td><td> 5808</td><td> 753</td><td>⋯</td><td>15766</td><td>10720</td><td>220</td><td> 0</td><td>128</td><td> 9</td><td>137</td><td>0.000000000</td><td>0.9343066</td><td>0.06569343</td></tr>\n",
       "\t<tr><td>85093</td><td>Photo</td><td>3</td><td>1</td><td>1</td><td>2 </td><td> 0</td><td> 8412</td><td>13960</td><td>1179</td><td>⋯</td><td> 8632</td><td> 5348</td><td>699</td><td>17</td><td>185</td><td>55</td><td>257</td><td>0.066147860</td><td>0.7198444</td><td>0.21400778</td></tr>\n",
       "\t<tr><td>85093</td><td>Photo</td><td>3</td><td>1</td><td>7</td><td>10</td><td> 0</td><td> 5400</td><td> 9218</td><td> 810</td><td>⋯</td><td> 5654</td><td> 3230</td><td>422</td><td>10</td><td>125</td><td>41</td><td>176</td><td>0.056818182</td><td>0.7102273</td><td>0.23295455</td></tr>\n",
       "\t<tr><td>85093</td><td>Photo</td><td>3</td><td>1</td><td>7</td><td>2 </td><td> 0</td><td> 4684</td><td> 7536</td><td> 733</td><td>⋯</td><td> 4750</td><td> 2876</td><td>392</td><td> 5</td><td> 53</td><td>26</td><td> 84</td><td>0.059523810</td><td>0.6309524</td><td>0.30952381</td></tr>\n",
       "\t<tr><td>81370</td><td>Photo</td><td>2</td><td>1</td><td>5</td><td>8 </td><td> 0</td><td> 3480</td><td> 6229</td><td> 537</td><td>⋯</td><td> 3961</td><td> 2104</td><td>301</td><td> 0</td><td> 53</td><td>22</td><td> 75</td><td>0.000000000</td><td>0.7066667</td><td>0.29333333</td></tr>\n",
       "\t<tr><td>81370</td><td>Photo</td><td>3</td><td>1</td><td>4</td><td>11</td><td> 0</td><td> 4156</td><td> 7564</td><td> 626</td><td>⋯</td><td> 4534</td><td> 2452</td><td>370</td><td> 7</td><td> 91</td><td>38</td><td>136</td><td>0.051470588</td><td>0.6691176</td><td>0.27941176</td></tr>\n",
       "\t<tr><td>81370</td><td>Photo</td><td>2</td><td>1</td><td>4</td><td>4 </td><td>NA</td><td> 4188</td><td> 7292</td><td> 564</td><td>⋯</td><td> 3861</td><td> 2200</td><td>316</td><td> 0</td><td> 91</td><td>28</td><td>119</td><td>0.000000000</td><td>0.7647059</td><td>0.23529412</td></tr>\n",
       "</tbody>\n",
       "</table>\n"
      ],
      "text/latex": [
       "A tibble: 375 × 22\n",
       "\\begin{tabular}{lllllllllllllllllllll}\n",
       " page\\_likes & type & category & post\\_month & post\\_weekday & post\\_hour & paid & reach & impressions & engaged\\_users & ⋯ & impressions\\_by\\_people\\_that\\_liked\\_page & reach\\_by\\_people\\_that\\_like\\_page & people\\_liked\\_and\\_engaged & comments & likes & shares & interactions & comment\\_percent & like\\_percent & share\\_percent\\\\\n",
       " <dbl> & <fct> & <fct> & <fct> & <fct> & <fct> & <dbl> & <dbl> & <dbl> & <dbl> & ⋯ & <dbl> & <dbl> & <dbl> & <dbl> & <dbl> & <dbl> & <dbl> & <dbl> & <dbl> & <dbl>\\\\\n",
       "\\hline\n",
       "\t 139441 & Photo  & 2 & 12 & 4 & 3  & 0 &  2752 &  5091 &  178 & ⋯ &  3078 &  1640 &  119 &  4 &  79 & 17 & 100 & 0.040000000 & 0.7900000 & 0.17000000\\\\\n",
       "\t 139441 & Status & 2 & 12 & 3 & 10 & 0 & 10460 & 19057 & 1457 & ⋯ & 11710 &  6112 & 1108 &  5 & 130 & 29 & 164 & 0.030487805 & 0.7926829 & 0.17682927\\\\\n",
       "\t 139441 & Photo  & 3 & 12 & 3 & 3  & 0 &  2413 &  4373 &  177 & ⋯ &  2812 &  1503 &  132 &  0 &  66 & 14 &  80 & 0.000000000 & 0.8250000 & 0.17500000\\\\\n",
       "\t 139441 & Photo  & 2 & 12 & 2 & 3  & 0 &  7244 & 13594 &  671 & ⋯ &  6228 &  3200 &  396 & 19 & 325 & 49 & 393 & 0.048346056 & 0.8269720 & 0.12468193\\\\\n",
       "\t 139441 & Status & 2 & 12 & 1 & 9  & 0 & 10472 & 20849 & 1191 & ⋯ & 16034 &  7852 & 1016 &  1 & 152 & 33 & 186 & 0.005376344 & 0.8172043 & 0.17741935\\\\\n",
       "\t 139441 & Photo  & 3 & 12 & 7 & 9  & 1 & 13720 & 24137 &  537 & ⋯ & 19728 & 11056 &  422 &  0 & 325 & 14 & 339 & 0.000000000 & 0.9587021 & 0.04129794\\\\\n",
       "\t 139441 & Status & 2 & 12 & 7 & 3  & 0 & 11844 & 22538 & 1530 & ⋯ & 15220 &  7912 & 1250 &  0 & 161 & 31 & 192 & 0.000000000 & 0.8385417 & 0.16145833\\\\\n",
       "\t 139441 & Photo  & 3 & 12 & 6 & 10 & 0 &  4694 &  8668 &  280 & ⋯ &  4309 &  2324 &  199 &  3 & 113 & 26 & 142 & 0.021126761 & 0.7957746 & 0.18309859\\\\\n",
       "\t ⋮ & ⋮ & ⋮ & ⋮ & ⋮ & ⋮ & ⋮ & ⋮ & ⋮ & ⋮ & ⋱ & ⋮ & ⋮ & ⋮ & ⋮ & ⋮ & ⋮ & ⋮ & ⋮ & ⋮ & ⋮\\\\\n",
       "\t 85979 & Photo & 3 & 1 & 6 & 3  &  1 &  6184 & 10228 &  956 & ⋯ &  6085 &  3502 & 437 &  1 & 105 & 46 & 152 & 0.006578947 & 0.6907895 & 0.30263158\\\\\n",
       "\t 85979 & Link  & 1 & 1 & 5 & 11 &  0 & 45920 &  5808 &  753 & ⋯ & 15766 & 10720 & 220 &  0 & 128 &  9 & 137 & 0.000000000 & 0.9343066 & 0.06569343\\\\\n",
       "\t 85093 & Photo & 3 & 1 & 1 & 2  &  0 &  8412 & 13960 & 1179 & ⋯ &  8632 &  5348 & 699 & 17 & 185 & 55 & 257 & 0.066147860 & 0.7198444 & 0.21400778\\\\\n",
       "\t 85093 & Photo & 3 & 1 & 7 & 10 &  0 &  5400 &  9218 &  810 & ⋯ &  5654 &  3230 & 422 & 10 & 125 & 41 & 176 & 0.056818182 & 0.7102273 & 0.23295455\\\\\n",
       "\t 85093 & Photo & 3 & 1 & 7 & 2  &  0 &  4684 &  7536 &  733 & ⋯ &  4750 &  2876 & 392 &  5 &  53 & 26 &  84 & 0.059523810 & 0.6309524 & 0.30952381\\\\\n",
       "\t 81370 & Photo & 2 & 1 & 5 & 8  &  0 &  3480 &  6229 &  537 & ⋯ &  3961 &  2104 & 301 &  0 &  53 & 22 &  75 & 0.000000000 & 0.7066667 & 0.29333333\\\\\n",
       "\t 81370 & Photo & 3 & 1 & 4 & 11 &  0 &  4156 &  7564 &  626 & ⋯ &  4534 &  2452 & 370 &  7 &  91 & 38 & 136 & 0.051470588 & 0.6691176 & 0.27941176\\\\\n",
       "\t 81370 & Photo & 2 & 1 & 4 & 4  & NA &  4188 &  7292 &  564 & ⋯ &  3861 &  2200 & 316 &  0 &  91 & 28 & 119 & 0.000000000 & 0.7647059 & 0.23529412\\\\\n",
       "\\end{tabular}\n"
      ],
      "text/markdown": [
       "\n",
       "A tibble: 375 × 22\n",
       "\n",
       "| page_likes &lt;dbl&gt; | type &lt;fct&gt; | category &lt;fct&gt; | post_month &lt;fct&gt; | post_weekday &lt;fct&gt; | post_hour &lt;fct&gt; | paid &lt;dbl&gt; | reach &lt;dbl&gt; | impressions &lt;dbl&gt; | engaged_users &lt;dbl&gt; | ⋯ ⋯ | impressions_by_people_that_liked_page &lt;dbl&gt; | reach_by_people_that_like_page &lt;dbl&gt; | people_liked_and_engaged &lt;dbl&gt; | comments &lt;dbl&gt; | likes &lt;dbl&gt; | shares &lt;dbl&gt; | interactions &lt;dbl&gt; | comment_percent &lt;dbl&gt; | like_percent &lt;dbl&gt; | share_percent &lt;dbl&gt; |\n",
       "|---|---|---|---|---|---|---|---|---|---|---|---|---|---|---|---|---|---|---|---|---|\n",
       "| 139441 | Photo  | 2 | 12 | 4 | 3  | 0 |  2752 |  5091 |  178 | ⋯ |  3078 |  1640 |  119 |  4 |  79 | 17 | 100 | 0.040000000 | 0.7900000 | 0.17000000 |\n",
       "| 139441 | Status | 2 | 12 | 3 | 10 | 0 | 10460 | 19057 | 1457 | ⋯ | 11710 |  6112 | 1108 |  5 | 130 | 29 | 164 | 0.030487805 | 0.7926829 | 0.17682927 |\n",
       "| 139441 | Photo  | 3 | 12 | 3 | 3  | 0 |  2413 |  4373 |  177 | ⋯ |  2812 |  1503 |  132 |  0 |  66 | 14 |  80 | 0.000000000 | 0.8250000 | 0.17500000 |\n",
       "| 139441 | Photo  | 2 | 12 | 2 | 3  | 0 |  7244 | 13594 |  671 | ⋯ |  6228 |  3200 |  396 | 19 | 325 | 49 | 393 | 0.048346056 | 0.8269720 | 0.12468193 |\n",
       "| 139441 | Status | 2 | 12 | 1 | 9  | 0 | 10472 | 20849 | 1191 | ⋯ | 16034 |  7852 | 1016 |  1 | 152 | 33 | 186 | 0.005376344 | 0.8172043 | 0.17741935 |\n",
       "| 139441 | Photo  | 3 | 12 | 7 | 9  | 1 | 13720 | 24137 |  537 | ⋯ | 19728 | 11056 |  422 |  0 | 325 | 14 | 339 | 0.000000000 | 0.9587021 | 0.04129794 |\n",
       "| 139441 | Status | 2 | 12 | 7 | 3  | 0 | 11844 | 22538 | 1530 | ⋯ | 15220 |  7912 | 1250 |  0 | 161 | 31 | 192 | 0.000000000 | 0.8385417 | 0.16145833 |\n",
       "| 139441 | Photo  | 3 | 12 | 6 | 10 | 0 |  4694 |  8668 |  280 | ⋯ |  4309 |  2324 |  199 |  3 | 113 | 26 | 142 | 0.021126761 | 0.7957746 | 0.18309859 |\n",
       "| ⋮ | ⋮ | ⋮ | ⋮ | ⋮ | ⋮ | ⋮ | ⋮ | ⋮ | ⋮ | ⋱ | ⋮ | ⋮ | ⋮ | ⋮ | ⋮ | ⋮ | ⋮ | ⋮ | ⋮ | ⋮ |\n",
       "| 85979 | Photo | 3 | 1 | 6 | 3  |  1 |  6184 | 10228 |  956 | ⋯ |  6085 |  3502 | 437 |  1 | 105 | 46 | 152 | 0.006578947 | 0.6907895 | 0.30263158 |\n",
       "| 85979 | Link  | 1 | 1 | 5 | 11 |  0 | 45920 |  5808 |  753 | ⋯ | 15766 | 10720 | 220 |  0 | 128 |  9 | 137 | 0.000000000 | 0.9343066 | 0.06569343 |\n",
       "| 85093 | Photo | 3 | 1 | 1 | 2  |  0 |  8412 | 13960 | 1179 | ⋯ |  8632 |  5348 | 699 | 17 | 185 | 55 | 257 | 0.066147860 | 0.7198444 | 0.21400778 |\n",
       "| 85093 | Photo | 3 | 1 | 7 | 10 |  0 |  5400 |  9218 |  810 | ⋯ |  5654 |  3230 | 422 | 10 | 125 | 41 | 176 | 0.056818182 | 0.7102273 | 0.23295455 |\n",
       "| 85093 | Photo | 3 | 1 | 7 | 2  |  0 |  4684 |  7536 |  733 | ⋯ |  4750 |  2876 | 392 |  5 |  53 | 26 |  84 | 0.059523810 | 0.6309524 | 0.30952381 |\n",
       "| 81370 | Photo | 2 | 1 | 5 | 8  |  0 |  3480 |  6229 |  537 | ⋯ |  3961 |  2104 | 301 |  0 |  53 | 22 |  75 | 0.000000000 | 0.7066667 | 0.29333333 |\n",
       "| 81370 | Photo | 3 | 1 | 4 | 11 |  0 |  4156 |  7564 |  626 | ⋯ |  4534 |  2452 | 370 |  7 |  91 | 38 | 136 | 0.051470588 | 0.6691176 | 0.27941176 |\n",
       "| 81370 | Photo | 2 | 1 | 4 | 4  | NA |  4188 |  7292 |  564 | ⋯ |  3861 |  2200 | 316 |  0 |  91 | 28 | 119 | 0.000000000 | 0.7647059 | 0.23529412 |\n",
       "\n"
      ],
      "text/plain": [
       "    page_likes type   category post_month post_weekday post_hour paid reach\n",
       "1   139441     Photo  2        12         4            3         0     2752\n",
       "2   139441     Status 2        12         3            10        0    10460\n",
       "3   139441     Photo  3        12         3            3         0     2413\n",
       "4   139441     Photo  2        12         2            3         0     7244\n",
       "5   139441     Status 2        12         1            9         0    10472\n",
       "6   139441     Photo  3        12         7            9         1    13720\n",
       "7   139441     Status 2        12         7            3         0    11844\n",
       "8   139441     Photo  3        12         6            10        0     4694\n",
       "⋮   ⋮          ⋮      ⋮        ⋮          ⋮            ⋮         ⋮    ⋮    \n",
       "368 85979      Photo  3        1          6            3          1    6184\n",
       "369 85979      Link   1        1          5            11         0   45920\n",
       "370 85093      Photo  3        1          1            2          0    8412\n",
       "371 85093      Photo  3        1          7            10         0    5400\n",
       "372 85093      Photo  3        1          7            2          0    4684\n",
       "373 81370      Photo  2        1          5            8          0    3480\n",
       "374 81370      Photo  3        1          4            11         0    4156\n",
       "375 81370      Photo  2        1          4            4         NA    4188\n",
       "    impressions engaged_users ⋯ impressions_by_people_that_liked_page\n",
       "1    5091        178          ⋯  3078                                \n",
       "2   19057       1457          ⋯ 11710                                \n",
       "3    4373        177          ⋯  2812                                \n",
       "4   13594        671          ⋯  6228                                \n",
       "5   20849       1191          ⋯ 16034                                \n",
       "6   24137        537          ⋯ 19728                                \n",
       "7   22538       1530          ⋯ 15220                                \n",
       "8    8668        280          ⋯  4309                                \n",
       "⋮   ⋮           ⋮             ⋱ ⋮                                    \n",
       "368 10228        956          ⋯  6085                                \n",
       "369  5808        753          ⋯ 15766                                \n",
       "370 13960       1179          ⋯  8632                                \n",
       "371  9218        810          ⋯  5654                                \n",
       "372  7536        733          ⋯  4750                                \n",
       "373  6229        537          ⋯  3961                                \n",
       "374  7564        626          ⋯  4534                                \n",
       "375  7292        564          ⋯  3861                                \n",
       "    reach_by_people_that_like_page people_liked_and_engaged comments likes\n",
       "1    1640                           119                      4        79  \n",
       "2    6112                          1108                      5       130  \n",
       "3    1503                           132                      0        66  \n",
       "4    3200                           396                     19       325  \n",
       "5    7852                          1016                      1       152  \n",
       "6   11056                           422                      0       325  \n",
       "7    7912                          1250                      0       161  \n",
       "8    2324                           199                      3       113  \n",
       "⋮   ⋮                              ⋮                        ⋮        ⋮    \n",
       "368  3502                          437                       1       105  \n",
       "369 10720                          220                       0       128  \n",
       "370  5348                          699                      17       185  \n",
       "371  3230                          422                      10       125  \n",
       "372  2876                          392                       5        53  \n",
       "373  2104                          301                       0        53  \n",
       "374  2452                          370                       7        91  \n",
       "375  2200                          316                       0        91  \n",
       "    shares interactions comment_percent like_percent share_percent\n",
       "1   17     100          0.040000000     0.7900000    0.17000000   \n",
       "2   29     164          0.030487805     0.7926829    0.17682927   \n",
       "3   14      80          0.000000000     0.8250000    0.17500000   \n",
       "4   49     393          0.048346056     0.8269720    0.12468193   \n",
       "5   33     186          0.005376344     0.8172043    0.17741935   \n",
       "6   14     339          0.000000000     0.9587021    0.04129794   \n",
       "7   31     192          0.000000000     0.8385417    0.16145833   \n",
       "8   26     142          0.021126761     0.7957746    0.18309859   \n",
       "⋮   ⋮      ⋮            ⋮               ⋮            ⋮            \n",
       "368 46     152          0.006578947     0.6907895    0.30263158   \n",
       "369  9     137          0.000000000     0.9343066    0.06569343   \n",
       "370 55     257          0.066147860     0.7198444    0.21400778   \n",
       "371 41     176          0.056818182     0.7102273    0.23295455   \n",
       "372 26      84          0.059523810     0.6309524    0.30952381   \n",
       "373 22      75          0.000000000     0.7066667    0.29333333   \n",
       "374 38     136          0.051470588     0.6691176    0.27941176   \n",
       "375 28     119          0.000000000     0.7647059    0.23529412   "
      ]
     },
     "metadata": {},
     "output_type": "display_data"
    }
   ],
   "source": [
    "# displays first and last 8 rows of the dataset\n",
    "options(repr.matrix.max.rows = 16)\n",
    "\n",
    "fb_data <- read_csv2(\"https://raw.githubusercontent.com/Feibulous12/DSCI100-Project/cce71d1e7ee3aa40337a5075095bd39776437dee/data/dataset_fb.csv\",  col_types = cols())\n",
    "colnames(fb_data) <- c(\"page_likes\", \"type\", \"category\", \"post_month\", \"post_weekday\", \"post_hour\", \"paid\", \"reach\", \n",
    "      \"impressions\", \"engaged_users\", \"post_consumers\", \"post_consumptions\", \"impressions_by_people_that_liked_page\", \n",
    "      \"reach_by_people_that_like_page\", \"people_liked_and_engaged\", \"comments\", \"likes\", \"shares\", \"interactions\")\n",
    "options(repr.matrix.max.rows = 16)\n",
    "\n",
    "fb_data <- fb_data %>% \n",
    "        mutate(type = as_factor(type)) %>% \n",
    "        mutate(category = as_factor(category)) %>% \n",
    "        mutate(post_month = as_factor(post_month)) %>% \n",
    "        mutate(post_weekday = as_factor(post_weekday)) %>% \n",
    "        mutate(post_hour = as_factor(post_hour)) %>% \n",
    "        mutate(comment_percent = comments / interactions) %>% \n",
    "        mutate(like_percent = likes / interactions) %>% \n",
    "        mutate(share_percent = shares / interactions)\n",
    "\n",
    "fb_split <- initial_split(fb_data, prop = 0.75, strata = type)  \n",
    "fb_train <- training(fb_split)   \n",
    "fb_test <- testing(fb_split)\n",
    "\n",
    "fb_train"
   ]
  },
  {
   "cell_type": "markdown",
   "metadata": {},
   "source": [
    "\n",
    "##### Preliminary summary tables:\n",
    "\n",
    "Tables were constructed to gain an initial summary of the data. Table *summary_table1* groups posts by type and computes the total posts, total interactions (including all likes, comments, shares), maximum interactions, and number of paid posts for each type. The *paid* column was found to include one observation with missing data, so the *na.rm = TRUE* argument was included."
   ]
  },
  {
   "cell_type": "code",
   "execution_count": 9,
   "metadata": {},
   "outputs": [
    {
     "name": "stderr",
     "output_type": "stream",
     "text": [
      "`summarise()` ungrouping output (override with `.groups` argument)\n",
      "\n"
     ]
    },
    {
     "data": {
      "text/html": [
       "<table>\n",
       "<caption>A tibble: 4 × 5</caption>\n",
       "<thead>\n",
       "\t<tr><th scope=col>type</th><th scope=col>total_of_type</th><th scope=col>total_interactions</th><th scope=col>max_interactions</th><th scope=col>total_paid</th></tr>\n",
       "\t<tr><th scope=col>&lt;fct&gt;</th><th scope=col>&lt;int&gt;</th><th scope=col>&lt;dbl&gt;</th><th scope=col>&lt;dbl&gt;</th><th scope=col>&lt;dbl&gt;</th></tr>\n",
       "</thead>\n",
       "<tbody>\n",
       "\t<tr><td>Photo </td><td>320</td><td>71352</td><td>6334</td><td>92</td></tr>\n",
       "\t<tr><td>Status</td><td> 32</td><td> 6369</td><td> 587</td><td> 6</td></tr>\n",
       "\t<tr><td>Link  </td><td> 16</td><td> 1077</td><td> 202</td><td> 3</td></tr>\n",
       "\t<tr><td>Video </td><td>  7</td><td> 2071</td><td> 550</td><td> 4</td></tr>\n",
       "</tbody>\n",
       "</table>\n"
      ],
      "text/latex": [
       "A tibble: 4 × 5\n",
       "\\begin{tabular}{lllll}\n",
       " type & total\\_of\\_type & total\\_interactions & max\\_interactions & total\\_paid\\\\\n",
       " <fct> & <int> & <dbl> & <dbl> & <dbl>\\\\\n",
       "\\hline\n",
       "\t Photo  & 320 & 71352 & 6334 & 92\\\\\n",
       "\t Status &  32 &  6369 &  587 &  6\\\\\n",
       "\t Link   &  16 &  1077 &  202 &  3\\\\\n",
       "\t Video  &   7 &  2071 &  550 &  4\\\\\n",
       "\\end{tabular}\n"
      ],
      "text/markdown": [
       "\n",
       "A tibble: 4 × 5\n",
       "\n",
       "| type &lt;fct&gt; | total_of_type &lt;int&gt; | total_interactions &lt;dbl&gt; | max_interactions &lt;dbl&gt; | total_paid &lt;dbl&gt; |\n",
       "|---|---|---|---|---|\n",
       "| Photo  | 320 | 71352 | 6334 | 92 |\n",
       "| Status |  32 |  6369 |  587 |  6 |\n",
       "| Link   |  16 |  1077 |  202 |  3 |\n",
       "| Video  |   7 |  2071 |  550 |  4 |\n",
       "\n"
      ],
      "text/plain": [
       "  type   total_of_type total_interactions max_interactions total_paid\n",
       "1 Photo  320           71352              6334             92        \n",
       "2 Status  32            6369               587              6        \n",
       "3 Link    16            1077               202              3        \n",
       "4 Video    7            2071               550              4        "
      ]
     },
     "metadata": {},
     "output_type": "display_data"
    }
   ],
   "source": [
    "summary_table1 = fb_train %>% \n",
    "    group_by(type) %>%\n",
    "    summarize(\n",
    "        total_of_type = n(),\n",
    "        total_interactions = sum(interactions),\n",
    "        max_interactions = max(interactions),\n",
    "        total_paid = sum(paid, na.rm = TRUE))\n",
    "\n",
    "summary_table1"
   ]
  },
  {
   "cell_type": "markdown",
   "metadata": {},
   "source": [
    "Table *summary_table2* groups posts by type and computes the total interactions, maximum interactions, percentage of each interaction type, and percentage of paid posts for each post type. The *likes* and *shares* columns were also found to include observations with missing data, so the *na.rm = TRUE* argument was included in each."
   ]
  },
  {
   "cell_type": "code",
   "execution_count": 10,
   "metadata": {},
   "outputs": [
    {
     "name": "stderr",
     "output_type": "stream",
     "text": [
      "`summarise()` ungrouping output (override with `.groups` argument)\n",
      "\n"
     ]
    },
    {
     "data": {
      "text/html": [
       "<table>\n",
       "<caption>A tibble: 4 × 7</caption>\n",
       "<thead>\n",
       "\t<tr><th scope=col>type</th><th scope=col>total_interactions</th><th scope=col>max_interactions</th><th scope=col>comments_interaction_percentage</th><th scope=col>likes_interaction_percentage</th><th scope=col>shares_interaction_percentage</th><th scope=col>paid_percentage</th></tr>\n",
       "\t<tr><th scope=col>&lt;fct&gt;</th><th scope=col>&lt;dbl&gt;</th><th scope=col>&lt;dbl&gt;</th><th scope=col>&lt;dbl&gt;</th><th scope=col>&lt;dbl&gt;</th><th scope=col>&lt;dbl&gt;</th><th scope=col>&lt;dbl&gt;</th></tr>\n",
       "</thead>\n",
       "<tbody>\n",
       "\t<tr><td>Photo </td><td>71352</td><td>6334</td><td>3.681747</td><td>83.90234</td><td>12.41591</td><td>28.75000</td></tr>\n",
       "\t<tr><td>Status</td><td> 6369</td><td> 587</td><td>3.360025</td><td>81.03313</td><td>15.60685</td><td>18.75000</td></tr>\n",
       "\t<tr><td>Link  </td><td> 1077</td><td> 202</td><td>3.435469</td><td>78.92293</td><td>17.64160</td><td>18.75000</td></tr>\n",
       "\t<tr><td>Video </td><td> 2071</td><td> 550</td><td>4.152583</td><td>78.22308</td><td>17.62434</td><td>57.14286</td></tr>\n",
       "</tbody>\n",
       "</table>\n"
      ],
      "text/latex": [
       "A tibble: 4 × 7\n",
       "\\begin{tabular}{lllllll}\n",
       " type & total\\_interactions & max\\_interactions & comments\\_interaction\\_percentage & likes\\_interaction\\_percentage & shares\\_interaction\\_percentage & paid\\_percentage\\\\\n",
       " <fct> & <dbl> & <dbl> & <dbl> & <dbl> & <dbl> & <dbl>\\\\\n",
       "\\hline\n",
       "\t Photo  & 71352 & 6334 & 3.681747 & 83.90234 & 12.41591 & 28.75000\\\\\n",
       "\t Status &  6369 &  587 & 3.360025 & 81.03313 & 15.60685 & 18.75000\\\\\n",
       "\t Link   &  1077 &  202 & 3.435469 & 78.92293 & 17.64160 & 18.75000\\\\\n",
       "\t Video  &  2071 &  550 & 4.152583 & 78.22308 & 17.62434 & 57.14286\\\\\n",
       "\\end{tabular}\n"
      ],
      "text/markdown": [
       "\n",
       "A tibble: 4 × 7\n",
       "\n",
       "| type &lt;fct&gt; | total_interactions &lt;dbl&gt; | max_interactions &lt;dbl&gt; | comments_interaction_percentage &lt;dbl&gt; | likes_interaction_percentage &lt;dbl&gt; | shares_interaction_percentage &lt;dbl&gt; | paid_percentage &lt;dbl&gt; |\n",
       "|---|---|---|---|---|---|---|\n",
       "| Photo  | 71352 | 6334 | 3.681747 | 83.90234 | 12.41591 | 28.75000 |\n",
       "| Status |  6369 |  587 | 3.360025 | 81.03313 | 15.60685 | 18.75000 |\n",
       "| Link   |  1077 |  202 | 3.435469 | 78.92293 | 17.64160 | 18.75000 |\n",
       "| Video  |  2071 |  550 | 4.152583 | 78.22308 | 17.62434 | 57.14286 |\n",
       "\n"
      ],
      "text/plain": [
       "  type   total_interactions max_interactions comments_interaction_percentage\n",
       "1 Photo  71352              6334             3.681747                       \n",
       "2 Status  6369               587             3.360025                       \n",
       "3 Link    1077               202             3.435469                       \n",
       "4 Video   2071               550             4.152583                       \n",
       "  likes_interaction_percentage shares_interaction_percentage paid_percentage\n",
       "1 83.90234                     12.41591                      28.75000       \n",
       "2 81.03313                     15.60685                      18.75000       \n",
       "3 78.92293                     17.64160                      18.75000       \n",
       "4 78.22308                     17.62434                      57.14286       "
      ]
     },
     "metadata": {},
     "output_type": "display_data"
    }
   ],
   "source": [
    "summary_table2 <- fb_train %>% \n",
    "    group_by(type) %>% \n",
    "    summarize(\n",
    "        total_interactions = sum(interactions),\n",
    "        max_interactions = max(interactions),\n",
    "        comments_interaction_percentage = (sum(comments) / sum(interactions) * 100),\n",
    "        likes_interaction_percentage = (sum(likes, na.rm = TRUE) / sum(interactions) * 100),\n",
    "        shares_interaction_percentage = (sum(shares, na.rm = TRUE) / sum(interactions) * 100),\n",
    "        paid_percentage = (sum(paid, na.rm = TRUE) / n()) * 100)     \n",
    "\n",
    "summary_table2"
   ]
  },
  {
   "cell_type": "markdown",
   "metadata": {},
   "source": [
    "\n",
    "##### Preliminary visualizations:\n",
    "\n",
    "The following bar chart is created to show the ratios of interaction types across each type of post."
   ]
  },
  {
   "cell_type": "code",
   "execution_count": 11,
   "metadata": {},
   "outputs": [
    {
     "name": "stderr",
     "output_type": "stream",
     "text": [
      "`summarise()` ungrouping output (override with `.groups` argument)\n",
      "\n"
     ]
    },
    {
     "data": {
      "image/png": "[encoded data removed]",
      "text/plain": [
       "plot without title"
      ]
     },
     "metadata": {
      "image/png": {
       "height": 420,
       "width": 420
      }
     },
     "output_type": "display_data"
    }
   ],
   "source": [
    "options(repr.plot.height = 7, repr.plot.width = 7)\n",
    "\n",
    "relative_interactions <- fb_data %>% \n",
    "    group_by(type) %>%\n",
    "    summarize(\n",
    "        comments = sum(comments),\n",
    "        likes = sum(likes, na.rm=TRUE),\n",
    "        shares = sum(shares, na.rm=TRUE),\n",
    "        total_interactions = sum(interactions)) %>% \n",
    "        pivot_longer( cols = comments:shares,\n",
    "                       names_to = \"interaction_type\",\n",
    "                       values_to = \"total_of_interaction_type\")\n",
    "\n",
    "relative_interactions_plot <- ggplot(relative_interactions, aes(x = type, y = total_of_interaction_type, fill = interaction_type)) + \n",
    "        geom_bar(stat = \"identity\", position = \"fill\") + \n",
    "        xlab(\"Post type\") +\n",
    "        ylab(\"Proportion of interactions\") +\n",
    "        labs(fill = \"Interaction type\") +\n",
    "        theme(text = element_text(size = 16))\n",
    "  \n",
    "\n",
    "relative_interactions_plot"
   ]
  },
  {
   "cell_type": "markdown",
   "metadata": {},
   "source": [
    "#### Methods:\n",
    "\n",
    "Our analysis will use the following input columns of the original dataset: *Page total likes*, *Type*, *Category*, *Paid*, *comment*, *like*, *share*, and *Total Interactions*. Our aim is to use the K-nearest neighbours algorithm to generate a classification model which will classify a post by type (photo, status, link, or video). This will involve analyzing the key engagement metrics (comments, likes, and shares) and comparing their ratios of total interactions to examine how differences in engagement can be used to classify a post’s type. We will be using ratios instead of the raw values because the raw values are a measure of the popularity of the page, and not characteristics of the post type. This will normalize the data, allowing for the model to be effective in classifying posts for any page size. \n",
    "\n",
    "To visualize our results, we plan to use a confusion matrix. This will display how often our classification model labels a post correctly, and how often each label gets confused with another. We will also use bar charts to visualize relevant and intermediate results; e.g., we will create a bar chart with post type on the x-axis and interactions on the y-axis, filling out the bars with proportional values of the type of each interaction. As part of the tuning step of creating the model, we can create a line chart to show us the optimal K value. "
   ]
  },
  {
   "cell_type": "markdown",
   "metadata": {},
   "source": [
    "#### Expected outcomes and significance:\n",
    "\n",
    "This analysis hopes to define a relationship between type of post (i.e., photo, status, link, or video) and ratio of the corresponding post’s interaction type. It is expected that videos and photos, for example, may have higher percentages of interactions that are comments and/or likes when compared to a link or status.\n",
    "\n",
    "This classification application for labeling a post’s type could be helpful in identifying the types of reactions that a post might receive. It is possible that we find images get the most likes, while statuses get the most comments. Knowing how these metrics indicate the type could lead to better targeted ad campaigns that look for a certain type of user engagement.\n",
    "\n",
    "Future questions following from this analysis may include:\n",
    "- Do paid posts generate more traffic than unpaid posts?\n",
    "- Does the category of a post (i.e., “action”, “product”, or “inspiration” classification) affect the overall and/or ratio of interactions on a post?\n",
    "- Do posts with more interactions overall correlate with increases in users liking a company’s Facebook page? \n",
    "\n",
    "In examining the data for classification, it is also expected that trends may emerge which could in the future be used to predict post engagement. This predictive knowledge could be used by companies looking to grow their social media reach, as they may more accurately tailor their posts to yield higher engagement before publishing."
   ]
  }
 ],
 "metadata": {
  "kernelspec": {
   "display_name": "R",
   "language": "R",
   "name": "ir"
  },
  "language_info": {
   "codemirror_mode": "r",
   "file_extension": ".r",
   "mimetype": "text/x-r-source",
   "name": "R",
   "pygments_lexer": "r",
   "version": "4.0.0"
  }
 },
 "nbformat": 4,
 "nbformat_minor": 4
}
