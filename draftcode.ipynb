{
 "cells": [
  {
   "cell_type": "code",
   "execution_count": 1,
   "metadata": {},
   "outputs": [
    {
     "ename": "ERROR",
     "evalue": "Error in library(tidyverse): there is no package called ‘tidyverse’\n",
     "output_type": "error",
     "traceback": [
      "Error in library(tidyverse): there is no package called ‘tidyverse’\nTraceback:\n",
      "1. library(tidyverse)"
     ]
    }
   ],
   "source": [
    "# Load libraries for preliminary data analysis:\n",
    "library(tidyverse)\n",
    "library(repr)\n",
    "library(readxl)\n",
    "library(GGally)"
   ]
  },
  {
   "cell_type": "code",
   "execution_count": null,
   "metadata": {},
   "outputs": [],
   "source": [
    "options(repr.matrix.max.rows = 16)\n",
    "\n",
    "fb_data <- read_csv2(\"https://gist.githubusercontent.com/KolCrooks/691e5890b6747b4777d6032f019b2c0f/raw/20629a5da3d5a7683e3071798876f3e4b204fbbb/fb_data.csv\",  col_types = cols())\n",
    "colnames(fb_data) <- c(\"page_likes\", \"type\", \"category\", \"post_month\", \"post_weekday\", \"post_hour\", \"paid\", \"reach\", \n",
    "      \"impressions\", \"engaged_users\", \"post_consumers\", \"post_consumptions\", \"impressions_by_people_that_liked_page\", \n",
    "      \"reach_by_people_that_like_page\", \"people_liked_and_engaged\", \"comments\", \"likes\", \"shares\", \"interactions\")\n",
    "options(repr.matrix.max.rows = 16)\n",
    "\n",
    "fb_data <- fb_data %>% \n",
    "        mutate(type = as_factor(type)) %>% \n",
    "        mutate(category = as_factor(category)) %>% \n",
    "        mutate(post_month = as_factor(post_month)) %>% \n",
    "        mutate(post_weekday = as_factor(post_weekday)) %>% \n",
    "        mutate(post_hour = as_factor(post_hour)) %>% \n",
    "        mutate(comment_percent = comments / interactions) %>% \n",
    "        mutate(like_percent = likes / interactions) %>% \n",
    "        mutate(share_percent = shares / interactions)\n",
    "\n",
    "fb_split <- initial_split(fb_data, prop = 0.75, strata = type)  \n",
    "fb_train <- training(fb_split)   \n",
    "fb_test <- testing(fb_split)\n",
    "fb_train"
   ]
  },
  {
   "cell_type": "code",
   "execution_count": null,
   "metadata": {},
   "outputs": [],
   "source": [
    "#select interested columns\n",
    "fb_selected_data <- select (fb_data, -category, -post_month, -post_weekday, -post_hour)\n",
    " \n",
    "fb_selected_data"
   ]
  },
  {
   "cell_type": "code",
   "execution_count": 2,
   "metadata": {},
   "outputs": [
    {
     "ename": "ERROR",
     "evalue": "Error in fb_selected_data %>% ggpairs(): could not find function \"%>%\"\n",
     "output_type": "error",
     "traceback": [
      "Error in fb_selected_data %>% ggpairs(): could not find function \"%>%\"\nTraceback:\n"
     ]
    }
   ],
   "source": [
    "options(repr.plot.width = 30, repr.plot.height = 4)\n",
    "\n",
    "fb_plot <- fb_selected_data %>% \n",
    "    ggpairs() +\n",
    "    ggtitle(\"Distribution of different factors\")\n",
    "    theme(text = element_text(size=14))\n",
    "# fb_plot$nrow <- 1\n",
    "# fb_plot$yAxisLabels <- fb_plot$yAxisLabels[1]\n",
    "fb_plot"
   ]
  },
  {
   "cell_type": "code",
   "execution_count": null,
   "metadata": {},
   "outputs": [],
   "source": []
  },
  {
   "cell_type": "code",
   "execution_count": 10,
   "metadata": {},
   "outputs": [
    {
     "data": {
      "text/plain": [
       "   page_likes         type              category      post_month    \n",
       " Min.   : 81370   Length:500         Min.   :1.00   Min.   : 1.000  \n",
       " 1st Qu.:112676   Class :character   1st Qu.:1.00   1st Qu.: 4.000  \n",
       " Median :129600   Mode  :character   Median :2.00   Median : 7.000  \n",
       " Mean   :123194                      Mean   :1.88   Mean   : 7.038  \n",
       " 3rd Qu.:136393                      3rd Qu.:3.00   3rd Qu.:10.000  \n",
       " Max.   :139441                      Max.   :3.00   Max.   :12.000  \n",
       "                                                                    \n",
       "  post_weekday    post_hour          paid            reach       \n",
       " Min.   :1.00   Min.   : 1.00   Min.   :0.0000   Min.   :   238  \n",
       " 1st Qu.:2.00   1st Qu.: 3.00   1st Qu.:0.0000   1st Qu.:  3315  \n",
       " Median :4.00   Median : 9.00   Median :0.0000   Median :  5281  \n",
       " Mean   :4.15   Mean   : 7.84   Mean   :0.2786   Mean   : 13903  \n",
       " 3rd Qu.:6.00   3rd Qu.:11.00   3rd Qu.:1.0000   3rd Qu.: 13168  \n",
       " Max.   :7.00   Max.   :23.00   Max.   :1.0000   Max.   :180480  \n",
       "                                NA's   :1                        \n",
       "  impressions      engaged_users     post_consumers    post_consumptions\n",
       " Min.   :    570   Min.   :    9.0   Min.   :    9.0   Min.   :    9.0  \n",
       " 1st Qu.:   5695   1st Qu.:  393.8   1st Qu.:  332.5   1st Qu.:  509.2  \n",
       " Median :   9051   Median :  625.5   Median :  551.5   Median :  851.0  \n",
       " Mean   :  29586   Mean   :  920.3   Mean   :  798.8   Mean   : 1415.1  \n",
       " 3rd Qu.:  22086   3rd Qu.: 1062.0   3rd Qu.:  955.5   3rd Qu.: 1463.0  \n",
       " Max.   :1110282   Max.   :11452.0   Max.   :11328.0   Max.   :19779.0  \n",
       "                                                                        \n",
       " impressions_by_people_that_liked_page reach_by_people_that_like_page\n",
       " Min.   :    567                       Min.   :  236                 \n",
       " 1st Qu.:   3970                       1st Qu.: 2182                 \n",
       " Median :   6256                       Median : 3417                 \n",
       " Mean   :  16766                       Mean   : 6585                 \n",
       " 3rd Qu.:  14860                       3rd Qu.: 7989                 \n",
       " Max.   :1107833                       Max.   :51456                 \n",
       "                                                                     \n",
       " people_liked_and_engaged    comments           likes            shares      \n",
       " Min.   :   9.0           Min.   :  0.000   Min.   :   0.0   Min.   :  0.00  \n",
       " 1st Qu.: 291.0           1st Qu.:  1.000   1st Qu.:  56.5   1st Qu.: 10.00  \n",
       " Median : 412.0           Median :  3.000   Median : 101.0   Median : 19.00  \n",
       " Mean   : 610.0           Mean   :  7.482   Mean   : 177.9   Mean   : 27.27  \n",
       " 3rd Qu.: 656.2           3rd Qu.:  7.000   3rd Qu.: 187.5   3rd Qu.: 32.25  \n",
       " Max.   :4376.0           Max.   :372.000   Max.   :5172.0   Max.   :790.00  \n",
       "                                            NA's   :1        NA's   :4       \n",
       "  interactions   \n",
       " Min.   :   0.0  \n",
       " 1st Qu.:  71.0  \n",
       " Median : 123.5  \n",
       " Mean   : 212.1  \n",
       " 3rd Qu.: 228.5  \n",
       " Max.   :6334.0  \n",
       "                 "
      ]
     },
     "metadata": {},
     "output_type": "display_data"
    }
   ],
   "source": [
    "summary(fb_data)"
   ]
  },
  {
   "cell_type": "code",
   "execution_count": null,
   "metadata": {},
   "outputs": [],
   "source": []
  }
 ],
 "metadata": {
  "kernelspec": {
   "display_name": "R",
   "language": "R",
   "name": "ir"
  },
  "language_info": {
   "codemirror_mode": "r",
   "file_extension": ".r",
   "mimetype": "text/x-r-source",
   "name": "R",
   "pygments_lexer": "r",
   "version": "4.0.5"
  }
 },
 "nbformat": 4,
 "nbformat_minor": 4
}
