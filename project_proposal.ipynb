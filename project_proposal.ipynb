{
 "cells": [
  {
   "cell_type": "markdown",
   "metadata": {},
   "source": [
    "# DSCI 100: Group Project Proposal \n",
    "\n",
    "\n",
    "## Classification of Facebook Posts\n",
    "\n",
    "#### Introduction:\n",
    "\n",
    "The dataset *Facebook performance metrics* (Moro et al., 2016) contains data related to posts published throughout the year 2014 on a renowned cosmetics brand's Facebook page. Post information such as type (photo, status, link, or video), time posted (month, day of week, and hour), user engagement (comments, likes, and shares), and whether the post was paid or unpaid is included in the dataset. This project proposes to use columns from this dataset relevant to engagement - all input columns excluding post month, weekday, and hour - to determine the type of a brand's Facebook post. Key metrics and their correlation with type of post will be investigated to determine whether there is a relationship between the two. \n"
   ]
  },
  {
   "cell_type": "markdown",
   "metadata": {},
   "source": [
    "#### Preliminary exploratory data analysis:\n",
    "\n",
    "We begin by loading the relevant libraries."
   ]
  },
  {
   "cell_type": "code",
   "execution_count": 102,
   "metadata": {},
   "outputs": [],
   "source": [
    "# Load libraries for preliminary data analysis:\n",
    "library(tidyverse)\n",
    "library(repr)\n",
    "library(readxl)"
   ]
  },
  {
   "cell_type": "markdown",
   "metadata": {},
   "source": [
    "The following cell loads the dataset into R; as the dataset on the web is contained in a zip folder, the .csv file was manually extracted and pushed to the working Github repository.\n",
    "\n",
    "The dataset is already in tidy format. The column headings were made more usable by removing spaces and shortening longer headings."
   ]
  },
  {
   "cell_type": "code",
   "execution_count": 103,
   "metadata": {},
   "outputs": [
    {
     "name": "stderr",
     "output_type": "stream",
     "text": [
      "Using ',' as decimal and '.' as grouping mark. Use read_delim() for more control.\n",
      "\n"
     ]
    },
    {
     "data": {
      "text/html": [
       "<table>\n",
       "<caption>A spec_tbl_df: 500 × 19</caption>\n",
       "<thead>\n",
       "\t<tr><th scope=col>page_likes</th><th scope=col>type</th><th scope=col>category</th><th scope=col>post_month</th><th scope=col>post_weekday</th><th scope=col>post_hour</th><th scope=col>paid</th><th scope=col>reach</th><th scope=col>impressions</th><th scope=col>engaged_users</th><th scope=col>post_consumers</th><th scope=col>post_consumptions</th><th scope=col>impressions_by_people_that_liked_page</th><th scope=col>reach_by_people_that_like_page</th><th scope=col>people_liked_and_engaged</th><th scope=col>comments</th><th scope=col>likes</th><th scope=col>shares</th><th scope=col>interactions</th></tr>\n",
       "\t<tr><th scope=col>&lt;dbl&gt;</th><th scope=col>&lt;chr&gt;</th><th scope=col>&lt;dbl&gt;</th><th scope=col>&lt;dbl&gt;</th><th scope=col>&lt;dbl&gt;</th><th scope=col>&lt;dbl&gt;</th><th scope=col>&lt;dbl&gt;</th><th scope=col>&lt;dbl&gt;</th><th scope=col>&lt;dbl&gt;</th><th scope=col>&lt;dbl&gt;</th><th scope=col>&lt;dbl&gt;</th><th scope=col>&lt;dbl&gt;</th><th scope=col>&lt;dbl&gt;</th><th scope=col>&lt;dbl&gt;</th><th scope=col>&lt;dbl&gt;</th><th scope=col>&lt;dbl&gt;</th><th scope=col>&lt;dbl&gt;</th><th scope=col>&lt;dbl&gt;</th><th scope=col>&lt;dbl&gt;</th></tr>\n",
       "</thead>\n",
       "<tbody>\n",
       "\t<tr><td>139441</td><td>Photo </td><td>2</td><td>12</td><td>4</td><td> 3</td><td>0</td><td> 2752</td><td> 5091</td><td> 178</td><td> 109</td><td> 159</td><td> 3078</td><td> 1640</td><td> 119</td><td> 4</td><td>  79</td><td> 17</td><td> 100</td></tr>\n",
       "\t<tr><td>139441</td><td>Status</td><td>2</td><td>12</td><td>3</td><td>10</td><td>0</td><td>10460</td><td>19057</td><td>1457</td><td>1361</td><td>1674</td><td>11710</td><td> 6112</td><td>1108</td><td> 5</td><td> 130</td><td> 29</td><td> 164</td></tr>\n",
       "\t<tr><td>139441</td><td>Photo </td><td>3</td><td>12</td><td>3</td><td> 3</td><td>0</td><td> 2413</td><td> 4373</td><td> 177</td><td> 113</td><td> 154</td><td> 2812</td><td> 1503</td><td> 132</td><td> 0</td><td>  66</td><td> 14</td><td>  80</td></tr>\n",
       "\t<tr><td>139441</td><td>Photo </td><td>2</td><td>12</td><td>2</td><td>10</td><td>1</td><td>50128</td><td>87991</td><td>2211</td><td> 790</td><td>1119</td><td>61027</td><td>32048</td><td>1386</td><td>58</td><td>1572</td><td>147</td><td>1777</td></tr>\n",
       "\t<tr><td>139441</td><td>Photo </td><td>2</td><td>12</td><td>2</td><td> 3</td><td>0</td><td> 7244</td><td>13594</td><td> 671</td><td> 410</td><td> 580</td><td> 6228</td><td> 3200</td><td> 396</td><td>19</td><td> 325</td><td> 49</td><td> 393</td></tr>\n",
       "\t<tr><td>139441</td><td>Status</td><td>2</td><td>12</td><td>1</td><td> 9</td><td>0</td><td>10472</td><td>20849</td><td>1191</td><td>1073</td><td>1389</td><td>16034</td><td> 7852</td><td>1016</td><td> 1</td><td> 152</td><td> 33</td><td> 186</td></tr>\n",
       "\t<tr><td>139441</td><td>Photo </td><td>3</td><td>12</td><td>1</td><td> 3</td><td>1</td><td>11692</td><td>19479</td><td> 481</td><td> 265</td><td> 364</td><td>15432</td><td> 9328</td><td> 379</td><td> 3</td><td> 249</td><td> 27</td><td> 279</td></tr>\n",
       "\t<tr><td>139441</td><td>Photo </td><td>3</td><td>12</td><td>7</td><td> 9</td><td>1</td><td>13720</td><td>24137</td><td> 537</td><td> 232</td><td> 305</td><td>19728</td><td>11056</td><td> 422</td><td> 0</td><td> 325</td><td> 14</td><td> 339</td></tr>\n",
       "\t<tr><td>⋮</td><td>⋮</td><td>⋮</td><td>⋮</td><td>⋮</td><td>⋮</td><td>⋮</td><td>⋮</td><td>⋮</td><td>⋮</td><td>⋮</td><td>⋮</td><td>⋮</td><td>⋮</td><td>⋮</td><td>⋮</td><td>⋮</td><td>⋮</td><td>⋮</td></tr>\n",
       "\t<tr><td>85979</td><td>Link </td><td>1</td><td>1</td><td>5</td><td>11</td><td> 0</td><td>45920</td><td> 5808</td><td> 753</td><td> 655</td><td> 763</td><td>15766</td><td>10720</td><td>220</td><td> 0</td><td>128</td><td> 9</td><td>137</td></tr>\n",
       "\t<tr><td>85093</td><td>Photo</td><td>3</td><td>1</td><td>1</td><td> 2</td><td> 0</td><td> 8412</td><td>13960</td><td>1179</td><td>1111</td><td>1632</td><td> 8632</td><td> 5348</td><td>699</td><td>17</td><td>185</td><td>55</td><td>257</td></tr>\n",
       "\t<tr><td>85093</td><td>Photo</td><td>3</td><td>1</td><td>7</td><td>10</td><td> 0</td><td> 5400</td><td> 9218</td><td> 810</td><td> 756</td><td>1003</td><td> 5654</td><td> 3230</td><td>422</td><td>10</td><td>125</td><td>41</td><td>176</td></tr>\n",
       "\t<tr><td>85093</td><td>Photo</td><td>3</td><td>1</td><td>7</td><td> 2</td><td> 0</td><td> 4684</td><td> 7536</td><td> 733</td><td> 708</td><td> 985</td><td> 4750</td><td> 2876</td><td>392</td><td> 5</td><td> 53</td><td>26</td><td> 84</td></tr>\n",
       "\t<tr><td>81370</td><td>Photo</td><td>2</td><td>1</td><td>5</td><td> 8</td><td> 0</td><td> 3480</td><td> 6229</td><td> 537</td><td> 508</td><td> 687</td><td> 3961</td><td> 2104</td><td>301</td><td> 0</td><td> 53</td><td>22</td><td> 75</td></tr>\n",
       "\t<tr><td>81370</td><td>Photo</td><td>1</td><td>1</td><td>5</td><td> 2</td><td> 0</td><td> 3778</td><td> 7216</td><td> 625</td><td> 572</td><td> 795</td><td> 4742</td><td> 2388</td><td>363</td><td> 4</td><td> 93</td><td>18</td><td>115</td></tr>\n",
       "\t<tr><td>81370</td><td>Photo</td><td>3</td><td>1</td><td>4</td><td>11</td><td> 0</td><td> 4156</td><td> 7564</td><td> 626</td><td> 574</td><td> 832</td><td> 4534</td><td> 2452</td><td>370</td><td> 7</td><td> 91</td><td>38</td><td>136</td></tr>\n",
       "\t<tr><td>81370</td><td>Photo</td><td>2</td><td>1</td><td>4</td><td> 4</td><td>NA</td><td> 4188</td><td> 7292</td><td> 564</td><td> 524</td><td> 743</td><td> 3861</td><td> 2200</td><td>316</td><td> 0</td><td> 91</td><td>28</td><td>119</td></tr>\n",
       "</tbody>\n",
       "</table>\n"
      ],
      "text/latex": [
       "A spec\\_tbl\\_df: 500 × 19\n",
       "\\begin{tabular}{lllllllllllllllllll}\n",
       " page\\_likes & type & category & post\\_month & post\\_weekday & post\\_hour & paid & reach & impressions & engaged\\_users & post\\_consumers & post\\_consumptions & impressions\\_by\\_people\\_that\\_liked\\_page & reach\\_by\\_people\\_that\\_like\\_page & people\\_liked\\_and\\_engaged & comments & likes & shares & interactions\\\\\n",
       " <dbl> & <chr> & <dbl> & <dbl> & <dbl> & <dbl> & <dbl> & <dbl> & <dbl> & <dbl> & <dbl> & <dbl> & <dbl> & <dbl> & <dbl> & <dbl> & <dbl> & <dbl> & <dbl>\\\\\n",
       "\\hline\n",
       "\t 139441 & Photo  & 2 & 12 & 4 &  3 & 0 &  2752 &  5091 &  178 &  109 &  159 &  3078 &  1640 &  119 &  4 &   79 &  17 &  100\\\\\n",
       "\t 139441 & Status & 2 & 12 & 3 & 10 & 0 & 10460 & 19057 & 1457 & 1361 & 1674 & 11710 &  6112 & 1108 &  5 &  130 &  29 &  164\\\\\n",
       "\t 139441 & Photo  & 3 & 12 & 3 &  3 & 0 &  2413 &  4373 &  177 &  113 &  154 &  2812 &  1503 &  132 &  0 &   66 &  14 &   80\\\\\n",
       "\t 139441 & Photo  & 2 & 12 & 2 & 10 & 1 & 50128 & 87991 & 2211 &  790 & 1119 & 61027 & 32048 & 1386 & 58 & 1572 & 147 & 1777\\\\\n",
       "\t 139441 & Photo  & 2 & 12 & 2 &  3 & 0 &  7244 & 13594 &  671 &  410 &  580 &  6228 &  3200 &  396 & 19 &  325 &  49 &  393\\\\\n",
       "\t 139441 & Status & 2 & 12 & 1 &  9 & 0 & 10472 & 20849 & 1191 & 1073 & 1389 & 16034 &  7852 & 1016 &  1 &  152 &  33 &  186\\\\\n",
       "\t 139441 & Photo  & 3 & 12 & 1 &  3 & 1 & 11692 & 19479 &  481 &  265 &  364 & 15432 &  9328 &  379 &  3 &  249 &  27 &  279\\\\\n",
       "\t 139441 & Photo  & 3 & 12 & 7 &  9 & 1 & 13720 & 24137 &  537 &  232 &  305 & 19728 & 11056 &  422 &  0 &  325 &  14 &  339\\\\\n",
       "\t ⋮ & ⋮ & ⋮ & ⋮ & ⋮ & ⋮ & ⋮ & ⋮ & ⋮ & ⋮ & ⋮ & ⋮ & ⋮ & ⋮ & ⋮ & ⋮ & ⋮ & ⋮ & ⋮\\\\\n",
       "\t 85979 & Link  & 1 & 1 & 5 & 11 &  0 & 45920 &  5808 &  753 &  655 &  763 & 15766 & 10720 & 220 &  0 & 128 &  9 & 137\\\\\n",
       "\t 85093 & Photo & 3 & 1 & 1 &  2 &  0 &  8412 & 13960 & 1179 & 1111 & 1632 &  8632 &  5348 & 699 & 17 & 185 & 55 & 257\\\\\n",
       "\t 85093 & Photo & 3 & 1 & 7 & 10 &  0 &  5400 &  9218 &  810 &  756 & 1003 &  5654 &  3230 & 422 & 10 & 125 & 41 & 176\\\\\n",
       "\t 85093 & Photo & 3 & 1 & 7 &  2 &  0 &  4684 &  7536 &  733 &  708 &  985 &  4750 &  2876 & 392 &  5 &  53 & 26 &  84\\\\\n",
       "\t 81370 & Photo & 2 & 1 & 5 &  8 &  0 &  3480 &  6229 &  537 &  508 &  687 &  3961 &  2104 & 301 &  0 &  53 & 22 &  75\\\\\n",
       "\t 81370 & Photo & 1 & 1 & 5 &  2 &  0 &  3778 &  7216 &  625 &  572 &  795 &  4742 &  2388 & 363 &  4 &  93 & 18 & 115\\\\\n",
       "\t 81370 & Photo & 3 & 1 & 4 & 11 &  0 &  4156 &  7564 &  626 &  574 &  832 &  4534 &  2452 & 370 &  7 &  91 & 38 & 136\\\\\n",
       "\t 81370 & Photo & 2 & 1 & 4 &  4 & NA &  4188 &  7292 &  564 &  524 &  743 &  3861 &  2200 & 316 &  0 &  91 & 28 & 119\\\\\n",
       "\\end{tabular}\n"
      ],
      "text/markdown": [
       "\n",
       "A spec_tbl_df: 500 × 19\n",
       "\n",
       "| page_likes &lt;dbl&gt; | type &lt;chr&gt; | category &lt;dbl&gt; | post_month &lt;dbl&gt; | post_weekday &lt;dbl&gt; | post_hour &lt;dbl&gt; | paid &lt;dbl&gt; | reach &lt;dbl&gt; | impressions &lt;dbl&gt; | engaged_users &lt;dbl&gt; | post_consumers &lt;dbl&gt; | post_consumptions &lt;dbl&gt; | impressions_by_people_that_liked_page &lt;dbl&gt; | reach_by_people_that_like_page &lt;dbl&gt; | people_liked_and_engaged &lt;dbl&gt; | comments &lt;dbl&gt; | likes &lt;dbl&gt; | shares &lt;dbl&gt; | interactions &lt;dbl&gt; |\n",
       "|---|---|---|---|---|---|---|---|---|---|---|---|---|---|---|---|---|---|---|\n",
       "| 139441 | Photo  | 2 | 12 | 4 |  3 | 0 |  2752 |  5091 |  178 |  109 |  159 |  3078 |  1640 |  119 |  4 |   79 |  17 |  100 |\n",
       "| 139441 | Status | 2 | 12 | 3 | 10 | 0 | 10460 | 19057 | 1457 | 1361 | 1674 | 11710 |  6112 | 1108 |  5 |  130 |  29 |  164 |\n",
       "| 139441 | Photo  | 3 | 12 | 3 |  3 | 0 |  2413 |  4373 |  177 |  113 |  154 |  2812 |  1503 |  132 |  0 |   66 |  14 |   80 |\n",
       "| 139441 | Photo  | 2 | 12 | 2 | 10 | 1 | 50128 | 87991 | 2211 |  790 | 1119 | 61027 | 32048 | 1386 | 58 | 1572 | 147 | 1777 |\n",
       "| 139441 | Photo  | 2 | 12 | 2 |  3 | 0 |  7244 | 13594 |  671 |  410 |  580 |  6228 |  3200 |  396 | 19 |  325 |  49 |  393 |\n",
       "| 139441 | Status | 2 | 12 | 1 |  9 | 0 | 10472 | 20849 | 1191 | 1073 | 1389 | 16034 |  7852 | 1016 |  1 |  152 |  33 |  186 |\n",
       "| 139441 | Photo  | 3 | 12 | 1 |  3 | 1 | 11692 | 19479 |  481 |  265 |  364 | 15432 |  9328 |  379 |  3 |  249 |  27 |  279 |\n",
       "| 139441 | Photo  | 3 | 12 | 7 |  9 | 1 | 13720 | 24137 |  537 |  232 |  305 | 19728 | 11056 |  422 |  0 |  325 |  14 |  339 |\n",
       "| ⋮ | ⋮ | ⋮ | ⋮ | ⋮ | ⋮ | ⋮ | ⋮ | ⋮ | ⋮ | ⋮ | ⋮ | ⋮ | ⋮ | ⋮ | ⋮ | ⋮ | ⋮ | ⋮ |\n",
       "| 85979 | Link  | 1 | 1 | 5 | 11 |  0 | 45920 |  5808 |  753 |  655 |  763 | 15766 | 10720 | 220 |  0 | 128 |  9 | 137 |\n",
       "| 85093 | Photo | 3 | 1 | 1 |  2 |  0 |  8412 | 13960 | 1179 | 1111 | 1632 |  8632 |  5348 | 699 | 17 | 185 | 55 | 257 |\n",
       "| 85093 | Photo | 3 | 1 | 7 | 10 |  0 |  5400 |  9218 |  810 |  756 | 1003 |  5654 |  3230 | 422 | 10 | 125 | 41 | 176 |\n",
       "| 85093 | Photo | 3 | 1 | 7 |  2 |  0 |  4684 |  7536 |  733 |  708 |  985 |  4750 |  2876 | 392 |  5 |  53 | 26 |  84 |\n",
       "| 81370 | Photo | 2 | 1 | 5 |  8 |  0 |  3480 |  6229 |  537 |  508 |  687 |  3961 |  2104 | 301 |  0 |  53 | 22 |  75 |\n",
       "| 81370 | Photo | 1 | 1 | 5 |  2 |  0 |  3778 |  7216 |  625 |  572 |  795 |  4742 |  2388 | 363 |  4 |  93 | 18 | 115 |\n",
       "| 81370 | Photo | 3 | 1 | 4 | 11 |  0 |  4156 |  7564 |  626 |  574 |  832 |  4534 |  2452 | 370 |  7 |  91 | 38 | 136 |\n",
       "| 81370 | Photo | 2 | 1 | 4 |  4 | NA |  4188 |  7292 |  564 |  524 |  743 |  3861 |  2200 | 316 |  0 |  91 | 28 | 119 |\n",
       "\n"
      ],
      "text/plain": [
       "    page_likes type   category post_month post_weekday post_hour paid reach\n",
       "1   139441     Photo  2        12         4             3        0     2752\n",
       "2   139441     Status 2        12         3            10        0    10460\n",
       "3   139441     Photo  3        12         3             3        0     2413\n",
       "4   139441     Photo  2        12         2            10        1    50128\n",
       "5   139441     Photo  2        12         2             3        0     7244\n",
       "6   139441     Status 2        12         1             9        0    10472\n",
       "7   139441     Photo  3        12         1             3        1    11692\n",
       "8   139441     Photo  3        12         7             9        1    13720\n",
       "⋮   ⋮          ⋮      ⋮        ⋮          ⋮            ⋮         ⋮    ⋮    \n",
       "493 85979      Link   1        1          5            11         0   45920\n",
       "494 85093      Photo  3        1          1             2         0    8412\n",
       "495 85093      Photo  3        1          7            10         0    5400\n",
       "496 85093      Photo  3        1          7             2         0    4684\n",
       "497 81370      Photo  2        1          5             8         0    3480\n",
       "498 81370      Photo  1        1          5             2         0    3778\n",
       "499 81370      Photo  3        1          4            11         0    4156\n",
       "500 81370      Photo  2        1          4             4        NA    4188\n",
       "    impressions engaged_users post_consumers post_consumptions\n",
       "1    5091        178           109            159             \n",
       "2   19057       1457          1361           1674             \n",
       "3    4373        177           113            154             \n",
       "4   87991       2211           790           1119             \n",
       "5   13594        671           410            580             \n",
       "6   20849       1191          1073           1389             \n",
       "7   19479        481           265            364             \n",
       "8   24137        537           232            305             \n",
       "⋮   ⋮           ⋮             ⋮              ⋮                \n",
       "493  5808        753           655            763             \n",
       "494 13960       1179          1111           1632             \n",
       "495  9218        810           756           1003             \n",
       "496  7536        733           708            985             \n",
       "497  6229        537           508            687             \n",
       "498  7216        625           572            795             \n",
       "499  7564        626           574            832             \n",
       "500  7292        564           524            743             \n",
       "    impressions_by_people_that_liked_page reach_by_people_that_like_page\n",
       "1    3078                                  1640                         \n",
       "2   11710                                  6112                         \n",
       "3    2812                                  1503                         \n",
       "4   61027                                 32048                         \n",
       "5    6228                                  3200                         \n",
       "6   16034                                  7852                         \n",
       "7   15432                                  9328                         \n",
       "8   19728                                 11056                         \n",
       "⋮   ⋮                                     ⋮                             \n",
       "493 15766                                 10720                         \n",
       "494  8632                                  5348                         \n",
       "495  5654                                  3230                         \n",
       "496  4750                                  2876                         \n",
       "497  3961                                  2104                         \n",
       "498  4742                                  2388                         \n",
       "499  4534                                  2452                         \n",
       "500  3861                                  2200                         \n",
       "    people_liked_and_engaged comments likes shares interactions\n",
       "1    119                      4         79   17     100        \n",
       "2   1108                      5        130   29     164        \n",
       "3    132                      0         66   14      80        \n",
       "4   1386                     58       1572  147    1777        \n",
       "5    396                     19        325   49     393        \n",
       "6   1016                      1        152   33     186        \n",
       "7    379                      3        249   27     279        \n",
       "8    422                      0        325   14     339        \n",
       "⋮   ⋮                        ⋮        ⋮     ⋮      ⋮           \n",
       "493 220                       0       128    9     137         \n",
       "494 699                      17       185   55     257         \n",
       "495 422                      10       125   41     176         \n",
       "496 392                       5        53   26      84         \n",
       "497 301                       0        53   22      75         \n",
       "498 363                       4        93   18     115         \n",
       "499 370                       7        91   38     136         \n",
       "500 316                       0        91   28     119         "
      ]
     },
     "metadata": {},
     "output_type": "display_data"
    }
   ],
   "source": [
    "# displays first and last 8 rows of the dataset\n",
    "options(repr.matrix.max.rows = 16)\n",
    "\n",
    "fb_data <- read_csv2(\"https://raw.githubusercontent.com/Feibulous12/DSCI100-Project/cce71d1e7ee3aa40337a5075095bd39776437dee/data/dataset_fb.csv\",  col_types = cols())\n",
    "colnames(fb_data) <- c(\"page_likes\", \"type\", \"category\", \"post_month\", \"post_weekday\", \"post_hour\", \"paid\", \"reach\", \n",
    "      \"impressions\", \"engaged_users\", \"post_consumers\", \"post_consumptions\", \"impressions_by_people_that_liked_page\", \n",
    "      \"reach_by_people_that_like_page\", \"people_liked_and_engaged\", \"comments\", \"likes\", \"shares\", \"interactions\")\n",
    "\n",
    "fb_data"
   ]
  },
  {
   "cell_type": "markdown",
   "metadata": {},
   "source": [
    "\n",
    "##### Preliminary summary tables:\n",
    "\n",
    "Tables were constructed to gain an initial summary of the data. Table *summary_table1* groups posts by type and computes the total posts, total interactions (including all likes, comments, shares), maximum interactions, and number of paid posts for each type. The *paid* column was found to include one observation with missing data, so the *na.rm = TRUE* argument was included."
   ]
  },
  {
   "cell_type": "code",
   "execution_count": 104,
   "metadata": {},
   "outputs": [
    {
     "name": "stderr",
     "output_type": "stream",
     "text": [
      "`summarise()` ungrouping output (override with `.groups` argument)\n",
      "\n"
     ]
    },
    {
     "data": {
      "text/html": [
       "<table>\n",
       "<caption>A tibble: 4 × 5</caption>\n",
       "<thead>\n",
       "\t<tr><th scope=col>type</th><th scope=col>total_of_type</th><th scope=col>total_interactions</th><th scope=col>max_interactions</th><th scope=col>total_paid</th></tr>\n",
       "\t<tr><th scope=col>&lt;chr&gt;</th><th scope=col>&lt;int&gt;</th><th scope=col>&lt;dbl&gt;</th><th scope=col>&lt;dbl&gt;</th><th scope=col>&lt;dbl&gt;</th></tr>\n",
       "</thead>\n",
       "<tbody>\n",
       "\t<tr><td>Link  </td><td> 22</td><td> 1959</td><td> 420</td><td>  6</td></tr>\n",
       "\t<tr><td>Photo </td><td>426</td><td>92263</td><td>6334</td><td>119</td></tr>\n",
       "\t<tr><td>Status</td><td> 45</td><td> 9767</td><td>1009</td><td> 10</td></tr>\n",
       "\t<tr><td>Video </td><td>  7</td><td> 2071</td><td> 550</td><td>  4</td></tr>\n",
       "</tbody>\n",
       "</table>\n"
      ],
      "text/latex": [
       "A tibble: 4 × 5\n",
       "\\begin{tabular}{lllll}\n",
       " type & total\\_of\\_type & total\\_interactions & max\\_interactions & total\\_paid\\\\\n",
       " <chr> & <int> & <dbl> & <dbl> & <dbl>\\\\\n",
       "\\hline\n",
       "\t Link   &  22 &  1959 &  420 &   6\\\\\n",
       "\t Photo  & 426 & 92263 & 6334 & 119\\\\\n",
       "\t Status &  45 &  9767 & 1009 &  10\\\\\n",
       "\t Video  &   7 &  2071 &  550 &   4\\\\\n",
       "\\end{tabular}\n"
      ],
      "text/markdown": [
       "\n",
       "A tibble: 4 × 5\n",
       "\n",
       "| type &lt;chr&gt; | total_of_type &lt;int&gt; | total_interactions &lt;dbl&gt; | max_interactions &lt;dbl&gt; | total_paid &lt;dbl&gt; |\n",
       "|---|---|---|---|---|\n",
       "| Link   |  22 |  1959 |  420 |   6 |\n",
       "| Photo  | 426 | 92263 | 6334 | 119 |\n",
       "| Status |  45 |  9767 | 1009 |  10 |\n",
       "| Video  |   7 |  2071 |  550 |   4 |\n",
       "\n"
      ],
      "text/plain": [
       "  type   total_of_type total_interactions max_interactions total_paid\n",
       "1 Link    22            1959               420               6       \n",
       "2 Photo  426           92263              6334             119       \n",
       "3 Status  45            9767              1009              10       \n",
       "4 Video    7            2071               550               4       "
      ]
     },
     "metadata": {},
     "output_type": "display_data"
    }
   ],
   "source": [
    "summary_table1 = fb_data %>% \n",
    "    group_by(type) %>%\n",
    "    summarize(\n",
    "        total_of_type = n(),\n",
    "        total_interactions = sum(interactions),\n",
    "        max_interactions = max(interactions),\n",
    "        total_paid = sum(paid, na.rm = TRUE))\n",
    "\n",
    "summary_table1"
   ]
  },
  {
   "cell_type": "markdown",
   "metadata": {},
   "source": [
    "Table *summary_table2* groups posts by type and computes the total interactions, maximum interactions, percentage of each interaction type, and percentage of paid posts for each post type. The *likes* and *shares* columns were also found to include observations with missing data, so the *na.rm = TRUE* argument was included in each."
   ]
  },
  {
   "cell_type": "code",
   "execution_count": 105,
   "metadata": {},
   "outputs": [
    {
     "name": "stderr",
     "output_type": "stream",
     "text": [
      "`summarise()` ungrouping output (override with `.groups` argument)\n",
      "\n"
     ]
    },
    {
     "data": {
      "text/html": [
       "<table>\n",
       "<caption>A tibble: 4 × 7</caption>\n",
       "<thead>\n",
       "\t<tr><th scope=col>type</th><th scope=col>total_interactions</th><th scope=col>max_interactions</th><th scope=col>comments_interaction_percentage</th><th scope=col>likes_interaction_percentage</th><th scope=col>shares_interaction_percentage</th><th scope=col>paid_percentage</th></tr>\n",
       "\t<tr><th scope=col>&lt;chr&gt;</th><th scope=col>&lt;dbl&gt;</th><th scope=col>&lt;dbl&gt;</th><th scope=col>&lt;dbl&gt;</th><th scope=col>&lt;dbl&gt;</th><th scope=col>&lt;dbl&gt;</th><th scope=col>&lt;dbl&gt;</th></tr>\n",
       "</thead>\n",
       "<tbody>\n",
       "\t<tr><td>Link  </td><td> 1959</td><td> 420</td><td>3.164880</td><td>82.33793</td><td>14.49719</td><td>27.27273</td></tr>\n",
       "\t<tr><td>Photo </td><td>92263</td><td>6334</td><td>3.459675</td><td>84.11823</td><td>12.42210</td><td>27.93427</td></tr>\n",
       "\t<tr><td>Status</td><td> 9767</td><td>1009</td><td>4.105662</td><td>81.41702</td><td>14.47732</td><td>22.22222</td></tr>\n",
       "\t<tr><td>Video </td><td> 2071</td><td> 550</td><td>4.152583</td><td>78.22308</td><td>17.62434</td><td>57.14286</td></tr>\n",
       "</tbody>\n",
       "</table>\n"
      ],
      "text/latex": [
       "A tibble: 4 × 7\n",
       "\\begin{tabular}{lllllll}\n",
       " type & total\\_interactions & max\\_interactions & comments\\_interaction\\_percentage & likes\\_interaction\\_percentage & shares\\_interaction\\_percentage & paid\\_percentage\\\\\n",
       " <chr> & <dbl> & <dbl> & <dbl> & <dbl> & <dbl> & <dbl>\\\\\n",
       "\\hline\n",
       "\t Link   &  1959 &  420 & 3.164880 & 82.33793 & 14.49719 & 27.27273\\\\\n",
       "\t Photo  & 92263 & 6334 & 3.459675 & 84.11823 & 12.42210 & 27.93427\\\\\n",
       "\t Status &  9767 & 1009 & 4.105662 & 81.41702 & 14.47732 & 22.22222\\\\\n",
       "\t Video  &  2071 &  550 & 4.152583 & 78.22308 & 17.62434 & 57.14286\\\\\n",
       "\\end{tabular}\n"
      ],
      "text/markdown": [
       "\n",
       "A tibble: 4 × 7\n",
       "\n",
       "| type &lt;chr&gt; | total_interactions &lt;dbl&gt; | max_interactions &lt;dbl&gt; | comments_interaction_percentage &lt;dbl&gt; | likes_interaction_percentage &lt;dbl&gt; | shares_interaction_percentage &lt;dbl&gt; | paid_percentage &lt;dbl&gt; |\n",
       "|---|---|---|---|---|---|---|\n",
       "| Link   |  1959 |  420 | 3.164880 | 82.33793 | 14.49719 | 27.27273 |\n",
       "| Photo  | 92263 | 6334 | 3.459675 | 84.11823 | 12.42210 | 27.93427 |\n",
       "| Status |  9767 | 1009 | 4.105662 | 81.41702 | 14.47732 | 22.22222 |\n",
       "| Video  |  2071 |  550 | 4.152583 | 78.22308 | 17.62434 | 57.14286 |\n",
       "\n"
      ],
      "text/plain": [
       "  type   total_interactions max_interactions comments_interaction_percentage\n",
       "1 Link    1959               420             3.164880                       \n",
       "2 Photo  92263              6334             3.459675                       \n",
       "3 Status  9767              1009             4.105662                       \n",
       "4 Video   2071               550             4.152583                       \n",
       "  likes_interaction_percentage shares_interaction_percentage paid_percentage\n",
       "1 82.33793                     14.49719                      27.27273       \n",
       "2 84.11823                     12.42210                      27.93427       \n",
       "3 81.41702                     14.47732                      22.22222       \n",
       "4 78.22308                     17.62434                      57.14286       "
      ]
     },
     "metadata": {},
     "output_type": "display_data"
    }
   ],
   "source": [
    "summary_table2 = fb_data %>% \n",
    "    group_by(type) %>% \n",
    "    summarize(\n",
    "        total_interactions = sum(interactions),\n",
    "        max_interactions = max(interactions),\n",
    "        comments_interaction_percentage = (sum(comments) / sum(interactions) * 100),\n",
    "        likes_interaction_percentage = (sum(likes, na.rm = TRUE) / sum(interactions) * 100),\n",
    "        shares_interaction_percentage = (sum(shares, na.rm = TRUE) / sum(interactions) * 100),\n",
    "        paid_percentage = (sum(paid, na.rm = TRUE) / n()) * 100)     \n",
    "\n",
    "summary_table2"
   ]
  },
  {
   "cell_type": "markdown",
   "metadata": {},
   "source": [
    "\n",
    "##### Preliminary visualizations:\n",
    "\n",
    "The following bar chart is created to show the ratios of interaction types across each type of post."
   ]
  },
  {
   "cell_type": "code",
   "execution_count": 126,
   "metadata": {},
   "outputs": [
    {
     "name": "stderr",
     "output_type": "stream",
     "text": [
      "`summarise()` ungrouping output (override with `.groups` argument)\n",
      "\n"
     ]
    },
    {
     "data": {
      "image/png": "[encoded data removed]",
      "text/plain": [
       "plot without title"
      ]
     },
     "metadata": {
      "image/png": {
       "height": 420,
       "width": 420
      }
     },
     "output_type": "display_data"
    }
   ],
   "source": [
    "options(repr.plot.height = 7, repr.plot.width = 7)\n",
    "\n",
    "relative_interactions <- fb_data %>% \n",
    "    group_by(type) %>%\n",
    "    summarize(\n",
    "        comments = sum(comments),\n",
    "        likes = sum(likes, na.rm=TRUE),\n",
    "        shares = sum(shares, na.rm=TRUE),\n",
    "        total_interactions = sum(interactions)) %>% \n",
    "        pivot_longer(relative_interactions, \n",
    "                       cols = comments:shares,\n",
    "                       names_to = \"interaction_type\",\n",
    "                       values_to = \"total_of_interaction_type\")\n",
    "\n",
    "relative_interactions_plot <- ggplot(relative_interactions, aes(x = type, y = total_of_interaction_type, fill = interaction_type)) + \n",
    "        geom_bar(stat = \"identity\", position = \"fill\") + \n",
    "        xlab(\"Post type\") +\n",
    "        ylab(\"Proportion of interactions\") +\n",
    "        labs(fill = \"Interaction type\") +\n",
    "        theme(text = element_text(size = 16))\n",
    "  \n",
    "\n",
    "relative_interactions_plot"
   ]
  },
  {
   "cell_type": "markdown",
   "metadata": {},
   "source": [
    "#### Methods:\n",
    "\n",
    "Our analysis will use the following input columns of the original dataset: *Page total likes*, *Type*, *Category*, *Paid*, *comment*, *like*, *share*, and *Total Interactions*. Our aim is to use the K-nearest neighbours algorithm to generate a classification model which will classify a post by type (photo, status, link, or video). This will involve analyzing the key engagement metrics (comments, likes, and shares) and comparing their ratios of total interactions to examine how differences in engagement can be used to classify a post’s type. We will be using ratios instead of the raw values because the raw values are a measure of the popularity of the page, and not characteristics of the post type. This will normalize the data, allowing for the model to be effective in classifying posts for any page size. \n",
    "\n",
    "To visualize our results, we plan to use a confusion matrix. This will display how often our classification model labels a post correctly, and how often each label gets confused with another. We will also use bar charts to visualize relevant and intermediate results; e.g., we will create a bar chart with post type on the x-axis and interactions on the y-axis, filling out the bars with proportional values of the type of each interaction. As part of the tuning step of creating the model, we can create a line chart to show us the optimal K value. "
   ]
  },
  {
   "cell_type": "markdown",
   "metadata": {},
   "source": [
    "#### Expected outcomes and significance:\n",
    "\n",
    "This analysis hopes to define a relationship between type of post (i.e., photo, status, link, or video) and ratio of the corresponding post’s interaction type. It is expected that videos and photos, for example, may have higher percentages of interactions that are comments and/or likes when compared to a link or status.\n",
    "\n",
    "This classification application for labeling a post’s type could be helpful in identifying the types of reactions that a post might receive. It is possible that we find images get the most likes, while statuses get the most comments. Knowing how these metrics indicate the type could lead to better targeted ad campaigns that look for a certain type of user engagement.\n",
    "\n",
    "Future questions following from this analysis may include:\n",
    "- Do paid posts generate more traffic than unpaid posts?\n",
    "- Does the category of a post (i.e., “action”, “product”, or “inspiration” classification) affect the overall and/or ratio of interactions on a post?\n",
    "- Do posts with more interactions overall correlate with increases in users liking a company’s Facebook page? \n",
    "\n",
    "In examining the data for classification, it is also expected that trends may emerge which could in the future be used to predict post engagement. This predictive knowledge could be used by companies looking to grow their social media reach, as they may more accurately tailor their posts to yield higher engagement before publishing."
   ]
  }
 ],
 "metadata": {
  "kernelspec": {
   "display_name": "R",
   "language": "R",
   "name": "ir"
  },
  "language_info": {
   "codemirror_mode": "r",
   "file_extension": ".r",
   "mimetype": "text/x-r-source",
   "name": "R",
   "pygments_lexer": "r",
   "version": "4.0.0"
  }
 },
 "nbformat": 4,
 "nbformat_minor": 4
}
